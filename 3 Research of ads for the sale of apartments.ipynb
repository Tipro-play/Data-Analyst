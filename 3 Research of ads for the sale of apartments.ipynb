{
 "cells": [
  {
   "cell_type": "markdown",
   "metadata": {
    "toc": true
   },
   "source": [
    "<h1>Содержание<span class=\"tocSkip\"></span></h1>\n",
    "<div class=\"toc\"><ul class=\"toc-item\"><li><span><a href=\"#Изучение-данных-из-файла\" data-toc-modified-id=\"Изучение-данных-из-файла-1\"><span class=\"toc-item-num\">1&nbsp;&nbsp;</span>Изучение данных из файла</a></span><ul class=\"toc-item\"><li><span><a href=\"#Вывод\" data-toc-modified-id=\"Вывод-1.1\"><span class=\"toc-item-num\">1.1&nbsp;&nbsp;</span>Вывод</a></span></li></ul></li><li><span><a href=\"#Предобработка-данных\" data-toc-modified-id=\"Предобработка-данных-2\"><span class=\"toc-item-num\">2&nbsp;&nbsp;</span>Предобработка данных</a></span></li><li><span><a href=\"#Расчёты-и-добавление-результатов-в-таблицу\" data-toc-modified-id=\"Расчёты-и-добавление-результатов-в-таблицу-3\"><span class=\"toc-item-num\">3&nbsp;&nbsp;</span>Расчёты и добавление результатов в таблицу</a></span></li><li><span><a href=\"#Исследовательский-анализ-данных\" data-toc-modified-id=\"Исследовательский-анализ-данных-4\"><span class=\"toc-item-num\">4&nbsp;&nbsp;</span>Исследовательский анализ данных</a></span></li><li><span><a href=\"#Общий-вывод\" data-toc-modified-id=\"Общий-вывод-5\"><span class=\"toc-item-num\">5&nbsp;&nbsp;</span>Общий вывод</a></span></li><li><span><a href=\"#Чек-лист-готовности-проекта\" data-toc-modified-id=\"Чек-лист-готовности-проекта-6\"><span class=\"toc-item-num\">6&nbsp;&nbsp;</span>Чек-лист готовности проекта</a></span></li></ul></div>"
   ]
  },
  {
   "cell_type": "markdown",
   "metadata": {},
   "source": [
    "# Исследование объявлений о продаже квартир\n",
    "\n",
    "В вашем распоряжении данные сервиса Яндекc Недвижимость — архив объявлений о продаже квартир в Санкт-Петербурге и соседних населённых пунктах за несколько лет. Нужно научиться определять рыночную стоимость объектов недвижимости. Ваша задача — установить параметры. Это позволит построить автоматизированную систему: она отследит аномалии и мошенническую деятельность. \n",
    "\n",
    "По каждой квартире на продажу доступны два вида данных. Первые вписаны пользователем, вторые получены автоматически на основе картографических данных. Например, расстояние до центра, аэропорта, ближайшего парка и водоёма. "
   ]
  },
  {
   "cell_type": "markdown",
   "metadata": {},
   "source": [
    "## Изучение данных из файла"
   ]
  },
  {
   "cell_type": "code",
   "execution_count": 1,
   "metadata": {},
   "outputs": [],
   "source": [
    "import pandas as pd\n",
    "import seaborn"
   ]
  },
  {
   "cell_type": "code",
   "execution_count": 2,
   "metadata": {},
   "outputs": [],
   "source": [
    "data = pd.read_csv('/datasets/real_estate_data.csv', sep='\\t') #в файле использовался не стандартный разделитель"
   ]
  },
  {
   "cell_type": "code",
   "execution_count": 3,
   "metadata": {
    "scrolled": false
   },
   "outputs": [
    {
     "data": {
      "text/html": [
       "<div>\n",
       "<style scoped>\n",
       "    .dataframe tbody tr th:only-of-type {\n",
       "        vertical-align: middle;\n",
       "    }\n",
       "\n",
       "    .dataframe tbody tr th {\n",
       "        vertical-align: top;\n",
       "    }\n",
       "\n",
       "    .dataframe thead th {\n",
       "        text-align: right;\n",
       "    }\n",
       "</style>\n",
       "<table border=\"1\" class=\"dataframe\">\n",
       "  <thead>\n",
       "    <tr style=\"text-align: right;\">\n",
       "      <th></th>\n",
       "      <th>total_images</th>\n",
       "      <th>last_price</th>\n",
       "      <th>total_area</th>\n",
       "      <th>first_day_exposition</th>\n",
       "      <th>rooms</th>\n",
       "      <th>ceiling_height</th>\n",
       "      <th>floors_total</th>\n",
       "      <th>living_area</th>\n",
       "      <th>floor</th>\n",
       "      <th>is_apartment</th>\n",
       "      <th>...</th>\n",
       "      <th>kitchen_area</th>\n",
       "      <th>balcony</th>\n",
       "      <th>locality_name</th>\n",
       "      <th>airports_nearest</th>\n",
       "      <th>cityCenters_nearest</th>\n",
       "      <th>parks_around3000</th>\n",
       "      <th>parks_nearest</th>\n",
       "      <th>ponds_around3000</th>\n",
       "      <th>ponds_nearest</th>\n",
       "      <th>days_exposition</th>\n",
       "    </tr>\n",
       "  </thead>\n",
       "  <tbody>\n",
       "    <tr>\n",
       "      <td>0</td>\n",
       "      <td>20</td>\n",
       "      <td>13000000.0</td>\n",
       "      <td>108.00</td>\n",
       "      <td>2019-03-07T00:00:00</td>\n",
       "      <td>3</td>\n",
       "      <td>2.70</td>\n",
       "      <td>16.0</td>\n",
       "      <td>51.00</td>\n",
       "      <td>8</td>\n",
       "      <td>NaN</td>\n",
       "      <td>...</td>\n",
       "      <td>25.00</td>\n",
       "      <td>NaN</td>\n",
       "      <td>Санкт-Петербург</td>\n",
       "      <td>18863.0</td>\n",
       "      <td>16028.0</td>\n",
       "      <td>1.0</td>\n",
       "      <td>482.0</td>\n",
       "      <td>2.0</td>\n",
       "      <td>755.0</td>\n",
       "      <td>NaN</td>\n",
       "    </tr>\n",
       "    <tr>\n",
       "      <td>1</td>\n",
       "      <td>7</td>\n",
       "      <td>3350000.0</td>\n",
       "      <td>40.40</td>\n",
       "      <td>2018-12-04T00:00:00</td>\n",
       "      <td>1</td>\n",
       "      <td>NaN</td>\n",
       "      <td>11.0</td>\n",
       "      <td>18.60</td>\n",
       "      <td>1</td>\n",
       "      <td>NaN</td>\n",
       "      <td>...</td>\n",
       "      <td>11.00</td>\n",
       "      <td>2.0</td>\n",
       "      <td>посёлок Шушары</td>\n",
       "      <td>12817.0</td>\n",
       "      <td>18603.0</td>\n",
       "      <td>0.0</td>\n",
       "      <td>NaN</td>\n",
       "      <td>0.0</td>\n",
       "      <td>NaN</td>\n",
       "      <td>81.0</td>\n",
       "    </tr>\n",
       "    <tr>\n",
       "      <td>2</td>\n",
       "      <td>10</td>\n",
       "      <td>5196000.0</td>\n",
       "      <td>56.00</td>\n",
       "      <td>2015-08-20T00:00:00</td>\n",
       "      <td>2</td>\n",
       "      <td>NaN</td>\n",
       "      <td>5.0</td>\n",
       "      <td>34.30</td>\n",
       "      <td>4</td>\n",
       "      <td>NaN</td>\n",
       "      <td>...</td>\n",
       "      <td>8.30</td>\n",
       "      <td>0.0</td>\n",
       "      <td>Санкт-Петербург</td>\n",
       "      <td>21741.0</td>\n",
       "      <td>13933.0</td>\n",
       "      <td>1.0</td>\n",
       "      <td>90.0</td>\n",
       "      <td>2.0</td>\n",
       "      <td>574.0</td>\n",
       "      <td>558.0</td>\n",
       "    </tr>\n",
       "    <tr>\n",
       "      <td>3</td>\n",
       "      <td>0</td>\n",
       "      <td>64900000.0</td>\n",
       "      <td>159.00</td>\n",
       "      <td>2015-07-24T00:00:00</td>\n",
       "      <td>3</td>\n",
       "      <td>NaN</td>\n",
       "      <td>14.0</td>\n",
       "      <td>NaN</td>\n",
       "      <td>9</td>\n",
       "      <td>NaN</td>\n",
       "      <td>...</td>\n",
       "      <td>NaN</td>\n",
       "      <td>0.0</td>\n",
       "      <td>Санкт-Петербург</td>\n",
       "      <td>28098.0</td>\n",
       "      <td>6800.0</td>\n",
       "      <td>2.0</td>\n",
       "      <td>84.0</td>\n",
       "      <td>3.0</td>\n",
       "      <td>234.0</td>\n",
       "      <td>424.0</td>\n",
       "    </tr>\n",
       "    <tr>\n",
       "      <td>4</td>\n",
       "      <td>2</td>\n",
       "      <td>10000000.0</td>\n",
       "      <td>100.00</td>\n",
       "      <td>2018-06-19T00:00:00</td>\n",
       "      <td>2</td>\n",
       "      <td>3.03</td>\n",
       "      <td>14.0</td>\n",
       "      <td>32.00</td>\n",
       "      <td>13</td>\n",
       "      <td>NaN</td>\n",
       "      <td>...</td>\n",
       "      <td>41.00</td>\n",
       "      <td>NaN</td>\n",
       "      <td>Санкт-Петербург</td>\n",
       "      <td>31856.0</td>\n",
       "      <td>8098.0</td>\n",
       "      <td>2.0</td>\n",
       "      <td>112.0</td>\n",
       "      <td>1.0</td>\n",
       "      <td>48.0</td>\n",
       "      <td>121.0</td>\n",
       "    </tr>\n",
       "    <tr>\n",
       "      <td>5</td>\n",
       "      <td>10</td>\n",
       "      <td>2890000.0</td>\n",
       "      <td>30.40</td>\n",
       "      <td>2018-09-10T00:00:00</td>\n",
       "      <td>1</td>\n",
       "      <td>NaN</td>\n",
       "      <td>12.0</td>\n",
       "      <td>14.40</td>\n",
       "      <td>5</td>\n",
       "      <td>NaN</td>\n",
       "      <td>...</td>\n",
       "      <td>9.10</td>\n",
       "      <td>NaN</td>\n",
       "      <td>городской посёлок Янино-1</td>\n",
       "      <td>NaN</td>\n",
       "      <td>NaN</td>\n",
       "      <td>NaN</td>\n",
       "      <td>NaN</td>\n",
       "      <td>NaN</td>\n",
       "      <td>NaN</td>\n",
       "      <td>55.0</td>\n",
       "    </tr>\n",
       "    <tr>\n",
       "      <td>6</td>\n",
       "      <td>6</td>\n",
       "      <td>3700000.0</td>\n",
       "      <td>37.30</td>\n",
       "      <td>2017-11-02T00:00:00</td>\n",
       "      <td>1</td>\n",
       "      <td>NaN</td>\n",
       "      <td>26.0</td>\n",
       "      <td>10.60</td>\n",
       "      <td>6</td>\n",
       "      <td>NaN</td>\n",
       "      <td>...</td>\n",
       "      <td>14.40</td>\n",
       "      <td>1.0</td>\n",
       "      <td>посёлок Парголово</td>\n",
       "      <td>52996.0</td>\n",
       "      <td>19143.0</td>\n",
       "      <td>0.0</td>\n",
       "      <td>NaN</td>\n",
       "      <td>0.0</td>\n",
       "      <td>NaN</td>\n",
       "      <td>155.0</td>\n",
       "    </tr>\n",
       "    <tr>\n",
       "      <td>7</td>\n",
       "      <td>5</td>\n",
       "      <td>7915000.0</td>\n",
       "      <td>71.60</td>\n",
       "      <td>2019-04-18T00:00:00</td>\n",
       "      <td>2</td>\n",
       "      <td>NaN</td>\n",
       "      <td>24.0</td>\n",
       "      <td>NaN</td>\n",
       "      <td>22</td>\n",
       "      <td>NaN</td>\n",
       "      <td>...</td>\n",
       "      <td>18.90</td>\n",
       "      <td>2.0</td>\n",
       "      <td>Санкт-Петербург</td>\n",
       "      <td>23982.0</td>\n",
       "      <td>11634.0</td>\n",
       "      <td>0.0</td>\n",
       "      <td>NaN</td>\n",
       "      <td>0.0</td>\n",
       "      <td>NaN</td>\n",
       "      <td>NaN</td>\n",
       "    </tr>\n",
       "    <tr>\n",
       "      <td>8</td>\n",
       "      <td>20</td>\n",
       "      <td>2900000.0</td>\n",
       "      <td>33.16</td>\n",
       "      <td>2018-05-23T00:00:00</td>\n",
       "      <td>1</td>\n",
       "      <td>NaN</td>\n",
       "      <td>27.0</td>\n",
       "      <td>15.43</td>\n",
       "      <td>26</td>\n",
       "      <td>NaN</td>\n",
       "      <td>...</td>\n",
       "      <td>8.81</td>\n",
       "      <td>NaN</td>\n",
       "      <td>посёлок Мурино</td>\n",
       "      <td>NaN</td>\n",
       "      <td>NaN</td>\n",
       "      <td>NaN</td>\n",
       "      <td>NaN</td>\n",
       "      <td>NaN</td>\n",
       "      <td>NaN</td>\n",
       "      <td>189.0</td>\n",
       "    </tr>\n",
       "    <tr>\n",
       "      <td>9</td>\n",
       "      <td>18</td>\n",
       "      <td>5400000.0</td>\n",
       "      <td>61.00</td>\n",
       "      <td>2017-02-26T00:00:00</td>\n",
       "      <td>3</td>\n",
       "      <td>2.50</td>\n",
       "      <td>9.0</td>\n",
       "      <td>43.60</td>\n",
       "      <td>7</td>\n",
       "      <td>NaN</td>\n",
       "      <td>...</td>\n",
       "      <td>6.50</td>\n",
       "      <td>2.0</td>\n",
       "      <td>Санкт-Петербург</td>\n",
       "      <td>50898.0</td>\n",
       "      <td>15008.0</td>\n",
       "      <td>0.0</td>\n",
       "      <td>NaN</td>\n",
       "      <td>0.0</td>\n",
       "      <td>NaN</td>\n",
       "      <td>289.0</td>\n",
       "    </tr>\n",
       "  </tbody>\n",
       "</table>\n",
       "<p>10 rows × 22 columns</p>\n",
       "</div>"
      ],
      "text/plain": [
       "   total_images  last_price  total_area first_day_exposition  rooms  \\\n",
       "0            20  13000000.0      108.00  2019-03-07T00:00:00      3   \n",
       "1             7   3350000.0       40.40  2018-12-04T00:00:00      1   \n",
       "2            10   5196000.0       56.00  2015-08-20T00:00:00      2   \n",
       "3             0  64900000.0      159.00  2015-07-24T00:00:00      3   \n",
       "4             2  10000000.0      100.00  2018-06-19T00:00:00      2   \n",
       "5            10   2890000.0       30.40  2018-09-10T00:00:00      1   \n",
       "6             6   3700000.0       37.30  2017-11-02T00:00:00      1   \n",
       "7             5   7915000.0       71.60  2019-04-18T00:00:00      2   \n",
       "8            20   2900000.0       33.16  2018-05-23T00:00:00      1   \n",
       "9            18   5400000.0       61.00  2017-02-26T00:00:00      3   \n",
       "\n",
       "   ceiling_height  floors_total  living_area  floor is_apartment  ...  \\\n",
       "0            2.70          16.0        51.00      8          NaN  ...   \n",
       "1             NaN          11.0        18.60      1          NaN  ...   \n",
       "2             NaN           5.0        34.30      4          NaN  ...   \n",
       "3             NaN          14.0          NaN      9          NaN  ...   \n",
       "4            3.03          14.0        32.00     13          NaN  ...   \n",
       "5             NaN          12.0        14.40      5          NaN  ...   \n",
       "6             NaN          26.0        10.60      6          NaN  ...   \n",
       "7             NaN          24.0          NaN     22          NaN  ...   \n",
       "8             NaN          27.0        15.43     26          NaN  ...   \n",
       "9            2.50           9.0        43.60      7          NaN  ...   \n",
       "\n",
       "   kitchen_area  balcony              locality_name  airports_nearest  \\\n",
       "0         25.00      NaN            Санкт-Петербург           18863.0   \n",
       "1         11.00      2.0             посёлок Шушары           12817.0   \n",
       "2          8.30      0.0            Санкт-Петербург           21741.0   \n",
       "3           NaN      0.0            Санкт-Петербург           28098.0   \n",
       "4         41.00      NaN            Санкт-Петербург           31856.0   \n",
       "5          9.10      NaN  городской посёлок Янино-1               NaN   \n",
       "6         14.40      1.0          посёлок Парголово           52996.0   \n",
       "7         18.90      2.0            Санкт-Петербург           23982.0   \n",
       "8          8.81      NaN             посёлок Мурино               NaN   \n",
       "9          6.50      2.0            Санкт-Петербург           50898.0   \n",
       "\n",
       "  cityCenters_nearest  parks_around3000  parks_nearest  ponds_around3000  \\\n",
       "0             16028.0               1.0          482.0               2.0   \n",
       "1             18603.0               0.0            NaN               0.0   \n",
       "2             13933.0               1.0           90.0               2.0   \n",
       "3              6800.0               2.0           84.0               3.0   \n",
       "4              8098.0               2.0          112.0               1.0   \n",
       "5                 NaN               NaN            NaN               NaN   \n",
       "6             19143.0               0.0            NaN               0.0   \n",
       "7             11634.0               0.0            NaN               0.0   \n",
       "8                 NaN               NaN            NaN               NaN   \n",
       "9             15008.0               0.0            NaN               0.0   \n",
       "\n",
       "   ponds_nearest  days_exposition  \n",
       "0          755.0              NaN  \n",
       "1            NaN             81.0  \n",
       "2          574.0            558.0  \n",
       "3          234.0            424.0  \n",
       "4           48.0            121.0  \n",
       "5            NaN             55.0  \n",
       "6            NaN            155.0  \n",
       "7            NaN              NaN  \n",
       "8            NaN            189.0  \n",
       "9            NaN            289.0  \n",
       "\n",
       "[10 rows x 22 columns]"
      ]
     },
     "execution_count": 3,
     "metadata": {},
     "output_type": "execute_result"
    }
   ],
   "source": [
    "data.head(10)"
   ]
  },
  {
   "cell_type": "code",
   "execution_count": 4,
   "metadata": {
    "scrolled": false
   },
   "outputs": [
    {
     "name": "stdout",
     "output_type": "stream",
     "text": [
      "<class 'pandas.core.frame.DataFrame'>\n",
      "RangeIndex: 23699 entries, 0 to 23698\n",
      "Data columns (total 22 columns):\n",
      "total_images            23699 non-null int64\n",
      "last_price              23699 non-null float64\n",
      "total_area              23699 non-null float64\n",
      "first_day_exposition    23699 non-null object\n",
      "rooms                   23699 non-null int64\n",
      "ceiling_height          14504 non-null float64\n",
      "floors_total            23613 non-null float64\n",
      "living_area             21796 non-null float64\n",
      "floor                   23699 non-null int64\n",
      "is_apartment            2775 non-null object\n",
      "studio                  23699 non-null bool\n",
      "open_plan               23699 non-null bool\n",
      "kitchen_area            21421 non-null float64\n",
      "balcony                 12180 non-null float64\n",
      "locality_name           23650 non-null object\n",
      "airports_nearest        18157 non-null float64\n",
      "cityCenters_nearest     18180 non-null float64\n",
      "parks_around3000        18181 non-null float64\n",
      "parks_nearest           8079 non-null float64\n",
      "ponds_around3000        18181 non-null float64\n",
      "ponds_nearest           9110 non-null float64\n",
      "days_exposition         20518 non-null float64\n",
      "dtypes: bool(2), float64(14), int64(3), object(3)\n",
      "memory usage: 3.7+ MB\n"
     ]
    }
   ],
   "source": [
    "data.info()"
   ]
  },
  {
   "cell_type": "code",
   "execution_count": 5,
   "metadata": {},
   "outputs": [
    {
     "data": {
      "text/plain": [
       "total_images            0.000\n",
       "last_price              0.000\n",
       "total_area              0.000\n",
       "first_day_exposition    0.000\n",
       "rooms                   0.000\n",
       "ceiling_height          0.388\n",
       "floors_total            0.004\n",
       "living_area             0.080\n",
       "floor                   0.000\n",
       "is_apartment            0.883\n",
       "studio                  0.000\n",
       "open_plan               0.000\n",
       "kitchen_area            0.096\n",
       "balcony                 0.486\n",
       "locality_name           0.002\n",
       "airports_nearest        0.234\n",
       "cityCenters_nearest     0.233\n",
       "parks_around3000        0.233\n",
       "parks_nearest           0.659\n",
       "ponds_around3000        0.233\n",
       "ponds_nearest           0.616\n",
       "days_exposition         0.134\n",
       "dtype: float64"
      ]
     },
     "execution_count": 5,
     "metadata": {},
     "output_type": "execute_result"
    }
   ],
   "source": [
    "data.isna().mean().round(3)"
   ]
  },
  {
   "cell_type": "markdown",
   "metadata": {},
   "source": [
    "Как можно заметить, в некоторых столбцах имеется достаточно большое количество пропущенных значений, особенно в столбце \"is_apartment\", в котором доля пропусков около 90%.\n",
    "\n",
    "Пропуски в столбцах \"parks_around3000\", \"parks_nearest\", \"ponds_around3000\", \"ponds_nearest\" необязательно учитывать и исправлять, в связи с их ненадобностью.\n",
    "\n",
    "Пропуски в столбце \"ceiling_height\" необходимо рассмотреть подробнее , ведь этот параметр очень важен в объявлении. \n",
    "\n",
    "Причина пропусков в столбце \"balcony\" предположительно связана с отсутствием балконов. \n",
    "\n",
    "Столбец \"days_exposition\" имеет некоторые пропуски, предполагаю, что эти пропуски обусловлены тем, что объявление еще действует(не снято).\n",
    "\n",
    "К пропускам столбцов \"kitchen_area\" и \"living_area\" потребуется присмотреться, т.к. параметр важный.\n",
    "\n",
    "<b>Этажность дома не указана только в 86 строках, доля мала и ей можно будет пренебречь, тк пропущенных данных в них много</b>\n",
    "\n",
    "В 49 строчках отсутствует название населенного пункта, количество малое, но параметр важный."
   ]
  },
  {
   "cell_type": "code",
   "execution_count": 6,
   "metadata": {
    "scrolled": false
   },
   "outputs": [
    {
     "data": {
      "text/html": [
       "<div>\n",
       "<style scoped>\n",
       "    .dataframe tbody tr th:only-of-type {\n",
       "        vertical-align: middle;\n",
       "    }\n",
       "\n",
       "    .dataframe tbody tr th {\n",
       "        vertical-align: top;\n",
       "    }\n",
       "\n",
       "    .dataframe thead th {\n",
       "        text-align: right;\n",
       "    }\n",
       "</style>\n",
       "<table border=\"1\" class=\"dataframe\">\n",
       "  <thead>\n",
       "    <tr style=\"text-align: right;\">\n",
       "      <th></th>\n",
       "      <th>total_images</th>\n",
       "      <th>last_price</th>\n",
       "      <th>total_area</th>\n",
       "      <th>rooms</th>\n",
       "      <th>ceiling_height</th>\n",
       "      <th>floors_total</th>\n",
       "      <th>living_area</th>\n",
       "      <th>floor</th>\n",
       "      <th>kitchen_area</th>\n",
       "      <th>balcony</th>\n",
       "      <th>airports_nearest</th>\n",
       "      <th>cityCenters_nearest</th>\n",
       "      <th>parks_around3000</th>\n",
       "      <th>parks_nearest</th>\n",
       "      <th>ponds_around3000</th>\n",
       "      <th>ponds_nearest</th>\n",
       "      <th>days_exposition</th>\n",
       "    </tr>\n",
       "  </thead>\n",
       "  <tbody>\n",
       "    <tr>\n",
       "      <td>count</td>\n",
       "      <td>23699.000000</td>\n",
       "      <td>2.369900e+04</td>\n",
       "      <td>23699.000000</td>\n",
       "      <td>23699.000000</td>\n",
       "      <td>14504.000000</td>\n",
       "      <td>23613.000000</td>\n",
       "      <td>21796.000000</td>\n",
       "      <td>23699.000000</td>\n",
       "      <td>21421.000000</td>\n",
       "      <td>12180.000000</td>\n",
       "      <td>18157.000000</td>\n",
       "      <td>18180.000000</td>\n",
       "      <td>18181.000000</td>\n",
       "      <td>8079.000000</td>\n",
       "      <td>18181.000000</td>\n",
       "      <td>9110.000000</td>\n",
       "      <td>20518.000000</td>\n",
       "    </tr>\n",
       "    <tr>\n",
       "      <td>mean</td>\n",
       "      <td>9.858475</td>\n",
       "      <td>6.541549e+06</td>\n",
       "      <td>60.348651</td>\n",
       "      <td>2.070636</td>\n",
       "      <td>2.771499</td>\n",
       "      <td>10.673824</td>\n",
       "      <td>34.457852</td>\n",
       "      <td>5.892358</td>\n",
       "      <td>10.569807</td>\n",
       "      <td>1.150082</td>\n",
       "      <td>28793.672193</td>\n",
       "      <td>14191.277833</td>\n",
       "      <td>0.611408</td>\n",
       "      <td>490.804555</td>\n",
       "      <td>0.770255</td>\n",
       "      <td>517.980900</td>\n",
       "      <td>180.888634</td>\n",
       "    </tr>\n",
       "    <tr>\n",
       "      <td>std</td>\n",
       "      <td>5.682529</td>\n",
       "      <td>1.088701e+07</td>\n",
       "      <td>35.654083</td>\n",
       "      <td>1.078405</td>\n",
       "      <td>1.261056</td>\n",
       "      <td>6.597173</td>\n",
       "      <td>22.030445</td>\n",
       "      <td>4.885249</td>\n",
       "      <td>5.905438</td>\n",
       "      <td>1.071300</td>\n",
       "      <td>12630.880622</td>\n",
       "      <td>8608.386210</td>\n",
       "      <td>0.802074</td>\n",
       "      <td>342.317995</td>\n",
       "      <td>0.938346</td>\n",
       "      <td>277.720643</td>\n",
       "      <td>219.727988</td>\n",
       "    </tr>\n",
       "    <tr>\n",
       "      <td>min</td>\n",
       "      <td>0.000000</td>\n",
       "      <td>1.219000e+04</td>\n",
       "      <td>12.000000</td>\n",
       "      <td>0.000000</td>\n",
       "      <td>1.000000</td>\n",
       "      <td>1.000000</td>\n",
       "      <td>2.000000</td>\n",
       "      <td>1.000000</td>\n",
       "      <td>1.300000</td>\n",
       "      <td>0.000000</td>\n",
       "      <td>0.000000</td>\n",
       "      <td>181.000000</td>\n",
       "      <td>0.000000</td>\n",
       "      <td>1.000000</td>\n",
       "      <td>0.000000</td>\n",
       "      <td>13.000000</td>\n",
       "      <td>1.000000</td>\n",
       "    </tr>\n",
       "    <tr>\n",
       "      <td>25%</td>\n",
       "      <td>6.000000</td>\n",
       "      <td>3.400000e+06</td>\n",
       "      <td>40.000000</td>\n",
       "      <td>1.000000</td>\n",
       "      <td>2.520000</td>\n",
       "      <td>5.000000</td>\n",
       "      <td>18.600000</td>\n",
       "      <td>2.000000</td>\n",
       "      <td>7.000000</td>\n",
       "      <td>0.000000</td>\n",
       "      <td>18585.000000</td>\n",
       "      <td>9238.000000</td>\n",
       "      <td>0.000000</td>\n",
       "      <td>288.000000</td>\n",
       "      <td>0.000000</td>\n",
       "      <td>294.000000</td>\n",
       "      <td>45.000000</td>\n",
       "    </tr>\n",
       "    <tr>\n",
       "      <td>50%</td>\n",
       "      <td>9.000000</td>\n",
       "      <td>4.650000e+06</td>\n",
       "      <td>52.000000</td>\n",
       "      <td>2.000000</td>\n",
       "      <td>2.650000</td>\n",
       "      <td>9.000000</td>\n",
       "      <td>30.000000</td>\n",
       "      <td>4.000000</td>\n",
       "      <td>9.100000</td>\n",
       "      <td>1.000000</td>\n",
       "      <td>26726.000000</td>\n",
       "      <td>13098.500000</td>\n",
       "      <td>0.000000</td>\n",
       "      <td>455.000000</td>\n",
       "      <td>1.000000</td>\n",
       "      <td>502.000000</td>\n",
       "      <td>95.000000</td>\n",
       "    </tr>\n",
       "    <tr>\n",
       "      <td>75%</td>\n",
       "      <td>14.000000</td>\n",
       "      <td>6.800000e+06</td>\n",
       "      <td>69.900000</td>\n",
       "      <td>3.000000</td>\n",
       "      <td>2.800000</td>\n",
       "      <td>16.000000</td>\n",
       "      <td>42.300000</td>\n",
       "      <td>8.000000</td>\n",
       "      <td>12.000000</td>\n",
       "      <td>2.000000</td>\n",
       "      <td>37273.000000</td>\n",
       "      <td>16293.000000</td>\n",
       "      <td>1.000000</td>\n",
       "      <td>612.000000</td>\n",
       "      <td>1.000000</td>\n",
       "      <td>729.000000</td>\n",
       "      <td>232.000000</td>\n",
       "    </tr>\n",
       "    <tr>\n",
       "      <td>max</td>\n",
       "      <td>50.000000</td>\n",
       "      <td>7.630000e+08</td>\n",
       "      <td>900.000000</td>\n",
       "      <td>19.000000</td>\n",
       "      <td>100.000000</td>\n",
       "      <td>60.000000</td>\n",
       "      <td>409.700000</td>\n",
       "      <td>33.000000</td>\n",
       "      <td>112.000000</td>\n",
       "      <td>5.000000</td>\n",
       "      <td>84869.000000</td>\n",
       "      <td>65968.000000</td>\n",
       "      <td>3.000000</td>\n",
       "      <td>3190.000000</td>\n",
       "      <td>3.000000</td>\n",
       "      <td>1344.000000</td>\n",
       "      <td>1580.000000</td>\n",
       "    </tr>\n",
       "  </tbody>\n",
       "</table>\n",
       "</div>"
      ],
      "text/plain": [
       "       total_images    last_price    total_area         rooms  ceiling_height  \\\n",
       "count  23699.000000  2.369900e+04  23699.000000  23699.000000    14504.000000   \n",
       "mean       9.858475  6.541549e+06     60.348651      2.070636        2.771499   \n",
       "std        5.682529  1.088701e+07     35.654083      1.078405        1.261056   \n",
       "min        0.000000  1.219000e+04     12.000000      0.000000        1.000000   \n",
       "25%        6.000000  3.400000e+06     40.000000      1.000000        2.520000   \n",
       "50%        9.000000  4.650000e+06     52.000000      2.000000        2.650000   \n",
       "75%       14.000000  6.800000e+06     69.900000      3.000000        2.800000   \n",
       "max       50.000000  7.630000e+08    900.000000     19.000000      100.000000   \n",
       "\n",
       "       floors_total   living_area         floor  kitchen_area       balcony  \\\n",
       "count  23613.000000  21796.000000  23699.000000  21421.000000  12180.000000   \n",
       "mean      10.673824     34.457852      5.892358     10.569807      1.150082   \n",
       "std        6.597173     22.030445      4.885249      5.905438      1.071300   \n",
       "min        1.000000      2.000000      1.000000      1.300000      0.000000   \n",
       "25%        5.000000     18.600000      2.000000      7.000000      0.000000   \n",
       "50%        9.000000     30.000000      4.000000      9.100000      1.000000   \n",
       "75%       16.000000     42.300000      8.000000     12.000000      2.000000   \n",
       "max       60.000000    409.700000     33.000000    112.000000      5.000000   \n",
       "\n",
       "       airports_nearest  cityCenters_nearest  parks_around3000  parks_nearest  \\\n",
       "count      18157.000000         18180.000000      18181.000000    8079.000000   \n",
       "mean       28793.672193         14191.277833          0.611408     490.804555   \n",
       "std        12630.880622          8608.386210          0.802074     342.317995   \n",
       "min            0.000000           181.000000          0.000000       1.000000   \n",
       "25%        18585.000000          9238.000000          0.000000     288.000000   \n",
       "50%        26726.000000         13098.500000          0.000000     455.000000   \n",
       "75%        37273.000000         16293.000000          1.000000     612.000000   \n",
       "max        84869.000000         65968.000000          3.000000    3190.000000   \n",
       "\n",
       "       ponds_around3000  ponds_nearest  days_exposition  \n",
       "count      18181.000000    9110.000000     20518.000000  \n",
       "mean           0.770255     517.980900       180.888634  \n",
       "std            0.938346     277.720643       219.727988  \n",
       "min            0.000000      13.000000         1.000000  \n",
       "25%            0.000000     294.000000        45.000000  \n",
       "50%            1.000000     502.000000        95.000000  \n",
       "75%            1.000000     729.000000       232.000000  \n",
       "max            3.000000    1344.000000      1580.000000  "
      ]
     },
     "execution_count": 6,
     "metadata": {},
     "output_type": "execute_result"
    }
   ],
   "source": [
    "data.describe()"
   ]
  },
  {
   "cell_type": "code",
   "execution_count": 7,
   "metadata": {
    "scrolled": false
   },
   "outputs": [
    {
     "name": "stdout",
     "output_type": "stream",
     "text": [
      "10    1798\n",
      "9     1725\n",
      "20    1694\n",
      "8     1585\n",
      "7     1521\n",
      "6     1482\n",
      "11    1362\n",
      "5     1301\n",
      "12    1225\n",
      "0     1059\n",
      "13    1015\n",
      "14     986\n",
      "4      986\n",
      "15     948\n",
      "1      872\n",
      "3      769\n",
      "16     761\n",
      "17     650\n",
      "18     642\n",
      "2      640\n",
      "19     603\n",
      "23      16\n",
      "21      12\n",
      "24       8\n",
      "22       8\n",
      "26       5\n",
      "28       4\n",
      "32       4\n",
      "50       3\n",
      "29       3\n",
      "31       2\n",
      "35       2\n",
      "30       2\n",
      "27       2\n",
      "37       1\n",
      "39       1\n",
      "25       1\n",
      "42       1\n",
      "Name: total_images, dtype: int64\n",
      "\n",
      "4500000.0     342\n",
      "3500000.0     291\n",
      "4000000.0     260\n",
      "4300000.0     260\n",
      "4200000.0     259\n",
      "             ... \n",
      "4412094.0       1\n",
      "6416000.0       1\n",
      "4581000.0       1\n",
      "34551000.0      1\n",
      "6029433.0       1\n",
      "Name: last_price, Length: 2978, dtype: int64\n",
      "\n",
      "45.00     419\n",
      "42.00     383\n",
      "60.00     347\n",
      "31.00     346\n",
      "44.00     345\n",
      "         ... \n",
      "45.85       1\n",
      "44.18       1\n",
      "59.83       1\n",
      "127.20      1\n",
      "23.55       1\n",
      "Name: total_area, Length: 2182, dtype: int64\n",
      "\n",
      "2018-02-01T00:00:00    368\n",
      "2017-11-10T00:00:00    240\n",
      "2017-10-13T00:00:00    124\n",
      "2017-09-27T00:00:00    111\n",
      "2018-03-26T00:00:00     97\n",
      "                      ... \n",
      "2017-01-28T00:00:00      1\n",
      "2014-12-20T00:00:00      1\n",
      "2016-01-04T00:00:00      1\n",
      "2016-09-29T00:00:00      1\n",
      "2015-05-17T00:00:00      1\n",
      "Name: first_day_exposition, Length: 1491, dtype: int64\n",
      "\n",
      "1     8047\n",
      "2     7940\n",
      "3     5814\n",
      "4     1180\n",
      "5      326\n",
      "0      197\n",
      "6      105\n",
      "7       59\n",
      "8       12\n",
      "9        8\n",
      "10       3\n",
      "14       2\n",
      "11       2\n",
      "19       1\n",
      "12       1\n",
      "16       1\n",
      "15       1\n",
      "Name: rooms, dtype: int64\n",
      "\n",
      "2.50      3515\n",
      "2.60      1646\n",
      "2.70      1574\n",
      "3.00      1112\n",
      "2.80       993\n",
      "          ... \n",
      "27.50        1\n",
      "5.00         1\n",
      "3.59         1\n",
      "4.80         1\n",
      "100.00       1\n",
      "Name: ceiling_height, Length: 183, dtype: int64\n",
      "\n",
      "5.0     5788\n",
      "9.0     3761\n",
      "16.0    1376\n",
      "12.0    1362\n",
      "4.0     1200\n",
      "10.0    1174\n",
      "25.0    1075\n",
      "6.0      914\n",
      "17.0     833\n",
      "3.0      668\n",
      "7.0      592\n",
      "14.0     553\n",
      "18.0     505\n",
      "24.0     469\n",
      "8.0      390\n",
      "2.0      383\n",
      "15.0     365\n",
      "23.0     352\n",
      "19.0     339\n",
      "22.0     286\n",
      "20.0     271\n",
      "13.0     229\n",
      "11.0     203\n",
      "27.0     164\n",
      "21.0     158\n",
      "26.0     124\n",
      "1.0       25\n",
      "35.0      24\n",
      "28.0      21\n",
      "36.0       3\n",
      "29.0       1\n",
      "60.0       1\n",
      "33.0       1\n",
      "52.0       1\n",
      "37.0       1\n",
      "34.0       1\n",
      "Name: floors_total, dtype: int64\n",
      "\n",
      "18.00    882\n",
      "17.00    675\n",
      "30.00    598\n",
      "16.00    486\n",
      "20.00    481\n",
      "        ... \n",
      "20.03      1\n",
      "10.55      1\n",
      "24.83      1\n",
      "20.97      1\n",
      "15.55      1\n",
      "Name: living_area, Length: 1782, dtype: int64\n",
      "\n",
      "2     3368\n",
      "3     3073\n",
      "1     2917\n",
      "4     2804\n",
      "5     2621\n",
      "6     1305\n",
      "7     1218\n",
      "8     1083\n",
      "9     1051\n",
      "10     687\n",
      "12     526\n",
      "11     523\n",
      "13     379\n",
      "15     343\n",
      "14     337\n",
      "16     315\n",
      "17     227\n",
      "18     178\n",
      "19     147\n",
      "21     125\n",
      "22     113\n",
      "20     110\n",
      "23     100\n",
      "24      63\n",
      "25      46\n",
      "26      24\n",
      "27      10\n",
      "28       1\n",
      "33       1\n",
      "29       1\n",
      "30       1\n",
      "32       1\n",
      "31       1\n",
      "Name: floor, dtype: int64\n",
      "\n",
      "False    2725\n",
      "True       50\n",
      "Name: is_apartment, dtype: int64\n",
      "\n",
      "False    23550\n",
      "True       149\n",
      "Name: studio, dtype: int64\n",
      "\n",
      "False    23632\n",
      "True        67\n",
      "Name: open_plan, dtype: int64\n",
      "\n",
      "6.00     1300\n",
      "10.00    1262\n",
      "8.00     1110\n",
      "9.00     1101\n",
      "7.00     1062\n",
      "         ... \n",
      "18.07       1\n",
      "28.20       1\n",
      "37.90       1\n",
      "9.51        1\n",
      "35.40       1\n",
      "Name: kitchen_area, Length: 971, dtype: int64\n",
      "\n",
      "1.0    4195\n",
      "0.0    3758\n",
      "2.0    3659\n",
      "5.0     304\n",
      "4.0     183\n",
      "3.0      81\n",
      "Name: balcony, dtype: int64\n",
      "\n",
      "Санкт-Петербург                        15721\n",
      "посёлок Мурино                           522\n",
      "посёлок Шушары                           440\n",
      "Всеволожск                               398\n",
      "Пушкин                                   369\n",
      "                                       ...  \n",
      "поселок станции Лужайка                    1\n",
      "деревня Пчева                              1\n",
      "поселок городского типа Кондратьево        1\n",
      "поселок Гончарово                          1\n",
      "деревня Борисова Грива                     1\n",
      "Name: locality_name, Length: 364, dtype: int64\n",
      "\n",
      "37434.0    61\n",
      "21928.0    32\n",
      "39946.0    30\n",
      "44870.0    30\n",
      "37407.0    27\n",
      "           ..\n",
      "25122.0     1\n",
      "26768.0     1\n",
      "22248.0     1\n",
      "20475.0     1\n",
      "14579.0     1\n",
      "Name: airports_nearest, Length: 8275, dtype: int64\n",
      "\n",
      "8460.0     61\n",
      "20802.0    32\n",
      "10720.0    30\n",
      "8434.0     27\n",
      "20444.0    27\n",
      "           ..\n",
      "13104.0     1\n",
      "11280.0     1\n",
      "27218.0     1\n",
      "10501.0     1\n",
      "208.0       1\n",
      "Name: cityCenters_nearest, Length: 7642, dtype: int64\n",
      "\n",
      "0.0    10106\n",
      "1.0     5681\n",
      "2.0     1747\n",
      "3.0      647\n",
      "Name: parks_around3000, dtype: int64\n",
      "\n",
      "441.0     67\n",
      "173.0     41\n",
      "392.0     41\n",
      "456.0     40\n",
      "471.0     32\n",
      "          ..\n",
      "863.0      1\n",
      "2880.0     1\n",
      "969.0      1\n",
      "1011.0     1\n",
      "775.0      1\n",
      "Name: parks_nearest, Length: 995, dtype: int64\n",
      "\n",
      "0.0    9071\n",
      "1.0    5717\n",
      "2.0    1892\n",
      "3.0    1501\n",
      "Name: ponds_around3000, dtype: int64\n",
      "\n",
      "427.0     70\n",
      "454.0     41\n",
      "153.0     40\n",
      "433.0     39\n",
      "564.0     37\n",
      "          ..\n",
      "742.0      1\n",
      "1019.0     1\n",
      "948.0      1\n",
      "1275.0     1\n",
      "193.0      1\n",
      "Name: ponds_nearest, Length: 1096, dtype: int64\n",
      "\n",
      "45.0      880\n",
      "60.0      538\n",
      "7.0       234\n",
      "30.0      208\n",
      "90.0      204\n",
      "         ... \n",
      "1110.0      1\n",
      "1049.0      1\n",
      "951.0       1\n",
      "693.0       1\n",
      "773.0       1\n",
      "Name: days_exposition, Length: 1141, dtype: int64\n",
      "\n"
     ]
    }
   ],
   "source": [
    "for column in data.columns:\n",
    "    print(data[column].value_counts())\n",
    "    print()"
   ]
  },
  {
   "cell_type": "markdown",
   "metadata": {},
   "source": [
    "Аномальные значения содержатся в столбце 'ceiling_height', к остальным значениям претензий не выявлено."
   ]
  },
  {
   "cell_type": "code",
   "execution_count": 8,
   "metadata": {},
   "outputs": [
    {
     "data": {
      "text/html": [
       "<div>\n",
       "<style scoped>\n",
       "    .dataframe tbody tr th:only-of-type {\n",
       "        vertical-align: middle;\n",
       "    }\n",
       "\n",
       "    .dataframe tbody tr th {\n",
       "        vertical-align: top;\n",
       "    }\n",
       "\n",
       "    .dataframe thead th {\n",
       "        text-align: right;\n",
       "    }\n",
       "</style>\n",
       "<table border=\"1\" class=\"dataframe\">\n",
       "  <thead>\n",
       "    <tr style=\"text-align: right;\">\n",
       "      <th></th>\n",
       "      <th>total_images</th>\n",
       "      <th>last_price</th>\n",
       "      <th>total_area</th>\n",
       "      <th>first_day_exposition</th>\n",
       "      <th>rooms</th>\n",
       "      <th>ceiling_height</th>\n",
       "      <th>floors_total</th>\n",
       "      <th>living_area</th>\n",
       "      <th>floor</th>\n",
       "      <th>is_apartment</th>\n",
       "      <th>...</th>\n",
       "      <th>kitchen_area</th>\n",
       "      <th>balcony</th>\n",
       "      <th>locality_name</th>\n",
       "      <th>airports_nearest</th>\n",
       "      <th>cityCenters_nearest</th>\n",
       "      <th>parks_around3000</th>\n",
       "      <th>parks_nearest</th>\n",
       "      <th>ponds_around3000</th>\n",
       "      <th>ponds_nearest</th>\n",
       "      <th>days_exposition</th>\n",
       "    </tr>\n",
       "  </thead>\n",
       "  <tbody>\n",
       "    <tr>\n",
       "      <td>355</td>\n",
       "      <td>17</td>\n",
       "      <td>3600000.0</td>\n",
       "      <td>55.2</td>\n",
       "      <td>2018-07-12T00:00:00</td>\n",
       "      <td>2</td>\n",
       "      <td>25.0</td>\n",
       "      <td>5.0</td>\n",
       "      <td>32.0</td>\n",
       "      <td>2</td>\n",
       "      <td>False</td>\n",
       "      <td>...</td>\n",
       "      <td>NaN</td>\n",
       "      <td>2.0</td>\n",
       "      <td>Гатчина</td>\n",
       "      <td>NaN</td>\n",
       "      <td>NaN</td>\n",
       "      <td>NaN</td>\n",
       "      <td>NaN</td>\n",
       "      <td>NaN</td>\n",
       "      <td>NaN</td>\n",
       "      <td>259.0</td>\n",
       "    </tr>\n",
       "    <tr>\n",
       "      <td>3148</td>\n",
       "      <td>14</td>\n",
       "      <td>2900000.0</td>\n",
       "      <td>75.0</td>\n",
       "      <td>2018-11-12T00:00:00</td>\n",
       "      <td>3</td>\n",
       "      <td>32.0</td>\n",
       "      <td>3.0</td>\n",
       "      <td>53.0</td>\n",
       "      <td>2</td>\n",
       "      <td>NaN</td>\n",
       "      <td>...</td>\n",
       "      <td>8.0</td>\n",
       "      <td>NaN</td>\n",
       "      <td>Волхов</td>\n",
       "      <td>NaN</td>\n",
       "      <td>NaN</td>\n",
       "      <td>NaN</td>\n",
       "      <td>NaN</td>\n",
       "      <td>NaN</td>\n",
       "      <td>NaN</td>\n",
       "      <td>NaN</td>\n",
       "    </tr>\n",
       "    <tr>\n",
       "      <td>3474</td>\n",
       "      <td>3</td>\n",
       "      <td>1400000.0</td>\n",
       "      <td>30.0</td>\n",
       "      <td>2018-03-16T00:00:00</td>\n",
       "      <td>1</td>\n",
       "      <td>8.0</td>\n",
       "      <td>5.0</td>\n",
       "      <td>15.3</td>\n",
       "      <td>2</td>\n",
       "      <td>False</td>\n",
       "      <td>...</td>\n",
       "      <td>7.3</td>\n",
       "      <td>NaN</td>\n",
       "      <td>деревня Нурма</td>\n",
       "      <td>NaN</td>\n",
       "      <td>NaN</td>\n",
       "      <td>NaN</td>\n",
       "      <td>NaN</td>\n",
       "      <td>NaN</td>\n",
       "      <td>NaN</td>\n",
       "      <td>125.0</td>\n",
       "    </tr>\n",
       "    <tr>\n",
       "      <td>4643</td>\n",
       "      <td>0</td>\n",
       "      <td>4300000.0</td>\n",
       "      <td>45.0</td>\n",
       "      <td>2018-02-01T00:00:00</td>\n",
       "      <td>2</td>\n",
       "      <td>25.0</td>\n",
       "      <td>9.0</td>\n",
       "      <td>30.0</td>\n",
       "      <td>2</td>\n",
       "      <td>NaN</td>\n",
       "      <td>...</td>\n",
       "      <td>7.0</td>\n",
       "      <td>1.0</td>\n",
       "      <td>Санкт-Петербург</td>\n",
       "      <td>12016.0</td>\n",
       "      <td>13256.0</td>\n",
       "      <td>1.0</td>\n",
       "      <td>658.0</td>\n",
       "      <td>1.0</td>\n",
       "      <td>331.0</td>\n",
       "      <td>181.0</td>\n",
       "    </tr>\n",
       "    <tr>\n",
       "      <td>4876</td>\n",
       "      <td>7</td>\n",
       "      <td>3000000.0</td>\n",
       "      <td>25.0</td>\n",
       "      <td>2017-09-27T00:00:00</td>\n",
       "      <td>0</td>\n",
       "      <td>27.0</td>\n",
       "      <td>25.0</td>\n",
       "      <td>17.0</td>\n",
       "      <td>17</td>\n",
       "      <td>NaN</td>\n",
       "      <td>...</td>\n",
       "      <td>NaN</td>\n",
       "      <td>2.0</td>\n",
       "      <td>посёлок Мурино</td>\n",
       "      <td>NaN</td>\n",
       "      <td>NaN</td>\n",
       "      <td>NaN</td>\n",
       "      <td>NaN</td>\n",
       "      <td>NaN</td>\n",
       "      <td>NaN</td>\n",
       "      <td>28.0</td>\n",
       "    </tr>\n",
       "    <tr>\n",
       "      <td>5076</td>\n",
       "      <td>0</td>\n",
       "      <td>3850000.0</td>\n",
       "      <td>30.5</td>\n",
       "      <td>2018-10-03T00:00:00</td>\n",
       "      <td>1</td>\n",
       "      <td>24.0</td>\n",
       "      <td>5.0</td>\n",
       "      <td>19.5</td>\n",
       "      <td>1</td>\n",
       "      <td>True</td>\n",
       "      <td>...</td>\n",
       "      <td>5.5</td>\n",
       "      <td>NaN</td>\n",
       "      <td>Санкт-Петербург</td>\n",
       "      <td>29686.0</td>\n",
       "      <td>8389.0</td>\n",
       "      <td>3.0</td>\n",
       "      <td>397.0</td>\n",
       "      <td>1.0</td>\n",
       "      <td>578.0</td>\n",
       "      <td>7.0</td>\n",
       "    </tr>\n",
       "    <tr>\n",
       "      <td>5246</td>\n",
       "      <td>0</td>\n",
       "      <td>2500000.0</td>\n",
       "      <td>54.0</td>\n",
       "      <td>2017-10-13T00:00:00</td>\n",
       "      <td>2</td>\n",
       "      <td>27.0</td>\n",
       "      <td>5.0</td>\n",
       "      <td>30.0</td>\n",
       "      <td>3</td>\n",
       "      <td>NaN</td>\n",
       "      <td>...</td>\n",
       "      <td>9.0</td>\n",
       "      <td>2.0</td>\n",
       "      <td>деревня Мины</td>\n",
       "      <td>NaN</td>\n",
       "      <td>NaN</td>\n",
       "      <td>NaN</td>\n",
       "      <td>NaN</td>\n",
       "      <td>NaN</td>\n",
       "      <td>NaN</td>\n",
       "      <td>540.0</td>\n",
       "    </tr>\n",
       "    <tr>\n",
       "      <td>5669</td>\n",
       "      <td>4</td>\n",
       "      <td>4400000.0</td>\n",
       "      <td>50.0</td>\n",
       "      <td>2017-08-08T00:00:00</td>\n",
       "      <td>2</td>\n",
       "      <td>26.0</td>\n",
       "      <td>9.0</td>\n",
       "      <td>21.3</td>\n",
       "      <td>3</td>\n",
       "      <td>NaN</td>\n",
       "      <td>...</td>\n",
       "      <td>7.0</td>\n",
       "      <td>2.0</td>\n",
       "      <td>Санкт-Петербург</td>\n",
       "      <td>28981.0</td>\n",
       "      <td>10912.0</td>\n",
       "      <td>1.0</td>\n",
       "      <td>305.0</td>\n",
       "      <td>0.0</td>\n",
       "      <td>NaN</td>\n",
       "      <td>267.0</td>\n",
       "    </tr>\n",
       "    <tr>\n",
       "      <td>5807</td>\n",
       "      <td>17</td>\n",
       "      <td>8150000.0</td>\n",
       "      <td>80.0</td>\n",
       "      <td>2019-01-09T00:00:00</td>\n",
       "      <td>2</td>\n",
       "      <td>27.0</td>\n",
       "      <td>36.0</td>\n",
       "      <td>41.0</td>\n",
       "      <td>13</td>\n",
       "      <td>NaN</td>\n",
       "      <td>...</td>\n",
       "      <td>12.0</td>\n",
       "      <td>5.0</td>\n",
       "      <td>Санкт-Петербург</td>\n",
       "      <td>18732.0</td>\n",
       "      <td>20444.0</td>\n",
       "      <td>0.0</td>\n",
       "      <td>NaN</td>\n",
       "      <td>3.0</td>\n",
       "      <td>80.0</td>\n",
       "      <td>38.0</td>\n",
       "    </tr>\n",
       "    <tr>\n",
       "      <td>5863</td>\n",
       "      <td>20</td>\n",
       "      <td>5650000.0</td>\n",
       "      <td>45.0</td>\n",
       "      <td>2018-08-15T00:00:00</td>\n",
       "      <td>1</td>\n",
       "      <td>8.3</td>\n",
       "      <td>16.0</td>\n",
       "      <td>19.3</td>\n",
       "      <td>14</td>\n",
       "      <td>NaN</td>\n",
       "      <td>...</td>\n",
       "      <td>8.3</td>\n",
       "      <td>1.0</td>\n",
       "      <td>Санкт-Петербург</td>\n",
       "      <td>13069.0</td>\n",
       "      <td>10763.0</td>\n",
       "      <td>0.0</td>\n",
       "      <td>NaN</td>\n",
       "      <td>1.0</td>\n",
       "      <td>613.0</td>\n",
       "      <td>14.0</td>\n",
       "    </tr>\n",
       "    <tr>\n",
       "      <td>6246</td>\n",
       "      <td>6</td>\n",
       "      <td>3300000.0</td>\n",
       "      <td>44.4</td>\n",
       "      <td>2019-03-25T00:00:00</td>\n",
       "      <td>2</td>\n",
       "      <td>25.0</td>\n",
       "      <td>5.0</td>\n",
       "      <td>31.3</td>\n",
       "      <td>5</td>\n",
       "      <td>NaN</td>\n",
       "      <td>...</td>\n",
       "      <td>5.7</td>\n",
       "      <td>NaN</td>\n",
       "      <td>Кронштадт</td>\n",
       "      <td>68923.0</td>\n",
       "      <td>50649.0</td>\n",
       "      <td>1.0</td>\n",
       "      <td>417.0</td>\n",
       "      <td>2.0</td>\n",
       "      <td>73.0</td>\n",
       "      <td>NaN</td>\n",
       "    </tr>\n",
       "    <tr>\n",
       "      <td>9379</td>\n",
       "      <td>5</td>\n",
       "      <td>3950000.0</td>\n",
       "      <td>42.0</td>\n",
       "      <td>2017-03-26T00:00:00</td>\n",
       "      <td>3</td>\n",
       "      <td>25.0</td>\n",
       "      <td>5.0</td>\n",
       "      <td>30.0</td>\n",
       "      <td>2</td>\n",
       "      <td>NaN</td>\n",
       "      <td>...</td>\n",
       "      <td>5.2</td>\n",
       "      <td>NaN</td>\n",
       "      <td>Санкт-Петербург</td>\n",
       "      <td>11647.0</td>\n",
       "      <td>13581.0</td>\n",
       "      <td>0.0</td>\n",
       "      <td>NaN</td>\n",
       "      <td>0.0</td>\n",
       "      <td>NaN</td>\n",
       "      <td>NaN</td>\n",
       "    </tr>\n",
       "    <tr>\n",
       "      <td>10773</td>\n",
       "      <td>8</td>\n",
       "      <td>3800000.0</td>\n",
       "      <td>58.0</td>\n",
       "      <td>2017-10-13T00:00:00</td>\n",
       "      <td>2</td>\n",
       "      <td>27.0</td>\n",
       "      <td>10.0</td>\n",
       "      <td>30.1</td>\n",
       "      <td>3</td>\n",
       "      <td>False</td>\n",
       "      <td>...</td>\n",
       "      <td>8.1</td>\n",
       "      <td>2.0</td>\n",
       "      <td>посёлок Мурино</td>\n",
       "      <td>NaN</td>\n",
       "      <td>NaN</td>\n",
       "      <td>NaN</td>\n",
       "      <td>NaN</td>\n",
       "      <td>NaN</td>\n",
       "      <td>NaN</td>\n",
       "      <td>71.0</td>\n",
       "    </tr>\n",
       "    <tr>\n",
       "      <td>11285</td>\n",
       "      <td>0</td>\n",
       "      <td>1950000.0</td>\n",
       "      <td>37.0</td>\n",
       "      <td>2019-03-20T00:00:00</td>\n",
       "      <td>1</td>\n",
       "      <td>25.0</td>\n",
       "      <td>5.0</td>\n",
       "      <td>17.0</td>\n",
       "      <td>4</td>\n",
       "      <td>False</td>\n",
       "      <td>...</td>\n",
       "      <td>9.0</td>\n",
       "      <td>2.0</td>\n",
       "      <td>Луга</td>\n",
       "      <td>NaN</td>\n",
       "      <td>NaN</td>\n",
       "      <td>NaN</td>\n",
       "      <td>NaN</td>\n",
       "      <td>NaN</td>\n",
       "      <td>NaN</td>\n",
       "      <td>18.0</td>\n",
       "    </tr>\n",
       "    <tr>\n",
       "      <td>14382</td>\n",
       "      <td>9</td>\n",
       "      <td>1700000.0</td>\n",
       "      <td>35.0</td>\n",
       "      <td>2015-12-04T00:00:00</td>\n",
       "      <td>1</td>\n",
       "      <td>25.0</td>\n",
       "      <td>5.0</td>\n",
       "      <td>20.0</td>\n",
       "      <td>2</td>\n",
       "      <td>False</td>\n",
       "      <td>...</td>\n",
       "      <td>8.0</td>\n",
       "      <td>1.0</td>\n",
       "      <td>поселок Новый Свет</td>\n",
       "      <td>NaN</td>\n",
       "      <td>NaN</td>\n",
       "      <td>NaN</td>\n",
       "      <td>NaN</td>\n",
       "      <td>NaN</td>\n",
       "      <td>NaN</td>\n",
       "      <td>206.0</td>\n",
       "    </tr>\n",
       "    <tr>\n",
       "      <td>15061</td>\n",
       "      <td>19</td>\n",
       "      <td>5600000.0</td>\n",
       "      <td>56.4</td>\n",
       "      <td>2018-05-11T00:00:00</td>\n",
       "      <td>2</td>\n",
       "      <td>14.0</td>\n",
       "      <td>14.0</td>\n",
       "      <td>32.4</td>\n",
       "      <td>5</td>\n",
       "      <td>NaN</td>\n",
       "      <td>...</td>\n",
       "      <td>9.1</td>\n",
       "      <td>2.0</td>\n",
       "      <td>Санкт-Петербург</td>\n",
       "      <td>14814.0</td>\n",
       "      <td>13610.0</td>\n",
       "      <td>0.0</td>\n",
       "      <td>NaN</td>\n",
       "      <td>0.0</td>\n",
       "      <td>NaN</td>\n",
       "      <td>315.0</td>\n",
       "    </tr>\n",
       "    <tr>\n",
       "      <td>15743</td>\n",
       "      <td>14</td>\n",
       "      <td>5600000.0</td>\n",
       "      <td>67.0</td>\n",
       "      <td>2016-11-11T00:00:00</td>\n",
       "      <td>3</td>\n",
       "      <td>8.0</td>\n",
       "      <td>16.0</td>\n",
       "      <td>41.0</td>\n",
       "      <td>1</td>\n",
       "      <td>NaN</td>\n",
       "      <td>...</td>\n",
       "      <td>8.0</td>\n",
       "      <td>NaN</td>\n",
       "      <td>Санкт-Петербург</td>\n",
       "      <td>32691.0</td>\n",
       "      <td>11035.0</td>\n",
       "      <td>1.0</td>\n",
       "      <td>723.0</td>\n",
       "      <td>0.0</td>\n",
       "      <td>NaN</td>\n",
       "      <td>474.0</td>\n",
       "    </tr>\n",
       "    <tr>\n",
       "      <td>17442</td>\n",
       "      <td>0</td>\n",
       "      <td>5350000.0</td>\n",
       "      <td>54.0</td>\n",
       "      <td>2015-06-16T00:00:00</td>\n",
       "      <td>2</td>\n",
       "      <td>8.0</td>\n",
       "      <td>5.0</td>\n",
       "      <td>29.0</td>\n",
       "      <td>2</td>\n",
       "      <td>NaN</td>\n",
       "      <td>...</td>\n",
       "      <td>NaN</td>\n",
       "      <td>1.0</td>\n",
       "      <td>Красное Село</td>\n",
       "      <td>24638.0</td>\n",
       "      <td>28062.0</td>\n",
       "      <td>0.0</td>\n",
       "      <td>NaN</td>\n",
       "      <td>0.0</td>\n",
       "      <td>NaN</td>\n",
       "      <td>469.0</td>\n",
       "    </tr>\n",
       "    <tr>\n",
       "      <td>17496</td>\n",
       "      <td>15</td>\n",
       "      <td>6700000.0</td>\n",
       "      <td>92.9</td>\n",
       "      <td>2019-02-19T00:00:00</td>\n",
       "      <td>3</td>\n",
       "      <td>20.0</td>\n",
       "      <td>17.0</td>\n",
       "      <td>53.2</td>\n",
       "      <td>14</td>\n",
       "      <td>NaN</td>\n",
       "      <td>...</td>\n",
       "      <td>12.0</td>\n",
       "      <td>5.0</td>\n",
       "      <td>Санкт-Петербург</td>\n",
       "      <td>16295.0</td>\n",
       "      <td>15092.0</td>\n",
       "      <td>1.0</td>\n",
       "      <td>967.0</td>\n",
       "      <td>0.0</td>\n",
       "      <td>NaN</td>\n",
       "      <td>NaN</td>\n",
       "    </tr>\n",
       "    <tr>\n",
       "      <td>17857</td>\n",
       "      <td>1</td>\n",
       "      <td>3900000.0</td>\n",
       "      <td>56.0</td>\n",
       "      <td>2017-12-22T00:00:00</td>\n",
       "      <td>3</td>\n",
       "      <td>27.0</td>\n",
       "      <td>5.0</td>\n",
       "      <td>33.0</td>\n",
       "      <td>4</td>\n",
       "      <td>False</td>\n",
       "      <td>...</td>\n",
       "      <td>NaN</td>\n",
       "      <td>NaN</td>\n",
       "      <td>Санкт-Петербург</td>\n",
       "      <td>41030.0</td>\n",
       "      <td>15543.0</td>\n",
       "      <td>0.0</td>\n",
       "      <td>NaN</td>\n",
       "      <td>0.0</td>\n",
       "      <td>NaN</td>\n",
       "      <td>73.0</td>\n",
       "    </tr>\n",
       "    <tr>\n",
       "      <td>18545</td>\n",
       "      <td>6</td>\n",
       "      <td>3750000.0</td>\n",
       "      <td>43.0</td>\n",
       "      <td>2019-03-18T00:00:00</td>\n",
       "      <td>2</td>\n",
       "      <td>25.0</td>\n",
       "      <td>5.0</td>\n",
       "      <td>29.0</td>\n",
       "      <td>3</td>\n",
       "      <td>False</td>\n",
       "      <td>...</td>\n",
       "      <td>NaN</td>\n",
       "      <td>NaN</td>\n",
       "      <td>Санкт-Петербург</td>\n",
       "      <td>27054.0</td>\n",
       "      <td>8033.0</td>\n",
       "      <td>1.0</td>\n",
       "      <td>540.0</td>\n",
       "      <td>0.0</td>\n",
       "      <td>NaN</td>\n",
       "      <td>12.0</td>\n",
       "    </tr>\n",
       "    <tr>\n",
       "      <td>20478</td>\n",
       "      <td>11</td>\n",
       "      <td>8000000.0</td>\n",
       "      <td>45.0</td>\n",
       "      <td>2017-07-18T00:00:00</td>\n",
       "      <td>1</td>\n",
       "      <td>27.0</td>\n",
       "      <td>4.0</td>\n",
       "      <td>22.0</td>\n",
       "      <td>2</td>\n",
       "      <td>NaN</td>\n",
       "      <td>...</td>\n",
       "      <td>10.0</td>\n",
       "      <td>1.0</td>\n",
       "      <td>Санкт-Петербург</td>\n",
       "      <td>18975.0</td>\n",
       "      <td>3246.0</td>\n",
       "      <td>0.0</td>\n",
       "      <td>NaN</td>\n",
       "      <td>3.0</td>\n",
       "      <td>449.0</td>\n",
       "      <td>429.0</td>\n",
       "    </tr>\n",
       "    <tr>\n",
       "      <td>20507</td>\n",
       "      <td>12</td>\n",
       "      <td>5950000.0</td>\n",
       "      <td>60.0</td>\n",
       "      <td>2018-02-19T00:00:00</td>\n",
       "      <td>2</td>\n",
       "      <td>22.6</td>\n",
       "      <td>14.0</td>\n",
       "      <td>35.0</td>\n",
       "      <td>11</td>\n",
       "      <td>NaN</td>\n",
       "      <td>...</td>\n",
       "      <td>13.0</td>\n",
       "      <td>1.0</td>\n",
       "      <td>Санкт-Петербург</td>\n",
       "      <td>27028.0</td>\n",
       "      <td>12570.0</td>\n",
       "      <td>0.0</td>\n",
       "      <td>NaN</td>\n",
       "      <td>0.0</td>\n",
       "      <td>NaN</td>\n",
       "      <td>40.0</td>\n",
       "    </tr>\n",
       "    <tr>\n",
       "      <td>21377</td>\n",
       "      <td>19</td>\n",
       "      <td>4900000.0</td>\n",
       "      <td>42.0</td>\n",
       "      <td>2017-04-18T00:00:00</td>\n",
       "      <td>1</td>\n",
       "      <td>27.5</td>\n",
       "      <td>24.0</td>\n",
       "      <td>37.7</td>\n",
       "      <td>19</td>\n",
       "      <td>False</td>\n",
       "      <td>...</td>\n",
       "      <td>11.0</td>\n",
       "      <td>2.0</td>\n",
       "      <td>Санкт-Петербург</td>\n",
       "      <td>42742.0</td>\n",
       "      <td>9760.0</td>\n",
       "      <td>0.0</td>\n",
       "      <td>NaN</td>\n",
       "      <td>0.0</td>\n",
       "      <td>NaN</td>\n",
       "      <td>61.0</td>\n",
       "    </tr>\n",
       "    <tr>\n",
       "      <td>21824</td>\n",
       "      <td>20</td>\n",
       "      <td>2450000.0</td>\n",
       "      <td>44.0</td>\n",
       "      <td>2019-02-12T00:00:00</td>\n",
       "      <td>2</td>\n",
       "      <td>27.0</td>\n",
       "      <td>2.0</td>\n",
       "      <td>38.0</td>\n",
       "      <td>2</td>\n",
       "      <td>False</td>\n",
       "      <td>...</td>\n",
       "      <td>8.6</td>\n",
       "      <td>2.0</td>\n",
       "      <td>городской поселок Большая Ижора</td>\n",
       "      <td>NaN</td>\n",
       "      <td>NaN</td>\n",
       "      <td>NaN</td>\n",
       "      <td>NaN</td>\n",
       "      <td>NaN</td>\n",
       "      <td>NaN</td>\n",
       "      <td>NaN</td>\n",
       "    </tr>\n",
       "    <tr>\n",
       "      <td>22309</td>\n",
       "      <td>20</td>\n",
       "      <td>5300000.0</td>\n",
       "      <td>45.0</td>\n",
       "      <td>2017-09-30T00:00:00</td>\n",
       "      <td>1</td>\n",
       "      <td>10.3</td>\n",
       "      <td>16.0</td>\n",
       "      <td>15.5</td>\n",
       "      <td>15</td>\n",
       "      <td>NaN</td>\n",
       "      <td>...</td>\n",
       "      <td>NaN</td>\n",
       "      <td>NaN</td>\n",
       "      <td>Санкт-Петербург</td>\n",
       "      <td>36353.0</td>\n",
       "      <td>11936.0</td>\n",
       "      <td>2.0</td>\n",
       "      <td>440.0</td>\n",
       "      <td>2.0</td>\n",
       "      <td>450.0</td>\n",
       "      <td>136.0</td>\n",
       "    </tr>\n",
       "    <tr>\n",
       "      <td>22336</td>\n",
       "      <td>19</td>\n",
       "      <td>9999000.0</td>\n",
       "      <td>92.4</td>\n",
       "      <td>2019-04-05T00:00:00</td>\n",
       "      <td>2</td>\n",
       "      <td>32.0</td>\n",
       "      <td>6.0</td>\n",
       "      <td>55.5</td>\n",
       "      <td>5</td>\n",
       "      <td>False</td>\n",
       "      <td>...</td>\n",
       "      <td>16.5</td>\n",
       "      <td>4.0</td>\n",
       "      <td>Санкт-Петербург</td>\n",
       "      <td>18838.0</td>\n",
       "      <td>3506.0</td>\n",
       "      <td>0.0</td>\n",
       "      <td>NaN</td>\n",
       "      <td>3.0</td>\n",
       "      <td>511.0</td>\n",
       "      <td>NaN</td>\n",
       "    </tr>\n",
       "    <tr>\n",
       "      <td>22869</td>\n",
       "      <td>0</td>\n",
       "      <td>15000000.0</td>\n",
       "      <td>25.0</td>\n",
       "      <td>2018-07-25T00:00:00</td>\n",
       "      <td>1</td>\n",
       "      <td>100.0</td>\n",
       "      <td>5.0</td>\n",
       "      <td>14.0</td>\n",
       "      <td>5</td>\n",
       "      <td>True</td>\n",
       "      <td>...</td>\n",
       "      <td>11.0</td>\n",
       "      <td>5.0</td>\n",
       "      <td>Санкт-Петербург</td>\n",
       "      <td>34963.0</td>\n",
       "      <td>8283.0</td>\n",
       "      <td>1.0</td>\n",
       "      <td>223.0</td>\n",
       "      <td>3.0</td>\n",
       "      <td>30.0</td>\n",
       "      <td>19.0</td>\n",
       "    </tr>\n",
       "    <tr>\n",
       "      <td>22938</td>\n",
       "      <td>14</td>\n",
       "      <td>4000000.0</td>\n",
       "      <td>98.0</td>\n",
       "      <td>2018-03-15T00:00:00</td>\n",
       "      <td>4</td>\n",
       "      <td>27.0</td>\n",
       "      <td>2.0</td>\n",
       "      <td>73.0</td>\n",
       "      <td>2</td>\n",
       "      <td>True</td>\n",
       "      <td>...</td>\n",
       "      <td>9.0</td>\n",
       "      <td>1.0</td>\n",
       "      <td>деревня Нижняя</td>\n",
       "      <td>NaN</td>\n",
       "      <td>NaN</td>\n",
       "      <td>NaN</td>\n",
       "      <td>NaN</td>\n",
       "      <td>NaN</td>\n",
       "      <td>NaN</td>\n",
       "      <td>27.0</td>\n",
       "    </tr>\n",
       "  </tbody>\n",
       "</table>\n",
       "<p>29 rows × 22 columns</p>\n",
       "</div>"
      ],
      "text/plain": [
       "       total_images  last_price  total_area first_day_exposition  rooms  \\\n",
       "355              17   3600000.0        55.2  2018-07-12T00:00:00      2   \n",
       "3148             14   2900000.0        75.0  2018-11-12T00:00:00      3   \n",
       "3474              3   1400000.0        30.0  2018-03-16T00:00:00      1   \n",
       "4643              0   4300000.0        45.0  2018-02-01T00:00:00      2   \n",
       "4876              7   3000000.0        25.0  2017-09-27T00:00:00      0   \n",
       "5076              0   3850000.0        30.5  2018-10-03T00:00:00      1   \n",
       "5246              0   2500000.0        54.0  2017-10-13T00:00:00      2   \n",
       "5669              4   4400000.0        50.0  2017-08-08T00:00:00      2   \n",
       "5807             17   8150000.0        80.0  2019-01-09T00:00:00      2   \n",
       "5863             20   5650000.0        45.0  2018-08-15T00:00:00      1   \n",
       "6246              6   3300000.0        44.4  2019-03-25T00:00:00      2   \n",
       "9379              5   3950000.0        42.0  2017-03-26T00:00:00      3   \n",
       "10773             8   3800000.0        58.0  2017-10-13T00:00:00      2   \n",
       "11285             0   1950000.0        37.0  2019-03-20T00:00:00      1   \n",
       "14382             9   1700000.0        35.0  2015-12-04T00:00:00      1   \n",
       "15061            19   5600000.0        56.4  2018-05-11T00:00:00      2   \n",
       "15743            14   5600000.0        67.0  2016-11-11T00:00:00      3   \n",
       "17442             0   5350000.0        54.0  2015-06-16T00:00:00      2   \n",
       "17496            15   6700000.0        92.9  2019-02-19T00:00:00      3   \n",
       "17857             1   3900000.0        56.0  2017-12-22T00:00:00      3   \n",
       "18545             6   3750000.0        43.0  2019-03-18T00:00:00      2   \n",
       "20478            11   8000000.0        45.0  2017-07-18T00:00:00      1   \n",
       "20507            12   5950000.0        60.0  2018-02-19T00:00:00      2   \n",
       "21377            19   4900000.0        42.0  2017-04-18T00:00:00      1   \n",
       "21824            20   2450000.0        44.0  2019-02-12T00:00:00      2   \n",
       "22309            20   5300000.0        45.0  2017-09-30T00:00:00      1   \n",
       "22336            19   9999000.0        92.4  2019-04-05T00:00:00      2   \n",
       "22869             0  15000000.0        25.0  2018-07-25T00:00:00      1   \n",
       "22938            14   4000000.0        98.0  2018-03-15T00:00:00      4   \n",
       "\n",
       "       ceiling_height  floors_total  living_area  floor is_apartment  ...  \\\n",
       "355              25.0           5.0         32.0      2        False  ...   \n",
       "3148             32.0           3.0         53.0      2          NaN  ...   \n",
       "3474              8.0           5.0         15.3      2        False  ...   \n",
       "4643             25.0           9.0         30.0      2          NaN  ...   \n",
       "4876             27.0          25.0         17.0     17          NaN  ...   \n",
       "5076             24.0           5.0         19.5      1         True  ...   \n",
       "5246             27.0           5.0         30.0      3          NaN  ...   \n",
       "5669             26.0           9.0         21.3      3          NaN  ...   \n",
       "5807             27.0          36.0         41.0     13          NaN  ...   \n",
       "5863              8.3          16.0         19.3     14          NaN  ...   \n",
       "6246             25.0           5.0         31.3      5          NaN  ...   \n",
       "9379             25.0           5.0         30.0      2          NaN  ...   \n",
       "10773            27.0          10.0         30.1      3        False  ...   \n",
       "11285            25.0           5.0         17.0      4        False  ...   \n",
       "14382            25.0           5.0         20.0      2        False  ...   \n",
       "15061            14.0          14.0         32.4      5          NaN  ...   \n",
       "15743             8.0          16.0         41.0      1          NaN  ...   \n",
       "17442             8.0           5.0         29.0      2          NaN  ...   \n",
       "17496            20.0          17.0         53.2     14          NaN  ...   \n",
       "17857            27.0           5.0         33.0      4        False  ...   \n",
       "18545            25.0           5.0         29.0      3        False  ...   \n",
       "20478            27.0           4.0         22.0      2          NaN  ...   \n",
       "20507            22.6          14.0         35.0     11          NaN  ...   \n",
       "21377            27.5          24.0         37.7     19        False  ...   \n",
       "21824            27.0           2.0         38.0      2        False  ...   \n",
       "22309            10.3          16.0         15.5     15          NaN  ...   \n",
       "22336            32.0           6.0         55.5      5        False  ...   \n",
       "22869           100.0           5.0         14.0      5         True  ...   \n",
       "22938            27.0           2.0         73.0      2         True  ...   \n",
       "\n",
       "       kitchen_area  balcony                    locality_name  \\\n",
       "355             NaN      2.0                          Гатчина   \n",
       "3148            8.0      NaN                           Волхов   \n",
       "3474            7.3      NaN                    деревня Нурма   \n",
       "4643            7.0      1.0                  Санкт-Петербург   \n",
       "4876            NaN      2.0                   посёлок Мурино   \n",
       "5076            5.5      NaN                  Санкт-Петербург   \n",
       "5246            9.0      2.0                     деревня Мины   \n",
       "5669            7.0      2.0                  Санкт-Петербург   \n",
       "5807           12.0      5.0                  Санкт-Петербург   \n",
       "5863            8.3      1.0                  Санкт-Петербург   \n",
       "6246            5.7      NaN                        Кронштадт   \n",
       "9379            5.2      NaN                  Санкт-Петербург   \n",
       "10773           8.1      2.0                   посёлок Мурино   \n",
       "11285           9.0      2.0                             Луга   \n",
       "14382           8.0      1.0               поселок Новый Свет   \n",
       "15061           9.1      2.0                  Санкт-Петербург   \n",
       "15743           8.0      NaN                  Санкт-Петербург   \n",
       "17442           NaN      1.0                     Красное Село   \n",
       "17496          12.0      5.0                  Санкт-Петербург   \n",
       "17857           NaN      NaN                  Санкт-Петербург   \n",
       "18545           NaN      NaN                  Санкт-Петербург   \n",
       "20478          10.0      1.0                  Санкт-Петербург   \n",
       "20507          13.0      1.0                  Санкт-Петербург   \n",
       "21377          11.0      2.0                  Санкт-Петербург   \n",
       "21824           8.6      2.0  городской поселок Большая Ижора   \n",
       "22309           NaN      NaN                  Санкт-Петербург   \n",
       "22336          16.5      4.0                  Санкт-Петербург   \n",
       "22869          11.0      5.0                  Санкт-Петербург   \n",
       "22938           9.0      1.0                   деревня Нижняя   \n",
       "\n",
       "       airports_nearest cityCenters_nearest  parks_around3000  parks_nearest  \\\n",
       "355                 NaN                 NaN               NaN            NaN   \n",
       "3148                NaN                 NaN               NaN            NaN   \n",
       "3474                NaN                 NaN               NaN            NaN   \n",
       "4643            12016.0             13256.0               1.0          658.0   \n",
       "4876                NaN                 NaN               NaN            NaN   \n",
       "5076            29686.0              8389.0               3.0          397.0   \n",
       "5246                NaN                 NaN               NaN            NaN   \n",
       "5669            28981.0             10912.0               1.0          305.0   \n",
       "5807            18732.0             20444.0               0.0            NaN   \n",
       "5863            13069.0             10763.0               0.0            NaN   \n",
       "6246            68923.0             50649.0               1.0          417.0   \n",
       "9379            11647.0             13581.0               0.0            NaN   \n",
       "10773               NaN                 NaN               NaN            NaN   \n",
       "11285               NaN                 NaN               NaN            NaN   \n",
       "14382               NaN                 NaN               NaN            NaN   \n",
       "15061           14814.0             13610.0               0.0            NaN   \n",
       "15743           32691.0             11035.0               1.0          723.0   \n",
       "17442           24638.0             28062.0               0.0            NaN   \n",
       "17496           16295.0             15092.0               1.0          967.0   \n",
       "17857           41030.0             15543.0               0.0            NaN   \n",
       "18545           27054.0              8033.0               1.0          540.0   \n",
       "20478           18975.0              3246.0               0.0            NaN   \n",
       "20507           27028.0             12570.0               0.0            NaN   \n",
       "21377           42742.0              9760.0               0.0            NaN   \n",
       "21824               NaN                 NaN               NaN            NaN   \n",
       "22309           36353.0             11936.0               2.0          440.0   \n",
       "22336           18838.0              3506.0               0.0            NaN   \n",
       "22869           34963.0              8283.0               1.0          223.0   \n",
       "22938               NaN                 NaN               NaN            NaN   \n",
       "\n",
       "       ponds_around3000  ponds_nearest  days_exposition  \n",
       "355                 NaN            NaN            259.0  \n",
       "3148                NaN            NaN              NaN  \n",
       "3474                NaN            NaN            125.0  \n",
       "4643                1.0          331.0            181.0  \n",
       "4876                NaN            NaN             28.0  \n",
       "5076                1.0          578.0              7.0  \n",
       "5246                NaN            NaN            540.0  \n",
       "5669                0.0            NaN            267.0  \n",
       "5807                3.0           80.0             38.0  \n",
       "5863                1.0          613.0             14.0  \n",
       "6246                2.0           73.0              NaN  \n",
       "9379                0.0            NaN              NaN  \n",
       "10773               NaN            NaN             71.0  \n",
       "11285               NaN            NaN             18.0  \n",
       "14382               NaN            NaN            206.0  \n",
       "15061               0.0            NaN            315.0  \n",
       "15743               0.0            NaN            474.0  \n",
       "17442               0.0            NaN            469.0  \n",
       "17496               0.0            NaN              NaN  \n",
       "17857               0.0            NaN             73.0  \n",
       "18545               0.0            NaN             12.0  \n",
       "20478               3.0          449.0            429.0  \n",
       "20507               0.0            NaN             40.0  \n",
       "21377               0.0            NaN             61.0  \n",
       "21824               NaN            NaN              NaN  \n",
       "22309               2.0          450.0            136.0  \n",
       "22336               3.0          511.0              NaN  \n",
       "22869               3.0           30.0             19.0  \n",
       "22938               NaN            NaN             27.0  \n",
       "\n",
       "[29 rows x 22 columns]"
      ]
     },
     "execution_count": 8,
     "metadata": {},
     "output_type": "execute_result"
    }
   ],
   "source": [
    "data.query('ceiling_height>6')"
   ]
  },
  {
   "cell_type": "markdown",
   "metadata": {},
   "source": [
    "### Вывод"
   ]
  },
  {
   "cell_type": "markdown",
   "metadata": {},
   "source": [
    "В результате изучения данных, были выявлены некоторые проблемы, требующие решения. Необходимо избавиться от пропущенных значений в планировках квартир и пропусков в столбце балкона. Так же потребуется решить, что делать с аномально высокими потолками. Столбец с датой и временем не вызывает вопросов, но значение времени в столбце всегда 0:00:00, поэтому можно будет отбросить эту часть столбца. <b>Пропуски в столбце \"total_floors\" удалим, т.к. доля их мала и другие столбцы в них имеют пропуски. Столбцы \"площадей\" будем заполнять медианным значением сгруппированных по количеству комнат квартир и удалим некорректные заполнения.</b> Остальные столбцы будем рассматривать по необходимости. "
   ]
  },
  {
   "cell_type": "markdown",
   "metadata": {},
   "source": [
    "## Предобработка данных"
   ]
  },
  {
   "cell_type": "code",
   "execution_count": 9,
   "metadata": {},
   "outputs": [],
   "source": [
    "#Замена пропусков в столбцах с планировкой, считаем что пропуск это отрицание выбранного пункта\n",
    "for column in ['is_apartment', 'open_plan', 'studio']:\n",
    "    data[column] = data[column].fillna(False)"
   ]
  },
  {
   "cell_type": "code",
   "execution_count": 10,
   "metadata": {},
   "outputs": [],
   "source": [
    "#Замена пропусков данных в столбце количества балконов, считаем пропуск отсутствием балкона -> 0\n",
    "data['balcony'] = data['balcony'].fillna(0)\n",
    "#Удаление пропусков floors_total\n",
    "data = data.dropna(subset=['floors_total'])"
   ]
  },
  {
   "cell_type": "code",
   "execution_count": 11,
   "metadata": {},
   "outputs": [],
   "source": [
    "#замена аномально высоких потолков на медианное значение\n",
    "data['ceiling_height'] = data['ceiling_height'].where(data['ceiling_height']<6,data['ceiling_height'].median())"
   ]
  },
  {
   "cell_type": "code",
   "execution_count": 12,
   "metadata": {},
   "outputs": [],
   "source": [
    "#Удалим пропущенные строчки в населенном пункте, их очень мало\n",
    "data = data.dropna(subset=['locality_name'])"
   ]
  },
  {
   "cell_type": "markdown",
   "metadata": {},
   "source": [
    "<b> Переместил подстановку значений кухни раньше, чтобы отловить все случаи, когда кухня с жилой площадью будут больше общей"
   ]
  },
  {
   "cell_type": "code",
   "execution_count": 13,
   "metadata": {},
   "outputs": [
    {
     "data": {
      "text/html": [
       "<div>\n",
       "<style scoped>\n",
       "    .dataframe tbody tr th:only-of-type {\n",
       "        vertical-align: middle;\n",
       "    }\n",
       "\n",
       "    .dataframe tbody tr th {\n",
       "        vertical-align: top;\n",
       "    }\n",
       "\n",
       "    .dataframe thead th {\n",
       "        text-align: right;\n",
       "    }\n",
       "</style>\n",
       "<table border=\"1\" class=\"dataframe\">\n",
       "  <thead>\n",
       "    <tr style=\"text-align: right;\">\n",
       "      <th></th>\n",
       "      <th>total_images</th>\n",
       "      <th>last_price</th>\n",
       "      <th>total_area</th>\n",
       "      <th>first_day_exposition</th>\n",
       "      <th>rooms</th>\n",
       "      <th>ceiling_height</th>\n",
       "      <th>floors_total</th>\n",
       "      <th>living_area</th>\n",
       "      <th>floor</th>\n",
       "      <th>is_apartment</th>\n",
       "      <th>...</th>\n",
       "      <th>kitchen_area</th>\n",
       "      <th>balcony</th>\n",
       "      <th>locality_name</th>\n",
       "      <th>airports_nearest</th>\n",
       "      <th>cityCenters_nearest</th>\n",
       "      <th>parks_around3000</th>\n",
       "      <th>parks_nearest</th>\n",
       "      <th>ponds_around3000</th>\n",
       "      <th>ponds_nearest</th>\n",
       "      <th>days_exposition</th>\n",
       "    </tr>\n",
       "  </thead>\n",
       "  <tbody>\n",
       "    <tr>\n",
       "      <td>349</td>\n",
       "      <td>4</td>\n",
       "      <td>2320000.0</td>\n",
       "      <td>25.0</td>\n",
       "      <td>2017-09-27T00:00:00</td>\n",
       "      <td>0</td>\n",
       "      <td>2.65</td>\n",
       "      <td>14.0</td>\n",
       "      <td>17.0</td>\n",
       "      <td>1</td>\n",
       "      <td>False</td>\n",
       "      <td>...</td>\n",
       "      <td>NaN</td>\n",
       "      <td>0.0</td>\n",
       "      <td>деревня Кудрово</td>\n",
       "      <td>NaN</td>\n",
       "      <td>NaN</td>\n",
       "      <td>NaN</td>\n",
       "      <td>NaN</td>\n",
       "      <td>NaN</td>\n",
       "      <td>NaN</td>\n",
       "      <td>45.0</td>\n",
       "    </tr>\n",
       "    <tr>\n",
       "      <td>508</td>\n",
       "      <td>0</td>\n",
       "      <td>3375000.0</td>\n",
       "      <td>34.4</td>\n",
       "      <td>2017-03-28T00:00:00</td>\n",
       "      <td>0</td>\n",
       "      <td>2.65</td>\n",
       "      <td>26.0</td>\n",
       "      <td>24.3</td>\n",
       "      <td>19</td>\n",
       "      <td>False</td>\n",
       "      <td>...</td>\n",
       "      <td>NaN</td>\n",
       "      <td>1.0</td>\n",
       "      <td>посёлок Парголово</td>\n",
       "      <td>53115.0</td>\n",
       "      <td>19292.0</td>\n",
       "      <td>0.0</td>\n",
       "      <td>NaN</td>\n",
       "      <td>1.0</td>\n",
       "      <td>593.0</td>\n",
       "      <td>430.0</td>\n",
       "    </tr>\n",
       "    <tr>\n",
       "      <td>780</td>\n",
       "      <td>9</td>\n",
       "      <td>2600000.0</td>\n",
       "      <td>26.1</td>\n",
       "      <td>2018-02-20T00:00:00</td>\n",
       "      <td>0</td>\n",
       "      <td>2.65</td>\n",
       "      <td>18.0</td>\n",
       "      <td>NaN</td>\n",
       "      <td>8</td>\n",
       "      <td>False</td>\n",
       "      <td>...</td>\n",
       "      <td>NaN</td>\n",
       "      <td>1.0</td>\n",
       "      <td>посёлок Мурино</td>\n",
       "      <td>NaN</td>\n",
       "      <td>NaN</td>\n",
       "      <td>NaN</td>\n",
       "      <td>NaN</td>\n",
       "      <td>NaN</td>\n",
       "      <td>NaN</td>\n",
       "      <td>45.0</td>\n",
       "    </tr>\n",
       "    <tr>\n",
       "      <td>839</td>\n",
       "      <td>14</td>\n",
       "      <td>1900000.0</td>\n",
       "      <td>35.0</td>\n",
       "      <td>2017-04-14T00:00:00</td>\n",
       "      <td>0</td>\n",
       "      <td>2.70</td>\n",
       "      <td>5.0</td>\n",
       "      <td>15.0</td>\n",
       "      <td>3</td>\n",
       "      <td>False</td>\n",
       "      <td>...</td>\n",
       "      <td>NaN</td>\n",
       "      <td>1.0</td>\n",
       "      <td>поселок Новый Свет</td>\n",
       "      <td>NaN</td>\n",
       "      <td>NaN</td>\n",
       "      <td>NaN</td>\n",
       "      <td>NaN</td>\n",
       "      <td>NaN</td>\n",
       "      <td>NaN</td>\n",
       "      <td>7.0</td>\n",
       "    </tr>\n",
       "    <tr>\n",
       "      <td>946</td>\n",
       "      <td>5</td>\n",
       "      <td>2200000.0</td>\n",
       "      <td>23.0</td>\n",
       "      <td>2016-09-27T00:00:00</td>\n",
       "      <td>0</td>\n",
       "      <td>2.65</td>\n",
       "      <td>27.0</td>\n",
       "      <td>18.0</td>\n",
       "      <td>7</td>\n",
       "      <td>False</td>\n",
       "      <td>...</td>\n",
       "      <td>NaN</td>\n",
       "      <td>2.0</td>\n",
       "      <td>посёлок Мурино</td>\n",
       "      <td>NaN</td>\n",
       "      <td>NaN</td>\n",
       "      <td>NaN</td>\n",
       "      <td>NaN</td>\n",
       "      <td>NaN</td>\n",
       "      <td>NaN</td>\n",
       "      <td>483.0</td>\n",
       "    </tr>\n",
       "    <tr>\n",
       "      <td>...</td>\n",
       "      <td>...</td>\n",
       "      <td>...</td>\n",
       "      <td>...</td>\n",
       "      <td>...</td>\n",
       "      <td>...</td>\n",
       "      <td>...</td>\n",
       "      <td>...</td>\n",
       "      <td>...</td>\n",
       "      <td>...</td>\n",
       "      <td>...</td>\n",
       "      <td>...</td>\n",
       "      <td>...</td>\n",
       "      <td>...</td>\n",
       "      <td>...</td>\n",
       "      <td>...</td>\n",
       "      <td>...</td>\n",
       "      <td>...</td>\n",
       "      <td>...</td>\n",
       "      <td>...</td>\n",
       "      <td>...</td>\n",
       "      <td>...</td>\n",
       "    </tr>\n",
       "    <tr>\n",
       "      <td>21299</td>\n",
       "      <td>13</td>\n",
       "      <td>2450000.0</td>\n",
       "      <td>28.5</td>\n",
       "      <td>2017-11-22T00:00:00</td>\n",
       "      <td>0</td>\n",
       "      <td>2.65</td>\n",
       "      <td>12.0</td>\n",
       "      <td>18.0</td>\n",
       "      <td>7</td>\n",
       "      <td>False</td>\n",
       "      <td>...</td>\n",
       "      <td>NaN</td>\n",
       "      <td>2.0</td>\n",
       "      <td>Санкт-Петербург</td>\n",
       "      <td>20381.0</td>\n",
       "      <td>19383.0</td>\n",
       "      <td>0.0</td>\n",
       "      <td>NaN</td>\n",
       "      <td>1.0</td>\n",
       "      <td>579.0</td>\n",
       "      <td>73.0</td>\n",
       "    </tr>\n",
       "    <tr>\n",
       "      <td>21628</td>\n",
       "      <td>9</td>\n",
       "      <td>3900000.0</td>\n",
       "      <td>34.0</td>\n",
       "      <td>2017-03-18T00:00:00</td>\n",
       "      <td>0</td>\n",
       "      <td>2.65</td>\n",
       "      <td>20.0</td>\n",
       "      <td>24.0</td>\n",
       "      <td>10</td>\n",
       "      <td>False</td>\n",
       "      <td>...</td>\n",
       "      <td>NaN</td>\n",
       "      <td>2.0</td>\n",
       "      <td>Санкт-Петербург</td>\n",
       "      <td>15506.0</td>\n",
       "      <td>13615.0</td>\n",
       "      <td>0.0</td>\n",
       "      <td>NaN</td>\n",
       "      <td>1.0</td>\n",
       "      <td>767.0</td>\n",
       "      <td>320.0</td>\n",
       "    </tr>\n",
       "    <tr>\n",
       "      <td>22573</td>\n",
       "      <td>8</td>\n",
       "      <td>2250000.0</td>\n",
       "      <td>24.0</td>\n",
       "      <td>2017-09-28T00:00:00</td>\n",
       "      <td>0</td>\n",
       "      <td>2.65</td>\n",
       "      <td>12.0</td>\n",
       "      <td>15.0</td>\n",
       "      <td>3</td>\n",
       "      <td>False</td>\n",
       "      <td>...</td>\n",
       "      <td>NaN</td>\n",
       "      <td>2.0</td>\n",
       "      <td>городской посёлок Новоселье</td>\n",
       "      <td>NaN</td>\n",
       "      <td>NaN</td>\n",
       "      <td>NaN</td>\n",
       "      <td>NaN</td>\n",
       "      <td>NaN</td>\n",
       "      <td>NaN</td>\n",
       "      <td>45.0</td>\n",
       "    </tr>\n",
       "    <tr>\n",
       "      <td>23442</td>\n",
       "      <td>0</td>\n",
       "      <td>2500000.0</td>\n",
       "      <td>27.7</td>\n",
       "      <td>2017-09-28T00:00:00</td>\n",
       "      <td>0</td>\n",
       "      <td>2.65</td>\n",
       "      <td>24.0</td>\n",
       "      <td>18.0</td>\n",
       "      <td>4</td>\n",
       "      <td>False</td>\n",
       "      <td>...</td>\n",
       "      <td>NaN</td>\n",
       "      <td>2.0</td>\n",
       "      <td>посёлок Мурино</td>\n",
       "      <td>NaN</td>\n",
       "      <td>NaN</td>\n",
       "      <td>NaN</td>\n",
       "      <td>NaN</td>\n",
       "      <td>NaN</td>\n",
       "      <td>NaN</td>\n",
       "      <td>4.0</td>\n",
       "    </tr>\n",
       "    <tr>\n",
       "      <td>23592</td>\n",
       "      <td>10</td>\n",
       "      <td>1450000.0</td>\n",
       "      <td>29.0</td>\n",
       "      <td>2017-11-11T00:00:00</td>\n",
       "      <td>0</td>\n",
       "      <td>2.65</td>\n",
       "      <td>9.0</td>\n",
       "      <td>18.0</td>\n",
       "      <td>8</td>\n",
       "      <td>False</td>\n",
       "      <td>...</td>\n",
       "      <td>NaN</td>\n",
       "      <td>2.0</td>\n",
       "      <td>Никольское</td>\n",
       "      <td>NaN</td>\n",
       "      <td>NaN</td>\n",
       "      <td>NaN</td>\n",
       "      <td>NaN</td>\n",
       "      <td>NaN</td>\n",
       "      <td>NaN</td>\n",
       "      <td>82.0</td>\n",
       "    </tr>\n",
       "  </tbody>\n",
       "</table>\n",
       "<p>67 rows × 22 columns</p>\n",
       "</div>"
      ],
      "text/plain": [
       "       total_images  last_price  total_area first_day_exposition  rooms  \\\n",
       "349               4   2320000.0        25.0  2017-09-27T00:00:00      0   \n",
       "508               0   3375000.0        34.4  2017-03-28T00:00:00      0   \n",
       "780               9   2600000.0        26.1  2018-02-20T00:00:00      0   \n",
       "839              14   1900000.0        35.0  2017-04-14T00:00:00      0   \n",
       "946               5   2200000.0        23.0  2016-09-27T00:00:00      0   \n",
       "...             ...         ...         ...                  ...    ...   \n",
       "21299            13   2450000.0        28.5  2017-11-22T00:00:00      0   \n",
       "21628             9   3900000.0        34.0  2017-03-18T00:00:00      0   \n",
       "22573             8   2250000.0        24.0  2017-09-28T00:00:00      0   \n",
       "23442             0   2500000.0        27.7  2017-09-28T00:00:00      0   \n",
       "23592            10   1450000.0        29.0  2017-11-11T00:00:00      0   \n",
       "\n",
       "       ceiling_height  floors_total  living_area  floor  is_apartment  ...  \\\n",
       "349              2.65          14.0         17.0      1         False  ...   \n",
       "508              2.65          26.0         24.3     19         False  ...   \n",
       "780              2.65          18.0          NaN      8         False  ...   \n",
       "839              2.70           5.0         15.0      3         False  ...   \n",
       "946              2.65          27.0         18.0      7         False  ...   \n",
       "...               ...           ...          ...    ...           ...  ...   \n",
       "21299            2.65          12.0         18.0      7         False  ...   \n",
       "21628            2.65          20.0         24.0     10         False  ...   \n",
       "22573            2.65          12.0         15.0      3         False  ...   \n",
       "23442            2.65          24.0         18.0      4         False  ...   \n",
       "23592            2.65           9.0         18.0      8         False  ...   \n",
       "\n",
       "       kitchen_area  balcony                locality_name  airports_nearest  \\\n",
       "349             NaN      0.0              деревня Кудрово               NaN   \n",
       "508             NaN      1.0            посёлок Парголово           53115.0   \n",
       "780             NaN      1.0               посёлок Мурино               NaN   \n",
       "839             NaN      1.0           поселок Новый Свет               NaN   \n",
       "946             NaN      2.0               посёлок Мурино               NaN   \n",
       "...             ...      ...                          ...               ...   \n",
       "21299           NaN      2.0              Санкт-Петербург           20381.0   \n",
       "21628           NaN      2.0              Санкт-Петербург           15506.0   \n",
       "22573           NaN      2.0  городской посёлок Новоселье               NaN   \n",
       "23442           NaN      2.0               посёлок Мурино               NaN   \n",
       "23592           NaN      2.0                   Никольское               NaN   \n",
       "\n",
       "      cityCenters_nearest  parks_around3000  parks_nearest  ponds_around3000  \\\n",
       "349                   NaN               NaN            NaN               NaN   \n",
       "508               19292.0               0.0            NaN               1.0   \n",
       "780                   NaN               NaN            NaN               NaN   \n",
       "839                   NaN               NaN            NaN               NaN   \n",
       "946                   NaN               NaN            NaN               NaN   \n",
       "...                   ...               ...            ...               ...   \n",
       "21299             19383.0               0.0            NaN               1.0   \n",
       "21628             13615.0               0.0            NaN               1.0   \n",
       "22573                 NaN               NaN            NaN               NaN   \n",
       "23442                 NaN               NaN            NaN               NaN   \n",
       "23592                 NaN               NaN            NaN               NaN   \n",
       "\n",
       "       ponds_nearest  days_exposition  \n",
       "349              NaN             45.0  \n",
       "508            593.0            430.0  \n",
       "780              NaN             45.0  \n",
       "839              NaN              7.0  \n",
       "946              NaN            483.0  \n",
       "...              ...              ...  \n",
       "21299          579.0             73.0  \n",
       "21628          767.0            320.0  \n",
       "22573            NaN             45.0  \n",
       "23442            NaN              4.0  \n",
       "23592            NaN             82.0  \n",
       "\n",
       "[67 rows x 22 columns]"
      ]
     },
     "metadata": {},
     "output_type": "display_data"
    },
    {
     "data": {
      "text/html": [
       "<div>\n",
       "<style scoped>\n",
       "    .dataframe tbody tr th:only-of-type {\n",
       "        vertical-align: middle;\n",
       "    }\n",
       "\n",
       "    .dataframe tbody tr th {\n",
       "        vertical-align: top;\n",
       "    }\n",
       "\n",
       "    .dataframe thead th {\n",
       "        text-align: right;\n",
       "    }\n",
       "</style>\n",
       "<table border=\"1\" class=\"dataframe\">\n",
       "  <thead>\n",
       "    <tr style=\"text-align: right;\">\n",
       "      <th></th>\n",
       "      <th>total_images</th>\n",
       "      <th>last_price</th>\n",
       "      <th>total_area</th>\n",
       "      <th>first_day_exposition</th>\n",
       "      <th>rooms</th>\n",
       "      <th>ceiling_height</th>\n",
       "      <th>floors_total</th>\n",
       "      <th>living_area</th>\n",
       "      <th>floor</th>\n",
       "      <th>is_apartment</th>\n",
       "      <th>...</th>\n",
       "      <th>kitchen_area</th>\n",
       "      <th>balcony</th>\n",
       "      <th>locality_name</th>\n",
       "      <th>airports_nearest</th>\n",
       "      <th>cityCenters_nearest</th>\n",
       "      <th>parks_around3000</th>\n",
       "      <th>parks_nearest</th>\n",
       "      <th>ponds_around3000</th>\n",
       "      <th>ponds_nearest</th>\n",
       "      <th>days_exposition</th>\n",
       "    </tr>\n",
       "  </thead>\n",
       "  <tbody>\n",
       "    <tr>\n",
       "      <td>144</td>\n",
       "      <td>1</td>\n",
       "      <td>2450000.0</td>\n",
       "      <td>27.00</td>\n",
       "      <td>2017-03-30T00:00:00</td>\n",
       "      <td>0</td>\n",
       "      <td>2.65</td>\n",
       "      <td>24.0</td>\n",
       "      <td>15.50</td>\n",
       "      <td>2</td>\n",
       "      <td>False</td>\n",
       "      <td>...</td>\n",
       "      <td>NaN</td>\n",
       "      <td>2.0</td>\n",
       "      <td>посёлок Мурино</td>\n",
       "      <td>NaN</td>\n",
       "      <td>NaN</td>\n",
       "      <td>NaN</td>\n",
       "      <td>NaN</td>\n",
       "      <td>NaN</td>\n",
       "      <td>NaN</td>\n",
       "      <td>181.0</td>\n",
       "    </tr>\n",
       "    <tr>\n",
       "      <td>440</td>\n",
       "      <td>8</td>\n",
       "      <td>2480000.0</td>\n",
       "      <td>27.11</td>\n",
       "      <td>2018-03-12T00:00:00</td>\n",
       "      <td>0</td>\n",
       "      <td>2.65</td>\n",
       "      <td>17.0</td>\n",
       "      <td>24.75</td>\n",
       "      <td>4</td>\n",
       "      <td>False</td>\n",
       "      <td>...</td>\n",
       "      <td>NaN</td>\n",
       "      <td>2.0</td>\n",
       "      <td>Санкт-Петербург</td>\n",
       "      <td>38171.0</td>\n",
       "      <td>15015.0</td>\n",
       "      <td>0.0</td>\n",
       "      <td>NaN</td>\n",
       "      <td>2.0</td>\n",
       "      <td>982.0</td>\n",
       "      <td>64.0</td>\n",
       "    </tr>\n",
       "    <tr>\n",
       "      <td>608</td>\n",
       "      <td>2</td>\n",
       "      <td>1850000.0</td>\n",
       "      <td>25.00</td>\n",
       "      <td>2019-02-20T00:00:00</td>\n",
       "      <td>0</td>\n",
       "      <td>2.65</td>\n",
       "      <td>10.0</td>\n",
       "      <td>NaN</td>\n",
       "      <td>7</td>\n",
       "      <td>False</td>\n",
       "      <td>...</td>\n",
       "      <td>NaN</td>\n",
       "      <td>0.0</td>\n",
       "      <td>посёлок Шушары</td>\n",
       "      <td>NaN</td>\n",
       "      <td>NaN</td>\n",
       "      <td>NaN</td>\n",
       "      <td>NaN</td>\n",
       "      <td>NaN</td>\n",
       "      <td>NaN</td>\n",
       "      <td>29.0</td>\n",
       "    </tr>\n",
       "    <tr>\n",
       "      <td>697</td>\n",
       "      <td>12</td>\n",
       "      <td>2500000.0</td>\n",
       "      <td>24.10</td>\n",
       "      <td>2017-12-01T00:00:00</td>\n",
       "      <td>0</td>\n",
       "      <td>2.75</td>\n",
       "      <td>25.0</td>\n",
       "      <td>17.50</td>\n",
       "      <td>21</td>\n",
       "      <td>False</td>\n",
       "      <td>...</td>\n",
       "      <td>NaN</td>\n",
       "      <td>0.0</td>\n",
       "      <td>деревня Кудрово</td>\n",
       "      <td>NaN</td>\n",
       "      <td>NaN</td>\n",
       "      <td>NaN</td>\n",
       "      <td>NaN</td>\n",
       "      <td>NaN</td>\n",
       "      <td>NaN</td>\n",
       "      <td>201.0</td>\n",
       "    </tr>\n",
       "    <tr>\n",
       "      <td>716</td>\n",
       "      <td>5</td>\n",
       "      <td>1500000.0</td>\n",
       "      <td>17.00</td>\n",
       "      <td>2017-06-07T00:00:00</td>\n",
       "      <td>0</td>\n",
       "      <td>2.70</td>\n",
       "      <td>9.0</td>\n",
       "      <td>12.00</td>\n",
       "      <td>1</td>\n",
       "      <td>False</td>\n",
       "      <td>...</td>\n",
       "      <td>NaN</td>\n",
       "      <td>0.0</td>\n",
       "      <td>посёлок Шушары</td>\n",
       "      <td>18654.0</td>\n",
       "      <td>29846.0</td>\n",
       "      <td>0.0</td>\n",
       "      <td>NaN</td>\n",
       "      <td>0.0</td>\n",
       "      <td>NaN</td>\n",
       "      <td>40.0</td>\n",
       "    </tr>\n",
       "    <tr>\n",
       "      <td>...</td>\n",
       "      <td>...</td>\n",
       "      <td>...</td>\n",
       "      <td>...</td>\n",
       "      <td>...</td>\n",
       "      <td>...</td>\n",
       "      <td>...</td>\n",
       "      <td>...</td>\n",
       "      <td>...</td>\n",
       "      <td>...</td>\n",
       "      <td>...</td>\n",
       "      <td>...</td>\n",
       "      <td>...</td>\n",
       "      <td>...</td>\n",
       "      <td>...</td>\n",
       "      <td>...</td>\n",
       "      <td>...</td>\n",
       "      <td>...</td>\n",
       "      <td>...</td>\n",
       "      <td>...</td>\n",
       "      <td>...</td>\n",
       "      <td>...</td>\n",
       "    </tr>\n",
       "    <tr>\n",
       "      <td>22867</td>\n",
       "      <td>8</td>\n",
       "      <td>3090000.0</td>\n",
       "      <td>30.00</td>\n",
       "      <td>2017-12-17T00:00:00</td>\n",
       "      <td>0</td>\n",
       "      <td>2.65</td>\n",
       "      <td>25.0</td>\n",
       "      <td>18.20</td>\n",
       "      <td>5</td>\n",
       "      <td>False</td>\n",
       "      <td>...</td>\n",
       "      <td>NaN</td>\n",
       "      <td>0.0</td>\n",
       "      <td>Санкт-Петербург</td>\n",
       "      <td>35250.0</td>\n",
       "      <td>16414.0</td>\n",
       "      <td>0.0</td>\n",
       "      <td>NaN</td>\n",
       "      <td>1.0</td>\n",
       "      <td>400.0</td>\n",
       "      <td>211.0</td>\n",
       "    </tr>\n",
       "    <tr>\n",
       "      <td>22877</td>\n",
       "      <td>2</td>\n",
       "      <td>4280000.0</td>\n",
       "      <td>28.00</td>\n",
       "      <td>2017-10-26T00:00:00</td>\n",
       "      <td>0</td>\n",
       "      <td>2.70</td>\n",
       "      <td>19.0</td>\n",
       "      <td>18.00</td>\n",
       "      <td>10</td>\n",
       "      <td>False</td>\n",
       "      <td>...</td>\n",
       "      <td>NaN</td>\n",
       "      <td>0.0</td>\n",
       "      <td>Санкт-Петербург</td>\n",
       "      <td>18982.0</td>\n",
       "      <td>7206.0</td>\n",
       "      <td>0.0</td>\n",
       "      <td>NaN</td>\n",
       "      <td>1.0</td>\n",
       "      <td>415.0</td>\n",
       "      <td>151.0</td>\n",
       "    </tr>\n",
       "    <tr>\n",
       "      <td>23210</td>\n",
       "      <td>7</td>\n",
       "      <td>3200000.0</td>\n",
       "      <td>26.00</td>\n",
       "      <td>2017-09-01T00:00:00</td>\n",
       "      <td>0</td>\n",
       "      <td>2.65</td>\n",
       "      <td>25.0</td>\n",
       "      <td>18.00</td>\n",
       "      <td>16</td>\n",
       "      <td>False</td>\n",
       "      <td>...</td>\n",
       "      <td>NaN</td>\n",
       "      <td>0.0</td>\n",
       "      <td>Санкт-Петербург</td>\n",
       "      <td>11405.0</td>\n",
       "      <td>13222.0</td>\n",
       "      <td>0.0</td>\n",
       "      <td>NaN</td>\n",
       "      <td>1.0</td>\n",
       "      <td>623.0</td>\n",
       "      <td>14.0</td>\n",
       "    </tr>\n",
       "    <tr>\n",
       "      <td>23554</td>\n",
       "      <td>15</td>\n",
       "      <td>3350000.0</td>\n",
       "      <td>26.00</td>\n",
       "      <td>2018-09-07T00:00:00</td>\n",
       "      <td>0</td>\n",
       "      <td>2.65</td>\n",
       "      <td>19.0</td>\n",
       "      <td>NaN</td>\n",
       "      <td>8</td>\n",
       "      <td>False</td>\n",
       "      <td>...</td>\n",
       "      <td>NaN</td>\n",
       "      <td>0.0</td>\n",
       "      <td>Санкт-Петербург</td>\n",
       "      <td>18090.0</td>\n",
       "      <td>17092.0</td>\n",
       "      <td>0.0</td>\n",
       "      <td>NaN</td>\n",
       "      <td>2.0</td>\n",
       "      <td>112.0</td>\n",
       "      <td>31.0</td>\n",
       "    </tr>\n",
       "    <tr>\n",
       "      <td>23637</td>\n",
       "      <td>8</td>\n",
       "      <td>2350000.0</td>\n",
       "      <td>26.00</td>\n",
       "      <td>2018-06-26T00:00:00</td>\n",
       "      <td>0</td>\n",
       "      <td>2.65</td>\n",
       "      <td>25.0</td>\n",
       "      <td>17.00</td>\n",
       "      <td>4</td>\n",
       "      <td>False</td>\n",
       "      <td>...</td>\n",
       "      <td>NaN</td>\n",
       "      <td>2.0</td>\n",
       "      <td>посёлок Бугры</td>\n",
       "      <td>NaN</td>\n",
       "      <td>NaN</td>\n",
       "      <td>NaN</td>\n",
       "      <td>NaN</td>\n",
       "      <td>NaN</td>\n",
       "      <td>NaN</td>\n",
       "      <td>207.0</td>\n",
       "    </tr>\n",
       "  </tbody>\n",
       "</table>\n",
       "<p>146 rows × 22 columns</p>\n",
       "</div>"
      ],
      "text/plain": [
       "       total_images  last_price  total_area first_day_exposition  rooms  \\\n",
       "144               1   2450000.0       27.00  2017-03-30T00:00:00      0   \n",
       "440               8   2480000.0       27.11  2018-03-12T00:00:00      0   \n",
       "608               2   1850000.0       25.00  2019-02-20T00:00:00      0   \n",
       "697              12   2500000.0       24.10  2017-12-01T00:00:00      0   \n",
       "716               5   1500000.0       17.00  2017-06-07T00:00:00      0   \n",
       "...             ...         ...         ...                  ...    ...   \n",
       "22867             8   3090000.0       30.00  2017-12-17T00:00:00      0   \n",
       "22877             2   4280000.0       28.00  2017-10-26T00:00:00      0   \n",
       "23210             7   3200000.0       26.00  2017-09-01T00:00:00      0   \n",
       "23554            15   3350000.0       26.00  2018-09-07T00:00:00      0   \n",
       "23637             8   2350000.0       26.00  2018-06-26T00:00:00      0   \n",
       "\n",
       "       ceiling_height  floors_total  living_area  floor  is_apartment  ...  \\\n",
       "144              2.65          24.0        15.50      2         False  ...   \n",
       "440              2.65          17.0        24.75      4         False  ...   \n",
       "608              2.65          10.0          NaN      7         False  ...   \n",
       "697              2.75          25.0        17.50     21         False  ...   \n",
       "716              2.70           9.0        12.00      1         False  ...   \n",
       "...               ...           ...          ...    ...           ...  ...   \n",
       "22867            2.65          25.0        18.20      5         False  ...   \n",
       "22877            2.70          19.0        18.00     10         False  ...   \n",
       "23210            2.65          25.0        18.00     16         False  ...   \n",
       "23554            2.65          19.0          NaN      8         False  ...   \n",
       "23637            2.65          25.0        17.00      4         False  ...   \n",
       "\n",
       "       kitchen_area  balcony    locality_name  airports_nearest  \\\n",
       "144             NaN      2.0   посёлок Мурино               NaN   \n",
       "440             NaN      2.0  Санкт-Петербург           38171.0   \n",
       "608             NaN      0.0   посёлок Шушары               NaN   \n",
       "697             NaN      0.0  деревня Кудрово               NaN   \n",
       "716             NaN      0.0   посёлок Шушары           18654.0   \n",
       "...             ...      ...              ...               ...   \n",
       "22867           NaN      0.0  Санкт-Петербург           35250.0   \n",
       "22877           NaN      0.0  Санкт-Петербург           18982.0   \n",
       "23210           NaN      0.0  Санкт-Петербург           11405.0   \n",
       "23554           NaN      0.0  Санкт-Петербург           18090.0   \n",
       "23637           NaN      2.0    посёлок Бугры               NaN   \n",
       "\n",
       "      cityCenters_nearest  parks_around3000  parks_nearest  ponds_around3000  \\\n",
       "144                   NaN               NaN            NaN               NaN   \n",
       "440               15015.0               0.0            NaN               2.0   \n",
       "608                   NaN               NaN            NaN               NaN   \n",
       "697                   NaN               NaN            NaN               NaN   \n",
       "716               29846.0               0.0            NaN               0.0   \n",
       "...                   ...               ...            ...               ...   \n",
       "22867             16414.0               0.0            NaN               1.0   \n",
       "22877              7206.0               0.0            NaN               1.0   \n",
       "23210             13222.0               0.0            NaN               1.0   \n",
       "23554             17092.0               0.0            NaN               2.0   \n",
       "23637                 NaN               NaN            NaN               NaN   \n",
       "\n",
       "       ponds_nearest  days_exposition  \n",
       "144              NaN            181.0  \n",
       "440            982.0             64.0  \n",
       "608              NaN             29.0  \n",
       "697              NaN            201.0  \n",
       "716              NaN             40.0  \n",
       "...              ...              ...  \n",
       "22867          400.0            211.0  \n",
       "22877          415.0            151.0  \n",
       "23210          623.0             14.0  \n",
       "23554          112.0             31.0  \n",
       "23637            NaN            207.0  \n",
       "\n",
       "[146 rows x 22 columns]"
      ]
     },
     "execution_count": 13,
     "metadata": {},
     "output_type": "execute_result"
    }
   ],
   "source": [
    "#Проверим пропуски в кухни, соответствуют ли они открытой планировке или студии\n",
    "display(data.query('kitchen_area.isna() and open_plan==True'))\n",
    "data.query('kitchen_area.isna() and studio==True')"
   ]
  },
  {
   "cell_type": "code",
   "execution_count": 14,
   "metadata": {},
   "outputs": [],
   "source": [
    "# 213 пропусков и все находятся в категории 0 комнат, что соответствует студии или открытой планировке\n",
    "# Обычно в таких квартирах указывают примерно 5 квадратных метров на кухню\n",
    "data['kitchen_area'] = data['kitchen_area'].fillna(5)"
   ]
  },
  {
   "cell_type": "code",
   "execution_count": 15,
   "metadata": {
    "scrolled": true
   },
   "outputs": [],
   "source": [
    "#Производим замену пропусков на сгруппированные медианы\n",
    "data['living_area'] = data['living_area'].fillna(data.groupby('rooms')['living_area'].transform(\"median\"))\n",
    "data['kitchen_area'] = data['kitchen_area'].fillna(data.groupby('rooms')['kitchen_area'].transform(\"median\"))"
   ]
  },
  {
   "cell_type": "code",
   "execution_count": 16,
   "metadata": {},
   "outputs": [],
   "source": [
    "# Удаление некорректных значений жилой площади\n",
    "data = data.drop(data.query('living_area + kitchen_area > total_area')['living_area'].index)"
   ]
  },
  {
   "cell_type": "code",
   "execution_count": 17,
   "metadata": {},
   "outputs": [
    {
     "name": "stdout",
     "output_type": "stream",
     "text": [
      "Жилая площадь > общая: 0\n",
      "Жилая площадь + кухня > общая: 0\n"
     ]
    }
   ],
   "source": [
    "#код ревьюера\n",
    "print('Жилая площадь > общая:', data[data['living_area'] > data['total_area']].shape[0])\n",
    "print('Жилая площадь + кухня > общая:', (data[(data['living_area'] + data['kitchen_area']) > data['total_area']].shape[0]))"
   ]
  },
  {
   "cell_type": "code",
   "execution_count": 18,
   "metadata": {},
   "outputs": [],
   "source": [
    "#переводим комнаты в целочисленные, т.к. не может быть половина комнаты\n",
    "data['rooms'] = data['rooms'].astype('int')\n",
    "# так же цены у нас указаны без дробных частей, человеческое восприятие сейчас немножечко восторжествует \n",
    "data['last_price'] = data['last_price'].astype('int')\n",
    "# балконы тоже не хотят быть дробными\n",
    "data['balcony'] = data['balcony'].astype('int')\n",
    "data['floors_total'] = data['floors_total'].astype('int')"
   ]
  },
  {
   "cell_type": "code",
   "execution_count": 19,
   "metadata": {},
   "outputs": [],
   "source": [
    "#переводим в удобный формат времени\n",
    "data['first_day_exposition'] = pd.to_datetime(data['first_day_exposition'], format='%Y-%m-%dT')"
   ]
  },
  {
   "cell_type": "code",
   "execution_count": 20,
   "metadata": {
    "scrolled": true
   },
   "outputs": [
    {
     "name": "stdout",
     "output_type": "stream",
     "text": [
      "<class 'pandas.core.frame.DataFrame'>\n",
      "Int64Index: 23399 entries, 0 to 23698\n",
      "Data columns (total 22 columns):\n",
      "total_images            23399 non-null int64\n",
      "last_price              23399 non-null int64\n",
      "total_area              23399 non-null float64\n",
      "first_day_exposition    23399 non-null datetime64[ns]\n",
      "rooms                   23399 non-null int64\n",
      "ceiling_height          23399 non-null float64\n",
      "floors_total            23399 non-null int64\n",
      "living_area             23399 non-null float64\n",
      "floor                   23399 non-null int64\n",
      "is_apartment            23399 non-null bool\n",
      "studio                  23399 non-null bool\n",
      "open_plan               23399 non-null bool\n",
      "kitchen_area            23399 non-null float64\n",
      "balcony                 23399 non-null int64\n",
      "locality_name           23399 non-null object\n",
      "airports_nearest        17938 non-null float64\n",
      "cityCenters_nearest     17961 non-null float64\n",
      "parks_around3000        17962 non-null float64\n",
      "parks_nearest           7987 non-null float64\n",
      "ponds_around3000        17962 non-null float64\n",
      "ponds_nearest           8978 non-null float64\n",
      "days_exposition         20242 non-null float64\n",
      "dtypes: bool(3), datetime64[ns](1), float64(11), int64(6), object(1)\n",
      "memory usage: 3.6+ MB\n"
     ]
    }
   ],
   "source": [
    "data.info()"
   ]
  },
  {
   "cell_type": "markdown",
   "metadata": {},
   "source": [
    "Требуемая предобработка данных произведена, значимые столбцы приведены к правильным типам. Удалил небольшое количество строк с пропусками, на конечном результате не отразится, потому что число маленькое. <b>Заменил пропущенные данные в рассчетах жилой площади и кухни на медиану по группировке комнат и удалил некорректные по соотношению жилой площади + кухни к общей.</b> Заполнил пропуски балконов, исходя из логики клиента \"нет балкона пропускаем пункт\". Заменил очень высокие потолки на медиану. Убрал пропуски в столбцах апартаментов, открытой планировки и студии, по принципу: пропуск соответсвует отрицанию пункта. Не стал убирать нарушение стиля в некоторых столбцах, потому что использоваться они не будут, кроме столбца с удаленностью от центра\n",
    "\n",
    "<b> Вероятнее всего пропуски площади могли возникнуть из-за сбоев, т.к. в большинстве из них в других столбцах были пропуски, либо кто-то пытался удалить из объявления эту информацию. Площадь кухни чаще не указывали в свободных планировках. Аномально высокие потолки могут быть и сбоем, либо же нарочной \"опиской\" для увеличения стоимости. Автоматические столбцы с расстоянием и парками и прудами вероятнее всего не замерялись, поэтому и отсутствуют."
   ]
  },
  {
   "cell_type": "markdown",
   "metadata": {},
   "source": [
    "## Расчёты и добавление результатов в таблицу"
   ]
  },
  {
   "cell_type": "code",
   "execution_count": 21,
   "metadata": {},
   "outputs": [],
   "source": [
    "#Добавление столбца стоимости за квадратный метр, округленного до 3 знаков\n",
    "data['cost_sq_meter'] = round(data['last_price']/data['total_area'],3)"
   ]
  },
  {
   "cell_type": "code",
   "execution_count": 22,
   "metadata": {},
   "outputs": [],
   "source": [
    "# напишем функцию принимающую строку на вход и выдающую категорию этажа\n",
    "def category_floor(row):\n",
    "    if row['floor']!=row['floors_total'] and row['floor']==1:\n",
    "        return('первый')\n",
    "    elif row['floor']==row['floors_total']:\n",
    "        if row['floor']==1:\n",
    "            return('первый')\n",
    "        else:\n",
    "            return('последний')\n",
    "    else:\n",
    "        return('другой')\n",
    "\n",
    "data['category_floor'] = data.apply(category_floor,axis=1)"
   ]
  },
  {
   "cell_type": "code",
   "execution_count": 23,
   "metadata": {
    "scrolled": true
   },
   "outputs": [
    {
     "data": {
      "text/plain": [
       "другой       17221\n",
       "последний     3303\n",
       "первый        2875\n",
       "Name: category_floor, dtype: int64"
      ]
     },
     "execution_count": 23,
     "metadata": {},
     "output_type": "execute_result"
    }
   ],
   "source": [
    "data['category_floor'].value_counts()"
   ]
  },
  {
   "cell_type": "code",
   "execution_count": 24,
   "metadata": {},
   "outputs": [],
   "source": [
    "#Добавление столбца отношения жилой площади к общей, округленного до 3 знаков\n",
    "data['living_to_total'] = round(data['living_area']/data['total_area'],3)"
   ]
  },
  {
   "cell_type": "code",
   "execution_count": 25,
   "metadata": {},
   "outputs": [],
   "source": [
    "#Добавление столбца отношения площади кухни к общей, округленного до 3 знаков\n",
    "data['kitchen_to_total'] = round(data['kitchen_area']/data['total_area'],3)"
   ]
  },
  {
   "cell_type": "code",
   "execution_count": 26,
   "metadata": {},
   "outputs": [],
   "source": [
    "#Добавление столбца с днем недели\n",
    "data['exp_day'] = data['first_day_exposition'].dt.weekday"
   ]
  },
  {
   "cell_type": "code",
   "execution_count": 27,
   "metadata": {},
   "outputs": [],
   "source": [
    "#Добавление столбца с месяцем\n",
    "data['exp_month'] = data['first_day_exposition'].dt.month"
   ]
  },
  {
   "cell_type": "code",
   "execution_count": 28,
   "metadata": {},
   "outputs": [],
   "source": [
    "#Добавление столбца с годом\n",
    "data['exp_year'] = data['first_day_exposition'].dt.year"
   ]
  },
  {
   "cell_type": "code",
   "execution_count": 29,
   "metadata": {
    "scrolled": true
   },
   "outputs": [
    {
     "data": {
      "text/html": [
       "<div>\n",
       "<style scoped>\n",
       "    .dataframe tbody tr th:only-of-type {\n",
       "        vertical-align: middle;\n",
       "    }\n",
       "\n",
       "    .dataframe tbody tr th {\n",
       "        vertical-align: top;\n",
       "    }\n",
       "\n",
       "    .dataframe thead th {\n",
       "        text-align: right;\n",
       "    }\n",
       "</style>\n",
       "<table border=\"1\" class=\"dataframe\">\n",
       "  <thead>\n",
       "    <tr style=\"text-align: right;\">\n",
       "      <th></th>\n",
       "      <th>total_images</th>\n",
       "      <th>last_price</th>\n",
       "      <th>total_area</th>\n",
       "      <th>first_day_exposition</th>\n",
       "      <th>rooms</th>\n",
       "      <th>ceiling_height</th>\n",
       "      <th>floors_total</th>\n",
       "      <th>living_area</th>\n",
       "      <th>floor</th>\n",
       "      <th>is_apartment</th>\n",
       "      <th>...</th>\n",
       "      <th>ponds_around3000</th>\n",
       "      <th>ponds_nearest</th>\n",
       "      <th>days_exposition</th>\n",
       "      <th>cost_sq_meter</th>\n",
       "      <th>category_floor</th>\n",
       "      <th>living_to_total</th>\n",
       "      <th>kitchen_to_total</th>\n",
       "      <th>exp_day</th>\n",
       "      <th>exp_month</th>\n",
       "      <th>exp_year</th>\n",
       "    </tr>\n",
       "  </thead>\n",
       "  <tbody>\n",
       "    <tr>\n",
       "      <td>0</td>\n",
       "      <td>20</td>\n",
       "      <td>13000000</td>\n",
       "      <td>108.00</td>\n",
       "      <td>2019-03-07</td>\n",
       "      <td>3</td>\n",
       "      <td>2.70</td>\n",
       "      <td>16</td>\n",
       "      <td>51.00</td>\n",
       "      <td>8</td>\n",
       "      <td>False</td>\n",
       "      <td>...</td>\n",
       "      <td>2.0</td>\n",
       "      <td>755.0</td>\n",
       "      <td>NaN</td>\n",
       "      <td>120370.370</td>\n",
       "      <td>другой</td>\n",
       "      <td>0.472</td>\n",
       "      <td>0.231</td>\n",
       "      <td>3</td>\n",
       "      <td>3</td>\n",
       "      <td>2019</td>\n",
       "    </tr>\n",
       "    <tr>\n",
       "      <td>1</td>\n",
       "      <td>7</td>\n",
       "      <td>3350000</td>\n",
       "      <td>40.40</td>\n",
       "      <td>2018-12-04</td>\n",
       "      <td>1</td>\n",
       "      <td>2.65</td>\n",
       "      <td>11</td>\n",
       "      <td>18.60</td>\n",
       "      <td>1</td>\n",
       "      <td>False</td>\n",
       "      <td>...</td>\n",
       "      <td>0.0</td>\n",
       "      <td>NaN</td>\n",
       "      <td>81.0</td>\n",
       "      <td>82920.792</td>\n",
       "      <td>первый</td>\n",
       "      <td>0.460</td>\n",
       "      <td>0.272</td>\n",
       "      <td>1</td>\n",
       "      <td>12</td>\n",
       "      <td>2018</td>\n",
       "    </tr>\n",
       "    <tr>\n",
       "      <td>2</td>\n",
       "      <td>10</td>\n",
       "      <td>5196000</td>\n",
       "      <td>56.00</td>\n",
       "      <td>2015-08-20</td>\n",
       "      <td>2</td>\n",
       "      <td>2.65</td>\n",
       "      <td>5</td>\n",
       "      <td>34.30</td>\n",
       "      <td>4</td>\n",
       "      <td>False</td>\n",
       "      <td>...</td>\n",
       "      <td>2.0</td>\n",
       "      <td>574.0</td>\n",
       "      <td>558.0</td>\n",
       "      <td>92785.714</td>\n",
       "      <td>другой</td>\n",
       "      <td>0.612</td>\n",
       "      <td>0.148</td>\n",
       "      <td>3</td>\n",
       "      <td>8</td>\n",
       "      <td>2015</td>\n",
       "    </tr>\n",
       "    <tr>\n",
       "      <td>3</td>\n",
       "      <td>0</td>\n",
       "      <td>64900000</td>\n",
       "      <td>159.00</td>\n",
       "      <td>2015-07-24</td>\n",
       "      <td>3</td>\n",
       "      <td>2.65</td>\n",
       "      <td>14</td>\n",
       "      <td>45.00</td>\n",
       "      <td>9</td>\n",
       "      <td>False</td>\n",
       "      <td>...</td>\n",
       "      <td>3.0</td>\n",
       "      <td>234.0</td>\n",
       "      <td>424.0</td>\n",
       "      <td>408176.101</td>\n",
       "      <td>другой</td>\n",
       "      <td>0.283</td>\n",
       "      <td>0.031</td>\n",
       "      <td>4</td>\n",
       "      <td>7</td>\n",
       "      <td>2015</td>\n",
       "    </tr>\n",
       "    <tr>\n",
       "      <td>4</td>\n",
       "      <td>2</td>\n",
       "      <td>10000000</td>\n",
       "      <td>100.00</td>\n",
       "      <td>2018-06-19</td>\n",
       "      <td>2</td>\n",
       "      <td>3.03</td>\n",
       "      <td>14</td>\n",
       "      <td>32.00</td>\n",
       "      <td>13</td>\n",
       "      <td>False</td>\n",
       "      <td>...</td>\n",
       "      <td>1.0</td>\n",
       "      <td>48.0</td>\n",
       "      <td>121.0</td>\n",
       "      <td>100000.000</td>\n",
       "      <td>другой</td>\n",
       "      <td>0.320</td>\n",
       "      <td>0.410</td>\n",
       "      <td>1</td>\n",
       "      <td>6</td>\n",
       "      <td>2018</td>\n",
       "    </tr>\n",
       "    <tr>\n",
       "      <td>5</td>\n",
       "      <td>10</td>\n",
       "      <td>2890000</td>\n",
       "      <td>30.40</td>\n",
       "      <td>2018-09-10</td>\n",
       "      <td>1</td>\n",
       "      <td>2.65</td>\n",
       "      <td>12</td>\n",
       "      <td>14.40</td>\n",
       "      <td>5</td>\n",
       "      <td>False</td>\n",
       "      <td>...</td>\n",
       "      <td>NaN</td>\n",
       "      <td>NaN</td>\n",
       "      <td>55.0</td>\n",
       "      <td>95065.789</td>\n",
       "      <td>другой</td>\n",
       "      <td>0.474</td>\n",
       "      <td>0.299</td>\n",
       "      <td>0</td>\n",
       "      <td>9</td>\n",
       "      <td>2018</td>\n",
       "    </tr>\n",
       "    <tr>\n",
       "      <td>6</td>\n",
       "      <td>6</td>\n",
       "      <td>3700000</td>\n",
       "      <td>37.30</td>\n",
       "      <td>2017-11-02</td>\n",
       "      <td>1</td>\n",
       "      <td>2.65</td>\n",
       "      <td>26</td>\n",
       "      <td>10.60</td>\n",
       "      <td>6</td>\n",
       "      <td>False</td>\n",
       "      <td>...</td>\n",
       "      <td>0.0</td>\n",
       "      <td>NaN</td>\n",
       "      <td>155.0</td>\n",
       "      <td>99195.710</td>\n",
       "      <td>другой</td>\n",
       "      <td>0.284</td>\n",
       "      <td>0.386</td>\n",
       "      <td>3</td>\n",
       "      <td>11</td>\n",
       "      <td>2017</td>\n",
       "    </tr>\n",
       "    <tr>\n",
       "      <td>7</td>\n",
       "      <td>5</td>\n",
       "      <td>7915000</td>\n",
       "      <td>71.60</td>\n",
       "      <td>2019-04-18</td>\n",
       "      <td>2</td>\n",
       "      <td>2.65</td>\n",
       "      <td>24</td>\n",
       "      <td>30.50</td>\n",
       "      <td>22</td>\n",
       "      <td>False</td>\n",
       "      <td>...</td>\n",
       "      <td>0.0</td>\n",
       "      <td>NaN</td>\n",
       "      <td>NaN</td>\n",
       "      <td>110544.693</td>\n",
       "      <td>другой</td>\n",
       "      <td>0.426</td>\n",
       "      <td>0.264</td>\n",
       "      <td>3</td>\n",
       "      <td>4</td>\n",
       "      <td>2019</td>\n",
       "    </tr>\n",
       "    <tr>\n",
       "      <td>8</td>\n",
       "      <td>20</td>\n",
       "      <td>2900000</td>\n",
       "      <td>33.16</td>\n",
       "      <td>2018-05-23</td>\n",
       "      <td>1</td>\n",
       "      <td>2.65</td>\n",
       "      <td>27</td>\n",
       "      <td>15.43</td>\n",
       "      <td>26</td>\n",
       "      <td>False</td>\n",
       "      <td>...</td>\n",
       "      <td>NaN</td>\n",
       "      <td>NaN</td>\n",
       "      <td>189.0</td>\n",
       "      <td>87454.765</td>\n",
       "      <td>другой</td>\n",
       "      <td>0.465</td>\n",
       "      <td>0.266</td>\n",
       "      <td>2</td>\n",
       "      <td>5</td>\n",
       "      <td>2018</td>\n",
       "    </tr>\n",
       "    <tr>\n",
       "      <td>9</td>\n",
       "      <td>18</td>\n",
       "      <td>5400000</td>\n",
       "      <td>61.00</td>\n",
       "      <td>2017-02-26</td>\n",
       "      <td>3</td>\n",
       "      <td>2.50</td>\n",
       "      <td>9</td>\n",
       "      <td>43.60</td>\n",
       "      <td>7</td>\n",
       "      <td>False</td>\n",
       "      <td>...</td>\n",
       "      <td>0.0</td>\n",
       "      <td>NaN</td>\n",
       "      <td>289.0</td>\n",
       "      <td>88524.590</td>\n",
       "      <td>другой</td>\n",
       "      <td>0.715</td>\n",
       "      <td>0.107</td>\n",
       "      <td>6</td>\n",
       "      <td>2</td>\n",
       "      <td>2017</td>\n",
       "    </tr>\n",
       "  </tbody>\n",
       "</table>\n",
       "<p>10 rows × 29 columns</p>\n",
       "</div>"
      ],
      "text/plain": [
       "   total_images  last_price  total_area first_day_exposition  rooms  \\\n",
       "0            20    13000000      108.00           2019-03-07      3   \n",
       "1             7     3350000       40.40           2018-12-04      1   \n",
       "2            10     5196000       56.00           2015-08-20      2   \n",
       "3             0    64900000      159.00           2015-07-24      3   \n",
       "4             2    10000000      100.00           2018-06-19      2   \n",
       "5            10     2890000       30.40           2018-09-10      1   \n",
       "6             6     3700000       37.30           2017-11-02      1   \n",
       "7             5     7915000       71.60           2019-04-18      2   \n",
       "8            20     2900000       33.16           2018-05-23      1   \n",
       "9            18     5400000       61.00           2017-02-26      3   \n",
       "\n",
       "   ceiling_height  floors_total  living_area  floor  is_apartment  ...  \\\n",
       "0            2.70            16        51.00      8         False  ...   \n",
       "1            2.65            11        18.60      1         False  ...   \n",
       "2            2.65             5        34.30      4         False  ...   \n",
       "3            2.65            14        45.00      9         False  ...   \n",
       "4            3.03            14        32.00     13         False  ...   \n",
       "5            2.65            12        14.40      5         False  ...   \n",
       "6            2.65            26        10.60      6         False  ...   \n",
       "7            2.65            24        30.50     22         False  ...   \n",
       "8            2.65            27        15.43     26         False  ...   \n",
       "9            2.50             9        43.60      7         False  ...   \n",
       "\n",
       "   ponds_around3000  ponds_nearest  days_exposition  cost_sq_meter  \\\n",
       "0               2.0          755.0              NaN     120370.370   \n",
       "1               0.0            NaN             81.0      82920.792   \n",
       "2               2.0          574.0            558.0      92785.714   \n",
       "3               3.0          234.0            424.0     408176.101   \n",
       "4               1.0           48.0            121.0     100000.000   \n",
       "5               NaN            NaN             55.0      95065.789   \n",
       "6               0.0            NaN            155.0      99195.710   \n",
       "7               0.0            NaN              NaN     110544.693   \n",
       "8               NaN            NaN            189.0      87454.765   \n",
       "9               0.0            NaN            289.0      88524.590   \n",
       "\n",
       "  category_floor  living_to_total  kitchen_to_total  exp_day  exp_month  \\\n",
       "0         другой            0.472             0.231        3          3   \n",
       "1         первый            0.460             0.272        1         12   \n",
       "2         другой            0.612             0.148        3          8   \n",
       "3         другой            0.283             0.031        4          7   \n",
       "4         другой            0.320             0.410        1          6   \n",
       "5         другой            0.474             0.299        0          9   \n",
       "6         другой            0.284             0.386        3         11   \n",
       "7         другой            0.426             0.264        3          4   \n",
       "8         другой            0.465             0.266        2          5   \n",
       "9         другой            0.715             0.107        6          2   \n",
       "\n",
       "   exp_year  \n",
       "0      2019  \n",
       "1      2018  \n",
       "2      2015  \n",
       "3      2015  \n",
       "4      2018  \n",
       "5      2018  \n",
       "6      2017  \n",
       "7      2019  \n",
       "8      2018  \n",
       "9      2017  \n",
       "\n",
       "[10 rows x 29 columns]"
      ]
     },
     "execution_count": 29,
     "metadata": {},
     "output_type": "execute_result"
    }
   ],
   "source": [
    "data.head(10)"
   ]
  },
  {
   "cell_type": "markdown",
   "metadata": {},
   "source": [
    "Требующиеся для последующиего анализа столбцы созданы, можно рассматривать взаимосвязи в данных."
   ]
  },
  {
   "cell_type": "markdown",
   "metadata": {},
   "source": [
    "## Исследовательский анализ данных"
   ]
  },
  {
   "cell_type": "code",
   "execution_count": 30,
   "metadata": {
    "scrolled": true
   },
   "outputs": [],
   "source": [
    "#Напечатать сразу много графиков можно такой командой, но для качественного рассмотрения таких данных \n",
    "# стандартные параметры не подходят, т.к. не отражают действительности некоторых столбцов\n",
    "#for i in ['ceiling_height','days_exposition','rooms', 'last_price', 'total_area']:\n",
    "#    data.hist(i,bins=100)\n",
    "#Поэтому я подробно рассмотрю каждый график с отдельно подобранными параметрами"
   ]
  },
  {
   "cell_type": "code",
   "execution_count": 31,
   "metadata": {
    "scrolled": false
   },
   "outputs": [
    {
     "data": {
      "text/plain": [
       "52.0"
      ]
     },
     "metadata": {},
     "output_type": "display_data"
    },
    {
     "data": {
      "text/plain": [
       "array([[<matplotlib.axes._subplots.AxesSubplot object at 0x7fbd3f6e0550>]],\n",
       "      dtype=object)"
      ]
     },
     "execution_count": 31,
     "metadata": {},
     "output_type": "execute_result"
    },
    {
     "data": {
      "image/png": "[encoded data removed]",
      "text/plain": [
       "<Figure size 720x360 with 1 Axes>"
      ]
     },
     "metadata": {
      "needs_background": "light"
     },
     "output_type": "display_data"
    }
   ],
   "source": [
    "display(data['total_area'].median())\n",
    "data.hist('total_area', bins=100, range=(0,350), figsize=(10,5))"
   ]
  },
  {
   "cell_type": "code",
   "execution_count": 32,
   "metadata": {
    "scrolled": false
   },
   "outputs": [
    {
     "data": {
      "text/plain": [
       "4650000.0"
      ]
     },
     "metadata": {},
     "output_type": "display_data"
    },
    {
     "data": {
      "text/plain": [
       "array([[<matplotlib.axes._subplots.AxesSubplot object at 0x7fbd3eb51e10>]],\n",
       "      dtype=object)"
      ]
     },
     "execution_count": 32,
     "metadata": {},
     "output_type": "execute_result"
    },
    {
     "data": {
      "image/png": "[encoded data removed]",
      "text/plain": [
       "<Figure size 720x360 with 1 Axes>"
      ]
     },
     "metadata": {
      "needs_background": "light"
     },
     "output_type": "display_data"
    }
   ],
   "source": [
    "display(data['last_price'].median())\n",
    "data.hist('last_price', bins=50, range=(100000,20000000), figsize=(10,5))"
   ]
  },
  {
   "cell_type": "code",
   "execution_count": 33,
   "metadata": {
    "scrolled": true
   },
   "outputs": [
    {
     "data": {
      "text/plain": [
       "<matplotlib.axes._subplots.AxesSubplot at 0x7fbd3eab6dd0>"
      ]
     },
     "execution_count": 33,
     "metadata": {},
     "output_type": "execute_result"
    },
    {
     "data": {
      "image/png": "[encoded data removed]",
      "text/plain": [
       "<Figure size 432x288 with 1 Axes>"
      ]
     },
     "metadata": {
      "needs_background": "light"
     },
     "output_type": "display_data"
    }
   ],
   "source": [
    "data.query('last_price<10000000').boxplot('last_price')"
   ]
  },
  {
   "cell_type": "code",
   "execution_count": 34,
   "metadata": {
    "scrolled": true
   },
   "outputs": [
    {
     "data": {
      "text/plain": [
       "2.0"
      ]
     },
     "metadata": {},
     "output_type": "display_data"
    },
    {
     "data": {
      "text/plain": [
       "array([[<matplotlib.axes._subplots.AxesSubplot object at 0x7fbd3e9d34d0>]],\n",
       "      dtype=object)"
      ]
     },
     "execution_count": 34,
     "metadata": {},
     "output_type": "execute_result"
    },
    {
     "data": {
      "image/png": "[encoded data removed]",
      "text/plain": [
       "<Figure size 720x360 with 1 Axes>"
      ]
     },
     "metadata": {
      "needs_background": "light"
     },
     "output_type": "display_data"
    }
   ],
   "source": [
    "display(data['rooms'].median())\n",
    "data.hist('rooms', bins=10, range=(0,10), figsize=(10,5))"
   ]
  },
  {
   "cell_type": "code",
   "execution_count": 35,
   "metadata": {
    "scrolled": false
   },
   "outputs": [
    {
     "data": {
      "text/plain": [
       "2.65"
      ]
     },
     "metadata": {},
     "output_type": "display_data"
    },
    {
     "data": {
      "text/plain": [
       "array([[<matplotlib.axes._subplots.AxesSubplot object at 0x7fbd3e99f250>]],\n",
       "      dtype=object)"
      ]
     },
     "execution_count": 35,
     "metadata": {},
     "output_type": "execute_result"
    },
    {
     "data": {
      "image/png": "[encoded data removed]",
      "text/plain": [
       "<Figure size 720x360 with 1 Axes>"
      ]
     },
     "metadata": {
      "needs_background": "light"
     },
     "output_type": "display_data"
    }
   ],
   "source": [
    "display(data['ceiling_height'].median())\n",
    "data.hist('ceiling_height', bins=40, range=(2,4), figsize=(10,5))"
   ]
  },
  {
   "cell_type": "code",
   "execution_count": 36,
   "metadata": {
    "scrolled": false
   },
   "outputs": [
    {
     "name": "stdout",
     "output_type": "stream",
     "text": [
      "Медиана = 96.0, среднее = 181.21544313802983\n"
     ]
    },
    {
     "data": {
      "text/plain": [
       "array([[<matplotlib.axes._subplots.AxesSubplot object at 0x7fbd3e859190>]],\n",
       "      dtype=object)"
      ]
     },
     "execution_count": 36,
     "metadata": {},
     "output_type": "execute_result"
    },
    {
     "data": {
      "image/png": "[encoded data removed]",
      "text/plain": [
       "<Figure size 720x360 with 1 Axes>"
      ]
     },
     "metadata": {
      "needs_background": "light"
     },
     "output_type": "display_data"
    }
   ],
   "source": [
    "print('Медиана = {}, среднее = {}'.format(data['days_exposition'].median(),data['days_exposition'].mean()))\n",
    "data.hist('days_exposition', bins=100, figsize=(10,5), range=(0,1000))"
   ]
  },
  {
   "cell_type": "markdown",
   "metadata": {},
   "source": [
    "Внимательно изучив предыдущие графики, можно сказать, что выбивающиеся значения имеются только в цене и количестве дней обьявления, но удалять стоит только объявления с ценой, количество дней не так сильно влияет на нашу оценку."
   ]
  },
  {
   "cell_type": "code",
   "execution_count": 37,
   "metadata": {
    "scrolled": false
   },
   "outputs": [
    {
     "data": {
      "text/plain": [
       "<matplotlib.axes._subplots.AxesSubplot at 0x7fbd40cab850>"
      ]
     },
     "execution_count": 37,
     "metadata": {},
     "output_type": "execute_result"
    },
    {
     "data": {
      "image/png": "[encoded data removed]",
      "text/plain": [
       "<Figure size 432x288 with 1 Axes>"
      ]
     },
     "metadata": {
      "needs_background": "light"
     },
     "output_type": "display_data"
    }
   ],
   "source": [
    "data.boxplot('days_exposition')"
   ]
  },
  {
   "cell_type": "markdown",
   "metadata": {},
   "source": [
    "На 550 располежена крайняя граница до выбросов, рассмотрим срез до этой границы"
   ]
  },
  {
   "cell_type": "code",
   "execution_count": 38,
   "metadata": {},
   "outputs": [
    {
     "data": {
      "text/plain": [
       "<matplotlib.axes._subplots.AxesSubplot at 0x7fbd365f66d0>"
      ]
     },
     "execution_count": 38,
     "metadata": {},
     "output_type": "execute_result"
    },
    {
     "data": {
      "image/png": "[encoded data removed]",
      "text/plain": [
       "<Figure size 432x288 with 1 Axes>"
      ]
     },
     "metadata": {
      "needs_background": "light"
     },
     "output_type": "display_data"
    }
   ],
   "source": [
    "#Уменьшаем количество выбивающегося шума, чтобы оценить длительный период продажи квартиры\n",
    "data.query('days_exposition<550').boxplot('days_exposition')"
   ]
  },
  {
   "cell_type": "markdown",
   "metadata": {},
   "source": [
    "<b>Видно, что теперь максимальное значение 400, что может объяснить большее количество наблюдений. Можно предположить что продажа затянулась, если объявление находится большее 400 дней.По первому квартилю:</b> 45 дней, как раз наибольшая частота объявлений снятых с продажи в этом промежутке. Поэтому быструю продажу можно считать раньше 45 дней. Обычно можно наблюдать продажу квартир в промежутке от 50 до 200 дней, что согласуется с медианой и средним по нашей выборке и отражаеся на графике."
   ]
  },
  {
   "cell_type": "code",
   "execution_count": 39,
   "metadata": {},
   "outputs": [],
   "source": [
    "# Удаление выбивающихся значений\n",
    "data = data.query('days_exposition<550 and rooms<12 and total_area<450 and ceiling_height > 2.5')"
   ]
  },
  {
   "cell_type": "markdown",
   "metadata": {},
   "source": [
    "Объявления висящие больше 550 дней оцениваются как выбросы. Больше 12 комнат это редкость, поэтому можно срезать. Квартир с площадью больше 450 квадратных метров очень мало. По цене не будем производить никаких изменений, т.к. может быть полезно для определения плохих/хороших квартир. Сократим долю квартир с потолками ниже 2.5 метров."
   ]
  },
  {
   "cell_type": "code",
   "execution_count": 40,
   "metadata": {},
   "outputs": [
    {
     "data": {
      "text/plain": [
       "6"
      ]
     },
     "execution_count": 40,
     "metadata": {},
     "output_type": "execute_result"
    }
   ],
   "source": [
    "#код ревьюера\n",
    "data.query('ceiling_height > 4.5 or ceiling_height < 2.5').shape[0]"
   ]
  },
  {
   "cell_type": "code",
   "execution_count": 41,
   "metadata": {
    "scrolled": false
   },
   "outputs": [
    {
     "data": {
      "text/plain": [
       "<matplotlib.axes._subplots.AxesSubplot at 0x7fbd36573d50>"
      ]
     },
     "execution_count": 41,
     "metadata": {},
     "output_type": "execute_result"
    },
    {
     "data": {
      "image/png": "[encoded data removed]",
      "text/plain": [
       "<Figure size 432x288 with 1 Axes>"
      ]
     },
     "metadata": {
      "needs_background": "light"
     },
     "output_type": "display_data"
    }
   ],
   "source": [
    "seaborn.barplot(x='category_floor',y='last_price',data=data)"
   ]
  },
  {
   "cell_type": "code",
   "execution_count": 42,
   "metadata": {},
   "outputs": [
    {
     "data": {
      "text/html": [
       "<div>\n",
       "<style scoped>\n",
       "    .dataframe tbody tr th:only-of-type {\n",
       "        vertical-align: middle;\n",
       "    }\n",
       "\n",
       "    .dataframe tbody tr th {\n",
       "        vertical-align: top;\n",
       "    }\n",
       "\n",
       "    .dataframe thead th {\n",
       "        text-align: right;\n",
       "    }\n",
       "</style>\n",
       "<table border=\"1\" class=\"dataframe\">\n",
       "  <thead>\n",
       "    <tr style=\"text-align: right;\">\n",
       "      <th></th>\n",
       "      <th>last_price</th>\n",
       "    </tr>\n",
       "    <tr>\n",
       "      <th>category_floor</th>\n",
       "      <th></th>\n",
       "    </tr>\n",
       "  </thead>\n",
       "  <tbody>\n",
       "    <tr>\n",
       "      <td>другой</td>\n",
       "      <td>6.531188e+06</td>\n",
       "    </tr>\n",
       "    <tr>\n",
       "      <td>первый</td>\n",
       "      <td>4.674917e+06</td>\n",
       "    </tr>\n",
       "    <tr>\n",
       "      <td>последний</td>\n",
       "      <td>7.057173e+06</td>\n",
       "    </tr>\n",
       "  </tbody>\n",
       "</table>\n",
       "</div>"
      ],
      "text/plain": [
       "                  last_price\n",
       "category_floor              \n",
       "другой          6.531188e+06\n",
       "первый          4.674917e+06\n",
       "последний       7.057173e+06"
      ]
     },
     "execution_count": 42,
     "metadata": {},
     "output_type": "execute_result"
    }
   ],
   "source": [
    "data.pivot_table(index='category_floor', values='last_price')"
   ]
  },
  {
   "cell_type": "markdown",
   "metadata": {},
   "source": [
    "Последний этаж оценивается гораздо дороже, чем первый. Есть взаимосвязь между ценой квартиры и этажем. Если увеличивается этаж, то увеличивается и стоимость квартиры."
   ]
  },
  {
   "cell_type": "code",
   "execution_count": 43,
   "metadata": {},
   "outputs": [],
   "source": [
    "#Оценим корреляцию требуемых параметров\n",
    "data_good = data[['last_price','total_area','rooms','cityCenters_nearest','first_day_exposition','category_floor']]"
   ]
  },
  {
   "cell_type": "code",
   "execution_count": 44,
   "metadata": {
    "scrolled": false
   },
   "outputs": [
    {
     "name": "stdout",
     "output_type": "stream",
     "text": [
      "                     last_price  total_area     rooms  cityCenters_nearest\n",
      "last_price             1.000000    0.593204  0.344594            -0.194964\n",
      "total_area             0.593204    1.000000  0.787289            -0.230297\n",
      "rooms                  0.344594    0.787289  1.000000            -0.191689\n",
      "cityCenters_nearest   -0.194964   -0.230297 -0.191689             1.000000\n"
     ]
    },
    {
     "data": {
      "image/png": "[encoded data removed]",
      "text/plain": [
       "<Figure size 648x648 with 16 Axes>"
      ]
     },
     "metadata": {
      "needs_background": "light"
     },
     "output_type": "display_data"
    }
   ],
   "source": [
    "pd.plotting.scatter_matrix(data_good,figsize=(9,9))\n",
    "print(data_good.corr())"
   ]
  },
  {
   "cell_type": "markdown",
   "metadata": {},
   "source": [
    "Имеются взаимосвязанные 2 фактора, влияющих на стоимость, это площадь и количество комнат."
   ]
  },
  {
   "cell_type": "code",
   "execution_count": 45,
   "metadata": {
    "scrolled": true
   },
   "outputs": [
    {
     "data": {
      "text/plain": [
       "<matplotlib.axes._subplots.AxesSubplot at 0x7fbd35fc3090>"
      ]
     },
     "execution_count": 45,
     "metadata": {},
     "output_type": "execute_result"
    },
    {
     "data": {
      "image/png": "[encoded data removed]",
      "text/plain": [
       "<Figure size 432x288 with 1 Axes>"
      ]
     },
     "metadata": {
      "needs_background": "light"
     },
     "output_type": "display_data"
    }
   ],
   "source": [
    "data.plot(x='exp_day', y='last_price', kind='scatter')"
   ]
  },
  {
   "cell_type": "code",
   "execution_count": 46,
   "metadata": {},
   "outputs": [
    {
     "data": {
      "text/plain": [
       "<matplotlib.axes._subplots.AxesSubplot at 0x7fbd346fc210>"
      ]
     },
     "execution_count": 46,
     "metadata": {},
     "output_type": "execute_result"
    },
    {
     "data": {
      "image/png": "[encoded data removed]",
      "text/plain": [
       "<Figure size 432x288 with 1 Axes>"
      ]
     },
     "metadata": {
      "needs_background": "light"
     },
     "output_type": "display_data"
    }
   ],
   "source": [
    "data.pivot_table(index='exp_day', values='last_price', aggfunc='median').plot()"
   ]
  },
  {
   "cell_type": "markdown",
   "metadata": {},
   "source": [
    "<b>Стоимость квартиры имеет примерно одинаковое отклонение в каждый из дней, но имеются дни когда цена станосится незначительно ниже. Связь очень слабая, почти отсутвует."
   ]
  },
  {
   "cell_type": "code",
   "execution_count": 47,
   "metadata": {
    "scrolled": true
   },
   "outputs": [
    {
     "data": {
      "text/plain": [
       "<matplotlib.axes._subplots.AxesSubplot at 0x7fbd35f5e590>"
      ]
     },
     "execution_count": 47,
     "metadata": {},
     "output_type": "execute_result"
    },
    {
     "data": {
      "image/png": "[encoded data removed]",
      "text/plain": [
       "<Figure size 432x288 with 1 Axes>"
      ]
     },
     "metadata": {
      "needs_background": "light"
     },
     "output_type": "display_data"
    }
   ],
   "source": [
    "data.plot(x='exp_month', y='last_price', kind='scatter', alpha=0.3)"
   ]
  },
  {
   "cell_type": "code",
   "execution_count": 48,
   "metadata": {},
   "outputs": [
    {
     "data": {
      "text/plain": [
       "<matplotlib.axes._subplots.AxesSubplot at 0x7fbd345e6f10>"
      ]
     },
     "execution_count": 48,
     "metadata": {},
     "output_type": "execute_result"
    },
    {
     "data": {
      "image/png": "[encoded data removed]",
      "text/plain": [
       "<Figure size 432x288 with 1 Axes>"
      ]
     },
     "metadata": {
      "needs_background": "light"
     },
     "output_type": "display_data"
    }
   ],
   "source": [
    "data.pivot_table(index='exp_month', values='last_price', aggfunc='median').plot()"
   ]
  },
  {
   "cell_type": "markdown",
   "metadata": {},
   "source": [
    "Отклонения величин между месяцами почти одинаковые, но имеется слабая связь цены и месяца. Квартиры выставляли дешевле в мае и июне"
   ]
  },
  {
   "cell_type": "code",
   "execution_count": 49,
   "metadata": {
    "scrolled": true
   },
   "outputs": [
    {
     "data": {
      "text/plain": [
       "<matplotlib.axes._subplots.AxesSubplot at 0x7fbd40c7d390>"
      ]
     },
     "execution_count": 49,
     "metadata": {},
     "output_type": "execute_result"
    },
    {
     "data": {
      "image/png": "[encoded data removed]",
      "text/plain": [
       "<Figure size 432x288 with 1 Axes>"
      ]
     },
     "metadata": {
      "needs_background": "light"
     },
     "output_type": "display_data"
    }
   ],
   "source": [
    "data.plot(x='exp_year', y='last_price', kind='scatter')"
   ]
  },
  {
   "cell_type": "markdown",
   "metadata": {},
   "source": [
    "Имелась тенденция на повышение цены с 2014 по 2017,после последовал спад. Предпологается, что имеется связь между годом и ценой, но она обусловлена еще какими-то зависимостями."
   ]
  },
  {
   "cell_type": "code",
   "execution_count": 50,
   "metadata": {},
   "outputs": [
    {
     "data": {
      "text/plain": [
       "<matplotlib.axes._subplots.AxesSubplot at 0x7fbd3453abd0>"
      ]
     },
     "execution_count": 50,
     "metadata": {},
     "output_type": "execute_result"
    },
    {
     "data": {
      "image/png": "[encoded data removed]",
      "text/plain": [
       "<Figure size 432x288 with 1 Axes>"
      ]
     },
     "metadata": {
      "needs_background": "light"
     },
     "output_type": "display_data"
    }
   ],
   "source": [
    "data.plot(x='balcony', y='last_price', kind='scatter')"
   ]
  },
  {
   "cell_type": "markdown",
   "metadata": {},
   "source": [
    "Чем меньше балконов, тем дороже квартира"
   ]
  },
  {
   "cell_type": "code",
   "execution_count": 51,
   "metadata": {},
   "outputs": [
    {
     "data": {
      "text/html": [
       "<div>\n",
       "<style scoped>\n",
       "    .dataframe tbody tr th:only-of-type {\n",
       "        vertical-align: middle;\n",
       "    }\n",
       "\n",
       "    .dataframe tbody tr th {\n",
       "        vertical-align: top;\n",
       "    }\n",
       "\n",
       "    .dataframe thead th {\n",
       "        text-align: right;\n",
       "    }\n",
       "</style>\n",
       "<table border=\"1\" class=\"dataframe\">\n",
       "  <thead>\n",
       "    <tr style=\"text-align: right;\">\n",
       "      <th></th>\n",
       "      <th>cost_sq_meter</th>\n",
       "    </tr>\n",
       "    <tr>\n",
       "      <th>locality_name</th>\n",
       "      <th></th>\n",
       "    </tr>\n",
       "  </thead>\n",
       "  <tbody>\n",
       "    <tr>\n",
       "      <td>Санкт-Петербург</td>\n",
       "      <td>113680.684280</td>\n",
       "    </tr>\n",
       "    <tr>\n",
       "      <td>Пушкин</td>\n",
       "      <td>103787.414536</td>\n",
       "    </tr>\n",
       "    <tr>\n",
       "      <td>деревня Кудрово</td>\n",
       "      <td>92650.207373</td>\n",
       "    </tr>\n",
       "    <tr>\n",
       "      <td>посёлок Парголово</td>\n",
       "      <td>89299.659227</td>\n",
       "    </tr>\n",
       "    <tr>\n",
       "      <td>посёлок Мурино</td>\n",
       "      <td>85697.896797</td>\n",
       "    </tr>\n",
       "    <tr>\n",
       "      <td>посёлок Шушары</td>\n",
       "      <td>77762.171162</td>\n",
       "    </tr>\n",
       "    <tr>\n",
       "      <td>Колпино</td>\n",
       "      <td>74871.092878</td>\n",
       "    </tr>\n",
       "    <tr>\n",
       "      <td>Всеволожск</td>\n",
       "      <td>69143.391062</td>\n",
       "    </tr>\n",
       "    <tr>\n",
       "      <td>Гатчина</td>\n",
       "      <td>67809.889482</td>\n",
       "    </tr>\n",
       "    <tr>\n",
       "      <td>Выборг</td>\n",
       "      <td>57324.358551</td>\n",
       "    </tr>\n",
       "  </tbody>\n",
       "</table>\n",
       "</div>"
      ],
      "text/plain": [
       "                   cost_sq_meter\n",
       "locality_name                   \n",
       "Санкт-Петербург    113680.684280\n",
       "Пушкин             103787.414536\n",
       "деревня Кудрово     92650.207373\n",
       "посёлок Парголово   89299.659227\n",
       "посёлок Мурино      85697.896797\n",
       "посёлок Шушары      77762.171162\n",
       "Колпино             74871.092878\n",
       "Всеволожск          69143.391062\n",
       "Гатчина             67809.889482\n",
       "Выборг              57324.358551"
      ]
     },
     "execution_count": 51,
     "metadata": {},
     "output_type": "execute_result"
    }
   ],
   "source": [
    "#Разберем  10 самых популярных районов по объявлениям\n",
    "t = data['locality_name'].value_counts().head(10).index\n",
    "data.query('locality_name in @t').pivot_table(index='locality_name',\n",
    "                                              values='cost_sq_meter').sort_values('cost_sq_meter', ascending=False)"
   ]
  },
  {
   "cell_type": "markdown",
   "metadata": {},
   "source": [
    "Что и следовало ожидать, самая большая стоимость квадратного метра в Санкт-Петербурге и самый дешевый из нашей десятки в Выборге."
   ]
  },
  {
   "cell_type": "code",
   "execution_count": 52,
   "metadata": {
    "scrolled": false
   },
   "outputs": [
    {
     "data": {
      "text/html": [
       "<div>\n",
       "<style scoped>\n",
       "    .dataframe tbody tr th:only-of-type {\n",
       "        vertical-align: middle;\n",
       "    }\n",
       "\n",
       "    .dataframe tbody tr th {\n",
       "        vertical-align: top;\n",
       "    }\n",
       "\n",
       "    .dataframe thead th {\n",
       "        text-align: right;\n",
       "    }\n",
       "</style>\n",
       "<table border=\"1\" class=\"dataframe\">\n",
       "  <thead>\n",
       "    <tr style=\"text-align: right;\">\n",
       "      <th></th>\n",
       "      <th>last_price</th>\n",
       "    </tr>\n",
       "    <tr>\n",
       "      <th>center_km</th>\n",
       "      <th></th>\n",
       "    </tr>\n",
       "  </thead>\n",
       "  <tbody>\n",
       "    <tr>\n",
       "      <td>0</td>\n",
       "      <td>2.896125e+07</td>\n",
       "    </tr>\n",
       "    <tr>\n",
       "      <td>1</td>\n",
       "      <td>1.804152e+07</td>\n",
       "    </tr>\n",
       "    <tr>\n",
       "      <td>2</td>\n",
       "      <td>1.619110e+07</td>\n",
       "    </tr>\n",
       "    <tr>\n",
       "      <td>3</td>\n",
       "      <td>1.012499e+07</td>\n",
       "    </tr>\n",
       "    <tr>\n",
       "      <td>4</td>\n",
       "      <td>1.159864e+07</td>\n",
       "    </tr>\n",
       "    <tr>\n",
       "      <td>5</td>\n",
       "      <td>1.224312e+07</td>\n",
       "    </tr>\n",
       "    <tr>\n",
       "      <td>6</td>\n",
       "      <td>1.372208e+07</td>\n",
       "    </tr>\n",
       "    <tr>\n",
       "      <td>7</td>\n",
       "      <td>1.337104e+07</td>\n",
       "    </tr>\n",
       "    <tr>\n",
       "      <td>8</td>\n",
       "      <td>8.898008e+06</td>\n",
       "    </tr>\n",
       "    <tr>\n",
       "      <td>9</td>\n",
       "      <td>6.946004e+06</td>\n",
       "    </tr>\n",
       "    <tr>\n",
       "      <td>10</td>\n",
       "      <td>6.494703e+06</td>\n",
       "    </tr>\n",
       "    <tr>\n",
       "      <td>11</td>\n",
       "      <td>6.095334e+06</td>\n",
       "    </tr>\n",
       "    <tr>\n",
       "      <td>12</td>\n",
       "      <td>5.740757e+06</td>\n",
       "    </tr>\n",
       "    <tr>\n",
       "      <td>13</td>\n",
       "      <td>6.323671e+06</td>\n",
       "    </tr>\n",
       "    <tr>\n",
       "      <td>14</td>\n",
       "      <td>5.562903e+06</td>\n",
       "    </tr>\n",
       "    <tr>\n",
       "      <td>15</td>\n",
       "      <td>5.746144e+06</td>\n",
       "    </tr>\n",
       "    <tr>\n",
       "      <td>16</td>\n",
       "      <td>5.413694e+06</td>\n",
       "    </tr>\n",
       "    <tr>\n",
       "      <td>17</td>\n",
       "      <td>5.338698e+06</td>\n",
       "    </tr>\n",
       "    <tr>\n",
       "      <td>18</td>\n",
       "      <td>5.362616e+06</td>\n",
       "    </tr>\n",
       "    <tr>\n",
       "      <td>19</td>\n",
       "      <td>5.090663e+06</td>\n",
       "    </tr>\n",
       "    <tr>\n",
       "      <td>20</td>\n",
       "      <td>5.830242e+06</td>\n",
       "    </tr>\n",
       "    <tr>\n",
       "      <td>21</td>\n",
       "      <td>5.094763e+06</td>\n",
       "    </tr>\n",
       "    <tr>\n",
       "      <td>22</td>\n",
       "      <td>5.203489e+06</td>\n",
       "    </tr>\n",
       "    <tr>\n",
       "      <td>23</td>\n",
       "      <td>4.677636e+06</td>\n",
       "    </tr>\n",
       "    <tr>\n",
       "      <td>24</td>\n",
       "      <td>3.835887e+06</td>\n",
       "    </tr>\n",
       "    <tr>\n",
       "      <td>25</td>\n",
       "      <td>3.945577e+06</td>\n",
       "    </tr>\n",
       "    <tr>\n",
       "      <td>26</td>\n",
       "      <td>3.954359e+06</td>\n",
       "    </tr>\n",
       "    <tr>\n",
       "      <td>27</td>\n",
       "      <td>8.300000e+06</td>\n",
       "    </tr>\n",
       "    <tr>\n",
       "      <td>28</td>\n",
       "      <td>5.026429e+06</td>\n",
       "    </tr>\n",
       "    <tr>\n",
       "      <td>29</td>\n",
       "      <td>4.050000e+06</td>\n",
       "    </tr>\n",
       "  </tbody>\n",
       "</table>\n",
       "</div>"
      ],
      "text/plain": [
       "             last_price\n",
       "center_km              \n",
       "0          2.896125e+07\n",
       "1          1.804152e+07\n",
       "2          1.619110e+07\n",
       "3          1.012499e+07\n",
       "4          1.159864e+07\n",
       "5          1.224312e+07\n",
       "6          1.372208e+07\n",
       "7          1.337104e+07\n",
       "8          8.898008e+06\n",
       "9          6.946004e+06\n",
       "10         6.494703e+06\n",
       "11         6.095334e+06\n",
       "12         5.740757e+06\n",
       "13         6.323671e+06\n",
       "14         5.562903e+06\n",
       "15         5.746144e+06\n",
       "16         5.413694e+06\n",
       "17         5.338698e+06\n",
       "18         5.362616e+06\n",
       "19         5.090663e+06\n",
       "20         5.830242e+06\n",
       "21         5.094763e+06\n",
       "22         5.203489e+06\n",
       "23         4.677636e+06\n",
       "24         3.835887e+06\n",
       "25         3.945577e+06\n",
       "26         3.954359e+06\n",
       "27         8.300000e+06\n",
       "28         5.026429e+06\n",
       "29         4.050000e+06"
      ]
     },
     "metadata": {},
     "output_type": "display_data"
    },
    {
     "data": {
      "text/plain": [
       "<matplotlib.axes._subplots.AxesSubplot at 0x7fbd34585710>"
      ]
     },
     "execution_count": 52,
     "metadata": {},
     "output_type": "execute_result"
    },
    {
     "data": {
      "image/png": "[encoded data removed]",
      "text/plain": [
       "<Figure size 432x288 with 1 Axes>"
      ]
     },
     "metadata": {
      "needs_background": "light"
     },
     "output_type": "display_data"
    }
   ],
   "source": [
    "#Создадим выборку по Питеру и уберем выбивающиеся цены, плюс заполним пропуски в удаленности от центра медианой, тк их мало\n",
    "spb_data = data.query('locality_name==\"Санкт-Петербург\" and last_price<200000000').fillna(data['cityCenters_nearest'].median())\n",
    "#Создадим целочисленный столбец с удаленностью от центра\n",
    "spb_data['center_km'] = round(spb_data['cityCenters_nearest']/1000).astype('int')\n",
    "#Рассчитаем среднюю стоимость каждого километра от центра и рассмотрим график распределения\n",
    "display(spb_data.pivot_table(index='center_km',values='last_price', aggfunc='mean'))\n",
    "spb_data.plot(x='center_km', y='last_price',kind='scatter')"
   ]
  },
  {
   "cell_type": "markdown",
   "metadata": {},
   "source": [
    "Центральная зона в Питере лежит в радиусе 6 километров.\n",
    "\n",
    "Рассмотрим подробнее центральную зону Питера: проверим отличаются ли значения от общей выборки."
   ]
  },
  {
   "cell_type": "code",
   "execution_count": 53,
   "metadata": {
    "scrolled": false
   },
   "outputs": [
    {
     "data": {
      "text/plain": [
       "<matplotlib.axes._subplots.AxesSubplot at 0x7fbd344323d0>"
      ]
     },
     "execution_count": 53,
     "metadata": {},
     "output_type": "execute_result"
    },
    {
     "data": {
      "image/png": "[encoded data removed]",
      "text/plain": [
       "<Figure size 432x288 with 1 Axes>"
      ]
     },
     "metadata": {
      "needs_background": "light"
     },
     "output_type": "display_data"
    }
   ],
   "source": [
    "spb_data_center = spb_data.query('center_km<=6')\n",
    "spb_data_center.plot('total_area','last_price',kind='scatter', alpha=0.3)"
   ]
  },
  {
   "cell_type": "markdown",
   "metadata": {},
   "source": [
    "Наблюдается сильная корреляция стоимости квартиры от площади."
   ]
  },
  {
   "cell_type": "code",
   "execution_count": 54,
   "metadata": {
    "scrolled": true
   },
   "outputs": [
    {
     "data": {
      "text/plain": [
       "<matplotlib.axes._subplots.AxesSubplot at 0x7fbd343c4b50>"
      ]
     },
     "execution_count": 54,
     "metadata": {},
     "output_type": "execute_result"
    },
    {
     "data": {
      "image/png": "[encoded data removed]",
      "text/plain": [
       "<Figure size 432x288 with 1 Axes>"
      ]
     },
     "metadata": {
      "needs_background": "light"
     },
     "output_type": "display_data"
    }
   ],
   "source": [
    "spb_data_center.plot('rooms','last_price',kind='scatter', alpha=0.3)"
   ]
  },
  {
   "cell_type": "markdown",
   "metadata": {},
   "source": [
    "Количество комнат имеет сильное влияние на стоимость квартиры, но после 3 комнат связь имеет менее выраженное влияние. Количество комнат зависит от площади квартиры. "
   ]
  },
  {
   "cell_type": "code",
   "execution_count": 55,
   "metadata": {
    "scrolled": true
   },
   "outputs": [
    {
     "data": {
      "text/plain": [
       "<matplotlib.axes._subplots.AxesSubplot at 0x7fbd34336050>"
      ]
     },
     "execution_count": 55,
     "metadata": {},
     "output_type": "execute_result"
    },
    {
     "data": {
      "image/png": "[encoded data removed]",
      "text/plain": [
       "<Figure size 432x288 with 1 Axes>"
      ]
     },
     "metadata": {
      "needs_background": "light"
     },
     "output_type": "display_data"
    }
   ],
   "source": [
    "spb_data_center.plot('ceiling_height','last_price',kind='scatter', alpha=0.3)"
   ]
  },
  {
   "cell_type": "markdown",
   "metadata": {},
   "source": [
    "Присутсвует слабая связь между высотой потолка и стоимостью. Чаще всего квартиры имеют потолок окло 2,7 метра."
   ]
  },
  {
   "cell_type": "code",
   "execution_count": 56,
   "metadata": {
    "scrolled": false
   },
   "outputs": [
    {
     "data": {
      "text/plain": [
       "<matplotlib.axes._subplots.AxesSubplot at 0x7fbd342a5050>"
      ]
     },
     "execution_count": 56,
     "metadata": {},
     "output_type": "execute_result"
    },
    {
     "data": {
      "image/png": "[encoded data removed]",
      "text/plain": [
       "<Figure size 432x288 with 1 Axes>"
      ]
     },
     "metadata": {
      "needs_background": "light"
     },
     "output_type": "display_data"
    }
   ],
   "source": [
    "seaborn.barplot(x='category_floor',y='last_price',data=spb_data_center)"
   ]
  },
  {
   "cell_type": "markdown",
   "metadata": {},
   "source": [
    "<b>Связь между этажем и стоимостью частично подтверждается и для квартир в центре Питера. Первый этаж остался дешевле остальных, но в центре Питера последний этаж стал цениться меньше"
   ]
  },
  {
   "cell_type": "code",
   "execution_count": 57,
   "metadata": {
    "scrolled": false
   },
   "outputs": [
    {
     "data": {
      "text/plain": [
       "<matplotlib.axes._subplots.AxesSubplot at 0x7fbd34287910>"
      ]
     },
     "execution_count": 57,
     "metadata": {},
     "output_type": "execute_result"
    },
    {
     "data": {
      "image/png": "[encoded data removed]",
      "text/plain": [
       "<Figure size 432x288 with 1 Axes>"
      ]
     },
     "metadata": {
      "needs_background": "light"
     },
     "output_type": "display_data"
    }
   ],
   "source": [
    "spb_data_center.plot(x='balcony', y='last_price', kind='scatter')"
   ]
  },
  {
   "cell_type": "markdown",
   "metadata": {},
   "source": [
    "Подтверждается тенденция на падение стоимости при наличии балконов."
   ]
  },
  {
   "cell_type": "code",
   "execution_count": 58,
   "metadata": {
    "scrolled": true
   },
   "outputs": [
    {
     "data": {
      "text/plain": [
       "<matplotlib.axes._subplots.AxesSubplot at 0x7fbd342041d0>"
      ]
     },
     "execution_count": 58,
     "metadata": {},
     "output_type": "execute_result"
    },
    {
     "data": {
      "image/png": "[encoded data removed]",
      "text/plain": [
       "<Figure size 432x288 with 1 Axes>"
      ]
     },
     "metadata": {
      "needs_background": "light"
     },
     "output_type": "display_data"
    }
   ],
   "source": [
    "spb_data_center.plot(x='exp_day', y='last_price', kind='scatter')"
   ]
  },
  {
   "cell_type": "code",
   "execution_count": 59,
   "metadata": {
    "scrolled": true
   },
   "outputs": [
    {
     "data": {
      "text/plain": [
       "<matplotlib.axes._subplots.AxesSubplot at 0x7fbd3417d050>"
      ]
     },
     "execution_count": 59,
     "metadata": {},
     "output_type": "execute_result"
    },
    {
     "data": {
      "image/png": "[encoded data removed]",
      "text/plain": [
       "<Figure size 432x288 with 1 Axes>"
      ]
     },
     "metadata": {
      "needs_background": "light"
     },
     "output_type": "display_data"
    }
   ],
   "source": [
    "spb_data_center.pivot_table(index='exp_day', values='last_price').plot()"
   ]
  },
  {
   "cell_type": "markdown",
   "metadata": {},
   "source": [
    "<b>Как можно заметить, цена распределяется равномерно во все дни, кроме воскресенья и четверга, в эти дни цены устанавлиюват выше."
   ]
  },
  {
   "cell_type": "code",
   "execution_count": 60,
   "metadata": {
    "scrolled": false
   },
   "outputs": [
    {
     "data": {
      "text/plain": [
       "<matplotlib.axes._subplots.AxesSubplot at 0x7fbd360e3250>"
      ]
     },
     "execution_count": 60,
     "metadata": {},
     "output_type": "execute_result"
    },
    {
     "data": {
      "image/png": "[encoded data removed]",
      "text/plain": [
       "<Figure size 432x288 with 1 Axes>"
      ]
     },
     "metadata": {
      "needs_background": "light"
     },
     "output_type": "display_data"
    }
   ],
   "source": [
    "spb_data_center.plot(x='exp_month', y='last_price', kind='scatter')"
   ]
  },
  {
   "cell_type": "code",
   "execution_count": 61,
   "metadata": {},
   "outputs": [
    {
     "data": {
      "text/plain": [
       "<matplotlib.axes._subplots.AxesSubplot at 0x7fbd35fbba10>"
      ]
     },
     "execution_count": 61,
     "metadata": {},
     "output_type": "execute_result"
    },
    {
     "data": {
      "image/png": "[encoded data removed]",
      "text/plain": [
       "<Figure size 432x288 with 1 Axes>"
      ]
     },
     "metadata": {
      "needs_background": "light"
     },
     "output_type": "display_data"
    }
   ],
   "source": [
    "spb_data_center.pivot_table(index='exp_month', values='last_price').plot()"
   ]
  },
  {
   "cell_type": "markdown",
   "metadata": {},
   "source": [
    "<b>В ноябре, июле и феврале цены устанавливают выше, чем в остальные месяцы. А самые дешевые квартиры обычно в апреле и июне."
   ]
  },
  {
   "cell_type": "code",
   "execution_count": 62,
   "metadata": {
    "scrolled": false
   },
   "outputs": [
    {
     "data": {
      "text/plain": [
       "<matplotlib.axes._subplots.AxesSubplot at 0x7fbd36113110>"
      ]
     },
     "execution_count": 62,
     "metadata": {},
     "output_type": "execute_result"
    },
    {
     "data": {
      "image/png": "[encoded data removed]",
      "text/plain": [
       "<Figure size 432x288 with 1 Axes>"
      ]
     },
     "metadata": {
      "needs_background": "light"
     },
     "output_type": "display_data"
    }
   ],
   "source": [
    "spb_data_center.plot(x='exp_year', y='last_price', kind='scatter')"
   ]
  },
  {
   "cell_type": "markdown",
   "metadata": {},
   "source": [
    "После 2014 года появилась тенденция к увелечению стоимости квартир год к году, но она закончилась после 2017 и цены пошли на спад.\n",
    "\n",
    "Исходя из полученных данных, сильного различия взаимосвязей между центральной зоной Питера и общей картины по всем населнным пунктам не наблюдается."
   ]
  },
  {
   "cell_type": "markdown",
   "metadata": {},
   "source": [
    "## Общий вывод"
   ]
  },
  {
   "cell_type": "markdown",
   "metadata": {},
   "source": [
    "В ходе исследования была произведена обработка данных и анализ, который подтверждает некоторые гипотезы о взаимосвязях:\n",
    "*  На стоимость кваритры прямо влияет ее общая площадь и количество комнат соответственно.\n",
    "*  При выставлении квартиры на продажу стоит учитывать месяц и год. День недели не сильно коррелирует с стоимостью. Но эти параметры подвержены влиянию других внешних факторов.\n",
    "*  Между ценой квартиры и высотой потолков присутствует взаимосвязь. Чем выше потолки, тем дороже квартира, но стоимость большинства квартир с потолками 2,7 метра зависит от других факторов.\n",
    "*  Выявлена связь стоимости квартиры  с удаленностью от центральной зоны Питера, квартиры находящиеся в центральной зоне стоят дороже. В других населенных пунктах все аналогично, все что удалено от Питера и центра стоит дешевле.\n",
    "*  Стоимость квартиры зависит от этажа: чем выше расположена квартира, тем она дороже.\n",
    "*  Формирование стоимости квартир подчиняется одинаковым правилам независимо от населенного пункта.\n",
    "\n",
    "Наиболее влияющие на стоимость параметры: площадь квартиры, количество комнат, высота потолков, этаж, удаленность от центра города. Не такие важные, но влияющие параметры: месяц и год, отсутсвие балкона."
   ]
  },
  {
   "cell_type": "markdown",
   "metadata": {},
   "source": [
    "## Чек-лист готовности проекта"
   ]
  },
  {
   "cell_type": "markdown",
   "metadata": {},
   "source": [
    "- [x]  открыт файл\n",
    "- [x]  файлы изучены (выведены первые строки, метод `info()`)\n",
    "- [x]  определены пропущенные значения\n",
    "- [x]  заполнены пропущенные значения\n",
    "- [x]  есть пояснение, какие пропущенные значения обнаружены\n",
    "- [x]  изменены типы данных\n",
    "- [x]  есть пояснение, в каких столбцах изменены типы и почему\n",
    "- [x]  посчитано и добавлено в таблицу: цена квадратного метра\n",
    "- [x]  посчитано и добавлено в таблицу: день недели, месяц и год публикации объявления\n",
    "- [x]  посчитано и добавлено в таблицу: этаж квартиры; варианты — первый, последний, другой\n",
    "- [x]  посчитано и добавлено в таблицу: соотношение жилой и общей площади, а также отношение площади кухни к общей\n",
    "- [x]  изучены следующие параметры: площадь, цена, число комнат, высота потолков\n",
    "- [x]  построены гистограммы для каждого параметра\n",
    "- [x]  выполнено задание: «Изучите время продажи квартиры. Постройте гистограмму. Посчитайте среднее и медиану. Опишите, сколько обычно занимает продажа. Когда можно считать, что продажи прошли очень быстро, а когда необычно долго?»\n",
    "- [x]  выполнено задание: «Уберите редкие и выбивающиеся значения. Опишите, какие особенности обнаружили».\n",
    "- [x]  выполнено задание: «Какие факторы больше всего влияют на стоимость квартиры? Изучите, зависит ли цена от квадратного метра, числа комнат, этажа (первого или последнего), удалённости от центра. Также изучите зависимость от даты размещения: дня недели, месяца и года». \n",
    "- [x]  выполнено задание: «Выберите 10 населённых пунктов с наибольшим числом объявлений. Посчитайте среднюю цену квадратного метра в этих населённых пунктах. Выделите населённые пункты с самой высокой и низкой стоимостью жилья. Эти данные можно найти по имени в столбце `locality_name`».\n",
    "- [x]  выполнено задание: «Изучите предложения квартир: для каждой квартиры есть информация о расстоянии до центра. Выделите квартиры в Санкт-Петербурге (`locality_name`). Ваша задача — выяснить, какая область входит в центр. Создайте столбец с расстоянием до центра в километрах: округлите до целых значений. После этого посчитайте среднюю цену для каждого километра. Постройте график: он должен показывать, как цена зависит от удалённости от центра. Определите границу, где график сильно меняется — это и будет центральная зона».\n",
    "- [x]  выполнено задание: «Выделите сегмент квартир в центре. Проанализируйте эту территорию и изучите следующие параметры: площадь, цена, число комнат, высота потолков. Также выделите факторы, которые влияют на стоимость квартиры (число комнат, этаж, удалённость от центра, дата размещения объявления). Сделайте выводы. Отличаются ли они от общих выводов по всей базе?»\n",
    "- [x]  в каждом этапе есть выводы\n",
    "- [x]  есть общий вывод"
   ]
  }
 ],
 "metadata": {
  "ExecuteTimeLog": [
   {
    "duration": 1283,
    "start_time": "2022-02-23T11:25:04.328Z"
   },
   {
    "duration": 60,
    "start_time": "2022-02-23T11:25:29.979Z"
   },
   {
    "duration": 10,
    "start_time": "2022-02-23T11:25:39.802Z"
   },
   {
    "duration": 17,
    "start_time": "2022-02-23T11:26:17.479Z"
   },
   {
    "duration": 61,
    "start_time": "2022-02-23T11:26:56.365Z"
   },
   {
    "duration": 34,
    "start_time": "2022-02-23T11:26:57.223Z"
   },
   {
    "duration": 24,
    "start_time": "2022-02-23T11:27:12.296Z"
   },
   {
    "duration": 11,
    "start_time": "2022-02-23T11:27:19.367Z"
   },
   {
    "duration": 71,
    "start_time": "2022-02-23T11:29:15.262Z"
   },
   {
    "duration": 10,
    "start_time": "2022-02-23T11:44:22.571Z"
   },
   {
    "duration": 3,
    "start_time": "2022-02-23T11:44:47.525Z"
   },
   {
    "duration": 12,
    "start_time": "2022-02-23T12:28:39.624Z"
   },
   {
    "duration": 11,
    "start_time": "2022-02-23T12:29:11.321Z"
   },
   {
    "duration": 10,
    "start_time": "2022-02-23T12:29:21.783Z"
   },
   {
    "duration": 12,
    "start_time": "2022-02-23T12:29:42.928Z"
   },
   {
    "duration": 12,
    "start_time": "2022-02-23T12:30:32.319Z"
   },
   {
    "duration": 443,
    "start_time": "2022-02-23T12:42:25.874Z"
   },
   {
    "duration": 32,
    "start_time": "2022-02-23T12:50:17.031Z"
   },
   {
    "duration": 28,
    "start_time": "2022-02-23T12:50:30.153Z"
   },
   {
    "duration": 57,
    "start_time": "2022-02-23T12:53:46.759Z"
   },
   {
    "duration": 348,
    "start_time": "2022-02-23T12:56:53.454Z"
   },
   {
    "duration": 39,
    "start_time": "2022-02-23T13:03:57.737Z"
   },
   {
    "duration": 10,
    "start_time": "2022-02-23T13:04:24.327Z"
   },
   {
    "duration": 10,
    "start_time": "2022-02-23T13:04:43.464Z"
   },
   {
    "duration": 9,
    "start_time": "2022-02-23T13:05:07.982Z"
   },
   {
    "duration": 36,
    "start_time": "2022-02-23T13:05:26.782Z"
   },
   {
    "duration": 7,
    "start_time": "2022-02-23T13:17:50.846Z"
   },
   {
    "duration": 12,
    "start_time": "2022-02-23T13:18:03.514Z"
   },
   {
    "duration": 5,
    "start_time": "2022-02-23T13:20:22.810Z"
   },
   {
    "duration": 4,
    "start_time": "2022-02-23T13:29:41.274Z"
   },
   {
    "duration": 4,
    "start_time": "2022-02-23T13:30:49.882Z"
   },
   {
    "duration": 11,
    "start_time": "2022-02-23T13:30:52.125Z"
   },
   {
    "duration": 8,
    "start_time": "2022-02-23T13:56:03.381Z"
   },
   {
    "duration": 36,
    "start_time": "2022-02-23T13:56:15.061Z"
   },
   {
    "duration": 7,
    "start_time": "2022-02-23T13:59:34.937Z"
   },
   {
    "duration": 322,
    "start_time": "2022-02-23T14:01:19.534Z"
   },
   {
    "duration": 11,
    "start_time": "2022-02-23T14:06:11.056Z"
   },
   {
    "duration": 18,
    "start_time": "2022-02-23T14:06:29.756Z"
   },
   {
    "duration": 35,
    "start_time": "2022-02-23T14:06:40.192Z"
   },
   {
    "duration": 46,
    "start_time": "2022-02-23T14:08:32.960Z"
   },
   {
    "duration": 39,
    "start_time": "2022-02-23T14:23:48.691Z"
   },
   {
    "duration": 35,
    "start_time": "2022-02-23T14:23:57.800Z"
   },
   {
    "duration": 41,
    "start_time": "2022-02-23T14:24:04.154Z"
   },
   {
    "duration": 38,
    "start_time": "2022-02-23T14:25:01.094Z"
   },
   {
    "duration": 41,
    "start_time": "2022-02-23T14:27:38.707Z"
   },
   {
    "duration": 37,
    "start_time": "2022-02-23T14:27:51.167Z"
   },
   {
    "duration": 38,
    "start_time": "2022-02-23T14:28:16.406Z"
   },
   {
    "duration": 38,
    "start_time": "2022-02-23T14:28:30.836Z"
   },
   {
    "duration": 312,
    "start_time": "2022-02-23T14:42:01.660Z"
   },
   {
    "duration": 78,
    "start_time": "2022-02-23T14:42:38.935Z"
   },
   {
    "duration": 261,
    "start_time": "2022-02-23T14:42:42.433Z"
   },
   {
    "duration": 244,
    "start_time": "2022-02-23T14:43:53.043Z"
   },
   {
    "duration": 388,
    "start_time": "2022-02-23T14:44:11.427Z"
   },
   {
    "duration": 9,
    "start_time": "2022-02-23T14:44:58.065Z"
   },
   {
    "duration": 19,
    "start_time": "2022-02-23T14:45:06.312Z"
   },
   {
    "duration": 257,
    "start_time": "2022-02-25T16:39:11.087Z"
   },
   {
    "duration": 1080,
    "start_time": "2022-02-25T16:39:23.583Z"
   },
   {
    "duration": 66,
    "start_time": "2022-02-25T16:39:24.665Z"
   },
   {
    "duration": 30,
    "start_time": "2022-02-25T16:39:24.733Z"
   },
   {
    "duration": 12,
    "start_time": "2022-02-25T16:39:24.765Z"
   },
   {
    "duration": 9,
    "start_time": "2022-02-25T16:39:24.778Z"
   },
   {
    "duration": 97,
    "start_time": "2022-02-25T16:39:24.789Z"
   },
   {
    "duration": 77,
    "start_time": "2022-02-25T16:39:24.888Z"
   },
   {
    "duration": 54,
    "start_time": "2022-02-25T16:39:24.968Z"
   },
   {
    "duration": 7,
    "start_time": "2022-02-25T16:39:25.024Z"
   },
   {
    "duration": 9,
    "start_time": "2022-02-25T16:39:25.033Z"
   },
   {
    "duration": 7,
    "start_time": "2022-02-25T16:39:25.044Z"
   },
   {
    "duration": 12,
    "start_time": "2022-02-25T16:39:25.053Z"
   },
   {
    "duration": 77,
    "start_time": "2022-02-25T16:39:25.066Z"
   },
   {
    "duration": 252,
    "start_time": "2022-02-25T16:39:25.145Z"
   },
   {
    "duration": 191,
    "start_time": "2022-02-25T16:55:55.001Z"
   },
   {
    "duration": 9,
    "start_time": "2022-02-25T16:56:33.911Z"
   },
   {
    "duration": 11,
    "start_time": "2022-02-25T16:58:22.041Z"
   },
   {
    "duration": 37,
    "start_time": "2022-02-25T17:16:21.245Z"
   },
   {
    "duration": 729,
    "start_time": "2022-02-25T17:27:30.984Z"
   },
   {
    "duration": 15,
    "start_time": "2022-02-25T17:27:37.472Z"
   },
   {
    "duration": 5247,
    "start_time": "2022-02-25T17:27:54.146Z"
   },
   {
    "duration": 211,
    "start_time": "2022-02-25T17:28:06.193Z"
   },
   {
    "duration": 13,
    "start_time": "2022-02-25T17:28:18.380Z"
   },
   {
    "duration": 15,
    "start_time": "2022-02-25T17:31:02.595Z"
   },
   {
    "duration": 12,
    "start_time": "2022-02-25T17:31:42.722Z"
   },
   {
    "duration": 5619,
    "start_time": "2022-02-25T17:31:58.580Z"
   },
   {
    "duration": 14,
    "start_time": "2022-02-25T17:32:08.748Z"
   },
   {
    "duration": 16,
    "start_time": "2022-02-25T17:41:48.862Z"
   },
   {
    "duration": 207,
    "start_time": "2022-02-26T18:43:21.476Z"
   },
   {
    "duration": 1099,
    "start_time": "2022-02-26T18:43:30.455Z"
   },
   {
    "duration": 61,
    "start_time": "2022-02-26T18:43:31.555Z"
   },
   {
    "duration": 30,
    "start_time": "2022-02-26T18:43:31.618Z"
   },
   {
    "duration": 10,
    "start_time": "2022-02-26T18:43:31.650Z"
   },
   {
    "duration": 8,
    "start_time": "2022-02-26T18:43:31.662Z"
   },
   {
    "duration": 92,
    "start_time": "2022-02-26T18:43:31.672Z"
   },
   {
    "duration": 51,
    "start_time": "2022-02-26T18:43:31.766Z"
   },
   {
    "duration": 45,
    "start_time": "2022-02-26T18:43:31.819Z"
   },
   {
    "duration": 6,
    "start_time": "2022-02-26T18:43:31.867Z"
   },
   {
    "duration": 8,
    "start_time": "2022-02-26T18:43:31.874Z"
   },
   {
    "duration": 7,
    "start_time": "2022-02-26T18:43:31.884Z"
   },
   {
    "duration": 10,
    "start_time": "2022-02-26T18:43:31.892Z"
   },
   {
    "duration": 33,
    "start_time": "2022-02-26T18:43:31.903Z"
   },
   {
    "duration": 10,
    "start_time": "2022-02-26T18:43:31.938Z"
   },
   {
    "duration": 13,
    "start_time": "2022-02-26T18:43:31.950Z"
   },
   {
    "duration": 6,
    "start_time": "2022-02-26T18:43:31.965Z"
   },
   {
    "duration": 12,
    "start_time": "2022-02-26T18:44:01.301Z"
   },
   {
    "duration": 5,
    "start_time": "2022-02-26T18:44:32.401Z"
   },
   {
    "duration": 3,
    "start_time": "2022-02-26T18:44:40.976Z"
   },
   {
    "duration": 13,
    "start_time": "2022-02-26T18:47:08.630Z"
   },
   {
    "duration": 9,
    "start_time": "2022-02-26T18:47:11.041Z"
   },
   {
    "duration": 44,
    "start_time": "2022-02-26T18:48:10.038Z"
   },
   {
    "duration": 35,
    "start_time": "2022-02-26T18:49:36.388Z"
   },
   {
    "duration": 18,
    "start_time": "2022-02-26T18:51:31.574Z"
   },
   {
    "duration": 44,
    "start_time": "2022-02-26T18:51:42.867Z"
   },
   {
    "duration": 11,
    "start_time": "2022-02-26T18:52:20.367Z"
   },
   {
    "duration": 44,
    "start_time": "2022-02-26T18:53:36.689Z"
   },
   {
    "duration": 35,
    "start_time": "2022-02-26T18:53:58.952Z"
   },
   {
    "duration": 94,
    "start_time": "2022-02-26T18:54:15.116Z"
   },
   {
    "duration": 3,
    "start_time": "2022-02-26T18:59:42.902Z"
   },
   {
    "duration": 10,
    "start_time": "2022-02-26T18:59:51.249Z"
   },
   {
    "duration": 4,
    "start_time": "2022-02-26T19:03:19.807Z"
   },
   {
    "duration": 3,
    "start_time": "2022-02-26T19:03:31.067Z"
   },
   {
    "duration": 11,
    "start_time": "2022-02-26T19:03:34.954Z"
   },
   {
    "duration": 3,
    "start_time": "2022-02-26T19:08:49.463Z"
   },
   {
    "duration": 10,
    "start_time": "2022-02-26T19:08:51.455Z"
   },
   {
    "duration": 55,
    "start_time": "2022-02-26T19:18:38.498Z"
   },
   {
    "duration": 8,
    "start_time": "2022-02-26T19:19:26.023Z"
   },
   {
    "duration": 21,
    "start_time": "2022-02-26T19:19:44.395Z"
   },
   {
    "duration": 8,
    "start_time": "2022-02-26T19:20:19.159Z"
   },
   {
    "duration": 2,
    "start_time": "2022-02-26T19:21:07.025Z"
   },
   {
    "duration": 6,
    "start_time": "2022-02-26T19:23:42.961Z"
   },
   {
    "duration": 7,
    "start_time": "2022-02-26T19:24:57.147Z"
   },
   {
    "duration": 10,
    "start_time": "2022-02-26T19:25:43.973Z"
   },
   {
    "duration": 5,
    "start_time": "2022-02-26T19:42:47.323Z"
   },
   {
    "duration": 403,
    "start_time": "2022-02-26T20:18:11.144Z"
   },
   {
    "duration": 291,
    "start_time": "2022-02-26T20:23:05.297Z"
   },
   {
    "duration": 319,
    "start_time": "2022-02-26T20:25:16.807Z"
   },
   {
    "duration": 5,
    "start_time": "2022-02-26T20:27:38.479Z"
   },
   {
    "duration": 322,
    "start_time": "2022-02-26T20:29:14.930Z"
   },
   {
    "duration": 64,
    "start_time": "2022-02-26T20:36:24.821Z"
   },
   {
    "duration": 7,
    "start_time": "2022-02-26T20:37:03.374Z"
   },
   {
    "duration": 13,
    "start_time": "2022-02-26T20:37:06.373Z"
   },
   {
    "duration": 329,
    "start_time": "2022-02-26T20:37:14.756Z"
   },
   {
    "duration": 295,
    "start_time": "2022-02-26T20:38:24.346Z"
   },
   {
    "duration": 819,
    "start_time": "2022-02-26T20:56:58.614Z"
   },
   {
    "duration": 171,
    "start_time": "2022-02-26T20:57:37.543Z"
   },
   {
    "duration": 178,
    "start_time": "2022-02-26T20:57:56.875Z"
   },
   {
    "duration": 7,
    "start_time": "2022-02-26T20:58:12.787Z"
   },
   {
    "duration": 5,
    "start_time": "2022-02-26T21:00:00.055Z"
   },
   {
    "duration": 4,
    "start_time": "2022-02-26T21:00:40.322Z"
   },
   {
    "duration": 23,
    "start_time": "2022-02-26T21:00:57.771Z"
   },
   {
    "duration": 4,
    "start_time": "2022-02-26T21:02:03.754Z"
   },
   {
    "duration": 4,
    "start_time": "2022-02-26T21:02:04.316Z"
   },
   {
    "duration": 22,
    "start_time": "2022-02-26T21:02:05.442Z"
   },
   {
    "duration": 5,
    "start_time": "2022-02-26T21:02:48.661Z"
   },
   {
    "duration": 23,
    "start_time": "2022-02-26T21:02:51.396Z"
   },
   {
    "duration": 156,
    "start_time": "2022-02-26T21:21:16.179Z"
   },
   {
    "duration": 192,
    "start_time": "2022-02-26T21:21:25.921Z"
   },
   {
    "duration": 207,
    "start_time": "2022-02-26T21:22:35.910Z"
   },
   {
    "duration": 283,
    "start_time": "2022-02-26T21:22:59.907Z"
   },
   {
    "duration": 231,
    "start_time": "2022-02-26T21:23:03.843Z"
   },
   {
    "duration": 441,
    "start_time": "2022-02-26T21:26:03.743Z"
   },
   {
    "duration": 455,
    "start_time": "2022-02-26T21:30:52.271Z"
   },
   {
    "duration": 213,
    "start_time": "2022-02-26T21:32:54.969Z"
   },
   {
    "duration": 220,
    "start_time": "2022-02-26T21:33:15.689Z"
   },
   {
    "duration": 236,
    "start_time": "2022-02-26T21:33:15.996Z"
   },
   {
    "duration": 304,
    "start_time": "2022-02-26T21:33:16.694Z"
   },
   {
    "duration": 182,
    "start_time": "2022-02-26T21:33:29.370Z"
   },
   {
    "duration": 167,
    "start_time": "2022-02-26T21:33:35.265Z"
   },
   {
    "duration": 164,
    "start_time": "2022-02-26T21:33:42.341Z"
   },
   {
    "duration": 299,
    "start_time": "2022-02-26T21:33:56.989Z"
   },
   {
    "duration": 177,
    "start_time": "2022-02-26T21:34:20.232Z"
   },
   {
    "duration": 180,
    "start_time": "2022-02-26T21:34:32.744Z"
   },
   {
    "duration": 289,
    "start_time": "2022-02-26T21:34:45.282Z"
   },
   {
    "duration": 158,
    "start_time": "2022-02-26T21:34:52.659Z"
   },
   {
    "duration": 268,
    "start_time": "2022-02-26T21:35:00.336Z"
   },
   {
    "duration": 183,
    "start_time": "2022-02-26T21:35:14.597Z"
   },
   {
    "duration": 191,
    "start_time": "2022-02-26T21:35:20.466Z"
   },
   {
    "duration": 170,
    "start_time": "2022-02-26T21:35:25.604Z"
   },
   {
    "duration": 163,
    "start_time": "2022-02-26T21:36:36.171Z"
   },
   {
    "duration": 227,
    "start_time": "2022-02-26T21:37:08.276Z"
   },
   {
    "duration": 158,
    "start_time": "2022-02-26T21:37:29.158Z"
   },
   {
    "duration": 150,
    "start_time": "2022-02-26T21:37:36.548Z"
   },
   {
    "duration": 164,
    "start_time": "2022-02-26T21:37:43.970Z"
   },
   {
    "duration": 167,
    "start_time": "2022-02-26T21:38:31.556Z"
   },
   {
    "duration": 24,
    "start_time": "2022-02-26T21:38:43.438Z"
   },
   {
    "duration": 60,
    "start_time": "2022-02-26T21:39:05.466Z"
   },
   {
    "duration": 185,
    "start_time": "2022-02-26T21:39:09.657Z"
   },
   {
    "duration": 186,
    "start_time": "2022-02-26T21:41:35.453Z"
   },
   {
    "duration": 182,
    "start_time": "2022-02-26T21:41:54.035Z"
   },
   {
    "duration": 178,
    "start_time": "2022-02-26T21:41:58.133Z"
   },
   {
    "duration": 269,
    "start_time": "2022-02-26T21:42:25.176Z"
   },
   {
    "duration": 166,
    "start_time": "2022-02-26T21:42:33.101Z"
   },
   {
    "duration": 179,
    "start_time": "2022-02-26T21:42:37.095Z"
   },
   {
    "duration": 154,
    "start_time": "2022-02-26T21:42:48.262Z"
   },
   {
    "duration": 163,
    "start_time": "2022-02-26T21:42:55.800Z"
   },
   {
    "duration": 168,
    "start_time": "2022-02-26T21:43:04.941Z"
   },
   {
    "duration": 158,
    "start_time": "2022-02-26T21:43:15.763Z"
   },
   {
    "duration": 6,
    "start_time": "2022-02-26T21:44:35.038Z"
   },
   {
    "duration": 537,
    "start_time": "2022-02-26T21:45:31.053Z"
   },
   {
    "duration": 164,
    "start_time": "2022-02-26T21:46:53.366Z"
   },
   {
    "duration": 5,
    "start_time": "2022-02-26T21:48:01.717Z"
   },
   {
    "duration": 24,
    "start_time": "2022-02-26T21:48:14.707Z"
   },
   {
    "duration": 25,
    "start_time": "2022-02-26T21:48:26.500Z"
   },
   {
    "duration": 25,
    "start_time": "2022-02-26T21:48:42.083Z"
   },
   {
    "duration": 24,
    "start_time": "2022-02-26T21:48:44.552Z"
   },
   {
    "duration": 24,
    "start_time": "2022-02-26T21:48:47.163Z"
   },
   {
    "duration": 4,
    "start_time": "2022-02-26T21:49:17.686Z"
   },
   {
    "duration": 24,
    "start_time": "2022-02-26T21:49:22.163Z"
   },
   {
    "duration": 4,
    "start_time": "2022-02-26T21:49:48.087Z"
   },
   {
    "duration": 3,
    "start_time": "2022-02-26T21:49:54.314Z"
   },
   {
    "duration": 23,
    "start_time": "2022-02-26T21:49:55.868Z"
   },
   {
    "duration": 171,
    "start_time": "2022-02-26T21:50:03.067Z"
   },
   {
    "duration": 312,
    "start_time": "2022-02-26T21:50:14.136Z"
   },
   {
    "duration": 183,
    "start_time": "2022-02-26T21:50:18.793Z"
   },
   {
    "duration": 168,
    "start_time": "2022-02-26T21:50:27.160Z"
   },
   {
    "duration": 463,
    "start_time": "2022-02-26T21:50:38.361Z"
   },
   {
    "duration": 297,
    "start_time": "2022-02-26T21:50:51.176Z"
   },
   {
    "duration": 192,
    "start_time": "2022-02-26T21:51:01.722Z"
   },
   {
    "duration": 173,
    "start_time": "2022-02-26T21:51:35.307Z"
   },
   {
    "duration": 6,
    "start_time": "2022-02-26T21:51:40.136Z"
   },
   {
    "duration": 24,
    "start_time": "2022-02-26T21:52:35.325Z"
   },
   {
    "duration": 4,
    "start_time": "2022-02-26T21:53:00.857Z"
   },
   {
    "duration": 26,
    "start_time": "2022-02-26T21:53:04.100Z"
   },
   {
    "duration": 163,
    "start_time": "2022-02-26T21:53:14.665Z"
   },
   {
    "duration": 153,
    "start_time": "2022-02-26T21:53:26.806Z"
   },
   {
    "duration": 170,
    "start_time": "2022-02-26T21:53:52.704Z"
   },
   {
    "duration": 150,
    "start_time": "2022-02-26T21:53:56.770Z"
   },
   {
    "duration": 178,
    "start_time": "2022-02-26T21:54:02.721Z"
   },
   {
    "duration": 181,
    "start_time": "2022-02-26T21:54:26.051Z"
   },
   {
    "duration": 1491,
    "start_time": "2022-02-27T17:41:35.183Z"
   },
   {
    "duration": 89,
    "start_time": "2022-02-27T17:41:36.676Z"
   },
   {
    "duration": 43,
    "start_time": "2022-02-27T17:41:36.769Z"
   },
   {
    "duration": 30,
    "start_time": "2022-02-27T17:41:36.815Z"
   },
   {
    "duration": 12,
    "start_time": "2022-02-27T17:41:36.847Z"
   },
   {
    "duration": 136,
    "start_time": "2022-02-27T17:41:36.862Z"
   },
   {
    "duration": 94,
    "start_time": "2022-02-27T17:41:37.001Z"
   },
   {
    "duration": 76,
    "start_time": "2022-02-27T17:41:37.099Z"
   },
   {
    "duration": 12,
    "start_time": "2022-02-27T17:41:37.179Z"
   },
   {
    "duration": 10,
    "start_time": "2022-02-27T17:41:37.194Z"
   },
   {
    "duration": 33,
    "start_time": "2022-02-27T17:41:37.207Z"
   },
   {
    "duration": 15,
    "start_time": "2022-02-27T17:41:37.244Z"
   },
   {
    "duration": 17,
    "start_time": "2022-02-27T17:41:37.262Z"
   },
   {
    "duration": 176,
    "start_time": "2022-02-27T17:41:37.281Z"
   },
   {
    "duration": 5,
    "start_time": "2022-02-27T17:41:37.461Z"
   },
   {
    "duration": 14,
    "start_time": "2022-02-27T17:41:37.469Z"
   },
   {
    "duration": 18,
    "start_time": "2022-02-27T17:41:37.486Z"
   },
   {
    "duration": 16,
    "start_time": "2022-02-27T17:41:37.533Z"
   },
   {
    "duration": 6,
    "start_time": "2022-02-27T17:41:37.552Z"
   },
   {
    "duration": 1576,
    "start_time": "2022-02-27T17:41:37.561Z"
   },
   {
    "duration": 9,
    "start_time": "2022-02-27T17:41:39.139Z"
   },
   {
    "duration": 13,
    "start_time": "2022-02-27T17:41:39.151Z"
   },
   {
    "duration": 8,
    "start_time": "2022-02-27T17:41:39.168Z"
   },
   {
    "duration": 64,
    "start_time": "2022-02-27T17:41:39.179Z"
   },
   {
    "duration": 438,
    "start_time": "2022-02-27T17:41:39.245Z"
   },
   {
    "duration": 337,
    "start_time": "2022-02-27T17:41:39.686Z"
   },
   {
    "duration": 316,
    "start_time": "2022-02-27T17:41:40.034Z"
   },
   {
    "duration": 362,
    "start_time": "2022-02-27T17:41:40.353Z"
   },
   {
    "duration": 307,
    "start_time": "2022-02-27T18:17:41.989Z"
   },
   {
    "duration": 319,
    "start_time": "2022-02-27T18:17:51.042Z"
   },
   {
    "duration": 376,
    "start_time": "2022-02-27T18:17:58.426Z"
   },
   {
    "duration": 416,
    "start_time": "2022-02-27T18:18:18.799Z"
   },
   {
    "duration": 527,
    "start_time": "2022-02-27T18:18:25.364Z"
   },
   {
    "duration": 877,
    "start_time": "2022-02-27T18:19:43.665Z"
   },
   {
    "duration": 1123,
    "start_time": "2022-02-27T18:19:59.156Z"
   },
   {
    "duration": 2618,
    "start_time": "2022-02-27T18:21:21.604Z"
   },
   {
    "duration": 545,
    "start_time": "2022-02-27T18:25:08.776Z"
   },
   {
    "duration": 441,
    "start_time": "2022-02-27T18:25:31.394Z"
   },
   {
    "duration": 335,
    "start_time": "2022-02-27T18:25:40.840Z"
   },
   {
    "duration": 396,
    "start_time": "2022-02-27T18:25:53.422Z"
   },
   {
    "duration": 554,
    "start_time": "2022-02-27T18:26:06.925Z"
   },
   {
    "duration": 532,
    "start_time": "2022-02-27T18:26:39.825Z"
   },
   {
    "duration": 289,
    "start_time": "2022-02-27T18:26:49.885Z"
   },
   {
    "duration": 286,
    "start_time": "2022-02-27T18:27:18.696Z"
   },
   {
    "duration": 292,
    "start_time": "2022-02-27T18:27:28.289Z"
   },
   {
    "duration": 304,
    "start_time": "2022-02-27T18:27:39.512Z"
   },
   {
    "duration": 414,
    "start_time": "2022-02-27T18:27:48.297Z"
   },
   {
    "duration": 516,
    "start_time": "2022-02-27T18:27:53.528Z"
   },
   {
    "duration": 533,
    "start_time": "2022-02-27T18:28:21.176Z"
   },
   {
    "duration": 409,
    "start_time": "2022-02-27T18:28:27.728Z"
   },
   {
    "duration": 402,
    "start_time": "2022-02-27T18:28:36.195Z"
   },
   {
    "duration": 339,
    "start_time": "2022-02-27T18:28:39.596Z"
   },
   {
    "duration": 324,
    "start_time": "2022-02-27T18:28:45.532Z"
   },
   {
    "duration": 395,
    "start_time": "2022-02-27T18:28:49.526Z"
   },
   {
    "duration": 865,
    "start_time": "2022-02-27T18:29:32.744Z"
   },
   {
    "duration": 585,
    "start_time": "2022-02-27T18:29:47.924Z"
   },
   {
    "duration": 516,
    "start_time": "2022-02-27T18:30:01.183Z"
   },
   {
    "duration": 500,
    "start_time": "2022-02-27T18:30:07.915Z"
   },
   {
    "duration": 448,
    "start_time": "2022-02-27T18:30:16.187Z"
   },
   {
    "duration": 576,
    "start_time": "2022-02-27T18:30:30.670Z"
   },
   {
    "duration": 584,
    "start_time": "2022-02-27T18:30:50.633Z"
   },
   {
    "duration": 572,
    "start_time": "2022-02-27T18:30:51.354Z"
   },
   {
    "duration": 334,
    "start_time": "2022-02-27T18:30:52.741Z"
   },
   {
    "duration": 877,
    "start_time": "2022-02-27T18:34:06.002Z"
   },
   {
    "duration": 338,
    "start_time": "2022-02-27T18:34:17.273Z"
   },
   {
    "duration": 540,
    "start_time": "2022-02-27T18:34:30.572Z"
   },
   {
    "duration": 349,
    "start_time": "2022-02-27T18:34:41.271Z"
   },
   {
    "duration": 350,
    "start_time": "2022-02-27T18:35:12.739Z"
   },
   {
    "duration": 338,
    "start_time": "2022-02-27T18:35:44.211Z"
   },
   {
    "duration": 2,
    "start_time": "2022-02-27T18:38:56.932Z"
   },
   {
    "duration": 117,
    "start_time": "2022-02-27T18:39:46.674Z"
   },
   {
    "duration": 3,
    "start_time": "2022-02-27T18:41:19.945Z"
   },
   {
    "duration": 584,
    "start_time": "2022-02-27T18:41:54.096Z"
   },
   {
    "duration": 835,
    "start_time": "2022-02-27T18:42:58.141Z"
   },
   {
    "duration": 565,
    "start_time": "2022-02-27T18:43:22.276Z"
   },
   {
    "duration": 581,
    "start_time": "2022-02-27T18:46:10.470Z"
   },
   {
    "duration": 1207,
    "start_time": "2022-02-27T18:46:44.592Z"
   },
   {
    "duration": 1087,
    "start_time": "2022-02-27T18:46:56.764Z"
   },
   {
    "duration": 570,
    "start_time": "2022-02-27T18:48:20.576Z"
   },
   {
    "duration": 599,
    "start_time": "2022-02-27T18:48:59.680Z"
   },
   {
    "duration": 584,
    "start_time": "2022-02-27T18:49:36.191Z"
   },
   {
    "duration": 712,
    "start_time": "2022-02-27T18:49:42.521Z"
   },
   {
    "duration": 646,
    "start_time": "2022-02-27T18:49:47.814Z"
   },
   {
    "duration": 874,
    "start_time": "2022-02-27T18:49:56.168Z"
   },
   {
    "duration": 640,
    "start_time": "2022-02-27T18:50:03.537Z"
   },
   {
    "duration": 486,
    "start_time": "2022-02-27T18:50:07.916Z"
   },
   {
    "duration": 606,
    "start_time": "2022-02-27T18:50:45.758Z"
   },
   {
    "duration": 443,
    "start_time": "2022-02-27T18:51:02.534Z"
   },
   {
    "duration": 622,
    "start_time": "2022-02-27T18:51:32.413Z"
   },
   {
    "duration": 625,
    "start_time": "2022-02-27T19:03:14.678Z"
   },
   {
    "duration": 588,
    "start_time": "2022-02-27T19:06:09.526Z"
   },
   {
    "duration": 578,
    "start_time": "2022-02-27T19:06:34.306Z"
   },
   {
    "duration": 609,
    "start_time": "2022-02-27T19:07:00.353Z"
   },
   {
    "duration": 647,
    "start_time": "2022-02-27T19:07:16.788Z"
   },
   {
    "duration": 601,
    "start_time": "2022-02-27T19:09:59.384Z"
   },
   {
    "duration": 653,
    "start_time": "2022-02-27T19:11:14.176Z"
   },
   {
    "duration": 571,
    "start_time": "2022-02-27T19:11:20.118Z"
   },
   {
    "duration": 884,
    "start_time": "2022-02-27T19:41:14.906Z"
   },
   {
    "duration": 578,
    "start_time": "2022-02-27T19:41:42.798Z"
   },
   {
    "duration": 68749,
    "start_time": "2022-02-27T20:14:15.408Z"
   },
   {
    "duration": 746,
    "start_time": "2022-02-27T20:17:46.623Z"
   },
   {
    "duration": 805,
    "start_time": "2022-02-27T20:18:25.748Z"
   },
   {
    "duration": 676,
    "start_time": "2022-02-27T20:18:38.195Z"
   },
   {
    "duration": 708,
    "start_time": "2022-02-27T20:18:47.504Z"
   },
   {
    "duration": 720,
    "start_time": "2022-02-27T20:18:52.728Z"
   },
   {
    "duration": 684,
    "start_time": "2022-02-27T20:20:43.165Z"
   },
   {
    "duration": 1295,
    "start_time": "2022-02-28T08:15:19.193Z"
   },
   {
    "duration": 72,
    "start_time": "2022-02-28T08:15:20.490Z"
   },
   {
    "duration": 24,
    "start_time": "2022-02-28T08:15:20.564Z"
   },
   {
    "duration": 12,
    "start_time": "2022-02-28T08:15:20.589Z"
   },
   {
    "duration": 8,
    "start_time": "2022-02-28T08:15:20.605Z"
   },
   {
    "duration": 64,
    "start_time": "2022-02-28T08:15:20.614Z"
   },
   {
    "duration": 63,
    "start_time": "2022-02-28T08:15:20.680Z"
   },
   {
    "duration": 30,
    "start_time": "2022-02-28T08:15:20.745Z"
   },
   {
    "duration": 5,
    "start_time": "2022-02-28T08:15:20.777Z"
   },
   {
    "duration": 22,
    "start_time": "2022-02-28T08:15:20.783Z"
   },
   {
    "duration": 4,
    "start_time": "2022-02-28T08:15:20.807Z"
   },
   {
    "duration": 11,
    "start_time": "2022-02-28T08:15:20.812Z"
   },
   {
    "duration": 10,
    "start_time": "2022-02-28T08:15:20.825Z"
   },
   {
    "duration": 79,
    "start_time": "2022-02-28T08:15:20.836Z"
   },
   {
    "duration": 3,
    "start_time": "2022-02-28T08:15:20.916Z"
   },
   {
    "duration": 11,
    "start_time": "2022-02-28T08:15:20.920Z"
   },
   {
    "duration": 7,
    "start_time": "2022-02-28T08:15:20.932Z"
   },
   {
    "duration": 10,
    "start_time": "2022-02-28T08:15:20.940Z"
   },
   {
    "duration": 3,
    "start_time": "2022-02-28T08:15:20.952Z"
   },
   {
    "duration": 764,
    "start_time": "2022-02-28T08:15:20.956Z"
   },
   {
    "duration": 6,
    "start_time": "2022-02-28T08:15:21.721Z"
   },
   {
    "duration": 5,
    "start_time": "2022-02-28T08:15:21.729Z"
   },
   {
    "duration": 4,
    "start_time": "2022-02-28T08:15:21.736Z"
   },
   {
    "duration": 22,
    "start_time": "2022-02-28T08:15:21.742Z"
   },
   {
    "duration": 2,
    "start_time": "2022-02-28T08:15:21.765Z"
   },
   {
    "duration": 339,
    "start_time": "2022-02-28T08:15:21.768Z"
   },
   {
    "duration": 255,
    "start_time": "2022-02-28T08:15:22.109Z"
   },
   {
    "duration": 242,
    "start_time": "2022-02-28T08:15:22.365Z"
   },
   {
    "duration": 233,
    "start_time": "2022-02-28T08:15:22.608Z"
   },
   {
    "duration": 319,
    "start_time": "2022-02-28T08:15:22.842Z"
   },
   {
    "duration": 360,
    "start_time": "2022-02-28T08:15:23.162Z"
   },
   {
    "duration": 1240,
    "start_time": "2022-02-28T08:15:22.283Z"
   },
   {
    "duration": 4,
    "start_time": "2022-02-28T08:18:05.185Z"
   },
   {
    "duration": 466,
    "start_time": "2022-02-28T08:18:13.351Z"
   },
   {
    "duration": 4327,
    "start_time": "2022-02-28T08:19:15.556Z"
   },
   {
    "duration": 4601,
    "start_time": "2022-02-28T08:19:39.940Z"
   },
   {
    "duration": 4643,
    "start_time": "2022-02-28T08:21:00.306Z"
   },
   {
    "duration": 6,
    "start_time": "2022-02-28T08:26:40.991Z"
   },
   {
    "duration": 6,
    "start_time": "2022-02-28T08:29:52.310Z"
   },
   {
    "duration": 5,
    "start_time": "2022-02-28T08:30:10.345Z"
   },
   {
    "duration": 21,
    "start_time": "2022-02-28T08:30:16.963Z"
   },
   {
    "duration": 308,
    "start_time": "2022-02-28T08:32:12.043Z"
   },
   {
    "duration": 286,
    "start_time": "2022-02-28T08:33:37.685Z"
   },
   {
    "duration": 178,
    "start_time": "2022-02-28T08:33:59.363Z"
   },
   {
    "duration": 12,
    "start_time": "2022-02-28T08:35:34.447Z"
   },
   {
    "duration": 138,
    "start_time": "2022-02-28T08:35:39.045Z"
   },
   {
    "duration": 142,
    "start_time": "2022-02-28T08:36:01.781Z"
   },
   {
    "duration": 11,
    "start_time": "2022-02-28T08:36:08.285Z"
   },
   {
    "duration": 16,
    "start_time": "2022-02-28T08:36:18.688Z"
   },
   {
    "duration": 7999,
    "start_time": "2022-02-28T08:37:54.561Z"
   },
   {
    "duration": 1172,
    "start_time": "2022-02-28T08:38:27.220Z"
   },
   {
    "duration": 153,
    "start_time": "2022-02-28T08:53:01.408Z"
   },
   {
    "duration": 117,
    "start_time": "2022-02-28T08:53:40.218Z"
   },
   {
    "duration": 119,
    "start_time": "2022-02-28T08:53:46.161Z"
   },
   {
    "duration": 126,
    "start_time": "2022-02-28T08:53:49.076Z"
   },
   {
    "duration": 144,
    "start_time": "2022-02-28T08:54:01.435Z"
   },
   {
    "duration": 124,
    "start_time": "2022-02-28T08:54:27.786Z"
   },
   {
    "duration": 128,
    "start_time": "2022-02-28T08:55:10.110Z"
   },
   {
    "duration": 127,
    "start_time": "2022-02-28T08:57:24.773Z"
   },
   {
    "duration": 148,
    "start_time": "2022-02-28T08:57:48.117Z"
   },
   {
    "duration": 159,
    "start_time": "2022-02-28T08:58:05.493Z"
   },
   {
    "duration": 120,
    "start_time": "2022-02-28T08:58:14.069Z"
   },
   {
    "duration": 128,
    "start_time": "2022-02-28T08:58:18.088Z"
   },
   {
    "duration": 905,
    "start_time": "2022-02-28T09:06:10.395Z"
   },
   {
    "duration": 463,
    "start_time": "2022-02-28T09:06:22.345Z"
   },
   {
    "duration": 447,
    "start_time": "2022-02-28T09:06:38.274Z"
   },
   {
    "duration": 550,
    "start_time": "2022-02-28T09:06:47.674Z"
   },
   {
    "duration": 131,
    "start_time": "2022-02-28T09:22:02.502Z"
   },
   {
    "duration": 118,
    "start_time": "2022-02-28T09:22:33.133Z"
   },
   {
    "duration": 445,
    "start_time": "2022-02-28T09:27:35.529Z"
   },
   {
    "duration": 8,
    "start_time": "2022-02-28T09:28:48.453Z"
   },
   {
    "duration": 7,
    "start_time": "2022-02-28T09:28:54.876Z"
   },
   {
    "duration": 9159,
    "start_time": "2022-02-28T09:33:33.618Z"
   },
   {
    "duration": 9509,
    "start_time": "2022-02-28T09:33:48.589Z"
   },
   {
    "duration": 284,
    "start_time": "2022-02-28T09:34:03.484Z"
   },
   {
    "duration": 7,
    "start_time": "2022-02-28T09:34:08.305Z"
   },
   {
    "duration": 5,
    "start_time": "2022-02-28T09:35:51.278Z"
   },
   {
    "duration": 775,
    "start_time": "2022-02-28T09:35:56.249Z"
   },
   {
    "duration": 6,
    "start_time": "2022-02-28T09:36:13.166Z"
   },
   {
    "duration": 339,
    "start_time": "2022-02-28T09:37:10.862Z"
   },
   {
    "duration": 92,
    "start_time": "2022-02-28T09:37:35.137Z"
   },
   {
    "duration": 103,
    "start_time": "2022-02-28T09:37:56.215Z"
   },
   {
    "duration": 7,
    "start_time": "2022-02-28T09:38:37.945Z"
   },
   {
    "duration": 6,
    "start_time": "2022-02-28T09:38:49.435Z"
   },
   {
    "duration": 35,
    "start_time": "2022-02-28T09:39:23.221Z"
   },
   {
    "duration": 7,
    "start_time": "2022-02-28T09:40:28.500Z"
   },
   {
    "duration": 9,
    "start_time": "2022-02-28T09:41:17.851Z"
   },
   {
    "duration": 100,
    "start_time": "2022-02-28T09:41:31.836Z"
   },
   {
    "duration": 116,
    "start_time": "2022-02-28T09:41:36.466Z"
   },
   {
    "duration": 18,
    "start_time": "2022-02-28T09:43:38.524Z"
   },
   {
    "duration": 296,
    "start_time": "2022-02-28T09:43:50.550Z"
   },
   {
    "duration": 19,
    "start_time": "2022-02-28T09:43:54.812Z"
   },
   {
    "duration": 20,
    "start_time": "2022-02-28T09:44:01.098Z"
   },
   {
    "duration": 316,
    "start_time": "2022-02-28T09:44:21.673Z"
   },
   {
    "duration": 18,
    "start_time": "2022-02-28T09:44:33.190Z"
   },
   {
    "duration": 19,
    "start_time": "2022-02-28T09:44:46.917Z"
   },
   {
    "duration": 21,
    "start_time": "2022-02-28T09:45:37.170Z"
   },
   {
    "duration": 1234,
    "start_time": "2022-02-28T11:33:03.462Z"
   },
   {
    "duration": 73,
    "start_time": "2022-02-28T11:33:04.698Z"
   },
   {
    "duration": 29,
    "start_time": "2022-02-28T11:33:04.774Z"
   },
   {
    "duration": 12,
    "start_time": "2022-02-28T11:33:04.805Z"
   },
   {
    "duration": 11,
    "start_time": "2022-02-28T11:33:04.819Z"
   },
   {
    "duration": 100,
    "start_time": "2022-02-28T11:33:04.832Z"
   },
   {
    "duration": 75,
    "start_time": "2022-02-28T11:33:04.934Z"
   },
   {
    "duration": 38,
    "start_time": "2022-02-28T11:33:05.012Z"
   },
   {
    "duration": 6,
    "start_time": "2022-02-28T11:33:05.053Z"
   },
   {
    "duration": 7,
    "start_time": "2022-02-28T11:33:05.061Z"
   },
   {
    "duration": 37,
    "start_time": "2022-02-28T11:33:05.070Z"
   },
   {
    "duration": 45,
    "start_time": "2022-02-28T11:33:05.109Z"
   },
   {
    "duration": 13,
    "start_time": "2022-02-28T11:33:05.157Z"
   },
   {
    "duration": 93,
    "start_time": "2022-02-28T11:33:05.172Z"
   },
   {
    "duration": 5,
    "start_time": "2022-02-28T11:33:05.267Z"
   },
   {
    "duration": 33,
    "start_time": "2022-02-28T11:33:05.274Z"
   },
   {
    "duration": 18,
    "start_time": "2022-02-28T11:33:05.309Z"
   },
   {
    "duration": 20,
    "start_time": "2022-02-28T11:33:05.329Z"
   },
   {
    "duration": 4,
    "start_time": "2022-02-28T11:33:05.351Z"
   },
   {
    "duration": 962,
    "start_time": "2022-02-28T11:33:05.357Z"
   },
   {
    "duration": 9,
    "start_time": "2022-02-28T11:33:06.321Z"
   },
   {
    "duration": 12,
    "start_time": "2022-02-28T11:33:06.332Z"
   },
   {
    "duration": 10,
    "start_time": "2022-02-28T11:33:06.348Z"
   },
   {
    "duration": 18,
    "start_time": "2022-02-28T11:33:06.360Z"
   },
   {
    "duration": 10,
    "start_time": "2022-02-28T11:33:06.380Z"
   },
   {
    "duration": 10,
    "start_time": "2022-02-28T11:33:06.392Z"
   },
   {
    "duration": 48,
    "start_time": "2022-02-28T11:33:06.404Z"
   },
   {
    "duration": 2,
    "start_time": "2022-02-28T11:33:06.455Z"
   },
   {
    "duration": 426,
    "start_time": "2022-02-28T11:33:06.459Z"
   },
   {
    "duration": 359,
    "start_time": "2022-02-28T11:33:06.887Z"
   },
   {
    "duration": 240,
    "start_time": "2022-02-28T11:33:07.248Z"
   },
   {
    "duration": 363,
    "start_time": "2022-02-28T11:33:07.490Z"
   },
   {
    "duration": 408,
    "start_time": "2022-02-28T11:33:07.856Z"
   },
   {
    "duration": 411,
    "start_time": "2022-02-28T11:33:08.267Z"
   },
   {
    "duration": 179,
    "start_time": "2022-02-28T11:33:08.679Z"
   },
   {
    "duration": 174,
    "start_time": "2022-02-28T11:33:08.860Z"
   },
   {
    "duration": 6,
    "start_time": "2022-02-28T11:33:09.035Z"
   },
   {
    "duration": 7759,
    "start_time": "2022-02-28T11:33:09.042Z"
   },
   {
    "duration": 528,
    "start_time": "2022-02-28T11:33:16.803Z"
   },
   {
    "duration": 678,
    "start_time": "2022-02-28T11:33:17.333Z"
   },
   {
    "duration": 543,
    "start_time": "2022-02-28T11:33:18.013Z"
   },
   {
    "duration": 26,
    "start_time": "2022-02-28T11:33:18.558Z"
   },
   {
    "duration": 48,
    "start_time": "2022-02-28T11:52:21.359Z"
   },
   {
    "duration": 10,
    "start_time": "2022-02-28T11:52:52.752Z"
   },
   {
    "duration": 12,
    "start_time": "2022-02-28T11:54:35.750Z"
   },
   {
    "duration": 366,
    "start_time": "2022-02-28T11:55:50.903Z"
   },
   {
    "duration": 11,
    "start_time": "2022-02-28T11:55:55.521Z"
   },
   {
    "duration": 13,
    "start_time": "2022-02-28T11:56:02.811Z"
   },
   {
    "duration": 11,
    "start_time": "2022-02-28T11:56:11.304Z"
   },
   {
    "duration": 20,
    "start_time": "2022-02-28T11:57:33.563Z"
   },
   {
    "duration": 37,
    "start_time": "2022-02-28T11:57:49.737Z"
   },
   {
    "duration": 21,
    "start_time": "2022-02-28T11:58:35.250Z"
   },
   {
    "duration": 39,
    "start_time": "2022-02-28T11:58:36.489Z"
   },
   {
    "duration": 789,
    "start_time": "2022-02-28T12:00:14.795Z"
   },
   {
    "duration": 493,
    "start_time": "2022-02-28T12:00:25.709Z"
   },
   {
    "duration": 27,
    "start_time": "2022-02-28T12:00:33.590Z"
   },
   {
    "duration": 518,
    "start_time": "2022-02-28T12:01:42.848Z"
   },
   {
    "duration": 477,
    "start_time": "2022-02-28T12:01:55.801Z"
   },
   {
    "duration": 275,
    "start_time": "2022-02-28T12:02:36.364Z"
   },
   {
    "duration": 613,
    "start_time": "2022-02-28T12:03:02.814Z"
   },
   {
    "duration": 478,
    "start_time": "2022-02-28T12:03:29.351Z"
   },
   {
    "duration": 543,
    "start_time": "2022-02-28T12:11:09.345Z"
   },
   {
    "duration": 37,
    "start_time": "2022-02-28T12:11:26.908Z"
   },
   {
    "duration": 518,
    "start_time": "2022-02-28T12:12:11.233Z"
   },
   {
    "duration": 521,
    "start_time": "2022-02-28T12:13:07.944Z"
   },
   {
    "duration": 254,
    "start_time": "2022-02-28T12:31:35.016Z"
   },
   {
    "duration": 346,
    "start_time": "2022-02-28T12:31:43.819Z"
   },
   {
    "duration": 413,
    "start_time": "2022-02-28T12:32:04.181Z"
   },
   {
    "duration": 475,
    "start_time": "2022-02-28T12:32:28.687Z"
   },
   {
    "duration": 377,
    "start_time": "2022-02-28T12:33:21.195Z"
   },
   {
    "duration": 407,
    "start_time": "2022-02-28T12:33:24.268Z"
   },
   {
    "duration": 420,
    "start_time": "2022-02-28T12:33:26.335Z"
   },
   {
    "duration": 451,
    "start_time": "2022-02-28T12:34:29.472Z"
   },
   {
    "duration": 389,
    "start_time": "2022-02-28T12:35:33.166Z"
   },
   {
    "duration": 417,
    "start_time": "2022-02-28T12:36:00.311Z"
   },
   {
    "duration": 415,
    "start_time": "2022-02-28T12:36:02.018Z"
   },
   {
    "duration": 79,
    "start_time": "2022-02-28T12:40:28.806Z"
   },
   {
    "duration": 1105,
    "start_time": "2022-03-01T08:30:51.085Z"
   },
   {
    "duration": 61,
    "start_time": "2022-03-01T08:30:52.191Z"
   },
   {
    "duration": 23,
    "start_time": "2022-03-01T08:30:52.254Z"
   },
   {
    "duration": 13,
    "start_time": "2022-03-01T08:30:52.279Z"
   },
   {
    "duration": 18,
    "start_time": "2022-03-01T08:30:52.293Z"
   },
   {
    "duration": 64,
    "start_time": "2022-03-01T08:30:52.312Z"
   },
   {
    "duration": 59,
    "start_time": "2022-03-01T08:30:52.378Z"
   },
   {
    "duration": 29,
    "start_time": "2022-03-01T08:30:52.440Z"
   },
   {
    "duration": 5,
    "start_time": "2022-03-01T08:30:52.471Z"
   },
   {
    "duration": 26,
    "start_time": "2022-03-01T08:30:52.478Z"
   },
   {
    "duration": 9,
    "start_time": "2022-03-01T08:30:52.506Z"
   },
   {
    "duration": 26,
    "start_time": "2022-03-01T08:30:52.517Z"
   },
   {
    "duration": 20,
    "start_time": "2022-03-01T08:30:52.544Z"
   },
   {
    "duration": 77,
    "start_time": "2022-03-01T08:30:52.565Z"
   },
   {
    "duration": 3,
    "start_time": "2022-03-01T08:30:52.643Z"
   },
   {
    "duration": 9,
    "start_time": "2022-03-01T08:30:52.647Z"
   },
   {
    "duration": 11,
    "start_time": "2022-03-01T08:30:52.657Z"
   },
   {
    "duration": 17,
    "start_time": "2022-03-01T08:30:52.670Z"
   },
   {
    "duration": 7,
    "start_time": "2022-03-01T08:30:52.688Z"
   },
   {
    "duration": 774,
    "start_time": "2022-03-01T08:30:52.697Z"
   },
   {
    "duration": 6,
    "start_time": "2022-03-01T08:30:53.472Z"
   },
   {
    "duration": 6,
    "start_time": "2022-03-01T08:30:53.480Z"
   },
   {
    "duration": 12,
    "start_time": "2022-03-01T08:30:53.489Z"
   },
   {
    "duration": 34,
    "start_time": "2022-03-01T08:30:53.502Z"
   },
   {
    "duration": 14,
    "start_time": "2022-03-01T08:30:53.537Z"
   },
   {
    "duration": 27,
    "start_time": "2022-03-01T08:30:53.552Z"
   },
   {
    "duration": 38,
    "start_time": "2022-03-01T08:30:53.580Z"
   },
   {
    "duration": 12,
    "start_time": "2022-03-01T08:30:53.620Z"
   },
   {
    "duration": 325,
    "start_time": "2022-03-01T08:30:53.633Z"
   },
   {
    "duration": 298,
    "start_time": "2022-03-01T08:30:53.959Z"
   },
   {
    "duration": 252,
    "start_time": "2022-03-01T08:30:54.259Z"
   },
   {
    "duration": 194,
    "start_time": "2022-03-01T08:30:54.513Z"
   },
   {
    "duration": 241,
    "start_time": "2022-03-01T08:30:54.708Z"
   },
   {
    "duration": 326,
    "start_time": "2022-03-01T08:30:54.950Z"
   },
   {
    "duration": 137,
    "start_time": "2022-03-01T08:30:55.277Z"
   },
   {
    "duration": 133,
    "start_time": "2022-03-01T08:30:55.415Z"
   },
   {
    "duration": 4,
    "start_time": "2022-03-01T08:30:55.550Z"
   },
   {
    "duration": 5547,
    "start_time": "2022-03-01T08:30:55.555Z"
   },
   {
    "duration": 459,
    "start_time": "2022-03-01T08:31:01.104Z"
   },
   {
    "duration": 527,
    "start_time": "2022-03-01T08:31:01.564Z"
   },
   {
    "duration": 500,
    "start_time": "2022-03-01T08:31:02.093Z"
   },
   {
    "duration": 26,
    "start_time": "2022-03-01T08:31:02.594Z"
   },
   {
    "duration": 494,
    "start_time": "2022-03-01T08:31:02.622Z"
   },
   {
    "duration": 1821,
    "start_time": "2022-03-01T08:31:01.297Z"
   },
   {
    "duration": 1819,
    "start_time": "2022-03-01T08:31:01.300Z"
   },
   {
    "duration": 1818,
    "start_time": "2022-03-01T08:31:01.302Z"
   },
   {
    "duration": 1816,
    "start_time": "2022-03-01T08:31:01.305Z"
   },
   {
    "duration": 1814,
    "start_time": "2022-03-01T08:31:01.308Z"
   },
   {
    "duration": 1808,
    "start_time": "2022-03-01T08:31:01.315Z"
   },
   {
    "duration": 142,
    "start_time": "2022-03-01T08:31:09.796Z"
   },
   {
    "duration": 126,
    "start_time": "2022-03-01T08:31:17.022Z"
   },
   {
    "duration": 118,
    "start_time": "2022-03-01T08:33:30.430Z"
   },
   {
    "duration": 126,
    "start_time": "2022-03-01T08:33:41.407Z"
   },
   {
    "duration": 123,
    "start_time": "2022-03-01T08:33:51.513Z"
   },
   {
    "duration": 297,
    "start_time": "2022-03-01T08:34:51.870Z"
   },
   {
    "duration": 20,
    "start_time": "2022-03-01T08:40:50.865Z"
   },
   {
    "duration": 342,
    "start_time": "2022-03-01T08:41:01.997Z"
   },
   {
    "duration": 290,
    "start_time": "2022-03-01T09:17:00.956Z"
   },
   {
    "duration": 430,
    "start_time": "2022-03-01T09:17:44.908Z"
   },
   {
    "duration": 2,
    "start_time": "2022-03-01T09:23:10.512Z"
   },
   {
    "duration": 66,
    "start_time": "2022-03-01T09:23:10.516Z"
   },
   {
    "duration": 36,
    "start_time": "2022-03-01T09:23:10.584Z"
   },
   {
    "duration": 11,
    "start_time": "2022-03-01T09:23:10.622Z"
   },
   {
    "duration": 8,
    "start_time": "2022-03-01T09:23:10.634Z"
   },
   {
    "duration": 76,
    "start_time": "2022-03-01T09:23:10.643Z"
   },
   {
    "duration": 48,
    "start_time": "2022-03-01T09:23:10.720Z"
   },
   {
    "duration": 48,
    "start_time": "2022-03-01T09:23:10.770Z"
   },
   {
    "duration": 8,
    "start_time": "2022-03-01T09:23:10.820Z"
   },
   {
    "duration": 10,
    "start_time": "2022-03-01T09:23:10.829Z"
   },
   {
    "duration": 7,
    "start_time": "2022-03-01T09:23:10.840Z"
   },
   {
    "duration": 7,
    "start_time": "2022-03-01T09:23:10.849Z"
   },
   {
    "duration": 9,
    "start_time": "2022-03-01T09:23:10.857Z"
   },
   {
    "duration": 82,
    "start_time": "2022-03-01T09:23:10.867Z"
   },
   {
    "duration": 2,
    "start_time": "2022-03-01T09:23:10.951Z"
   },
   {
    "duration": 12,
    "start_time": "2022-03-01T09:23:10.955Z"
   },
   {
    "duration": 6,
    "start_time": "2022-03-01T09:23:10.968Z"
   },
   {
    "duration": 9,
    "start_time": "2022-03-01T09:23:10.976Z"
   },
   {
    "duration": 20,
    "start_time": "2022-03-01T09:23:10.986Z"
   },
   {
    "duration": 742,
    "start_time": "2022-03-01T09:23:11.008Z"
   },
   {
    "duration": 6,
    "start_time": "2022-03-01T09:23:11.752Z"
   },
   {
    "duration": 5,
    "start_time": "2022-03-01T09:23:11.759Z"
   },
   {
    "duration": 5,
    "start_time": "2022-03-01T09:23:11.767Z"
   },
   {
    "duration": 6,
    "start_time": "2022-03-01T09:23:11.773Z"
   },
   {
    "duration": 24,
    "start_time": "2022-03-01T09:23:11.781Z"
   },
   {
    "duration": 4,
    "start_time": "2022-03-01T09:23:11.807Z"
   },
   {
    "duration": 22,
    "start_time": "2022-03-01T09:23:11.813Z"
   },
   {
    "duration": 2,
    "start_time": "2022-03-01T09:23:11.836Z"
   },
   {
    "duration": 482,
    "start_time": "2022-03-01T09:23:11.839Z"
   },
   {
    "duration": 267,
    "start_time": "2022-03-01T09:23:12.323Z"
   },
   {
    "duration": 124,
    "start_time": "2022-03-01T09:23:12.591Z"
   },
   {
    "duration": 196,
    "start_time": "2022-03-01T09:23:12.716Z"
   },
   {
    "duration": 243,
    "start_time": "2022-03-01T09:23:12.914Z"
   },
   {
    "duration": 319,
    "start_time": "2022-03-01T09:23:13.158Z"
   },
   {
    "duration": 138,
    "start_time": "2022-03-01T09:23:13.479Z"
   },
   {
    "duration": 139,
    "start_time": "2022-03-01T09:23:13.619Z"
   },
   {
    "duration": 4,
    "start_time": "2022-03-01T09:23:13.760Z"
   },
   {
    "duration": 4720,
    "start_time": "2022-03-01T09:23:13.766Z"
   },
   {
    "duration": 485,
    "start_time": "2022-03-01T09:23:18.487Z"
   },
   {
    "duration": 485,
    "start_time": "2022-03-01T09:23:18.974Z"
   },
   {
    "duration": 494,
    "start_time": "2022-03-01T09:23:19.461Z"
   },
   {
    "duration": 19,
    "start_time": "2022-03-01T09:23:19.956Z"
   },
   {
    "duration": 438,
    "start_time": "2022-03-01T09:23:19.977Z"
   },
   {
    "duration": 327,
    "start_time": "2022-03-01T09:23:20.417Z"
   },
   {
    "duration": 298,
    "start_time": "2022-03-01T09:23:20.746Z"
   },
   {
    "duration": 299,
    "start_time": "2022-03-01T09:23:21.046Z"
   },
   {
    "duration": 297,
    "start_time": "2022-03-01T09:23:21.346Z"
   },
   {
    "duration": 407,
    "start_time": "2022-03-01T09:23:21.644Z"
   },
   {
    "duration": 307,
    "start_time": "2022-03-01T09:23:22.053Z"
   },
   {
    "duration": 8,
    "start_time": "2022-03-01T09:42:06.863Z"
   },
   {
    "duration": 11,
    "start_time": "2022-03-01T09:49:44.297Z"
   },
   {
    "duration": 9,
    "start_time": "2022-03-01T09:50:01.118Z"
   },
   {
    "duration": 7,
    "start_time": "2022-03-01T10:09:20.989Z"
   },
   {
    "duration": 408,
    "start_time": "2022-03-01T10:09:56.505Z"
   },
   {
    "duration": 8,
    "start_time": "2022-03-01T10:10:10.033Z"
   },
   {
    "duration": 431,
    "start_time": "2022-03-01T10:10:11.379Z"
   },
   {
    "duration": 435,
    "start_time": "2022-03-01T10:11:07.965Z"
   },
   {
    "duration": 411,
    "start_time": "2022-03-01T10:11:31.726Z"
   },
   {
    "duration": 400,
    "start_time": "2022-03-01T10:11:49.099Z"
   },
   {
    "duration": 434,
    "start_time": "2022-03-01T10:13:04.051Z"
   },
   {
    "duration": 289,
    "start_time": "2022-03-01T10:13:21.445Z"
   },
   {
    "duration": 434,
    "start_time": "2022-03-01T10:14:33.660Z"
   },
   {
    "duration": 10532,
    "start_time": "2022-03-01T10:15:00.086Z"
   },
   {
    "duration": 2,
    "start_time": "2022-03-01T10:15:32.321Z"
   },
   {
    "duration": 76,
    "start_time": "2022-03-01T10:15:32.325Z"
   },
   {
    "duration": 21,
    "start_time": "2022-03-01T10:15:32.402Z"
   },
   {
    "duration": 9,
    "start_time": "2022-03-01T10:15:32.425Z"
   },
   {
    "duration": 8,
    "start_time": "2022-03-01T10:15:32.435Z"
   },
   {
    "duration": 84,
    "start_time": "2022-03-01T10:15:32.445Z"
   },
   {
    "duration": 48,
    "start_time": "2022-03-01T10:15:32.532Z"
   },
   {
    "duration": 43,
    "start_time": "2022-03-01T10:15:32.582Z"
   },
   {
    "duration": 5,
    "start_time": "2022-03-01T10:15:32.626Z"
   },
   {
    "duration": 6,
    "start_time": "2022-03-01T10:15:32.633Z"
   },
   {
    "duration": 6,
    "start_time": "2022-03-01T10:15:32.640Z"
   },
   {
    "duration": 7,
    "start_time": "2022-03-01T10:15:32.647Z"
   },
   {
    "duration": 8,
    "start_time": "2022-03-01T10:15:32.656Z"
   },
   {
    "duration": 92,
    "start_time": "2022-03-01T10:15:32.665Z"
   },
   {
    "duration": 3,
    "start_time": "2022-03-01T10:15:32.759Z"
   },
   {
    "duration": 9,
    "start_time": "2022-03-01T10:15:32.763Z"
   },
   {
    "duration": 7,
    "start_time": "2022-03-01T10:15:32.773Z"
   },
   {
    "duration": 27,
    "start_time": "2022-03-01T10:15:32.781Z"
   },
   {
    "duration": 4,
    "start_time": "2022-03-01T10:15:32.811Z"
   },
   {
    "duration": 748,
    "start_time": "2022-03-01T10:15:32.817Z"
   },
   {
    "duration": 7,
    "start_time": "2022-03-01T10:15:33.566Z"
   },
   {
    "duration": 11,
    "start_time": "2022-03-01T10:15:33.575Z"
   },
   {
    "duration": 16,
    "start_time": "2022-03-01T10:15:33.588Z"
   },
   {
    "duration": 10,
    "start_time": "2022-03-01T10:15:33.606Z"
   },
   {
    "duration": 13,
    "start_time": "2022-03-01T10:15:33.617Z"
   },
   {
    "duration": 15,
    "start_time": "2022-03-01T10:15:33.631Z"
   },
   {
    "duration": 21,
    "start_time": "2022-03-01T10:15:33.648Z"
   },
   {
    "duration": 2,
    "start_time": "2022-03-01T10:15:33.670Z"
   },
   {
    "duration": 321,
    "start_time": "2022-03-01T10:15:33.673Z"
   },
   {
    "duration": 263,
    "start_time": "2022-03-01T10:15:33.996Z"
   },
   {
    "duration": 225,
    "start_time": "2022-03-01T10:15:34.261Z"
   },
   {
    "duration": 201,
    "start_time": "2022-03-01T10:15:34.487Z"
   },
   {
    "duration": 240,
    "start_time": "2022-03-01T10:15:34.689Z"
   },
   {
    "duration": 315,
    "start_time": "2022-03-01T10:15:34.931Z"
   },
   {
    "duration": 134,
    "start_time": "2022-03-01T10:15:35.248Z"
   },
   {
    "duration": 131,
    "start_time": "2022-03-01T10:15:35.383Z"
   },
   {
    "duration": 4,
    "start_time": "2022-03-01T10:15:35.515Z"
   },
   {
    "duration": 4721,
    "start_time": "2022-03-01T10:15:35.520Z"
   },
   {
    "duration": 507,
    "start_time": "2022-03-01T10:15:40.243Z"
   },
   {
    "duration": 490,
    "start_time": "2022-03-01T10:15:40.752Z"
   },
   {
    "duration": 497,
    "start_time": "2022-03-01T10:15:41.244Z"
   },
   {
    "duration": 19,
    "start_time": "2022-03-01T10:15:41.742Z"
   },
   {
    "duration": 575,
    "start_time": "2022-03-01T10:15:41.762Z"
   },
   {
    "duration": 286,
    "start_time": "2022-03-01T10:15:42.338Z"
   },
   {
    "duration": 320,
    "start_time": "2022-03-01T10:15:42.625Z"
   },
   {
    "duration": 297,
    "start_time": "2022-03-01T10:15:42.946Z"
   },
   {
    "duration": 297,
    "start_time": "2022-03-01T10:15:43.245Z"
   },
   {
    "duration": 309,
    "start_time": "2022-03-01T10:15:43.543Z"
   },
   {
    "duration": 342,
    "start_time": "2022-03-01T10:15:43.853Z"
   },
   {
    "duration": 12,
    "start_time": "2022-03-01T10:15:44.197Z"
   },
   {
    "duration": 443,
    "start_time": "2022-03-01T10:15:44.211Z"
   },
   {
    "duration": 452,
    "start_time": "2022-03-01T10:15:44.655Z"
   },
   {
    "duration": 399,
    "start_time": "2022-03-01T10:15:45.109Z"
   },
   {
    "duration": 7260,
    "start_time": "2022-03-01T10:15:45.510Z"
   },
   {
    "duration": 587,
    "start_time": "2022-03-01T10:25:39.258Z"
   },
   {
    "duration": 3,
    "start_time": "2022-03-01T10:50:59.821Z"
   },
   {
    "duration": 19,
    "start_time": "2022-03-01T11:00:40.076Z"
   },
   {
    "duration": 95,
    "start_time": "2022-03-01T11:00:54.462Z"
   },
   {
    "duration": 118,
    "start_time": "2022-03-01T11:01:04.074Z"
   },
   {
    "duration": 19,
    "start_time": "2022-03-01T11:01:14.380Z"
   },
   {
    "duration": 19,
    "start_time": "2022-03-01T11:02:21.793Z"
   },
   {
    "duration": 164,
    "start_time": "2022-03-01T11:28:34.216Z"
   },
   {
    "duration": 276,
    "start_time": "2022-03-01T11:29:05.714Z"
   },
   {
    "duration": 276,
    "start_time": "2022-03-01T11:29:21.661Z"
   },
   {
    "duration": 282,
    "start_time": "2022-03-01T11:29:33.251Z"
   },
   {
    "duration": 615,
    "start_time": "2022-03-01T11:30:52.174Z"
   },
   {
    "duration": 1091,
    "start_time": "2022-03-01T20:41:39.008Z"
   },
   {
    "duration": 69,
    "start_time": "2022-03-01T20:41:40.101Z"
   },
   {
    "duration": 29,
    "start_time": "2022-03-01T20:41:40.173Z"
   },
   {
    "duration": 12,
    "start_time": "2022-03-01T20:41:40.204Z"
   },
   {
    "duration": 8,
    "start_time": "2022-03-01T20:41:40.217Z"
   },
   {
    "duration": 96,
    "start_time": "2022-03-01T20:41:40.227Z"
   },
   {
    "duration": 67,
    "start_time": "2022-03-01T20:41:40.325Z"
   },
   {
    "duration": 38,
    "start_time": "2022-03-01T20:41:40.394Z"
   },
   {
    "duration": 6,
    "start_time": "2022-03-01T20:41:40.434Z"
   },
   {
    "duration": 4,
    "start_time": "2022-03-01T20:41:40.459Z"
   },
   {
    "duration": 7,
    "start_time": "2022-03-01T20:41:40.465Z"
   },
   {
    "duration": 10,
    "start_time": "2022-03-01T20:41:40.474Z"
   },
   {
    "duration": 9,
    "start_time": "2022-03-01T20:41:40.486Z"
   },
   {
    "duration": 109,
    "start_time": "2022-03-01T20:41:40.497Z"
   },
   {
    "duration": 3,
    "start_time": "2022-03-01T20:41:40.608Z"
   },
   {
    "duration": 9,
    "start_time": "2022-03-01T20:41:40.613Z"
   },
   {
    "duration": 8,
    "start_time": "2022-03-01T20:41:40.624Z"
   },
   {
    "duration": 36,
    "start_time": "2022-03-01T20:41:40.633Z"
   },
   {
    "duration": 3,
    "start_time": "2022-03-01T20:41:40.671Z"
   },
   {
    "duration": 870,
    "start_time": "2022-03-01T20:41:40.676Z"
   },
   {
    "duration": 7,
    "start_time": "2022-03-01T20:41:41.547Z"
   },
   {
    "duration": 3,
    "start_time": "2022-03-01T20:41:41.559Z"
   },
   {
    "duration": 6,
    "start_time": "2022-03-01T20:41:41.566Z"
   },
   {
    "duration": 13,
    "start_time": "2022-03-01T20:41:41.574Z"
   },
   {
    "duration": 6,
    "start_time": "2022-03-01T20:41:41.589Z"
   },
   {
    "duration": 8,
    "start_time": "2022-03-01T20:41:41.596Z"
   },
   {
    "duration": 24,
    "start_time": "2022-03-01T20:41:41.605Z"
   },
   {
    "duration": 2,
    "start_time": "2022-03-01T20:41:41.631Z"
   },
   {
    "duration": 417,
    "start_time": "2022-03-01T20:41:41.634Z"
   },
   {
    "duration": 327,
    "start_time": "2022-03-01T20:41:42.052Z"
   },
   {
    "duration": 216,
    "start_time": "2022-03-01T20:41:42.381Z"
   },
   {
    "duration": 247,
    "start_time": "2022-03-01T20:41:42.599Z"
   },
   {
    "duration": 297,
    "start_time": "2022-03-01T20:41:42.848Z"
   },
   {
    "duration": 403,
    "start_time": "2022-03-01T20:41:43.147Z"
   },
   {
    "duration": 166,
    "start_time": "2022-03-01T20:41:43.552Z"
   },
   {
    "duration": 167,
    "start_time": "2022-03-01T20:41:43.720Z"
   },
   {
    "duration": 741,
    "start_time": "2022-03-01T20:41:43.888Z"
   },
   {
    "duration": 4,
    "start_time": "2022-03-01T20:41:44.631Z"
   },
   {
    "duration": 5677,
    "start_time": "2022-03-01T20:41:44.637Z"
   },
   {
    "duration": 535,
    "start_time": "2022-03-01T20:41:50.316Z"
   },
   {
    "duration": 518,
    "start_time": "2022-03-01T20:41:50.853Z"
   },
   {
    "duration": 533,
    "start_time": "2022-03-01T20:41:51.373Z"
   },
   {
    "duration": 22,
    "start_time": "2022-03-01T20:41:51.909Z"
   },
   {
    "duration": 466,
    "start_time": "2022-03-01T20:41:51.933Z"
   },
   {
    "duration": 335,
    "start_time": "2022-03-01T20:41:52.401Z"
   },
   {
    "duration": 369,
    "start_time": "2022-03-01T20:41:52.738Z"
   },
   {
    "duration": 323,
    "start_time": "2022-03-01T20:41:53.108Z"
   },
   {
    "duration": 375,
    "start_time": "2022-03-01T20:41:53.433Z"
   },
   {
    "duration": 322,
    "start_time": "2022-03-01T20:41:53.810Z"
   },
   {
    "duration": 363,
    "start_time": "2022-03-01T20:41:54.134Z"
   },
   {
    "duration": 15,
    "start_time": "2022-03-01T20:50:10.965Z"
   },
   {
    "duration": 15,
    "start_time": "2022-03-01T20:50:41.291Z"
   },
   {
    "duration": 15,
    "start_time": "2022-03-01T20:50:54.971Z"
   },
   {
    "duration": 309,
    "start_time": "2022-03-01T20:58:00.918Z"
   },
   {
    "duration": 299,
    "start_time": "2022-03-01T21:57:55.300Z"
   },
   {
    "duration": 623,
    "start_time": "2022-03-01T21:58:39.629Z"
   },
   {
    "duration": 1143,
    "start_time": "2022-03-01T22:03:02.443Z"
   },
   {
    "duration": 70,
    "start_time": "2022-03-01T22:03:03.588Z"
   },
   {
    "duration": 31,
    "start_time": "2022-03-01T22:03:03.660Z"
   },
   {
    "duration": 11,
    "start_time": "2022-03-01T22:03:03.693Z"
   },
   {
    "duration": 12,
    "start_time": "2022-03-01T22:03:03.705Z"
   },
   {
    "duration": 103,
    "start_time": "2022-03-01T22:03:03.719Z"
   },
   {
    "duration": 65,
    "start_time": "2022-03-01T22:03:03.823Z"
   },
   {
    "duration": 38,
    "start_time": "2022-03-01T22:03:03.890Z"
   },
   {
    "duration": 6,
    "start_time": "2022-03-01T22:03:03.930Z"
   },
   {
    "duration": 22,
    "start_time": "2022-03-01T22:03:03.938Z"
   },
   {
    "duration": 8,
    "start_time": "2022-03-01T22:03:03.962Z"
   },
   {
    "duration": 10,
    "start_time": "2022-03-01T22:03:03.971Z"
   },
   {
    "duration": 9,
    "start_time": "2022-03-01T22:03:03.982Z"
   },
   {
    "duration": 99,
    "start_time": "2022-03-01T22:03:03.992Z"
   },
   {
    "duration": 3,
    "start_time": "2022-03-01T22:03:04.092Z"
   },
   {
    "duration": 12,
    "start_time": "2022-03-01T22:03:04.097Z"
   },
   {
    "duration": 8,
    "start_time": "2022-03-01T22:03:04.110Z"
   },
   {
    "duration": 12,
    "start_time": "2022-03-01T22:03:04.119Z"
   },
   {
    "duration": 29,
    "start_time": "2022-03-01T22:03:04.132Z"
   },
   {
    "duration": 878,
    "start_time": "2022-03-01T22:03:04.163Z"
   },
   {
    "duration": 8,
    "start_time": "2022-03-01T22:03:05.043Z"
   },
   {
    "duration": 8,
    "start_time": "2022-03-01T22:03:05.052Z"
   },
   {
    "duration": 6,
    "start_time": "2022-03-01T22:03:05.063Z"
   },
   {
    "duration": 6,
    "start_time": "2022-03-01T22:03:05.071Z"
   },
   {
    "duration": 14,
    "start_time": "2022-03-01T22:03:05.079Z"
   },
   {
    "duration": 7,
    "start_time": "2022-03-01T22:03:05.094Z"
   },
   {
    "duration": 26,
    "start_time": "2022-03-01T22:03:05.103Z"
   },
   {
    "duration": 29,
    "start_time": "2022-03-01T22:03:05.130Z"
   },
   {
    "duration": 427,
    "start_time": "2022-03-01T22:03:05.161Z"
   },
   {
    "duration": 341,
    "start_time": "2022-03-01T22:03:05.590Z"
   },
   {
    "duration": 213,
    "start_time": "2022-03-01T22:03:05.933Z"
   },
   {
    "duration": 245,
    "start_time": "2022-03-01T22:03:06.148Z"
   },
   {
    "duration": 305,
    "start_time": "2022-03-01T22:03:06.395Z"
   },
   {
    "duration": 401,
    "start_time": "2022-03-01T22:03:06.701Z"
   },
   {
    "duration": 166,
    "start_time": "2022-03-01T22:03:07.104Z"
   },
   {
    "duration": 171,
    "start_time": "2022-03-01T22:03:07.272Z"
   },
   {
    "duration": 760,
    "start_time": "2022-03-01T22:03:07.444Z"
   },
   {
    "duration": 14,
    "start_time": "2022-03-01T22:03:08.206Z"
   },
   {
    "duration": 5,
    "start_time": "2022-03-01T22:03:08.222Z"
   },
   {
    "duration": 5439,
    "start_time": "2022-03-01T22:03:08.228Z"
   },
   {
    "duration": 525,
    "start_time": "2022-03-01T22:03:13.669Z"
   },
   {
    "duration": 556,
    "start_time": "2022-03-01T22:03:14.196Z"
   },
   {
    "duration": 517,
    "start_time": "2022-03-01T22:03:14.753Z"
   },
   {
    "duration": 537,
    "start_time": "2022-03-01T22:03:15.272Z"
   },
   {
    "duration": 23,
    "start_time": "2022-03-01T22:03:15.811Z"
   },
   {
    "duration": 512,
    "start_time": "2022-03-01T22:03:15.836Z"
   },
   {
    "duration": 364,
    "start_time": "2022-03-01T22:03:16.350Z"
   },
   {
    "duration": 377,
    "start_time": "2022-03-01T22:03:16.717Z"
   },
   {
    "duration": 335,
    "start_time": "2022-03-01T22:03:17.096Z"
   },
   {
    "duration": 312,
    "start_time": "2022-03-01T22:03:17.433Z"
   },
   {
    "duration": 351,
    "start_time": "2022-03-01T22:03:17.747Z"
   },
   {
    "duration": 335,
    "start_time": "2022-03-01T22:03:18.100Z"
   },
   {
    "duration": 374,
    "start_time": "2022-03-01T22:03:18.438Z"
   },
   {
    "duration": 463,
    "start_time": "2022-03-01T22:03:18.814Z"
   },
   {
    "duration": 63,
    "start_time": "2022-03-10T16:58:48.553Z"
   },
   {
    "duration": 53,
    "start_time": "2022-03-10T17:17:46.750Z"
   },
   {
    "duration": 1100,
    "start_time": "2022-03-10T17:17:54.577Z"
   },
   {
    "duration": 69,
    "start_time": "2022-03-10T17:17:55.679Z"
   },
   {
    "duration": 28,
    "start_time": "2022-03-10T17:17:55.750Z"
   },
   {
    "duration": 10,
    "start_time": "2022-03-10T17:17:55.780Z"
   },
   {
    "duration": 9,
    "start_time": "2022-03-10T17:17:55.791Z"
   },
   {
    "duration": 104,
    "start_time": "2022-03-10T17:17:55.802Z"
   },
   {
    "duration": 64,
    "start_time": "2022-03-10T17:17:55.908Z"
   },
   {
    "duration": 37,
    "start_time": "2022-03-10T17:17:55.974Z"
   },
   {
    "duration": 29,
    "start_time": "2022-03-10T17:17:56.013Z"
   },
   {
    "duration": 5,
    "start_time": "2022-03-10T17:17:56.045Z"
   },
   {
    "duration": 6,
    "start_time": "2022-03-10T17:17:56.052Z"
   },
   {
    "duration": 12,
    "start_time": "2022-03-10T17:17:56.059Z"
   },
   {
    "duration": 10,
    "start_time": "2022-03-10T17:17:56.073Z"
   },
   {
    "duration": 61,
    "start_time": "2022-03-10T17:17:56.085Z"
   },
   {
    "duration": -2574,
    "start_time": "2022-03-10T17:17:58.722Z"
   },
   {
    "duration": -2594,
    "start_time": "2022-03-10T17:17:58.743Z"
   },
   {
    "duration": -2742,
    "start_time": "2022-03-10T17:17:58.892Z"
   },
   {
    "duration": -2761,
    "start_time": "2022-03-10T17:17:58.912Z"
   },
   {
    "duration": -2779,
    "start_time": "2022-03-10T17:17:58.931Z"
   },
   {
    "duration": -2806,
    "start_time": "2022-03-10T17:17:58.959Z"
   },
   {
    "duration": -2947,
    "start_time": "2022-03-10T17:17:59.101Z"
   },
   {
    "duration": -3090,
    "start_time": "2022-03-10T17:17:59.245Z"
   },
   {
    "duration": -3128,
    "start_time": "2022-03-10T17:17:59.283Z"
   },
   {
    "duration": -3442,
    "start_time": "2022-03-10T17:17:59.598Z"
   },
   {
    "duration": -3556,
    "start_time": "2022-03-10T17:17:59.713Z"
   },
   {
    "duration": -3588,
    "start_time": "2022-03-10T17:17:59.746Z"
   },
   {
    "duration": -3614,
    "start_time": "2022-03-10T17:17:59.773Z"
   },
   {
    "duration": -3651,
    "start_time": "2022-03-10T17:17:59.811Z"
   },
   {
    "duration": -3747,
    "start_time": "2022-03-10T17:17:59.908Z"
   },
   {
    "duration": -3780,
    "start_time": "2022-03-10T17:17:59.942Z"
   },
   {
    "duration": -3798,
    "start_time": "2022-03-10T17:17:59.961Z"
   },
   {
    "duration": -3826,
    "start_time": "2022-03-10T17:17:59.990Z"
   },
   {
    "duration": -4044,
    "start_time": "2022-03-10T17:18:00.209Z"
   },
   {
    "duration": -4066,
    "start_time": "2022-03-10T17:18:00.231Z"
   },
   {
    "duration": -4115,
    "start_time": "2022-03-10T17:18:00.281Z"
   },
   {
    "duration": -4245,
    "start_time": "2022-03-10T17:18:00.412Z"
   },
   {
    "duration": -4275,
    "start_time": "2022-03-10T17:18:00.443Z"
   },
   {
    "duration": -4307,
    "start_time": "2022-03-10T17:18:00.476Z"
   },
   {
    "duration": -4461,
    "start_time": "2022-03-10T17:18:00.631Z"
   },
   {
    "duration": -4492,
    "start_time": "2022-03-10T17:18:00.663Z"
   },
   {
    "duration": -4535,
    "start_time": "2022-03-10T17:18:00.707Z"
   },
   {
    "duration": -4607,
    "start_time": "2022-03-10T17:18:00.780Z"
   },
   {
    "duration": -4624,
    "start_time": "2022-03-10T17:18:00.798Z"
   },
   {
    "duration": -4640,
    "start_time": "2022-03-10T17:18:00.823Z"
   },
   {
    "duration": -4657,
    "start_time": "2022-03-10T17:18:00.841Z"
   },
   {
    "duration": -4674,
    "start_time": "2022-03-10T17:18:00.859Z"
   },
   {
    "duration": -4687,
    "start_time": "2022-03-10T17:18:00.874Z"
   },
   {
    "duration": -4725,
    "start_time": "2022-03-10T17:18:00.913Z"
   },
   {
    "duration": -4740,
    "start_time": "2022-03-10T17:18:00.929Z"
   },
   {
    "duration": -4755,
    "start_time": "2022-03-10T17:18:00.945Z"
   },
   {
    "duration": -4770,
    "start_time": "2022-03-10T17:18:00.961Z"
   },
   {
    "duration": -4756,
    "start_time": "2022-03-10T17:18:00.994Z"
   },
   {
    "duration": -4810,
    "start_time": "2022-03-10T17:18:01.049Z"
   },
   {
    "duration": -4842,
    "start_time": "2022-03-10T17:18:01.082Z"
   },
   {
    "duration": -4887,
    "start_time": "2022-03-10T17:18:01.128Z"
   },
   {
    "duration": 8,
    "start_time": "2022-03-10T17:18:37.344Z"
   },
   {
    "duration": 8,
    "start_time": "2022-03-10T17:18:47.549Z"
   },
   {
    "duration": 7,
    "start_time": "2022-03-10T17:18:58.409Z"
   },
   {
    "duration": 1151,
    "start_time": "2022-03-10T17:19:50.511Z"
   },
   {
    "duration": 59,
    "start_time": "2022-03-10T17:19:51.664Z"
   },
   {
    "duration": 32,
    "start_time": "2022-03-10T17:19:51.725Z"
   },
   {
    "duration": 10,
    "start_time": "2022-03-10T17:19:51.759Z"
   },
   {
    "duration": 8,
    "start_time": "2022-03-10T17:19:51.770Z"
   },
   {
    "duration": 90,
    "start_time": "2022-03-10T17:19:51.780Z"
   },
   {
    "duration": 66,
    "start_time": "2022-03-10T17:19:51.872Z"
   },
   {
    "duration": 35,
    "start_time": "2022-03-10T17:19:51.940Z"
   },
   {
    "duration": 6,
    "start_time": "2022-03-10T17:19:51.977Z"
   },
   {
    "duration": 10,
    "start_time": "2022-03-10T17:19:51.985Z"
   },
   {
    "duration": 7,
    "start_time": "2022-03-10T17:19:51.996Z"
   },
   {
    "duration": 10,
    "start_time": "2022-03-10T17:19:52.004Z"
   },
   {
    "duration": 11,
    "start_time": "2022-03-10T17:19:52.037Z"
   },
   {
    "duration": 6,
    "start_time": "2022-03-10T17:19:52.050Z"
   },
   {
    "duration": 107,
    "start_time": "2022-03-10T17:19:52.058Z"
   },
   {
    "duration": 4,
    "start_time": "2022-03-10T17:19:52.166Z"
   },
   {
    "duration": 13,
    "start_time": "2022-03-10T17:19:52.172Z"
   },
   {
    "duration": 7,
    "start_time": "2022-03-10T17:19:52.187Z"
   },
   {
    "duration": 14,
    "start_time": "2022-03-10T17:19:52.196Z"
   },
   {
    "duration": 4,
    "start_time": "2022-03-10T17:19:52.212Z"
   },
   {
    "duration": 826,
    "start_time": "2022-03-10T17:19:52.217Z"
   },
   {
    "duration": 7,
    "start_time": "2022-03-10T17:19:53.045Z"
   },
   {
    "duration": 12,
    "start_time": "2022-03-10T17:19:53.056Z"
   },
   {
    "duration": 13,
    "start_time": "2022-03-10T17:19:53.070Z"
   },
   {
    "duration": 14,
    "start_time": "2022-03-10T17:19:53.084Z"
   },
   {
    "duration": 11,
    "start_time": "2022-03-10T17:19:53.100Z"
   },
   {
    "duration": 14,
    "start_time": "2022-03-10T17:19:53.113Z"
   },
   {
    "duration": 24,
    "start_time": "2022-03-10T17:19:53.138Z"
   },
   {
    "duration": 2,
    "start_time": "2022-03-10T17:19:53.164Z"
   },
   {
    "duration": 425,
    "start_time": "2022-03-10T17:19:53.167Z"
   },
   {
    "duration": 331,
    "start_time": "2022-03-10T17:19:53.594Z"
   },
   {
    "duration": 212,
    "start_time": "2022-03-10T17:19:53.926Z"
   },
   {
    "duration": 240,
    "start_time": "2022-03-10T17:19:54.140Z"
   },
   {
    "duration": 298,
    "start_time": "2022-03-10T17:19:54.382Z"
   },
   {
    "duration": 377,
    "start_time": "2022-03-10T17:19:54.682Z"
   },
   {
    "duration": 167,
    "start_time": "2022-03-10T17:19:55.061Z"
   },
   {
    "duration": 173,
    "start_time": "2022-03-10T17:19:55.230Z"
   },
   {
    "duration": 707,
    "start_time": "2022-03-10T17:19:55.405Z"
   },
   {
    "duration": 25,
    "start_time": "2022-03-10T17:19:56.114Z"
   },
   {
    "duration": 5,
    "start_time": "2022-03-10T17:19:56.141Z"
   },
   {
    "duration": 5213,
    "start_time": "2022-03-10T17:19:56.148Z"
   },
   {
    "duration": 562,
    "start_time": "2022-03-10T17:20:01.363Z"
   },
   {
    "duration": 543,
    "start_time": "2022-03-10T17:20:01.927Z"
   },
   {
    "duration": 562,
    "start_time": "2022-03-10T17:20:02.472Z"
   },
   {
    "duration": 486,
    "start_time": "2022-03-10T17:20:03.037Z"
   },
   {
    "duration": 28,
    "start_time": "2022-03-10T17:20:03.525Z"
   },
   {
    "duration": 485,
    "start_time": "2022-03-10T17:20:03.555Z"
   },
   {
    "duration": 334,
    "start_time": "2022-03-10T17:20:04.042Z"
   },
   {
    "duration": 323,
    "start_time": "2022-03-10T17:20:04.378Z"
   },
   {
    "duration": 368,
    "start_time": "2022-03-10T17:20:04.703Z"
   },
   {
    "duration": 301,
    "start_time": "2022-03-10T17:20:05.072Z"
   },
   {
    "duration": 313,
    "start_time": "2022-03-10T17:20:05.375Z"
   },
   {
    "duration": 356,
    "start_time": "2022-03-10T17:20:05.690Z"
   },
   {
    "duration": 335,
    "start_time": "2022-03-10T17:20:06.048Z"
   },
   {
    "duration": 473,
    "start_time": "2022-03-10T17:20:06.385Z"
   },
   {
    "duration": 296,
    "start_time": "2022-03-10T20:42:46.372Z"
   },
   {
    "duration": 1514,
    "start_time": "2022-03-10T20:42:52.747Z"
   },
   {
    "duration": 98,
    "start_time": "2022-03-10T20:42:54.264Z"
   },
   {
    "duration": 59,
    "start_time": "2022-03-10T20:42:54.365Z"
   },
   {
    "duration": 27,
    "start_time": "2022-03-10T20:42:54.428Z"
   },
   {
    "duration": 43,
    "start_time": "2022-03-10T20:42:54.458Z"
   },
   {
    "duration": 36,
    "start_time": "2022-03-10T20:42:54.504Z"
   },
   {
    "duration": 149,
    "start_time": "2022-03-10T20:42:54.543Z"
   },
   {
    "duration": 106,
    "start_time": "2022-03-10T20:42:54.696Z"
   },
   {
    "duration": 58,
    "start_time": "2022-03-10T20:42:54.805Z"
   },
   {
    "duration": 11,
    "start_time": "2022-03-10T20:42:54.886Z"
   },
   {
    "duration": 14,
    "start_time": "2022-03-10T20:42:54.899Z"
   },
   {
    "duration": 17,
    "start_time": "2022-03-10T20:42:54.916Z"
   },
   {
    "duration": 16,
    "start_time": "2022-03-10T20:42:54.937Z"
   },
   {
    "duration": 38,
    "start_time": "2022-03-10T20:42:54.956Z"
   },
   {
    "duration": 15,
    "start_time": "2022-03-10T20:42:54.997Z"
   },
   {
    "duration": 237,
    "start_time": "2022-03-10T20:42:55.016Z"
   },
   {
    "duration": 6,
    "start_time": "2022-03-10T20:42:55.256Z"
   },
   {
    "duration": 40,
    "start_time": "2022-03-10T20:42:55.265Z"
   },
   {
    "duration": 21,
    "start_time": "2022-03-10T20:42:55.308Z"
   },
   {
    "duration": 44,
    "start_time": "2022-03-10T20:42:55.332Z"
   },
   {
    "duration": 5,
    "start_time": "2022-03-10T20:42:55.378Z"
   },
   {
    "duration": 1620,
    "start_time": "2022-03-10T20:42:55.388Z"
   },
   {
    "duration": 10,
    "start_time": "2022-03-10T20:42:57.014Z"
   },
   {
    "duration": 13,
    "start_time": "2022-03-10T20:42:57.027Z"
   },
   {
    "duration": 18,
    "start_time": "2022-03-10T20:42:57.044Z"
   },
   {
    "duration": 22,
    "start_time": "2022-03-10T20:42:57.065Z"
   },
   {
    "duration": 8,
    "start_time": "2022-03-10T20:42:57.090Z"
   },
   {
    "duration": 35,
    "start_time": "2022-03-10T20:42:57.100Z"
   },
   {
    "duration": 82,
    "start_time": "2022-03-10T20:42:57.138Z"
   },
   {
    "duration": 3,
    "start_time": "2022-03-10T20:42:57.223Z"
   },
   {
    "duration": 627,
    "start_time": "2022-03-10T20:42:57.229Z"
   },
   {
    "duration": 517,
    "start_time": "2022-03-10T20:42:57.858Z"
   },
   {
    "duration": 325,
    "start_time": "2022-03-10T20:42:58.377Z"
   },
   {
    "duration": 369,
    "start_time": "2022-03-10T20:42:58.704Z"
   },
   {
    "duration": 676,
    "start_time": "2022-03-10T20:42:59.075Z"
   },
   {
    "duration": 616,
    "start_time": "2022-03-10T20:42:59.754Z"
   },
   {
    "duration": 389,
    "start_time": "2022-03-10T20:43:00.373Z"
   },
   {
    "duration": 245,
    "start_time": "2022-03-10T20:43:00.764Z"
   },
   {
    "duration": 1175,
    "start_time": "2022-03-10T20:43:01.011Z"
   },
   {
    "duration": 20,
    "start_time": "2022-03-10T20:43:02.189Z"
   },
   {
    "duration": 6,
    "start_time": "2022-03-10T20:43:02.211Z"
   },
   {
    "duration": 10763,
    "start_time": "2022-03-10T20:43:02.219Z"
   },
   {
    "duration": 900,
    "start_time": "2022-03-10T20:43:12.987Z"
   },
   {
    "duration": 856,
    "start_time": "2022-03-10T20:43:13.891Z"
   },
   {
    "duration": 892,
    "start_time": "2022-03-10T20:43:14.749Z"
   },
   {
    "duration": 838,
    "start_time": "2022-03-10T20:43:15.644Z"
   },
   {
    "duration": 30,
    "start_time": "2022-03-10T20:43:16.488Z"
   },
   {
    "duration": 905,
    "start_time": "2022-03-10T20:43:16.521Z"
   },
   {
    "duration": 518,
    "start_time": "2022-03-10T20:43:17.429Z"
   },
   {
    "duration": 484,
    "start_time": "2022-03-10T20:43:17.949Z"
   },
   {
    "duration": 506,
    "start_time": "2022-03-10T20:43:18.436Z"
   },
   {
    "duration": 470,
    "start_time": "2022-03-10T20:43:18.944Z"
   },
   {
    "duration": 456,
    "start_time": "2022-03-10T20:43:19.416Z"
   },
   {
    "duration": 470,
    "start_time": "2022-03-10T20:43:19.874Z"
   },
   {
    "duration": 478,
    "start_time": "2022-03-10T20:43:20.347Z"
   },
   {
    "duration": 606,
    "start_time": "2022-03-10T20:43:20.828Z"
   },
   {
    "duration": 25,
    "start_time": "2022-03-10T20:44:46.937Z"
   },
   {
    "duration": 80,
    "start_time": "2022-03-10T20:45:04.922Z"
   },
   {
    "duration": 81,
    "start_time": "2022-03-10T20:45:18.785Z"
   },
   {
    "duration": 12,
    "start_time": "2022-03-10T20:51:19.832Z"
   },
   {
    "duration": 18,
    "start_time": "2022-03-10T20:52:34.708Z"
   },
   {
    "duration": 4,
    "start_time": "2022-03-10T21:00:29.010Z"
   },
   {
    "duration": 99,
    "start_time": "2022-03-10T21:00:29.017Z"
   },
   {
    "duration": 68,
    "start_time": "2022-03-10T21:00:29.119Z"
   },
   {
    "duration": 17,
    "start_time": "2022-03-10T21:00:29.190Z"
   },
   {
    "duration": 15,
    "start_time": "2022-03-10T21:00:29.210Z"
   },
   {
    "duration": 140,
    "start_time": "2022-03-10T21:00:29.228Z"
   },
   {
    "duration": 95,
    "start_time": "2022-03-10T21:00:29.371Z"
   },
   {
    "duration": 71,
    "start_time": "2022-03-10T21:00:29.468Z"
   },
   {
    "duration": 8,
    "start_time": "2022-03-10T21:00:29.543Z"
   },
   {
    "duration": 39,
    "start_time": "2022-03-10T21:00:29.554Z"
   },
   {
    "duration": 13,
    "start_time": "2022-03-10T21:00:29.595Z"
   },
   {
    "duration": 29,
    "start_time": "2022-03-10T21:00:29.610Z"
   },
   {
    "duration": 35,
    "start_time": "2022-03-10T21:00:29.642Z"
   },
   {
    "duration": 29,
    "start_time": "2022-03-10T21:00:29.680Z"
   },
   {
    "duration": 143,
    "start_time": "2022-03-10T21:00:29.712Z"
   },
   {
    "duration": 5,
    "start_time": "2022-03-10T21:00:29.857Z"
   },
   {
    "duration": 24,
    "start_time": "2022-03-10T21:00:29.864Z"
   },
   {
    "duration": 31,
    "start_time": "2022-03-10T21:00:29.890Z"
   },
   {
    "duration": 34,
    "start_time": "2022-03-10T21:00:29.924Z"
   },
   {
    "duration": 17,
    "start_time": "2022-03-10T21:00:29.960Z"
   },
   {
    "duration": 1489,
    "start_time": "2022-03-10T21:00:29.979Z"
   },
   {
    "duration": 17,
    "start_time": "2022-03-10T21:00:31.471Z"
   },
   {
    "duration": 16,
    "start_time": "2022-03-10T21:00:31.491Z"
   },
   {
    "duration": 10,
    "start_time": "2022-03-10T21:00:31.509Z"
   },
   {
    "duration": 24,
    "start_time": "2022-03-10T21:00:31.521Z"
   },
   {
    "duration": 34,
    "start_time": "2022-03-10T21:00:31.547Z"
   },
   {
    "duration": 10,
    "start_time": "2022-03-10T21:00:31.589Z"
   },
   {
    "duration": 56,
    "start_time": "2022-03-10T21:00:31.603Z"
   },
   {
    "duration": 4,
    "start_time": "2022-03-10T21:00:31.662Z"
   },
   {
    "duration": 654,
    "start_time": "2022-03-10T21:00:31.669Z"
   },
   {
    "duration": 621,
    "start_time": "2022-03-10T21:00:32.325Z"
   },
   {
    "duration": 241,
    "start_time": "2022-03-10T21:00:32.948Z"
   },
   {
    "duration": 379,
    "start_time": "2022-03-10T21:00:33.191Z"
   },
   {
    "duration": 502,
    "start_time": "2022-03-10T21:00:33.573Z"
   },
   {
    "duration": 724,
    "start_time": "2022-03-10T21:00:34.077Z"
   },
   {
    "duration": 259,
    "start_time": "2022-03-10T21:00:34.804Z"
   },
   {
    "duration": 261,
    "start_time": "2022-03-10T21:00:35.066Z"
   },
   {
    "duration": 1120,
    "start_time": "2022-03-10T21:00:35.329Z"
   },
   {
    "duration": 21,
    "start_time": "2022-03-10T21:00:36.452Z"
   },
   {
    "duration": 20,
    "start_time": "2022-03-10T21:00:36.475Z"
   },
   {
    "duration": 8256,
    "start_time": "2022-03-10T21:00:36.497Z"
   },
   {
    "duration": 796,
    "start_time": "2022-03-10T21:00:44.756Z"
   },
   {
    "duration": 896,
    "start_time": "2022-03-10T21:00:45.555Z"
   },
   {
    "duration": 858,
    "start_time": "2022-03-10T21:00:46.453Z"
   },
   {
    "duration": 748,
    "start_time": "2022-03-10T21:00:47.313Z"
   },
   {
    "duration": 39,
    "start_time": "2022-03-10T21:00:48.064Z"
   },
   {
    "duration": 736,
    "start_time": "2022-03-10T21:00:48.105Z"
   },
   {
    "duration": 482,
    "start_time": "2022-03-10T21:00:48.844Z"
   },
   {
    "duration": 492,
    "start_time": "2022-03-10T21:00:49.328Z"
   },
   {
    "duration": 480,
    "start_time": "2022-03-10T21:00:49.822Z"
   },
   {
    "duration": 482,
    "start_time": "2022-03-10T21:00:50.305Z"
   },
   {
    "duration": 441,
    "start_time": "2022-03-10T21:00:50.789Z"
   },
   {
    "duration": 492,
    "start_time": "2022-03-10T21:00:51.232Z"
   },
   {
    "duration": 494,
    "start_time": "2022-03-10T21:00:51.727Z"
   },
   {
    "duration": 490,
    "start_time": "2022-03-10T21:00:52.224Z"
   },
   {
    "duration": 66,
    "start_time": "2022-03-10T21:02:03.522Z"
   },
   {
    "duration": 4,
    "start_time": "2022-03-10T21:02:59.059Z"
   },
   {
    "duration": 94,
    "start_time": "2022-03-10T21:02:59.066Z"
   },
   {
    "duration": 45,
    "start_time": "2022-03-10T21:02:59.162Z"
   },
   {
    "duration": 19,
    "start_time": "2022-03-10T21:02:59.210Z"
   },
   {
    "duration": 16,
    "start_time": "2022-03-10T21:02:59.232Z"
   },
   {
    "duration": 137,
    "start_time": "2022-03-10T21:02:59.250Z"
   },
   {
    "duration": 98,
    "start_time": "2022-03-10T21:02:59.389Z"
   },
   {
    "duration": 56,
    "start_time": "2022-03-10T21:02:59.490Z"
   },
   {
    "duration": 8,
    "start_time": "2022-03-10T21:02:59.549Z"
   },
   {
    "duration": 32,
    "start_time": "2022-03-10T21:02:59.559Z"
   },
   {
    "duration": 8,
    "start_time": "2022-03-10T21:02:59.594Z"
   },
   {
    "duration": 11,
    "start_time": "2022-03-10T21:03:11.668Z"
   },
   {
    "duration": 58,
    "start_time": "2022-03-10T21:03:20.357Z"
   },
   {
    "duration": 320,
    "start_time": "2022-03-10T21:10:16.888Z"
   },
   {
    "duration": 14,
    "start_time": "2022-03-10T21:12:47.389Z"
   },
   {
    "duration": 227,
    "start_time": "2022-03-10T21:12:55.178Z"
   },
   {
    "duration": 12,
    "start_time": "2022-03-10T21:13:22.652Z"
   },
   {
    "duration": 241,
    "start_time": "2022-03-10T21:13:31.033Z"
   },
   {
    "duration": 11,
    "start_time": "2022-03-10T21:13:34.840Z"
   },
   {
    "duration": 70,
    "start_time": "2022-03-10T21:13:54.747Z"
   },
   {
    "duration": 11,
    "start_time": "2022-03-10T21:14:25.128Z"
   },
   {
    "duration": 15,
    "start_time": "2022-03-10T21:14:59.937Z"
   },
   {
    "duration": 4,
    "start_time": "2022-03-10T21:15:07.235Z"
   },
   {
    "duration": 86,
    "start_time": "2022-03-10T21:15:07.242Z"
   },
   {
    "duration": 39,
    "start_time": "2022-03-10T21:15:07.331Z"
   },
   {
    "duration": 30,
    "start_time": "2022-03-10T21:15:07.372Z"
   },
   {
    "duration": 15,
    "start_time": "2022-03-10T21:15:07.405Z"
   },
   {
    "duration": 185,
    "start_time": "2022-03-10T21:15:07.423Z"
   },
   {
    "duration": 132,
    "start_time": "2022-03-10T21:15:07.611Z"
   },
   {
    "duration": 97,
    "start_time": "2022-03-10T21:15:07.747Z"
   },
   {
    "duration": 11,
    "start_time": "2022-03-10T21:15:07.848Z"
   },
   {
    "duration": 37,
    "start_time": "2022-03-10T21:15:07.862Z"
   },
   {
    "duration": 19,
    "start_time": "2022-03-10T21:15:07.902Z"
   },
   {
    "duration": 18,
    "start_time": "2022-03-10T21:15:07.924Z"
   },
   {
    "duration": 22,
    "start_time": "2022-03-10T21:15:07.945Z"
   },
   {
    "duration": 14,
    "start_time": "2022-03-10T21:15:16.207Z"
   },
   {
    "duration": 13,
    "start_time": "2022-03-10T21:15:26.322Z"
   },
   {
    "duration": 10,
    "start_time": "2022-03-10T21:15:28.872Z"
   },
   {
    "duration": 6,
    "start_time": "2022-03-10T21:16:54.614Z"
   },
   {
    "duration": 10,
    "start_time": "2022-03-10T21:17:02.418Z"
   },
   {
    "duration": 4,
    "start_time": "2022-03-10T21:19:22.804Z"
   },
   {
    "duration": 81,
    "start_time": "2022-03-10T21:19:22.811Z"
   },
   {
    "duration": 60,
    "start_time": "2022-03-10T21:19:22.896Z"
   },
   {
    "duration": 32,
    "start_time": "2022-03-10T21:19:22.958Z"
   },
   {
    "duration": 13,
    "start_time": "2022-03-10T21:19:22.992Z"
   },
   {
    "duration": 145,
    "start_time": "2022-03-10T21:19:23.007Z"
   },
   {
    "duration": 107,
    "start_time": "2022-03-10T21:19:23.154Z"
   },
   {
    "duration": 109,
    "start_time": "2022-03-10T21:19:23.267Z"
   },
   {
    "duration": 8,
    "start_time": "2022-03-10T21:19:23.387Z"
   },
   {
    "duration": 15,
    "start_time": "2022-03-10T21:19:23.398Z"
   },
   {
    "duration": 6,
    "start_time": "2022-03-10T21:19:23.416Z"
   },
   {
    "duration": 14,
    "start_time": "2022-03-10T21:19:23.424Z"
   },
   {
    "duration": 160,
    "start_time": "2022-03-10T21:19:23.441Z"
   },
   {
    "duration": 7,
    "start_time": "2022-03-10T21:19:23.604Z"
   },
   {
    "duration": 13,
    "start_time": "2022-03-10T21:21:08.408Z"
   },
   {
    "duration": 10,
    "start_time": "2022-03-10T21:21:15.710Z"
   },
   {
    "duration": 14,
    "start_time": "2022-03-10T21:21:21.517Z"
   },
   {
    "duration": 10,
    "start_time": "2022-03-10T21:21:24.321Z"
   },
   {
    "duration": 3,
    "start_time": "2022-03-10T21:30:08.969Z"
   },
   {
    "duration": 85,
    "start_time": "2022-03-10T21:30:08.975Z"
   },
   {
    "duration": 58,
    "start_time": "2022-03-10T21:30:09.064Z"
   },
   {
    "duration": 22,
    "start_time": "2022-03-10T21:30:09.124Z"
   },
   {
    "duration": 12,
    "start_time": "2022-03-10T21:30:09.149Z"
   },
   {
    "duration": 120,
    "start_time": "2022-03-10T21:30:09.188Z"
   },
   {
    "duration": 115,
    "start_time": "2022-03-10T21:30:09.311Z"
   },
   {
    "duration": 71,
    "start_time": "2022-03-10T21:30:09.430Z"
   },
   {
    "duration": 9,
    "start_time": "2022-03-10T21:30:09.503Z"
   },
   {
    "duration": 21,
    "start_time": "2022-03-10T21:30:09.514Z"
   },
   {
    "duration": 6,
    "start_time": "2022-03-10T21:30:09.537Z"
   },
   {
    "duration": 10,
    "start_time": "2022-03-10T21:30:09.546Z"
   },
   {
    "duration": 146,
    "start_time": "2022-03-10T21:30:09.559Z"
   },
   {
    "duration": 4,
    "start_time": "2022-03-10T21:30:09.707Z"
   },
   {
    "duration": 17,
    "start_time": "2022-03-10T21:30:09.714Z"
   },
   {
    "duration": 12,
    "start_time": "2022-03-10T21:30:09.733Z"
   },
   {
    "duration": 40,
    "start_time": "2022-03-10T21:30:09.747Z"
   },
   {
    "duration": 9,
    "start_time": "2022-03-10T21:30:09.789Z"
   },
   {
    "duration": 23,
    "start_time": "2022-03-10T21:30:09.800Z"
   },
   {
    "duration": 15,
    "start_time": "2022-03-10T21:30:09.825Z"
   },
   {
    "duration": 5,
    "start_time": "2022-03-10T21:30:09.842Z"
   },
   {
    "duration": 1460,
    "start_time": "2022-03-10T21:30:34.473Z"
   },
   {
    "duration": 10,
    "start_time": "2022-03-10T21:30:39.512Z"
   },
   {
    "duration": 1091,
    "start_time": "2022-03-10T21:31:42.316Z"
   },
   {
    "duration": 237,
    "start_time": "2022-03-10T21:44:31.026Z"
   },
   {
    "duration": 219,
    "start_time": "2022-03-10T21:45:57.966Z"
   },
   {
    "duration": 512,
    "start_time": "2022-03-10T21:53:21.380Z"
   },
   {
    "duration": 585,
    "start_time": "2022-03-10T21:53:56.970Z"
   },
   {
    "duration": 12,
    "start_time": "2022-03-10T21:54:32.154Z"
   },
   {
    "duration": 16,
    "start_time": "2022-03-10T21:54:42.766Z"
   },
   {
    "duration": 4,
    "start_time": "2022-03-10T21:54:47.709Z"
   },
   {
    "duration": 113,
    "start_time": "2022-03-10T21:54:47.716Z"
   },
   {
    "duration": 60,
    "start_time": "2022-03-10T21:54:47.833Z"
   },
   {
    "duration": 15,
    "start_time": "2022-03-10T21:54:47.895Z"
   },
   {
    "duration": 12,
    "start_time": "2022-03-10T21:54:47.912Z"
   },
   {
    "duration": 140,
    "start_time": "2022-03-10T21:54:47.926Z"
   },
   {
    "duration": 90,
    "start_time": "2022-03-10T21:54:48.069Z"
   },
   {
    "duration": 76,
    "start_time": "2022-03-10T21:54:48.163Z"
   },
   {
    "duration": 9,
    "start_time": "2022-03-10T21:54:48.242Z"
   },
   {
    "duration": 34,
    "start_time": "2022-03-10T21:54:48.253Z"
   },
   {
    "duration": 8,
    "start_time": "2022-03-10T21:54:48.289Z"
   },
   {
    "duration": 15,
    "start_time": "2022-03-10T21:54:48.299Z"
   },
   {
    "duration": 135,
    "start_time": "2022-03-10T21:54:48.316Z"
   },
   {
    "duration": 5,
    "start_time": "2022-03-10T21:54:48.453Z"
   },
   {
    "duration": 33,
    "start_time": "2022-03-10T21:54:48.460Z"
   },
   {
    "duration": 12,
    "start_time": "2022-03-10T21:54:48.496Z"
   },
   {
    "duration": 9,
    "start_time": "2022-03-10T21:54:48.510Z"
   },
   {
    "duration": 9,
    "start_time": "2022-03-10T21:54:48.521Z"
   },
   {
    "duration": 13,
    "start_time": "2022-03-10T21:54:48.533Z"
   },
   {
    "duration": 48,
    "start_time": "2022-03-10T21:54:48.549Z"
   },
   {
    "duration": 6,
    "start_time": "2022-03-10T21:54:48.600Z"
   },
   {
    "duration": 1579,
    "start_time": "2022-03-10T21:54:48.608Z"
   },
   {
    "duration": 10,
    "start_time": "2022-03-10T21:54:50.191Z"
   },
   {
    "duration": 5,
    "start_time": "2022-03-10T21:54:50.204Z"
   },
   {
    "duration": 8,
    "start_time": "2022-03-10T21:54:50.211Z"
   },
   {
    "duration": 9,
    "start_time": "2022-03-10T21:54:50.221Z"
   },
   {
    "duration": 10,
    "start_time": "2022-03-10T21:54:50.232Z"
   },
   {
    "duration": 47,
    "start_time": "2022-03-10T21:54:50.244Z"
   },
   {
    "duration": 42,
    "start_time": "2022-03-10T21:54:50.294Z"
   },
   {
    "duration": 3,
    "start_time": "2022-03-10T21:54:50.339Z"
   },
   {
    "duration": 650,
    "start_time": "2022-03-10T21:54:50.344Z"
   },
   {
    "duration": 533,
    "start_time": "2022-03-10T21:54:50.997Z"
   },
   {
    "duration": 240,
    "start_time": "2022-03-10T21:54:51.532Z"
   },
   {
    "duration": 380,
    "start_time": "2022-03-10T21:54:51.775Z"
   },
   {
    "duration": 472,
    "start_time": "2022-03-10T21:54:52.157Z"
   },
   {
    "duration": 791,
    "start_time": "2022-03-10T21:54:52.632Z"
   },
   {
    "duration": 262,
    "start_time": "2022-03-10T21:54:53.425Z"
   },
   {
    "duration": 241,
    "start_time": "2022-03-10T21:54:53.689Z"
   },
   {
    "duration": 13,
    "start_time": "2022-03-10T21:55:03.313Z"
   },
   {
    "duration": 787,
    "start_time": "2022-03-10T21:55:49.556Z"
   },
   {
    "duration": 364,
    "start_time": "2022-03-10T21:57:14.283Z"
   },
   {
    "duration": 21,
    "start_time": "2022-03-10T21:57:25.748Z"
   },
   {
    "duration": 7,
    "start_time": "2022-03-10T21:59:58.938Z"
   },
   {
    "duration": 7527,
    "start_time": "2022-03-10T22:00:00.480Z"
   },
   {
    "duration": 707,
    "start_time": "2022-03-10T22:00:34.590Z"
   },
   {
    "duration": 1336,
    "start_time": "2022-03-10T22:02:45.308Z"
   },
   {
    "duration": 5923,
    "start_time": "2022-03-10T22:04:02.376Z"
   },
   {
    "duration": 20,
    "start_time": "2022-03-10T22:04:26.550Z"
   },
   {
    "duration": 298,
    "start_time": "2022-03-10T22:04:36.449Z"
   },
   {
    "duration": 698,
    "start_time": "2022-03-10T22:04:53.152Z"
   },
   {
    "duration": 302,
    "start_time": "2022-03-10T22:05:07.213Z"
   },
   {
    "duration": 306,
    "start_time": "2022-03-10T22:07:22.352Z"
   },
   {
    "duration": 288,
    "start_time": "2022-03-10T22:09:32.554Z"
   },
   {
    "duration": 307,
    "start_time": "2022-03-10T22:09:39.610Z"
   },
   {
    "duration": 288,
    "start_time": "2022-03-10T22:09:56.809Z"
   },
   {
    "duration": 300,
    "start_time": "2022-03-10T22:10:34.373Z"
   },
   {
    "duration": 252,
    "start_time": "2022-03-10T22:11:55.802Z"
   },
   {
    "duration": 267,
    "start_time": "2022-03-10T22:12:40.430Z"
   },
   {
    "duration": 690,
    "start_time": "2022-03-10T22:12:48.220Z"
   },
   {
    "duration": 4,
    "start_time": "2022-03-10T22:12:55.004Z"
   },
   {
    "duration": 88,
    "start_time": "2022-03-10T22:12:55.010Z"
   },
   {
    "duration": 43,
    "start_time": "2022-03-10T22:12:55.101Z"
   },
   {
    "duration": 52,
    "start_time": "2022-03-10T22:12:55.147Z"
   },
   {
    "duration": 12,
    "start_time": "2022-03-10T22:12:55.201Z"
   },
   {
    "duration": 129,
    "start_time": "2022-03-10T22:12:55.215Z"
   },
   {
    "duration": 92,
    "start_time": "2022-03-10T22:12:55.346Z"
   },
   {
    "duration": 75,
    "start_time": "2022-03-10T22:12:55.441Z"
   },
   {
    "duration": 8,
    "start_time": "2022-03-10T22:12:55.520Z"
   },
   {
    "duration": 15,
    "start_time": "2022-03-10T22:12:55.530Z"
   },
   {
    "duration": 7,
    "start_time": "2022-03-10T22:12:55.547Z"
   },
   {
    "duration": 38,
    "start_time": "2022-03-10T22:12:55.556Z"
   },
   {
    "duration": 127,
    "start_time": "2022-03-10T22:12:55.596Z"
   },
   {
    "duration": 4,
    "start_time": "2022-03-10T22:12:55.726Z"
   },
   {
    "duration": 17,
    "start_time": "2022-03-10T22:12:55.732Z"
   },
   {
    "duration": 18,
    "start_time": "2022-03-10T22:12:55.751Z"
   },
   {
    "duration": 9,
    "start_time": "2022-03-10T22:12:55.788Z"
   },
   {
    "duration": 16,
    "start_time": "2022-03-10T22:12:55.800Z"
   },
   {
    "duration": 15,
    "start_time": "2022-03-10T22:12:55.819Z"
   },
   {
    "duration": 22,
    "start_time": "2022-03-10T22:12:55.836Z"
   },
   {
    "duration": 28,
    "start_time": "2022-03-10T22:12:55.860Z"
   },
   {
    "duration": 1396,
    "start_time": "2022-03-10T22:12:55.891Z"
   },
   {
    "duration": 10,
    "start_time": "2022-03-10T22:12:57.292Z"
   },
   {
    "duration": 15,
    "start_time": "2022-03-10T22:12:57.305Z"
   },
   {
    "duration": 9,
    "start_time": "2022-03-10T22:12:57.322Z"
   },
   {
    "duration": 15,
    "start_time": "2022-03-10T22:12:57.334Z"
   },
   {
    "duration": 20,
    "start_time": "2022-03-10T22:12:57.351Z"
   },
   {
    "duration": 16,
    "start_time": "2022-03-10T22:12:57.373Z"
   },
   {
    "duration": 50,
    "start_time": "2022-03-10T22:12:57.391Z"
   },
   {
    "duration": 3,
    "start_time": "2022-03-10T22:12:57.443Z"
   },
   {
    "duration": 607,
    "start_time": "2022-03-10T22:12:57.449Z"
   },
   {
    "duration": 508,
    "start_time": "2022-03-10T22:12:58.058Z"
   },
   {
    "duration": 235,
    "start_time": "2022-03-10T22:12:58.569Z"
   },
   {
    "duration": 368,
    "start_time": "2022-03-10T22:12:58.806Z"
   },
   {
    "duration": 570,
    "start_time": "2022-03-10T22:12:59.176Z"
   },
   {
    "duration": 614,
    "start_time": "2022-03-10T22:12:59.749Z"
   },
   {
    "duration": 256,
    "start_time": "2022-03-10T22:13:00.366Z"
   },
   {
    "duration": 246,
    "start_time": "2022-03-10T22:13:00.624Z"
   },
   {
    "duration": 22,
    "start_time": "2022-03-10T22:13:00.872Z"
   },
   {
    "duration": 784,
    "start_time": "2022-03-10T22:13:00.896Z"
   },
   {
    "duration": 20,
    "start_time": "2022-03-10T22:13:01.682Z"
   },
   {
    "duration": 22,
    "start_time": "2022-03-10T22:13:01.705Z"
   },
   {
    "duration": 7315,
    "start_time": "2022-03-10T22:13:01.729Z"
   },
   {
    "duration": 698,
    "start_time": "2022-03-10T22:13:09.047Z"
   },
   {
    "duration": 304,
    "start_time": "2022-03-10T22:13:09.747Z"
   },
   {
    "duration": 665,
    "start_time": "2022-03-10T22:13:10.053Z"
   },
   {
    "duration": 319,
    "start_time": "2022-03-10T22:13:10.720Z"
   },
   {
    "duration": 681,
    "start_time": "2022-03-10T22:13:11.041Z"
   },
   {
    "duration": 774,
    "start_time": "2022-03-10T22:13:11.725Z"
   },
   {
    "duration": 30,
    "start_time": "2022-03-10T22:13:12.502Z"
   },
   {
    "duration": 652,
    "start_time": "2022-03-10T22:13:12.535Z"
   },
   {
    "duration": 456,
    "start_time": "2022-03-10T22:13:13.190Z"
   },
   {
    "duration": 466,
    "start_time": "2022-03-10T22:13:13.649Z"
   },
   {
    "duration": 449,
    "start_time": "2022-03-10T22:13:14.118Z"
   },
   {
    "duration": 280,
    "start_time": "2022-03-10T22:14:50.151Z"
   },
   {
    "duration": 315,
    "start_time": "2022-03-10T22:15:44.524Z"
   },
   {
    "duration": 312,
    "start_time": "2022-03-10T22:17:05.991Z"
   },
   {
    "duration": 1549,
    "start_time": "2022-03-10T22:24:03.662Z"
   },
   {
    "duration": 90,
    "start_time": "2022-03-10T22:24:05.214Z"
   },
   {
    "duration": 45,
    "start_time": "2022-03-10T22:24:05.307Z"
   },
   {
    "duration": 36,
    "start_time": "2022-03-10T22:24:05.355Z"
   },
   {
    "duration": 12,
    "start_time": "2022-03-10T22:24:05.393Z"
   },
   {
    "duration": 128,
    "start_time": "2022-03-10T22:24:05.408Z"
   },
   {
    "duration": 94,
    "start_time": "2022-03-10T22:24:05.539Z"
   },
   {
    "duration": 73,
    "start_time": "2022-03-10T22:24:05.636Z"
   },
   {
    "duration": 8,
    "start_time": "2022-03-10T22:24:05.712Z"
   },
   {
    "duration": 17,
    "start_time": "2022-03-10T22:24:05.723Z"
   },
   {
    "duration": 8,
    "start_time": "2022-03-10T22:24:05.743Z"
   },
   {
    "duration": 44,
    "start_time": "2022-03-10T22:24:05.753Z"
   },
   {
    "duration": 124,
    "start_time": "2022-03-10T22:24:05.800Z"
   },
   {
    "duration": 5,
    "start_time": "2022-03-10T22:24:05.927Z"
   },
   {
    "duration": 22,
    "start_time": "2022-03-10T22:24:05.934Z"
   },
   {
    "duration": 29,
    "start_time": "2022-03-10T22:24:05.958Z"
   },
   {
    "duration": 10,
    "start_time": "2022-03-10T22:24:05.989Z"
   },
   {
    "duration": 19,
    "start_time": "2022-03-10T22:24:06.001Z"
   },
   {
    "duration": 12,
    "start_time": "2022-03-10T22:24:06.022Z"
   },
   {
    "duration": 18,
    "start_time": "2022-03-10T22:24:06.036Z"
   },
   {
    "duration": 32,
    "start_time": "2022-03-10T22:24:06.056Z"
   },
   {
    "duration": 1408,
    "start_time": "2022-03-10T22:24:06.090Z"
   },
   {
    "duration": 10,
    "start_time": "2022-03-10T22:24:07.503Z"
   },
   {
    "duration": 12,
    "start_time": "2022-03-10T22:24:07.516Z"
   },
   {
    "duration": 5,
    "start_time": "2022-03-10T22:24:07.531Z"
   },
   {
    "duration": 9,
    "start_time": "2022-03-10T22:24:07.539Z"
   },
   {
    "duration": 40,
    "start_time": "2022-03-10T22:24:07.550Z"
   },
   {
    "duration": 7,
    "start_time": "2022-03-10T22:24:07.593Z"
   },
   {
    "duration": 38,
    "start_time": "2022-03-10T22:24:07.603Z"
   },
   {
    "duration": 3,
    "start_time": "2022-03-10T22:24:07.643Z"
   },
   {
    "duration": 648,
    "start_time": "2022-03-10T22:24:07.649Z"
   },
   {
    "duration": 513,
    "start_time": "2022-03-10T22:24:08.299Z"
   },
   {
    "duration": 311,
    "start_time": "2022-03-10T22:24:08.814Z"
   },
   {
    "duration": 482,
    "start_time": "2022-03-10T22:24:09.128Z"
   },
   {
    "duration": 467,
    "start_time": "2022-03-10T22:24:09.613Z"
   },
   {
    "duration": 634,
    "start_time": "2022-03-10T22:24:10.083Z"
   },
   {
    "duration": 265,
    "start_time": "2022-03-10T22:24:10.720Z"
   },
   {
    "duration": 237,
    "start_time": "2022-03-10T22:24:10.987Z"
   },
   {
    "duration": 13,
    "start_time": "2022-03-10T22:24:11.227Z"
   },
   {
    "duration": 809,
    "start_time": "2022-03-10T22:24:11.242Z"
   },
   {
    "duration": 21,
    "start_time": "2022-03-10T22:24:12.053Z"
   },
   {
    "duration": 6,
    "start_time": "2022-03-10T22:24:12.088Z"
   },
   {
    "duration": 7067,
    "start_time": "2022-03-10T22:24:12.096Z"
   },
   {
    "duration": 684,
    "start_time": "2022-03-10T22:24:19.166Z"
   },
   {
    "duration": 312,
    "start_time": "2022-03-10T22:24:19.852Z"
   },
   {
    "duration": 700,
    "start_time": "2022-03-10T22:24:20.166Z"
   },
   {
    "duration": 321,
    "start_time": "2022-03-10T22:24:20.868Z"
   },
   {
    "duration": 731,
    "start_time": "2022-03-10T22:24:21.192Z"
   },
   {
    "duration": 685,
    "start_time": "2022-03-10T22:24:21.925Z"
   },
   {
    "duration": 31,
    "start_time": "2022-03-10T22:24:22.612Z"
   },
   {
    "duration": 652,
    "start_time": "2022-03-10T22:24:22.646Z"
   },
   {
    "duration": 442,
    "start_time": "2022-03-10T22:24:23.300Z"
   },
   {
    "duration": 459,
    "start_time": "2022-03-10T22:24:23.745Z"
   },
   {
    "duration": 540,
    "start_time": "2022-03-10T22:24:24.207Z"
   },
   {
    "duration": 440,
    "start_time": "2022-03-10T22:24:24.749Z"
   },
   {
    "duration": 437,
    "start_time": "2022-03-10T22:24:25.192Z"
   },
   {
    "duration": 600,
    "start_time": "2022-03-10T22:24:25.632Z"
   },
   {
    "duration": 323,
    "start_time": "2022-03-10T22:24:26.235Z"
   },
   {
    "duration": 458,
    "start_time": "2022-03-10T22:24:26.562Z"
   },
   {
    "duration": 337,
    "start_time": "2022-03-10T22:24:27.023Z"
   },
   {
    "duration": 499,
    "start_time": "2022-03-10T22:24:27.364Z"
   },
   {
    "duration": 337,
    "start_time": "2022-03-12T10:16:34.443Z"
   },
   {
    "duration": 1212,
    "start_time": "2022-03-12T10:23:09.178Z"
   },
   {
    "duration": 62,
    "start_time": "2022-03-12T10:23:10.392Z"
   },
   {
    "duration": 25,
    "start_time": "2022-03-12T10:23:10.457Z"
   },
   {
    "duration": 9,
    "start_time": "2022-03-12T10:23:10.483Z"
   },
   {
    "duration": 8,
    "start_time": "2022-03-12T10:23:10.505Z"
   },
   {
    "duration": 63,
    "start_time": "2022-03-12T10:23:10.515Z"
   },
   {
    "duration": 65,
    "start_time": "2022-03-12T10:23:10.580Z"
   },
   {
    "duration": 29,
    "start_time": "2022-03-12T10:23:10.647Z"
   },
   {
    "duration": 5,
    "start_time": "2022-03-12T10:23:10.679Z"
   },
   {
    "duration": 25,
    "start_time": "2022-03-12T10:23:10.686Z"
   },
   {
    "duration": 5,
    "start_time": "2022-03-12T10:23:10.713Z"
   },
   {
    "duration": 9,
    "start_time": "2022-03-12T10:23:10.720Z"
   },
   {
    "duration": 79,
    "start_time": "2022-03-12T10:23:10.730Z"
   },
   {
    "duration": 3,
    "start_time": "2022-03-12T10:23:10.811Z"
   },
   {
    "duration": 12,
    "start_time": "2022-03-12T10:23:10.815Z"
   },
   {
    "duration": 7,
    "start_time": "2022-03-12T10:23:10.828Z"
   },
   {
    "duration": 6,
    "start_time": "2022-03-12T10:23:10.836Z"
   },
   {
    "duration": 7,
    "start_time": "2022-03-12T10:23:10.843Z"
   },
   {
    "duration": 6,
    "start_time": "2022-03-12T10:23:10.852Z"
   },
   {
    "duration": 11,
    "start_time": "2022-03-12T10:23:10.859Z"
   },
   {
    "duration": 3,
    "start_time": "2022-03-12T10:23:10.872Z"
   },
   {
    "duration": 477,
    "start_time": "2022-03-12T10:23:10.876Z"
   },
   {
    "duration": 6,
    "start_time": "2022-03-12T10:23:11.356Z"
   },
   {
    "duration": 8,
    "start_time": "2022-03-12T10:23:11.364Z"
   },
   {
    "duration": 5,
    "start_time": "2022-03-12T10:23:11.373Z"
   },
   {
    "duration": 6,
    "start_time": "2022-03-12T10:23:11.379Z"
   },
   {
    "duration": 6,
    "start_time": "2022-03-12T10:23:11.387Z"
   },
   {
    "duration": 6,
    "start_time": "2022-03-12T10:23:11.404Z"
   },
   {
    "duration": 20,
    "start_time": "2022-03-12T10:23:11.411Z"
   },
   {
    "duration": 2,
    "start_time": "2022-03-12T10:23:11.432Z"
   },
   {
    "duration": 338,
    "start_time": "2022-03-12T10:23:11.435Z"
   },
   {
    "duration": 291,
    "start_time": "2022-03-12T10:23:11.775Z"
   },
   {
    "duration": 247,
    "start_time": "2022-03-12T10:23:12.068Z"
   },
   {
    "duration": 219,
    "start_time": "2022-03-12T10:23:12.317Z"
   },
   {
    "duration": 272,
    "start_time": "2022-03-12T10:23:12.538Z"
   },
   {
    "duration": 360,
    "start_time": "2022-03-12T10:23:12.812Z"
   },
   {
    "duration": 158,
    "start_time": "2022-03-12T10:23:13.174Z"
   },
   {
    "duration": 141,
    "start_time": "2022-03-12T10:23:13.334Z"
   },
   {
    "duration": 8,
    "start_time": "2022-03-12T10:23:13.477Z"
   },
   {
    "duration": 6,
    "start_time": "2022-03-12T10:23:13.486Z"
   },
   {
    "duration": 193,
    "start_time": "2022-03-12T10:23:13.505Z"
   },
   {
    "duration": 16,
    "start_time": "2022-03-12T10:23:13.699Z"
   },
   {
    "duration": 6,
    "start_time": "2022-03-12T10:23:13.716Z"
   },
   {
    "duration": 1229,
    "start_time": "2022-03-12T10:23:13.723Z"
   },
   {
    "duration": 267,
    "start_time": "2022-03-12T10:23:14.954Z"
   },
   {
    "duration": 164,
    "start_time": "2022-03-12T10:23:15.222Z"
   },
   {
    "duration": 279,
    "start_time": "2022-03-12T10:23:15.388Z"
   },
   {
    "duration": 174,
    "start_time": "2022-03-12T10:23:15.668Z"
   },
   {
    "duration": 261,
    "start_time": "2022-03-12T10:23:15.844Z"
   },
   {
    "duration": 268,
    "start_time": "2022-03-12T10:23:16.107Z"
   },
   {
    "duration": 13,
    "start_time": "2022-03-12T10:23:16.377Z"
   },
   {
    "duration": 299,
    "start_time": "2022-03-12T10:23:16.392Z"
   },
   {
    "duration": 278,
    "start_time": "2022-03-12T10:23:16.693Z"
   },
   {
    "duration": 297,
    "start_time": "2022-03-12T10:23:16.973Z"
   },
   {
    "duration": 278,
    "start_time": "2022-03-12T10:23:17.271Z"
   },
   {
    "duration": 163,
    "start_time": "2022-03-12T10:23:17.550Z"
   },
   {
    "duration": 292,
    "start_time": "2022-03-12T10:23:17.715Z"
   },
   {
    "duration": 288,
    "start_time": "2022-03-12T10:23:18.008Z"
   },
   {
    "duration": 257,
    "start_time": "2022-03-12T10:23:18.297Z"
   },
   {
    "duration": 268,
    "start_time": "2022-03-12T10:23:18.556Z"
   },
   {
    "duration": 158,
    "start_time": "2022-03-12T10:23:18.825Z"
   },
   {
    "duration": 322,
    "start_time": "2022-03-12T10:23:18.985Z"
   },
   {
    "duration": 2,
    "start_time": "2022-03-12T10:26:19.591Z"
   },
   {
    "duration": 92,
    "start_time": "2022-03-12T10:26:19.595Z"
   },
   {
    "duration": 21,
    "start_time": "2022-03-12T10:26:19.688Z"
   },
   {
    "duration": 21,
    "start_time": "2022-03-12T10:26:19.710Z"
   },
   {
    "duration": 14,
    "start_time": "2022-03-12T10:26:19.732Z"
   },
   {
    "duration": 63,
    "start_time": "2022-03-12T10:26:19.747Z"
   },
   {
    "duration": 47,
    "start_time": "2022-03-12T10:26:19.811Z"
   },
   {
    "duration": 30,
    "start_time": "2022-03-12T10:26:19.860Z"
   },
   {
    "duration": 5,
    "start_time": "2022-03-12T10:26:19.905Z"
   },
   {
    "duration": 7,
    "start_time": "2022-03-12T10:26:19.912Z"
   },
   {
    "duration": 4,
    "start_time": "2022-03-12T10:26:19.921Z"
   },
   {
    "duration": 10,
    "start_time": "2022-03-12T10:26:19.926Z"
   },
   {
    "duration": 73,
    "start_time": "2022-03-12T10:26:19.938Z"
   },
   {
    "duration": 3,
    "start_time": "2022-03-12T10:26:20.012Z"
   },
   {
    "duration": 11,
    "start_time": "2022-03-12T10:26:20.017Z"
   },
   {
    "duration": 9,
    "start_time": "2022-03-12T10:26:20.029Z"
   },
   {
    "duration": 9,
    "start_time": "2022-03-12T10:26:20.039Z"
   },
   {
    "duration": 6,
    "start_time": "2022-03-12T10:26:20.050Z"
   },
   {
    "duration": 9,
    "start_time": "2022-03-12T10:26:20.059Z"
   },
   {
    "duration": 10,
    "start_time": "2022-03-12T10:26:20.070Z"
   },
   {
    "duration": 25,
    "start_time": "2022-03-12T10:26:20.082Z"
   },
   {
    "duration": 716,
    "start_time": "2022-03-12T10:26:20.108Z"
   },
   {
    "duration": 7,
    "start_time": "2022-03-12T10:26:20.825Z"
   },
   {
    "duration": 6,
    "start_time": "2022-03-12T10:26:20.833Z"
   },
   {
    "duration": 5,
    "start_time": "2022-03-12T10:26:20.841Z"
   },
   {
    "duration": 7,
    "start_time": "2022-03-12T10:26:20.847Z"
   },
   {
    "duration": 7,
    "start_time": "2022-03-12T10:26:20.855Z"
   },
   {
    "duration": 8,
    "start_time": "2022-03-12T10:26:20.863Z"
   },
   {
    "duration": 37,
    "start_time": "2022-03-12T10:26:20.872Z"
   },
   {
    "duration": 2,
    "start_time": "2022-03-12T10:26:20.910Z"
   },
   {
    "duration": 315,
    "start_time": "2022-03-12T10:26:20.913Z"
   },
   {
    "duration": 267,
    "start_time": "2022-03-12T10:26:21.230Z"
   },
   {
    "duration": 198,
    "start_time": "2022-03-12T10:26:21.499Z"
   },
   {
    "duration": 191,
    "start_time": "2022-03-12T10:26:21.699Z"
   },
   {
    "duration": 239,
    "start_time": "2022-03-12T10:26:21.891Z"
   },
   {
    "duration": 315,
    "start_time": "2022-03-12T10:26:22.132Z"
   },
   {
    "duration": 127,
    "start_time": "2022-03-12T10:26:22.449Z"
   },
   {
    "duration": 121,
    "start_time": "2022-03-12T10:26:22.578Z"
   },
   {
    "duration": 8,
    "start_time": "2022-03-12T10:26:22.704Z"
   },
   {
    "duration": 9,
    "start_time": "2022-03-12T10:26:22.713Z"
   },
   {
    "duration": 183,
    "start_time": "2022-03-12T10:26:22.723Z"
   },
   {
    "duration": 10,
    "start_time": "2022-03-12T10:26:22.908Z"
   },
   {
    "duration": 5,
    "start_time": "2022-03-12T10:26:22.920Z"
   },
   {
    "duration": 1120,
    "start_time": "2022-03-12T10:26:22.926Z"
   },
   {
    "duration": 243,
    "start_time": "2022-03-12T10:26:24.048Z"
   },
   {
    "duration": 171,
    "start_time": "2022-03-12T10:26:24.292Z"
   },
   {
    "duration": 282,
    "start_time": "2022-03-12T10:26:24.464Z"
   },
   {
    "duration": 166,
    "start_time": "2022-03-12T10:26:24.747Z"
   },
   {
    "duration": 299,
    "start_time": "2022-03-12T10:26:24.915Z"
   },
   {
    "duration": 278,
    "start_time": "2022-03-12T10:26:25.215Z"
   },
   {
    "duration": 21,
    "start_time": "2022-03-12T10:26:25.495Z"
   },
   {
    "duration": 290,
    "start_time": "2022-03-12T10:26:25.518Z"
   },
   {
    "duration": 285,
    "start_time": "2022-03-12T10:26:25.809Z"
   },
   {
    "duration": 309,
    "start_time": "2022-03-12T10:26:26.096Z"
   },
   {
    "duration": 287,
    "start_time": "2022-03-12T10:26:26.409Z"
   },
   {
    "duration": 176,
    "start_time": "2022-03-12T10:26:26.697Z"
   },
   {
    "duration": 330,
    "start_time": "2022-03-12T10:26:26.875Z"
   },
   {
    "duration": 290,
    "start_time": "2022-03-12T10:26:27.207Z"
   },
   {
    "duration": 160,
    "start_time": "2022-03-12T10:26:27.499Z"
   },
   {
    "duration": 263,
    "start_time": "2022-03-12T10:26:27.660Z"
   },
   {
    "duration": 163,
    "start_time": "2022-03-12T10:26:27.925Z"
   },
   {
    "duration": 316,
    "start_time": "2022-03-12T10:26:28.090Z"
   },
   {
    "duration": 342,
    "start_time": "2022-03-12T10:29:19.491Z"
   },
   {
    "duration": 7,
    "start_time": "2022-03-12T10:29:32.111Z"
   },
   {
    "duration": 7,
    "start_time": "2022-03-12T10:29:40.759Z"
   },
   {
    "duration": 11,
    "start_time": "2022-03-12T10:29:40.767Z"
   },
   {
    "duration": 174,
    "start_time": "2022-03-12T10:29:40.779Z"
   },
   {
    "duration": 10,
    "start_time": "2022-03-12T10:29:40.955Z"
   },
   {
    "duration": 5,
    "start_time": "2022-03-12T10:29:40.967Z"
   },
   {
    "duration": 1169,
    "start_time": "2022-03-12T10:29:40.974Z"
   },
   {
    "duration": 303,
    "start_time": "2022-03-12T10:29:42.146Z"
   },
   {
    "duration": 188,
    "start_time": "2022-03-12T10:29:42.451Z"
   },
   {
    "duration": 247,
    "start_time": "2022-03-12T10:29:42.641Z"
   },
   {
    "duration": 248,
    "start_time": "2022-03-12T10:29:42.890Z"
   },
   {
    "duration": 353,
    "start_time": "2022-03-12T10:29:43.140Z"
   },
   {
    "duration": 360,
    "start_time": "2022-03-12T10:29:43.495Z"
   },
   {
    "duration": 21,
    "start_time": "2022-03-12T10:29:43.857Z"
   },
   {
    "duration": 330,
    "start_time": "2022-03-12T10:29:43.879Z"
   },
   {
    "duration": 294,
    "start_time": "2022-03-12T10:29:44.211Z"
   },
   {
    "duration": 300,
    "start_time": "2022-03-12T10:29:44.507Z"
   },
   {
    "duration": 286,
    "start_time": "2022-03-12T10:29:44.808Z"
   },
   {
    "duration": 166,
    "start_time": "2022-03-12T10:29:45.095Z"
   },
   {
    "duration": 287,
    "start_time": "2022-03-12T10:29:45.263Z"
   },
   {
    "duration": 267,
    "start_time": "2022-03-12T10:29:45.551Z"
   },
   {
    "duration": 171,
    "start_time": "2022-03-12T10:29:45.820Z"
   },
   {
    "duration": 328,
    "start_time": "2022-03-12T10:29:45.993Z"
   },
   {
    "duration": 168,
    "start_time": "2022-03-12T10:29:46.324Z"
   },
   {
    "duration": 318,
    "start_time": "2022-03-12T10:29:46.493Z"
   },
   {
    "duration": 6,
    "start_time": "2022-03-12T10:30:09.232Z"
   },
   {
    "duration": 304,
    "start_time": "2022-03-12T10:30:49.952Z"
   },
   {
    "duration": 7,
    "start_time": "2022-03-12T10:30:56.824Z"
   },
   {
    "duration": 6,
    "start_time": "2022-03-12T10:30:59.637Z"
   },
   {
    "duration": 288,
    "start_time": "2022-03-12T10:31:04.172Z"
   },
   {
    "duration": 10,
    "start_time": "2022-03-12T10:31:14.728Z"
   },
   {
    "duration": 3,
    "start_time": "2022-03-12T10:31:18.037Z"
   },
   {
    "duration": 309,
    "start_time": "2022-03-12T10:31:23.795Z"
   },
   {
    "duration": 6,
    "start_time": "2022-03-12T10:31:57.547Z"
   },
   {
    "duration": 6,
    "start_time": "2022-03-12T10:32:00.187Z"
   },
   {
    "duration": 312,
    "start_time": "2022-03-12T10:32:02.515Z"
   },
   {
    "duration": 2,
    "start_time": "2022-03-12T10:32:22.057Z"
   },
   {
    "duration": 70,
    "start_time": "2022-03-12T10:32:22.061Z"
   },
   {
    "duration": 22,
    "start_time": "2022-03-12T10:32:22.133Z"
   },
   {
    "duration": 11,
    "start_time": "2022-03-12T10:32:22.156Z"
   },
   {
    "duration": 37,
    "start_time": "2022-03-12T10:32:22.169Z"
   },
   {
    "duration": 66,
    "start_time": "2022-03-12T10:32:22.208Z"
   },
   {
    "duration": 68,
    "start_time": "2022-03-12T10:32:22.276Z"
   },
   {
    "duration": 31,
    "start_time": "2022-03-12T10:32:22.346Z"
   },
   {
    "duration": 5,
    "start_time": "2022-03-12T10:32:22.378Z"
   },
   {
    "duration": 26,
    "start_time": "2022-03-12T10:32:22.385Z"
   },
   {
    "duration": 5,
    "start_time": "2022-03-12T10:32:22.413Z"
   },
   {
    "duration": 11,
    "start_time": "2022-03-12T10:32:22.419Z"
   },
   {
    "duration": 68,
    "start_time": "2022-03-12T10:32:22.432Z"
   },
   {
    "duration": 4,
    "start_time": "2022-03-12T10:32:22.502Z"
   },
   {
    "duration": 13,
    "start_time": "2022-03-12T10:32:22.507Z"
   },
   {
    "duration": 9,
    "start_time": "2022-03-12T10:32:22.521Z"
   },
   {
    "duration": 6,
    "start_time": "2022-03-12T10:32:22.532Z"
   },
   {
    "duration": 9,
    "start_time": "2022-03-12T10:32:22.540Z"
   },
   {
    "duration": 8,
    "start_time": "2022-03-12T10:32:22.552Z"
   },
   {
    "duration": 10,
    "start_time": "2022-03-12T10:32:22.562Z"
   },
   {
    "duration": 3,
    "start_time": "2022-03-12T10:32:22.573Z"
   },
   {
    "duration": 882,
    "start_time": "2022-03-12T10:32:22.578Z"
   },
   {
    "duration": 6,
    "start_time": "2022-03-12T10:32:23.462Z"
   },
   {
    "duration": 5,
    "start_time": "2022-03-12T10:32:23.470Z"
   },
   {
    "duration": 6,
    "start_time": "2022-03-12T10:32:23.476Z"
   },
   {
    "duration": 9,
    "start_time": "2022-03-12T10:32:23.483Z"
   },
   {
    "duration": 15,
    "start_time": "2022-03-12T10:32:23.493Z"
   },
   {
    "duration": 11,
    "start_time": "2022-03-12T10:32:23.509Z"
   },
   {
    "duration": 21,
    "start_time": "2022-03-12T10:32:23.521Z"
   },
   {
    "duration": 2,
    "start_time": "2022-03-12T10:32:23.544Z"
   },
   {
    "duration": 323,
    "start_time": "2022-03-12T10:32:23.547Z"
   },
   {
    "duration": 269,
    "start_time": "2022-03-12T10:32:23.871Z"
   },
   {
    "duration": 123,
    "start_time": "2022-03-12T10:32:24.142Z"
   },
   {
    "duration": 190,
    "start_time": "2022-03-12T10:32:24.266Z"
   },
   {
    "duration": 241,
    "start_time": "2022-03-12T10:32:24.457Z"
   },
   {
    "duration": 322,
    "start_time": "2022-03-12T10:32:24.699Z"
   },
   {
    "duration": 135,
    "start_time": "2022-03-12T10:32:25.023Z"
   },
   {
    "duration": 120,
    "start_time": "2022-03-12T10:32:25.160Z"
   },
   {
    "duration": 9,
    "start_time": "2022-03-12T10:32:25.281Z"
   },
   {
    "duration": 16,
    "start_time": "2022-03-12T10:32:25.291Z"
   },
   {
    "duration": 437,
    "start_time": "2022-03-12T10:32:25.309Z"
   },
   {
    "duration": 12,
    "start_time": "2022-03-12T10:32:25.747Z"
   },
   {
    "duration": 3,
    "start_time": "2022-03-12T10:32:25.761Z"
   },
   {
    "duration": 4177,
    "start_time": "2022-03-12T10:32:25.765Z"
   },
   {
    "duration": 446,
    "start_time": "2022-03-12T10:32:29.943Z"
   },
   {
    "duration": 169,
    "start_time": "2022-03-12T10:32:30.390Z"
   },
   {
    "duration": 438,
    "start_time": "2022-03-12T10:32:30.560Z"
   },
   {
    "duration": 164,
    "start_time": "2022-03-12T10:32:31.000Z"
   },
   {
    "duration": 450,
    "start_time": "2022-03-12T10:32:31.166Z"
   },
   {
    "duration": 389,
    "start_time": "2022-03-12T10:32:31.617Z"
   },
   {
    "duration": 18,
    "start_time": "2022-03-12T10:32:32.008Z"
   },
   {
    "duration": 407,
    "start_time": "2022-03-12T10:32:32.027Z"
   },
   {
    "duration": 305,
    "start_time": "2022-03-12T10:32:32.435Z"
   },
   {
    "duration": 280,
    "start_time": "2022-03-12T10:32:32.742Z"
   },
   {
    "duration": 300,
    "start_time": "2022-03-12T10:32:33.026Z"
   },
   {
    "duration": 217,
    "start_time": "2022-03-12T10:32:33.328Z"
   },
   {
    "duration": 278,
    "start_time": "2022-03-12T10:32:33.546Z"
   },
   {
    "duration": 293,
    "start_time": "2022-03-12T10:32:33.825Z"
   },
   {
    "duration": 169,
    "start_time": "2022-03-12T10:32:34.120Z"
   },
   {
    "duration": 302,
    "start_time": "2022-03-12T10:32:34.291Z"
   },
   {
    "duration": 168,
    "start_time": "2022-03-12T10:32:34.595Z"
   },
   {
    "duration": 296,
    "start_time": "2022-03-12T10:32:34.765Z"
   },
   {
    "duration": 10,
    "start_time": "2022-03-12T10:35:43.353Z"
   },
   {
    "duration": 7,
    "start_time": "2022-03-12T10:35:46.260Z"
   },
   {
    "duration": 2,
    "start_time": "2022-03-12T10:35:56.142Z"
   },
   {
    "duration": 80,
    "start_time": "2022-03-12T10:35:56.146Z"
   },
   {
    "duration": 24,
    "start_time": "2022-03-12T10:35:56.228Z"
   },
   {
    "duration": 12,
    "start_time": "2022-03-12T10:35:56.254Z"
   },
   {
    "duration": 40,
    "start_time": "2022-03-12T10:35:56.267Z"
   },
   {
    "duration": 61,
    "start_time": "2022-03-12T10:35:56.309Z"
   },
   {
    "duration": 61,
    "start_time": "2022-03-12T10:35:56.372Z"
   },
   {
    "duration": 29,
    "start_time": "2022-03-12T10:35:56.434Z"
   },
   {
    "duration": 6,
    "start_time": "2022-03-12T10:35:56.465Z"
   },
   {
    "duration": 10,
    "start_time": "2022-03-12T10:35:56.473Z"
   },
   {
    "duration": 22,
    "start_time": "2022-03-12T10:35:56.485Z"
   },
   {
    "duration": 6,
    "start_time": "2022-03-12T10:35:56.509Z"
   },
   {
    "duration": 55,
    "start_time": "2022-03-12T10:35:56.517Z"
   },
   {
    "duration": 3,
    "start_time": "2022-03-12T10:35:56.573Z"
   },
   {
    "duration": 28,
    "start_time": "2022-03-12T10:35:56.577Z"
   },
   {
    "duration": 7,
    "start_time": "2022-03-12T10:35:56.607Z"
   },
   {
    "duration": 5,
    "start_time": "2022-03-12T10:35:56.616Z"
   },
   {
    "duration": 6,
    "start_time": "2022-03-12T10:35:56.623Z"
   },
   {
    "duration": 6,
    "start_time": "2022-03-12T10:35:56.632Z"
   },
   {
    "duration": 9,
    "start_time": "2022-03-12T10:35:56.640Z"
   },
   {
    "duration": 3,
    "start_time": "2022-03-12T10:35:56.650Z"
   },
   {
    "duration": 795,
    "start_time": "2022-03-12T10:35:56.655Z"
   },
   {
    "duration": 6,
    "start_time": "2022-03-12T10:35:57.451Z"
   },
   {
    "duration": 5,
    "start_time": "2022-03-12T10:35:57.459Z"
   },
   {
    "duration": 5,
    "start_time": "2022-03-12T10:35:57.465Z"
   },
   {
    "duration": 6,
    "start_time": "2022-03-12T10:35:57.472Z"
   },
   {
    "duration": 5,
    "start_time": "2022-03-12T10:35:57.479Z"
   },
   {
    "duration": 22,
    "start_time": "2022-03-12T10:35:57.485Z"
   },
   {
    "duration": 20,
    "start_time": "2022-03-12T10:35:57.508Z"
   },
   {
    "duration": 2,
    "start_time": "2022-03-12T10:35:57.529Z"
   },
   {
    "duration": 325,
    "start_time": "2022-03-12T10:35:57.533Z"
   },
   {
    "duration": 366,
    "start_time": "2022-03-12T10:35:57.860Z"
   },
   {
    "duration": 130,
    "start_time": "2022-03-12T10:35:58.227Z"
   },
   {
    "duration": 387,
    "start_time": "2022-03-12T10:35:58.359Z"
   },
   {
    "duration": 239,
    "start_time": "2022-03-12T10:35:58.748Z"
   },
   {
    "duration": 318,
    "start_time": "2022-03-12T10:35:58.989Z"
   },
   {
    "duration": 136,
    "start_time": "2022-03-12T10:35:59.309Z"
   },
   {
    "duration": 129,
    "start_time": "2022-03-12T10:35:59.446Z"
   },
   {
    "duration": 9,
    "start_time": "2022-03-12T10:35:59.576Z"
   },
   {
    "duration": 20,
    "start_time": "2022-03-12T10:35:59.586Z"
   },
   {
    "duration": 412,
    "start_time": "2022-03-12T10:35:59.607Z"
   },
   {
    "duration": 12,
    "start_time": "2022-03-12T10:36:00.021Z"
   },
   {
    "duration": 4,
    "start_time": "2022-03-12T10:36:00.034Z"
   },
   {
    "duration": 3778,
    "start_time": "2022-03-12T10:36:00.039Z"
   },
   {
    "duration": 382,
    "start_time": "2022-03-12T10:36:03.819Z"
   },
   {
    "duration": 161,
    "start_time": "2022-03-12T10:36:04.205Z"
   },
   {
    "duration": 429,
    "start_time": "2022-03-12T10:36:04.367Z"
   },
   {
    "duration": 194,
    "start_time": "2022-03-12T10:36:04.797Z"
   },
   {
    "duration": 457,
    "start_time": "2022-03-12T10:36:04.993Z"
   },
   {
    "duration": 449,
    "start_time": "2022-03-12T10:36:05.451Z"
   },
   {
    "duration": 18,
    "start_time": "2022-03-12T10:36:05.904Z"
   },
   {
    "duration": 369,
    "start_time": "2022-03-12T10:36:05.923Z"
   },
   {
    "duration": 319,
    "start_time": "2022-03-12T10:36:06.293Z"
   },
   {
    "duration": 285,
    "start_time": "2022-03-12T10:36:06.614Z"
   },
   {
    "duration": 294,
    "start_time": "2022-03-12T10:36:06.903Z"
   },
   {
    "duration": 218,
    "start_time": "2022-03-12T10:36:07.198Z"
   },
   {
    "duration": 289,
    "start_time": "2022-03-12T10:36:07.417Z"
   },
   {
    "duration": 299,
    "start_time": "2022-03-12T10:36:07.707Z"
   },
   {
    "duration": 166,
    "start_time": "2022-03-12T10:36:08.007Z"
   },
   {
    "duration": 311,
    "start_time": "2022-03-12T10:36:08.174Z"
   },
   {
    "duration": 180,
    "start_time": "2022-03-12T10:36:08.487Z"
   },
   {
    "duration": 314,
    "start_time": "2022-03-12T10:36:08.668Z"
   },
   {
    "duration": 1151,
    "start_time": "2022-03-12T11:04:31.549Z"
   },
   {
    "duration": 67,
    "start_time": "2022-03-12T11:04:32.702Z"
   },
   {
    "duration": 24,
    "start_time": "2022-03-12T11:04:32.773Z"
   },
   {
    "duration": 13,
    "start_time": "2022-03-12T11:04:32.799Z"
   },
   {
    "duration": 7,
    "start_time": "2022-03-12T11:04:32.813Z"
   },
   {
    "duration": 61,
    "start_time": "2022-03-12T11:04:32.822Z"
   },
   {
    "duration": 66,
    "start_time": "2022-03-12T11:04:32.885Z"
   },
   {
    "duration": 33,
    "start_time": "2022-03-12T11:04:32.953Z"
   },
   {
    "duration": 18,
    "start_time": "2022-03-12T11:04:32.987Z"
   },
   {
    "duration": 8,
    "start_time": "2022-03-12T11:04:33.007Z"
   },
   {
    "duration": 14,
    "start_time": "2022-03-12T11:04:33.016Z"
   },
   {
    "duration": 10,
    "start_time": "2022-03-12T11:04:33.032Z"
   },
   {
    "duration": 69,
    "start_time": "2022-03-12T11:04:33.044Z"
   },
   {
    "duration": 3,
    "start_time": "2022-03-12T11:04:33.115Z"
   },
   {
    "duration": 20,
    "start_time": "2022-03-12T11:04:33.119Z"
   },
   {
    "duration": 8,
    "start_time": "2022-03-12T11:04:33.140Z"
   },
   {
    "duration": 5,
    "start_time": "2022-03-12T11:04:33.150Z"
   },
   {
    "duration": 10,
    "start_time": "2022-03-12T11:04:33.156Z"
   },
   {
    "duration": 7,
    "start_time": "2022-03-12T11:04:33.167Z"
   },
   {
    "duration": 11,
    "start_time": "2022-03-12T11:04:33.175Z"
   },
   {
    "duration": 19,
    "start_time": "2022-03-12T11:04:33.187Z"
   },
   {
    "duration": 741,
    "start_time": "2022-03-12T11:04:33.209Z"
   },
   {
    "duration": 7,
    "start_time": "2022-03-12T11:04:33.952Z"
   },
   {
    "duration": 5,
    "start_time": "2022-03-12T11:04:33.961Z"
   },
   {
    "duration": 4,
    "start_time": "2022-03-12T11:04:33.968Z"
   },
   {
    "duration": 6,
    "start_time": "2022-03-12T11:04:33.974Z"
   },
   {
    "duration": 7,
    "start_time": "2022-03-12T11:04:33.982Z"
   },
   {
    "duration": 5,
    "start_time": "2022-03-12T11:04:34.006Z"
   },
   {
    "duration": 23,
    "start_time": "2022-03-12T11:04:34.012Z"
   },
   {
    "duration": 2,
    "start_time": "2022-03-12T11:04:34.036Z"
   },
   {
    "duration": 331,
    "start_time": "2022-03-12T11:04:34.040Z"
   },
   {
    "duration": 261,
    "start_time": "2022-03-12T11:04:34.373Z"
   },
   {
    "duration": 174,
    "start_time": "2022-03-12T11:04:34.636Z"
   },
   {
    "duration": 202,
    "start_time": "2022-03-12T11:04:34.811Z"
   },
   {
    "duration": 250,
    "start_time": "2022-03-12T11:04:35.015Z"
   },
   {
    "duration": 319,
    "start_time": "2022-03-12T11:04:35.267Z"
   },
   {
    "duration": 131,
    "start_time": "2022-03-12T11:04:35.587Z"
   },
   {
    "duration": 133,
    "start_time": "2022-03-12T11:04:35.720Z"
   },
   {
    "duration": 9,
    "start_time": "2022-03-12T11:04:35.854Z"
   },
   {
    "duration": 8,
    "start_time": "2022-03-12T11:04:35.864Z"
   },
   {
    "duration": 435,
    "start_time": "2022-03-12T11:04:35.873Z"
   },
   {
    "duration": 12,
    "start_time": "2022-03-12T11:04:36.310Z"
   },
   {
    "duration": 4,
    "start_time": "2022-03-12T11:04:36.323Z"
   },
   {
    "duration": 3709,
    "start_time": "2022-03-12T11:04:36.328Z"
   },
   {
    "duration": 403,
    "start_time": "2022-03-12T11:04:40.039Z"
   },
   {
    "duration": 162,
    "start_time": "2022-03-12T11:04:40.443Z"
   },
   {
    "duration": 384,
    "start_time": "2022-03-12T11:04:40.607Z"
   },
   {
    "duration": 159,
    "start_time": "2022-03-12T11:04:40.992Z"
   },
   {
    "duration": 428,
    "start_time": "2022-03-12T11:04:41.152Z"
   },
   {
    "duration": 397,
    "start_time": "2022-03-12T11:04:41.581Z"
   },
   {
    "duration": 25,
    "start_time": "2022-03-12T11:04:41.980Z"
   },
   {
    "duration": 371,
    "start_time": "2022-03-12T11:04:42.007Z"
   },
   {
    "duration": 350,
    "start_time": "2022-03-12T11:04:42.380Z"
   },
   {
    "duration": 289,
    "start_time": "2022-03-12T11:04:42.732Z"
   },
   {
    "duration": 298,
    "start_time": "2022-03-12T11:04:43.022Z"
   },
   {
    "duration": 204,
    "start_time": "2022-03-12T11:04:43.322Z"
   },
   {
    "duration": 294,
    "start_time": "2022-03-12T11:04:43.527Z"
   },
   {
    "duration": 292,
    "start_time": "2022-03-12T11:04:43.823Z"
   },
   {
    "duration": 257,
    "start_time": "2022-03-12T11:04:44.116Z"
   },
   {
    "duration": 312,
    "start_time": "2022-03-12T11:04:44.375Z"
   },
   {
    "duration": 166,
    "start_time": "2022-03-12T11:04:44.688Z"
   },
   {
    "duration": 287,
    "start_time": "2022-03-12T11:04:44.856Z"
   }
  ],
  "kernelspec": {
   "display_name": "Python 3 (ipykernel)",
   "language": "python",
   "name": "python3"
  },
  "language_info": {
   "codemirror_mode": {
    "name": "ipython",
    "version": 3
   },
   "file_extension": ".py",
   "mimetype": "text/x-python",
   "name": "python",
   "nbconvert_exporter": "python",
   "pygments_lexer": "ipython3",
   "version": "3.9.12"
  },
  "toc": {
   "base_numbering": 1,
   "nav_menu": {
    "height": "202px",
    "width": "361px"
   },
   "number_sections": true,
   "sideBar": true,
   "skip_h1_title": true,
   "title_cell": "Содержание",
   "title_sidebar": "Contents",
   "toc_cell": true,
   "toc_position": {
    "height": "calc(100% - 180px)",
    "left": "10px",
    "top": "150px",
    "width": "235.391px"
   },
   "toc_section_display": true,
   "toc_window_display": false
  }
 },
 "nbformat": 4,
 "nbformat_minor": 4
}
