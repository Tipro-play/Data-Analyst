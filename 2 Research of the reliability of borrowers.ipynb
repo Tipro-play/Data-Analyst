{
 "cells": [
  {
   "cell_type": "markdown",
   "id": "7d1057b6",
   "metadata": {},
   "source": [
    "# Исследование надежности заемщиков."
   ]
  },
  {
   "cell_type": "markdown",
   "id": "64a913ad",
   "metadata": {},
   "source": [
    "Требуется провести исследование надежности заемщиков.\n",
    "Влияет ли семейное положение и количество детей клиента на факт погашения кредита в срок.\n",
    "Результаты исследования будут учтены при построении модели кредитного скоринга — специальной системы,\n",
    "которая оценивает способность потенциального заёмщика вернуть кредит банку.\n",
    "\n",
    "Требуется ответить на такие вопросы:\n",
    "* Есть ли зависимость между количеством детей и возвратом кредита в срок?\n",
    "* Есть ли зависимость между семейным положением и возвратом кредита в срок?\n",
    "* Есть ли зависимость между уровнем дохода и возвратом кредита в срок?\n",
    "* Как разные цели кредита влияют на его возврат в срок?"
   ]
  },
  {
   "cell_type": "markdown",
   "id": "907f1706",
   "metadata": {},
   "source": [
    "### Шаг 1. Обзор данных"
   ]
  },
  {
   "cell_type": "code",
   "execution_count": 1,
   "id": "48961a0d",
   "metadata": {},
   "outputs": [],
   "source": [
    "import pandas as pd\n",
    "import seaborn"
   ]
  },
  {
   "cell_type": "code",
   "execution_count": 2,
   "id": "5b3b3ec6",
   "metadata": {},
   "outputs": [],
   "source": [
    "data = pd.read_csv('/datasets/data.csv')"
   ]
  },
  {
   "cell_type": "code",
   "execution_count": 3,
   "id": "1da893ff",
   "metadata": {
    "scrolled": false
   },
   "outputs": [
    {
     "data": {
      "text/html": [
       "<div>\n",
       "<style scoped>\n",
       "    .dataframe tbody tr th:only-of-type {\n",
       "        vertical-align: middle;\n",
       "    }\n",
       "\n",
       "    .dataframe tbody tr th {\n",
       "        vertical-align: top;\n",
       "    }\n",
       "\n",
       "    .dataframe thead th {\n",
       "        text-align: right;\n",
       "    }\n",
       "</style>\n",
       "<table border=\"1\" class=\"dataframe\">\n",
       "  <thead>\n",
       "    <tr style=\"text-align: right;\">\n",
       "      <th></th>\n",
       "      <th>children</th>\n",
       "      <th>days_employed</th>\n",
       "      <th>dob_years</th>\n",
       "      <th>education</th>\n",
       "      <th>education_id</th>\n",
       "      <th>family_status</th>\n",
       "      <th>family_status_id</th>\n",
       "      <th>gender</th>\n",
       "      <th>income_type</th>\n",
       "      <th>debt</th>\n",
       "      <th>total_income</th>\n",
       "      <th>purpose</th>\n",
       "    </tr>\n",
       "  </thead>\n",
       "  <tbody>\n",
       "    <tr>\n",
       "      <td>0</td>\n",
       "      <td>1</td>\n",
       "      <td>-8437.673028</td>\n",
       "      <td>42</td>\n",
       "      <td>высшее</td>\n",
       "      <td>0</td>\n",
       "      <td>женат / замужем</td>\n",
       "      <td>0</td>\n",
       "      <td>F</td>\n",
       "      <td>сотрудник</td>\n",
       "      <td>0</td>\n",
       "      <td>253875.639453</td>\n",
       "      <td>покупка жилья</td>\n",
       "    </tr>\n",
       "    <tr>\n",
       "      <td>1</td>\n",
       "      <td>1</td>\n",
       "      <td>-4024.803754</td>\n",
       "      <td>36</td>\n",
       "      <td>среднее</td>\n",
       "      <td>1</td>\n",
       "      <td>женат / замужем</td>\n",
       "      <td>0</td>\n",
       "      <td>F</td>\n",
       "      <td>сотрудник</td>\n",
       "      <td>0</td>\n",
       "      <td>112080.014102</td>\n",
       "      <td>приобретение автомобиля</td>\n",
       "    </tr>\n",
       "    <tr>\n",
       "      <td>2</td>\n",
       "      <td>0</td>\n",
       "      <td>-5623.422610</td>\n",
       "      <td>33</td>\n",
       "      <td>Среднее</td>\n",
       "      <td>1</td>\n",
       "      <td>женат / замужем</td>\n",
       "      <td>0</td>\n",
       "      <td>M</td>\n",
       "      <td>сотрудник</td>\n",
       "      <td>0</td>\n",
       "      <td>145885.952297</td>\n",
       "      <td>покупка жилья</td>\n",
       "    </tr>\n",
       "    <tr>\n",
       "      <td>3</td>\n",
       "      <td>3</td>\n",
       "      <td>-4124.747207</td>\n",
       "      <td>32</td>\n",
       "      <td>среднее</td>\n",
       "      <td>1</td>\n",
       "      <td>женат / замужем</td>\n",
       "      <td>0</td>\n",
       "      <td>M</td>\n",
       "      <td>сотрудник</td>\n",
       "      <td>0</td>\n",
       "      <td>267628.550329</td>\n",
       "      <td>дополнительное образование</td>\n",
       "    </tr>\n",
       "    <tr>\n",
       "      <td>4</td>\n",
       "      <td>0</td>\n",
       "      <td>340266.072047</td>\n",
       "      <td>53</td>\n",
       "      <td>среднее</td>\n",
       "      <td>1</td>\n",
       "      <td>гражданский брак</td>\n",
       "      <td>1</td>\n",
       "      <td>F</td>\n",
       "      <td>пенсионер</td>\n",
       "      <td>0</td>\n",
       "      <td>158616.077870</td>\n",
       "      <td>сыграть свадьбу</td>\n",
       "    </tr>\n",
       "    <tr>\n",
       "      <td>5</td>\n",
       "      <td>0</td>\n",
       "      <td>-926.185831</td>\n",
       "      <td>27</td>\n",
       "      <td>высшее</td>\n",
       "      <td>0</td>\n",
       "      <td>гражданский брак</td>\n",
       "      <td>1</td>\n",
       "      <td>M</td>\n",
       "      <td>компаньон</td>\n",
       "      <td>0</td>\n",
       "      <td>255763.565419</td>\n",
       "      <td>покупка жилья</td>\n",
       "    </tr>\n",
       "    <tr>\n",
       "      <td>6</td>\n",
       "      <td>0</td>\n",
       "      <td>-2879.202052</td>\n",
       "      <td>43</td>\n",
       "      <td>высшее</td>\n",
       "      <td>0</td>\n",
       "      <td>женат / замужем</td>\n",
       "      <td>0</td>\n",
       "      <td>F</td>\n",
       "      <td>компаньон</td>\n",
       "      <td>0</td>\n",
       "      <td>240525.971920</td>\n",
       "      <td>операции с жильем</td>\n",
       "    </tr>\n",
       "    <tr>\n",
       "      <td>7</td>\n",
       "      <td>0</td>\n",
       "      <td>-152.779569</td>\n",
       "      <td>50</td>\n",
       "      <td>СРЕДНЕЕ</td>\n",
       "      <td>1</td>\n",
       "      <td>женат / замужем</td>\n",
       "      <td>0</td>\n",
       "      <td>M</td>\n",
       "      <td>сотрудник</td>\n",
       "      <td>0</td>\n",
       "      <td>135823.934197</td>\n",
       "      <td>образование</td>\n",
       "    </tr>\n",
       "    <tr>\n",
       "      <td>8</td>\n",
       "      <td>2</td>\n",
       "      <td>-6929.865299</td>\n",
       "      <td>35</td>\n",
       "      <td>ВЫСШЕЕ</td>\n",
       "      <td>0</td>\n",
       "      <td>гражданский брак</td>\n",
       "      <td>1</td>\n",
       "      <td>F</td>\n",
       "      <td>сотрудник</td>\n",
       "      <td>0</td>\n",
       "      <td>95856.832424</td>\n",
       "      <td>на проведение свадьбы</td>\n",
       "    </tr>\n",
       "    <tr>\n",
       "      <td>9</td>\n",
       "      <td>0</td>\n",
       "      <td>-2188.756445</td>\n",
       "      <td>41</td>\n",
       "      <td>среднее</td>\n",
       "      <td>1</td>\n",
       "      <td>женат / замужем</td>\n",
       "      <td>0</td>\n",
       "      <td>M</td>\n",
       "      <td>сотрудник</td>\n",
       "      <td>0</td>\n",
       "      <td>144425.938277</td>\n",
       "      <td>покупка жилья для семьи</td>\n",
       "    </tr>\n",
       "  </tbody>\n",
       "</table>\n",
       "</div>"
      ],
      "text/plain": [
       "   children  days_employed  dob_years education  education_id  \\\n",
       "0         1   -8437.673028         42    высшее             0   \n",
       "1         1   -4024.803754         36   среднее             1   \n",
       "2         0   -5623.422610         33   Среднее             1   \n",
       "3         3   -4124.747207         32   среднее             1   \n",
       "4         0  340266.072047         53   среднее             1   \n",
       "5         0    -926.185831         27    высшее             0   \n",
       "6         0   -2879.202052         43    высшее             0   \n",
       "7         0    -152.779569         50   СРЕДНЕЕ             1   \n",
       "8         2   -6929.865299         35    ВЫСШЕЕ             0   \n",
       "9         0   -2188.756445         41   среднее             1   \n",
       "\n",
       "      family_status  family_status_id gender income_type  debt   total_income  \\\n",
       "0   женат / замужем                 0      F   сотрудник     0  253875.639453   \n",
       "1   женат / замужем                 0      F   сотрудник     0  112080.014102   \n",
       "2   женат / замужем                 0      M   сотрудник     0  145885.952297   \n",
       "3   женат / замужем                 0      M   сотрудник     0  267628.550329   \n",
       "4  гражданский брак                 1      F   пенсионер     0  158616.077870   \n",
       "5  гражданский брак                 1      M   компаньон     0  255763.565419   \n",
       "6   женат / замужем                 0      F   компаньон     0  240525.971920   \n",
       "7   женат / замужем                 0      M   сотрудник     0  135823.934197   \n",
       "8  гражданский брак                 1      F   сотрудник     0   95856.832424   \n",
       "9   женат / замужем                 0      M   сотрудник     0  144425.938277   \n",
       "\n",
       "                      purpose  \n",
       "0               покупка жилья  \n",
       "1     приобретение автомобиля  \n",
       "2               покупка жилья  \n",
       "3  дополнительное образование  \n",
       "4             сыграть свадьбу  \n",
       "5               покупка жилья  \n",
       "6           операции с жильем  \n",
       "7                 образование  \n",
       "8       на проведение свадьбы  \n",
       "9     покупка жилья для семьи  "
      ]
     },
     "execution_count": 3,
     "metadata": {},
     "output_type": "execute_result"
    }
   ],
   "source": [
    "data.head(10)"
   ]
  },
  {
   "cell_type": "markdown",
   "id": "0fe3a2d4",
   "metadata": {},
   "source": [
    "Как можно увидеть данные стажа указаны чаще всего отрицательные, иногда, присутсвуют значения явно превышающие срок жизни человека. Так же видно повторение одинаковых значений в столбце образования, подозреваем что имеются неявные дубликаты. Больше никакие столбцы, на первый взгляд, не вызывают подозрений."
   ]
  },
  {
   "cell_type": "code",
   "execution_count": 4,
   "id": "c9cd2e3a",
   "metadata": {
    "scrolled": true
   },
   "outputs": [
    {
     "name": "stdout",
     "output_type": "stream",
     "text": [
      "<class 'pandas.core.frame.DataFrame'>\n",
      "RangeIndex: 21525 entries, 0 to 21524\n",
      "Data columns (total 12 columns):\n",
      "children            21525 non-null int64\n",
      "days_employed       19351 non-null float64\n",
      "dob_years           21525 non-null int64\n",
      "education           21525 non-null object\n",
      "education_id        21525 non-null int64\n",
      "family_status       21525 non-null object\n",
      "family_status_id    21525 non-null int64\n",
      "gender              21525 non-null object\n",
      "income_type         21525 non-null object\n",
      "debt                21525 non-null int64\n",
      "total_income        19351 non-null float64\n",
      "purpose             21525 non-null object\n",
      "dtypes: float64(2), int64(5), object(5)\n",
      "memory usage: 2.0+ MB\n"
     ]
    }
   ],
   "source": [
    "#Изучим данные\n",
    "data.info()"
   ]
  },
  {
   "cell_type": "markdown",
   "id": "9940e2d6",
   "metadata": {},
   "source": [
    "* Количество пропущенных значений одинаковое.\n",
    "* Типы данных на первый взгляд отлично расставлены.\n",
    "* Нарушений стиля нет\n",
    "Можно приступать к проверке/подготовке данных, найдем  и оценим пропуски, дубликаты..."
   ]
  },
  {
   "cell_type": "code",
   "execution_count": 5,
   "id": "1b9f3145",
   "metadata": {
    "scrolled": true
   },
   "outputs": [
    {
     "data": {
      "text/html": [
       "<div>\n",
       "<style scoped>\n",
       "    .dataframe tbody tr th:only-of-type {\n",
       "        vertical-align: middle;\n",
       "    }\n",
       "\n",
       "    .dataframe tbody tr th {\n",
       "        vertical-align: top;\n",
       "    }\n",
       "\n",
       "    .dataframe thead th {\n",
       "        text-align: right;\n",
       "    }\n",
       "</style>\n",
       "<table border=\"1\" class=\"dataframe\">\n",
       "  <thead>\n",
       "    <tr style=\"text-align: right;\">\n",
       "      <th></th>\n",
       "      <th>children</th>\n",
       "      <th>days_employed</th>\n",
       "      <th>dob_years</th>\n",
       "      <th>education</th>\n",
       "      <th>education_id</th>\n",
       "      <th>family_status</th>\n",
       "      <th>family_status_id</th>\n",
       "      <th>gender</th>\n",
       "      <th>income_type</th>\n",
       "      <th>debt</th>\n",
       "      <th>total_income</th>\n",
       "      <th>purpose</th>\n",
       "    </tr>\n",
       "  </thead>\n",
       "  <tbody>\n",
       "    <tr>\n",
       "      <td>12</td>\n",
       "      <td>0</td>\n",
       "      <td>NaN</td>\n",
       "      <td>65</td>\n",
       "      <td>среднее</td>\n",
       "      <td>1</td>\n",
       "      <td>гражданский брак</td>\n",
       "      <td>1</td>\n",
       "      <td>M</td>\n",
       "      <td>пенсионер</td>\n",
       "      <td>0</td>\n",
       "      <td>NaN</td>\n",
       "      <td>сыграть свадьбу</td>\n",
       "    </tr>\n",
       "    <tr>\n",
       "      <td>26</td>\n",
       "      <td>0</td>\n",
       "      <td>NaN</td>\n",
       "      <td>41</td>\n",
       "      <td>среднее</td>\n",
       "      <td>1</td>\n",
       "      <td>женат / замужем</td>\n",
       "      <td>0</td>\n",
       "      <td>M</td>\n",
       "      <td>госслужащий</td>\n",
       "      <td>0</td>\n",
       "      <td>NaN</td>\n",
       "      <td>образование</td>\n",
       "    </tr>\n",
       "    <tr>\n",
       "      <td>29</td>\n",
       "      <td>0</td>\n",
       "      <td>NaN</td>\n",
       "      <td>63</td>\n",
       "      <td>среднее</td>\n",
       "      <td>1</td>\n",
       "      <td>Не женат / не замужем</td>\n",
       "      <td>4</td>\n",
       "      <td>F</td>\n",
       "      <td>пенсионер</td>\n",
       "      <td>0</td>\n",
       "      <td>NaN</td>\n",
       "      <td>строительство жилой недвижимости</td>\n",
       "    </tr>\n",
       "    <tr>\n",
       "      <td>41</td>\n",
       "      <td>0</td>\n",
       "      <td>NaN</td>\n",
       "      <td>50</td>\n",
       "      <td>среднее</td>\n",
       "      <td>1</td>\n",
       "      <td>женат / замужем</td>\n",
       "      <td>0</td>\n",
       "      <td>F</td>\n",
       "      <td>госслужащий</td>\n",
       "      <td>0</td>\n",
       "      <td>NaN</td>\n",
       "      <td>сделка с подержанным автомобилем</td>\n",
       "    </tr>\n",
       "    <tr>\n",
       "      <td>55</td>\n",
       "      <td>0</td>\n",
       "      <td>NaN</td>\n",
       "      <td>54</td>\n",
       "      <td>среднее</td>\n",
       "      <td>1</td>\n",
       "      <td>гражданский брак</td>\n",
       "      <td>1</td>\n",
       "      <td>F</td>\n",
       "      <td>пенсионер</td>\n",
       "      <td>1</td>\n",
       "      <td>NaN</td>\n",
       "      <td>сыграть свадьбу</td>\n",
       "    </tr>\n",
       "  </tbody>\n",
       "</table>\n",
       "</div>"
      ],
      "text/plain": [
       "    children  days_employed  dob_years education  education_id  \\\n",
       "12         0            NaN         65   среднее             1   \n",
       "26         0            NaN         41   среднее             1   \n",
       "29         0            NaN         63   среднее             1   \n",
       "41         0            NaN         50   среднее             1   \n",
       "55         0            NaN         54   среднее             1   \n",
       "\n",
       "            family_status  family_status_id gender  income_type  debt  \\\n",
       "12       гражданский брак                 1      M    пенсионер     0   \n",
       "26        женат / замужем                 0      M  госслужащий     0   \n",
       "29  Не женат / не замужем                 4      F    пенсионер     0   \n",
       "41        женат / замужем                 0      F  госслужащий     0   \n",
       "55       гражданский брак                 1      F    пенсионер     1   \n",
       "\n",
       "    total_income                           purpose  \n",
       "12           NaN                   сыграть свадьбу  \n",
       "26           NaN                       образование  \n",
       "29           NaN  строительство жилой недвижимости  \n",
       "41           NaN  сделка с подержанным автомобилем  \n",
       "55           NaN                   сыграть свадьбу  "
      ]
     },
     "execution_count": 5,
     "metadata": {},
     "output_type": "execute_result"
    }
   ],
   "source": [
    "#Проверка на пропуски в данных\n",
    "data[data['days_employed'].isna()==True].head()"
   ]
  },
  {
   "cell_type": "code",
   "execution_count": 6,
   "id": "d8262471",
   "metadata": {
    "scrolled": true
   },
   "outputs": [
    {
     "name": "stdout",
     "output_type": "stream",
     "text": [
      "Пропуски занимают: 10.1%\n"
     ]
    }
   ],
   "source": [
    "print('Пропуски занимают: {:,.1%}'.format(len(data[data['days_employed'].isna()==True])/len(data)))"
   ]
  },
  {
   "cell_type": "code",
   "execution_count": 7,
   "id": "c3b199e2",
   "metadata": {},
   "outputs": [
    {
     "data": {
      "text/plain": [
       "3445"
      ]
     },
     "execution_count": 7,
     "metadata": {},
     "output_type": "execute_result"
    }
   ],
   "source": [
    "data[data['days_employed']>0]['days_employed'].count()#количество положительных значений стажа"
   ]
  },
  {
   "cell_type": "markdown",
   "id": "c290da02",
   "metadata": {},
   "source": [
    "Количество пропусков высокое, но они не препятствуют продолжению нашего анализа, ведь они присутвуют в двух столбцах, один из которых не участвует в исследовании. Относительно пропусков ежемесячного дохода, конечно, 10% повлияют на наше исследование, но этот столбец для нас второстепенный."
   ]
  },
  {
   "cell_type": "markdown",
   "id": "c443c2b2",
   "metadata": {},
   "source": [
    "### Шаг 2.1 Заполнение пропусков"
   ]
  },
  {
   "cell_type": "code",
   "execution_count": 8,
   "id": "6617aa9d",
   "metadata": {},
   "outputs": [],
   "source": [
    "#data['total_income'] = data['total_income'].fillna(data['total_income'].mean())\n",
    "#data['days_employed'] = data['days_employed'].fillna(data['days_employed'].mean())\n",
    "#Чтобы не копипастить можно написать так\n",
    "for i in ['days_employed','total_income']:\n",
    "    data[i] = data[i].fillna(data[i].mean())"
   ]
  },
  {
   "cell_type": "code",
   "execution_count": 9,
   "id": "bdcab0a4",
   "metadata": {
    "scrolled": true
   },
   "outputs": [
    {
     "name": "stdout",
     "output_type": "stream",
     "text": [
      "<class 'pandas.core.frame.DataFrame'>\n",
      "RangeIndex: 21525 entries, 0 to 21524\n",
      "Data columns (total 12 columns):\n",
      "children            21525 non-null int64\n",
      "days_employed       21525 non-null float64\n",
      "dob_years           21525 non-null int64\n",
      "education           21525 non-null object\n",
      "education_id        21525 non-null int64\n",
      "family_status       21525 non-null object\n",
      "family_status_id    21525 non-null int64\n",
      "gender              21525 non-null object\n",
      "income_type         21525 non-null object\n",
      "debt                21525 non-null int64\n",
      "total_income        21525 non-null float64\n",
      "purpose             21525 non-null object\n",
      "dtypes: float64(2), int64(5), object(5)\n",
      "memory usage: 2.0+ MB\n"
     ]
    }
   ],
   "source": [
    "data.info()"
   ]
  },
  {
   "cell_type": "markdown",
   "id": "2220f9f5",
   "metadata": {},
   "source": [
    "Пропуски устранены и теперь можно рассмотреть более детально наши данные"
   ]
  },
  {
   "cell_type": "markdown",
   "id": "ce6ca389",
   "metadata": {},
   "source": [
    "### Шаг 2.2 Проверка данных на аномалии и исправления."
   ]
  },
  {
   "cell_type": "markdown",
   "id": "c6a35fb2",
   "metadata": {},
   "source": [
    "Проверим столбец Стаж, в котором находились интересные значения и исправим их.\n",
    "\n",
    "Для этого напишем функцию проверки возможности существования стажа, тк имеется подозрение, что некоторые значения стажа указаны не в своем формате(в часах, а не днях). "
   ]
  },
  {
   "cell_type": "code",
   "execution_count": 10,
   "id": "081276c7",
   "metadata": {},
   "outputs": [],
   "source": [
    "def employed(row):\n",
    "    if row['days_employed']>(row['dob_years']*365):\n",
    "        return row['days_employed']/24\n",
    "    return row['days_employed']\n",
    "#Функция перевода выделяющихся положительных значений\n",
    "data['days_employed'] = abs(data['days_employed'])\n",
    "data['days_employed'] = data.apply(employed, axis=1)"
   ]
  },
  {
   "cell_type": "code",
   "execution_count": 11,
   "id": "420b6391",
   "metadata": {},
   "outputs": [
    {
     "name": "stdout",
     "output_type": "stream",
     "text": [
      "Стаж равный 340266.072047 теперь реалистичнее 14177.753001950914\n"
     ]
    }
   ],
   "source": [
    "print('Стаж равный 340266.072047 теперь реалистичнее', data.loc[4,'days_employed'])"
   ]
  },
  {
   "cell_type": "markdown",
   "id": "8dc9cf04",
   "metadata": {},
   "source": [
    "В данных превалировали отрицательные значения и имеются выделяющиеся значения, но для конкретной задачи нам не требуется затрагивать данный столбец, но основные действия с ним можно произвести. Есть вероятность, что некоторые данные могут быть записаны в часах, а не днях.\n",
    "Поэтому возьмем абсолютные значения, сравниваем значения с возрастом клиента в днях, домножив на 365, и если же стаж превышает, то разделим его на 24, получив цифру в днях."
   ]
  },
  {
   "cell_type": "code",
   "execution_count": 12,
   "id": "c65d88c2",
   "metadata": {
    "scrolled": false
   },
   "outputs": [
    {
     "name": "stdout",
     "output_type": "stream",
     "text": [
      " 0     14149\n",
      " 1      4818\n",
      " 2      2055\n",
      " 3       330\n",
      " 20       76\n",
      "-1        47\n",
      " 4        41\n",
      " 5         9\n",
      "Name: children, dtype: int64\n",
      "\n",
      "среднее                13750\n",
      "высшее                  4718\n",
      "СРЕДНЕЕ                  772\n",
      "Среднее                  711\n",
      "неоконченное высшее      668\n",
      "ВЫСШЕЕ                   274\n",
      "Высшее                   268\n",
      "начальное                250\n",
      "Неоконченное высшее       47\n",
      "НЕОКОНЧЕННОЕ ВЫСШЕЕ       29\n",
      "НАЧАЛЬНОЕ                 17\n",
      "Начальное                 15\n",
      "ученая степень             4\n",
      "Ученая степень             1\n",
      "УЧЕНАЯ СТЕПЕНЬ             1\n",
      "Name: education, dtype: int64\n",
      "\n",
      "1    15233\n",
      "0     5260\n",
      "2      744\n",
      "3      282\n",
      "4        6\n",
      "Name: education_id, dtype: int64\n",
      "\n",
      "женат / замужем          12380\n",
      "гражданский брак          4177\n",
      "Не женат / не замужем     2813\n",
      "в разводе                 1195\n",
      "вдовец / вдова             960\n",
      "Name: family_status, dtype: int64\n",
      "\n",
      "0    12380\n",
      "1     4177\n",
      "4     2813\n",
      "3     1195\n",
      "2      960\n",
      "Name: family_status_id, dtype: int64\n",
      "\n",
      "F      14236\n",
      "M       7288\n",
      "XNA        1\n",
      "Name: gender, dtype: int64\n",
      "\n",
      "сотрудник          11119\n",
      "компаньон           5085\n",
      "пенсионер           3856\n",
      "госслужащий         1459\n",
      "безработный            2\n",
      "предприниматель        2\n",
      "студент                1\n",
      "в декрете              1\n",
      "Name: income_type, dtype: int64\n",
      "\n",
      "0    19784\n",
      "1     1741\n",
      "Name: debt, dtype: int64\n",
      "\n",
      "свадьба                                   797\n",
      "на проведение свадьбы                     777\n",
      "сыграть свадьбу                           774\n",
      "операции с недвижимостью                  676\n",
      "покупка коммерческой недвижимости         664\n",
      "операции с жильем                         653\n",
      "покупка жилья для сдачи                   653\n",
      "операции с коммерческой недвижимостью     651\n",
      "жилье                                     647\n",
      "покупка жилья                             647\n",
      "покупка жилья для семьи                   641\n",
      "строительство собственной недвижимости    635\n",
      "недвижимость                              634\n",
      "операции со своей недвижимостью           630\n",
      "строительство жилой недвижимости          626\n",
      "покупка недвижимости                      624\n",
      "покупка своего жилья                      620\n",
      "строительство недвижимости                620\n",
      "ремонт жилью                              612\n",
      "покупка жилой недвижимости                607\n",
      "на покупку своего автомобиля              505\n",
      "заняться высшим образованием              496\n",
      "автомобиль                                495\n",
      "сделка с подержанным автомобилем          489\n",
      "свой автомобиль                           480\n",
      "на покупку подержанного автомобиля        479\n",
      "автомобили                                478\n",
      "на покупку автомобиля                     472\n",
      "дополнительное образование                462\n",
      "приобретение автомобиля                   462\n",
      "сделка с автомобилем                      455\n",
      "высшее образование                        453\n",
      "образование                               447\n",
      "получение дополнительного образования     447\n",
      "получение образования                     443\n",
      "профильное образование                    436\n",
      "получение высшего образования             426\n",
      "заняться образованием                     412\n",
      "Name: purpose, dtype: int64\n",
      "\n"
     ]
    }
   ],
   "source": [
    "#Проверка всех остальных столбцов на аномалии\n",
    "for column in ['children','education','education_id','family_status','family_status_id','gender','income_type','debt','purpose']:\n",
    "    print(data[column].value_counts())\n",
    "    print()"
   ]
  },
  {
   "cell_type": "markdown",
   "id": "11a75f91",
   "metadata": {},
   "source": [
    "Как можно заметить у нас присутвуют интересные значения в столбцах children и gender. В первом столбце вероятнее всего были допущены ошибки при заполнение данных клиентом и их количество не столь критичное, поэтому можно предположить и исправить эти значения. А вот одно значения в столбце gender похожее на техническую ошибку и является единственным, поэтому удалим его."
   ]
  },
  {
   "cell_type": "code",
   "execution_count": 13,
   "id": "ba7e80f6",
   "metadata": {},
   "outputs": [],
   "source": [
    "data['children'] = data['children'].replace(20,2) # Замена вероятной описки 20 детей на 2\n",
    "data['children'] = data['children'].replace(-1,1) # Замена возможной описки -1 ребенок на 1, т.к. их доля мала\n",
    "data = data.drop(data[data['gender']=='XNA'].index).reset_index(drop=True) #Удаление строчки с полом XNA"
   ]
  },
  {
   "cell_type": "markdown",
   "id": "f2c3ceca",
   "metadata": {},
   "source": [
    "### Шаг 2.3. Изменение типов данных."
   ]
  },
  {
   "cell_type": "code",
   "execution_count": 14,
   "id": "b8944f32",
   "metadata": {},
   "outputs": [],
   "source": [
    "#Для удобства работы с доходом обрежем часть после запятой\n",
    "data['total_income'] = data['total_income'].astype('int')"
   ]
  },
  {
   "cell_type": "code",
   "execution_count": 15,
   "id": "5fd63f49",
   "metadata": {
    "scrolled": true
   },
   "outputs": [
    {
     "data": {
      "text/html": [
       "<div>\n",
       "<style scoped>\n",
       "    .dataframe tbody tr th:only-of-type {\n",
       "        vertical-align: middle;\n",
       "    }\n",
       "\n",
       "    .dataframe tbody tr th {\n",
       "        vertical-align: top;\n",
       "    }\n",
       "\n",
       "    .dataframe thead th {\n",
       "        text-align: right;\n",
       "    }\n",
       "</style>\n",
       "<table border=\"1\" class=\"dataframe\">\n",
       "  <thead>\n",
       "    <tr style=\"text-align: right;\">\n",
       "      <th></th>\n",
       "      <th>children</th>\n",
       "      <th>days_employed</th>\n",
       "      <th>dob_years</th>\n",
       "      <th>education</th>\n",
       "      <th>education_id</th>\n",
       "      <th>family_status</th>\n",
       "      <th>family_status_id</th>\n",
       "      <th>gender</th>\n",
       "      <th>income_type</th>\n",
       "      <th>debt</th>\n",
       "      <th>total_income</th>\n",
       "      <th>purpose</th>\n",
       "    </tr>\n",
       "  </thead>\n",
       "  <tbody>\n",
       "    <tr>\n",
       "      <td>0</td>\n",
       "      <td>1</td>\n",
       "      <td>8437.673028</td>\n",
       "      <td>42</td>\n",
       "      <td>высшее</td>\n",
       "      <td>0</td>\n",
       "      <td>женат / замужем</td>\n",
       "      <td>0</td>\n",
       "      <td>F</td>\n",
       "      <td>сотрудник</td>\n",
       "      <td>0</td>\n",
       "      <td>253875</td>\n",
       "      <td>покупка жилья</td>\n",
       "    </tr>\n",
       "    <tr>\n",
       "      <td>1</td>\n",
       "      <td>1</td>\n",
       "      <td>4024.803754</td>\n",
       "      <td>36</td>\n",
       "      <td>среднее</td>\n",
       "      <td>1</td>\n",
       "      <td>женат / замужем</td>\n",
       "      <td>0</td>\n",
       "      <td>F</td>\n",
       "      <td>сотрудник</td>\n",
       "      <td>0</td>\n",
       "      <td>112080</td>\n",
       "      <td>приобретение автомобиля</td>\n",
       "    </tr>\n",
       "    <tr>\n",
       "      <td>2</td>\n",
       "      <td>0</td>\n",
       "      <td>5623.422610</td>\n",
       "      <td>33</td>\n",
       "      <td>Среднее</td>\n",
       "      <td>1</td>\n",
       "      <td>женат / замужем</td>\n",
       "      <td>0</td>\n",
       "      <td>M</td>\n",
       "      <td>сотрудник</td>\n",
       "      <td>0</td>\n",
       "      <td>145885</td>\n",
       "      <td>покупка жилья</td>\n",
       "    </tr>\n",
       "    <tr>\n",
       "      <td>3</td>\n",
       "      <td>3</td>\n",
       "      <td>4124.747207</td>\n",
       "      <td>32</td>\n",
       "      <td>среднее</td>\n",
       "      <td>1</td>\n",
       "      <td>женат / замужем</td>\n",
       "      <td>0</td>\n",
       "      <td>M</td>\n",
       "      <td>сотрудник</td>\n",
       "      <td>0</td>\n",
       "      <td>267628</td>\n",
       "      <td>дополнительное образование</td>\n",
       "    </tr>\n",
       "    <tr>\n",
       "      <td>4</td>\n",
       "      <td>0</td>\n",
       "      <td>14177.753002</td>\n",
       "      <td>53</td>\n",
       "      <td>среднее</td>\n",
       "      <td>1</td>\n",
       "      <td>гражданский брак</td>\n",
       "      <td>1</td>\n",
       "      <td>F</td>\n",
       "      <td>пенсионер</td>\n",
       "      <td>0</td>\n",
       "      <td>158616</td>\n",
       "      <td>сыграть свадьбу</td>\n",
       "    </tr>\n",
       "  </tbody>\n",
       "</table>\n",
       "</div>"
      ],
      "text/plain": [
       "   children  days_employed  dob_years education  education_id  \\\n",
       "0         1    8437.673028         42    высшее             0   \n",
       "1         1    4024.803754         36   среднее             1   \n",
       "2         0    5623.422610         33   Среднее             1   \n",
       "3         3    4124.747207         32   среднее             1   \n",
       "4         0   14177.753002         53   среднее             1   \n",
       "\n",
       "      family_status  family_status_id gender income_type  debt  total_income  \\\n",
       "0   женат / замужем                 0      F   сотрудник     0        253875   \n",
       "1   женат / замужем                 0      F   сотрудник     0        112080   \n",
       "2   женат / замужем                 0      M   сотрудник     0        145885   \n",
       "3   женат / замужем                 0      M   сотрудник     0        267628   \n",
       "4  гражданский брак                 1      F   пенсионер     0        158616   \n",
       "\n",
       "                      purpose  \n",
       "0               покупка жилья  \n",
       "1     приобретение автомобиля  \n",
       "2               покупка жилья  \n",
       "3  дополнительное образование  \n",
       "4             сыграть свадьбу  "
      ]
     },
     "execution_count": 15,
     "metadata": {},
     "output_type": "execute_result"
    }
   ],
   "source": [
    "data.head()"
   ]
  },
  {
   "cell_type": "markdown",
   "id": "88f80dd3",
   "metadata": {},
   "source": [
    "Так гораздо удобнее воспринимать зарплаты, которые итак могут состоять более чем из 6 цифр."
   ]
  },
  {
   "cell_type": "markdown",
   "id": "c963238e",
   "metadata": {},
   "source": [
    "### Шаг 2.4. Удаление дубликатов.\n",
    "Перейдем к дубликатам, которые мы обнаружили в столбце образования\n",
    "\n",
    "Найдем явные и неявные дубликаты"
   ]
  },
  {
   "cell_type": "code",
   "execution_count": 16,
   "id": "df7a025c",
   "metadata": {},
   "outputs": [],
   "source": [
    "#Для поиска явных дубликатов имеется функция duplicated и его функция удаления явных дубликатов drop_duplicates\n",
    "data = data.drop_duplicates().reset_index(drop=True) #удаление дубликатов и восстановление индексов"
   ]
  },
  {
   "cell_type": "code",
   "execution_count": 17,
   "id": "0c57a08a",
   "metadata": {
    "scrolled": true
   },
   "outputs": [
    {
     "data": {
      "text/plain": [
       "среднее                15188\n",
       "высшее                  5251\n",
       "неоконченное высшее      743\n",
       "начальное                282\n",
       "ученая степень             6\n",
       "Name: education, dtype: int64"
      ]
     },
     "execution_count": 17,
     "metadata": {},
     "output_type": "execute_result"
    }
   ],
   "source": [
    "data['education'] = data['education'].str.lower()# перевод к единому нижнему регистру\n",
    "data['education'].value_counts()"
   ]
  },
  {
   "cell_type": "markdown",
   "id": "e4d1b20e",
   "metadata": {},
   "source": [
    "Неявные дубликаты в столбце образование легко убрались при помощи приведения всех значений к одному регистру.\n",
    "\n",
    "Другой вопрос, откуда появились явные дубликаты можно предположить, что они появились благодаря замене на средние значения, тк там были пропущенные данные, которые могли быть вызваны технической проблемой"
   ]
  },
  {
   "cell_type": "markdown",
   "id": "15062e80",
   "metadata": {},
   "source": [
    "### Шаг 2.5. Формирование дополнительных датафреймов словарей, декомпозиция исходного датафрейма.\n",
    "В таблице имеются столбцы, которые захламляют наш датафрейм"
   ]
  },
  {
   "cell_type": "code",
   "execution_count": 18,
   "id": "65d0fba2",
   "metadata": {},
   "outputs": [],
   "source": [
    "#Создаем словари с идентификаторами, чтобы не захламлять основной датафрейм\n",
    "education_dict = data[['education_id','education']]\n",
    "family_status_dict = data[['family_status_id','family_status']]"
   ]
  },
  {
   "cell_type": "code",
   "execution_count": 19,
   "id": "604930e4",
   "metadata": {},
   "outputs": [],
   "source": [
    "data = data.drop(['education','family_status'], axis=1) #удалили 2 столбца из оригинального датафрейма"
   ]
  },
  {
   "cell_type": "code",
   "execution_count": 20,
   "id": "92e96b92",
   "metadata": {},
   "outputs": [
    {
     "name": "stdout",
     "output_type": "stream",
     "text": [
      "<class 'pandas.core.frame.DataFrame'>\n",
      "RangeIndex: 21470 entries, 0 to 21469\n",
      "Data columns (total 10 columns):\n",
      "children            21470 non-null int64\n",
      "days_employed       21470 non-null float64\n",
      "dob_years           21470 non-null int64\n",
      "education_id        21470 non-null int64\n",
      "family_status_id    21470 non-null int64\n",
      "gender              21470 non-null object\n",
      "income_type         21470 non-null object\n",
      "debt                21470 non-null int64\n",
      "total_income        21470 non-null int64\n",
      "purpose             21470 non-null object\n",
      "dtypes: float64(1), int64(6), object(3)\n",
      "memory usage: 1.6+ MB\n"
     ]
    }
   ],
   "source": [
    "data.info() "
   ]
  },
  {
   "cell_type": "markdown",
   "id": "63144c23",
   "metadata": {},
   "source": [
    "Удалили дублирующие столбцы, оставив только столбцы ID для этих категорий"
   ]
  },
  {
   "cell_type": "markdown",
   "id": "8ad6cc01",
   "metadata": {},
   "source": [
    "### Шаг 2.6. Категоризация дохода.\n",
    "Одна из задач заключается в категоризации дохода, переходим к ее решению"
   ]
  },
  {
   "cell_type": "code",
   "execution_count": 21,
   "id": "952e785f",
   "metadata": {},
   "outputs": [],
   "source": [
    "#Для удобства использования и быстродействия создаем функцию, чтобы избежать перебора в цикле\n",
    "def category_income(income):\n",
    "    if (income>=0 and income<=30000):\n",
    "        return 'E'\n",
    "    if (income>=30001 and income<=50000):\n",
    "        return 'D'\n",
    "    if (income>=50001 and income<=200000):\n",
    "        return 'C'\n",
    "    if (income>=200001 and income<=1000000):\n",
    "        return 'B'\n",
    "    if income>=1000001:\n",
    "        return 'A'"
   ]
  },
  {
   "cell_type": "code",
   "execution_count": 22,
   "id": "2916a8a0",
   "metadata": {},
   "outputs": [],
   "source": [
    "# Создание нового столбца и применение к нему функции категоризации дохода\n",
    "data['total_income_category'] = data['total_income'].apply(category_income)"
   ]
  },
  {
   "cell_type": "code",
   "execution_count": 23,
   "id": "bd0dd4ef",
   "metadata": {},
   "outputs": [
    {
     "data": {
      "text/html": [
       "<div>\n",
       "<style scoped>\n",
       "    .dataframe tbody tr th:only-of-type {\n",
       "        vertical-align: middle;\n",
       "    }\n",
       "\n",
       "    .dataframe tbody tr th {\n",
       "        vertical-align: top;\n",
       "    }\n",
       "\n",
       "    .dataframe thead th {\n",
       "        text-align: right;\n",
       "    }\n",
       "</style>\n",
       "<table border=\"1\" class=\"dataframe\">\n",
       "  <thead>\n",
       "    <tr style=\"text-align: right;\">\n",
       "      <th></th>\n",
       "      <th>children</th>\n",
       "      <th>days_employed</th>\n",
       "      <th>dob_years</th>\n",
       "      <th>education_id</th>\n",
       "      <th>family_status_id</th>\n",
       "      <th>gender</th>\n",
       "      <th>income_type</th>\n",
       "      <th>debt</th>\n",
       "      <th>total_income</th>\n",
       "      <th>purpose</th>\n",
       "      <th>total_income_category</th>\n",
       "    </tr>\n",
       "  </thead>\n",
       "  <tbody>\n",
       "    <tr>\n",
       "      <td>0</td>\n",
       "      <td>1</td>\n",
       "      <td>8437.673028</td>\n",
       "      <td>42</td>\n",
       "      <td>0</td>\n",
       "      <td>0</td>\n",
       "      <td>F</td>\n",
       "      <td>сотрудник</td>\n",
       "      <td>0</td>\n",
       "      <td>253875</td>\n",
       "      <td>покупка жилья</td>\n",
       "      <td>B</td>\n",
       "    </tr>\n",
       "    <tr>\n",
       "      <td>1</td>\n",
       "      <td>1</td>\n",
       "      <td>4024.803754</td>\n",
       "      <td>36</td>\n",
       "      <td>1</td>\n",
       "      <td>0</td>\n",
       "      <td>F</td>\n",
       "      <td>сотрудник</td>\n",
       "      <td>0</td>\n",
       "      <td>112080</td>\n",
       "      <td>приобретение автомобиля</td>\n",
       "      <td>C</td>\n",
       "    </tr>\n",
       "    <tr>\n",
       "      <td>2</td>\n",
       "      <td>0</td>\n",
       "      <td>5623.422610</td>\n",
       "      <td>33</td>\n",
       "      <td>1</td>\n",
       "      <td>0</td>\n",
       "      <td>M</td>\n",
       "      <td>сотрудник</td>\n",
       "      <td>0</td>\n",
       "      <td>145885</td>\n",
       "      <td>покупка жилья</td>\n",
       "      <td>C</td>\n",
       "    </tr>\n",
       "    <tr>\n",
       "      <td>3</td>\n",
       "      <td>3</td>\n",
       "      <td>4124.747207</td>\n",
       "      <td>32</td>\n",
       "      <td>1</td>\n",
       "      <td>0</td>\n",
       "      <td>M</td>\n",
       "      <td>сотрудник</td>\n",
       "      <td>0</td>\n",
       "      <td>267628</td>\n",
       "      <td>дополнительное образование</td>\n",
       "      <td>B</td>\n",
       "    </tr>\n",
       "    <tr>\n",
       "      <td>4</td>\n",
       "      <td>0</td>\n",
       "      <td>14177.753002</td>\n",
       "      <td>53</td>\n",
       "      <td>1</td>\n",
       "      <td>1</td>\n",
       "      <td>F</td>\n",
       "      <td>пенсионер</td>\n",
       "      <td>0</td>\n",
       "      <td>158616</td>\n",
       "      <td>сыграть свадьбу</td>\n",
       "      <td>C</td>\n",
       "    </tr>\n",
       "  </tbody>\n",
       "</table>\n",
       "</div>"
      ],
      "text/plain": [
       "   children  days_employed  dob_years  education_id  family_status_id gender  \\\n",
       "0         1    8437.673028         42             0                 0      F   \n",
       "1         1    4024.803754         36             1                 0      F   \n",
       "2         0    5623.422610         33             1                 0      M   \n",
       "3         3    4124.747207         32             1                 0      M   \n",
       "4         0   14177.753002         53             1                 1      F   \n",
       "\n",
       "  income_type  debt  total_income                     purpose  \\\n",
       "0   сотрудник     0        253875               покупка жилья   \n",
       "1   сотрудник     0        112080     приобретение автомобиля   \n",
       "2   сотрудник     0        145885               покупка жилья   \n",
       "3   сотрудник     0        267628  дополнительное образование   \n",
       "4   пенсионер     0        158616             сыграть свадьбу   \n",
       "\n",
       "  total_income_category  \n",
       "0                     B  \n",
       "1                     C  \n",
       "2                     C  \n",
       "3                     B  \n",
       "4                     C  "
      ]
     },
     "execution_count": 23,
     "metadata": {},
     "output_type": "execute_result"
    }
   ],
   "source": [
    "data.head()"
   ]
  },
  {
   "cell_type": "markdown",
   "id": "b392e293",
   "metadata": {},
   "source": [
    "### Шаг 2.7. Категоризация целей кредита."
   ]
  },
  {
   "cell_type": "code",
   "execution_count": 24,
   "id": "2a8a6922",
   "metadata": {},
   "outputs": [],
   "source": [
    "#Напишем функцию категоризации целей кредита\n",
    "def category_purpose(purpose):\n",
    "    try:\n",
    "        if 'свадьб' in purpose:\n",
    "            return 'проведение свадьбы'\n",
    "        if 'жил' in purpose or 'недвижим' in purpose:\n",
    "            return 'операции с недвижимостью'\n",
    "        if 'автомоб' in purpose:\n",
    "            return 'операции с автомобилем'\n",
    "        if 'образован' in purpose:\n",
    "            return 'получение образования'\n",
    "    except:\n",
    "        return 'Неопределена'"
   ]
  },
  {
   "cell_type": "code",
   "execution_count": 25,
   "id": "156f1162",
   "metadata": {},
   "outputs": [],
   "source": [
    "data['purpose_category'] = data['purpose'].apply(category_purpose)"
   ]
  },
  {
   "cell_type": "code",
   "execution_count": 26,
   "id": "57b8b9d3",
   "metadata": {},
   "outputs": [
    {
     "data": {
      "text/plain": [
       "array(['операции с недвижимостью', 'операции с автомобилем',\n",
       "       'получение образования', 'проведение свадьбы'], dtype=object)"
      ]
     },
     "execution_count": 26,
     "metadata": {},
     "output_type": "execute_result"
    }
   ],
   "source": [
    "data['purpose_category'].unique()"
   ]
  },
  {
   "cell_type": "markdown",
   "id": "ff092e16",
   "metadata": {},
   "source": [
    "Как можно заметить по уникальным значениям у нас отсутвуют проблемы с новым столбцем и функция прекрасно отрабатывается и на случай новых строк предусмотрена конструкция защиты.\n",
    "\n",
    "Обработка данных завершена успешно. Можно приступать к работе с данными и проверке гипотез о взаимосвязях."
   ]
  },
  {
   "cell_type": "markdown",
   "id": "38865dbb",
   "metadata": {},
   "source": [
    "### Ответы на вопросы."
   ]
  },
  {
   "cell_type": "markdown",
   "id": "df2f9ade",
   "metadata": {},
   "source": [
    "Интересующие нас вопросы:\n",
    "* Есть ли зависимость между количеством детей и возвратом кредита в срок?\n",
    "* Есть ли зависимость между семейным положением и возвратом кредита в срок?\n",
    "* Есть ли зависимость между уровнем дохода и возвратом кредита в срок?\n",
    "* Как разные цели кредита влияют на его возврат в срок?"
   ]
  },
  {
   "cell_type": "markdown",
   "id": "a13113ca",
   "metadata": {},
   "source": [
    "##### Вопрос 1: Есть ли зависимость между количеством детей и возвратом кредита в срок?"
   ]
  },
  {
   "cell_type": "code",
   "execution_count": 27,
   "id": "f0231382",
   "metadata": {
    "scrolled": false
   },
   "outputs": [
    {
     "data": {
      "text/html": [
       "<div>\n",
       "<style scoped>\n",
       "    .dataframe tbody tr th:only-of-type {\n",
       "        vertical-align: middle;\n",
       "    }\n",
       "\n",
       "    .dataframe tbody tr th {\n",
       "        vertical-align: top;\n",
       "    }\n",
       "\n",
       "    .dataframe thead th {\n",
       "        text-align: right;\n",
       "    }\n",
       "</style>\n",
       "<table border=\"1\" class=\"dataframe\">\n",
       "  <thead>\n",
       "    <tr style=\"text-align: right;\">\n",
       "      <th></th>\n",
       "      <th>debt</th>\n",
       "    </tr>\n",
       "    <tr>\n",
       "      <th>children</th>\n",
       "      <th></th>\n",
       "    </tr>\n",
       "  </thead>\n",
       "  <tbody>\n",
       "    <tr>\n",
       "      <td>0</td>\n",
       "      <td>7.54</td>\n",
       "    </tr>\n",
       "    <tr>\n",
       "      <td>1</td>\n",
       "      <td>9.16</td>\n",
       "    </tr>\n",
       "    <tr>\n",
       "      <td>2</td>\n",
       "      <td>9.49</td>\n",
       "    </tr>\n",
       "    <tr>\n",
       "      <td>3</td>\n",
       "      <td>8.18</td>\n",
       "    </tr>\n",
       "    <tr>\n",
       "      <td>4</td>\n",
       "      <td>9.76</td>\n",
       "    </tr>\n",
       "    <tr>\n",
       "      <td>5</td>\n",
       "      <td>0.00</td>\n",
       "    </tr>\n",
       "  </tbody>\n",
       "</table>\n",
       "</div>"
      ],
      "text/plain": [
       "          debt\n",
       "children      \n",
       "0         7.54\n",
       "1         9.16\n",
       "2         9.49\n",
       "3         8.18\n",
       "4         9.76\n",
       "5         0.00"
      ]
     },
     "execution_count": 27,
     "metadata": {},
     "output_type": "execute_result"
    }
   ],
   "source": [
    "#Посчитаем процент задолженности в зависимотси от количества детей\n",
    "pivot = pd.pivot_table(data=data,index='children',values='debt')\n",
    "pivot['debt'] = round(pivot['debt']*100,2)# округление для восприятия\n",
    "pivot"
   ]
  },
  {
   "cell_type": "code",
   "execution_count": 28,
   "id": "e91f71e9",
   "metadata": {},
   "outputs": [
    {
     "data": {
      "text/plain": [
       "<matplotlib.axes._subplots.AxesSubplot at 0x7ff509c15550>"
      ]
     },
     "execution_count": 28,
     "metadata": {},
     "output_type": "execute_result"
    },
    {
     "data": {
      "image/png": "[encoded data removed]",
      "text/plain": [
       "<Figure size 432x288 with 1 Axes>"
      ]
     },
     "metadata": {
      "needs_background": "light"
     },
     "output_type": "display_data"
    }
   ],
   "source": [
    "seaborn.barplot(x=pivot.index,y=pivot['debt'])"
   ]
  },
  {
   "cell_type": "markdown",
   "id": "96d93973",
   "metadata": {},
   "source": [
    "##### Вывод 1: \n",
    "Как видно из графика имеется тенденция увеличения процента задолженностей с возрастанием количества детей в семье, без учета семей с 5 детьми, т.к. в нашей выборке количество таких наблюдений крайне мало(9). Взаимосвязь количества детей и возвратом кредита в срок имеет место быть, но окончательно оценить ее влияние тяжело, потому что основная доля наблюдений приходится на семьи от 0 до 2 детей."
   ]
  },
  {
   "cell_type": "markdown",
   "id": "ff37cfb5",
   "metadata": {},
   "source": [
    "##### Вопрос 2: Есть ли зависимость между семейным положением и возвратом кредита в срок?"
   ]
  },
  {
   "cell_type": "code",
   "execution_count": 29,
   "id": "7ecb5682",
   "metadata": {
    "scrolled": true
   },
   "outputs": [
    {
     "data": {
      "text/html": [
       "<div>\n",
       "<style scoped>\n",
       "    .dataframe tbody tr th:only-of-type {\n",
       "        vertical-align: middle;\n",
       "    }\n",
       "\n",
       "    .dataframe tbody tr th {\n",
       "        vertical-align: top;\n",
       "    }\n",
       "\n",
       "    .dataframe thead th {\n",
       "        text-align: right;\n",
       "    }\n",
       "</style>\n",
       "<table border=\"1\" class=\"dataframe\">\n",
       "  <thead>\n",
       "    <tr style=\"text-align: right;\">\n",
       "      <th></th>\n",
       "      <th>debt</th>\n",
       "    </tr>\n",
       "    <tr>\n",
       "      <th>family_status_id</th>\n",
       "      <th></th>\n",
       "    </tr>\n",
       "  </thead>\n",
       "  <tbody>\n",
       "    <tr>\n",
       "      <td>0</td>\n",
       "      <td>7.54</td>\n",
       "    </tr>\n",
       "    <tr>\n",
       "      <td>1</td>\n",
       "      <td>9.32</td>\n",
       "    </tr>\n",
       "    <tr>\n",
       "      <td>2</td>\n",
       "      <td>6.57</td>\n",
       "    </tr>\n",
       "    <tr>\n",
       "      <td>3</td>\n",
       "      <td>7.11</td>\n",
       "    </tr>\n",
       "    <tr>\n",
       "      <td>4</td>\n",
       "      <td>9.75</td>\n",
       "    </tr>\n",
       "  </tbody>\n",
       "</table>\n",
       "</div>"
      ],
      "text/plain": [
       "                  debt\n",
       "family_status_id      \n",
       "0                 7.54\n",
       "1                 9.32\n",
       "2                 6.57\n",
       "3                 7.11\n",
       "4                 9.75"
      ]
     },
     "execution_count": 29,
     "metadata": {},
     "output_type": "execute_result"
    }
   ],
   "source": [
    "pivot = pd.pivot_table(data=data,index='family_status_id',values='debt')\n",
    "pivot['debt'] = round(pivot['debt']*100,2)\n",
    "pivot"
   ]
  },
  {
   "cell_type": "code",
   "execution_count": 30,
   "id": "6fb8f671",
   "metadata": {
    "scrolled": true
   },
   "outputs": [
    {
     "data": {
      "text/plain": [
       "<matplotlib.axes._subplots.AxesSubplot at 0x7ff5099146d0>"
      ]
     },
     "execution_count": 30,
     "metadata": {},
     "output_type": "execute_result"
    },
    {
     "data": {
      "image/png": "[encoded data removed]",
      "text/plain": [
       "<Figure size 432x288 with 1 Axes>"
      ]
     },
     "metadata": {
      "needs_background": "light"
     },
     "output_type": "display_data"
    }
   ],
   "source": [
    "seaborn.barplot(x=pivot.index,y=pivot['debt'],hue=family_status_dict['family_status'].unique(),dodge=False)"
   ]
  },
  {
   "cell_type": "markdown",
   "id": "63ea6578",
   "metadata": {},
   "source": [
    "##### Вывод 2:\n",
    "Самый низкий процент появления задолженности по кредиту имеют взаимосвязанные группы вдовец/вдова и в разводе. Из графика видно, что люди не состоящие в браке чаще имеют задолженость. Можно утверждать, что семейное положение положительно сказывается на возврат кредита в срок, нежели отсутвие брака "
   ]
  },
  {
   "cell_type": "markdown",
   "id": "9df91642",
   "metadata": {},
   "source": [
    "##### Вопрос 3: Есть ли зависимость между уровнем дохода и возвратом кредита в срок?"
   ]
  },
  {
   "cell_type": "code",
   "execution_count": 31,
   "id": "b3628945",
   "metadata": {
    "scrolled": true
   },
   "outputs": [
    {
     "data": {
      "text/html": [
       "<div>\n",
       "<style scoped>\n",
       "    .dataframe tbody tr th:only-of-type {\n",
       "        vertical-align: middle;\n",
       "    }\n",
       "\n",
       "    .dataframe tbody tr th {\n",
       "        vertical-align: top;\n",
       "    }\n",
       "\n",
       "    .dataframe thead th {\n",
       "        text-align: right;\n",
       "    }\n",
       "</style>\n",
       "<table border=\"1\" class=\"dataframe\">\n",
       "  <thead>\n",
       "    <tr style=\"text-align: right;\">\n",
       "      <th></th>\n",
       "      <th>debt</th>\n",
       "    </tr>\n",
       "    <tr>\n",
       "      <th>total_income_category</th>\n",
       "      <th></th>\n",
       "    </tr>\n",
       "  </thead>\n",
       "  <tbody>\n",
       "    <tr>\n",
       "      <td>A</td>\n",
       "      <td>8.00</td>\n",
       "    </tr>\n",
       "    <tr>\n",
       "      <td>B</td>\n",
       "      <td>7.06</td>\n",
       "    </tr>\n",
       "    <tr>\n",
       "      <td>C</td>\n",
       "      <td>8.48</td>\n",
       "    </tr>\n",
       "    <tr>\n",
       "      <td>D</td>\n",
       "      <td>6.00</td>\n",
       "    </tr>\n",
       "    <tr>\n",
       "      <td>E</td>\n",
       "      <td>9.09</td>\n",
       "    </tr>\n",
       "  </tbody>\n",
       "</table>\n",
       "</div>"
      ],
      "text/plain": [
       "                       debt\n",
       "total_income_category      \n",
       "A                      8.00\n",
       "B                      7.06\n",
       "C                      8.48\n",
       "D                      6.00\n",
       "E                      9.09"
      ]
     },
     "execution_count": 31,
     "metadata": {},
     "output_type": "execute_result"
    }
   ],
   "source": [
    "pivot = pd.pivot_table(data=data,index='total_income_category',values='debt')\n",
    "pivot['debt'] = round(pivot['debt']*100,2)\n",
    "pivot"
   ]
  },
  {
   "cell_type": "code",
   "execution_count": 32,
   "id": "103f0f5d",
   "metadata": {
    "scrolled": true
   },
   "outputs": [
    {
     "data": {
      "text/plain": [
       "<matplotlib.axes._subplots.AxesSubplot at 0x7ff501145f10>"
      ]
     },
     "execution_count": 32,
     "metadata": {},
     "output_type": "execute_result"
    },
    {
     "data": {
      "image/png": "[encoded data removed]",
      "text/plain": [
       "<Figure size 432x288 with 1 Axes>"
      ]
     },
     "metadata": {
      "needs_background": "light"
     },
     "output_type": "display_data"
    }
   ],
   "source": [
    "seaborn.barplot(x=pivot.index,y=pivot['debt'])"
   ]
  },
  {
   "cell_type": "markdown",
   "id": "d47dd075",
   "metadata": {},
   "source": [
    "##### Вывод 3:\n",
    "Имеется взаимосвязь между уровнем дохода и возвратом кредита в срок, самый низкий показатель возникновения задолженности у группы D. В то время как у остальных показатель не сильно отличается."
   ]
  },
  {
   "cell_type": "markdown",
   "id": "9dcb2362",
   "metadata": {},
   "source": [
    "##### Вопрос 4: Как разные цели кредита влияют на его возврат в срок?"
   ]
  },
  {
   "cell_type": "code",
   "execution_count": 33,
   "id": "5a99b7b9",
   "metadata": {
    "scrolled": true
   },
   "outputs": [
    {
     "data": {
      "text/html": [
       "<div>\n",
       "<style scoped>\n",
       "    .dataframe tbody tr th:only-of-type {\n",
       "        vertical-align: middle;\n",
       "    }\n",
       "\n",
       "    .dataframe tbody tr th {\n",
       "        vertical-align: top;\n",
       "    }\n",
       "\n",
       "    .dataframe thead th {\n",
       "        text-align: right;\n",
       "    }\n",
       "</style>\n",
       "<table border=\"1\" class=\"dataframe\">\n",
       "  <thead>\n",
       "    <tr style=\"text-align: right;\">\n",
       "      <th></th>\n",
       "      <th>debt</th>\n",
       "    </tr>\n",
       "    <tr>\n",
       "      <th>purpose_category</th>\n",
       "      <th></th>\n",
       "    </tr>\n",
       "  </thead>\n",
       "  <tbody>\n",
       "    <tr>\n",
       "      <td>операции с автомобилем</td>\n",
       "      <td>9.35</td>\n",
       "    </tr>\n",
       "    <tr>\n",
       "      <td>операции с недвижимостью</td>\n",
       "      <td>7.23</td>\n",
       "    </tr>\n",
       "    <tr>\n",
       "      <td>получение образования</td>\n",
       "      <td>9.22</td>\n",
       "    </tr>\n",
       "    <tr>\n",
       "      <td>проведение свадьбы</td>\n",
       "      <td>7.97</td>\n",
       "    </tr>\n",
       "  </tbody>\n",
       "</table>\n",
       "</div>"
      ],
      "text/plain": [
       "                          debt\n",
       "purpose_category              \n",
       "операции с автомобилем    9.35\n",
       "операции с недвижимостью  7.23\n",
       "получение образования     9.22\n",
       "проведение свадьбы        7.97"
      ]
     },
     "execution_count": 33,
     "metadata": {},
     "output_type": "execute_result"
    }
   ],
   "source": [
    "pivot = pd.pivot_table(data=data,index='purpose_category',values='debt')\n",
    "pivot['debt'] = round(pivot['debt']*100,2)\n",
    "pivot"
   ]
  },
  {
   "cell_type": "code",
   "execution_count": 34,
   "id": "16bb0614",
   "metadata": {},
   "outputs": [
    {
     "data": {
      "text/plain": [
       "<matplotlib.axes._subplots.AxesSubplot at 0x7ff50106e490>"
      ]
     },
     "execution_count": 34,
     "metadata": {},
     "output_type": "execute_result"
    },
    {
     "data": {
      "image/png": "[encoded data removed]",
      "text/plain": [
       "<Figure size 432x288 with 1 Axes>"
      ]
     },
     "metadata": {
      "needs_background": "light"
     },
     "output_type": "display_data"
    }
   ],
   "source": [
    "seaborn.barplot(y=pivot.index,x=pivot['debt'])"
   ]
  },
  {
   "cell_type": "markdown",
   "id": "7f3efc86",
   "metadata": {},
   "source": [
    "##### Вывод 4:\n",
    "Как можно заметить возвращают в срок заемные средства люди, которые брали их на операции с недвижимостью и проведение свадьбы."
   ]
  },
  {
   "cell_type": "markdown",
   "id": "14ec3a84",
   "metadata": {},
   "source": [
    "## Итоговый вывод:"
   ]
  },
  {
   "cell_type": "markdown",
   "id": "1ca6dcdd",
   "metadata": {},
   "source": [
    "В ходе исследования были выявлены и подтверждены требуемые взаимосвязи.\n",
    "1. Имеется прямая взаимосвязь между количеством детей и возвращение кредита в срок\n",
    "\n",
    "Но полное подтверждение гипотезы возможно, только с уточнением данных о семьях с более 4 детьми, тк присутствовали пропуски и процент таких семей в нашей выборке мал.\n",
    "\n",
    "2. Семейное положение имеет связь с возвратом кредита в срок\n",
    "\n",
    "Процент образования задолженности наивысший у заемщиков, которые не были в браке. С другой стороны, наименьший процент у заемщиков, состоявщих в браке, но лишившихся его по разным причинам.\n",
    "\n",
    "3. Связь уровня доходов с возврщаением кредита отчасти присутсвует.\n",
    "\n",
    "Т.к. в данном столбце были пропущенные значения, невозможно полностью подтвердить гипотезу о взаимосвязи, тк на других данных она может измениться.\n",
    "\n",
    "4. Цели кредита явно имеют связь с возвратом средств в срок\n",
    "Видно, что кредит на свадьбу и недвижимость возращают чаще в срок, чем остальное\n",
    "\n",
    "**Исходя из полученных данных,** при выдаче кредита следует учитывать его семейное положение и количество детей, хорошими кандидатами были бы люди в разводе и без детей. Что касается уровня дохода, однозначно такие уровни дохода, как A и E повысят шанс просрочек по кредиту, так же самая благоприятная цель кредитования будет операция с недвижимостью."
   ]
  }
 ],
 "metadata": {
  "ExecuteTimeLog": [
   {
    "duration": 754,
    "start_time": "2022-02-08T09:41:02.407Z"
   },
   {
    "duration": 514,
    "start_time": "2022-02-08T09:43:19.289Z"
   },
   {
    "duration": 70,
    "start_time": "2022-02-08T09:43:26.158Z"
   },
   {
    "duration": 28,
    "start_time": "2022-02-08T09:43:43.449Z"
   },
   {
    "duration": 15,
    "start_time": "2022-02-08T10:03:43.244Z"
   },
   {
    "duration": 12,
    "start_time": "2022-02-08T10:31:39.284Z"
   },
   {
    "duration": 8,
    "start_time": "2022-02-08T10:33:30.494Z"
   },
   {
    "duration": 36,
    "start_time": "2022-02-08T10:33:53.503Z"
   },
   {
    "duration": 11,
    "start_time": "2022-02-08T10:34:42.657Z"
   },
   {
    "duration": 36,
    "start_time": "2022-02-08T10:34:56.456Z"
   },
   {
    "duration": 12,
    "start_time": "2022-02-08T10:35:09.675Z"
   },
   {
    "duration": 3493,
    "start_time": "2022-02-08T10:35:43.655Z"
   },
   {
    "duration": 8,
    "start_time": "2022-02-08T10:36:21.428Z"
   },
   {
    "duration": 392,
    "start_time": "2022-02-08T10:37:17.346Z"
   },
   {
    "duration": 461,
    "start_time": "2022-02-08T10:37:53.904Z"
   },
   {
    "duration": 36,
    "start_time": "2022-02-08T10:40:59.900Z"
   },
   {
    "duration": 36,
    "start_time": "2022-02-08T10:42:31.492Z"
   },
   {
    "duration": 420,
    "start_time": "2022-02-08T10:44:48.507Z"
   },
   {
    "duration": 131,
    "start_time": "2022-02-08T10:45:23.822Z"
   },
   {
    "duration": 358,
    "start_time": "2022-02-08T10:45:58.900Z"
   },
   {
    "duration": 34,
    "start_time": "2022-02-08T10:46:33.256Z"
   },
   {
    "duration": 8,
    "start_time": "2022-02-08T10:50:04.823Z"
   },
   {
    "duration": 449,
    "start_time": "2022-02-08T10:52:57.193Z"
   },
   {
    "duration": 9,
    "start_time": "2022-02-08T10:53:12.364Z"
   },
   {
    "duration": 8,
    "start_time": "2022-02-08T10:53:21.888Z"
   },
   {
    "duration": 7,
    "start_time": "2022-02-08T10:53:32.801Z"
   },
   {
    "duration": 20,
    "start_time": "2022-02-08T10:55:40.986Z"
   },
   {
    "duration": 22,
    "start_time": "2022-02-08T10:55:52.150Z"
   },
   {
    "duration": 34,
    "start_time": "2022-02-08T10:56:11.543Z"
   },
   {
    "duration": 16,
    "start_time": "2022-02-08T10:56:32.717Z"
   },
   {
    "duration": 20,
    "start_time": "2022-02-08T10:56:39.628Z"
   },
   {
    "duration": 11,
    "start_time": "2022-02-08T10:58:14.537Z"
   },
   {
    "duration": 7,
    "start_time": "2022-02-08T10:58:34.621Z"
   },
   {
    "duration": 6,
    "start_time": "2022-02-08T11:10:55.615Z"
   },
   {
    "duration": 27,
    "start_time": "2022-02-08T11:11:15.333Z"
   },
   {
    "duration": 13,
    "start_time": "2022-02-08T11:11:24.215Z"
   },
   {
    "duration": 6,
    "start_time": "2022-02-08T11:11:55.773Z"
   },
   {
    "duration": 14,
    "start_time": "2022-02-08T11:11:55.964Z"
   },
   {
    "duration": 14,
    "start_time": "2022-02-08T12:19:58.748Z"
   },
   {
    "duration": 32,
    "start_time": "2022-02-08T12:20:07.779Z"
   },
   {
    "duration": 11,
    "start_time": "2022-02-08T12:20:50.115Z"
   },
   {
    "duration": 6,
    "start_time": "2022-02-08T12:20:56.762Z"
   },
   {
    "duration": 11,
    "start_time": "2022-02-08T12:21:00.154Z"
   },
   {
    "duration": 5,
    "start_time": "2022-02-08T12:23:24.450Z"
   },
   {
    "duration": 6,
    "start_time": "2022-02-08T12:36:37.917Z"
   },
   {
    "duration": 7,
    "start_time": "2022-02-08T12:36:46.262Z"
   },
   {
    "duration": 6,
    "start_time": "2022-02-08T12:36:58.494Z"
   },
   {
    "duration": 3,
    "start_time": "2022-02-08T12:37:06.229Z"
   },
   {
    "duration": 87,
    "start_time": "2022-02-08T12:37:06.622Z"
   },
   {
    "duration": 29,
    "start_time": "2022-02-08T12:37:08.126Z"
   },
   {
    "duration": 6,
    "start_time": "2022-02-08T12:37:30.890Z"
   },
   {
    "duration": 8,
    "start_time": "2022-02-08T12:37:39.265Z"
   },
   {
    "duration": 114,
    "start_time": "2022-02-08T12:37:56.299Z"
   },
   {
    "duration": 9,
    "start_time": "2022-02-08T12:38:40.174Z"
   },
   {
    "duration": 9,
    "start_time": "2022-02-08T12:39:21.720Z"
   },
   {
    "duration": 13,
    "start_time": "2022-02-08T12:39:37.670Z"
   },
   {
    "duration": 9,
    "start_time": "2022-02-08T12:39:57.882Z"
   },
   {
    "duration": 10,
    "start_time": "2022-02-08T12:42:21.123Z"
   },
   {
    "duration": 7,
    "start_time": "2022-02-08T12:43:32.949Z"
   },
   {
    "duration": 16,
    "start_time": "2022-02-08T12:43:35.272Z"
   },
   {
    "duration": 7,
    "start_time": "2022-02-08T12:46:47.471Z"
   },
   {
    "duration": 18,
    "start_time": "2022-02-08T12:46:51.016Z"
   },
   {
    "duration": 663,
    "start_time": "2022-02-08T12:59:35.847Z"
   },
   {
    "duration": 9446,
    "start_time": "2022-02-08T13:01:24.144Z"
   },
   {
    "duration": 6,
    "start_time": "2022-02-08T13:01:48.440Z"
   },
   {
    "duration": 5,
    "start_time": "2022-02-08T13:05:57.390Z"
   },
   {
    "duration": 5,
    "start_time": "2022-02-08T13:06:03.471Z"
   },
   {
    "duration": 5,
    "start_time": "2022-02-08T13:06:43.284Z"
   },
   {
    "duration": 5,
    "start_time": "2022-02-08T13:17:05.772Z"
   },
   {
    "duration": 19,
    "start_time": "2022-02-08T13:17:18.500Z"
   },
   {
    "duration": 4,
    "start_time": "2022-02-08T13:18:33.822Z"
   },
   {
    "duration": 101,
    "start_time": "2022-02-08T13:18:33.829Z"
   },
   {
    "duration": 27,
    "start_time": "2022-02-08T13:18:33.935Z"
   },
   {
    "duration": 15,
    "start_time": "2022-02-08T13:18:33.965Z"
   },
   {
    "duration": 26,
    "start_time": "2022-02-08T13:18:33.983Z"
   },
   {
    "duration": 47,
    "start_time": "2022-02-08T13:18:34.012Z"
   },
   {
    "duration": 9,
    "start_time": "2022-02-08T13:18:34.062Z"
   },
   {
    "duration": 7,
    "start_time": "2022-02-08T13:18:34.074Z"
   },
   {
    "duration": 17,
    "start_time": "2022-02-08T13:18:34.084Z"
   },
   {
    "duration": 667,
    "start_time": "2022-02-08T13:18:34.104Z"
   },
   {
    "duration": 5,
    "start_time": "2022-02-08T13:18:34.774Z"
   },
   {
    "duration": 5,
    "start_time": "2022-02-08T13:18:34.782Z"
   },
   {
    "duration": 19,
    "start_time": "2022-02-08T13:18:34.789Z"
   },
   {
    "duration": 3,
    "start_time": "2022-02-08T13:18:58.834Z"
   },
   {
    "duration": 65,
    "start_time": "2022-02-08T13:18:58.840Z"
   },
   {
    "duration": 19,
    "start_time": "2022-02-08T13:18:58.908Z"
   },
   {
    "duration": 40,
    "start_time": "2022-02-08T13:18:58.929Z"
   },
   {
    "duration": 21,
    "start_time": "2022-02-08T13:18:58.971Z"
   },
   {
    "duration": 8,
    "start_time": "2022-02-08T13:18:58.994Z"
   },
   {
    "duration": 8,
    "start_time": "2022-02-08T13:18:59.004Z"
   },
   {
    "duration": 47,
    "start_time": "2022-02-08T13:18:59.014Z"
   },
   {
    "duration": 15,
    "start_time": "2022-02-08T13:18:59.064Z"
   },
   {
    "duration": 859,
    "start_time": "2022-02-08T13:18:59.081Z"
   },
   {
    "duration": 5,
    "start_time": "2022-02-08T13:18:59.943Z"
   },
   {
    "duration": 4,
    "start_time": "2022-02-08T13:18:59.960Z"
   },
   {
    "duration": 19,
    "start_time": "2022-02-08T13:18:59.966Z"
   },
   {
    "duration": 35,
    "start_time": "2022-02-08T13:37:33.290Z"
   },
   {
    "duration": 35,
    "start_time": "2022-02-08T13:37:59.144Z"
   },
   {
    "duration": 34,
    "start_time": "2022-02-08T13:38:43.198Z"
   },
   {
    "duration": 35,
    "start_time": "2022-02-08T13:38:47.807Z"
   },
   {
    "duration": 35,
    "start_time": "2022-02-08T13:39:23.791Z"
   },
   {
    "duration": 35,
    "start_time": "2022-02-08T13:39:43.935Z"
   },
   {
    "duration": 139,
    "start_time": "2022-02-08T13:44:37.664Z"
   },
   {
    "duration": 18,
    "start_time": "2022-02-08T13:44:54.495Z"
   },
   {
    "duration": 15,
    "start_time": "2022-02-08T13:49:55.167Z"
   },
   {
    "duration": 158,
    "start_time": "2022-02-08T13:50:11.908Z"
   },
   {
    "duration": 153,
    "start_time": "2022-02-08T13:50:17.499Z"
   },
   {
    "duration": 120,
    "start_time": "2022-02-08T13:51:00.606Z"
   },
   {
    "duration": 30,
    "start_time": "2022-02-08T13:51:19.809Z"
   },
   {
    "duration": 24,
    "start_time": "2022-02-08T13:51:49.037Z"
   },
   {
    "duration": 420,
    "start_time": "2022-02-08T13:54:49.838Z"
   },
   {
    "duration": 26,
    "start_time": "2022-02-08T13:54:57.747Z"
   },
   {
    "duration": 57,
    "start_time": "2022-02-08T13:55:24.851Z"
   },
   {
    "duration": 34,
    "start_time": "2022-02-08T13:55:41.281Z"
   },
   {
    "duration": 23,
    "start_time": "2022-02-08T14:01:54.183Z"
   },
   {
    "duration": 25,
    "start_time": "2022-02-08T14:02:48.728Z"
   },
   {
    "duration": 23,
    "start_time": "2022-02-08T14:02:54.889Z"
   },
   {
    "duration": 47,
    "start_time": "2022-02-08T14:03:14.020Z"
   },
   {
    "duration": 22,
    "start_time": "2022-02-08T14:04:34.860Z"
   },
   {
    "duration": 41,
    "start_time": "2022-02-08T14:05:59.768Z"
   },
   {
    "duration": 11,
    "start_time": "2022-02-08T14:08:32.656Z"
   },
   {
    "duration": 16,
    "start_time": "2022-02-08T14:08:52.682Z"
   },
   {
    "duration": 14,
    "start_time": "2022-02-08T14:09:12.221Z"
   },
   {
    "duration": 9,
    "start_time": "2022-02-08T14:17:10.646Z"
   },
   {
    "duration": 10,
    "start_time": "2022-02-08T14:18:32.335Z"
   },
   {
    "duration": 11,
    "start_time": "2022-02-08T14:21:30.518Z"
   },
   {
    "duration": 412,
    "start_time": "2022-02-08T14:26:11.477Z"
   },
   {
    "duration": 387,
    "start_time": "2022-02-08T14:26:26.145Z"
   },
   {
    "duration": 426,
    "start_time": "2022-02-08T14:27:13.237Z"
   },
   {
    "duration": 23,
    "start_time": "2022-02-08T14:27:22.294Z"
   },
   {
    "duration": 38,
    "start_time": "2022-02-08T14:27:32.653Z"
   },
   {
    "duration": 17,
    "start_time": "2022-02-08T14:29:25.910Z"
   },
   {
    "duration": 42,
    "start_time": "2022-02-08T14:33:02.612Z"
   },
   {
    "duration": 518,
    "start_time": "2022-02-08T19:41:09.708Z"
   },
   {
    "duration": 724,
    "start_time": "2022-02-08T19:41:21.297Z"
   },
   {
    "duration": 64,
    "start_time": "2022-02-08T19:41:22.024Z"
   },
   {
    "duration": 28,
    "start_time": "2022-02-08T19:41:22.091Z"
   },
   {
    "duration": 16,
    "start_time": "2022-02-08T19:41:22.121Z"
   },
   {
    "duration": 36,
    "start_time": "2022-02-08T19:41:22.140Z"
   },
   {
    "duration": 7,
    "start_time": "2022-02-08T19:41:22.178Z"
   },
   {
    "duration": 7,
    "start_time": "2022-02-08T19:41:22.187Z"
   },
   {
    "duration": 6,
    "start_time": "2022-02-08T19:41:22.197Z"
   },
   {
    "duration": 54,
    "start_time": "2022-02-08T19:41:22.205Z"
   },
   {
    "duration": 824,
    "start_time": "2022-02-08T19:41:22.261Z"
   },
   {
    "duration": 4,
    "start_time": "2022-02-08T19:41:23.088Z"
   },
   {
    "duration": 33,
    "start_time": "2022-02-08T19:41:23.094Z"
   },
   {
    "duration": 42,
    "start_time": "2022-02-08T19:41:23.130Z"
   },
   {
    "duration": 5,
    "start_time": "2022-02-08T19:41:23.173Z"
   },
   {
    "duration": 26,
    "start_time": "2022-02-08T19:41:23.180Z"
   },
   {
    "duration": 53,
    "start_time": "2022-02-08T19:41:23.209Z"
   },
   {
    "duration": 24,
    "start_time": "2022-02-08T19:41:23.265Z"
   },
   {
    "duration": 7,
    "start_time": "2022-02-08T19:41:29.276Z"
   },
   {
    "duration": 7,
    "start_time": "2022-02-08T19:44:12.038Z"
   },
   {
    "duration": 12,
    "start_time": "2022-02-08T19:44:20.626Z"
   },
   {
    "duration": 672,
    "start_time": "2022-02-08T19:56:11.531Z"
   },
   {
    "duration": 593,
    "start_time": "2022-02-08T19:57:09.954Z"
   },
   {
    "duration": 4,
    "start_time": "2022-02-08T19:58:01.408Z"
   },
   {
    "duration": 9702,
    "start_time": "2022-02-08T19:58:33.789Z"
   },
   {
    "duration": 822,
    "start_time": "2022-02-08T19:58:58.790Z"
   },
   {
    "duration": 16,
    "start_time": "2022-02-08T20:00:24.210Z"
   },
   {
    "duration": 19,
    "start_time": "2022-02-08T20:00:42.007Z"
   },
   {
    "duration": 5,
    "start_time": "2022-02-08T20:40:07.824Z"
   },
   {
    "duration": 16,
    "start_time": "2022-02-08T20:40:39.746Z"
   },
   {
    "duration": 7,
    "start_time": "2022-02-08T20:41:06.497Z"
   },
   {
    "duration": 8,
    "start_time": "2022-02-08T20:41:45.131Z"
   },
   {
    "duration": 10,
    "start_time": "2022-02-08T20:41:52.905Z"
   },
   {
    "duration": 37,
    "start_time": "2022-02-08T20:41:59.540Z"
   },
   {
    "duration": 7,
    "start_time": "2022-02-08T20:43:45.224Z"
   },
   {
    "duration": 13,
    "start_time": "2022-02-08T20:43:47.321Z"
   },
   {
    "duration": 7,
    "start_time": "2022-02-08T20:43:47.881Z"
   },
   {
    "duration": 6,
    "start_time": "2022-02-08T20:50:54.033Z"
   },
   {
    "duration": 14,
    "start_time": "2022-02-08T20:50:54.935Z"
   },
   {
    "duration": 7,
    "start_time": "2022-02-08T20:50:55.894Z"
   },
   {
    "duration": 3,
    "start_time": "2022-02-08T20:55:08.623Z"
   },
   {
    "duration": 74,
    "start_time": "2022-02-08T20:55:08.628Z"
   },
   {
    "duration": 19,
    "start_time": "2022-02-08T20:55:08.705Z"
   },
   {
    "duration": 16,
    "start_time": "2022-02-08T20:55:08.726Z"
   },
   {
    "duration": 20,
    "start_time": "2022-02-08T20:55:08.759Z"
   },
   {
    "duration": 7,
    "start_time": "2022-02-08T20:55:08.781Z"
   },
   {
    "duration": 11,
    "start_time": "2022-02-08T20:55:08.791Z"
   },
   {
    "duration": 6,
    "start_time": "2022-02-08T20:55:08.805Z"
   },
   {
    "duration": 55,
    "start_time": "2022-02-08T20:55:08.815Z"
   },
   {
    "duration": 845,
    "start_time": "2022-02-08T20:55:08.873Z"
   },
   {
    "duration": 5,
    "start_time": "2022-02-08T20:55:09.720Z"
   },
   {
    "duration": 57,
    "start_time": "2022-02-08T20:55:09.727Z"
   },
   {
    "duration": 16,
    "start_time": "2022-02-08T20:55:09.786Z"
   },
   {
    "duration": 4,
    "start_time": "2022-02-08T20:55:09.804Z"
   },
   {
    "duration": 16,
    "start_time": "2022-02-08T20:55:09.811Z"
   },
   {
    "duration": 57,
    "start_time": "2022-02-08T20:55:09.829Z"
   },
   {
    "duration": 25,
    "start_time": "2022-02-08T20:55:09.888Z"
   },
   {
    "duration": 11,
    "start_time": "2022-02-08T20:55:09.916Z"
   },
   {
    "duration": 34,
    "start_time": "2022-02-08T20:55:09.930Z"
   },
   {
    "duration": 14,
    "start_time": "2022-02-08T20:55:09.967Z"
   },
   {
    "duration": 6,
    "start_time": "2022-02-08T20:55:09.984Z"
   },
   {
    "duration": 19,
    "start_time": "2022-02-08T20:55:09.992Z"
   },
   {
    "duration": 49,
    "start_time": "2022-02-08T20:55:10.014Z"
   },
   {
    "duration": 4,
    "start_time": "2022-02-08T20:55:13.169Z"
   },
   {
    "duration": 18,
    "start_time": "2022-02-08T20:55:14.071Z"
   },
   {
    "duration": 7,
    "start_time": "2022-02-08T20:55:14.811Z"
   },
   {
    "duration": 56,
    "start_time": "2022-02-08T21:00:52.614Z"
   },
   {
    "duration": 438,
    "start_time": "2022-02-08T21:02:20.901Z"
   },
   {
    "duration": 48,
    "start_time": "2022-02-08T21:02:39.068Z"
   },
   {
    "duration": 15,
    "start_time": "2022-02-08T21:05:22.280Z"
   },
   {
    "duration": 353,
    "start_time": "2022-02-08T21:06:17.110Z"
   },
   {
    "duration": 15,
    "start_time": "2022-02-08T21:06:38.564Z"
   },
   {
    "duration": 1228,
    "start_time": "2022-02-10T12:25:23.537Z"
   },
   {
    "duration": 2139,
    "start_time": "2022-02-10T12:25:41.774Z"
   },
   {
    "duration": 3,
    "start_time": "2022-02-10T12:26:05.976Z"
   },
   {
    "duration": 62,
    "start_time": "2022-02-10T12:26:05.983Z"
   },
   {
    "duration": 21,
    "start_time": "2022-02-10T12:26:06.047Z"
   },
   {
    "duration": 38,
    "start_time": "2022-02-10T12:26:06.070Z"
   },
   {
    "duration": 15,
    "start_time": "2022-02-10T12:26:06.110Z"
   },
   {
    "duration": 6,
    "start_time": "2022-02-10T12:26:06.127Z"
   },
   {
    "duration": 10,
    "start_time": "2022-02-10T12:26:06.134Z"
   },
   {
    "duration": 55,
    "start_time": "2022-02-10T12:26:06.146Z"
   },
   {
    "duration": 12,
    "start_time": "2022-02-10T12:26:06.204Z"
   },
   {
    "duration": 553,
    "start_time": "2022-02-10T12:26:06.219Z"
   },
   {
    "duration": 4,
    "start_time": "2022-02-10T12:26:06.774Z"
   },
   {
    "duration": 43,
    "start_time": "2022-02-10T12:26:06.779Z"
   },
   {
    "duration": 18,
    "start_time": "2022-02-10T12:26:06.824Z"
   },
   {
    "duration": 10,
    "start_time": "2022-02-10T12:26:06.844Z"
   },
   {
    "duration": 33,
    "start_time": "2022-02-10T12:26:06.856Z"
   },
   {
    "duration": 36,
    "start_time": "2022-02-10T12:26:06.891Z"
   },
   {
    "duration": 20,
    "start_time": "2022-02-10T12:26:06.928Z"
   },
   {
    "duration": 6,
    "start_time": "2022-02-10T12:26:06.950Z"
   },
   {
    "duration": 20,
    "start_time": "2022-02-10T12:26:06.959Z"
   },
   {
    "duration": 22,
    "start_time": "2022-02-10T12:26:06.982Z"
   },
   {
    "duration": 10,
    "start_time": "2022-02-10T12:26:07.006Z"
   },
   {
    "duration": 14,
    "start_time": "2022-02-10T12:26:07.018Z"
   },
   {
    "duration": 15,
    "start_time": "2022-02-10T12:26:07.034Z"
   },
   {
    "duration": 17,
    "start_time": "2022-02-10T12:26:07.052Z"
   },
   {
    "duration": 35,
    "start_time": "2022-02-10T12:26:07.071Z"
   },
   {
    "duration": 6,
    "start_time": "2022-02-10T12:26:07.108Z"
   },
   {
    "duration": 13,
    "start_time": "2022-02-10T12:26:12.719Z"
   },
   {
    "duration": 8,
    "start_time": "2022-02-10T12:28:16.054Z"
   },
   {
    "duration": 16,
    "start_time": "2022-02-10T12:28:43.019Z"
   },
   {
    "duration": 285,
    "start_time": "2022-02-10T12:29:40.645Z"
   },
   {
    "duration": 268,
    "start_time": "2022-02-10T12:29:51.785Z"
   },
   {
    "duration": 9554,
    "start_time": "2022-02-10T12:31:33.493Z"
   },
   {
    "duration": 7987,
    "start_time": "2022-02-10T12:32:08.547Z"
   },
   {
    "duration": 6,
    "start_time": "2022-02-10T12:32:32.077Z"
   },
   {
    "duration": 10,
    "start_time": "2022-02-10T12:32:44.863Z"
   },
   {
    "duration": 5,
    "start_time": "2022-02-10T12:32:56.624Z"
   },
   {
    "duration": 6793,
    "start_time": "2022-02-10T12:33:14.640Z"
   },
   {
    "duration": 5,
    "start_time": "2022-02-10T12:38:13.918Z"
   },
   {
    "duration": 7197,
    "start_time": "2022-02-10T12:38:31.622Z"
   },
   {
    "duration": 6,
    "start_time": "2022-02-10T12:38:50.212Z"
   },
   {
    "duration": 7,
    "start_time": "2022-02-10T12:39:03.911Z"
   },
   {
    "duration": 90,
    "start_time": "2022-02-10T12:39:18.115Z"
   },
   {
    "duration": 7,
    "start_time": "2022-02-10T12:39:22.082Z"
   },
   {
    "duration": 7226,
    "start_time": "2022-02-10T12:39:29.469Z"
   },
   {
    "duration": 5781,
    "start_time": "2022-02-10T12:40:55.714Z"
   },
   {
    "duration": 273,
    "start_time": "2022-02-10T12:41:19.629Z"
   },
   {
    "duration": 6,
    "start_time": "2022-02-10T12:41:29.023Z"
   },
   {
    "duration": 88,
    "start_time": "2022-02-10T13:23:03.749Z"
   },
   {
    "duration": 1793,
    "start_time": "2022-02-10T13:23:12.134Z"
   },
   {
    "duration": 6502,
    "start_time": "2022-02-10T13:23:32.378Z"
   },
   {
    "duration": 6524,
    "start_time": "2022-02-10T13:23:46.174Z"
   },
   {
    "duration": 8,
    "start_time": "2022-02-10T13:24:52.582Z"
   },
   {
    "duration": 5,
    "start_time": "2022-02-10T13:25:04.428Z"
   },
   {
    "duration": 5,
    "start_time": "2022-02-10T13:25:42.378Z"
   },
   {
    "duration": 4,
    "start_time": "2022-02-10T14:00:14.374Z"
   },
   {
    "duration": 7,
    "start_time": "2022-02-10T14:00:37.210Z"
   },
   {
    "duration": 6,
    "start_time": "2022-02-10T14:01:10.351Z"
   },
   {
    "duration": 1137,
    "start_time": "2022-02-10T19:24:37.134Z"
   },
   {
    "duration": 46,
    "start_time": "2022-02-10T19:24:38.273Z"
   },
   {
    "duration": 14,
    "start_time": "2022-02-10T19:24:38.321Z"
   },
   {
    "duration": 9,
    "start_time": "2022-02-10T19:24:38.337Z"
   },
   {
    "duration": 11,
    "start_time": "2022-02-10T19:24:38.348Z"
   },
   {
    "duration": 4,
    "start_time": "2022-02-10T19:24:38.372Z"
   },
   {
    "duration": 6,
    "start_time": "2022-02-10T19:24:38.377Z"
   },
   {
    "duration": 4,
    "start_time": "2022-02-10T19:24:38.384Z"
   },
   {
    "duration": 9,
    "start_time": "2022-02-10T19:24:38.391Z"
   },
   {
    "duration": 495,
    "start_time": "2022-02-10T19:24:38.402Z"
   },
   {
    "duration": 4,
    "start_time": "2022-02-10T19:24:38.899Z"
   },
   {
    "duration": 23,
    "start_time": "2022-02-10T19:24:38.905Z"
   },
   {
    "duration": 11,
    "start_time": "2022-02-10T19:24:38.930Z"
   },
   {
    "duration": 3,
    "start_time": "2022-02-10T19:24:38.942Z"
   },
   {
    "duration": 32,
    "start_time": "2022-02-10T19:24:38.947Z"
   },
   {
    "duration": 18,
    "start_time": "2022-02-10T19:24:38.981Z"
   },
   {
    "duration": 14,
    "start_time": "2022-02-10T19:24:39.000Z"
   },
   {
    "duration": 5,
    "start_time": "2022-02-10T19:24:39.015Z"
   },
   {
    "duration": 6,
    "start_time": "2022-02-10T19:24:39.021Z"
   },
   {
    "duration": 9,
    "start_time": "2022-02-10T19:24:39.028Z"
   },
   {
    "duration": 34,
    "start_time": "2022-02-10T19:24:39.038Z"
   },
   {
    "duration": 10,
    "start_time": "2022-02-10T19:24:39.074Z"
   },
   {
    "duration": 12,
    "start_time": "2022-02-10T19:24:39.085Z"
   },
   {
    "duration": 8,
    "start_time": "2022-02-10T19:24:39.099Z"
   },
   {
    "duration": 18,
    "start_time": "2022-02-10T19:24:39.109Z"
   },
   {
    "duration": 9,
    "start_time": "2022-02-10T19:24:39.129Z"
   },
   {
    "duration": 7,
    "start_time": "2022-02-10T19:24:39.142Z"
   },
   {
    "duration": 463,
    "start_time": "2022-02-10T19:25:09.466Z"
   },
   {
    "duration": 314,
    "start_time": "2022-02-10T19:28:59.161Z"
   },
   {
    "duration": 323,
    "start_time": "2022-02-10T19:29:33.880Z"
   },
   {
    "duration": 9,
    "start_time": "2022-02-10T19:30:30.681Z"
   },
   {
    "duration": 296,
    "start_time": "2022-02-10T19:32:23.991Z"
   },
   {
    "duration": 9,
    "start_time": "2022-02-10T19:32:38.529Z"
   },
   {
    "duration": 9,
    "start_time": "2022-02-10T19:32:58.297Z"
   },
   {
    "duration": 4,
    "start_time": "2022-02-10T19:34:19.348Z"
   },
   {
    "duration": 4,
    "start_time": "2022-02-10T19:34:32.534Z"
   },
   {
    "duration": 3,
    "start_time": "2022-02-10T19:34:40.745Z"
   },
   {
    "duration": 4,
    "start_time": "2022-02-10T19:34:55.387Z"
   },
   {
    "duration": 3,
    "start_time": "2022-02-10T19:35:05.644Z"
   },
   {
    "duration": 4,
    "start_time": "2022-02-10T19:35:12.496Z"
   },
   {
    "duration": 371,
    "start_time": "2022-02-10T19:37:58.663Z"
   },
   {
    "duration": 348,
    "start_time": "2022-02-10T19:38:18.114Z"
   },
   {
    "duration": 545,
    "start_time": "2022-02-10T19:38:30.375Z"
   },
   {
    "duration": 542,
    "start_time": "2022-02-10T19:38:35.428Z"
   },
   {
    "duration": 1251,
    "start_time": "2022-02-10T19:38:59.180Z"
   },
   {
    "duration": 11,
    "start_time": "2022-02-10T19:39:26.035Z"
   },
   {
    "duration": 8,
    "start_time": "2022-02-10T19:39:40.815Z"
   },
   {
    "duration": 1284,
    "start_time": "2022-02-10T19:40:00.431Z"
   },
   {
    "duration": 105,
    "start_time": "2022-02-10T19:40:44.998Z"
   },
   {
    "duration": 306,
    "start_time": "2022-02-10T20:27:19.366Z"
   },
   {
    "duration": 26,
    "start_time": "2022-02-10T20:32:40.752Z"
   },
   {
    "duration": 319,
    "start_time": "2022-02-10T20:44:07.488Z"
   },
   {
    "duration": 15,
    "start_time": "2022-02-10T21:05:51.187Z"
   },
   {
    "duration": 1109,
    "start_time": "2022-02-11T09:33:46.683Z"
   },
   {
    "duration": 45,
    "start_time": "2022-02-11T09:33:47.794Z"
   },
   {
    "duration": 20,
    "start_time": "2022-02-11T09:33:47.841Z"
   },
   {
    "duration": 15,
    "start_time": "2022-02-11T09:33:47.864Z"
   },
   {
    "duration": 13,
    "start_time": "2022-02-11T09:33:47.881Z"
   },
   {
    "duration": 5,
    "start_time": "2022-02-11T09:33:47.896Z"
   },
   {
    "duration": 7,
    "start_time": "2022-02-11T09:33:47.903Z"
   },
   {
    "duration": 4,
    "start_time": "2022-02-11T09:33:47.913Z"
   },
   {
    "duration": 47,
    "start_time": "2022-02-11T09:33:47.919Z"
   },
   {
    "duration": 446,
    "start_time": "2022-02-11T09:33:47.967Z"
   },
   {
    "duration": 4,
    "start_time": "2022-02-11T09:33:48.414Z"
   },
   {
    "duration": 40,
    "start_time": "2022-02-11T09:33:48.419Z"
   },
   {
    "duration": 13,
    "start_time": "2022-02-11T09:33:48.460Z"
   },
   {
    "duration": 4,
    "start_time": "2022-02-11T09:33:48.475Z"
   },
   {
    "duration": 16,
    "start_time": "2022-02-11T09:33:48.480Z"
   },
   {
    "duration": 20,
    "start_time": "2022-02-11T09:33:48.498Z"
   },
   {
    "duration": 15,
    "start_time": "2022-02-11T09:33:48.519Z"
   },
   {
    "duration": 5,
    "start_time": "2022-02-11T09:33:48.559Z"
   },
   {
    "duration": 10,
    "start_time": "2022-02-11T09:33:48.565Z"
   },
   {
    "duration": 12,
    "start_time": "2022-02-11T09:33:48.576Z"
   },
   {
    "duration": 4,
    "start_time": "2022-02-11T09:33:48.589Z"
   },
   {
    "duration": 13,
    "start_time": "2022-02-11T09:33:48.594Z"
   },
   {
    "duration": 11,
    "start_time": "2022-02-11T09:33:48.610Z"
   },
   {
    "duration": 7,
    "start_time": "2022-02-11T09:33:48.623Z"
   },
   {
    "duration": 27,
    "start_time": "2022-02-11T09:33:48.631Z"
   },
   {
    "duration": 5,
    "start_time": "2022-02-11T09:33:48.660Z"
   },
   {
    "duration": 17,
    "start_time": "2022-02-11T09:33:58.660Z"
   },
   {
    "duration": 21,
    "start_time": "2022-02-11T09:34:11.865Z"
   },
   {
    "duration": 327,
    "start_time": "2022-02-11T09:37:21.639Z"
   },
   {
    "duration": 19,
    "start_time": "2022-02-11T09:37:49.399Z"
   },
   {
    "duration": 18,
    "start_time": "2022-02-11T09:45:40.079Z"
   },
   {
    "duration": 18,
    "start_time": "2022-02-11T09:45:53.255Z"
   },
   {
    "duration": 20,
    "start_time": "2022-02-11T09:46:13.457Z"
   },
   {
    "duration": 19,
    "start_time": "2022-02-11T09:46:19.693Z"
   },
   {
    "duration": 19,
    "start_time": "2022-02-11T09:46:29.484Z"
   },
   {
    "duration": 17,
    "start_time": "2022-02-11T09:46:48.406Z"
   },
   {
    "duration": 18,
    "start_time": "2022-02-11T09:49:00.435Z"
   },
   {
    "duration": 4456,
    "start_time": "2022-02-11T09:58:46.546Z"
   },
   {
    "duration": 4607,
    "start_time": "2022-02-11T09:59:07.670Z"
   },
   {
    "duration": 179,
    "start_time": "2022-02-11T10:14:11.742Z"
   },
   {
    "duration": 19,
    "start_time": "2022-02-11T10:16:37.528Z"
   },
   {
    "duration": 23,
    "start_time": "2022-02-11T10:23:34.145Z"
   },
   {
    "duration": 27,
    "start_time": "2022-02-11T10:23:44.557Z"
   },
   {
    "duration": 24,
    "start_time": "2022-02-11T10:23:58.031Z"
   },
   {
    "duration": 41,
    "start_time": "2022-02-11T10:24:28.599Z"
   },
   {
    "duration": 4504,
    "start_time": "2022-02-11T10:27:57.544Z"
   },
   {
    "duration": 18,
    "start_time": "2022-02-11T10:29:17.039Z"
   },
   {
    "duration": 208,
    "start_time": "2022-02-11T10:29:35.507Z"
   },
   {
    "duration": 178,
    "start_time": "2022-02-11T10:29:50.459Z"
   },
   {
    "duration": 22,
    "start_time": "2022-02-11T10:30:02.456Z"
   },
   {
    "duration": 20,
    "start_time": "2022-02-11T10:58:21.010Z"
   },
   {
    "duration": 20,
    "start_time": "2022-02-11T11:07:51.599Z"
   },
   {
    "duration": 19,
    "start_time": "2022-02-11T11:09:26.218Z"
   },
   {
    "duration": 20,
    "start_time": "2022-02-11T11:11:17.590Z"
   },
   {
    "duration": 45,
    "start_time": "2022-02-11T11:14:59.268Z"
   },
   {
    "duration": 24,
    "start_time": "2022-02-11T11:15:11.591Z"
   },
   {
    "duration": 19,
    "start_time": "2022-02-11T11:15:19.731Z"
   },
   {
    "duration": 9,
    "start_time": "2022-02-11T11:21:53.060Z"
   },
   {
    "duration": 15,
    "start_time": "2022-02-11T11:22:19.659Z"
   },
   {
    "duration": 17,
    "start_time": "2022-02-11T11:25:09.886Z"
   },
   {
    "duration": 13,
    "start_time": "2022-02-11T11:25:13.540Z"
   },
   {
    "duration": 4582,
    "start_time": "2022-02-11T11:26:03.803Z"
   },
   {
    "duration": 4531,
    "start_time": "2022-02-11T11:26:24.832Z"
   },
   {
    "duration": 198,
    "start_time": "2022-02-11T11:26:36.128Z"
   },
   {
    "duration": 195,
    "start_time": "2022-02-11T11:26:42.235Z"
   },
   {
    "duration": 13,
    "start_time": "2022-02-11T11:27:38.570Z"
   },
   {
    "duration": 208,
    "start_time": "2022-02-11T11:27:52.798Z"
   },
   {
    "duration": 207,
    "start_time": "2022-02-11T11:27:56.037Z"
   },
   {
    "duration": 193,
    "start_time": "2022-02-11T11:28:00.669Z"
   },
   {
    "duration": 11,
    "start_time": "2022-02-11T11:29:16.779Z"
   },
   {
    "duration": 65,
    "start_time": "2022-02-11T11:29:27.047Z"
   },
   {
    "duration": 165,
    "start_time": "2022-02-11T11:29:39.275Z"
   },
   {
    "duration": 167,
    "start_time": "2022-02-11T11:32:16.332Z"
   },
   {
    "duration": 161,
    "start_time": "2022-02-11T11:32:31.102Z"
   },
   {
    "duration": 14,
    "start_time": "2022-02-11T11:40:13.480Z"
   },
   {
    "duration": 153,
    "start_time": "2022-02-11T11:40:19.755Z"
   },
   {
    "duration": 2,
    "start_time": "2022-02-11T11:41:25.467Z"
   },
   {
    "duration": 10,
    "start_time": "2022-02-11T11:49:09.771Z"
   },
   {
    "duration": 14,
    "start_time": "2022-02-11T11:49:17.035Z"
   },
   {
    "duration": 153,
    "start_time": "2022-02-11T11:51:04.564Z"
   },
   {
    "duration": 148,
    "start_time": "2022-02-11T11:51:36.179Z"
   },
   {
    "duration": 13,
    "start_time": "2022-02-11T11:52:02.267Z"
   },
   {
    "duration": 13,
    "start_time": "2022-02-11T11:52:27.704Z"
   },
   {
    "duration": 14,
    "start_time": "2022-02-11T11:53:02.350Z"
   },
   {
    "duration": 215,
    "start_time": "2022-02-11T11:53:06.045Z"
   },
   {
    "duration": 144,
    "start_time": "2022-02-11T11:53:12.372Z"
   },
   {
    "duration": 180,
    "start_time": "2022-02-11T11:58:39.092Z"
   },
   {
    "duration": 4961,
    "start_time": "2022-02-11T11:58:58.780Z"
   },
   {
    "duration": 278,
    "start_time": "2022-02-11T11:59:16.166Z"
   },
   {
    "duration": 291,
    "start_time": "2022-02-11T11:59:50.403Z"
   },
   {
    "duration": 15,
    "start_time": "2022-02-11T12:11:44.527Z"
   },
   {
    "duration": 161,
    "start_time": "2022-02-11T12:12:22.238Z"
   },
   {
    "duration": 16,
    "start_time": "2022-02-11T12:14:42.897Z"
   },
   {
    "duration": 143,
    "start_time": "2022-02-11T12:14:43.836Z"
   },
   {
    "duration": 16,
    "start_time": "2022-02-11T12:19:36.060Z"
   },
   {
    "duration": 149,
    "start_time": "2022-02-11T12:21:43.536Z"
   },
   {
    "duration": 153,
    "start_time": "2022-02-11T12:21:58.634Z"
   },
   {
    "duration": 157,
    "start_time": "2022-02-11T12:22:04.541Z"
   },
   {
    "duration": 154,
    "start_time": "2022-02-11T12:22:42.734Z"
   },
   {
    "duration": 13,
    "start_time": "2022-02-11T12:23:22.423Z"
   },
   {
    "duration": 158,
    "start_time": "2022-02-11T12:23:22.969Z"
   },
   {
    "duration": 14,
    "start_time": "2022-02-11T12:23:51.906Z"
   },
   {
    "duration": 417,
    "start_time": "2022-02-11T12:23:52.426Z"
   },
   {
    "duration": 14,
    "start_time": "2022-02-11T12:24:06.480Z"
   },
   {
    "duration": 175,
    "start_time": "2022-02-11T12:24:07.031Z"
   },
   {
    "duration": 15,
    "start_time": "2022-02-11T12:24:11.295Z"
   },
   {
    "duration": 287,
    "start_time": "2022-02-11T12:24:12.111Z"
   },
   {
    "duration": 15,
    "start_time": "2022-02-11T12:24:19.385Z"
   },
   {
    "duration": 155,
    "start_time": "2022-02-11T12:24:20.140Z"
   },
   {
    "duration": 144,
    "start_time": "2022-02-11T12:24:40.270Z"
   },
   {
    "duration": 146,
    "start_time": "2022-02-11T12:24:50.913Z"
   },
   {
    "duration": 17,
    "start_time": "2022-02-11T12:24:55.646Z"
   },
   {
    "duration": 152,
    "start_time": "2022-02-11T12:24:56.018Z"
   },
   {
    "duration": 183,
    "start_time": "2022-02-11T12:26:18.461Z"
   },
   {
    "duration": 2,
    "start_time": "2022-02-11T14:22:18.207Z"
   },
   {
    "duration": 10,
    "start_time": "2022-02-11T14:22:48.914Z"
   },
   {
    "duration": 3,
    "start_time": "2022-02-11T14:23:09.995Z"
   },
   {
    "duration": 46,
    "start_time": "2022-02-11T14:23:10.350Z"
   },
   {
    "duration": 15,
    "start_time": "2022-02-11T14:23:10.855Z"
   },
   {
    "duration": 11,
    "start_time": "2022-02-11T14:23:12.852Z"
   },
   {
    "duration": 60,
    "start_time": "2022-02-11T14:52:00.164Z"
   },
   {
    "duration": 3,
    "start_time": "2022-02-11T15:00:31.437Z"
   },
   {
    "duration": 3,
    "start_time": "2022-02-11T15:27:26.602Z"
   },
   {
    "duration": 50,
    "start_time": "2022-02-11T15:27:26.606Z"
   },
   {
    "duration": 18,
    "start_time": "2022-02-11T15:27:26.659Z"
   },
   {
    "duration": 16,
    "start_time": "2022-02-11T15:27:26.679Z"
   },
   {
    "duration": 16,
    "start_time": "2022-02-11T15:27:26.697Z"
   },
   {
    "duration": 5,
    "start_time": "2022-02-11T15:27:26.714Z"
   },
   {
    "duration": 38,
    "start_time": "2022-02-11T15:27:26.722Z"
   },
   {
    "duration": 5,
    "start_time": "2022-02-11T15:27:26.762Z"
   },
   {
    "duration": 15,
    "start_time": "2022-02-11T15:27:26.768Z"
   },
   {
    "duration": 481,
    "start_time": "2022-02-11T15:27:26.785Z"
   },
   {
    "duration": 3,
    "start_time": "2022-02-11T15:27:27.268Z"
   },
   {
    "duration": 27,
    "start_time": "2022-02-11T15:27:27.273Z"
   },
   {
    "duration": 12,
    "start_time": "2022-02-11T15:27:27.302Z"
   },
   {
    "duration": 3,
    "start_time": "2022-02-11T15:27:27.315Z"
   },
   {
    "duration": 40,
    "start_time": "2022-02-11T15:27:27.320Z"
   },
   {
    "duration": 19,
    "start_time": "2022-02-11T15:27:27.361Z"
   },
   {
    "duration": 16,
    "start_time": "2022-02-11T15:27:27.382Z"
   },
   {
    "duration": 5,
    "start_time": "2022-02-11T15:27:27.400Z"
   },
   {
    "duration": 20,
    "start_time": "2022-02-11T15:27:27.408Z"
   },
   {
    "duration": 10,
    "start_time": "2022-02-11T15:27:27.430Z"
   },
   {
    "duration": 4,
    "start_time": "2022-02-11T15:27:27.441Z"
   },
   {
    "duration": 9,
    "start_time": "2022-02-11T15:27:27.459Z"
   },
   {
    "duration": 13,
    "start_time": "2022-02-11T15:27:27.469Z"
   },
   {
    "duration": 3,
    "start_time": "2022-02-11T15:27:27.484Z"
   },
   {
    "duration": 12,
    "start_time": "2022-02-11T15:27:27.488Z"
   },
   {
    "duration": 7,
    "start_time": "2022-02-11T15:27:27.501Z"
   },
   {
    "duration": 21,
    "start_time": "2022-02-11T15:27:27.510Z"
   },
   {
    "duration": 180,
    "start_time": "2022-02-11T15:27:27.532Z"
   },
   {
    "duration": 13,
    "start_time": "2022-02-11T15:27:27.714Z"
   },
   {
    "duration": 287,
    "start_time": "2022-02-11T15:27:27.729Z"
   },
   {
    "duration": 14,
    "start_time": "2022-02-11T15:27:28.018Z"
   },
   {
    "duration": 162,
    "start_time": "2022-02-11T15:27:28.033Z"
   },
   {
    "duration": 15,
    "start_time": "2022-02-11T15:27:28.197Z"
   },
   {
    "duration": 163,
    "start_time": "2022-02-11T15:27:28.213Z"
   },
   {
    "duration": 1488,
    "start_time": "2022-02-17T17:34:51.535Z"
   },
   {
    "duration": 65,
    "start_time": "2022-02-17T17:34:53.026Z"
   },
   {
    "duration": 23,
    "start_time": "2022-02-17T17:34:53.094Z"
   },
   {
    "duration": 20,
    "start_time": "2022-02-17T17:34:53.120Z"
   },
   {
    "duration": 36,
    "start_time": "2022-02-17T17:34:53.142Z"
   },
   {
    "duration": 8,
    "start_time": "2022-02-17T17:34:53.180Z"
   },
   {
    "duration": 10,
    "start_time": "2022-02-17T17:34:53.190Z"
   },
   {
    "duration": 6,
    "start_time": "2022-02-17T17:34:53.204Z"
   },
   {
    "duration": 56,
    "start_time": "2022-02-17T17:34:53.213Z"
   },
   {
    "duration": 819,
    "start_time": "2022-02-17T17:34:53.271Z"
   },
   {
    "duration": 5,
    "start_time": "2022-02-17T17:34:54.093Z"
   },
   {
    "duration": 61,
    "start_time": "2022-02-17T17:34:54.101Z"
   },
   {
    "duration": 16,
    "start_time": "2022-02-17T17:34:54.165Z"
   },
   {
    "duration": 5,
    "start_time": "2022-02-17T17:34:54.183Z"
   },
   {
    "duration": 22,
    "start_time": "2022-02-17T17:34:54.191Z"
   },
   {
    "duration": 61,
    "start_time": "2022-02-17T17:34:54.216Z"
   },
   {
    "duration": 23,
    "start_time": "2022-02-17T17:34:54.279Z"
   },
   {
    "duration": 8,
    "start_time": "2022-02-17T17:34:54.305Z"
   },
   {
    "duration": 9,
    "start_time": "2022-02-17T17:34:54.315Z"
   },
   {
    "duration": 45,
    "start_time": "2022-02-17T17:34:54.326Z"
   },
   {
    "duration": 5,
    "start_time": "2022-02-17T17:34:54.374Z"
   },
   {
    "duration": 18,
    "start_time": "2022-02-17T17:34:54.382Z"
   },
   {
    "duration": 17,
    "start_time": "2022-02-17T17:34:54.406Z"
   },
   {
    "duration": 37,
    "start_time": "2022-02-17T17:34:54.427Z"
   },
   {
    "duration": 17,
    "start_time": "2022-02-17T17:34:54.467Z"
   },
   {
    "duration": 7,
    "start_time": "2022-02-17T17:34:54.487Z"
   },
   {
    "duration": 27,
    "start_time": "2022-02-17T17:34:54.497Z"
   },
   {
    "duration": 309,
    "start_time": "2022-02-17T17:34:54.527Z"
   },
   {
    "duration": 29,
    "start_time": "2022-02-17T17:34:54.838Z"
   },
   {
    "duration": 504,
    "start_time": "2022-02-17T17:34:54.870Z"
   },
   {
    "duration": 32,
    "start_time": "2022-02-17T17:34:55.378Z"
   },
   {
    "duration": 273,
    "start_time": "2022-02-17T17:34:55.413Z"
   },
   {
    "duration": 27,
    "start_time": "2022-02-17T17:34:55.689Z"
   },
   {
    "duration": 280,
    "start_time": "2022-02-17T17:34:55.718Z"
   },
   {
    "duration": 11,
    "start_time": "2022-02-17T17:36:59.305Z"
   },
   {
    "duration": 798,
    "start_time": "2022-02-17T17:37:11.769Z"
   },
   {
    "duration": 10,
    "start_time": "2022-02-17T17:37:14.457Z"
   }
  ],
  "kernelspec": {
   "display_name": "Python 3 (ipykernel)",
   "language": "python",
   "name": "python3"
  },
  "language_info": {
   "codemirror_mode": {
    "name": "ipython",
    "version": 3
   },
   "file_extension": ".py",
   "mimetype": "text/x-python",
   "name": "python",
   "nbconvert_exporter": "python",
   "pygments_lexer": "ipython3",
   "version": "3.9.12"
  },
  "toc": {
   "base_numbering": 1,
   "nav_menu": {},
   "number_sections": true,
   "sideBar": true,
   "skip_h1_title": true,
   "title_cell": "Table of Contents",
   "title_sidebar": "Contents",
   "toc_cell": false,
   "toc_position": {},
   "toc_section_display": true,
   "toc_window_display": false
  }
 },
 "nbformat": 4,
 "nbformat_minor": 5
}
