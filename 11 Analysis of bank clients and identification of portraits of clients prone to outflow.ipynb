{
 "cells": [
  {
   "cell_type": "markdown",
   "metadata": {},
   "source": [
    "# Декомпозиция проекта\n",
    "«Метанпромбанк» — деньги не пахнут!\n",
    "\n",
    "<b>Первично поставленная задача:</b> проанализировать клиентов банка и выделить портрет клиентов, склонных к оттоку.\n",
    "* <b>Чего хотят достичь и зачем?</b> Может требуется прогнозирующий алгоритм!?\n",
    "* <b>Кто заинтересован в результате вашей работы?</b> Директор, менеджер, аналитик, маркетолог!?\n",
    "* <b>Какие решения будут предприняты на основании вашего анализа?</b> Перестройка политики, отношения банка к клиентам или увеличение лояльности клиентов!?\n",
    "\n",
    "\n",
    "Возможно задача формулируется конкретнее: На основании действий и активности клиентов, выделить портреты типичных пользователей и выявить портреты склонные к оттоку. \n",
    "\n",
    "Возможно потребуется проверить некоторые гипотезы:\n",
    "* Взаимосвязь активности клиента и оттока\n",
    "* Зависимость количества продуктов открытых в банке и вероятность ухода\n",
    "* Связь между баллами кредитного скоринга и вероятностью оттока\n",
    "* Влияние кредитной карты на вероятность оттока\n",
    "* Влияние благосостояние клиента и вероятность оттока\n",
    "\n",
    "\n",
    "Последнее подробнее можно разделить на подзадачи:\n",
    "* Разделить клиентов на некоторое количество групп в зависимости от заработной платы, количество объектов в собственности, возможно баланса\n",
    "* Проверить какая группа наиболее подвержена оттоку\n",
    "\n",
    "<b>План проекта:</b>\n",
    "\n",
    "<b>На основании действий и активности клиентов, выделить портреты типичных пользователей и выявить портреты склонные к оттоку</b>\n",
    "\n",
    "1 Инициализация данных и библиотек\n",
    "\n",
    "2 Предобработка данных:\n",
    "* Проверить корректность наименований колонок\n",
    "* Переименовать колонки\n",
    "* Исследовать пропущенные значения\n",
    "* Заменить пропущенные значения\n",
    "* Исследовать соответствие типов\n",
    "* Привести типы\n",
    "* Исследовать на наличие дубликатов\n",
    "* Удалить дубликаты\n",
    "\n",
    "3 Исследовательский анализ(EDA):\n",
    "* Построение графиков распределения величин\n",
    "* Сравнение средних значений оттока и оставшихся\n",
    "* Матрица корреляций\n",
    "\n",
    "4 Модель прогнозирования оттока \n",
    "\n",
    "5 Кластеризация клиентов К-средних\n",
    "\n",
    "6 Проверка статистических гипотез:\n",
    "* Различен ли доход между клиентами, которые ушли и теми, которые остались\n",
    "* Различен ли возраст между оттекшими и оставишимися\n",
    "\n",
    "7 Выводы, рекомендации"
   ]
  },
  {
   "cell_type": "markdown",
   "metadata": {},
   "source": [
    "#  Материалы\n",
    "Презентация : https://disk.yandex.ru/i/ByWd9jRvCu7MoQ\n",
    "\n",
    "Dashboard: https://public.tableau.com/app/profile/tipro/viz/EndProjectda44/Dashboard1?publish=yes"
   ]
  },
  {
   "cell_type": "markdown",
   "metadata": {},
   "source": [
    "## Инициализация данных и библиотек"
   ]
  },
  {
   "cell_type": "code",
   "execution_count": 1,
   "metadata": {},
   "outputs": [],
   "source": [
    "import numpy as np\n",
    "import pandas as pd\n",
    "import matplotlib.pyplot as plt\n",
    "import seaborn as sns\n",
    "import plotly.express as px\n",
    "from scipy import stats as st\n",
    "import math\n",
    "\n",
    "from sklearn.preprocessing import StandardScaler\n",
    "from sklearn.model_selection import train_test_split\n",
    "from sklearn.ensemble import RandomForestClassifier\n",
    "from sklearn.linear_model import LogisticRegression\n",
    "from sklearn.cluster import KMeans\n",
    "from sklearn.metrics import r2_score, accuracy_score, precision_score, recall_score, silhouette_score\n",
    "from scipy.cluster.hierarchy import dendrogram, linkage \n",
    "\n",
    "import requests \n",
    "from urllib.parse import urlencode"
   ]
  },
  {
   "cell_type": "code",
   "execution_count": 2,
   "metadata": {},
   "outputs": [],
   "source": [
    "# используем api \n",
    "base_url = 'https://cloud-api.yandex.net/v1/disk/public/resources/download?' \n",
    "#Ссылка на Яндекс.Диск с датасетом\n",
    "public_key = 'https://disk.yandex.ru/d/JVAJ9uxtV1uydQ' \n",
    " \n",
    "# получаем url \n",
    "final_url = base_url + urlencode(dict(public_key=public_key)) \n",
    "response = requests.get(final_url) \n",
    "download_url = response.json()['href'] \n",
    " \n",
    "# загружаем файл в df \n",
    "download_response = requests.get(download_url) \n",
    "data = pd.read_csv(download_url, sep=',') "
   ]
  },
  {
   "cell_type": "code",
   "execution_count": 3,
   "metadata": {
    "scrolled": false
   },
   "outputs": [
    {
     "data": {
      "text/html": [
       "<div>\n",
       "<style scoped>\n",
       "    .dataframe tbody tr th:only-of-type {\n",
       "        vertical-align: middle;\n",
       "    }\n",
       "\n",
       "    .dataframe tbody tr th {\n",
       "        vertical-align: top;\n",
       "    }\n",
       "\n",
       "    .dataframe thead th {\n",
       "        text-align: right;\n",
       "    }\n",
       "</style>\n",
       "<table border=\"1\" class=\"dataframe\">\n",
       "  <thead>\n",
       "    <tr style=\"text-align: right;\">\n",
       "      <th></th>\n",
       "      <th>userid</th>\n",
       "      <th>score</th>\n",
       "      <th>City</th>\n",
       "      <th>Gender</th>\n",
       "      <th>Age</th>\n",
       "      <th>Objects</th>\n",
       "      <th>Balance</th>\n",
       "      <th>Products</th>\n",
       "      <th>CreditCard</th>\n",
       "      <th>Loyalty</th>\n",
       "      <th>estimated_salary</th>\n",
       "      <th>Churn</th>\n",
       "    </tr>\n",
       "  </thead>\n",
       "  <tbody>\n",
       "    <tr>\n",
       "      <th>0</th>\n",
       "      <td>15677338</td>\n",
       "      <td>619</td>\n",
       "      <td>Ярославль</td>\n",
       "      <td>Ж</td>\n",
       "      <td>42</td>\n",
       "      <td>2</td>\n",
       "      <td>NaN</td>\n",
       "      <td>1</td>\n",
       "      <td>1</td>\n",
       "      <td>1</td>\n",
       "      <td>101348.88</td>\n",
       "      <td>1</td>\n",
       "    </tr>\n",
       "    <tr>\n",
       "      <th>1</th>\n",
       "      <td>15690047</td>\n",
       "      <td>608</td>\n",
       "      <td>Рыбинск</td>\n",
       "      <td>Ж</td>\n",
       "      <td>41</td>\n",
       "      <td>1</td>\n",
       "      <td>83807.86</td>\n",
       "      <td>1</td>\n",
       "      <td>0</td>\n",
       "      <td>1</td>\n",
       "      <td>112542.58</td>\n",
       "      <td>0</td>\n",
       "    </tr>\n",
       "    <tr>\n",
       "      <th>2</th>\n",
       "      <td>15662040</td>\n",
       "      <td>502</td>\n",
       "      <td>Ярославль</td>\n",
       "      <td>Ж</td>\n",
       "      <td>42</td>\n",
       "      <td>8</td>\n",
       "      <td>159660.80</td>\n",
       "      <td>3</td>\n",
       "      <td>1</td>\n",
       "      <td>0</td>\n",
       "      <td>113931.57</td>\n",
       "      <td>1</td>\n",
       "    </tr>\n",
       "    <tr>\n",
       "      <th>3</th>\n",
       "      <td>15744090</td>\n",
       "      <td>699</td>\n",
       "      <td>Ярославль</td>\n",
       "      <td>Ж</td>\n",
       "      <td>39</td>\n",
       "      <td>1</td>\n",
       "      <td>NaN</td>\n",
       "      <td>2</td>\n",
       "      <td>0</td>\n",
       "      <td>0</td>\n",
       "      <td>93826.63</td>\n",
       "      <td>0</td>\n",
       "    </tr>\n",
       "    <tr>\n",
       "      <th>4</th>\n",
       "      <td>15780624</td>\n",
       "      <td>850</td>\n",
       "      <td>Рыбинск</td>\n",
       "      <td>Ж</td>\n",
       "      <td>43</td>\n",
       "      <td>2</td>\n",
       "      <td>125510.82</td>\n",
       "      <td>1</td>\n",
       "      <td>1</td>\n",
       "      <td>1</td>\n",
       "      <td>79084.10</td>\n",
       "      <td>0</td>\n",
       "    </tr>\n",
       "  </tbody>\n",
       "</table>\n",
       "</div>"
      ],
      "text/plain": [
       "     userid  score       City Gender  Age  Objects    Balance  Products  \\\n",
       "0  15677338    619  Ярославль      Ж   42        2        NaN         1   \n",
       "1  15690047    608    Рыбинск      Ж   41        1   83807.86         1   \n",
       "2  15662040    502  Ярославль      Ж   42        8  159660.80         3   \n",
       "3  15744090    699  Ярославль      Ж   39        1        NaN         2   \n",
       "4  15780624    850    Рыбинск      Ж   43        2  125510.82         1   \n",
       "\n",
       "   CreditCard  Loyalty  estimated_salary  Churn  \n",
       "0           1        1         101348.88      1  \n",
       "1           0        1         112542.58      0  \n",
       "2           1        0         113931.57      1  \n",
       "3           0        0          93826.63      0  \n",
       "4           1        1          79084.10      0  "
      ]
     },
     "execution_count": 3,
     "metadata": {},
     "output_type": "execute_result"
    }
   ],
   "source": [
    "data.head()"
   ]
  },
  {
   "cell_type": "markdown",
   "metadata": {},
   "source": [
    "## Предобработка данных"
   ]
  },
  {
   "cell_type": "markdown",
   "metadata": {},
   "source": [
    "Начнем с названий колонок, приведем все к единому стилю и посмотрим описательную статистику"
   ]
  },
  {
   "cell_type": "code",
   "execution_count": 4,
   "metadata": {},
   "outputs": [],
   "source": [
    "data = data.rename(columns={'userid':'user_id', 'CreditCard':'credit_card'})\n",
    "data.columns = [x.lower() for x in data.columns]"
   ]
  },
  {
   "cell_type": "code",
   "execution_count": 5,
   "metadata": {
    "scrolled": false
   },
   "outputs": [
    {
     "name": "stdout",
     "output_type": "stream",
     "text": [
      "<class 'pandas.core.frame.DataFrame'>\n",
      "RangeIndex: 10000 entries, 0 to 9999\n",
      "Data columns (total 12 columns):\n",
      " #   Column            Non-Null Count  Dtype  \n",
      "---  ------            --------------  -----  \n",
      " 0   user_id           10000 non-null  int64  \n",
      " 1   score             10000 non-null  int64  \n",
      " 2   city              10000 non-null  object \n",
      " 3   gender            10000 non-null  object \n",
      " 4   age               10000 non-null  int64  \n",
      " 5   objects           10000 non-null  int64  \n",
      " 6   balance           6383 non-null   float64\n",
      " 7   products          10000 non-null  int64  \n",
      " 8   credit_card       10000 non-null  int64  \n",
      " 9   loyalty           10000 non-null  int64  \n",
      " 10  estimated_salary  10000 non-null  float64\n",
      " 11  churn             10000 non-null  int64  \n",
      "dtypes: float64(2), int64(8), object(2)\n",
      "memory usage: 937.6+ KB\n"
     ]
    },
    {
     "data": {
      "text/html": [
       "<div>\n",
       "<style scoped>\n",
       "    .dataframe tbody tr th:only-of-type {\n",
       "        vertical-align: middle;\n",
       "    }\n",
       "\n",
       "    .dataframe tbody tr th {\n",
       "        vertical-align: top;\n",
       "    }\n",
       "\n",
       "    .dataframe thead th {\n",
       "        text-align: right;\n",
       "    }\n",
       "</style>\n",
       "<table border=\"1\" class=\"dataframe\">\n",
       "  <thead>\n",
       "    <tr style=\"text-align: right;\">\n",
       "      <th></th>\n",
       "      <th>user_id</th>\n",
       "      <th>score</th>\n",
       "      <th>age</th>\n",
       "      <th>objects</th>\n",
       "      <th>balance</th>\n",
       "      <th>products</th>\n",
       "      <th>credit_card</th>\n",
       "      <th>loyalty</th>\n",
       "      <th>estimated_salary</th>\n",
       "      <th>churn</th>\n",
       "    </tr>\n",
       "  </thead>\n",
       "  <tbody>\n",
       "    <tr>\n",
       "      <th>count</th>\n",
       "      <td>1.000000e+04</td>\n",
       "      <td>10000.000000</td>\n",
       "      <td>10000.000000</td>\n",
       "      <td>10000.000000</td>\n",
       "      <td>6383.000000</td>\n",
       "      <td>10000.000000</td>\n",
       "      <td>10000.00000</td>\n",
       "      <td>10000.000000</td>\n",
       "      <td>10000.000000</td>\n",
       "      <td>10000.000000</td>\n",
       "    </tr>\n",
       "    <tr>\n",
       "      <th>mean</th>\n",
       "      <td>1.573368e+07</td>\n",
       "      <td>650.528800</td>\n",
       "      <td>38.921800</td>\n",
       "      <td>5.012800</td>\n",
       "      <td>119827.493793</td>\n",
       "      <td>1.530200</td>\n",
       "      <td>0.70550</td>\n",
       "      <td>0.515100</td>\n",
       "      <td>100090.239881</td>\n",
       "      <td>0.203700</td>\n",
       "    </tr>\n",
       "    <tr>\n",
       "      <th>std</th>\n",
       "      <td>7.193619e+04</td>\n",
       "      <td>96.653299</td>\n",
       "      <td>10.487806</td>\n",
       "      <td>2.892174</td>\n",
       "      <td>30095.056462</td>\n",
       "      <td>0.581654</td>\n",
       "      <td>0.45584</td>\n",
       "      <td>0.499797</td>\n",
       "      <td>57510.492818</td>\n",
       "      <td>0.402769</td>\n",
       "    </tr>\n",
       "    <tr>\n",
       "      <th>min</th>\n",
       "      <td>1.560844e+07</td>\n",
       "      <td>350.000000</td>\n",
       "      <td>18.000000</td>\n",
       "      <td>0.000000</td>\n",
       "      <td>3768.690000</td>\n",
       "      <td>1.000000</td>\n",
       "      <td>0.00000</td>\n",
       "      <td>0.000000</td>\n",
       "      <td>11.580000</td>\n",
       "      <td>0.000000</td>\n",
       "    </tr>\n",
       "    <tr>\n",
       "      <th>25%</th>\n",
       "      <td>1.567126e+07</td>\n",
       "      <td>584.000000</td>\n",
       "      <td>32.000000</td>\n",
       "      <td>3.000000</td>\n",
       "      <td>100181.975000</td>\n",
       "      <td>1.000000</td>\n",
       "      <td>0.00000</td>\n",
       "      <td>0.000000</td>\n",
       "      <td>51002.110000</td>\n",
       "      <td>0.000000</td>\n",
       "    </tr>\n",
       "    <tr>\n",
       "      <th>50%</th>\n",
       "      <td>1.573347e+07</td>\n",
       "      <td>652.000000</td>\n",
       "      <td>37.000000</td>\n",
       "      <td>5.000000</td>\n",
       "      <td>119839.690000</td>\n",
       "      <td>1.000000</td>\n",
       "      <td>1.00000</td>\n",
       "      <td>1.000000</td>\n",
       "      <td>100193.915000</td>\n",
       "      <td>0.000000</td>\n",
       "    </tr>\n",
       "    <tr>\n",
       "      <th>75%</th>\n",
       "      <td>1.579597e+07</td>\n",
       "      <td>718.000000</td>\n",
       "      <td>44.000000</td>\n",
       "      <td>7.000000</td>\n",
       "      <td>139512.290000</td>\n",
       "      <td>2.000000</td>\n",
       "      <td>1.00000</td>\n",
       "      <td>1.000000</td>\n",
       "      <td>149388.247500</td>\n",
       "      <td>0.000000</td>\n",
       "    </tr>\n",
       "    <tr>\n",
       "      <th>max</th>\n",
       "      <td>1.585843e+07</td>\n",
       "      <td>850.000000</td>\n",
       "      <td>92.000000</td>\n",
       "      <td>10.000000</td>\n",
       "      <td>250898.090000</td>\n",
       "      <td>4.000000</td>\n",
       "      <td>1.00000</td>\n",
       "      <td>1.000000</td>\n",
       "      <td>199992.480000</td>\n",
       "      <td>1.000000</td>\n",
       "    </tr>\n",
       "  </tbody>\n",
       "</table>\n",
       "</div>"
      ],
      "text/plain": [
       "            user_id         score           age       objects        balance  \\\n",
       "count  1.000000e+04  10000.000000  10000.000000  10000.000000    6383.000000   \n",
       "mean   1.573368e+07    650.528800     38.921800      5.012800  119827.493793   \n",
       "std    7.193619e+04     96.653299     10.487806      2.892174   30095.056462   \n",
       "min    1.560844e+07    350.000000     18.000000      0.000000    3768.690000   \n",
       "25%    1.567126e+07    584.000000     32.000000      3.000000  100181.975000   \n",
       "50%    1.573347e+07    652.000000     37.000000      5.000000  119839.690000   \n",
       "75%    1.579597e+07    718.000000     44.000000      7.000000  139512.290000   \n",
       "max    1.585843e+07    850.000000     92.000000     10.000000  250898.090000   \n",
       "\n",
       "           products  credit_card       loyalty  estimated_salary         churn  \n",
       "count  10000.000000  10000.00000  10000.000000      10000.000000  10000.000000  \n",
       "mean       1.530200      0.70550      0.515100     100090.239881      0.203700  \n",
       "std        0.581654      0.45584      0.499797      57510.492818      0.402769  \n",
       "min        1.000000      0.00000      0.000000         11.580000      0.000000  \n",
       "25%        1.000000      0.00000      0.000000      51002.110000      0.000000  \n",
       "50%        1.000000      1.00000      1.000000     100193.915000      0.000000  \n",
       "75%        2.000000      1.00000      1.000000     149388.247500      0.000000  \n",
       "max        4.000000      1.00000      1.000000     199992.480000      1.000000  "
      ]
     },
     "execution_count": 5,
     "metadata": {},
     "output_type": "execute_result"
    }
   ],
   "source": [
    "data.info()\n",
    "data.describe()"
   ]
  },
  {
   "cell_type": "code",
   "execution_count": 6,
   "metadata": {},
   "outputs": [
    {
     "data": {
      "text/plain": [
       "3617"
      ]
     },
     "execution_count": 6,
     "metadata": {},
     "output_type": "execute_result"
    }
   ],
   "source": [
    "# проверка все ли пропуски NaN\n",
    "data['balance'].isna().sum()"
   ]
  },
  {
   "cell_type": "code",
   "execution_count": 7,
   "metadata": {},
   "outputs": [
    {
     "data": {
      "text/plain": [
       "0"
      ]
     },
     "execution_count": 7,
     "metadata": {},
     "output_type": "execute_result"
    }
   ],
   "source": [
    "# проверим наличие явных дубликатов\n",
    "data.duplicated().sum()"
   ]
  },
  {
   "cell_type": "code",
   "execution_count": 8,
   "metadata": {},
   "outputs": [
    {
     "data": {
      "text/plain": [
       "gender\n",
       "М    5457\n",
       "Ж    4543\n",
       "dtype: int64"
      ]
     },
     "execution_count": 8,
     "metadata": {},
     "output_type": "execute_result"
    }
   ],
   "source": [
    "data.value_counts('gender')"
   ]
  },
  {
   "cell_type": "code",
   "execution_count": 9,
   "metadata": {
    "scrolled": true
   },
   "outputs": [
    {
     "name": "stdout",
     "output_type": "stream",
     "text": [
      "score\n",
      "850    78\n",
      "678    26\n",
      "711    20\n",
      "655    20\n",
      "663    20\n",
      "       ..\n",
      "463     1\n",
      "460     1\n",
      "816     1\n",
      "817     1\n",
      "470     1\n",
      "Length: 434, dtype: int64\n",
      "\n",
      "city\n",
      "Ярославль    2418\n",
      "Рыбинск      1199\n",
      "dtype: int64\n",
      "\n",
      "gender\n",
      "М    1963\n",
      "Ж    1654\n",
      "dtype: int64\n",
      "\n",
      "age\n",
      "34    178\n",
      "36    176\n",
      "38    175\n",
      "35    172\n",
      "37    168\n",
      "     ... \n",
      "76      1\n",
      "78      1\n",
      "82      1\n",
      "85      1\n",
      "88      1\n",
      "Length: 67, dtype: int64\n",
      "\n",
      "objects\n",
      "7     386\n",
      "2     382\n",
      "5     374\n",
      "4     369\n",
      "6     367\n",
      "8     363\n",
      "9     360\n",
      "3     352\n",
      "1     349\n",
      "10    178\n",
      "0     137\n",
      "dtype: int64\n",
      "\n",
      "Series([], dtype: int64)\n",
      "\n",
      "products\n",
      "2    2600\n",
      "1     905\n",
      "3      98\n",
      "4      14\n",
      "dtype: int64\n",
      "\n",
      "credit_card\n",
      "1    2592\n",
      "0    1025\n",
      "dtype: int64\n",
      "\n",
      "loyalty\n",
      "1    1873\n",
      "0    1744\n",
      "dtype: int64\n",
      "\n",
      "estimated_salary\n",
      "90.07        1\n",
      "132798.78    1\n",
      "131389.39    1\n",
      "131521.72    1\n",
      "131534.96    1\n",
      "            ..\n",
      "66331.01     1\n",
      "66367.33     1\n",
      "66393.89     1\n",
      "66406.37     1\n",
      "199992.48    1\n",
      "Length: 3617, dtype: int64\n",
      "\n",
      "churn\n",
      "0    3117\n",
      "1     500\n",
      "dtype: int64\n",
      "\n"
     ]
    }
   ],
   "source": [
    "for i in data.drop(columns={'user_id'}).columns:\n",
    "    print(data[data['balance'].isna()].value_counts(i))\n",
    "    print()"
   ]
  },
  {
   "cell_type": "markdown",
   "metadata": {},
   "source": [
    "### Вывод\n",
    "Привели названия к единому стилю, проверили наличие дубликатов. Пропуски в столбце баланс могут быть вызваны какими-то сбоя в 2 городах Ярославль и Рыбинск, так же наибольшее количество пропусков у действующих клиентов с 2 продуктами и кредитной картой. Каких либо выбросов не наблюдается, кроме низкой зарплаты, но на это могут повлиять разные факторы, тк не у всех известна заработная плата."
   ]
  },
  {
   "cell_type": "markdown",
   "metadata": {},
   "source": [
    "## Исследовательский анализ. EDA"
   ]
  },
  {
   "cell_type": "code",
   "execution_count": 10,
   "metadata": {
    "scrolled": true
   },
   "outputs": [
    {
     "data": {
      "image/png": "[encoded data removed]",
      "text/plain": [
       "<Figure size 432x288 with 1 Axes>"
      ]
     },
     "metadata": {
      "needs_background": "light"
     },
     "output_type": "display_data"
    },
    {
     "data": {
      "image/png": "[encoded data removed]",
      "text/plain": [
       "<Figure size 432x288 with 1 Axes>"
      ]
     },
     "metadata": {
      "needs_background": "light"
     },
     "output_type": "display_data"
    },
    {
     "data": {
      "image/png": "[encoded data removed]",
      "text/plain": [
       "<Figure size 432x288 with 1 Axes>"
      ]
     },
     "metadata": {
      "needs_background": "light"
     },
     "output_type": "display_data"
    },
    {
     "data": {
      "image/png": "[encoded data removed]",
      "text/plain": [
       "<Figure size 432x288 with 1 Axes>"
      ]
     },
     "metadata": {
      "needs_background": "light"
     },
     "output_type": "display_data"
    },
    {
     "data": {
      "image/png": "[encoded data removed]",
      "text/plain": [
       "<Figure size 432x288 with 1 Axes>"
      ]
     },
     "metadata": {
      "needs_background": "light"
     },
     "output_type": "display_data"
    },
    {
     "data": {
      "image/png": "[encoded data removed]",
      "text/plain": [
       "<Figure size 432x288 with 1 Axes>"
      ]
     },
     "metadata": {
      "needs_background": "light"
     },
     "output_type": "display_data"
    },
    {
     "data": {
      "image/png": "[encoded data removed]",
      "text/plain": [
       "<Figure size 432x288 with 1 Axes>"
      ]
     },
     "metadata": {
      "needs_background": "light"
     },
     "output_type": "display_data"
    },
    {
     "data": {
      "image/png": "[encoded data removed]",
      "text/plain": [
       "<Figure size 432x288 with 1 Axes>"
      ]
     },
     "metadata": {
      "needs_background": "light"
     },
     "output_type": "display_data"
    },
    {
     "data": {
      "image/png": "[encoded data removed]",
      "text/plain": [
       "<Figure size 432x288 with 1 Axes>"
      ]
     },
     "metadata": {
      "needs_background": "light"
     },
     "output_type": "display_data"
    },
    {
     "data": {
      "image/png": "[encoded data removed]",
      "text/plain": [
       "<Figure size 432x288 with 1 Axes>"
      ]
     },
     "metadata": {
      "needs_background": "light"
     },
     "output_type": "display_data"
    }
   ],
   "source": [
    "# напишем цикл для отрисовки признаков оставшихся и ушедших клиентов\n",
    "for col in data.drop(columns={'churn','user_id'}).columns:\n",
    "    sns.histplot(data=data, x=data.query('churn==0')[col])\n",
    "    plt.title('Распределение признака {} для оставшихся клиентов'.format(col))\n",
    "    #plt.show()\n",
    "    sns.histplot(data=data, x=data.query('churn==1')[col], color='red')\n",
    "    plt.title('Распределение признака {} для оттока'.format(col))\n",
    "    plt.legend(['Оставшиеся','Отток'])\n",
    "    plt.show()"
   ]
  },
  {
   "cell_type": "markdown",
   "metadata": {},
   "source": [
    "Распределение большинства величин близко к нормальному.\n",
    "\n",
    "Отток клиентов наблюдается в возрастном диапазоне от 40 и до 55, а основные действующие клиенты превалюруют в диапазоне 25-40. Также наблюдается очень сильная тенденция оттока(почти 100%) у клиентов с 3 и 4 продуктами. Оттекают и клиенты с 1 продуктом, но их доля не составляет больше 40%. Отток клиентов из Ростова Великого почти 50%, чем-то клиенты недовольны\n",
    "\n",
    "Чаще уходят не лояльные клиенты и клиенты с кредитными картами. Заработная плата не отражает никакого влияния на отток клиентов."
   ]
  },
  {
   "cell_type": "code",
   "execution_count": 11,
   "metadata": {},
   "outputs": [],
   "source": [
    "# Приведем тип данных к integer, чтобы признак участвовал в матрице корреляций и в дальнейшем рассмотрении\n",
    "data['gender'] = data['gender'].replace({'М':1,'Ж':0})"
   ]
  },
  {
   "cell_type": "markdown",
   "metadata": {},
   "source": [
    "Принято решение удалить пропущенные значения, хоть и доля пропусков велика, но заполнение их без привязки к чему-то или знания причины может вызвать искажение данных и результатов предсказаний и кластеризации"
   ]
  },
  {
   "cell_type": "code",
   "execution_count": 12,
   "metadata": {},
   "outputs": [],
   "source": [
    "#Удалим пропущенные значения\n",
    "data = data.dropna()"
   ]
  },
  {
   "cell_type": "code",
   "execution_count": 13,
   "metadata": {
    "scrolled": false
   },
   "outputs": [
    {
     "data": {
      "text/html": [
       "<div>\n",
       "<style scoped>\n",
       "    .dataframe tbody tr th:only-of-type {\n",
       "        vertical-align: middle;\n",
       "    }\n",
       "\n",
       "    .dataframe tbody tr th {\n",
       "        vertical-align: top;\n",
       "    }\n",
       "\n",
       "    .dataframe thead th {\n",
       "        text-align: right;\n",
       "    }\n",
       "</style>\n",
       "<table border=\"1\" class=\"dataframe\">\n",
       "  <thead>\n",
       "    <tr style=\"text-align: right;\">\n",
       "      <th>churn</th>\n",
       "      <th>0</th>\n",
       "      <th>1</th>\n",
       "    </tr>\n",
       "  </thead>\n",
       "  <tbody>\n",
       "    <tr>\n",
       "      <th>score</th>\n",
       "      <td>652.82</td>\n",
       "      <td>645.84</td>\n",
       "    </tr>\n",
       "    <tr>\n",
       "      <th>gender</th>\n",
       "      <td>0.58</td>\n",
       "      <td>0.45</td>\n",
       "    </tr>\n",
       "    <tr>\n",
       "      <th>age</th>\n",
       "      <td>37.42</td>\n",
       "      <td>44.81</td>\n",
       "    </tr>\n",
       "    <tr>\n",
       "      <th>objects</th>\n",
       "      <td>4.98</td>\n",
       "      <td>4.97</td>\n",
       "    </tr>\n",
       "    <tr>\n",
       "      <th>balance</th>\n",
       "      <td>119535.86</td>\n",
       "      <td>120746.97</td>\n",
       "    </tr>\n",
       "    <tr>\n",
       "      <th>products</th>\n",
       "      <td>1.36</td>\n",
       "      <td>1.47</td>\n",
       "    </tr>\n",
       "    <tr>\n",
       "      <th>credit_card</th>\n",
       "      <td>0.70</td>\n",
       "      <td>0.70</td>\n",
       "    </tr>\n",
       "    <tr>\n",
       "      <th>loyalty</th>\n",
       "      <td>0.56</td>\n",
       "      <td>0.36</td>\n",
       "    </tr>\n",
       "    <tr>\n",
       "      <th>estimated_salary</th>\n",
       "      <td>100512.65</td>\n",
       "      <td>101362.75</td>\n",
       "    </tr>\n",
       "  </tbody>\n",
       "</table>\n",
       "</div>"
      ],
      "text/plain": [
       "churn                     0          1\n",
       "score                652.82     645.84\n",
       "gender                 0.58       0.45\n",
       "age                   37.42      44.81\n",
       "objects                4.98       4.97\n",
       "balance           119535.86  120746.97\n",
       "products               1.36       1.47\n",
       "credit_card            0.70       0.70\n",
       "loyalty                0.56       0.36\n",
       "estimated_salary  100512.65  101362.75"
      ]
     },
     "execution_count": 13,
     "metadata": {},
     "output_type": "execute_result"
    }
   ],
   "source": [
    "# посмотрим среднее по оттоку и оставшимся\n",
    "round(data.drop(columns={'user_id'}).groupby('churn').mean().T, 2)"
   ]
  },
  {
   "cell_type": "markdown",
   "metadata": {},
   "source": [
    "Из данных видно, что оттекают чаще не лояльные клиенты и более взрослые"
   ]
  },
  {
   "cell_type": "markdown",
   "metadata": {},
   "source": [
    "Были испробованы разные варианты преобразования столбца с городом, но остановимся на варианте перекодировки."
   ]
  },
  {
   "cell_type": "code",
   "execution_count": 14,
   "metadata": {},
   "outputs": [],
   "source": [
    "#data = pd.get_dummies(data)\n",
    "#data.head()\n",
    "\n",
    "# data =data.drop(columns={'city'})\n",
    "\n",
    "from sklearn.preprocessing import LabelEncoder\n",
    "encoder =  LabelEncoder() # создаём переменную класса LabelEncoder - кодировщик\n",
    "data['city'] = encoder.fit_transform(data['city'])"
   ]
  },
  {
   "cell_type": "code",
   "execution_count": 15,
   "metadata": {},
   "outputs": [
    {
     "data": {
      "image/png": "[encoded data removed]",
      "text/plain": [
       "<Figure size 1080x1080 with 2 Axes>"
      ]
     },
     "metadata": {
      "needs_background": "light"
     },
     "output_type": "display_data"
    }
   ],
   "source": [
    "# матрица корреляций, представленная тепловой картой\n",
    "plt.figure(figsize=(15,15))\n",
    "sns.heatmap(data=data.drop(columns={'user_id'}).corr(),square=True, annot=True)\n",
    "plt.show()"
   ]
  },
  {
   "cell_type": "markdown",
   "metadata": {},
   "source": [
    "Признак возраста коррелирует с целевой переменной. А лояльность и пол имеют слабую отрицательную корреляцию к оттоку.\n",
    "\n",
    "### Вывод\n",
    "Основные факторы вляющие на отток это возраст, количество продуктов и город, а также слабо влияет лояльность и кредитная карта\n",
    "По средним видно, что имеются различия в возрасте и лояльности, их влияние и потребуется дополнительно исследовать"
   ]
  },
  {
   "cell_type": "markdown",
   "metadata": {},
   "source": [
    "## Обучение модели предсказания"
   ]
  },
  {
   "cell_type": "code",
   "execution_count": 16,
   "metadata": {},
   "outputs": [
    {
     "data": {
      "text/plain": [
       "(5106, 10)"
      ]
     },
     "execution_count": 16,
     "metadata": {},
     "output_type": "execute_result"
    }
   ],
   "source": [
    "# разделяем модель на обучающую и валидационную выборку\n",
    "X = data.drop(columns=(['churn','user_id']),axis=1)\n",
    "y = data['churn']\n",
    "X_train, X_test, y_train, y_test = train_test_split(X, y, test_size=0.2, random_state=0)\n",
    "# Проверим результат деления выборок\n",
    "X_train.shape"
   ]
  },
  {
   "cell_type": "code",
   "execution_count": 17,
   "metadata": {},
   "outputs": [],
   "source": [
    "# обозначим список моделей которые будем обучать\n",
    "models = [\n",
    "    LogisticRegression(random_state=0,solver='liblinear'),\n",
    "    RandomForestClassifier(random_state=0)\n",
    "]\n",
    "\n",
    "# функция, которая принимает на вход модель и данные и выводит метрики \n",
    "def make_prediction(m, X_train, y_train, X_test, y_test):\n",
    "    model = m\n",
    "    model.fit(X_train, y_train)\n",
    "    y_pred = model.predict(X_test)\n",
    "    print(\n",
    "        'Accuracy:{:.2f} Precision:{:.2f} Recall:{:.2f} R2:{:.2f} '.format(\n",
    "            accuracy_score(y_test, y_pred),\n",
    "            precision_score(y_test, y_pred),\n",
    "            recall_score(y_test, y_pred),\n",
    "            r2_score(y_test, y_pred),\n",
    "        )\n",
    "    )"
   ]
  },
  {
   "cell_type": "code",
   "execution_count": 18,
   "metadata": {
    "scrolled": false
   },
   "outputs": [
    {
     "name": "stdout",
     "output_type": "stream",
     "text": [
      "LogisticRegression(random_state=0, solver='liblinear')\n",
      "Accuracy:0.78 Precision:0.46 Recall:0.10 R2:-0.30 \n",
      "RandomForestClassifier(random_state=0)\n",
      "Accuracy:0.85 Precision:0.75 Recall:0.48 R2:0.13 \n"
     ]
    }
   ],
   "source": [
    "# цикл для прогонки моделей и получения метрик по ним\n",
    "for i in models:\n",
    "    print(i)\n",
    "    make_prediction(i, X_train, y_train, X_test, y_test)"
   ]
  },
  {
   "cell_type": "markdown",
   "metadata": {},
   "source": [
    "Показатели моделей не лучшие, но и с данными не все так гладко. "
   ]
  },
  {
   "cell_type": "markdown",
   "metadata": {},
   "source": [
    "## Кластеризация клиентов"
   ]
  },
  {
   "cell_type": "code",
   "execution_count": 19,
   "metadata": {},
   "outputs": [],
   "source": [
    "# стандартизация данных\n",
    "sc = StandardScaler()\n",
    "X_sc = sc.fit_transform(X)"
   ]
  },
  {
   "cell_type": "code",
   "execution_count": 20,
   "metadata": {
    "scrolled": false
   },
   "outputs": [
    {
     "data": {
      "image/png": "[encoded data removed]",
      "text/plain": [
       "<Figure size 1080x720 with 1 Axes>"
      ]
     },
     "metadata": {
      "needs_background": "light"
     },
     "output_type": "display_data"
    }
   ],
   "source": [
    "# отрисовка дендограммы\n",
    "linked = linkage(X_sc, method = 'ward')\n",
    "plt.figure(figsize=(15, 10))  \n",
    "dendrogram(linked, orientation='top')\n",
    "plt.title('Кластеризация клиентов')\n",
    "plt.show() "
   ]
  },
  {
   "cell_type": "markdown",
   "metadata": {},
   "source": [
    "Предположительно можно выделить 5 кластеров пользователей"
   ]
  },
  {
   "cell_type": "code",
   "execution_count": 21,
   "metadata": {},
   "outputs": [],
   "source": [
    "# задаем модель и обучаем ее\n",
    "km = KMeans(n_clusters=5, random_state=0)\n",
    "labels = km.fit_predict(X_sc)\n",
    "data['cluster_km'] = labels"
   ]
  },
  {
   "cell_type": "code",
   "execution_count": 22,
   "metadata": {
    "scrolled": false
   },
   "outputs": [
    {
     "data": {
      "text/html": [
       "<div>\n",
       "<style scoped>\n",
       "    .dataframe tbody tr th:only-of-type {\n",
       "        vertical-align: middle;\n",
       "    }\n",
       "\n",
       "    .dataframe tbody tr th {\n",
       "        vertical-align: top;\n",
       "    }\n",
       "\n",
       "    .dataframe thead th {\n",
       "        text-align: right;\n",
       "    }\n",
       "</style>\n",
       "<table border=\"1\" class=\"dataframe\">\n",
       "  <thead>\n",
       "    <tr style=\"text-align: right;\">\n",
       "      <th>cluster_km</th>\n",
       "      <th>0</th>\n",
       "      <th>1</th>\n",
       "      <th>2</th>\n",
       "      <th>3</th>\n",
       "      <th>4</th>\n",
       "    </tr>\n",
       "  </thead>\n",
       "  <tbody>\n",
       "    <tr>\n",
       "      <th>user_id</th>\n",
       "      <td>15736314.86</td>\n",
       "      <td>15730113.94</td>\n",
       "      <td>15733977.18</td>\n",
       "      <td>15730979.65</td>\n",
       "      <td>15734643.55</td>\n",
       "    </tr>\n",
       "    <tr>\n",
       "      <th>score</th>\n",
       "      <td>653.97</td>\n",
       "      <td>647.00</td>\n",
       "      <td>649.84</td>\n",
       "      <td>655.93</td>\n",
       "      <td>647.26</td>\n",
       "    </tr>\n",
       "    <tr>\n",
       "      <th>city</th>\n",
       "      <td>1.05</td>\n",
       "      <td>1.23</td>\n",
       "      <td>0.92</td>\n",
       "      <td>1.33</td>\n",
       "      <td>0.29</td>\n",
       "    </tr>\n",
       "    <tr>\n",
       "      <th>gender</th>\n",
       "      <td>0.55</td>\n",
       "      <td>0.55</td>\n",
       "      <td>0.52</td>\n",
       "      <td>0.58</td>\n",
       "      <td>0.53</td>\n",
       "    </tr>\n",
       "    <tr>\n",
       "      <th>age</th>\n",
       "      <td>36.94</td>\n",
       "      <td>37.48</td>\n",
       "      <td>60.54</td>\n",
       "      <td>34.98</td>\n",
       "      <td>38.02</td>\n",
       "    </tr>\n",
       "    <tr>\n",
       "      <th>objects</th>\n",
       "      <td>4.87</td>\n",
       "      <td>5.08</td>\n",
       "      <td>4.95</td>\n",
       "      <td>4.87</td>\n",
       "      <td>5.17</td>\n",
       "    </tr>\n",
       "    <tr>\n",
       "      <th>balance</th>\n",
       "      <td>119171.11</td>\n",
       "      <td>121162.15</td>\n",
       "      <td>119971.20</td>\n",
       "      <td>119205.49</td>\n",
       "      <td>119646.95</td>\n",
       "    </tr>\n",
       "    <tr>\n",
       "      <th>products</th>\n",
       "      <td>1.34</td>\n",
       "      <td>1.12</td>\n",
       "      <td>1.21</td>\n",
       "      <td>1.15</td>\n",
       "      <td>2.23</td>\n",
       "    </tr>\n",
       "    <tr>\n",
       "      <th>credit_card</th>\n",
       "      <td>0.00</td>\n",
       "      <td>1.00</td>\n",
       "      <td>0.73</td>\n",
       "      <td>1.00</td>\n",
       "      <td>0.95</td>\n",
       "    </tr>\n",
       "    <tr>\n",
       "      <th>loyalty</th>\n",
       "      <td>0.49</td>\n",
       "      <td>0.00</td>\n",
       "      <td>0.81</td>\n",
       "      <td>1.00</td>\n",
       "      <td>0.48</td>\n",
       "    </tr>\n",
       "    <tr>\n",
       "      <th>estimated_salary</th>\n",
       "      <td>101831.74</td>\n",
       "      <td>102852.78</td>\n",
       "      <td>93526.76</td>\n",
       "      <td>98295.97</td>\n",
       "      <td>103292.50</td>\n",
       "    </tr>\n",
       "    <tr>\n",
       "      <th>churn</th>\n",
       "      <td>0.21</td>\n",
       "      <td>0.29</td>\n",
       "      <td>0.40</td>\n",
       "      <td>0.12</td>\n",
       "      <td>0.28</td>\n",
       "    </tr>\n",
       "  </tbody>\n",
       "</table>\n",
       "</div>"
      ],
      "text/plain": [
       "cluster_km                  0            1            2            3  \\\n",
       "user_id           15736314.86  15730113.94  15733977.18  15730979.65   \n",
       "score                  653.97       647.00       649.84       655.93   \n",
       "city                     1.05         1.23         0.92         1.33   \n",
       "gender                   0.55         0.55         0.52         0.58   \n",
       "age                     36.94        37.48        60.54        34.98   \n",
       "objects                  4.87         5.08         4.95         4.87   \n",
       "balance             119171.11    121162.15    119971.20    119205.49   \n",
       "products                 1.34         1.12         1.21         1.15   \n",
       "credit_card              0.00         1.00         0.73         1.00   \n",
       "loyalty                  0.49         0.00         0.81         1.00   \n",
       "estimated_salary    101831.74    102852.78     93526.76     98295.97   \n",
       "churn                    0.21         0.29         0.40         0.12   \n",
       "\n",
       "cluster_km                  4  \n",
       "user_id           15734643.55  \n",
       "score                  647.26  \n",
       "city                     0.29  \n",
       "gender                   0.53  \n",
       "age                     38.02  \n",
       "objects                  5.17  \n",
       "balance             119646.95  \n",
       "products                 2.23  \n",
       "credit_card              0.95  \n",
       "loyalty                  0.48  \n",
       "estimated_salary    103292.50  \n",
       "churn                    0.28  "
      ]
     },
     "metadata": {},
     "output_type": "display_data"
    }
   ],
   "source": [
    "# выводим статистику по средним значениям признаков по кластеру\n",
    "display(round(data.groupby('cluster_km').mean().T,2))"
   ]
  },
  {
   "cell_type": "markdown",
   "metadata": {},
   "source": [
    "Кластеры распределены довольно равномерно и выделить превалирующий тяжело"
   ]
  },
  {
   "cell_type": "code",
   "execution_count": 23,
   "metadata": {
    "scrolled": true
   },
   "outputs": [
    {
     "name": "stdout",
     "output_type": "stream",
     "text": [
      "Silhouette_score: 0.09\n"
     ]
    }
   ],
   "source": [
    "print('Silhouette_score: {:.2f}'.format(silhouette_score(X_sc, labels)))"
   ]
  },
  {
   "cell_type": "markdown",
   "metadata": {},
   "source": [
    "Дополнительная оценка класетризации пригодится. Значение не такое уж и плохое, учитывая, что нет явной структуры данных, из которой можно выделить определенные кластеры"
   ]
  },
  {
   "cell_type": "code",
   "execution_count": 24,
   "metadata": {
    "scrolled": true
   },
   "outputs": [
    {
     "name": "stdout",
     "output_type": "stream",
     "text": [
      "доля оттока для кластеров cluster_km\n",
      "0    26.0\n",
      "1    24.0\n",
      "2    10.0\n",
      "3    22.0\n",
      "4    17.0\n",
      "Name: churn, dtype: float64\n"
     ]
    }
   ],
   "source": [
    "print('доля оттока для кластеров',round(data.groupby('cluster_km')['churn'].count()/len(data)*100))"
   ]
  },
  {
   "cell_type": "markdown",
   "metadata": {},
   "source": [
    "### Вывод\n",
    "Наиболее оттекающие кластеры как оказались это 1 и 3. И как раз таки у них средний показатель лояльности у одного кластера есть кредитная карта, а у другого нет. Так и среднее по продуктам выше. "
   ]
  },
  {
   "cell_type": "markdown",
   "metadata": {},
   "source": [
    "## Проверка статистических гипотез\n",
    "\n",
    "<b>В обоих гипотезах будем проверять связь при помощи ttest_ind, для двух независимых выборок, с параметром equal_var=False, т.к. неизвестно равны ли дисперсии и размер выборок различный"
   ]
  },
  {
   "cell_type": "markdown",
   "metadata": {},
   "source": [
    "<b>Гипотеза о различии среднего дохода между группами</b>\n",
    "\n",
    "Нулевая гипотеза: различий в среднем доходе между группами нет.\n",
    "\n",
    "Альтернативная гипотеза: различия в среднем доходе между группами есть.\n",
    "\n",
    "Уровень статистической значимости: <b>0.05</b>"
   ]
  },
  {
   "cell_type": "code",
   "execution_count": 25,
   "metadata": {
    "scrolled": true
   },
   "outputs": [
    {
     "data": {
      "text/plain": [
       "0.6150083070259462"
      ]
     },
     "execution_count": 25,
     "metadata": {},
     "output_type": "execute_result"
    }
   ],
   "source": [
    "st.ttest_ind(data.query('churn==0')['estimated_salary'], data.query('churn==1')['estimated_salary'], equal_var=False).pvalue"
   ]
  },
  {
   "cell_type": "markdown",
   "metadata": {},
   "source": [
    "Полученное P-value не позволяет отклонить нулевую гипотезу ( 0.05<0.61 ). Следовательно, различия в доходе нет. Сравним средние значения выборки."
   ]
  },
  {
   "cell_type": "code",
   "execution_count": 26,
   "metadata": {},
   "outputs": [
    {
     "name": "stdout",
     "output_type": "stream",
     "text": [
      "Средняя зарплата отставшихся клиентов = 100512.654\n",
      "Средняя зарплата оттекших клиентов = 101362.746\n"
     ]
    }
   ],
   "source": [
    "print('Средняя зарплата отставшихся клиентов =', round(data.query('churn==0')['estimated_salary'].mean(),3))\n",
    "print('Средняя зарплата оттекших клиентов =', round(data.query('churn==1')['estimated_salary'].mean(),3))"
   ]
  },
  {
   "cell_type": "markdown",
   "metadata": {},
   "source": [
    "Разница практически отсутствует, различие в 800 единиц при таких показателях несущественна"
   ]
  },
  {
   "cell_type": "markdown",
   "metadata": {},
   "source": [
    "<b>Гипотеза об отсутствии различий в по возрасту между группами</b>\n",
    "\n",
    "Нулевая гипотеза: различий в среднем возрасте между группами нет. \n",
    "\n",
    "Альтернативная гипотеза: различия в среднем возрасте между группами есть.\n",
    "\n",
    "Уровень статистической значимости: <b>0.05</b>"
   ]
  },
  {
   "cell_type": "code",
   "execution_count": 27,
   "metadata": {},
   "outputs": [
    {
     "data": {
      "text/plain": [
       "2.0221492438129482e-129"
      ]
     },
     "execution_count": 27,
     "metadata": {},
     "output_type": "execute_result"
    }
   ],
   "source": [
    "st.ttest_ind(data.query('churn==0')['age'], data.query('churn==1')['age'], equal_var=False).pvalue"
   ]
  },
  {
   "cell_type": "markdown",
   "metadata": {},
   "source": [
    "Полученное P-value позволяет отклонить нулевую гипотезу ( 0.05>0 ). Следовательно, различия в возрасте групп имеются и серьезные. Сравним средние значения выборки."
   ]
  },
  {
   "cell_type": "code",
   "execution_count": 28,
   "metadata": {},
   "outputs": [
    {
     "name": "stdout",
     "output_type": "stream",
     "text": [
      "Средний возраст отставшихся клиентов = 37.4\n",
      "Средний возраст оттекших клиентов = 44.8\n"
     ]
    }
   ],
   "source": [
    "print('Средний возраст отставшихся клиентов =', round(data.query('churn==0')['age'].mean(),1))\n",
    "print('Средний возраст оттекших клиентов =', round(data.query('churn==1')['age'].mean(),1))"
   ]
  },
  {
   "cell_type": "markdown",
   "metadata": {},
   "source": [
    "Чувствуется серьезная разница в возрасте, различия около 8 лет и по предыдущим данным было видно, что как раз таки уходят люди старше 40 лет все больше и больше"
   ]
  },
  {
   "cell_type": "markdown",
   "metadata": {},
   "source": [
    "# Общий вывод и рекомендации\n",
    "Проведена предобработка данных, типы данных привидены к стандарту. Удалены пропуски, некоторые столбцы преобразованы для дальнейшей работы. Дубликатов не обнаружено. Проведен исследовательский анализ, построены графики распределения величин, тепловая карта корреляций. Обучена модель машинного обучения и кластеризованы пользователи на несколько сегментов и выявлен потрет наиболее склонных к уходу клиентов.\n",
    "\n",
    "По собранным данным и подтвержденным гипотезам, можно сказать, что отток примерно равносильный во всех городах. Отток подвержен возрастному периоду начиная от 40 и до 55. Наличие кредитной карты не так сильно играет роль для оттекающих клиентов. Лояльность значимо влияет на оттекаемость. Важно заметить, клиенты с 2 продуктами самые устойчивые. Такие факторы как заработная плата и баланс никак не влияют на отток. Клиенты женского пола более часто уходят. Также влияет географический фактор в Ростове Великом уходит почти 50% клиентов.\n",
    "\n",
    "Сегмент оттока:\n",
    "* средний возраст 45 лет\n",
    "* Проживает Ростове Великом, либо же Ярославль\n",
    "* Около 70% этих клиентов имеют кредитную карту\n",
    "* Имеют низкую активность\n",
    "* В среднем 5 объектов в собственности\n",
    "* В среднем оформлено 1,5 продукта\n",
    "* Женский пол превалирует над мужским, 55% и 45% соответственно\n",
    "* Кредитный рейтинг в среднем схож с оставшимися\n",
    "\n",
    "Рекомендации:\n",
    "* Проработать удержание клиентов в возрасте 40-55, возможное решение специализированное предложение клиентам с 1 продуктом или более, вклад под повышенный процент или же открытие инвестиционного портфеля с пониженными рисками (спец. стратегией).\n",
    "* Возможно пользователям не нравится оформление или какие-то лозунги, женская пол чаще уходит из банка, может амбасадор наскучил или надо добавить чего-то более приятного женщинам, те же акции или кэшбэк в какой-нибудь праздник, может список магазинов увеличить с повышенным кэшбэком\n",
    "* Пересмотреть отношение к клиентам с 3 и более продуктами, там отток выше 90%. Возможно что-то не так с технической поддержкой, возможно их не устраивает стоимость обслуживания такого количества продуктов. Клиентов всегда нужно подстегивать оставаться у банка на более выгодных условиях."
   ]
  }
 ],
 "metadata": {
  "ExecuteTimeLog": [
   {
    "duration": 10,
    "start_time": "2022-08-23T21:10:31.568Z"
   },
   {
    "duration": 47,
    "start_time": "2022-08-23T21:24:20.386Z"
   },
   {
    "duration": 1424,
    "start_time": "2022-08-23T21:24:35.000Z"
   },
   {
    "duration": 2873,
    "start_time": "2022-08-23T21:25:16.232Z"
   },
   {
    "duration": 1695,
    "start_time": "2022-08-23T21:27:39.126Z"
   },
   {
    "duration": 9,
    "start_time": "2022-08-23T21:30:28.394Z"
   },
   {
    "duration": 655,
    "start_time": "2022-08-23T21:31:24.871Z"
   },
   {
    "duration": 9,
    "start_time": "2022-08-23T21:31:36.592Z"
   },
   {
    "duration": 440,
    "start_time": "2022-08-23T21:31:43.797Z"
   },
   {
    "duration": 12,
    "start_time": "2022-08-23T21:31:45.549Z"
   },
   {
    "duration": 19,
    "start_time": "2022-08-23T21:33:48.011Z"
   },
   {
    "duration": 623,
    "start_time": "2022-08-23T21:36:18.294Z"
   },
   {
    "duration": 11,
    "start_time": "2022-08-23T21:36:22.288Z"
   },
   {
    "duration": 1210,
    "start_time": "2022-08-23T21:36:33.489Z"
   },
   {
    "duration": 454,
    "start_time": "2022-08-23T21:36:34.701Z"
   },
   {
    "duration": 17,
    "start_time": "2022-08-23T21:36:35.157Z"
   },
   {
    "duration": 99,
    "start_time": "2022-08-23T21:57:00.156Z"
   },
   {
    "duration": 3,
    "start_time": "2022-08-23T21:57:13.530Z"
   },
   {
    "duration": 4,
    "start_time": "2022-08-23T21:57:17.065Z"
   },
   {
    "duration": 35,
    "start_time": "2022-08-23T21:57:25.874Z"
   },
   {
    "duration": 13,
    "start_time": "2022-08-23T21:57:51.582Z"
   },
   {
    "duration": 41,
    "start_time": "2022-08-23T21:58:01.129Z"
   },
   {
    "duration": 4,
    "start_time": "2022-08-23T22:01:51.502Z"
   },
   {
    "duration": 4,
    "start_time": "2022-08-23T22:01:56.948Z"
   },
   {
    "duration": 9,
    "start_time": "2022-08-23T22:22:42.259Z"
   },
   {
    "duration": 13,
    "start_time": "2022-08-23T22:23:08.098Z"
   },
   {
    "duration": 15,
    "start_time": "2022-08-23T22:34:43.072Z"
   },
   {
    "duration": 13,
    "start_time": "2022-08-23T22:36:06.514Z"
   },
   {
    "duration": 13,
    "start_time": "2022-08-23T22:36:14.470Z"
   },
   {
    "duration": 2297,
    "start_time": "2022-08-23T22:44:25.484Z"
   },
   {
    "duration": 2132,
    "start_time": "2022-08-23T22:46:36.901Z"
   },
   {
    "duration": 960,
    "start_time": "2022-08-23T22:48:05.545Z"
   },
   {
    "duration": 1921,
    "start_time": "2022-08-24T13:41:46.005Z"
   },
   {
    "duration": 1663,
    "start_time": "2022-08-24T13:42:00.104Z"
   },
   {
    "duration": 860,
    "start_time": "2022-08-24T13:42:01.779Z"
   },
   {
    "duration": 18,
    "start_time": "2022-08-24T13:42:02.641Z"
   },
   {
    "duration": 6,
    "start_time": "2022-08-24T13:42:02.660Z"
   },
   {
    "duration": 68,
    "start_time": "2022-08-24T13:42:02.668Z"
   },
   {
    "duration": 4,
    "start_time": "2022-08-24T13:42:02.738Z"
   },
   {
    "duration": 15,
    "start_time": "2022-08-24T13:42:02.744Z"
   },
   {
    "duration": 2710,
    "start_time": "2022-08-24T13:42:02.761Z"
   },
   {
    "duration": 27,
    "start_time": "2022-08-24T13:42:05.473Z"
   },
   {
    "duration": 1196,
    "start_time": "2022-08-24T13:42:05.501Z"
   },
   {
    "duration": 13,
    "start_time": "2022-08-24T13:42:06.699Z"
   },
   {
    "duration": 4,
    "start_time": "2022-08-24T13:45:57.012Z"
   },
   {
    "duration": 4,
    "start_time": "2022-08-24T13:50:53.253Z"
   },
   {
    "duration": 141,
    "start_time": "2022-08-24T13:51:04.378Z"
   },
   {
    "duration": 25,
    "start_time": "2022-08-24T13:52:09.481Z"
   },
   {
    "duration": 1715,
    "start_time": "2022-08-25T09:35:14.017Z"
   },
   {
    "duration": 847,
    "start_time": "2022-08-25T09:35:15.735Z"
   },
   {
    "duration": 17,
    "start_time": "2022-08-25T09:35:16.583Z"
   },
   {
    "duration": 4,
    "start_time": "2022-08-25T09:35:16.602Z"
   },
   {
    "duration": 51,
    "start_time": "2022-08-25T09:35:16.607Z"
   },
   {
    "duration": 4,
    "start_time": "2022-08-25T09:35:16.660Z"
   },
   {
    "duration": 15,
    "start_time": "2022-08-25T09:35:16.665Z"
   },
   {
    "duration": 2304,
    "start_time": "2022-08-25T09:35:16.682Z"
   },
   {
    "duration": 13,
    "start_time": "2022-08-25T09:35:18.988Z"
   },
   {
    "duration": 1078,
    "start_time": "2022-08-25T09:35:19.003Z"
   },
   {
    "duration": 119,
    "start_time": "2022-08-25T09:35:20.083Z"
   },
   {
    "duration": 0,
    "start_time": "2022-08-25T09:35:20.204Z"
   },
   {
    "duration": 0,
    "start_time": "2022-08-25T09:35:20.205Z"
   },
   {
    "duration": 0,
    "start_time": "2022-08-25T09:35:20.206Z"
   },
   {
    "duration": 7,
    "start_time": "2022-08-25T09:38:58.361Z"
   },
   {
    "duration": 13,
    "start_time": "2022-08-25T09:39:01.814Z"
   },
   {
    "duration": 989,
    "start_time": "2022-08-25T09:39:19.680Z"
   },
   {
    "duration": 17,
    "start_time": "2022-08-25T09:42:18.849Z"
   },
   {
    "duration": 1374,
    "start_time": "2022-08-25T09:42:33.610Z"
   },
   {
    "duration": 1521,
    "start_time": "2022-08-25T09:44:24.539Z"
   },
   {
    "duration": 717,
    "start_time": "2022-08-25T09:44:26.062Z"
   },
   {
    "duration": 16,
    "start_time": "2022-08-25T09:44:26.780Z"
   },
   {
    "duration": 3,
    "start_time": "2022-08-25T09:44:26.798Z"
   },
   {
    "duration": 56,
    "start_time": "2022-08-25T09:44:26.803Z"
   },
   {
    "duration": 4,
    "start_time": "2022-08-25T09:44:26.861Z"
   },
   {
    "duration": 14,
    "start_time": "2022-08-25T09:44:26.866Z"
   },
   {
    "duration": 2350,
    "start_time": "2022-08-25T09:44:26.882Z"
   },
   {
    "duration": 9,
    "start_time": "2022-08-25T09:44:29.234Z"
   },
   {
    "duration": 24,
    "start_time": "2022-08-25T09:44:29.246Z"
   },
   {
    "duration": 1165,
    "start_time": "2022-08-25T09:44:29.272Z"
   },
   {
    "duration": 17,
    "start_time": "2022-08-25T09:44:30.440Z"
   },
   {
    "duration": 139,
    "start_time": "2022-08-25T09:44:30.459Z"
   },
   {
    "duration": 0,
    "start_time": "2022-08-25T09:44:30.600Z"
   },
   {
    "duration": 0,
    "start_time": "2022-08-25T09:44:30.601Z"
   },
   {
    "duration": 0,
    "start_time": "2022-08-25T09:44:30.602Z"
   },
   {
    "duration": 13,
    "start_time": "2022-08-25T09:45:57.291Z"
   },
   {
    "duration": 8,
    "start_time": "2022-08-25T09:47:13.394Z"
   },
   {
    "duration": 5,
    "start_time": "2022-08-25T09:47:32.198Z"
   },
   {
    "duration": 24,
    "start_time": "2022-08-25T09:47:35.808Z"
   },
   {
    "duration": 14,
    "start_time": "2022-08-25T09:52:12.566Z"
   },
   {
    "duration": 17,
    "start_time": "2022-08-25T09:52:20.898Z"
   },
   {
    "duration": 1554,
    "start_time": "2022-08-25T09:52:29.470Z"
   },
   {
    "duration": 1,
    "start_time": "2022-08-25T09:52:31.026Z"
   },
   {
    "duration": 0,
    "start_time": "2022-08-25T09:52:31.028Z"
   },
   {
    "duration": 0,
    "start_time": "2022-08-25T09:52:31.028Z"
   },
   {
    "duration": 0,
    "start_time": "2022-08-25T09:52:31.029Z"
   },
   {
    "duration": 0,
    "start_time": "2022-08-25T09:52:31.030Z"
   },
   {
    "duration": 0,
    "start_time": "2022-08-25T09:52:31.031Z"
   },
   {
    "duration": 0,
    "start_time": "2022-08-25T09:52:31.032Z"
   },
   {
    "duration": 0,
    "start_time": "2022-08-25T09:52:31.033Z"
   },
   {
    "duration": 0,
    "start_time": "2022-08-25T09:52:31.034Z"
   },
   {
    "duration": 0,
    "start_time": "2022-08-25T09:52:31.035Z"
   },
   {
    "duration": 0,
    "start_time": "2022-08-25T09:52:31.037Z"
   },
   {
    "duration": 0,
    "start_time": "2022-08-25T09:52:31.038Z"
   },
   {
    "duration": 0,
    "start_time": "2022-08-25T09:52:31.039Z"
   },
   {
    "duration": 0,
    "start_time": "2022-08-25T09:52:31.061Z"
   },
   {
    "duration": 0,
    "start_time": "2022-08-25T09:52:31.063Z"
   },
   {
    "duration": 1535,
    "start_time": "2022-08-25T09:53:03.319Z"
   },
   {
    "duration": 763,
    "start_time": "2022-08-25T09:53:04.856Z"
   },
   {
    "duration": 17,
    "start_time": "2022-08-25T09:53:05.621Z"
   },
   {
    "duration": 4,
    "start_time": "2022-08-25T09:53:05.640Z"
   },
   {
    "duration": 59,
    "start_time": "2022-08-25T09:53:05.645Z"
   },
   {
    "duration": 5,
    "start_time": "2022-08-25T09:53:05.705Z"
   },
   {
    "duration": 22,
    "start_time": "2022-08-25T09:53:05.712Z"
   },
   {
    "duration": 2312,
    "start_time": "2022-08-25T09:53:05.736Z"
   },
   {
    "duration": 12,
    "start_time": "2022-08-25T09:53:08.050Z"
   },
   {
    "duration": 18,
    "start_time": "2022-08-25T09:53:08.065Z"
   },
   {
    "duration": 1119,
    "start_time": "2022-08-25T09:53:08.085Z"
   },
   {
    "duration": 19,
    "start_time": "2022-08-25T09:53:09.205Z"
   },
   {
    "duration": 9,
    "start_time": "2022-08-25T09:53:09.226Z"
   },
   {
    "duration": 6,
    "start_time": "2022-08-25T09:53:09.237Z"
   },
   {
    "duration": 1013,
    "start_time": "2022-08-25T09:53:09.244Z"
   },
   {
    "duration": 11,
    "start_time": "2022-08-25T09:53:10.259Z"
   },
   {
    "duration": 286777,
    "start_time": "2022-08-25T09:55:03.590Z"
   },
   {
    "duration": 1082,
    "start_time": "2022-08-25T10:01:14.383Z"
   },
   {
    "duration": 14,
    "start_time": "2022-08-25T10:01:39.132Z"
   },
   {
    "duration": 18,
    "start_time": "2022-08-25T10:01:55.491Z"
   },
   {
    "duration": 17,
    "start_time": "2022-08-25T10:02:25.077Z"
   },
   {
    "duration": 1676,
    "start_time": "2022-08-26T19:37:39.349Z"
   },
   {
    "duration": 647,
    "start_time": "2022-08-26T19:37:41.027Z"
   },
   {
    "duration": 17,
    "start_time": "2022-08-26T19:37:41.676Z"
   },
   {
    "duration": 4,
    "start_time": "2022-08-26T19:37:41.695Z"
   },
   {
    "duration": 50,
    "start_time": "2022-08-26T19:37:41.701Z"
   },
   {
    "duration": 6,
    "start_time": "2022-08-26T19:37:41.753Z"
   },
   {
    "duration": 32,
    "start_time": "2022-08-26T19:37:41.760Z"
   },
   {
    "duration": 2386,
    "start_time": "2022-08-26T19:37:41.794Z"
   },
   {
    "duration": 8,
    "start_time": "2022-08-26T19:37:44.182Z"
   },
   {
    "duration": 17,
    "start_time": "2022-08-26T19:37:44.192Z"
   },
   {
    "duration": 1225,
    "start_time": "2022-08-26T19:37:47.935Z"
   },
   {
    "duration": 23,
    "start_time": "2022-08-26T19:38:04.653Z"
   },
   {
    "duration": 17,
    "start_time": "2022-08-26T19:38:18.041Z"
   },
   {
    "duration": 7,
    "start_time": "2022-08-26T19:38:46.408Z"
   },
   {
    "duration": 46,
    "start_time": "2022-08-26T19:42:49.343Z"
   },
   {
    "duration": 110,
    "start_time": "2022-08-26T19:42:55.713Z"
   },
   {
    "duration": 11,
    "start_time": "2022-08-26T19:43:46.964Z"
   },
   {
    "duration": 27,
    "start_time": "2022-08-26T19:43:59.803Z"
   },
   {
    "duration": 1637,
    "start_time": "2022-08-27T09:06:41.933Z"
   },
   {
    "duration": 673,
    "start_time": "2022-08-27T09:06:43.573Z"
   },
   {
    "duration": 15,
    "start_time": "2022-08-27T09:06:44.247Z"
   },
   {
    "duration": 4,
    "start_time": "2022-08-27T09:06:44.263Z"
   },
   {
    "duration": 47,
    "start_time": "2022-08-27T09:06:44.268Z"
   },
   {
    "duration": 5,
    "start_time": "2022-08-27T09:06:44.316Z"
   },
   {
    "duration": 12,
    "start_time": "2022-08-27T09:06:44.322Z"
   },
   {
    "duration": 25,
    "start_time": "2022-08-27T09:06:44.335Z"
   },
   {
    "duration": 2379,
    "start_time": "2022-08-27T09:06:44.361Z"
   },
   {
    "duration": 6,
    "start_time": "2022-08-27T09:06:46.742Z"
   },
   {
    "duration": 18,
    "start_time": "2022-08-27T09:06:46.749Z"
   },
   {
    "duration": 1012,
    "start_time": "2022-08-27T09:06:46.768Z"
   },
   {
    "duration": 2,
    "start_time": "2022-08-27T09:11:11.810Z"
   },
   {
    "duration": 122,
    "start_time": "2022-08-27T09:11:27.345Z"
   },
   {
    "duration": 10,
    "start_time": "2022-08-27T09:11:59.684Z"
   },
   {
    "duration": 1495,
    "start_time": "2022-08-27T09:12:47.796Z"
   },
   {
    "duration": 657,
    "start_time": "2022-08-27T09:12:49.293Z"
   },
   {
    "duration": 16,
    "start_time": "2022-08-27T09:12:49.952Z"
   },
   {
    "duration": 4,
    "start_time": "2022-08-27T09:12:49.969Z"
   },
   {
    "duration": 53,
    "start_time": "2022-08-27T09:12:49.975Z"
   },
   {
    "duration": 5,
    "start_time": "2022-08-27T09:12:50.030Z"
   },
   {
    "duration": 35,
    "start_time": "2022-08-27T09:12:50.036Z"
   },
   {
    "duration": 33,
    "start_time": "2022-08-27T09:12:50.073Z"
   },
   {
    "duration": 9,
    "start_time": "2022-08-27T09:12:50.108Z"
   },
   {
    "duration": 2141,
    "start_time": "2022-08-27T09:12:50.119Z"
   },
   {
    "duration": 2208,
    "start_time": "2022-08-27T09:12:52.262Z"
   },
   {
    "duration": 7,
    "start_time": "2022-08-27T09:12:54.472Z"
   },
   {
    "duration": 26,
    "start_time": "2022-08-27T09:12:54.481Z"
   },
   {
    "duration": 963,
    "start_time": "2022-08-27T09:12:54.517Z"
   },
   {
    "duration": 5,
    "start_time": "2022-08-27T09:15:19.076Z"
   },
   {
    "duration": 673,
    "start_time": "2022-08-27T09:15:19.083Z"
   },
   {
    "duration": 11,
    "start_time": "2022-08-27T09:15:19.758Z"
   },
   {
    "duration": 14,
    "start_time": "2022-08-27T09:15:19.770Z"
   },
   {
    "duration": 49,
    "start_time": "2022-08-27T09:15:19.786Z"
   },
   {
    "duration": 4,
    "start_time": "2022-08-27T09:15:19.836Z"
   },
   {
    "duration": 10,
    "start_time": "2022-08-27T09:15:19.841Z"
   },
   {
    "duration": 26,
    "start_time": "2022-08-27T09:15:19.852Z"
   },
   {
    "duration": 2194,
    "start_time": "2022-08-27T09:15:19.879Z"
   },
   {
    "duration": 6,
    "start_time": "2022-08-27T09:15:22.075Z"
   },
   {
    "duration": 2089,
    "start_time": "2022-08-27T09:15:22.083Z"
   },
   {
    "duration": 6,
    "start_time": "2022-08-27T09:15:24.174Z"
   },
   {
    "duration": 25,
    "start_time": "2022-08-27T09:15:24.182Z"
   },
   {
    "duration": 943,
    "start_time": "2022-08-27T09:15:24.210Z"
   },
   {
    "duration": 4,
    "start_time": "2022-08-27T09:21:47.361Z"
   },
   {
    "duration": 556,
    "start_time": "2022-08-27T09:21:47.368Z"
   },
   {
    "duration": 11,
    "start_time": "2022-08-27T09:21:47.925Z"
   },
   {
    "duration": 5,
    "start_time": "2022-08-27T09:21:47.938Z"
   },
   {
    "duration": 43,
    "start_time": "2022-08-27T09:21:47.944Z"
   },
   {
    "duration": 3,
    "start_time": "2022-08-27T09:21:47.989Z"
   },
   {
    "duration": 9,
    "start_time": "2022-08-27T09:21:48.005Z"
   },
   {
    "duration": 26,
    "start_time": "2022-08-27T09:21:48.015Z"
   },
   {
    "duration": 2465,
    "start_time": "2022-08-27T09:21:48.043Z"
   },
   {
    "duration": 7,
    "start_time": "2022-08-27T09:21:50.510Z"
   },
   {
    "duration": 20,
    "start_time": "2022-08-27T09:21:50.518Z"
   },
   {
    "duration": 26,
    "start_time": "2022-08-27T09:21:50.539Z"
   },
   {
    "duration": 964,
    "start_time": "2022-08-27T09:21:50.567Z"
   },
   {
    "duration": 119,
    "start_time": "2022-08-27T09:29:48.968Z"
   },
   {
    "duration": 14,
    "start_time": "2022-08-27T09:30:03.681Z"
   },
   {
    "duration": 818,
    "start_time": "2022-08-27T09:30:51.994Z"
   },
   {
    "duration": 1487,
    "start_time": "2022-08-27T09:32:30.570Z"
   },
   {
    "duration": 1777,
    "start_time": "2022-08-27T09:32:32.059Z"
   },
   {
    "duration": 16,
    "start_time": "2022-08-27T09:32:33.837Z"
   },
   {
    "duration": 8,
    "start_time": "2022-08-27T09:32:33.855Z"
   },
   {
    "duration": 44,
    "start_time": "2022-08-27T09:32:33.864Z"
   },
   {
    "duration": 4,
    "start_time": "2022-08-27T09:32:33.910Z"
   },
   {
    "duration": 17,
    "start_time": "2022-08-27T09:32:33.915Z"
   },
   {
    "duration": 27,
    "start_time": "2022-08-27T09:32:33.934Z"
   },
   {
    "duration": 2365,
    "start_time": "2022-08-27T09:32:33.963Z"
   },
   {
    "duration": 7,
    "start_time": "2022-08-27T09:32:36.330Z"
   },
   {
    "duration": 7,
    "start_time": "2022-08-27T09:32:36.339Z"
   },
   {
    "duration": 13,
    "start_time": "2022-08-27T09:32:36.348Z"
   },
   {
    "duration": 1009,
    "start_time": "2022-08-27T09:32:36.363Z"
   },
   {
    "duration": 20,
    "start_time": "2022-08-27T09:32:37.374Z"
   },
   {
    "duration": 9,
    "start_time": "2022-08-27T09:32:37.397Z"
   },
   {
    "duration": 4,
    "start_time": "2022-08-27T09:32:37.407Z"
   },
   {
    "duration": 773,
    "start_time": "2022-08-27T09:32:37.412Z"
   },
   {
    "duration": 8,
    "start_time": "2022-08-27T09:32:38.187Z"
   },
   {
    "duration": 161181,
    "start_time": "2022-08-27T09:32:38.197Z"
   },
   {
    "duration": 827,
    "start_time": "2022-08-27T09:35:19.379Z"
   },
   {
    "duration": 16,
    "start_time": "2022-08-27T09:35:20.208Z"
   },
   {
    "duration": 649,
    "start_time": "2022-08-27T09:41:37.861Z"
   },
   {
    "duration": 102,
    "start_time": "2022-08-27T09:41:38.512Z"
   },
   {
    "duration": 533,
    "start_time": "2022-08-27T09:41:50.673Z"
   },
   {
    "duration": 99,
    "start_time": "2022-08-27T09:41:51.208Z"
   },
   {
    "duration": 277,
    "start_time": "2022-08-27T09:42:09.543Z"
   },
   {
    "duration": 102,
    "start_time": "2022-08-27T09:42:09.907Z"
   },
   {
    "duration": 278,
    "start_time": "2022-08-27T09:42:15.128Z"
   },
   {
    "duration": 14,
    "start_time": "2022-08-27T09:42:15.628Z"
   },
   {
    "duration": 823,
    "start_time": "2022-08-27T09:42:25.283Z"
   },
   {
    "duration": 15,
    "start_time": "2022-08-27T09:42:26.319Z"
   },
   {
    "duration": 1527,
    "start_time": "2022-08-27T09:43:42.715Z"
   },
   {
    "duration": 690,
    "start_time": "2022-08-27T09:43:44.245Z"
   },
   {
    "duration": 20,
    "start_time": "2022-08-27T09:43:44.937Z"
   },
   {
    "duration": 10,
    "start_time": "2022-08-27T09:43:44.959Z"
   },
   {
    "duration": 69,
    "start_time": "2022-08-27T09:43:44.971Z"
   },
   {
    "duration": 4,
    "start_time": "2022-08-27T09:43:45.042Z"
   },
   {
    "duration": 34,
    "start_time": "2022-08-27T09:43:45.047Z"
   },
   {
    "duration": 32,
    "start_time": "2022-08-27T09:43:45.082Z"
   },
   {
    "duration": 2329,
    "start_time": "2022-08-27T09:43:45.115Z"
   },
   {
    "duration": 6,
    "start_time": "2022-08-27T09:43:47.446Z"
   },
   {
    "duration": 7,
    "start_time": "2022-08-27T09:43:47.454Z"
   },
   {
    "duration": 13,
    "start_time": "2022-08-27T09:43:47.463Z"
   },
   {
    "duration": 1119,
    "start_time": "2022-08-27T09:43:47.477Z"
   },
   {
    "duration": 4,
    "start_time": "2022-08-27T09:43:48.599Z"
   },
   {
    "duration": 17,
    "start_time": "2022-08-27T09:43:48.605Z"
   },
   {
    "duration": 5,
    "start_time": "2022-08-27T09:43:48.624Z"
   },
   {
    "duration": 944,
    "start_time": "2022-08-27T09:43:48.630Z"
   },
   {
    "duration": 8,
    "start_time": "2022-08-27T09:43:49.576Z"
   },
   {
    "duration": 164084,
    "start_time": "2022-08-27T09:43:49.586Z"
   },
   {
    "duration": 739,
    "start_time": "2022-08-27T09:46:33.672Z"
   },
   {
    "duration": 101,
    "start_time": "2022-08-27T09:46:34.413Z"
   },
   {
    "duration": 776,
    "start_time": "2022-08-27T09:47:31.043Z"
   },
   {
    "duration": 103,
    "start_time": "2022-08-27T09:47:31.909Z"
   },
   {
    "duration": 665,
    "start_time": "2022-08-27T09:47:45.645Z"
   },
   {
    "duration": 96,
    "start_time": "2022-08-27T09:47:46.313Z"
   },
   {
    "duration": 749,
    "start_time": "2022-08-27T09:47:53.057Z"
   },
   {
    "duration": 13,
    "start_time": "2022-08-27T09:47:56.653Z"
   },
   {
    "duration": 1051,
    "start_time": "2022-08-27T10:15:39.602Z"
   },
   {
    "duration": 5,
    "start_time": "2022-08-27T10:17:12.156Z"
   },
   {
    "duration": 1291,
    "start_time": "2022-08-27T10:17:27.916Z"
   },
   {
    "duration": 16,
    "start_time": "2022-08-27T10:17:29.209Z"
   },
   {
    "duration": 1006,
    "start_time": "2022-08-27T10:17:30.363Z"
   },
   {
    "duration": 6,
    "start_time": "2022-08-27T10:17:32.051Z"
   },
   {
    "duration": 1248,
    "start_time": "2022-08-27T10:18:27.370Z"
   },
   {
    "duration": 97,
    "start_time": "2022-08-27T10:18:28.620Z"
   },
   {
    "duration": 1049,
    "start_time": "2022-08-27T10:18:28.720Z"
   },
   {
    "duration": 7,
    "start_time": "2022-08-27T10:18:29.772Z"
   },
   {
    "duration": 1567,
    "start_time": "2022-08-27T10:21:54.486Z"
   },
   {
    "duration": 696,
    "start_time": "2022-08-27T10:21:56.056Z"
   },
   {
    "duration": 15,
    "start_time": "2022-08-27T10:21:56.753Z"
   },
   {
    "duration": 4,
    "start_time": "2022-08-27T10:21:56.770Z"
   },
   {
    "duration": 56,
    "start_time": "2022-08-27T10:21:56.775Z"
   },
   {
    "duration": 4,
    "start_time": "2022-08-27T10:21:56.833Z"
   },
   {
    "duration": 14,
    "start_time": "2022-08-27T10:21:56.839Z"
   },
   {
    "duration": 26,
    "start_time": "2022-08-27T10:21:56.855Z"
   },
   {
    "duration": 2141,
    "start_time": "2022-08-27T10:21:56.882Z"
   },
   {
    "duration": 8,
    "start_time": "2022-08-27T10:21:59.025Z"
   },
   {
    "duration": 7,
    "start_time": "2022-08-27T10:21:59.034Z"
   },
   {
    "duration": 13,
    "start_time": "2022-08-27T10:21:59.043Z"
   },
   {
    "duration": 995,
    "start_time": "2022-08-27T10:21:59.058Z"
   },
   {
    "duration": 5,
    "start_time": "2022-08-27T10:22:00.055Z"
   },
   {
    "duration": 14,
    "start_time": "2022-08-27T10:22:00.061Z"
   },
   {
    "duration": 4,
    "start_time": "2022-08-27T10:22:00.076Z"
   },
   {
    "duration": 814,
    "start_time": "2022-08-27T10:22:00.081Z"
   },
   {
    "duration": 10,
    "start_time": "2022-08-27T10:22:00.896Z"
   },
   {
    "duration": 163855,
    "start_time": "2022-08-27T10:22:00.907Z"
   },
   {
    "duration": 1350,
    "start_time": "2022-08-27T10:24:44.764Z"
   },
   {
    "duration": 17,
    "start_time": "2022-08-27T10:24:46.117Z"
   },
   {
    "duration": 1061,
    "start_time": "2022-08-27T10:24:46.139Z"
   },
   {
    "duration": 7,
    "start_time": "2022-08-27T10:24:47.202Z"
   },
   {
    "duration": 1151,
    "start_time": "2022-08-27T10:26:19.060Z"
   },
   {
    "duration": 101,
    "start_time": "2022-08-27T10:26:20.213Z"
   },
   {
    "duration": 1070,
    "start_time": "2022-08-27T10:26:20.470Z"
   },
   {
    "duration": 7,
    "start_time": "2022-08-27T10:26:21.543Z"
   },
   {
    "duration": 715,
    "start_time": "2022-08-27T10:27:53.503Z"
   },
   {
    "duration": 18,
    "start_time": "2022-08-27T10:27:54.307Z"
   },
   {
    "duration": 1044,
    "start_time": "2022-08-27T10:27:54.327Z"
   },
   {
    "duration": 5,
    "start_time": "2022-08-27T10:27:55.373Z"
   },
   {
    "duration": 1136,
    "start_time": "2022-08-27T10:28:09.877Z"
   },
   {
    "duration": 15,
    "start_time": "2022-08-27T10:28:11.015Z"
   },
   {
    "duration": 1111,
    "start_time": "2022-08-27T10:28:11.032Z"
   },
   {
    "duration": 6,
    "start_time": "2022-08-27T10:28:12.145Z"
   },
   {
    "duration": 1615,
    "start_time": "2022-08-27T10:28:31.905Z"
   },
   {
    "duration": 17,
    "start_time": "2022-08-27T10:28:33.521Z"
   },
   {
    "duration": 1128,
    "start_time": "2022-08-27T10:28:33.539Z"
   },
   {
    "duration": 6,
    "start_time": "2022-08-27T10:28:34.669Z"
   },
   {
    "duration": 1071,
    "start_time": "2022-08-27T10:34:23.521Z"
   },
   {
    "duration": 1028,
    "start_time": "2022-08-27T10:35:30.587Z"
   },
   {
    "duration": 13,
    "start_time": "2022-08-27T10:35:31.707Z"
   },
   {
    "duration": 1058,
    "start_time": "2022-08-27T10:35:31.722Z"
   },
   {
    "duration": 6,
    "start_time": "2022-08-27T10:35:32.782Z"
   },
   {
    "duration": 3,
    "start_time": "2022-08-27T10:36:42.622Z"
   },
   {
    "duration": 7,
    "start_time": "2022-08-27T10:36:51.274Z"
   },
   {
    "duration": 1697,
    "start_time": "2022-08-27T10:36:54.014Z"
   },
   {
    "duration": 18,
    "start_time": "2022-08-27T10:36:55.713Z"
   },
   {
    "duration": 998,
    "start_time": "2022-08-27T10:36:57.144Z"
   },
   {
    "duration": 5,
    "start_time": "2022-08-27T10:36:58.144Z"
   },
   {
    "duration": 975,
    "start_time": "2022-08-27T10:39:20.256Z"
   },
   {
    "duration": 17,
    "start_time": "2022-08-27T10:39:21.308Z"
   },
   {
    "duration": 1024,
    "start_time": "2022-08-27T10:39:21.326Z"
   },
   {
    "duration": 6,
    "start_time": "2022-08-27T10:39:22.352Z"
   },
   {
    "duration": 1211,
    "start_time": "2022-08-27T10:39:41.797Z"
   },
   {
    "duration": 99,
    "start_time": "2022-08-27T10:39:43.010Z"
   },
   {
    "duration": 1029,
    "start_time": "2022-08-27T10:39:43.110Z"
   },
   {
    "duration": 6,
    "start_time": "2022-08-27T10:39:44.142Z"
   },
   {
    "duration": 1326,
    "start_time": "2022-08-27T10:39:56.585Z"
   },
   {
    "duration": 17,
    "start_time": "2022-08-27T10:39:57.913Z"
   },
   {
    "duration": 996,
    "start_time": "2022-08-27T10:39:57.932Z"
   },
   {
    "duration": 5,
    "start_time": "2022-08-27T10:39:58.930Z"
   },
   {
    "duration": 135,
    "start_time": "2022-08-27T11:55:02.233Z"
   },
   {
    "duration": 12,
    "start_time": "2022-08-27T11:55:17.150Z"
   },
   {
    "duration": 11,
    "start_time": "2022-08-27T11:56:20.583Z"
   },
   {
    "duration": 9,
    "start_time": "2022-08-27T11:57:48.895Z"
   },
   {
    "duration": 15,
    "start_time": "2022-08-27T12:00:10.176Z"
   },
   {
    "duration": 12,
    "start_time": "2022-08-27T12:01:39.893Z"
   },
   {
    "duration": 9,
    "start_time": "2022-08-27T12:01:45.392Z"
   },
   {
    "duration": 7,
    "start_time": "2022-08-27T13:02:01.326Z"
   },
   {
    "duration": 7,
    "start_time": "2022-08-27T13:02:15.936Z"
   },
   {
    "duration": 931,
    "start_time": "2022-08-27T13:02:15.945Z"
   },
   {
    "duration": 11,
    "start_time": "2022-08-27T13:02:16.878Z"
   },
   {
    "duration": 4,
    "start_time": "2022-08-27T13:02:16.892Z"
   },
   {
    "duration": 66,
    "start_time": "2022-08-27T13:02:16.898Z"
   },
   {
    "duration": 5,
    "start_time": "2022-08-27T13:02:16.965Z"
   },
   {
    "duration": 14,
    "start_time": "2022-08-27T13:02:16.972Z"
   },
   {
    "duration": 8,
    "start_time": "2022-08-27T13:02:16.987Z"
   },
   {
    "duration": 1763,
    "start_time": "2022-08-27T13:03:31.868Z"
   },
   {
    "duration": 723,
    "start_time": "2022-08-27T13:03:33.634Z"
   },
   {
    "duration": 18,
    "start_time": "2022-08-27T13:03:34.359Z"
   },
   {
    "duration": 5,
    "start_time": "2022-08-27T13:03:34.379Z"
   },
   {
    "duration": 61,
    "start_time": "2022-08-27T13:03:34.387Z"
   },
   {
    "duration": 6,
    "start_time": "2022-08-27T13:03:34.450Z"
   },
   {
    "duration": 17,
    "start_time": "2022-08-27T13:03:34.458Z"
   },
   {
    "duration": 7,
    "start_time": "2022-08-27T13:03:34.477Z"
   },
   {
    "duration": 59,
    "start_time": "2022-08-27T13:03:34.486Z"
   },
   {
    "duration": 2799,
    "start_time": "2022-08-27T13:03:34.547Z"
   },
   {
    "duration": 9,
    "start_time": "2022-08-27T13:03:37.348Z"
   },
   {
    "duration": 10,
    "start_time": "2022-08-27T13:03:37.359Z"
   },
   {
    "duration": 36,
    "start_time": "2022-08-27T13:03:37.371Z"
   },
   {
    "duration": 1034,
    "start_time": "2022-08-27T13:03:37.413Z"
   },
   {
    "duration": 4,
    "start_time": "2022-08-27T13:03:38.448Z"
   },
   {
    "duration": 11,
    "start_time": "2022-08-27T13:03:38.454Z"
   },
   {
    "duration": 11,
    "start_time": "2022-08-27T13:03:38.467Z"
   },
   {
    "duration": 952,
    "start_time": "2022-08-27T13:03:38.480Z"
   },
   {
    "duration": 9,
    "start_time": "2022-08-27T13:03:39.434Z"
   },
   {
    "duration": 185182,
    "start_time": "2022-08-27T13:03:39.446Z"
   },
   {
    "duration": 1101,
    "start_time": "2022-08-27T13:06:44.630Z"
   },
   {
    "duration": 76,
    "start_time": "2022-08-27T13:06:45.734Z"
   },
   {
    "duration": 955,
    "start_time": "2022-08-27T13:06:45.816Z"
   },
   {
    "duration": 11,
    "start_time": "2022-08-27T13:06:46.772Z"
   },
   {
    "duration": 30,
    "start_time": "2022-08-27T13:06:46.785Z"
   },
   {
    "duration": 39,
    "start_time": "2022-08-27T13:06:46.817Z"
   },
   {
    "duration": 10,
    "start_time": "2022-08-27T13:06:46.858Z"
   },
   {
    "duration": 13,
    "start_time": "2022-08-27T13:06:46.870Z"
   },
   {
    "duration": 4,
    "start_time": "2022-08-27T13:06:46.887Z"
   },
   {
    "duration": 60,
    "start_time": "2022-08-28T11:55:38.823Z"
   },
   {
    "duration": 1920,
    "start_time": "2022-08-28T11:55:45.328Z"
   },
   {
    "duration": 834,
    "start_time": "2022-08-28T11:55:47.251Z"
   },
   {
    "duration": 15,
    "start_time": "2022-08-28T11:55:48.087Z"
   },
   {
    "duration": 4,
    "start_time": "2022-08-28T11:55:48.103Z"
   },
   {
    "duration": 72,
    "start_time": "2022-08-28T11:55:48.109Z"
   },
   {
    "duration": 5,
    "start_time": "2022-08-28T11:55:48.183Z"
   },
   {
    "duration": 14,
    "start_time": "2022-08-28T11:55:48.190Z"
   },
   {
    "duration": 99,
    "start_time": "2022-08-28T11:55:51.507Z"
   },
   {
    "duration": 10,
    "start_time": "2022-08-28T11:55:56.034Z"
   },
   {
    "duration": 7,
    "start_time": "2022-08-28T11:56:10.776Z"
   },
   {
    "duration": 8,
    "start_time": "2022-08-28T11:57:02.829Z"
   },
   {
    "duration": 7,
    "start_time": "2022-08-28T11:57:55.741Z"
   },
   {
    "duration": 9,
    "start_time": "2022-08-28T12:19:04.527Z"
   },
   {
    "duration": 11,
    "start_time": "2022-08-28T12:19:17.727Z"
   },
   {
    "duration": 7,
    "start_time": "2022-08-28T12:19:51.176Z"
   },
   {
    "duration": 15,
    "start_time": "2022-08-28T12:48:27.997Z"
   },
   {
    "duration": 1630,
    "start_time": "2022-08-28T12:48:41.783Z"
   },
   {
    "duration": 872,
    "start_time": "2022-08-28T12:48:43.415Z"
   },
   {
    "duration": 15,
    "start_time": "2022-08-28T12:48:44.289Z"
   },
   {
    "duration": 12,
    "start_time": "2022-08-28T12:48:44.306Z"
   },
   {
    "duration": 59,
    "start_time": "2022-08-28T12:48:44.320Z"
   },
   {
    "duration": 4,
    "start_time": "2022-08-28T12:48:44.381Z"
   },
   {
    "duration": 27,
    "start_time": "2022-08-28T12:48:44.387Z"
   },
   {
    "duration": 9,
    "start_time": "2022-08-28T12:48:44.416Z"
   },
   {
    "duration": 42,
    "start_time": "2022-08-28T12:48:44.427Z"
   },
   {
    "duration": 2570,
    "start_time": "2022-08-28T12:48:44.472Z"
   },
   {
    "duration": 8,
    "start_time": "2022-08-28T12:48:47.044Z"
   },
   {
    "duration": 14,
    "start_time": "2022-08-28T12:48:47.054Z"
   },
   {
    "duration": 14,
    "start_time": "2022-08-28T12:48:47.070Z"
   },
   {
    "duration": 1188,
    "start_time": "2022-08-28T12:48:47.086Z"
   },
   {
    "duration": 4,
    "start_time": "2022-08-28T12:48:48.276Z"
   },
   {
    "duration": 14,
    "start_time": "2022-08-28T12:48:48.281Z"
   },
   {
    "duration": 7,
    "start_time": "2022-08-28T12:48:48.296Z"
   },
   {
    "duration": 951,
    "start_time": "2022-08-28T12:48:48.305Z"
   },
   {
    "duration": 12,
    "start_time": "2022-08-28T12:48:49.258Z"
   },
   {
    "duration": 201074,
    "start_time": "2022-08-28T12:48:49.272Z"
   },
   {
    "duration": 1590,
    "start_time": "2022-08-28T12:52:10.348Z"
   },
   {
    "duration": 27,
    "start_time": "2022-08-28T12:52:12.013Z"
   },
   {
    "duration": 1005,
    "start_time": "2022-08-28T12:52:12.043Z"
   },
   {
    "duration": 8,
    "start_time": "2022-08-28T12:52:13.050Z"
   },
   {
    "duration": 12,
    "start_time": "2022-08-28T12:52:13.061Z"
   },
   {
    "duration": 9,
    "start_time": "2022-08-28T12:52:13.074Z"
   },
   {
    "duration": 42,
    "start_time": "2022-08-28T12:52:13.085Z"
   },
   {
    "duration": 10,
    "start_time": "2022-08-28T12:52:13.132Z"
   },
   {
    "duration": 7,
    "start_time": "2022-08-28T12:56:54.373Z"
   },
   {
    "duration": 1600,
    "start_time": "2022-08-29T21:07:41.914Z"
   },
   {
    "duration": 560,
    "start_time": "2022-08-29T21:07:43.516Z"
   },
   {
    "duration": 15,
    "start_time": "2022-08-29T21:07:44.078Z"
   },
   {
    "duration": 6,
    "start_time": "2022-08-29T21:07:44.094Z"
   },
   {
    "duration": 46,
    "start_time": "2022-08-29T21:07:44.102Z"
   },
   {
    "duration": 18,
    "start_time": "2022-08-29T21:07:44.150Z"
   },
   {
    "duration": 22,
    "start_time": "2022-08-29T21:07:44.170Z"
   },
   {
    "duration": 9,
    "start_time": "2022-08-29T21:07:44.200Z"
   },
   {
    "duration": 34,
    "start_time": "2022-08-29T21:07:44.212Z"
   },
   {
    "duration": 2295,
    "start_time": "2022-08-29T21:07:44.247Z"
   },
   {
    "duration": 6,
    "start_time": "2022-08-29T21:07:46.544Z"
   },
   {
    "duration": 12,
    "start_time": "2022-08-29T21:07:46.552Z"
   },
   {
    "duration": 16,
    "start_time": "2022-08-29T21:07:46.566Z"
   },
   {
    "duration": 22,
    "start_time": "2022-08-29T21:07:46.584Z"
   },
   {
    "duration": 1195,
    "start_time": "2022-08-29T21:07:46.608Z"
   },
   {
    "duration": 9,
    "start_time": "2022-08-29T21:07:47.805Z"
   },
   {
    "duration": 8,
    "start_time": "2022-08-29T21:07:47.815Z"
   },
   {
    "duration": 830,
    "start_time": "2022-08-29T21:07:47.824Z"
   },
   {
    "duration": 7,
    "start_time": "2022-08-29T21:07:48.656Z"
   },
   {
    "duration": 169272,
    "start_time": "2022-08-29T21:07:48.665Z"
   },
   {
    "duration": 1465,
    "start_time": "2022-08-29T21:10:37.938Z"
   },
   {
    "duration": 15,
    "start_time": "2022-08-29T21:10:39.405Z"
   },
   {
    "duration": 1202,
    "start_time": "2022-08-29T21:10:39.422Z"
   },
   {
    "duration": 6,
    "start_time": "2022-08-29T21:10:40.626Z"
   },
   {
    "duration": 12,
    "start_time": "2022-08-29T21:10:40.633Z"
   },
   {
    "duration": 9,
    "start_time": "2022-08-29T21:10:40.647Z"
   },
   {
    "duration": 10,
    "start_time": "2022-08-29T21:10:40.657Z"
   },
   {
    "duration": 15,
    "start_time": "2022-08-29T21:10:40.701Z"
   },
   {
    "duration": 1444,
    "start_time": "2022-08-29T21:12:00.557Z"
   },
   {
    "duration": 17,
    "start_time": "2022-08-29T21:12:02.003Z"
   },
   {
    "duration": 1100,
    "start_time": "2022-08-29T21:12:02.022Z"
   },
   {
    "duration": 8,
    "start_time": "2022-08-29T21:12:03.124Z"
   },
   {
    "duration": 1067,
    "start_time": "2022-08-29T21:13:02.833Z"
   },
   {
    "duration": 99,
    "start_time": "2022-08-29T21:13:03.903Z"
   },
   {
    "duration": 1100,
    "start_time": "2022-08-29T21:13:04.005Z"
   },
   {
    "duration": 6,
    "start_time": "2022-08-29T21:13:05.108Z"
   },
   {
    "duration": 981,
    "start_time": "2022-08-29T21:14:07.636Z"
   },
   {
    "duration": 18,
    "start_time": "2022-08-29T21:14:08.699Z"
   },
   {
    "duration": 1047,
    "start_time": "2022-08-29T21:14:08.720Z"
   },
   {
    "duration": 9,
    "start_time": "2022-08-29T21:14:09.770Z"
   },
   {
    "duration": 1522,
    "start_time": "2022-08-29T21:14:35.108Z"
   },
   {
    "duration": 29,
    "start_time": "2022-08-29T21:14:36.632Z"
   },
   {
    "duration": 1176,
    "start_time": "2022-08-29T21:14:36.664Z"
   },
   {
    "duration": 7,
    "start_time": "2022-08-29T21:14:37.843Z"
   },
   {
    "duration": 1623,
    "start_time": "2022-08-30T07:46:29.873Z"
   },
   {
    "duration": 651,
    "start_time": "2022-08-30T07:46:31.499Z"
   },
   {
    "duration": 14,
    "start_time": "2022-08-30T07:46:32.152Z"
   },
   {
    "duration": 6,
    "start_time": "2022-08-30T07:46:32.168Z"
   },
   {
    "duration": 46,
    "start_time": "2022-08-30T07:46:32.175Z"
   },
   {
    "duration": 4,
    "start_time": "2022-08-30T07:46:32.223Z"
   },
   {
    "duration": 14,
    "start_time": "2022-08-30T07:46:32.228Z"
   },
   {
    "duration": 6,
    "start_time": "2022-08-30T07:46:32.243Z"
   },
   {
    "duration": 28,
    "start_time": "2022-08-30T07:46:32.250Z"
   },
   {
    "duration": 2258,
    "start_time": "2022-08-30T07:46:32.280Z"
   },
   {
    "duration": 7,
    "start_time": "2022-08-30T07:46:34.539Z"
   },
   {
    "duration": 8,
    "start_time": "2022-08-30T07:46:34.548Z"
   },
   {
    "duration": 14,
    "start_time": "2022-08-30T07:46:34.557Z"
   },
   {
    "duration": 3,
    "start_time": "2022-08-30T07:46:34.573Z"
   },
   {
    "duration": 1085,
    "start_time": "2022-08-30T07:46:34.578Z"
   },
   {
    "duration": 7,
    "start_time": "2022-08-30T07:46:35.665Z"
   },
   {
    "duration": 9,
    "start_time": "2022-08-30T07:46:35.674Z"
   },
   {
    "duration": 932,
    "start_time": "2022-08-30T07:46:35.684Z"
   },
   {
    "duration": 7,
    "start_time": "2022-08-30T07:46:36.617Z"
   },
   {
    "duration": 149491,
    "start_time": "2022-08-30T07:46:36.625Z"
   },
   {
    "duration": 1600,
    "start_time": "2022-08-30T07:49:06.118Z"
   },
   {
    "duration": 16,
    "start_time": "2022-08-30T07:49:07.719Z"
   },
   {
    "duration": 1051,
    "start_time": "2022-08-30T07:49:07.737Z"
   },
   {
    "duration": 5,
    "start_time": "2022-08-30T07:49:08.789Z"
   },
   {
    "duration": 21,
    "start_time": "2022-08-30T07:49:08.796Z"
   },
   {
    "duration": 27,
    "start_time": "2022-08-30T07:49:08.819Z"
   },
   {
    "duration": 33,
    "start_time": "2022-08-30T07:49:08.848Z"
   },
   {
    "duration": 12,
    "start_time": "2022-08-30T07:49:08.884Z"
   }
  ],
  "kernelspec": {
   "display_name": "Python 3 (ipykernel)",
   "language": "python",
   "name": "python3"
  },
  "language_info": {
   "codemirror_mode": {
    "name": "ipython",
    "version": 3
   },
   "file_extension": ".py",
   "mimetype": "text/x-python",
   "name": "python",
   "nbconvert_exporter": "python",
   "pygments_lexer": "ipython3",
   "version": "3.9.12"
  },
  "toc": {
   "base_numbering": 1,
   "nav_menu": {},
   "number_sections": true,
   "sideBar": true,
   "skip_h1_title": true,
   "title_cell": "Table of Contents",
   "title_sidebar": "Contents",
   "toc_cell": false,
   "toc_position": {},
   "toc_section_display": true,
   "toc_window_display": false
  }
 },
 "nbformat": 4,
 "nbformat_minor": 2
}
