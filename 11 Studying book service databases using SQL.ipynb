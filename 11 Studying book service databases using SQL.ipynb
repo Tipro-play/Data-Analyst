{
 "cells": [
  {
   "cell_type": "markdown",
   "metadata": {},
   "source": [
    "# Изучение баз данных книжного сервиса\n",
    "Проанализировать данные из нескольких баз данных, активность пользователей, количество обзоров, оценок. Все эти оценки требуются для последующего ценностного предложения для нового продукта."
   ]
  },
  {
   "cell_type": "code",
   "execution_count": 1,
   "metadata": {},
   "outputs": [],
   "source": [
    "# импортируем библиотеки\n",
    "import pandas as pd\n",
    "from sqlalchemy import create_engine\n",
    "# устанавливаем параметры\n",
    "db_config = {'user': 'praktikum_student', # имя пользователя\n",
    "'pwd': 'Sdf4$2;d-d30pp', # пароль\n",
    "'host': 'rc1b-wcoijxj3yxfsf3fs.mdb.yandexcloud.net',\n",
    "'port': 6432, # порт подключения\n",
    "'db': 'data-analyst-final-project-db'} # название базы данных\n",
    "connection_string = 'postgresql://{}:{}@{}:{}/{}'.format(db_config['user'],\n",
    " db_config['pwd'],\n",
    " db_config['host'],\n",
    " db_config['port'],\n",
    " db_config['db'])\n",
    "# сохраняем коннектор\n",
    "engine = create_engine(connection_string, connect_args={'sslmode':'require'})"
   ]
  },
  {
   "cell_type": "markdown",
   "metadata": {},
   "source": [
    "Для красоты выведем схему баз данных"
   ]
  },
  {
   "cell_type": "code",
   "execution_count": 2,
   "metadata": {},
   "outputs": [
    {
     "data": {
      "text/html": [
       "<img src=\"https://concrete-web-bad.notion.site/image/https%3A%2F%2Fs3-us-west-2.amazonaws.com%2Fsecure.notion-static.com%2F069818d1-0e5c-4d87-a461-0de584ab9c33%2FUntitled_(33).png?table=block&id=bd53c8db-b4fd-49eb-8cc9-572ebb3c9163&spaceId=9e4bd47b-c6e6-4ca3-bcee-279794b47315&width=2000&userId=&cache=v2\"/>"
      ],
      "text/plain": [
       "<IPython.core.display.Image object>"
      ]
     },
     "execution_count": 2,
     "metadata": {},
     "output_type": "execute_result"
    }
   ],
   "source": [
    "from IPython.display import Image\n",
    "from IPython.core.display import HTML\n",
    "Image(url=\"https://concrete-web-bad.notion.site/image/https%3A%2F%2Fs3-us-west-2.amazonaws.com%2Fsecure.notion-static.com%2F069818d1-0e5c-4d87-a461-0de584ab9c33%2FUntitled_(33).png?table=block&id=bd53c8db-b4fd-49eb-8cc9-572ebb3c9163&spaceId=9e4bd47b-c6e6-4ca3-bcee-279794b47315&width=2000&userId=&cache=v2\")"
   ]
  },
  {
   "cell_type": "markdown",
   "metadata": {},
   "source": [
    "# Задания\n",
    "* Посчитайте, сколько книг вышло после 1 января 2000 года;\n",
    "* Для каждой книги посчитайте количество обзоров и среднюю оценку;\n",
    "* Определите издательство, которое выпустило наибольшее число книг толще 50 страниц — так вы исключите из анализа брошюры;\n",
    "* Определите автора с самой высокой средней оценкой книг — учитывайте только книги с 50 и более оценками;\n",
    "* Посчитайте среднее количество обзоров от пользователей, которые поставили больше 50 оценок."
   ]
  },
  {
   "cell_type": "code",
   "execution_count": 3,
   "metadata": {
    "scrolled": true
   },
   "outputs": [
    {
     "data": {
      "text/html": [
       "<div>\n",
       "<style scoped>\n",
       "    .dataframe tbody tr th:only-of-type {\n",
       "        vertical-align: middle;\n",
       "    }\n",
       "\n",
       "    .dataframe tbody tr th {\n",
       "        vertical-align: top;\n",
       "    }\n",
       "\n",
       "    .dataframe thead th {\n",
       "        text-align: right;\n",
       "    }\n",
       "</style>\n",
       "<table border=\"1\" class=\"dataframe\">\n",
       "  <thead>\n",
       "    <tr style=\"text-align: right;\">\n",
       "      <th></th>\n",
       "      <th>book_id</th>\n",
       "      <th>author_id</th>\n",
       "      <th>title</th>\n",
       "      <th>num_pages</th>\n",
       "      <th>publication_date</th>\n",
       "      <th>publisher_id</th>\n",
       "    </tr>\n",
       "  </thead>\n",
       "  <tbody>\n",
       "    <tr>\n",
       "      <th>0</th>\n",
       "      <td>1</td>\n",
       "      <td>546</td>\n",
       "      <td>'Salem's Lot</td>\n",
       "      <td>594</td>\n",
       "      <td>2005-11-01</td>\n",
       "      <td>93</td>\n",
       "    </tr>\n",
       "    <tr>\n",
       "      <th>1</th>\n",
       "      <td>2</td>\n",
       "      <td>465</td>\n",
       "      <td>1 000 Places to See Before You Die</td>\n",
       "      <td>992</td>\n",
       "      <td>2003-05-22</td>\n",
       "      <td>336</td>\n",
       "    </tr>\n",
       "    <tr>\n",
       "      <th>2</th>\n",
       "      <td>3</td>\n",
       "      <td>407</td>\n",
       "      <td>13 Little Blue Envelopes (Little Blue Envelope...</td>\n",
       "      <td>322</td>\n",
       "      <td>2010-12-21</td>\n",
       "      <td>135</td>\n",
       "    </tr>\n",
       "  </tbody>\n",
       "</table>\n",
       "</div>"
      ],
      "text/plain": [
       "   book_id  author_id                                              title  \\\n",
       "0        1        546                                       'Salem's Lot   \n",
       "1        2        465                 1 000 Places to See Before You Die   \n",
       "2        3        407  13 Little Blue Envelopes (Little Blue Envelope...   \n",
       "\n",
       "   num_pages publication_date  publisher_id  \n",
       "0        594       2005-11-01            93  \n",
       "1        992       2003-05-22           336  \n",
       "2        322       2010-12-21           135  "
      ]
     },
     "metadata": {},
     "output_type": "display_data"
    },
    {
     "data": {
      "text/html": [
       "<div>\n",
       "<style scoped>\n",
       "    .dataframe tbody tr th:only-of-type {\n",
       "        vertical-align: middle;\n",
       "    }\n",
       "\n",
       "    .dataframe tbody tr th {\n",
       "        vertical-align: top;\n",
       "    }\n",
       "\n",
       "    .dataframe thead th {\n",
       "        text-align: right;\n",
       "    }\n",
       "</style>\n",
       "<table border=\"1\" class=\"dataframe\">\n",
       "  <thead>\n",
       "    <tr style=\"text-align: right;\">\n",
       "      <th></th>\n",
       "      <th>author_id</th>\n",
       "      <th>author</th>\n",
       "    </tr>\n",
       "  </thead>\n",
       "  <tbody>\n",
       "    <tr>\n",
       "      <th>0</th>\n",
       "      <td>1</td>\n",
       "      <td>A.S. Byatt</td>\n",
       "    </tr>\n",
       "    <tr>\n",
       "      <th>1</th>\n",
       "      <td>2</td>\n",
       "      <td>Aesop/Laura Harris/Laura Gibbs</td>\n",
       "    </tr>\n",
       "    <tr>\n",
       "      <th>2</th>\n",
       "      <td>3</td>\n",
       "      <td>Agatha Christie</td>\n",
       "    </tr>\n",
       "  </tbody>\n",
       "</table>\n",
       "</div>"
      ],
      "text/plain": [
       "   author_id                          author\n",
       "0          1                      A.S. Byatt\n",
       "1          2  Aesop/Laura Harris/Laura Gibbs\n",
       "2          3                 Agatha Christie"
      ]
     },
     "metadata": {},
     "output_type": "display_data"
    },
    {
     "data": {
      "text/html": [
       "<div>\n",
       "<style scoped>\n",
       "    .dataframe tbody tr th:only-of-type {\n",
       "        vertical-align: middle;\n",
       "    }\n",
       "\n",
       "    .dataframe tbody tr th {\n",
       "        vertical-align: top;\n",
       "    }\n",
       "\n",
       "    .dataframe thead th {\n",
       "        text-align: right;\n",
       "    }\n",
       "</style>\n",
       "<table border=\"1\" class=\"dataframe\">\n",
       "  <thead>\n",
       "    <tr style=\"text-align: right;\">\n",
       "      <th></th>\n",
       "      <th>publisher_id</th>\n",
       "      <th>publisher</th>\n",
       "    </tr>\n",
       "  </thead>\n",
       "  <tbody>\n",
       "    <tr>\n",
       "      <th>0</th>\n",
       "      <td>1</td>\n",
       "      <td>Ace</td>\n",
       "    </tr>\n",
       "    <tr>\n",
       "      <th>1</th>\n",
       "      <td>2</td>\n",
       "      <td>Ace Book</td>\n",
       "    </tr>\n",
       "    <tr>\n",
       "      <th>2</th>\n",
       "      <td>3</td>\n",
       "      <td>Ace Books</td>\n",
       "    </tr>\n",
       "  </tbody>\n",
       "</table>\n",
       "</div>"
      ],
      "text/plain": [
       "   publisher_id  publisher\n",
       "0             1        Ace\n",
       "1             2   Ace Book\n",
       "2             3  Ace Books"
      ]
     },
     "metadata": {},
     "output_type": "display_data"
    },
    {
     "data": {
      "text/html": [
       "<div>\n",
       "<style scoped>\n",
       "    .dataframe tbody tr th:only-of-type {\n",
       "        vertical-align: middle;\n",
       "    }\n",
       "\n",
       "    .dataframe tbody tr th {\n",
       "        vertical-align: top;\n",
       "    }\n",
       "\n",
       "    .dataframe thead th {\n",
       "        text-align: right;\n",
       "    }\n",
       "</style>\n",
       "<table border=\"1\" class=\"dataframe\">\n",
       "  <thead>\n",
       "    <tr style=\"text-align: right;\">\n",
       "      <th></th>\n",
       "      <th>review_id</th>\n",
       "      <th>book_id</th>\n",
       "      <th>username</th>\n",
       "      <th>text</th>\n",
       "    </tr>\n",
       "  </thead>\n",
       "  <tbody>\n",
       "    <tr>\n",
       "      <th>0</th>\n",
       "      <td>1</td>\n",
       "      <td>1</td>\n",
       "      <td>brandtandrea</td>\n",
       "      <td>Mention society tell send professor analysis. ...</td>\n",
       "    </tr>\n",
       "    <tr>\n",
       "      <th>1</th>\n",
       "      <td>2</td>\n",
       "      <td>1</td>\n",
       "      <td>ryanfranco</td>\n",
       "      <td>Foot glass pretty audience hit themselves. Amo...</td>\n",
       "    </tr>\n",
       "    <tr>\n",
       "      <th>2</th>\n",
       "      <td>3</td>\n",
       "      <td>2</td>\n",
       "      <td>lorichen</td>\n",
       "      <td>Listen treat keep worry. Miss husband tax but ...</td>\n",
       "    </tr>\n",
       "  </tbody>\n",
       "</table>\n",
       "</div>"
      ],
      "text/plain": [
       "   review_id  book_id      username  \\\n",
       "0          1        1  brandtandrea   \n",
       "1          2        1    ryanfranco   \n",
       "2          3        2      lorichen   \n",
       "\n",
       "                                                text  \n",
       "0  Mention society tell send professor analysis. ...  \n",
       "1  Foot glass pretty audience hit themselves. Amo...  \n",
       "2  Listen treat keep worry. Miss husband tax but ...  "
      ]
     },
     "metadata": {},
     "output_type": "display_data"
    },
    {
     "data": {
      "text/html": [
       "<div>\n",
       "<style scoped>\n",
       "    .dataframe tbody tr th:only-of-type {\n",
       "        vertical-align: middle;\n",
       "    }\n",
       "\n",
       "    .dataframe tbody tr th {\n",
       "        vertical-align: top;\n",
       "    }\n",
       "\n",
       "    .dataframe thead th {\n",
       "        text-align: right;\n",
       "    }\n",
       "</style>\n",
       "<table border=\"1\" class=\"dataframe\">\n",
       "  <thead>\n",
       "    <tr style=\"text-align: right;\">\n",
       "      <th></th>\n",
       "      <th>rating_id</th>\n",
       "      <th>book_id</th>\n",
       "      <th>username</th>\n",
       "      <th>rating</th>\n",
       "    </tr>\n",
       "  </thead>\n",
       "  <tbody>\n",
       "    <tr>\n",
       "      <th>0</th>\n",
       "      <td>1</td>\n",
       "      <td>1</td>\n",
       "      <td>ryanfranco</td>\n",
       "      <td>4</td>\n",
       "    </tr>\n",
       "    <tr>\n",
       "      <th>1</th>\n",
       "      <td>2</td>\n",
       "      <td>1</td>\n",
       "      <td>grantpatricia</td>\n",
       "      <td>2</td>\n",
       "    </tr>\n",
       "    <tr>\n",
       "      <th>2</th>\n",
       "      <td>3</td>\n",
       "      <td>1</td>\n",
       "      <td>brandtandrea</td>\n",
       "      <td>5</td>\n",
       "    </tr>\n",
       "  </tbody>\n",
       "</table>\n",
       "</div>"
      ],
      "text/plain": [
       "   rating_id  book_id       username  rating\n",
       "0          1        1     ryanfranco       4\n",
       "1          2        1  grantpatricia       2\n",
       "2          3        1   brandtandrea       5"
      ]
     },
     "metadata": {},
     "output_type": "display_data"
    }
   ],
   "source": [
    "query = ''' select * from books'''\n",
    "books = pd.io.sql.read_sql(query, con = engine)\n",
    "display(books.head(3))\n",
    "\n",
    "query = ''' select * from authors'''\n",
    "authors = pd.io.sql.read_sql(query, con = engine)\n",
    "display(authors.head(3))\n",
    "\n",
    "query = ''' select * from publishers'''\n",
    "publishers = pd.io.sql.read_sql(query, con = engine)\n",
    "display(publishers.head(3))\n",
    "\n",
    "query = ''' select * from reviews'''\n",
    "reviews = pd.io.sql.read_sql(query, con = engine)\n",
    "display(reviews.head(3))\n",
    "\n",
    "query = ''' select * from ratings'''\n",
    "ratings = pd.io.sql.read_sql(query, con = engine)\n",
    "display(ratings.head(3))"
   ]
  },
  {
   "cell_type": "code",
   "execution_count": 4,
   "metadata": {},
   "outputs": [
    {
     "name": "stdout",
     "output_type": "stream",
     "text": [
      "==============================\n",
      "<class 'pandas.core.frame.DataFrame'>\n",
      "RangeIndex: 1000 entries, 0 to 999\n",
      "Data columns (total 6 columns):\n",
      " #   Column            Non-Null Count  Dtype \n",
      "---  ------            --------------  ----- \n",
      " 0   book_id           1000 non-null   int64 \n",
      " 1   author_id         1000 non-null   int64 \n",
      " 2   title             1000 non-null   object\n",
      " 3   num_pages         1000 non-null   int64 \n",
      " 4   publication_date  1000 non-null   object\n",
      " 5   publisher_id      1000 non-null   int64 \n",
      "dtypes: int64(4), object(2)\n",
      "memory usage: 47.0+ KB\n",
      "==============================\n",
      "<class 'pandas.core.frame.DataFrame'>\n",
      "RangeIndex: 636 entries, 0 to 635\n",
      "Data columns (total 2 columns):\n",
      " #   Column     Non-Null Count  Dtype \n",
      "---  ------     --------------  ----- \n",
      " 0   author_id  636 non-null    int64 \n",
      " 1   author     636 non-null    object\n",
      "dtypes: int64(1), object(1)\n",
      "memory usage: 10.1+ KB\n",
      "==============================\n",
      "<class 'pandas.core.frame.DataFrame'>\n",
      "RangeIndex: 340 entries, 0 to 339\n",
      "Data columns (total 2 columns):\n",
      " #   Column        Non-Null Count  Dtype \n",
      "---  ------        --------------  ----- \n",
      " 0   publisher_id  340 non-null    int64 \n",
      " 1   publisher     340 non-null    object\n",
      "dtypes: int64(1), object(1)\n",
      "memory usage: 5.4+ KB\n",
      "==============================\n",
      "<class 'pandas.core.frame.DataFrame'>\n",
      "RangeIndex: 2793 entries, 0 to 2792\n",
      "Data columns (total 4 columns):\n",
      " #   Column     Non-Null Count  Dtype \n",
      "---  ------     --------------  ----- \n",
      " 0   review_id  2793 non-null   int64 \n",
      " 1   book_id    2793 non-null   int64 \n",
      " 2   username   2793 non-null   object\n",
      " 3   text       2793 non-null   object\n",
      "dtypes: int64(2), object(2)\n",
      "memory usage: 87.4+ KB\n",
      "==============================\n",
      "<class 'pandas.core.frame.DataFrame'>\n",
      "RangeIndex: 6456 entries, 0 to 6455\n",
      "Data columns (total 4 columns):\n",
      " #   Column     Non-Null Count  Dtype \n",
      "---  ------     --------------  ----- \n",
      " 0   rating_id  6456 non-null   int64 \n",
      " 1   book_id    6456 non-null   int64 \n",
      " 2   username   6456 non-null   object\n",
      " 3   rating     6456 non-null   int64 \n",
      "dtypes: int64(3), object(1)\n",
      "memory usage: 201.9+ KB\n"
     ]
    }
   ],
   "source": [
    "for i in [books, authors, publishers, reviews, ratings]:\n",
    "    print('='*30)\n",
    "    i.info()"
   ]
  },
  {
   "cell_type": "markdown",
   "metadata": {},
   "source": [
    "Ознакомились со всеми таблицами, все отображается корректно, данные полные, никаких проблем не обнаружено, приступаем к заданиям"
   ]
  },
  {
   "cell_type": "markdown",
   "metadata": {},
   "source": [
    "# Задание 1 \n",
    "<b>Посчитайте, сколько книг вышло после 1 января 2000 года"
   ]
  },
  {
   "cell_type": "code",
   "execution_count": 5,
   "metadata": {},
   "outputs": [
    {
     "name": "stdout",
     "output_type": "stream",
     "text": [
      "С 1 января 2000 года вышло 819 книг.\n"
     ]
    }
   ],
   "source": [
    "query = ''' \n",
    "SELECT COUNT(book_id)\n",
    "FROM books\n",
    "WHERE publication_date>'2000-01-01'\n",
    "'''\n",
    "task1 = pd.io.sql.read_sql(query, con = engine)\n",
    "print('С 1 января 2000 года вышло {} книг.'.format(task1['count'][0]))"
   ]
  },
  {
   "cell_type": "markdown",
   "metadata": {},
   "source": [
    "# Задание 2 \n",
    "<b>Для каждой книги посчитайте количество обзоров и среднюю оценку"
   ]
  },
  {
   "cell_type": "code",
   "execution_count": 6,
   "metadata": {
    "scrolled": true
   },
   "outputs": [
    {
     "data": {
      "text/html": [
       "<div>\n",
       "<style scoped>\n",
       "    .dataframe tbody tr th:only-of-type {\n",
       "        vertical-align: middle;\n",
       "    }\n",
       "\n",
       "    .dataframe tbody tr th {\n",
       "        vertical-align: top;\n",
       "    }\n",
       "\n",
       "    .dataframe thead th {\n",
       "        text-align: right;\n",
       "    }\n",
       "</style>\n",
       "<table border=\"1\" class=\"dataframe\">\n",
       "  <thead>\n",
       "    <tr style=\"text-align: right;\">\n",
       "      <th></th>\n",
       "      <th>book_id</th>\n",
       "      <th>title</th>\n",
       "      <th>count</th>\n",
       "      <th>avg</th>\n",
       "    </tr>\n",
       "  </thead>\n",
       "  <tbody>\n",
       "    <tr>\n",
       "      <th>901</th>\n",
       "      <td>902</td>\n",
       "      <td>The War of Art: Break Through the Blocks &amp; Win...</td>\n",
       "      <td>2</td>\n",
       "      <td>5.00</td>\n",
       "    </tr>\n",
       "    <tr>\n",
       "      <th>937</th>\n",
       "      <td>938</td>\n",
       "      <td>Triptych (Will Trent  #1)</td>\n",
       "      <td>2</td>\n",
       "      <td>5.00</td>\n",
       "    </tr>\n",
       "    <tr>\n",
       "      <th>517</th>\n",
       "      <td>518</td>\n",
       "      <td>Pop Goes the Weasel (Alex Cross  #5)</td>\n",
       "      <td>2</td>\n",
       "      <td>5.00</td>\n",
       "    </tr>\n",
       "    <tr>\n",
       "      <th>168</th>\n",
       "      <td>169</td>\n",
       "      <td>Crucial Conversations: Tools for Talking When ...</td>\n",
       "      <td>2</td>\n",
       "      <td>5.00</td>\n",
       "    </tr>\n",
       "    <tr>\n",
       "      <th>731</th>\n",
       "      <td>732</td>\n",
       "      <td>The Ghost Map: The Story of London's Most Terr...</td>\n",
       "      <td>2</td>\n",
       "      <td>5.00</td>\n",
       "    </tr>\n",
       "    <tr>\n",
       "      <th>...</th>\n",
       "      <td>...</td>\n",
       "      <td>...</td>\n",
       "      <td>...</td>\n",
       "      <td>...</td>\n",
       "    </tr>\n",
       "    <tr>\n",
       "      <th>914</th>\n",
       "      <td>915</td>\n",
       "      <td>The World Is Flat: A Brief History of the Twen...</td>\n",
       "      <td>3</td>\n",
       "      <td>2.25</td>\n",
       "    </tr>\n",
       "    <tr>\n",
       "      <th>315</th>\n",
       "      <td>316</td>\n",
       "      <td>His Excellency: George Washington</td>\n",
       "      <td>2</td>\n",
       "      <td>2.00</td>\n",
       "    </tr>\n",
       "    <tr>\n",
       "      <th>370</th>\n",
       "      <td>371</td>\n",
       "      <td>Junky</td>\n",
       "      <td>2</td>\n",
       "      <td>2.00</td>\n",
       "    </tr>\n",
       "    <tr>\n",
       "      <th>201</th>\n",
       "      <td>202</td>\n",
       "      <td>Drowning Ruth</td>\n",
       "      <td>3</td>\n",
       "      <td>2.00</td>\n",
       "    </tr>\n",
       "    <tr>\n",
       "      <th>302</th>\n",
       "      <td>303</td>\n",
       "      <td>Harvesting the Heart</td>\n",
       "      <td>2</td>\n",
       "      <td>1.50</td>\n",
       "    </tr>\n",
       "  </tbody>\n",
       "</table>\n",
       "<p>1000 rows × 4 columns</p>\n",
       "</div>"
      ],
      "text/plain": [
       "     book_id                                              title  count   avg\n",
       "901      902  The War of Art: Break Through the Blocks & Win...      2  5.00\n",
       "937      938                          Triptych (Will Trent  #1)      2  5.00\n",
       "517      518               Pop Goes the Weasel (Alex Cross  #5)      2  5.00\n",
       "168      169  Crucial Conversations: Tools for Talking When ...      2  5.00\n",
       "731      732  The Ghost Map: The Story of London's Most Terr...      2  5.00\n",
       "..       ...                                                ...    ...   ...\n",
       "914      915  The World Is Flat: A Brief History of the Twen...      3  2.25\n",
       "315      316                  His Excellency: George Washington      2  2.00\n",
       "370      371                                              Junky      2  2.00\n",
       "201      202                                      Drowning Ruth      3  2.00\n",
       "302      303                               Harvesting the Heart      2  1.50\n",
       "\n",
       "[1000 rows x 4 columns]"
      ]
     },
     "execution_count": 6,
     "metadata": {},
     "output_type": "execute_result"
    }
   ],
   "source": [
    "query = ''' \n",
    "SELECT b.book_id,b.title,COUNT(DISTINCT(rev.review_id)),AVG(rat.rating)\n",
    "FROM books AS b\n",
    "LEFT JOIN reviews AS rev ON rev.book_id=b.book_id\n",
    "LEFT JOIN ratings AS rat ON rat.book_id=b.book_id\n",
    "GROUP BY b.book_id\n",
    "'''\n",
    "task2 = pd.io.sql.read_sql(query, con = engine)\n",
    "task2.sort_values('avg',ascending=False)"
   ]
  },
  {
   "cell_type": "markdown",
   "metadata": {},
   "source": [
    "<b>Вывод</b>\n",
    "\n",
    "Теперь у нас есть статистика по книгам с обзорами и средней оценкой, с помощью этих данных можно будет найти популярные книги.\n",
    "При двух обзорах, оценка может быть как самой высокой, так и самой низкой."
   ]
  },
  {
   "cell_type": "markdown",
   "metadata": {},
   "source": [
    "# Задание 3 \n",
    "<b>Определите издательство, которое выпустило наибольшее число книг толще 50 страниц — так вы исключите из анализа брошюры"
   ]
  },
  {
   "cell_type": "code",
   "execution_count": 7,
   "metadata": {},
   "outputs": [
    {
     "name": "stdout",
     "output_type": "stream",
     "text": [
      "Издательство Penguin Books выпустило наибольшее количество книг 42, без учета брошюр.\n"
     ]
    }
   ],
   "source": [
    "query = ''' \n",
    "SELECT b.publisher_id, p.publisher, COUNT(b.book_id)\n",
    "FROM books AS b\n",
    "LEFT JOIN publishers AS p ON p.publisher_id=b.publisher_id\n",
    "WHERE b.num_pages>50\n",
    "GROUP BY b.publisher_id, p.publisher\n",
    "ORDER BY COUNT(b.book_id) DESC\n",
    "LIMIT 1\n",
    "'''\n",
    "task3 = pd.io.sql.read_sql(query, con = engine)\n",
    "print('Издательство {} выпустило наибольшее количество книг {}, без учета брошюр.'.format(task3['publisher'][0],task3['count'][0]))"
   ]
  },
  {
   "cell_type": "markdown",
   "metadata": {},
   "source": [
    "# Задание 4 \n",
    "<b>Определите автора с самой высокой средней оценкой книг — учитывайте только книги с 50 и более оценками"
   ]
  },
  {
   "cell_type": "markdown",
   "metadata": {},
   "source": [
    "<b>Вариант 1</b> Просто средняя оценка книг "
   ]
  },
  {
   "cell_type": "code",
   "execution_count": 8,
   "metadata": {
    "scrolled": true
   },
   "outputs": [
    {
     "data": {
      "text/html": [
       "<div>\n",
       "<style scoped>\n",
       "    .dataframe tbody tr th:only-of-type {\n",
       "        vertical-align: middle;\n",
       "    }\n",
       "\n",
       "    .dataframe tbody tr th {\n",
       "        vertical-align: top;\n",
       "    }\n",
       "\n",
       "    .dataframe thead th {\n",
       "        text-align: right;\n",
       "    }\n",
       "</style>\n",
       "<table border=\"1\" class=\"dataframe\">\n",
       "  <thead>\n",
       "    <tr style=\"text-align: right;\">\n",
       "      <th></th>\n",
       "      <th>author</th>\n",
       "      <th>count_ratings</th>\n",
       "      <th>average_rating</th>\n",
       "    </tr>\n",
       "  </thead>\n",
       "  <tbody>\n",
       "    <tr>\n",
       "      <th>0</th>\n",
       "      <td>J.K. Rowling/Mary GrandPré</td>\n",
       "      <td>82</td>\n",
       "      <td>4.414634</td>\n",
       "    </tr>\n",
       "    <tr>\n",
       "      <th>1</th>\n",
       "      <td>J.R.R. Tolkien</td>\n",
       "      <td>74</td>\n",
       "      <td>4.391892</td>\n",
       "    </tr>\n",
       "    <tr>\n",
       "      <th>2</th>\n",
       "      <td>J.K. Rowling/Mary GrandPré</td>\n",
       "      <td>80</td>\n",
       "      <td>4.287500</td>\n",
       "    </tr>\n",
       "  </tbody>\n",
       "</table>\n",
       "</div>"
      ],
      "text/plain": [
       "                       author  count_ratings  average_rating\n",
       "0  J.K. Rowling/Mary GrandPré             82        4.414634\n",
       "1              J.R.R. Tolkien             74        4.391892\n",
       "2  J.K. Rowling/Mary GrandPré             80        4.287500"
      ]
     },
     "metadata": {},
     "output_type": "display_data"
    },
    {
     "name": "stdout",
     "output_type": "stream",
     "text": [
      "Автор J.K. Rowling/Mary GrandPré с самой высокой средней оценкой книг 4.414634146341464, оценок поставили 82\n"
     ]
    }
   ],
   "source": [
    "query = ''' \n",
    "SELECT a.author,COUNT(r.rating_id) AS count_ratings, AVG(r.rating) AS average_rating\n",
    "FROM books AS b\n",
    "LEFT JOIN authors AS a ON b.author_id=a.author_id\n",
    "LEFT JOIN ratings AS r ON r.book_id=b.book_id\n",
    "GROUP BY a.author, b.book_id\n",
    "HAVING COUNT(r.rating_id)>=50\n",
    "ORDER BY AVG(r.rating) DESC\n",
    "LIMIT 3\n",
    "'''\n",
    "task4 = pd.io.sql.read_sql(query, con = engine)\n",
    "display(task4)\n",
    "print('Автор {} с самой высокой средней оценкой книг {}, оценок поставили {}'.format(task4['author'][0],task4['average_rating'][0],task4['count_ratings'][0]))"
   ]
  },
  {
   "cell_type": "markdown",
   "metadata": {},
   "source": [
    "<b>Вариант 2</b> Средняя от средних оценок книг"
   ]
  },
  {
   "cell_type": "code",
   "execution_count": 9,
   "metadata": {},
   "outputs": [
    {
     "data": {
      "text/html": [
       "<div>\n",
       "<style scoped>\n",
       "    .dataframe tbody tr th:only-of-type {\n",
       "        vertical-align: middle;\n",
       "    }\n",
       "\n",
       "    .dataframe tbody tr th {\n",
       "        vertical-align: top;\n",
       "    }\n",
       "\n",
       "    .dataframe thead th {\n",
       "        text-align: right;\n",
       "    }\n",
       "</style>\n",
       "<table border=\"1\" class=\"dataframe\">\n",
       "  <thead>\n",
       "    <tr style=\"text-align: right;\">\n",
       "      <th></th>\n",
       "      <th>author</th>\n",
       "      <th>average</th>\n",
       "    </tr>\n",
       "  </thead>\n",
       "  <tbody>\n",
       "    <tr>\n",
       "      <th>0</th>\n",
       "      <td>J.K. Rowling/Mary GrandPré</td>\n",
       "      <td>4.283844</td>\n",
       "    </tr>\n",
       "    <tr>\n",
       "      <th>1</th>\n",
       "      <td>Markus Zusak/Cao Xuân Việt Khương</td>\n",
       "      <td>4.264151</td>\n",
       "    </tr>\n",
       "    <tr>\n",
       "      <th>2</th>\n",
       "      <td>J.R.R. Tolkien</td>\n",
       "      <td>4.258446</td>\n",
       "    </tr>\n",
       "  </tbody>\n",
       "</table>\n",
       "</div>"
      ],
      "text/plain": [
       "                              author   average\n",
       "0         J.K. Rowling/Mary GrandPré  4.283844\n",
       "1  Markus Zusak/Cao Xuân Việt Khương  4.264151\n",
       "2                     J.R.R. Tolkien  4.258446"
      ]
     },
     "metadata": {},
     "output_type": "display_data"
    },
    {
     "name": "stdout",
     "output_type": "stream",
     "text": [
      "Автор J.K. Rowling/Mary GrandPré с самой высокой средней оценкой книг 4.283844038868471\n"
     ]
    }
   ],
   "source": [
    "query = ''' SELECT avg.author, AVG(avg.average_rating) AS average\n",
    "FROM (\n",
    "SELECT a.author,COUNT(r.rating_id) AS count_ratings, AVG(r.rating) AS average_rating\n",
    "FROM books AS b\n",
    "LEFT JOIN authors AS a ON b.author_id=a.author_id\n",
    "LEFT JOIN ratings AS r ON r.book_id=b.book_id\n",
    "GROUP BY a.author, b.book_id\n",
    "HAVING COUNT(r.rating_id)>=50\n",
    "ORDER BY AVG(r.rating) DESC\n",
    ") AS avg\n",
    "GROUP BY avg.author\n",
    "ORDER BY average DESC\n",
    "LIMIT 3\n",
    "'''\n",
    "task4 = pd.io.sql.read_sql(query, con = engine)\n",
    "display(task4)\n",
    "print('Автор {} с самой высокой средней оценкой книг {}'.format(task4['author'][0],task4['average'][0]))"
   ]
  },
  {
   "cell_type": "markdown",
   "metadata": {},
   "source": [
    "<b>Вывод</b>\n",
    "\n",
    "Как в одном, так и во втором варианте получает самую высокую оценку J.K. Rowling/Mary GrandPré"
   ]
  },
  {
   "cell_type": "markdown",
   "metadata": {},
   "source": [
    "# Задание 5 \n",
    "<b>Посчитайте среднее количество обзоров от пользователей, которые поставили больше 50 оценок"
   ]
  },
  {
   "cell_type": "code",
   "execution_count": 10,
   "metadata": {},
   "outputs": [
    {
     "name": "stdout",
     "output_type": "stream",
     "text": [
      "Среднее количество обзоров от пользователей с более 50 оценками равно 24.33\n"
     ]
    }
   ],
   "source": [
    "query = ''' \n",
    "SELECT AVG(rev.average_reviews) AS average_reviews FROM(\n",
    "    SELECT  COUNT(review_id) AS average_reviews\n",
    "    FROM reviews\n",
    "    WHERE username IN (\n",
    "        SELECT username\n",
    "        FROM ratings\n",
    "        GROUP BY username\n",
    "        HAVING COUNT(rating_id)>50\n",
    "        )\n",
    "    GROUP BY username) AS rev\n",
    "'''\n",
    "task5 = pd.io.sql.read_sql(query, con = engine)\n",
    "print('Среднее количество обзоров от пользователей с более 50 оценками равно {}'.format(round(task5['average_reviews'][0],2)))"
   ]
  },
  {
   "cell_type": "markdown",
   "metadata": {},
   "source": [
    "# Общий вывод\n",
    "* Имеется информация о 1000 книгах\n",
    "* 819 книг из 1000 были изданы после 1 января 2000\n",
    "* Максимальная и минимальная оценка книг 5 и 1.5 соответственно\n",
    "* Без учета брошюр Penguin Books выпустило наибольшее количество книг 42\n",
    "* Автором с самыми высокими оценками является J.K. Rowling/Mary GrandPré\n",
    "* Среднее количество обзоров от пользователей с более 50 оценками равно 24"
   ]
  },
  {
   "cell_type": "code",
   "execution_count": null,
   "metadata": {},
   "outputs": [],
   "source": []
  }
 ],
 "metadata": {
  "ExecuteTimeLog": [
   {
    "duration": 6088,
    "start_time": "2022-09-03T21:15:30.769Z"
   },
   {
    "duration": 8,
    "start_time": "2022-09-03T21:16:07.922Z"
   },
   {
    "duration": 647,
    "start_time": "2022-09-03T21:16:51.314Z"
   },
   {
    "duration": 70,
    "start_time": "2022-09-03T21:18:54.722Z"
   },
   {
    "duration": 110,
    "start_time": "2022-09-03T21:20:22.391Z"
   },
   {
    "duration": 74,
    "start_time": "2022-09-03T21:21:16.525Z"
   },
   {
    "duration": 76,
    "start_time": "2022-09-03T21:22:30.610Z"
   },
   {
    "duration": 67,
    "start_time": "2022-09-03T21:23:49.376Z"
   },
   {
    "duration": 103,
    "start_time": "2022-09-03T21:23:49.983Z"
   },
   {
    "duration": 73,
    "start_time": "2022-09-03T21:23:50.311Z"
   },
   {
    "duration": 75,
    "start_time": "2022-09-03T21:23:50.653Z"
   },
   {
    "duration": 49,
    "start_time": "2022-09-04T10:47:14.049Z"
   },
   {
    "duration": 10348,
    "start_time": "2022-09-04T10:47:21.294Z"
   },
   {
    "duration": 9,
    "start_time": "2022-09-04T10:47:31.644Z"
   },
   {
    "duration": 141,
    "start_time": "2022-09-04T10:47:31.655Z"
   },
   {
    "duration": 17,
    "start_time": "2022-09-04T10:47:31.799Z"
   },
   {
    "duration": 36,
    "start_time": "2022-09-04T10:47:31.819Z"
   },
   {
    "duration": 19,
    "start_time": "2022-09-04T10:47:31.857Z"
   },
   {
    "duration": 24,
    "start_time": "2022-09-04T10:47:31.878Z"
   },
   {
    "duration": 182,
    "start_time": "2022-09-04T10:47:31.904Z"
   },
   {
    "duration": 0,
    "start_time": "2022-09-04T10:47:32.088Z"
   },
   {
    "duration": 94,
    "start_time": "2022-09-04T10:47:38.534Z"
   },
   {
    "duration": 96,
    "start_time": "2022-09-04T10:47:56.424Z"
   },
   {
    "duration": 14,
    "start_time": "2022-09-04T10:48:33.221Z"
   },
   {
    "duration": 15,
    "start_time": "2022-09-04T10:52:54.208Z"
   },
   {
    "duration": 15,
    "start_time": "2022-09-04T10:53:18.494Z"
   },
   {
    "duration": 97,
    "start_time": "2022-09-04T10:53:35.772Z"
   },
   {
    "duration": 13,
    "start_time": "2022-09-04T10:54:27.641Z"
   },
   {
    "duration": 92,
    "start_time": "2022-09-04T10:55:59.855Z"
   },
   {
    "duration": 168,
    "start_time": "2022-09-04T11:38:11.534Z"
   },
   {
    "duration": 39,
    "start_time": "2022-09-04T11:38:27.180Z"
   },
   {
    "duration": 13,
    "start_time": "2022-09-04T11:38:38.072Z"
   },
   {
    "duration": 14,
    "start_time": "2022-09-04T11:40:37.112Z"
   },
   {
    "duration": 10,
    "start_time": "2022-09-04T11:40:51.325Z"
   },
   {
    "duration": 20,
    "start_time": "2022-09-04T11:56:21.718Z"
   },
   {
    "duration": 10,
    "start_time": "2022-09-04T11:56:33.625Z"
   },
   {
    "duration": 47,
    "start_time": "2022-09-04T11:56:52.585Z"
   },
   {
    "duration": 26,
    "start_time": "2022-09-04T12:04:35.979Z"
   },
   {
    "duration": 17,
    "start_time": "2022-09-04T12:04:54.563Z"
   },
   {
    "duration": 18,
    "start_time": "2022-09-04T12:05:35.168Z"
   },
   {
    "duration": 21,
    "start_time": "2022-09-04T12:05:39.348Z"
   },
   {
    "duration": 10936,
    "start_time": "2022-09-04T12:05:55.273Z"
   },
   {
    "duration": 11,
    "start_time": "2022-09-04T12:06:06.216Z"
   },
   {
    "duration": 201,
    "start_time": "2022-09-04T12:06:06.229Z"
   },
   {
    "duration": 10,
    "start_time": "2022-09-04T12:06:06.431Z"
   },
   {
    "duration": 39,
    "start_time": "2022-09-04T12:06:06.443Z"
   },
   {
    "duration": 34,
    "start_time": "2022-09-04T12:06:06.484Z"
   },
   {
    "duration": 18,
    "start_time": "2022-09-04T12:06:06.520Z"
   },
   {
    "duration": 10,
    "start_time": "2022-09-04T12:06:06.540Z"
   },
   {
    "duration": 8974,
    "start_time": "2022-09-04T18:15:24.830Z"
   },
   {
    "duration": 7,
    "start_time": "2022-09-04T18:15:33.806Z"
   },
   {
    "duration": 114,
    "start_time": "2022-09-04T18:15:33.815Z"
   },
   {
    "duration": 6,
    "start_time": "2022-09-04T18:15:33.931Z"
   },
   {
    "duration": 25,
    "start_time": "2022-09-04T18:15:33.939Z"
   },
   {
    "duration": 7,
    "start_time": "2022-09-04T18:15:33.966Z"
   },
   {
    "duration": 13,
    "start_time": "2022-09-04T18:15:33.975Z"
   },
   {
    "duration": 9,
    "start_time": "2022-09-04T18:15:33.989Z"
   },
   {
    "duration": 49,
    "start_time": "2022-09-05T07:11:17.750Z"
   },
   {
    "duration": 11888,
    "start_time": "2022-09-05T07:11:23.100Z"
   },
   {
    "duration": 9,
    "start_time": "2022-09-05T07:11:34.990Z"
   },
   {
    "duration": 137,
    "start_time": "2022-09-05T07:11:35.001Z"
   },
   {
    "duration": 42,
    "start_time": "2022-09-05T07:11:35.139Z"
   },
   {
    "duration": 43,
    "start_time": "2022-09-05T07:12:05.484Z"
   },
   {
    "duration": 32,
    "start_time": "2022-09-05T07:14:16.751Z"
   },
   {
    "duration": 35,
    "start_time": "2022-09-05T07:14:25.464Z"
   },
   {
    "duration": 130,
    "start_time": "2022-09-05T07:20:32.044Z"
   },
   {
    "duration": 100,
    "start_time": "2022-09-05T07:20:42.795Z"
   },
   {
    "duration": 24,
    "start_time": "2022-09-05T07:20:49.298Z"
   },
   {
    "duration": 1692,
    "start_time": "2022-09-05T07:22:06.691Z"
   },
   {
    "duration": 24,
    "start_time": "2022-09-05T07:22:24.837Z"
   },
   {
    "duration": 25,
    "start_time": "2022-09-05T07:22:44.592Z"
   },
   {
    "duration": 124,
    "start_time": "2022-09-05T07:30:57.061Z"
   },
   {
    "duration": 155,
    "start_time": "2022-09-05T07:31:12.105Z"
   },
   {
    "duration": 98,
    "start_time": "2022-09-05T07:31:25.063Z"
   },
   {
    "duration": 124,
    "start_time": "2022-09-05T07:31:41.000Z"
   },
   {
    "duration": 95,
    "start_time": "2022-09-05T07:32:35.414Z"
   },
   {
    "duration": 111,
    "start_time": "2022-09-05T07:33:14.107Z"
   },
   {
    "duration": 97,
    "start_time": "2022-09-05T07:33:37.429Z"
   },
   {
    "duration": 25,
    "start_time": "2022-09-05T07:34:47.218Z"
   },
   {
    "duration": 1198,
    "start_time": "2022-09-05T07:35:59.920Z"
   },
   {
    "duration": 243,
    "start_time": "2022-09-05T07:36:49.065Z"
   },
   {
    "duration": 255,
    "start_time": "2022-09-05T07:37:09.729Z"
   },
   {
    "duration": 94,
    "start_time": "2022-09-05T07:37:28.649Z"
   },
   {
    "duration": 18,
    "start_time": "2022-09-05T07:37:54.787Z"
   },
   {
    "duration": 22,
    "start_time": "2022-09-05T07:38:24.811Z"
   },
   {
    "duration": 27,
    "start_time": "2022-09-05T07:39:54.393Z"
   },
   {
    "duration": 19,
    "start_time": "2022-09-05T07:42:45.996Z"
   },
   {
    "duration": 26,
    "start_time": "2022-09-05T07:48:44.018Z"
   },
   {
    "duration": 1427,
    "start_time": "2022-09-05T07:55:27.708Z"
   },
   {
    "duration": 146,
    "start_time": "2022-09-05T07:55:47.418Z"
   },
   {
    "duration": 1678,
    "start_time": "2022-09-05T07:56:51.329Z"
   },
   {
    "duration": 19,
    "start_time": "2022-09-05T07:57:07.026Z"
   },
   {
    "duration": 13,
    "start_time": "2022-09-05T08:01:36.185Z"
   },
   {
    "duration": 10636,
    "start_time": "2022-09-05T08:05:44.883Z"
   },
   {
    "duration": 11,
    "start_time": "2022-09-05T08:05:55.522Z"
   },
   {
    "duration": 145,
    "start_time": "2022-09-05T08:05:55.535Z"
   },
   {
    "duration": 52,
    "start_time": "2022-09-05T08:05:55.684Z"
   },
   {
    "duration": 9,
    "start_time": "2022-09-05T08:05:55.738Z"
   },
   {
    "duration": 33,
    "start_time": "2022-09-05T08:05:55.749Z"
   },
   {
    "duration": 11,
    "start_time": "2022-09-05T08:05:55.790Z"
   },
   {
    "duration": 18,
    "start_time": "2022-09-05T08:05:55.804Z"
   },
   {
    "duration": 21,
    "start_time": "2022-09-05T08:05:55.824Z"
   },
   {
    "duration": 13,
    "start_time": "2022-09-05T08:05:55.848Z"
   }
  ],
  "kernelspec": {
   "display_name": "Python 3 (ipykernel)",
   "language": "python",
   "name": "python3"
  },
  "language_info": {
   "codemirror_mode": {
    "name": "ipython",
    "version": 3
   },
   "file_extension": ".py",
   "mimetype": "text/x-python",
   "name": "python",
   "nbconvert_exporter": "python",
   "pygments_lexer": "ipython3",
   "version": "3.9.12"
  },
  "toc": {
   "base_numbering": 1,
   "nav_menu": {},
   "number_sections": true,
   "sideBar": true,
   "skip_h1_title": true,
   "title_cell": "Table of Contents",
   "title_sidebar": "Contents",
   "toc_cell": false,
   "toc_position": {},
   "toc_section_display": true,
   "toc_window_display": false
  }
 },
 "nbformat": 4,
 "nbformat_minor": 2
}
