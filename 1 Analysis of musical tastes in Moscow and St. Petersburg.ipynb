{
 "cells": [
  {
   "cell_type": "markdown",
   "metadata": {
    "id": "E0vqbgi9ay0H"
   },
   "source": [
    "# Яндекс.Музыка"
   ]
  },
  {
   "cell_type": "markdown",
   "metadata": {
    "id": "VUC88oWjTJw2"
   },
   "source": [
    "Сравнение Москвы и Петербурга окружено мифами. Например:\n",
    " * Москва — мегаполис, подчинённый жёсткому ритму рабочей недели;\n",
    " * Петербург — культурная столица, со своими вкусами.\n",
    "\n",
    "Сравним поведение пользователей двух столиц.\n",
    "\n",
    "**Цель исследования** — проверка трех гипотез:\n",
    "1. Активность пользователей зависит от дня недели. Причём в Москве и Петербурге это проявляется по-разному.\n",
    "2. В понедельник утром в Москве преобладают одни жанры, а в Петербурге — другие. Так же и вечером пятницы преобладают разные жанры — в зависимости от города. \n",
    "3. Москва и Петербург предпочитают разные жанры музыки. В Москве чаще слушают поп-музыку, в Петербурге — русский рэп."
   ]
  },
  {
   "cell_type": "markdown",
   "metadata": {
    "id": "Ml1hmfXC_Zcs"
   },
   "source": [
    "## Обзор данных"
   ]
  },
  {
   "cell_type": "code",
   "execution_count": 1,
   "metadata": {
    "id": "AXN7PHPN_Zcs"
   },
   "outputs": [],
   "source": [
    "# импорт библиотеки pandas\n",
    "import pandas as pd"
   ]
  },
  {
   "cell_type": "code",
   "execution_count": 2,
   "metadata": {
    "id": "fFVu7vqh_Zct"
   },
   "outputs": [],
   "source": [
    "# чтение файла с данными и сохранение в df\n",
    "df = pd.read_csv('/datasets/yandex_music_project.csv')"
   ]
  },
  {
   "cell_type": "code",
   "execution_count": 3,
   "metadata": {
    "id": "oWTVX3gW_Zct"
   },
   "outputs": [
    {
     "data": {
      "text/html": [
       "<div>\n",
       "<style scoped>\n",
       "    .dataframe tbody tr th:only-of-type {\n",
       "        vertical-align: middle;\n",
       "    }\n",
       "\n",
       "    .dataframe tbody tr th {\n",
       "        vertical-align: top;\n",
       "    }\n",
       "\n",
       "    .dataframe thead th {\n",
       "        text-align: right;\n",
       "    }\n",
       "</style>\n",
       "<table border=\"1\" class=\"dataframe\">\n",
       "  <thead>\n",
       "    <tr style=\"text-align: right;\">\n",
       "      <th></th>\n",
       "      <th>userID</th>\n",
       "      <th>Track</th>\n",
       "      <th>artist</th>\n",
       "      <th>genre</th>\n",
       "      <th>City</th>\n",
       "      <th>time</th>\n",
       "      <th>Day</th>\n",
       "    </tr>\n",
       "  </thead>\n",
       "  <tbody>\n",
       "    <tr>\n",
       "      <td>0</td>\n",
       "      <td>FFB692EC</td>\n",
       "      <td>Kamigata To Boots</td>\n",
       "      <td>The Mass Missile</td>\n",
       "      <td>rock</td>\n",
       "      <td>Saint-Petersburg</td>\n",
       "      <td>20:28:33</td>\n",
       "      <td>Wednesday</td>\n",
       "    </tr>\n",
       "    <tr>\n",
       "      <td>1</td>\n",
       "      <td>55204538</td>\n",
       "      <td>Delayed Because of Accident</td>\n",
       "      <td>Andreas Rönnberg</td>\n",
       "      <td>rock</td>\n",
       "      <td>Moscow</td>\n",
       "      <td>14:07:09</td>\n",
       "      <td>Friday</td>\n",
       "    </tr>\n",
       "    <tr>\n",
       "      <td>2</td>\n",
       "      <td>20EC38</td>\n",
       "      <td>Funiculì funiculà</td>\n",
       "      <td>Mario Lanza</td>\n",
       "      <td>pop</td>\n",
       "      <td>Saint-Petersburg</td>\n",
       "      <td>20:58:07</td>\n",
       "      <td>Wednesday</td>\n",
       "    </tr>\n",
       "    <tr>\n",
       "      <td>3</td>\n",
       "      <td>A3DD03C9</td>\n",
       "      <td>Dragons in the Sunset</td>\n",
       "      <td>Fire + Ice</td>\n",
       "      <td>folk</td>\n",
       "      <td>Saint-Petersburg</td>\n",
       "      <td>08:37:09</td>\n",
       "      <td>Monday</td>\n",
       "    </tr>\n",
       "    <tr>\n",
       "      <td>4</td>\n",
       "      <td>E2DC1FAE</td>\n",
       "      <td>Soul People</td>\n",
       "      <td>Space Echo</td>\n",
       "      <td>dance</td>\n",
       "      <td>Moscow</td>\n",
       "      <td>08:34:34</td>\n",
       "      <td>Monday</td>\n",
       "    </tr>\n",
       "    <tr>\n",
       "      <td>5</td>\n",
       "      <td>842029A1</td>\n",
       "      <td>Преданная</td>\n",
       "      <td>IMPERVTOR</td>\n",
       "      <td>rusrap</td>\n",
       "      <td>Saint-Petersburg</td>\n",
       "      <td>13:09:41</td>\n",
       "      <td>Friday</td>\n",
       "    </tr>\n",
       "    <tr>\n",
       "      <td>6</td>\n",
       "      <td>4CB90AA5</td>\n",
       "      <td>True</td>\n",
       "      <td>Roman Messer</td>\n",
       "      <td>dance</td>\n",
       "      <td>Moscow</td>\n",
       "      <td>13:00:07</td>\n",
       "      <td>Wednesday</td>\n",
       "    </tr>\n",
       "    <tr>\n",
       "      <td>7</td>\n",
       "      <td>F03E1C1F</td>\n",
       "      <td>Feeling This Way</td>\n",
       "      <td>Polina Griffith</td>\n",
       "      <td>dance</td>\n",
       "      <td>Moscow</td>\n",
       "      <td>20:47:49</td>\n",
       "      <td>Wednesday</td>\n",
       "    </tr>\n",
       "    <tr>\n",
       "      <td>8</td>\n",
       "      <td>8FA1D3BE</td>\n",
       "      <td>И вновь продолжается бой</td>\n",
       "      <td>NaN</td>\n",
       "      <td>ruspop</td>\n",
       "      <td>Moscow</td>\n",
       "      <td>09:17:40</td>\n",
       "      <td>Friday</td>\n",
       "    </tr>\n",
       "    <tr>\n",
       "      <td>9</td>\n",
       "      <td>E772D5C0</td>\n",
       "      <td>Pessimist</td>\n",
       "      <td>NaN</td>\n",
       "      <td>dance</td>\n",
       "      <td>Saint-Petersburg</td>\n",
       "      <td>21:20:49</td>\n",
       "      <td>Wednesday</td>\n",
       "    </tr>\n",
       "  </tbody>\n",
       "</table>\n",
       "</div>"
      ],
      "text/plain": [
       "     userID                        Track            artist   genre  \\\n",
       "0  FFB692EC            Kamigata To Boots  The Mass Missile    rock   \n",
       "1  55204538  Delayed Because of Accident  Andreas Rönnberg    rock   \n",
       "2    20EC38            Funiculì funiculà       Mario Lanza     pop   \n",
       "3  A3DD03C9        Dragons in the Sunset        Fire + Ice    folk   \n",
       "4  E2DC1FAE                  Soul People        Space Echo   dance   \n",
       "5  842029A1                    Преданная         IMPERVTOR  rusrap   \n",
       "6  4CB90AA5                         True      Roman Messer   dance   \n",
       "7  F03E1C1F             Feeling This Way   Polina Griffith   dance   \n",
       "8  8FA1D3BE     И вновь продолжается бой               NaN  ruspop   \n",
       "9  E772D5C0                    Pessimist               NaN   dance   \n",
       "\n",
       "             City        time        Day  \n",
       "0  Saint-Petersburg  20:28:33  Wednesday  \n",
       "1            Moscow  14:07:09     Friday  \n",
       "2  Saint-Petersburg  20:58:07  Wednesday  \n",
       "3  Saint-Petersburg  08:37:09     Monday  \n",
       "4            Moscow  08:34:34     Monday  \n",
       "5  Saint-Petersburg  13:09:41     Friday  \n",
       "6            Moscow  13:00:07  Wednesday  \n",
       "7            Moscow  20:47:49  Wednesday  \n",
       "8            Moscow  09:17:40     Friday  \n",
       "9  Saint-Petersburg  21:20:49  Wednesday  "
      ]
     },
     "metadata": {},
     "output_type": "display_data"
    }
   ],
   "source": [
    "# получение первых 10 строк таблицы df\n",
    "display(df.head(10))"
   ]
  },
  {
   "cell_type": "code",
   "execution_count": 4,
   "metadata": {
    "id": "DSf2kIb-_Zct"
   },
   "outputs": [
    {
     "name": "stdout",
     "output_type": "stream",
     "text": [
      "<class 'pandas.core.frame.DataFrame'>\n",
      "RangeIndex: 65079 entries, 0 to 65078\n",
      "Data columns (total 7 columns):\n",
      "  userID    65079 non-null object\n",
      "Track       63848 non-null object\n",
      "artist      57876 non-null object\n",
      "genre       63881 non-null object\n",
      "  City      65079 non-null object\n",
      "time        65079 non-null object\n",
      "Day         65079 non-null object\n",
      "dtypes: object(7)\n",
      "memory usage: 3.5+ MB\n"
     ]
    }
   ],
   "source": [
    "# получение общей информации о данных в таблице df\n",
    "df.info()"
   ]
  },
  {
   "cell_type": "markdown",
   "metadata": {
    "id": "MCB6-dXG_Zct"
   },
   "source": [
    "**Выводы**\n",
    "\n",
    "В каждой строке таблицы — данные о прослушанном треке. Часть колонок описывает саму композицию: название, исполнителя и жанр. Остальные данные рассказывают о пользователе: из какого он города, когда он слушал музыку. \n",
    "\n",
    "Предварительно можно утверждать, что, данных достаточно для проверки гипотез. Но встречаются пропуски в данных, а в названиях колонок — расхождения с хорошим стилем.\n",
    "\n",
    "Чтобы двигаться дальше, нужно устранить проблемы в данных."
   ]
  },
  {
   "cell_type": "markdown",
   "metadata": {
    "id": "SjYF6Ub9_Zct"
   },
   "source": [
    "## Предобработка данных\n",
    "Исправьте стиль в заголовках столбцов, исключите пропуски. Затем проверьте данные на дубликаты."
   ]
  },
  {
   "cell_type": "markdown",
   "metadata": {
    "id": "dIaKXr29_Zct"
   },
   "source": [
    "### Стиль заголовков\n",
    "Выведите на экран названия столбцов:"
   ]
  },
  {
   "cell_type": "code",
   "execution_count": 5,
   "metadata": {
    "id": "oKOTdF_Q_Zct"
   },
   "outputs": [
    {
     "data": {
      "text/plain": [
       "Index(['  userID', 'Track', 'artist', 'genre', '  City  ', 'time', 'Day'], dtype='object')"
      ]
     },
     "execution_count": 5,
     "metadata": {},
     "output_type": "execute_result"
    }
   ],
   "source": [
    "# перечень названий столбцов таблицы df\n",
    "df.columns"
   ]
  },
  {
   "cell_type": "code",
   "execution_count": 6,
   "metadata": {
    "id": "ISlFqs5y_Zct"
   },
   "outputs": [],
   "source": [
    "# переименование столбцов\n",
    "df = df.rename(columns={'  userID':'user_id', 'Track':'track', '  City  ':'city', 'Day':'day'})"
   ]
  },
  {
   "cell_type": "code",
   "execution_count": 7,
   "metadata": {
    "id": "d4NOAmTW_Zct"
   },
   "outputs": [
    {
     "data": {
      "text/plain": [
       "Index(['user_id', 'track', 'artist', 'genre', 'city', 'time', 'day'], dtype='object')"
      ]
     },
     "execution_count": 7,
     "metadata": {},
     "output_type": "execute_result"
    }
   ],
   "source": [
    "# проверка результатов - перечень названий столбцов\n",
    "df.columns"
   ]
  },
  {
   "cell_type": "markdown",
   "metadata": {
    "id": "5ISfbcfY_Zct"
   },
   "source": [
    "### Пропуски значений"
   ]
  },
  {
   "cell_type": "code",
   "execution_count": 8,
   "metadata": {
    "id": "RskX29qr_Zct"
   },
   "outputs": [
    {
     "data": {
      "text/plain": [
       "user_id       0\n",
       "track      1231\n",
       "artist     7203\n",
       "genre      1198\n",
       "city          0\n",
       "time          0\n",
       "day           0\n",
       "dtype: int64"
      ]
     },
     "execution_count": 8,
     "metadata": {},
     "output_type": "execute_result"
    }
   ],
   "source": [
    "# подсчёт пропусков\n",
    "df.isna().sum()"
   ]
  },
  {
   "cell_type": "code",
   "execution_count": 9,
   "metadata": {
    "id": "KplB5qWs_Zct"
   },
   "outputs": [],
   "source": [
    "# перебор названий столбцов в цикле и замена пропущенных значений на 'unknown'\n",
    "columns_to_replace = ['track','artist','genre']\n",
    "for column in columns_to_replace:\n",
    "    df[column] = df[column].fillna('unknown')"
   ]
  },
  {
   "cell_type": "code",
   "execution_count": 10,
   "metadata": {
    "id": "Tq4nYRX4_Zct"
   },
   "outputs": [
    {
     "data": {
      "text/plain": [
       "user_id    0\n",
       "track      0\n",
       "artist     0\n",
       "genre      0\n",
       "city       0\n",
       "time       0\n",
       "day        0\n",
       "dtype: int64"
      ]
     },
     "execution_count": 10,
     "metadata": {},
     "output_type": "execute_result"
    }
   ],
   "source": [
    "# подсчёт пропусков\n",
    "df.isna().sum()"
   ]
  },
  {
   "cell_type": "markdown",
   "metadata": {
    "id": "BWKRtBJ3_Zct"
   },
   "source": [
    "### Дубликаты"
   ]
  },
  {
   "cell_type": "code",
   "execution_count": 11,
   "metadata": {
    "id": "36eES_S0_Zct"
   },
   "outputs": [
    {
     "data": {
      "text/plain": [
       "3826"
      ]
     },
     "execution_count": 11,
     "metadata": {},
     "output_type": "execute_result"
    }
   ],
   "source": [
    "# подсчёт явных дубликатов\n",
    "df.duplicated().sum()"
   ]
  },
  {
   "cell_type": "code",
   "execution_count": 12,
   "metadata": {
    "id": "exFHq6tt_Zct"
   },
   "outputs": [],
   "source": [
    "# удаление явных дубликатов (с удалением старых индексов и формированием новых)\n",
    "df = df.drop_duplicates().reset_index(drop=True)"
   ]
  },
  {
   "cell_type": "code",
   "execution_count": 13,
   "metadata": {
    "id": "-8PuNWQ0_Zct"
   },
   "outputs": [
    {
     "data": {
      "text/plain": [
       "0"
      ]
     },
     "execution_count": 13,
     "metadata": {},
     "output_type": "execute_result"
    }
   ],
   "source": [
    "# проверка на отсутствие дубликатов\n",
    "df.duplicated().sum()"
   ]
  },
  {
   "cell_type": "code",
   "execution_count": 14,
   "metadata": {
    "id": "JIUcqzZN_Zct",
    "scrolled": false
   },
   "outputs": [
    {
     "data": {
      "text/plain": [
       "array(['acid', 'acoustic', 'action', 'adult', 'africa', 'afrikaans',\n",
       "       'alternative', 'alternativepunk', 'ambient', 'americana',\n",
       "       'animated', 'anime', 'arabesk', 'arabic', 'arena',\n",
       "       'argentinetango', 'art', 'audiobook', 'author', 'avantgarde',\n",
       "       'axé', 'baile', 'balkan', 'beats', 'bigroom', 'black', 'bluegrass',\n",
       "       'blues', 'bollywood', 'bossa', 'brazilian', 'breakbeat', 'breaks',\n",
       "       'broadway', 'cantautori', 'cantopop', 'canzone', 'caribbean',\n",
       "       'caucasian', 'celtic', 'chamber', 'chanson', 'children', 'chill',\n",
       "       'chinese', 'choral', 'christian', 'christmas', 'classical',\n",
       "       'classicmetal', 'club', 'colombian', 'comedy', 'conjazz',\n",
       "       'contemporary', 'country', 'cuban', 'dance', 'dancehall',\n",
       "       'dancepop', 'dark', 'death', 'deep', 'deutschrock', 'deutschspr',\n",
       "       'dirty', 'disco', 'dnb', 'documentary', 'downbeat', 'downtempo',\n",
       "       'drum', 'dub', 'dubstep', 'eastern', 'easy', 'electronic',\n",
       "       'electropop', 'emo', 'entehno', 'epicmetal', 'estrada', 'ethnic',\n",
       "       'eurofolk', 'european', 'experimental', 'extrememetal', 'fado',\n",
       "       'fairytail', 'film', 'fitness', 'flamenco', 'folk', 'folklore',\n",
       "       'folkmetal', 'folkrock', 'folktronica', 'forró', 'frankreich',\n",
       "       'französisch', 'french', 'funk', 'future', 'gangsta', 'garage',\n",
       "       'german', 'ghazal', 'gitarre', 'glitch', 'gospel', 'gothic',\n",
       "       'grime', 'grunge', 'gypsy', 'handsup', \"hard'n'heavy\", 'hardcore',\n",
       "       'hardstyle', 'hardtechno', 'hip', 'hip-hop', 'hiphop',\n",
       "       'historisch', 'holiday', 'hop', 'horror', 'house', 'hymn', 'idm',\n",
       "       'independent', 'indian', 'indie', 'indipop', 'industrial',\n",
       "       'inspirational', 'instrumental', 'international', 'irish', 'jam',\n",
       "       'japanese', 'jazz', 'jewish', 'jpop', 'jungle', 'k-pop',\n",
       "       'karadeniz', 'karaoke', 'kayokyoku', 'korean', 'laiko', 'latin',\n",
       "       'latino', 'leftfield', 'local', 'lounge', 'loungeelectronic',\n",
       "       'lovers', 'malaysian', 'mandopop', 'marschmusik', 'meditative',\n",
       "       'mediterranean', 'melodic', 'metal', 'metalcore', 'mexican',\n",
       "       'middle', 'minimal', 'miscellaneous', 'modern', 'mood', 'mpb',\n",
       "       'muslim', 'native', 'neoklassik', 'neue', 'new', 'newage',\n",
       "       'newwave', 'nu', 'nujazz', 'numetal', 'oceania', 'old', 'opera',\n",
       "       'orchestral', 'other', 'piano', 'podcasts', 'pop', 'popdance',\n",
       "       'popelectronic', 'popeurodance', 'poprussian', 'post',\n",
       "       'posthardcore', 'postrock', 'power', 'progmetal', 'progressive',\n",
       "       'psychedelic', 'punjabi', 'punk', 'quebecois', 'ragga', 'ram',\n",
       "       'rancheras', 'rap', 'rave', 'reggae', 'reggaeton', 'regional',\n",
       "       'relax', 'religious', 'retro', 'rhythm', 'rnb', 'rnr', 'rock',\n",
       "       'rockabilly', 'rockalternative', 'rockindie', 'rockother',\n",
       "       'romance', 'roots', 'ruspop', 'rusrap', 'rusrock', 'russian',\n",
       "       'salsa', 'samba', 'scenic', 'schlager', 'self', 'sertanejo',\n",
       "       'shanson', 'shoegazing', 'showtunes', 'singer', 'ska', 'skarock',\n",
       "       'slow', 'smooth', 'soft', 'soul', 'soulful', 'sound', 'soundtrack',\n",
       "       'southern', 'specialty', 'speech', 'spiritual', 'sport',\n",
       "       'stonerrock', 'surf', 'swing', 'synthpop', 'synthrock',\n",
       "       'sängerportrait', 'tango', 'tanzorchester', 'taraftar', 'tatar',\n",
       "       'tech', 'techno', 'teen', 'thrash', 'top', 'traditional',\n",
       "       'tradjazz', 'trance', 'tribal', 'trip', 'triphop', 'tropical',\n",
       "       'türk', 'türkçe', 'ukrrock', 'unknown', 'urban', 'uzbek',\n",
       "       'variété', 'vi', 'videogame', 'vocal', 'western', 'world',\n",
       "       'worldbeat', 'ïîï', 'электроника'], dtype=object)"
      ]
     },
     "execution_count": 14,
     "metadata": {},
     "output_type": "execute_result"
    }
   ],
   "source": [
    "# Просмотр уникальных названий жанров\n",
    "df['genre'].sort_values().unique()"
   ]
  },
  {
   "cell_type": "markdown",
   "metadata": {},
   "source": [
    "Есть некоторые неявные дубликаты Хип-хопа"
   ]
  },
  {
   "cell_type": "code",
   "execution_count": 15,
   "metadata": {
    "id": "ErNDkmns_Zct"
   },
   "outputs": [],
   "source": [
    "# Функция для замены неявных дубликатов\n",
    "def replace_wrong_genres(wrong_genres,correct_genre):\n",
    "    for wrong in wrong_genres:\n",
    "        df['genre'] = df['genre'].replace(wrong, correct_genre)"
   ]
  },
  {
   "cell_type": "code",
   "execution_count": 16,
   "metadata": {
    "id": "YN5i2hpmSo09"
   },
   "outputs": [],
   "source": [
    "# Устранение неявных дубликатов\n",
    "replace_wrong_genres(['hip','hop','hip-hop'],correct_genre='hiphop')"
   ]
  },
  {
   "cell_type": "code",
   "execution_count": 17,
   "metadata": {
    "id": "wvixALnFG15m"
   },
   "outputs": [
    {
     "data": {
      "text/plain": [
       "array(['acid', 'acoustic', 'action', 'adult', 'africa', 'afrikaans',\n",
       "       'alternative', 'alternativepunk', 'ambient', 'americana',\n",
       "       'animated', 'anime', 'arabesk', 'arabic', 'arena',\n",
       "       'argentinetango', 'art', 'audiobook', 'author', 'avantgarde',\n",
       "       'axé', 'baile', 'balkan', 'beats', 'bigroom', 'black', 'bluegrass',\n",
       "       'blues', 'bollywood', 'bossa', 'brazilian', 'breakbeat', 'breaks',\n",
       "       'broadway', 'cantautori', 'cantopop', 'canzone', 'caribbean',\n",
       "       'caucasian', 'celtic', 'chamber', 'chanson', 'children', 'chill',\n",
       "       'chinese', 'choral', 'christian', 'christmas', 'classical',\n",
       "       'classicmetal', 'club', 'colombian', 'comedy', 'conjazz',\n",
       "       'contemporary', 'country', 'cuban', 'dance', 'dancehall',\n",
       "       'dancepop', 'dark', 'death', 'deep', 'deutschrock', 'deutschspr',\n",
       "       'dirty', 'disco', 'dnb', 'documentary', 'downbeat', 'downtempo',\n",
       "       'drum', 'dub', 'dubstep', 'eastern', 'easy', 'electronic',\n",
       "       'electropop', 'emo', 'entehno', 'epicmetal', 'estrada', 'ethnic',\n",
       "       'eurofolk', 'european', 'experimental', 'extrememetal', 'fado',\n",
       "       'fairytail', 'film', 'fitness', 'flamenco', 'folk', 'folklore',\n",
       "       'folkmetal', 'folkrock', 'folktronica', 'forró', 'frankreich',\n",
       "       'französisch', 'french', 'funk', 'future', 'gangsta', 'garage',\n",
       "       'german', 'ghazal', 'gitarre', 'glitch', 'gospel', 'gothic',\n",
       "       'grime', 'grunge', 'gypsy', 'handsup', \"hard'n'heavy\", 'hardcore',\n",
       "       'hardstyle', 'hardtechno', 'hiphop', 'historisch', 'holiday',\n",
       "       'horror', 'house', 'hymn', 'idm', 'independent', 'indian', 'indie',\n",
       "       'indipop', 'industrial', 'inspirational', 'instrumental',\n",
       "       'international', 'irish', 'jam', 'japanese', 'jazz', 'jewish',\n",
       "       'jpop', 'jungle', 'k-pop', 'karadeniz', 'karaoke', 'kayokyoku',\n",
       "       'korean', 'laiko', 'latin', 'latino', 'leftfield', 'local',\n",
       "       'lounge', 'loungeelectronic', 'lovers', 'malaysian', 'mandopop',\n",
       "       'marschmusik', 'meditative', 'mediterranean', 'melodic', 'metal',\n",
       "       'metalcore', 'mexican', 'middle', 'minimal', 'miscellaneous',\n",
       "       'modern', 'mood', 'mpb', 'muslim', 'native', 'neoklassik', 'neue',\n",
       "       'new', 'newage', 'newwave', 'nu', 'nujazz', 'numetal', 'oceania',\n",
       "       'old', 'opera', 'orchestral', 'other', 'piano', 'podcasts', 'pop',\n",
       "       'popdance', 'popelectronic', 'popeurodance', 'poprussian', 'post',\n",
       "       'posthardcore', 'postrock', 'power', 'progmetal', 'progressive',\n",
       "       'psychedelic', 'punjabi', 'punk', 'quebecois', 'ragga', 'ram',\n",
       "       'rancheras', 'rap', 'rave', 'reggae', 'reggaeton', 'regional',\n",
       "       'relax', 'religious', 'retro', 'rhythm', 'rnb', 'rnr', 'rock',\n",
       "       'rockabilly', 'rockalternative', 'rockindie', 'rockother',\n",
       "       'romance', 'roots', 'ruspop', 'rusrap', 'rusrock', 'russian',\n",
       "       'salsa', 'samba', 'scenic', 'schlager', 'self', 'sertanejo',\n",
       "       'shanson', 'shoegazing', 'showtunes', 'singer', 'ska', 'skarock',\n",
       "       'slow', 'smooth', 'soft', 'soul', 'soulful', 'sound', 'soundtrack',\n",
       "       'southern', 'specialty', 'speech', 'spiritual', 'sport',\n",
       "       'stonerrock', 'surf', 'swing', 'synthpop', 'synthrock',\n",
       "       'sängerportrait', 'tango', 'tanzorchester', 'taraftar', 'tatar',\n",
       "       'tech', 'techno', 'teen', 'thrash', 'top', 'traditional',\n",
       "       'tradjazz', 'trance', 'tribal', 'trip', 'triphop', 'tropical',\n",
       "       'türk', 'türkçe', 'ukrrock', 'unknown', 'urban', 'uzbek',\n",
       "       'variété', 'vi', 'videogame', 'vocal', 'western', 'world',\n",
       "       'worldbeat', 'ïîï', 'электроника'], dtype=object)"
      ]
     },
     "execution_count": 17,
     "metadata": {},
     "output_type": "execute_result"
    }
   ],
   "source": [
    "# Проверка на неявные дубликаты\n",
    "df['genre'].sort_values().unique()"
   ]
  },
  {
   "cell_type": "markdown",
   "metadata": {
    "id": "jz6a9-7HQUDd"
   },
   "source": [
    "**Выводы**\n",
    "\n",
    "В данных были проблемы:\n",
    "\n",
    "- нарушения в стиле заголовков,\n",
    "- пропущенные значения,\n",
    "- дубликаты — явные и неявные."
   ]
  },
  {
   "cell_type": "markdown",
   "metadata": {
    "id": "WttZHXH0SqKk"
   },
   "source": [
    "## Проверка гипотез"
   ]
  },
  {
   "cell_type": "markdown",
   "metadata": {
    "id": "Im936VVi_Zcu"
   },
   "source": [
    "### Сравнение поведения пользователей двух столиц"
   ]
  },
  {
   "cell_type": "markdown",
   "metadata": {
    "id": "nwt_MuaL_Zcu"
   },
   "source": [
    "Первая гипотеза утверждает, что пользователи по-разному слушают музыку в Москве и Санкт-Петербурге.\n",
    "\n",
    "* Разделим пользователей Москвы и Санкт-Петербурга\n",
    "* Сравним, сколько треков послушала каждая группа пользователей в понедельник, среду и пятницу.\n"
   ]
  },
  {
   "cell_type": "code",
   "execution_count": 18,
   "metadata": {
    "id": "0_Qs96oh_Zcu"
   },
   "outputs": [],
   "source": [
    "# Подсчёт прослушиваний в каждом городе\n",
    "moscow_listen = df[df['city']=='Moscow']['track'].count()\n",
    "spb_listen = df[df['city']=='Saint-Petersburg']['track'].count()\n",
    "#Подсчет прослушиваний одним фильтром\n",
    "listened_in_cities = df.groupby('city')['track'].count()\n"
   ]
  },
  {
   "cell_type": "markdown",
   "metadata": {
    "id": "dzli3w8o_Zcu"
   },
   "source": [
    "В Москве прослушиваний больше, чем в Петербурге. Из этого не следует, что московские пользователи чаще слушают музыку. Просто самих пользователей в Москве больше.\n",
    "\n",
    "Теперь сгруппируйте данные по дню недели и подсчитайте прослушивания в понедельник, среду и пятницу. Учтите, что в данных есть информация только о прослушиваниях только за эти дни.\n"
   ]
  },
  {
   "cell_type": "code",
   "execution_count": 19,
   "metadata": {
    "id": "uZMKjiJz_Zcu"
   },
   "outputs": [
    {
     "data": {
      "text/plain": [
       "day\n",
       "Friday       15945\n",
       "Monday       15740\n",
       "Wednesday    11056\n",
       "Name: track, dtype: int64"
      ]
     },
     "metadata": {},
     "output_type": "display_data"
    },
    {
     "data": {
      "text/plain": [
       "day\n",
       "Friday       5895\n",
       "Monday       5614\n",
       "Wednesday    7003\n",
       "Name: track, dtype: int64"
      ]
     },
     "metadata": {},
     "output_type": "display_data"
    }
   ],
   "source": [
    "# Подсчёт прослушиваний в каждый из трёх дней\n",
    "moscow_general = df[df['city']=='Moscow']\n",
    "spb_general = df[df['city']=='Saint-Petersburg']\n",
    "moscow_days = moscow_general.groupby('day')['track'].count()\n",
    "spb_days = spb_general.groupby('day')['track'].count()\n",
    "display(moscow_days,spb_days)"
   ]
  },
  {
   "cell_type": "markdown",
   "metadata": {
    "id": "cC2tNrlL_Zcu"
   },
   "source": [
    "В среднем пользователи из двух городов менее активны по средам. Но картина может измениться, если рассмотреть каждый город в отдельности."
   ]
  },
  {
   "cell_type": "markdown",
   "metadata": {
    "id": "POzs8bGa_Zcu"
   },
   "source": [
    "Вы видели, как работает группировка по городу и по дням недели. Теперь напишите функцию, которая объединит два эти расчёта.\n",
    "\n",
    "Создайте функцию `number_tracks()`, которая посчитает прослушивания для заданного дня и города. Ей понадобятся два параметра:\n",
    "* день недели,\n",
    "* название города.\n",
    "\n",
    "В функции сохраните в переменную строки исходной таблицы, у которых значение:\n",
    "  * в колонке `day` равно параметру `day`,\n",
    "  * в колонке `city` равно параметру `city`.\n",
    "\n",
    "Для этого примените последовательную фильтрацию с логической индексацией.\n",
    "\n",
    "Затем посчитайте значения в столбце `user_id` получившейся таблицы. Результат сохраните в новую переменную. Верните эту переменную из функции."
   ]
  },
  {
   "cell_type": "code",
   "execution_count": 20,
   "metadata": {
    "id": "Nz3GdQB1_Zcu"
   },
   "outputs": [],
   "source": [
    "def number_tracks(day, city):\n",
    "    track_list = df[df['city']==city]\n",
    "    track_list = track_list[track_list['day']==day]\n",
    "    track_list_count = track_list['user_id'].count()\n",
    "    return track_list_count\n",
    "# Функция для подсчёта прослушиваний для конкретного города и дня."
   ]
  },
  {
   "cell_type": "code",
   "execution_count": 21,
   "metadata": {
    "id": "rJcRATNQ_Zcu"
   },
   "outputs": [
    {
     "data": {
      "text/plain": [
       "15740"
      ]
     },
     "execution_count": 21,
     "metadata": {},
     "output_type": "execute_result"
    }
   ],
   "source": [
    "# количество прослушиваний в Москве по понедельникам\n",
    "number_tracks('Monday','Moscow')"
   ]
  },
  {
   "cell_type": "code",
   "execution_count": 22,
   "metadata": {
    "id": "hq_ncZ5T_Zcu"
   },
   "outputs": [
    {
     "data": {
      "text/plain": [
       "5614"
      ]
     },
     "execution_count": 22,
     "metadata": {},
     "output_type": "execute_result"
    }
   ],
   "source": [
    "# количество прослушиваний в Санкт-Петербурге по понедельникам\n",
    "number_tracks('Monday','Saint-Petersburg')"
   ]
  },
  {
   "cell_type": "code",
   "execution_count": 23,
   "metadata": {
    "id": "_NTy2VPU_Zcu"
   },
   "outputs": [
    {
     "data": {
      "text/plain": [
       "11056"
      ]
     },
     "execution_count": 23,
     "metadata": {},
     "output_type": "execute_result"
    }
   ],
   "source": [
    "# количество прослушиваний в Москве по средам\n",
    "number_tracks('Wednesday','Moscow')"
   ]
  },
  {
   "cell_type": "code",
   "execution_count": 24,
   "metadata": {
    "id": "j2y3TAwo_Zcu"
   },
   "outputs": [
    {
     "data": {
      "text/plain": [
       "7003"
      ]
     },
     "execution_count": 24,
     "metadata": {},
     "output_type": "execute_result"
    }
   ],
   "source": [
    "# количество прослушиваний в Санкт-Петербурге по средам\n",
    "number_tracks('Wednesday','Saint-Petersburg')"
   ]
  },
  {
   "cell_type": "code",
   "execution_count": 25,
   "metadata": {
    "id": "vYDw5u_K_Zcu"
   },
   "outputs": [
    {
     "data": {
      "text/plain": [
       "15945"
      ]
     },
     "execution_count": 25,
     "metadata": {},
     "output_type": "execute_result"
    }
   ],
   "source": [
    "# количество прослушиваний в Москве по пятницам\n",
    "number_tracks('Friday','Moscow')"
   ]
  },
  {
   "cell_type": "code",
   "execution_count": 26,
   "metadata": {
    "id": "8_yzFtW3_Zcu"
   },
   "outputs": [
    {
     "data": {
      "text/plain": [
       "5895"
      ]
     },
     "execution_count": 26,
     "metadata": {},
     "output_type": "execute_result"
    }
   ],
   "source": [
    "# количество прослушиваний в Санкт-Петербурге по пятницам\n",
    "number_tracks('Friday','Saint-Petersburg')"
   ]
  },
  {
   "cell_type": "code",
   "execution_count": 27,
   "metadata": {
    "id": "APAcLpOr_Zcu"
   },
   "outputs": [
    {
     "data": {
      "text/html": [
       "<div>\n",
       "<style scoped>\n",
       "    .dataframe tbody tr th:only-of-type {\n",
       "        vertical-align: middle;\n",
       "    }\n",
       "\n",
       "    .dataframe tbody tr th {\n",
       "        vertical-align: top;\n",
       "    }\n",
       "\n",
       "    .dataframe thead th {\n",
       "        text-align: right;\n",
       "    }\n",
       "</style>\n",
       "<table border=\"1\" class=\"dataframe\">\n",
       "  <thead>\n",
       "    <tr style=\"text-align: right;\">\n",
       "      <th></th>\n",
       "      <th>city</th>\n",
       "      <th>monday</th>\n",
       "      <th>wednesday</th>\n",
       "      <th>friday</th>\n",
       "    </tr>\n",
       "  </thead>\n",
       "  <tbody>\n",
       "    <tr>\n",
       "      <td>0</td>\n",
       "      <td>Moscow</td>\n",
       "      <td>15740</td>\n",
       "      <td>11056</td>\n",
       "      <td>15945</td>\n",
       "    </tr>\n",
       "    <tr>\n",
       "      <td>1</td>\n",
       "      <td>Saint-Petersburg</td>\n",
       "      <td>5614</td>\n",
       "      <td>7003</td>\n",
       "      <td>5895</td>\n",
       "    </tr>\n",
       "  </tbody>\n",
       "</table>\n",
       "</div>"
      ],
      "text/plain": [
       "               city  monday  wednesday  friday\n",
       "0            Moscow   15740      11056   15945\n",
       "1  Saint-Petersburg    5614       7003    5895"
      ]
     },
     "execution_count": 27,
     "metadata": {},
     "output_type": "execute_result"
    }
   ],
   "source": [
    "# Таблица с результатами\n",
    "pd.DataFrame(data=[['Moscow',15740,11056,15945],['Saint-Petersburg',5614,7003,5895]],columns=['city', 'monday', 'wednesday', 'friday'])"
   ]
  },
  {
   "cell_type": "markdown",
   "metadata": {
    "id": "-EgPIHYu_Zcu"
   },
   "source": [
    "**Выводы**\n",
    "\n",
    "Данные показывают разницу поведения пользователей:\n",
    "\n",
    "- В Москве пик прослушиваний приходится на понедельник и пятницу, а в среду заметен спад.\n",
    "- В Петербурге, наоборот, больше слушают музыку по средам. Активность в понедельник и пятницу здесь почти в равной мере уступает среде.\n",
    "\n",
    "Значит, данные говорят в пользу первой гипотезы."
   ]
  },
  {
   "cell_type": "markdown",
   "metadata": {
    "id": "atZAxtq4_Zcu"
   },
   "source": [
    "### Музыка в начале и в конце недели"
   ]
  },
  {
   "cell_type": "markdown",
   "metadata": {
    "id": "eXrQqXFH_Zcu"
   },
   "source": [
    "Согласно второй гипотезе, утром в понедельник в Москве преобладают одни жанры, а в Петербурге — другие. Так же и вечером пятницы преобладают разные жанры — в зависимости от города."
   ]
  },
  {
   "cell_type": "code",
   "execution_count": 28,
   "metadata": {
    "id": "qeaFfM_P_Zcu"
   },
   "outputs": [],
   "source": [
    "moscow_general = df[df['city']=='Moscow']"
   ]
  },
  {
   "cell_type": "code",
   "execution_count": 29,
   "metadata": {
    "id": "ORaVRKto_Zcu"
   },
   "outputs": [],
   "source": [
    "spb_general = df[df['city']=='Saint-Petersburg']"
   ]
  },
  {
   "cell_type": "code",
   "execution_count": 30,
   "metadata": {
    "id": "laJT9BYl_Zcu"
   },
   "outputs": [],
   "source": [
    "# Функция возвращает информацию о самых популярных жанрах в указанный день в заданное время:\n",
    "def genre_weekday(table, day, time1, time2):\n",
    "    genre_df = table[table['day']==day]\n",
    "    genre_df = genre_df[genre_df['time']>=time1]\n",
    "    genre_df = genre_df[genre_df['time']<=time2]\n",
    "    genre_df_count = genre_df.groupby('genre')['genre'].count()\n",
    "    genre_df_sorted = genre_df_count.sort_values(ascending=False)\n",
    "    return genre_df_sorted.head(10)"
   ]
  },
  {
   "cell_type": "code",
   "execution_count": 31,
   "metadata": {
    "id": "yz7itPUQ_Zcu",
    "scrolled": true
   },
   "outputs": [
    {
     "data": {
      "text/plain": [
       "genre\n",
       "pop            781\n",
       "dance          549\n",
       "electronic     480\n",
       "rock           474\n",
       "hiphop         286\n",
       "ruspop         186\n",
       "world          181\n",
       "rusrap         175\n",
       "alternative    164\n",
       "unknown        161\n",
       "Name: genre, dtype: int64"
      ]
     },
     "execution_count": 31,
     "metadata": {},
     "output_type": "execute_result"
    }
   ],
   "source": [
    "genre_weekday(moscow_general, 'Monday', '07:00', '11:00')"
   ]
  },
  {
   "cell_type": "code",
   "execution_count": 32,
   "metadata": {
    "id": "kwUcHPdy_Zcu"
   },
   "outputs": [
    {
     "data": {
      "text/plain": [
       "genre\n",
       "pop            218\n",
       "dance          182\n",
       "rock           162\n",
       "electronic     147\n",
       "hiphop          80\n",
       "ruspop          64\n",
       "alternative     58\n",
       "rusrap          55\n",
       "jazz            44\n",
       "classical       40\n",
       "Name: genre, dtype: int64"
      ]
     },
     "execution_count": 32,
     "metadata": {},
     "output_type": "execute_result"
    }
   ],
   "source": [
    "# вызов функции для утра понедельника в Петербурге\n",
    "genre_weekday(spb_general, 'Monday', '07:00', '11:00')"
   ]
  },
  {
   "cell_type": "code",
   "execution_count": 33,
   "metadata": {
    "id": "EzXVRE1o_Zcu"
   },
   "outputs": [
    {
     "data": {
      "text/plain": [
       "genre\n",
       "pop            713\n",
       "rock           517\n",
       "dance          495\n",
       "electronic     482\n",
       "hiphop         273\n",
       "world          208\n",
       "ruspop         170\n",
       "alternative    163\n",
       "classical      163\n",
       "rusrap         142\n",
       "Name: genre, dtype: int64"
      ]
     },
     "execution_count": 33,
     "metadata": {},
     "output_type": "execute_result"
    }
   ],
   "source": [
    "# вызов функции для вечера пятницы в Москве\n",
    "genre_weekday(moscow_general, 'Friday', '17:00', '23:00')"
   ]
  },
  {
   "cell_type": "code",
   "execution_count": 34,
   "metadata": {
    "id": "JZaEKu5v_Zcu"
   },
   "outputs": [
    {
     "data": {
      "text/plain": [
       "genre\n",
       "pop            256\n",
       "rock           216\n",
       "electronic     216\n",
       "dance          210\n",
       "hiphop          97\n",
       "alternative     63\n",
       "jazz            61\n",
       "classical       60\n",
       "rusrap          59\n",
       "world           54\n",
       "Name: genre, dtype: int64"
      ]
     },
     "execution_count": 34,
     "metadata": {},
     "output_type": "execute_result"
    }
   ],
   "source": [
    "# вызов функции для вечера пятницы в Петербурге\n",
    "genre_weekday(spb_general, 'Friday', '17:00', '23:00')"
   ]
  },
  {
   "cell_type": "markdown",
   "metadata": {
    "id": "wrCe4MNX_Zcu"
   },
   "source": [
    "**Выводы**\n",
    "\n",
    "Если сравнить топ-10 жанров в понедельник утром, можно сделать такие выводы:\n",
    "\n",
    "1. В Москве и Петербурге слушают похожую музыку. Единственное отличие — в московский рейтинг вошёл жанр “world”, а в петербургский — джаз и классика.\n",
    "\n",
    "2. В Москве пропущенных значений оказалось так много, что значение `'unknown'` заняло десятое место среди самых популярных жанров. Значит, пропущенные значения занимают существенную долю в данных и угрожают достоверности исследования.\n",
    "\n",
    "Вечер пятницы не меняет эту картину. Некоторые жанры поднимаются немного выше, другие спускаются, но в целом топ-10 остаётся тем же самым.\n",
    "\n",
    "Таким образом, вторая гипотеза подтвердилась лишь частично:\n",
    "* Пользователи слушают похожую музыку в начале недели и в конце.\n",
    "* Разница между Москвой и Петербургом не слишком выражена. В Москве чаще слушают русскую популярную музыку, в Петербурге — джаз.\n",
    "\n",
    "Однако пропуски в данных ставят под сомнение этот результат. В Москве их так много, что рейтинг топ-10 мог бы выглядеть иначе, если бы не утерянные  данные о жанрах."
   ]
  },
  {
   "cell_type": "markdown",
   "metadata": {
    "id": "JolODAqr_Zcu"
   },
   "source": [
    "### Жанровые предпочтения в Москве и Петербурге\n",
    "\n",
    "Гипотеза: Петербург — столица рэпа, музыку этого жанра там слушают чаще, чем в Москве.  А Москва — город контрастов, в котором, тем не менее, преобладает поп-музыка."
   ]
  },
  {
   "cell_type": "code",
   "execution_count": 35,
   "metadata": {
    "id": "r19lIPke_Zcu"
   },
   "outputs": [],
   "source": [
    "moscow_genres = moscow_general.groupby('genre')['genre'].count().sort_values(ascending=False)"
   ]
  },
  {
   "cell_type": "code",
   "execution_count": 36,
   "metadata": {
    "id": "WhCSooF8_Zcv"
   },
   "outputs": [
    {
     "data": {
      "text/plain": [
       "genre\n",
       "pop            5892\n",
       "dance          4435\n",
       "rock           3965\n",
       "electronic     3786\n",
       "hiphop         2096\n",
       "classical      1616\n",
       "world          1432\n",
       "alternative    1379\n",
       "ruspop         1372\n",
       "rusrap         1161\n",
       "Name: genre, dtype: int64"
      ]
     },
     "execution_count": 36,
     "metadata": {},
     "output_type": "execute_result"
    }
   ],
   "source": [
    "# просмотр первых 10 строк moscow_genres\n",
    "moscow_genres.head(10)"
   ]
  },
  {
   "cell_type": "code",
   "execution_count": 37,
   "metadata": {
    "id": "gluLIpE7_Zcv"
   },
   "outputs": [],
   "source": [
    "spb_genres = spb_general.groupby('genre')['genre'].count().sort_values(ascending=False)"
   ]
  },
  {
   "cell_type": "code",
   "execution_count": 38,
   "metadata": {
    "id": "uaGJHjVU_Zcv"
   },
   "outputs": [
    {
     "data": {
      "text/plain": [
       "genre\n",
       "pop            2431\n",
       "dance          1932\n",
       "rock           1879\n",
       "electronic     1736\n",
       "hiphop          960\n",
       "alternative     649\n",
       "classical       646\n",
       "rusrap          564\n",
       "ruspop          538\n",
       "world           515\n",
       "Name: genre, dtype: int64"
      ]
     },
     "execution_count": 38,
     "metadata": {},
     "output_type": "execute_result"
    }
   ],
   "source": [
    "# просмотр первых 10 строк spb_genres\n",
    "spb_genres.head(10)"
   ]
  },
  {
   "cell_type": "markdown",
   "metadata": {
    "id": "RY51YJYu_Zcv"
   },
   "source": [
    "**Выводы**"
   ]
  },
  {
   "cell_type": "markdown",
   "metadata": {
    "id": "nVhnJEm__Zcv"
   },
   "source": [
    "Гипотеза частично подтвердилась:\n",
    "* Поп-музыка — самый популярный жанр в Москве, как и предполагала гипотеза. Более того, в топ-10 жанров встречается близкий жанр — русская популярная музыка.\n",
    "* Вопреки ожиданиям, рэп одинаково популярен в Москве и Петербурге. \n"
   ]
  },
  {
   "cell_type": "markdown",
   "metadata": {
    "id": "ykKQ0N65_Zcv"
   },
   "source": [
    "## Итоги исследования"
   ]
  },
  {
   "cell_type": "markdown",
   "metadata": {
    "id": "tjUwbHb3_Zcv"
   },
   "source": [
    "Проверили три гипотезы и установили:\n",
    "\n",
    "1. День недели по-разному влияет на активность пользователей в Москве и Петербурге. \n",
    "\n",
    "Первая гипотеза полностью подтвердилась.\n",
    "\n",
    "2. Музыкальные предпочтения не сильно меняются в течение недели — будь то Москва или Петербург. Небольшие различия заметны в начале недели, по понедельникам:\n",
    "* в Москве слушают музыку жанра “world”,\n",
    "* в Петербурге — джаз и классику.\n",
    "\n",
    "Таким образом, вторая гипотеза подтвердилась лишь отчасти. Этот результат мог оказаться иным, если бы не пропуски в данных.\n",
    "\n",
    "3. Во вкусах пользователей Москвы и Петербурга больше общего чем различий. Вопреки ожиданиям, предпочтения жанров в Петербурге напоминают московские.\n",
    "\n",
    "Третья гипотеза не подтвердилась. Если различия в предпочтениях и существуют, на основной массе пользователей они незаметны.\n"
   ]
  },
  {
   "cell_type": "code",
   "execution_count": null,
   "metadata": {},
   "outputs": [],
   "source": []
  }
 ],
 "metadata": {
  "ExecuteTimeLog": [
   {
    "duration": 787,
    "start_time": "2022-01-24T09:05:33.157Z"
   },
   {
    "duration": 332,
    "start_time": "2022-01-24T09:06:00.617Z"
   },
   {
    "duration": 177,
    "start_time": "2022-01-24T09:06:06.480Z"
   },
   {
    "duration": 25,
    "start_time": "2022-01-24T09:06:22.593Z"
   },
   {
    "duration": 50,
    "start_time": "2022-01-24T09:07:08.352Z"
   },
   {
    "duration": 6,
    "start_time": "2022-01-24T09:12:01.547Z"
   },
   {
    "duration": 26,
    "start_time": "2022-01-24T09:13:39.490Z"
   },
   {
    "duration": 7,
    "start_time": "2022-01-24T09:13:49.220Z"
   },
   {
    "duration": 31,
    "start_time": "2022-01-24T09:15:45.957Z"
   },
   {
    "duration": 31,
    "start_time": "2022-01-24T09:17:29.233Z"
   },
   {
    "duration": 22,
    "start_time": "2022-01-24T09:21:13.050Z"
   },
   {
    "duration": 30,
    "start_time": "2022-01-24T09:21:28.109Z"
   },
   {
    "duration": 117,
    "start_time": "2022-01-24T09:23:01.602Z"
   },
   {
    "duration": 97,
    "start_time": "2022-01-24T09:24:52.274Z"
   },
   {
    "duration": 74,
    "start_time": "2022-01-24T09:25:00.228Z"
   },
   {
    "duration": 57,
    "start_time": "2022-01-24T09:27:17.014Z"
   },
   {
    "duration": 4,
    "start_time": "2022-01-24T09:35:33.365Z"
   },
   {
    "duration": 19,
    "start_time": "2022-01-24T09:36:37.280Z"
   },
   {
    "duration": 59,
    "start_time": "2022-01-24T09:36:50.049Z"
   },
   {
    "duration": 499,
    "start_time": "2022-01-25T08:31:52.027Z"
   },
   {
    "duration": 1105,
    "start_time": "2022-01-25T08:32:03.066Z"
   },
   {
    "duration": 227,
    "start_time": "2022-01-25T08:32:04.174Z"
   },
   {
    "duration": 26,
    "start_time": "2022-01-25T08:32:04.405Z"
   },
   {
    "duration": 62,
    "start_time": "2022-01-25T08:32:04.434Z"
   },
   {
    "duration": 9,
    "start_time": "2022-01-25T08:32:04.498Z"
   },
   {
    "duration": 32,
    "start_time": "2022-01-25T08:32:04.510Z"
   },
   {
    "duration": 21,
    "start_time": "2022-01-25T08:32:04.544Z"
   },
   {
    "duration": 41,
    "start_time": "2022-01-25T08:32:04.568Z"
   },
   {
    "duration": 49,
    "start_time": "2022-01-25T08:32:04.614Z"
   },
   {
    "duration": 41,
    "start_time": "2022-01-25T08:32:04.667Z"
   },
   {
    "duration": 112,
    "start_time": "2022-01-25T08:32:04.711Z"
   },
   {
    "duration": 123,
    "start_time": "2022-01-25T08:32:04.826Z"
   },
   {
    "duration": 87,
    "start_time": "2022-01-25T08:32:04.951Z"
   },
   {
    "duration": 88,
    "start_time": "2022-01-25T08:32:05.041Z"
   },
   {
    "duration": 5,
    "start_time": "2022-01-25T08:32:05.132Z"
   },
   {
    "duration": 18,
    "start_time": "2022-01-25T08:32:05.159Z"
   },
   {
    "duration": 82,
    "start_time": "2022-01-25T08:32:05.179Z"
   },
   {
    "duration": 39,
    "start_time": "2022-01-25T08:32:09.573Z"
   },
   {
    "duration": 38,
    "start_time": "2022-01-25T08:32:28.420Z"
   },
   {
    "duration": 38,
    "start_time": "2022-01-25T08:33:13.221Z"
   },
   {
    "duration": 15,
    "start_time": "2022-01-25T08:33:37.592Z"
   },
   {
    "duration": 36,
    "start_time": "2022-01-25T08:37:21.524Z"
   },
   {
    "duration": 38,
    "start_time": "2022-01-25T08:39:06.978Z"
   },
   {
    "duration": 44,
    "start_time": "2022-01-25T08:39:22.633Z"
   },
   {
    "duration": 6,
    "start_time": "2022-01-25T08:39:52.186Z"
   },
   {
    "duration": 6,
    "start_time": "2022-01-25T08:40:18.798Z"
   },
   {
    "duration": 27,
    "start_time": "2022-01-25T08:41:32.181Z"
   },
   {
    "duration": 22,
    "start_time": "2022-01-25T08:42:15.572Z"
   },
   {
    "duration": 37,
    "start_time": "2022-01-25T08:44:23.741Z"
   },
   {
    "duration": 40,
    "start_time": "2022-01-25T08:45:19.183Z"
   },
   {
    "duration": 43,
    "start_time": "2022-01-25T08:45:46.893Z"
   },
   {
    "duration": 6,
    "start_time": "2022-01-25T08:54:07.564Z"
   },
   {
    "duration": 11,
    "start_time": "2022-01-25T08:55:03.946Z"
   },
   {
    "duration": 7,
    "start_time": "2022-01-25T08:56:10.943Z"
   },
   {
    "duration": 12,
    "start_time": "2022-01-25T08:56:13.147Z"
   },
   {
    "duration": 11,
    "start_time": "2022-01-25T08:56:23.163Z"
   },
   {
    "duration": 5,
    "start_time": "2022-01-25T08:57:22.142Z"
   },
   {
    "duration": 27,
    "start_time": "2022-01-25T08:57:23.891Z"
   },
   {
    "duration": 22,
    "start_time": "2022-01-25T08:57:47.067Z"
   },
   {
    "duration": 18,
    "start_time": "2022-01-25T08:58:46.935Z"
   },
   {
    "duration": 27,
    "start_time": "2022-01-25T08:58:47.389Z"
   },
   {
    "duration": 18,
    "start_time": "2022-01-25T08:58:47.910Z"
   },
   {
    "duration": 25,
    "start_time": "2022-01-25T08:58:48.287Z"
   },
   {
    "duration": 19,
    "start_time": "2022-01-25T08:58:48.766Z"
   },
   {
    "duration": 1278,
    "start_time": "2022-01-25T09:03:02.404Z"
   },
   {
    "duration": 120,
    "start_time": "2022-01-25T09:04:58.083Z"
   },
   {
    "duration": 11,
    "start_time": "2022-01-25T09:06:49.642Z"
   },
   {
    "duration": 220,
    "start_time": "2022-01-26T07:38:39.343Z"
   },
   {
    "duration": 606,
    "start_time": "2022-01-26T07:38:50.287Z"
   },
   {
    "duration": 148,
    "start_time": "2022-01-26T07:38:50.895Z"
   },
   {
    "duration": 17,
    "start_time": "2022-01-26T07:38:51.045Z"
   },
   {
    "duration": 40,
    "start_time": "2022-01-26T07:38:51.064Z"
   },
   {
    "duration": 6,
    "start_time": "2022-01-26T07:38:51.106Z"
   },
   {
    "duration": 30,
    "start_time": "2022-01-26T07:38:51.114Z"
   },
   {
    "duration": 8,
    "start_time": "2022-01-26T07:38:51.145Z"
   },
   {
    "duration": 29,
    "start_time": "2022-01-26T07:38:51.154Z"
   },
   {
    "duration": 29,
    "start_time": "2022-01-26T07:38:51.185Z"
   },
   {
    "duration": 25,
    "start_time": "2022-01-26T07:38:51.216Z"
   },
   {
    "duration": 83,
    "start_time": "2022-01-26T07:38:51.243Z"
   },
   {
    "duration": 79,
    "start_time": "2022-01-26T07:38:51.328Z"
   },
   {
    "duration": 50,
    "start_time": "2022-01-26T07:38:51.409Z"
   },
   {
    "duration": 52,
    "start_time": "2022-01-26T07:38:51.460Z"
   },
   {
    "duration": 3,
    "start_time": "2022-01-26T07:38:51.513Z"
   },
   {
    "duration": 13,
    "start_time": "2022-01-26T07:38:51.517Z"
   },
   {
    "duration": 42,
    "start_time": "2022-01-26T07:38:51.532Z"
   },
   {
    "duration": 45,
    "start_time": "2022-01-26T07:38:51.575Z"
   },
   {
    "duration": 28,
    "start_time": "2022-01-26T07:38:51.621Z"
   },
   {
    "duration": 3,
    "start_time": "2022-01-26T07:38:51.651Z"
   },
   {
    "duration": 43,
    "start_time": "2022-01-26T07:38:51.655Z"
   },
   {
    "duration": 15,
    "start_time": "2022-01-26T07:38:51.699Z"
   },
   {
    "duration": 19,
    "start_time": "2022-01-26T07:38:51.715Z"
   },
   {
    "duration": 15,
    "start_time": "2022-01-26T07:38:51.736Z"
   },
   {
    "duration": 53,
    "start_time": "2022-01-26T07:38:51.752Z"
   },
   {
    "duration": 15,
    "start_time": "2022-01-26T07:38:51.807Z"
   },
   {
    "duration": 9,
    "start_time": "2022-01-26T07:38:56.612Z"
   },
   {
    "duration": 12,
    "start_time": "2022-01-26T07:44:59.025Z"
   },
   {
    "duration": 11,
    "start_time": "2022-01-26T07:44:59.501Z"
   },
   {
    "duration": 5,
    "start_time": "2022-01-26T07:55:48.014Z"
   },
   {
    "duration": 393,
    "start_time": "2022-01-26T07:56:26.561Z"
   },
   {
    "duration": 4,
    "start_time": "2022-01-26T07:57:19.770Z"
   },
   {
    "duration": 374,
    "start_time": "2022-01-26T07:57:22.372Z"
   },
   {
    "duration": 4,
    "start_time": "2022-01-26T07:59:01.316Z"
   },
   {
    "duration": 403,
    "start_time": "2022-01-26T07:59:02.790Z"
   },
   {
    "duration": 5,
    "start_time": "2022-01-26T08:00:20.156Z"
   },
   {
    "duration": 395,
    "start_time": "2022-01-26T08:00:21.206Z"
   },
   {
    "duration": 60,
    "start_time": "2022-01-26T08:00:35.543Z"
   },
   {
    "duration": 4,
    "start_time": "2022-01-26T08:00:40.244Z"
   },
   {
    "duration": 358,
    "start_time": "2022-01-26T08:00:42.504Z"
   },
   {
    "duration": 5,
    "start_time": "2022-01-26T08:02:40.314Z"
   },
   {
    "duration": 359,
    "start_time": "2022-01-26T08:02:41.506Z"
   },
   {
    "duration": 4,
    "start_time": "2022-01-26T08:06:54.792Z"
   },
   {
    "duration": 368,
    "start_time": "2022-01-26T08:06:57.549Z"
   },
   {
    "duration": 4,
    "start_time": "2022-01-26T08:10:26.979Z"
   },
   {
    "duration": 23,
    "start_time": "2022-01-26T08:10:30.673Z"
   },
   {
    "duration": 19,
    "start_time": "2022-01-26T08:11:57.467Z"
   },
   {
    "duration": 31,
    "start_time": "2022-01-26T08:12:24.314Z"
   },
   {
    "duration": 35,
    "start_time": "2022-01-26T08:12:41.058Z"
   },
   {
    "duration": 21,
    "start_time": "2022-01-26T08:13:35.191Z"
   },
   {
    "duration": 14,
    "start_time": "2022-01-26T08:13:49.901Z"
   },
   {
    "duration": 19,
    "start_time": "2022-01-26T08:14:27.703Z"
   },
   {
    "duration": 14,
    "start_time": "2022-01-26T08:14:42.264Z"
   },
   {
    "duration": 9,
    "start_time": "2022-01-26T08:19:26.473Z"
   },
   {
    "duration": 5,
    "start_time": "2022-01-26T08:19:37.655Z"
   },
   {
    "duration": 8,
    "start_time": "2022-01-26T08:19:54.686Z"
   },
   {
    "duration": 5,
    "start_time": "2022-01-26T08:19:55.791Z"
   },
   {
    "duration": 6,
    "start_time": "2022-01-26T08:20:39.878Z"
   },
   {
    "duration": 3,
    "start_time": "2022-01-26T08:20:41.449Z"
   },
   {
    "duration": 5,
    "start_time": "2022-01-26T08:21:02.157Z"
   },
   {
    "duration": 32,
    "start_time": "2022-01-26T08:27:58.326Z"
   },
   {
    "duration": 32,
    "start_time": "2022-01-26T08:28:24.860Z"
   },
   {
    "duration": 3,
    "start_time": "2022-01-26T08:28:36.014Z"
   },
   {
    "duration": 167,
    "start_time": "2022-01-26T08:28:36.019Z"
   },
   {
    "duration": 11,
    "start_time": "2022-01-26T08:28:36.187Z"
   },
   {
    "duration": 28,
    "start_time": "2022-01-26T08:28:36.200Z"
   },
   {
    "duration": 8,
    "start_time": "2022-01-26T08:28:36.229Z"
   },
   {
    "duration": 34,
    "start_time": "2022-01-26T08:28:36.238Z"
   },
   {
    "duration": 9,
    "start_time": "2022-01-26T08:28:36.275Z"
   },
   {
    "duration": 34,
    "start_time": "2022-01-26T08:28:36.286Z"
   },
   {
    "duration": 29,
    "start_time": "2022-01-26T08:28:36.321Z"
   },
   {
    "duration": 27,
    "start_time": "2022-01-26T08:28:36.352Z"
   },
   {
    "duration": 67,
    "start_time": "2022-01-26T08:28:36.388Z"
   },
   {
    "duration": 69,
    "start_time": "2022-01-26T08:28:36.456Z"
   },
   {
    "duration": 52,
    "start_time": "2022-01-26T08:28:36.527Z"
   },
   {
    "duration": 53,
    "start_time": "2022-01-26T08:28:36.581Z"
   },
   {
    "duration": 22,
    "start_time": "2022-01-26T08:28:36.635Z"
   },
   {
    "duration": 29,
    "start_time": "2022-01-26T08:28:36.659Z"
   },
   {
    "duration": 53,
    "start_time": "2022-01-26T08:28:36.690Z"
   },
   {
    "duration": 31,
    "start_time": "2022-01-26T08:28:36.744Z"
   },
   {
    "duration": 35,
    "start_time": "2022-01-26T08:28:36.778Z"
   },
   {
    "duration": 3,
    "start_time": "2022-01-26T08:28:36.815Z"
   },
   {
    "duration": 28,
    "start_time": "2022-01-26T08:28:36.820Z"
   },
   {
    "duration": 14,
    "start_time": "2022-01-26T08:28:36.849Z"
   },
   {
    "duration": 57,
    "start_time": "2022-01-26T08:28:36.865Z"
   },
   {
    "duration": 42,
    "start_time": "2022-01-26T08:28:36.924Z"
   },
   {
    "duration": 25,
    "start_time": "2022-01-26T08:28:36.969Z"
   },
   {
    "duration": 23,
    "start_time": "2022-01-26T08:28:36.995Z"
   },
   {
    "duration": 11,
    "start_time": "2022-01-26T08:28:37.020Z"
   },
   {
    "duration": 27,
    "start_time": "2022-01-26T08:28:37.033Z"
   },
   {
    "duration": 12,
    "start_time": "2022-01-26T08:28:37.062Z"
   },
   {
    "duration": 22,
    "start_time": "2022-01-26T08:28:37.076Z"
   },
   {
    "duration": 25,
    "start_time": "2022-01-26T08:28:37.100Z"
   },
   {
    "duration": 12,
    "start_time": "2022-01-26T08:28:37.126Z"
   },
   {
    "duration": 17,
    "start_time": "2022-01-26T08:28:37.140Z"
   },
   {
    "duration": 46,
    "start_time": "2022-01-26T08:28:37.158Z"
   },
   {
    "duration": 7,
    "start_time": "2022-01-26T08:28:37.206Z"
   },
   {
    "duration": 5,
    "start_time": "2022-01-26T08:28:37.215Z"
   },
   {
    "duration": 10,
    "start_time": "2022-01-26T08:28:37.221Z"
   },
   {
    "duration": 6,
    "start_time": "2022-01-26T08:28:37.233Z"
   },
   {
    "duration": 24,
    "start_time": "2022-01-26T08:29:06.013Z"
   },
   {
    "duration": 21,
    "start_time": "2022-01-26T08:29:11.261Z"
   },
   {
    "duration": 3,
    "start_time": "2022-01-26T08:30:00.019Z"
   },
   {
    "duration": 162,
    "start_time": "2022-01-26T08:30:00.024Z"
   },
   {
    "duration": 10,
    "start_time": "2022-01-26T08:30:00.188Z"
   },
   {
    "duration": 48,
    "start_time": "2022-01-26T08:30:00.200Z"
   },
   {
    "duration": 13,
    "start_time": "2022-01-26T08:30:00.250Z"
   },
   {
    "duration": 29,
    "start_time": "2022-01-26T08:30:00.265Z"
   },
   {
    "duration": 11,
    "start_time": "2022-01-26T08:30:00.296Z"
   },
   {
    "duration": 43,
    "start_time": "2022-01-26T08:30:00.309Z"
   },
   {
    "duration": 27,
    "start_time": "2022-01-26T08:30:00.355Z"
   },
   {
    "duration": 34,
    "start_time": "2022-01-26T08:30:00.384Z"
   },
   {
    "duration": 86,
    "start_time": "2022-01-26T08:30:00.420Z"
   },
   {
    "duration": 70,
    "start_time": "2022-01-26T08:30:00.508Z"
   },
   {
    "duration": 63,
    "start_time": "2022-01-26T08:30:00.580Z"
   },
   {
    "duration": 53,
    "start_time": "2022-01-26T08:30:00.645Z"
   },
   {
    "duration": 4,
    "start_time": "2022-01-26T08:30:00.700Z"
   },
   {
    "duration": 40,
    "start_time": "2022-01-26T08:30:00.705Z"
   },
   {
    "duration": 62,
    "start_time": "2022-01-26T08:30:00.747Z"
   },
   {
    "duration": 51,
    "start_time": "2022-01-26T08:30:00.811Z"
   },
   {
    "duration": 41,
    "start_time": "2022-01-26T08:30:00.864Z"
   },
   {
    "duration": 4,
    "start_time": "2022-01-26T08:30:00.907Z"
   },
   {
    "duration": 43,
    "start_time": "2022-01-26T08:30:00.913Z"
   },
   {
    "duration": 48,
    "start_time": "2022-01-26T08:30:00.958Z"
   },
   {
    "duration": 47,
    "start_time": "2022-01-26T08:30:01.008Z"
   },
   {
    "duration": 24,
    "start_time": "2022-01-26T08:30:01.057Z"
   },
   {
    "duration": 49,
    "start_time": "2022-01-26T08:30:01.083Z"
   },
   {
    "duration": 28,
    "start_time": "2022-01-26T08:30:01.134Z"
   },
   {
    "duration": 21,
    "start_time": "2022-01-26T08:30:01.165Z"
   },
   {
    "duration": 34,
    "start_time": "2022-01-26T08:30:01.188Z"
   },
   {
    "duration": 30,
    "start_time": "2022-01-26T08:30:01.224Z"
   },
   {
    "duration": 12,
    "start_time": "2022-01-26T08:30:01.256Z"
   },
   {
    "duration": 166,
    "start_time": "2022-01-26T08:30:01.270Z"
   },
   {
    "duration": 28,
    "start_time": "2022-01-26T08:30:01.438Z"
   },
   {
    "duration": 37,
    "start_time": "2022-01-26T08:30:01.468Z"
   },
   {
    "duration": 30,
    "start_time": "2022-01-26T08:30:01.507Z"
   },
   {
    "duration": 33,
    "start_time": "2022-01-26T08:30:01.539Z"
   },
   {
    "duration": 49,
    "start_time": "2022-01-26T08:30:01.574Z"
   },
   {
    "duration": 40,
    "start_time": "2022-01-26T08:30:01.625Z"
   },
   {
    "duration": 24,
    "start_time": "2022-01-26T08:30:01.667Z"
   },
   {
    "duration": 602,
    "start_time": "2022-02-03T13:34:17.433Z"
   },
   {
    "duration": 136,
    "start_time": "2022-02-03T13:34:18.037Z"
   },
   {
    "duration": 16,
    "start_time": "2022-02-03T13:34:18.175Z"
   },
   {
    "duration": 33,
    "start_time": "2022-02-03T13:34:18.193Z"
   },
   {
    "duration": 7,
    "start_time": "2022-02-03T13:34:18.228Z"
   },
   {
    "duration": 28,
    "start_time": "2022-02-03T13:34:18.236Z"
   },
   {
    "duration": 4,
    "start_time": "2022-02-03T13:34:18.265Z"
   },
   {
    "duration": 42,
    "start_time": "2022-02-03T13:34:18.271Z"
   },
   {
    "duration": 16,
    "start_time": "2022-02-03T13:34:18.315Z"
   },
   {
    "duration": 22,
    "start_time": "2022-02-03T13:34:18.333Z"
   },
   {
    "duration": 75,
    "start_time": "2022-02-03T13:34:18.356Z"
   },
   {
    "duration": 67,
    "start_time": "2022-02-03T13:34:18.433Z"
   },
   {
    "duration": 57,
    "start_time": "2022-02-03T13:34:18.502Z"
   },
   {
    "duration": 52,
    "start_time": "2022-02-03T13:34:18.561Z"
   },
   {
    "duration": 3,
    "start_time": "2022-02-03T13:34:18.615Z"
   },
   {
    "duration": 11,
    "start_time": "2022-02-03T13:34:18.619Z"
   },
   {
    "duration": 41,
    "start_time": "2022-02-03T13:34:18.632Z"
   },
   {
    "duration": 54,
    "start_time": "2022-02-03T13:34:18.675Z"
   },
   {
    "duration": 26,
    "start_time": "2022-02-03T13:34:18.731Z"
   },
   {
    "duration": 3,
    "start_time": "2022-02-03T13:34:18.759Z"
   },
   {
    "duration": 22,
    "start_time": "2022-02-03T13:34:18.765Z"
   },
   {
    "duration": 34,
    "start_time": "2022-02-03T13:34:18.788Z"
   },
   {
    "duration": 18,
    "start_time": "2022-02-03T13:34:18.826Z"
   },
   {
    "duration": 13,
    "start_time": "2022-02-03T13:34:18.846Z"
   },
   {
    "duration": 18,
    "start_time": "2022-02-03T13:34:18.861Z"
   },
   {
    "duration": 41,
    "start_time": "2022-02-03T13:34:18.881Z"
   },
   {
    "duration": 8,
    "start_time": "2022-02-03T13:34:18.924Z"
   },
   {
    "duration": 28,
    "start_time": "2022-02-03T13:34:18.933Z"
   },
   {
    "duration": 10,
    "start_time": "2022-02-03T13:34:18.962Z"
   },
   {
    "duration": 3,
    "start_time": "2022-02-03T13:34:18.974Z"
   },
   {
    "duration": 39,
    "start_time": "2022-02-03T13:34:18.979Z"
   },
   {
    "duration": 11,
    "start_time": "2022-02-03T13:34:19.020Z"
   },
   {
    "duration": 16,
    "start_time": "2022-02-03T13:34:19.033Z"
   },
   {
    "duration": 12,
    "start_time": "2022-02-03T13:34:19.050Z"
   },
   {
    "duration": 10,
    "start_time": "2022-02-03T13:34:19.064Z"
   },
   {
    "duration": 37,
    "start_time": "2022-02-03T13:34:19.075Z"
   },
   {
    "duration": 7,
    "start_time": "2022-02-03T13:34:19.114Z"
   },
   {
    "duration": 5,
    "start_time": "2022-02-03T13:34:19.122Z"
   },
   {
    "duration": 10,
    "start_time": "2022-02-03T13:34:57.406Z"
   },
   {
    "duration": 14,
    "start_time": "2022-02-03T13:37:07.947Z"
   },
   {
    "duration": 7,
    "start_time": "2022-02-03T13:37:43.986Z"
   },
   {
    "duration": 11,
    "start_time": "2022-02-03T13:38:37.094Z"
   }
  ],
  "colab": {
   "collapsed_sections": [
    "E0vqbgi9ay0H",
    "VUC88oWjTJw2"
   ],
   "name": "yandex_music_project_2021.2.ipynb",
   "provenance": []
  },
  "kernelspec": {
   "display_name": "Python 3 (ipykernel)",
   "language": "python",
   "name": "python3"
  },
  "language_info": {
   "codemirror_mode": {
    "name": "ipython",
    "version": 3
   },
   "file_extension": ".py",
   "mimetype": "text/x-python",
   "name": "python",
   "nbconvert_exporter": "python",
   "pygments_lexer": "ipython3",
   "version": "3.9.12"
  },
  "toc": {
   "base_numbering": 1,
   "nav_menu": {},
   "number_sections": true,
   "sideBar": true,
   "skip_h1_title": true,
   "title_cell": "Table of Contents",
   "title_sidebar": "Contents",
   "toc_cell": false,
   "toc_position": {
    "height": "calc(100% - 180px)",
    "left": "10px",
    "top": "150px",
    "width": "366.391px"
   },
   "toc_section_display": true,
   "toc_window_display": true
  }
 },
 "nbformat": 4,
 "nbformat_minor": 1
}
