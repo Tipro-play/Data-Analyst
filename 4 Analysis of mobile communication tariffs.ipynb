{
 "cells": [
  {
   "cell_type": "markdown",
   "metadata": {},
   "source": [
    "<b>Краткое описание </b>\n",
    "\n",
    "Вы аналитик компании «Мегалайн» — федерального оператора сотовой связи. Клиентам предлагают два тарифных плана: «Смарт» и «Ультра». Чтобы скорректировать рекламный бюджет, коммерческий департамент хочет понять, какой тариф приносит больше денег.\n",
    "Вам предстоит сделать предварительный анализ тарифов на небольшой выборке клиентов. В вашем распоряжении данные 500 пользователей «Мегалайна»: кто они, откуда, каким тарифом пользуются, сколько звонков и сообщений каждый отправил за 2018 год. Нужно проанализировать поведение клиентов и сделать вывод — какой тариф лучше."
   ]
  },
  {
   "cell_type": "markdown",
   "metadata": {},
   "source": [
    "## Изучение данных из файла"
   ]
  },
  {
   "cell_type": "code",
   "execution_count": 1,
   "metadata": {},
   "outputs": [],
   "source": [
    "import pandas as pd\n",
    "import numpy as np\n",
    "from scipy import stats as st\n",
    "import matplotlib.pyplot as plt"
   ]
  },
  {
   "cell_type": "code",
   "execution_count": 2,
   "metadata": {},
   "outputs": [],
   "source": [
    "data = pd.read_csv('/datasets/users.csv')\n",
    "calls = pd.read_csv('/datasets/calls.csv')\n",
    "internet = pd.read_csv('/datasets/internet.csv')\n",
    "messages = pd.read_csv('/datasets/messages.csv')\n",
    "traffic = pd.read_csv('/datasets/tariffs.csv')\n",
    "names = [data, calls, internet, messages, traffic]"
   ]
  },
  {
   "cell_type": "code",
   "execution_count": 3,
   "metadata": {},
   "outputs": [
    {
     "data": {
      "text/html": [
       "<div>\n",
       "<style scoped>\n",
       "    .dataframe tbody tr th:only-of-type {\n",
       "        vertical-align: middle;\n",
       "    }\n",
       "\n",
       "    .dataframe tbody tr th {\n",
       "        vertical-align: top;\n",
       "    }\n",
       "\n",
       "    .dataframe thead th {\n",
       "        text-align: right;\n",
       "    }\n",
       "</style>\n",
       "<table border=\"1\" class=\"dataframe\">\n",
       "  <thead>\n",
       "    <tr style=\"text-align: right;\">\n",
       "      <th></th>\n",
       "      <th>user_id</th>\n",
       "      <th>age</th>\n",
       "      <th>churn_date</th>\n",
       "      <th>city</th>\n",
       "      <th>first_name</th>\n",
       "      <th>last_name</th>\n",
       "      <th>reg_date</th>\n",
       "      <th>tariff</th>\n",
       "    </tr>\n",
       "  </thead>\n",
       "  <tbody>\n",
       "    <tr>\n",
       "      <th>0</th>\n",
       "      <td>1000</td>\n",
       "      <td>52</td>\n",
       "      <td>NaN</td>\n",
       "      <td>Краснодар</td>\n",
       "      <td>Рафаил</td>\n",
       "      <td>Верещагин</td>\n",
       "      <td>2018-05-25</td>\n",
       "      <td>ultra</td>\n",
       "    </tr>\n",
       "    <tr>\n",
       "      <th>1</th>\n",
       "      <td>1001</td>\n",
       "      <td>41</td>\n",
       "      <td>NaN</td>\n",
       "      <td>Москва</td>\n",
       "      <td>Иван</td>\n",
       "      <td>Ежов</td>\n",
       "      <td>2018-11-01</td>\n",
       "      <td>smart</td>\n",
       "    </tr>\n",
       "    <tr>\n",
       "      <th>2</th>\n",
       "      <td>1002</td>\n",
       "      <td>59</td>\n",
       "      <td>NaN</td>\n",
       "      <td>Стерлитамак</td>\n",
       "      <td>Евгений</td>\n",
       "      <td>Абрамович</td>\n",
       "      <td>2018-06-17</td>\n",
       "      <td>smart</td>\n",
       "    </tr>\n",
       "    <tr>\n",
       "      <th>3</th>\n",
       "      <td>1003</td>\n",
       "      <td>23</td>\n",
       "      <td>NaN</td>\n",
       "      <td>Москва</td>\n",
       "      <td>Белла</td>\n",
       "      <td>Белякова</td>\n",
       "      <td>2018-08-17</td>\n",
       "      <td>ultra</td>\n",
       "    </tr>\n",
       "    <tr>\n",
       "      <th>4</th>\n",
       "      <td>1004</td>\n",
       "      <td>68</td>\n",
       "      <td>NaN</td>\n",
       "      <td>Новокузнецк</td>\n",
       "      <td>Татьяна</td>\n",
       "      <td>Авдеенко</td>\n",
       "      <td>2018-05-14</td>\n",
       "      <td>ultra</td>\n",
       "    </tr>\n",
       "    <tr>\n",
       "      <th>5</th>\n",
       "      <td>1005</td>\n",
       "      <td>67</td>\n",
       "      <td>NaN</td>\n",
       "      <td>Набережные Челны</td>\n",
       "      <td>Афанасий</td>\n",
       "      <td>Горлов</td>\n",
       "      <td>2018-01-25</td>\n",
       "      <td>smart</td>\n",
       "    </tr>\n",
       "    <tr>\n",
       "      <th>6</th>\n",
       "      <td>1006</td>\n",
       "      <td>21</td>\n",
       "      <td>NaN</td>\n",
       "      <td>Ульяновск</td>\n",
       "      <td>Леонид</td>\n",
       "      <td>Ермолаев</td>\n",
       "      <td>2018-02-26</td>\n",
       "      <td>smart</td>\n",
       "    </tr>\n",
       "    <tr>\n",
       "      <th>7</th>\n",
       "      <td>1007</td>\n",
       "      <td>65</td>\n",
       "      <td>NaN</td>\n",
       "      <td>Москва</td>\n",
       "      <td>Юна</td>\n",
       "      <td>Березина</td>\n",
       "      <td>2018-04-19</td>\n",
       "      <td>smart</td>\n",
       "    </tr>\n",
       "    <tr>\n",
       "      <th>8</th>\n",
       "      <td>1008</td>\n",
       "      <td>63</td>\n",
       "      <td>NaN</td>\n",
       "      <td>Челябинск</td>\n",
       "      <td>Рустэм</td>\n",
       "      <td>Пономарёв</td>\n",
       "      <td>2018-12-19</td>\n",
       "      <td>smart</td>\n",
       "    </tr>\n",
       "    <tr>\n",
       "      <th>9</th>\n",
       "      <td>1009</td>\n",
       "      <td>24</td>\n",
       "      <td>NaN</td>\n",
       "      <td>Пермь</td>\n",
       "      <td>Василиса</td>\n",
       "      <td>Блинова</td>\n",
       "      <td>2018-03-22</td>\n",
       "      <td>smart</td>\n",
       "    </tr>\n",
       "  </tbody>\n",
       "</table>\n",
       "</div>"
      ],
      "text/plain": [
       "   user_id  age churn_date              city first_name  last_name  \\\n",
       "0     1000   52        NaN         Краснодар     Рафаил  Верещагин   \n",
       "1     1001   41        NaN            Москва       Иван       Ежов   \n",
       "2     1002   59        NaN       Стерлитамак    Евгений  Абрамович   \n",
       "3     1003   23        NaN            Москва      Белла   Белякова   \n",
       "4     1004   68        NaN       Новокузнецк    Татьяна   Авдеенко   \n",
       "5     1005   67        NaN  Набережные Челны   Афанасий     Горлов   \n",
       "6     1006   21        NaN         Ульяновск     Леонид   Ермолаев   \n",
       "7     1007   65        NaN            Москва        Юна   Березина   \n",
       "8     1008   63        NaN         Челябинск     Рустэм  Пономарёв   \n",
       "9     1009   24        NaN             Пермь   Василиса    Блинова   \n",
       "\n",
       "     reg_date tariff  \n",
       "0  2018-05-25  ultra  \n",
       "1  2018-11-01  smart  \n",
       "2  2018-06-17  smart  \n",
       "3  2018-08-17  ultra  \n",
       "4  2018-05-14  ultra  \n",
       "5  2018-01-25  smart  \n",
       "6  2018-02-26  smart  \n",
       "7  2018-04-19  smart  \n",
       "8  2018-12-19  smart  \n",
       "9  2018-03-22  smart  "
      ]
     },
     "execution_count": 3,
     "metadata": {},
     "output_type": "execute_result"
    }
   ],
   "source": [
    "data.head(10)"
   ]
  },
  {
   "cell_type": "code",
   "execution_count": 4,
   "metadata": {},
   "outputs": [
    {
     "data": {
      "text/html": [
       "<div>\n",
       "<style scoped>\n",
       "    .dataframe tbody tr th:only-of-type {\n",
       "        vertical-align: middle;\n",
       "    }\n",
       "\n",
       "    .dataframe tbody tr th {\n",
       "        vertical-align: top;\n",
       "    }\n",
       "\n",
       "    .dataframe thead th {\n",
       "        text-align: right;\n",
       "    }\n",
       "</style>\n",
       "<table border=\"1\" class=\"dataframe\">\n",
       "  <thead>\n",
       "    <tr style=\"text-align: right;\">\n",
       "      <th></th>\n",
       "      <th>id</th>\n",
       "      <th>call_date</th>\n",
       "      <th>duration</th>\n",
       "      <th>user_id</th>\n",
       "    </tr>\n",
       "  </thead>\n",
       "  <tbody>\n",
       "    <tr>\n",
       "      <th>0</th>\n",
       "      <td>1000_0</td>\n",
       "      <td>2018-07-25</td>\n",
       "      <td>0.00</td>\n",
       "      <td>1000</td>\n",
       "    </tr>\n",
       "    <tr>\n",
       "      <th>1</th>\n",
       "      <td>1000_1</td>\n",
       "      <td>2018-08-17</td>\n",
       "      <td>0.00</td>\n",
       "      <td>1000</td>\n",
       "    </tr>\n",
       "    <tr>\n",
       "      <th>2</th>\n",
       "      <td>1000_2</td>\n",
       "      <td>2018-06-11</td>\n",
       "      <td>2.85</td>\n",
       "      <td>1000</td>\n",
       "    </tr>\n",
       "    <tr>\n",
       "      <th>3</th>\n",
       "      <td>1000_3</td>\n",
       "      <td>2018-09-21</td>\n",
       "      <td>13.80</td>\n",
       "      <td>1000</td>\n",
       "    </tr>\n",
       "    <tr>\n",
       "      <th>4</th>\n",
       "      <td>1000_4</td>\n",
       "      <td>2018-12-15</td>\n",
       "      <td>5.18</td>\n",
       "      <td>1000</td>\n",
       "    </tr>\n",
       "    <tr>\n",
       "      <th>5</th>\n",
       "      <td>1000_5</td>\n",
       "      <td>2018-11-02</td>\n",
       "      <td>0.00</td>\n",
       "      <td>1000</td>\n",
       "    </tr>\n",
       "    <tr>\n",
       "      <th>6</th>\n",
       "      <td>1000_6</td>\n",
       "      <td>2018-10-18</td>\n",
       "      <td>0.00</td>\n",
       "      <td>1000</td>\n",
       "    </tr>\n",
       "    <tr>\n",
       "      <th>7</th>\n",
       "      <td>1000_7</td>\n",
       "      <td>2018-08-22</td>\n",
       "      <td>18.31</td>\n",
       "      <td>1000</td>\n",
       "    </tr>\n",
       "    <tr>\n",
       "      <th>8</th>\n",
       "      <td>1000_8</td>\n",
       "      <td>2018-09-15</td>\n",
       "      <td>18.44</td>\n",
       "      <td>1000</td>\n",
       "    </tr>\n",
       "    <tr>\n",
       "      <th>9</th>\n",
       "      <td>1000_9</td>\n",
       "      <td>2018-08-15</td>\n",
       "      <td>0.00</td>\n",
       "      <td>1000</td>\n",
       "    </tr>\n",
       "  </tbody>\n",
       "</table>\n",
       "</div>"
      ],
      "text/plain": [
       "       id   call_date  duration  user_id\n",
       "0  1000_0  2018-07-25      0.00     1000\n",
       "1  1000_1  2018-08-17      0.00     1000\n",
       "2  1000_2  2018-06-11      2.85     1000\n",
       "3  1000_3  2018-09-21     13.80     1000\n",
       "4  1000_4  2018-12-15      5.18     1000\n",
       "5  1000_5  2018-11-02      0.00     1000\n",
       "6  1000_6  2018-10-18      0.00     1000\n",
       "7  1000_7  2018-08-22     18.31     1000\n",
       "8  1000_8  2018-09-15     18.44     1000\n",
       "9  1000_9  2018-08-15      0.00     1000"
      ]
     },
     "execution_count": 4,
     "metadata": {},
     "output_type": "execute_result"
    }
   ],
   "source": [
    "calls.head(10)"
   ]
  },
  {
   "cell_type": "code",
   "execution_count": 5,
   "metadata": {},
   "outputs": [
    {
     "data": {
      "text/html": [
       "<div>\n",
       "<style scoped>\n",
       "    .dataframe tbody tr th:only-of-type {\n",
       "        vertical-align: middle;\n",
       "    }\n",
       "\n",
       "    .dataframe tbody tr th {\n",
       "        vertical-align: top;\n",
       "    }\n",
       "\n",
       "    .dataframe thead th {\n",
       "        text-align: right;\n",
       "    }\n",
       "</style>\n",
       "<table border=\"1\" class=\"dataframe\">\n",
       "  <thead>\n",
       "    <tr style=\"text-align: right;\">\n",
       "      <th></th>\n",
       "      <th>Unnamed: 0</th>\n",
       "      <th>id</th>\n",
       "      <th>mb_used</th>\n",
       "      <th>session_date</th>\n",
       "      <th>user_id</th>\n",
       "    </tr>\n",
       "  </thead>\n",
       "  <tbody>\n",
       "    <tr>\n",
       "      <th>0</th>\n",
       "      <td>0</td>\n",
       "      <td>1000_0</td>\n",
       "      <td>112.95</td>\n",
       "      <td>2018-11-25</td>\n",
       "      <td>1000</td>\n",
       "    </tr>\n",
       "    <tr>\n",
       "      <th>1</th>\n",
       "      <td>1</td>\n",
       "      <td>1000_1</td>\n",
       "      <td>1052.81</td>\n",
       "      <td>2018-09-07</td>\n",
       "      <td>1000</td>\n",
       "    </tr>\n",
       "    <tr>\n",
       "      <th>2</th>\n",
       "      <td>2</td>\n",
       "      <td>1000_2</td>\n",
       "      <td>1197.26</td>\n",
       "      <td>2018-06-25</td>\n",
       "      <td>1000</td>\n",
       "    </tr>\n",
       "    <tr>\n",
       "      <th>3</th>\n",
       "      <td>3</td>\n",
       "      <td>1000_3</td>\n",
       "      <td>550.27</td>\n",
       "      <td>2018-08-22</td>\n",
       "      <td>1000</td>\n",
       "    </tr>\n",
       "    <tr>\n",
       "      <th>4</th>\n",
       "      <td>4</td>\n",
       "      <td>1000_4</td>\n",
       "      <td>302.56</td>\n",
       "      <td>2018-09-24</td>\n",
       "      <td>1000</td>\n",
       "    </tr>\n",
       "    <tr>\n",
       "      <th>5</th>\n",
       "      <td>5</td>\n",
       "      <td>1000_5</td>\n",
       "      <td>399.97</td>\n",
       "      <td>2018-10-02</td>\n",
       "      <td>1000</td>\n",
       "    </tr>\n",
       "    <tr>\n",
       "      <th>6</th>\n",
       "      <td>6</td>\n",
       "      <td>1000_6</td>\n",
       "      <td>540.08</td>\n",
       "      <td>2018-09-07</td>\n",
       "      <td>1000</td>\n",
       "    </tr>\n",
       "    <tr>\n",
       "      <th>7</th>\n",
       "      <td>7</td>\n",
       "      <td>1000_7</td>\n",
       "      <td>415.70</td>\n",
       "      <td>2018-07-11</td>\n",
       "      <td>1000</td>\n",
       "    </tr>\n",
       "    <tr>\n",
       "      <th>8</th>\n",
       "      <td>8</td>\n",
       "      <td>1000_8</td>\n",
       "      <td>505.40</td>\n",
       "      <td>2018-10-08</td>\n",
       "      <td>1000</td>\n",
       "    </tr>\n",
       "    <tr>\n",
       "      <th>9</th>\n",
       "      <td>9</td>\n",
       "      <td>1000_9</td>\n",
       "      <td>345.54</td>\n",
       "      <td>2018-09-03</td>\n",
       "      <td>1000</td>\n",
       "    </tr>\n",
       "  </tbody>\n",
       "</table>\n",
       "</div>"
      ],
      "text/plain": [
       "   Unnamed: 0      id  mb_used session_date  user_id\n",
       "0           0  1000_0   112.95   2018-11-25     1000\n",
       "1           1  1000_1  1052.81   2018-09-07     1000\n",
       "2           2  1000_2  1197.26   2018-06-25     1000\n",
       "3           3  1000_3   550.27   2018-08-22     1000\n",
       "4           4  1000_4   302.56   2018-09-24     1000\n",
       "5           5  1000_5   399.97   2018-10-02     1000\n",
       "6           6  1000_6   540.08   2018-09-07     1000\n",
       "7           7  1000_7   415.70   2018-07-11     1000\n",
       "8           8  1000_8   505.40   2018-10-08     1000\n",
       "9           9  1000_9   345.54   2018-09-03     1000"
      ]
     },
     "execution_count": 5,
     "metadata": {},
     "output_type": "execute_result"
    }
   ],
   "source": [
    "internet.head(10)"
   ]
  },
  {
   "cell_type": "code",
   "execution_count": 6,
   "metadata": {
    "scrolled": true
   },
   "outputs": [
    {
     "data": {
      "text/html": [
       "<div>\n",
       "<style scoped>\n",
       "    .dataframe tbody tr th:only-of-type {\n",
       "        vertical-align: middle;\n",
       "    }\n",
       "\n",
       "    .dataframe tbody tr th {\n",
       "        vertical-align: top;\n",
       "    }\n",
       "\n",
       "    .dataframe thead th {\n",
       "        text-align: right;\n",
       "    }\n",
       "</style>\n",
       "<table border=\"1\" class=\"dataframe\">\n",
       "  <thead>\n",
       "    <tr style=\"text-align: right;\">\n",
       "      <th></th>\n",
       "      <th>id</th>\n",
       "      <th>message_date</th>\n",
       "      <th>user_id</th>\n",
       "    </tr>\n",
       "  </thead>\n",
       "  <tbody>\n",
       "    <tr>\n",
       "      <th>0</th>\n",
       "      <td>1000_0</td>\n",
       "      <td>2018-06-27</td>\n",
       "      <td>1000</td>\n",
       "    </tr>\n",
       "    <tr>\n",
       "      <th>1</th>\n",
       "      <td>1000_1</td>\n",
       "      <td>2018-10-08</td>\n",
       "      <td>1000</td>\n",
       "    </tr>\n",
       "    <tr>\n",
       "      <th>2</th>\n",
       "      <td>1000_2</td>\n",
       "      <td>2018-08-04</td>\n",
       "      <td>1000</td>\n",
       "    </tr>\n",
       "    <tr>\n",
       "      <th>3</th>\n",
       "      <td>1000_3</td>\n",
       "      <td>2018-06-16</td>\n",
       "      <td>1000</td>\n",
       "    </tr>\n",
       "    <tr>\n",
       "      <th>4</th>\n",
       "      <td>1000_4</td>\n",
       "      <td>2018-12-05</td>\n",
       "      <td>1000</td>\n",
       "    </tr>\n",
       "  </tbody>\n",
       "</table>\n",
       "</div>"
      ],
      "text/plain": [
       "       id message_date  user_id\n",
       "0  1000_0   2018-06-27     1000\n",
       "1  1000_1   2018-10-08     1000\n",
       "2  1000_2   2018-08-04     1000\n",
       "3  1000_3   2018-06-16     1000\n",
       "4  1000_4   2018-12-05     1000"
      ]
     },
     "execution_count": 6,
     "metadata": {},
     "output_type": "execute_result"
    }
   ],
   "source": [
    "messages.head()"
   ]
  },
  {
   "cell_type": "code",
   "execution_count": 7,
   "metadata": {},
   "outputs": [
    {
     "data": {
      "text/html": [
       "<div>\n",
       "<style scoped>\n",
       "    .dataframe tbody tr th:only-of-type {\n",
       "        vertical-align: middle;\n",
       "    }\n",
       "\n",
       "    .dataframe tbody tr th {\n",
       "        vertical-align: top;\n",
       "    }\n",
       "\n",
       "    .dataframe thead th {\n",
       "        text-align: right;\n",
       "    }\n",
       "</style>\n",
       "<table border=\"1\" class=\"dataframe\">\n",
       "  <thead>\n",
       "    <tr style=\"text-align: right;\">\n",
       "      <th></th>\n",
       "      <th>messages_included</th>\n",
       "      <th>mb_per_month_included</th>\n",
       "      <th>minutes_included</th>\n",
       "      <th>rub_monthly_fee</th>\n",
       "      <th>rub_per_gb</th>\n",
       "      <th>rub_per_message</th>\n",
       "      <th>rub_per_minute</th>\n",
       "      <th>tariff_name</th>\n",
       "    </tr>\n",
       "  </thead>\n",
       "  <tbody>\n",
       "    <tr>\n",
       "      <th>0</th>\n",
       "      <td>50</td>\n",
       "      <td>15360</td>\n",
       "      <td>500</td>\n",
       "      <td>550</td>\n",
       "      <td>200</td>\n",
       "      <td>3</td>\n",
       "      <td>3</td>\n",
       "      <td>smart</td>\n",
       "    </tr>\n",
       "    <tr>\n",
       "      <th>1</th>\n",
       "      <td>1000</td>\n",
       "      <td>30720</td>\n",
       "      <td>3000</td>\n",
       "      <td>1950</td>\n",
       "      <td>150</td>\n",
       "      <td>1</td>\n",
       "      <td>1</td>\n",
       "      <td>ultra</td>\n",
       "    </tr>\n",
       "  </tbody>\n",
       "</table>\n",
       "</div>"
      ],
      "text/plain": [
       "   messages_included  mb_per_month_included  minutes_included  \\\n",
       "0                 50                  15360               500   \n",
       "1               1000                  30720              3000   \n",
       "\n",
       "   rub_monthly_fee  rub_per_gb  rub_per_message  rub_per_minute tariff_name  \n",
       "0              550         200                3               3       smart  \n",
       "1             1950         150                1               1       ultra  "
      ]
     },
     "execution_count": 7,
     "metadata": {},
     "output_type": "execute_result"
    }
   ],
   "source": [
    "traffic.head()"
   ]
  },
  {
   "cell_type": "code",
   "execution_count": 8,
   "metadata": {
    "scrolled": true
   },
   "outputs": [
    {
     "name": "stdout",
     "output_type": "stream",
     "text": [
      "<class 'pandas.core.frame.DataFrame'>\n",
      "RangeIndex: 500 entries, 0 to 499\n",
      "Data columns (total 8 columns):\n",
      " #   Column      Non-Null Count  Dtype \n",
      "---  ------      --------------  ----- \n",
      " 0   user_id     500 non-null    int64 \n",
      " 1   age         500 non-null    int64 \n",
      " 2   churn_date  38 non-null     object\n",
      " 3   city        500 non-null    object\n",
      " 4   first_name  500 non-null    object\n",
      " 5   last_name   500 non-null    object\n",
      " 6   reg_date    500 non-null    object\n",
      " 7   tariff      500 non-null    object\n",
      "dtypes: int64(2), object(6)\n",
      "memory usage: 31.4+ KB\n",
      "\n",
      "<class 'pandas.core.frame.DataFrame'>\n",
      "RangeIndex: 202607 entries, 0 to 202606\n",
      "Data columns (total 4 columns):\n",
      " #   Column     Non-Null Count   Dtype  \n",
      "---  ------     --------------   -----  \n",
      " 0   id         202607 non-null  object \n",
      " 1   call_date  202607 non-null  object \n",
      " 2   duration   202607 non-null  float64\n",
      " 3   user_id    202607 non-null  int64  \n",
      "dtypes: float64(1), int64(1), object(2)\n",
      "memory usage: 6.2+ MB\n",
      "\n",
      "<class 'pandas.core.frame.DataFrame'>\n",
      "RangeIndex: 149396 entries, 0 to 149395\n",
      "Data columns (total 5 columns):\n",
      " #   Column        Non-Null Count   Dtype  \n",
      "---  ------        --------------   -----  \n",
      " 0   Unnamed: 0    149396 non-null  int64  \n",
      " 1   id            149396 non-null  object \n",
      " 2   mb_used       149396 non-null  float64\n",
      " 3   session_date  149396 non-null  object \n",
      " 4   user_id       149396 non-null  int64  \n",
      "dtypes: float64(1), int64(2), object(2)\n",
      "memory usage: 5.7+ MB\n",
      "\n",
      "<class 'pandas.core.frame.DataFrame'>\n",
      "RangeIndex: 123036 entries, 0 to 123035\n",
      "Data columns (total 3 columns):\n",
      " #   Column        Non-Null Count   Dtype \n",
      "---  ------        --------------   ----- \n",
      " 0   id            123036 non-null  object\n",
      " 1   message_date  123036 non-null  object\n",
      " 2   user_id       123036 non-null  int64 \n",
      "dtypes: int64(1), object(2)\n",
      "memory usage: 2.8+ MB\n",
      "\n",
      "<class 'pandas.core.frame.DataFrame'>\n",
      "RangeIndex: 2 entries, 0 to 1\n",
      "Data columns (total 8 columns):\n",
      " #   Column                 Non-Null Count  Dtype \n",
      "---  ------                 --------------  ----- \n",
      " 0   messages_included      2 non-null      int64 \n",
      " 1   mb_per_month_included  2 non-null      int64 \n",
      " 2   minutes_included       2 non-null      int64 \n",
      " 3   rub_monthly_fee        2 non-null      int64 \n",
      " 4   rub_per_gb             2 non-null      int64 \n",
      " 5   rub_per_message        2 non-null      int64 \n",
      " 6   rub_per_minute         2 non-null      int64 \n",
      " 7   tariff_name            2 non-null      object\n",
      "dtypes: int64(7), object(1)\n",
      "memory usage: 256.0+ bytes\n",
      "\n"
     ]
    }
   ],
   "source": [
    "for i in names:\n",
    "    i.info()\n",
    "    print()"
   ]
  },
  {
   "cell_type": "code",
   "execution_count": 9,
   "metadata": {
    "scrolled": true
   },
   "outputs": [
    {
     "data": {
      "text/html": [
       "<div>\n",
       "<style scoped>\n",
       "    .dataframe tbody tr th:only-of-type {\n",
       "        vertical-align: middle;\n",
       "    }\n",
       "\n",
       "    .dataframe tbody tr th {\n",
       "        vertical-align: top;\n",
       "    }\n",
       "\n",
       "    .dataframe thead th {\n",
       "        text-align: right;\n",
       "    }\n",
       "</style>\n",
       "<table border=\"1\" class=\"dataframe\">\n",
       "  <thead>\n",
       "    <tr style=\"text-align: right;\">\n",
       "      <th></th>\n",
       "      <th>user_id</th>\n",
       "      <th>age</th>\n",
       "    </tr>\n",
       "  </thead>\n",
       "  <tbody>\n",
       "    <tr>\n",
       "      <th>count</th>\n",
       "      <td>500.000000</td>\n",
       "      <td>500.00000</td>\n",
       "    </tr>\n",
       "    <tr>\n",
       "      <th>mean</th>\n",
       "      <td>1249.500000</td>\n",
       "      <td>46.58800</td>\n",
       "    </tr>\n",
       "    <tr>\n",
       "      <th>std</th>\n",
       "      <td>144.481833</td>\n",
       "      <td>16.66763</td>\n",
       "    </tr>\n",
       "    <tr>\n",
       "      <th>min</th>\n",
       "      <td>1000.000000</td>\n",
       "      <td>18.00000</td>\n",
       "    </tr>\n",
       "    <tr>\n",
       "      <th>25%</th>\n",
       "      <td>1124.750000</td>\n",
       "      <td>32.00000</td>\n",
       "    </tr>\n",
       "    <tr>\n",
       "      <th>50%</th>\n",
       "      <td>1249.500000</td>\n",
       "      <td>46.00000</td>\n",
       "    </tr>\n",
       "    <tr>\n",
       "      <th>75%</th>\n",
       "      <td>1374.250000</td>\n",
       "      <td>62.00000</td>\n",
       "    </tr>\n",
       "    <tr>\n",
       "      <th>max</th>\n",
       "      <td>1499.000000</td>\n",
       "      <td>75.00000</td>\n",
       "    </tr>\n",
       "  </tbody>\n",
       "</table>\n",
       "</div>"
      ],
      "text/plain": [
       "           user_id        age\n",
       "count   500.000000  500.00000\n",
       "mean   1249.500000   46.58800\n",
       "std     144.481833   16.66763\n",
       "min    1000.000000   18.00000\n",
       "25%    1124.750000   32.00000\n",
       "50%    1249.500000   46.00000\n",
       "75%    1374.250000   62.00000\n",
       "max    1499.000000   75.00000"
      ]
     },
     "metadata": {},
     "output_type": "display_data"
    },
    {
     "data": {
      "text/html": [
       "<div>\n",
       "<style scoped>\n",
       "    .dataframe tbody tr th:only-of-type {\n",
       "        vertical-align: middle;\n",
       "    }\n",
       "\n",
       "    .dataframe tbody tr th {\n",
       "        vertical-align: top;\n",
       "    }\n",
       "\n",
       "    .dataframe thead th {\n",
       "        text-align: right;\n",
       "    }\n",
       "</style>\n",
       "<table border=\"1\" class=\"dataframe\">\n",
       "  <thead>\n",
       "    <tr style=\"text-align: right;\">\n",
       "      <th></th>\n",
       "      <th>duration</th>\n",
       "      <th>user_id</th>\n",
       "    </tr>\n",
       "  </thead>\n",
       "  <tbody>\n",
       "    <tr>\n",
       "      <th>count</th>\n",
       "      <td>202607.000000</td>\n",
       "      <td>202607.000000</td>\n",
       "    </tr>\n",
       "    <tr>\n",
       "      <th>mean</th>\n",
       "      <td>6.755887</td>\n",
       "      <td>1253.940619</td>\n",
       "    </tr>\n",
       "    <tr>\n",
       "      <th>std</th>\n",
       "      <td>5.843365</td>\n",
       "      <td>144.722751</td>\n",
       "    </tr>\n",
       "    <tr>\n",
       "      <th>min</th>\n",
       "      <td>0.000000</td>\n",
       "      <td>1000.000000</td>\n",
       "    </tr>\n",
       "    <tr>\n",
       "      <th>25%</th>\n",
       "      <td>1.300000</td>\n",
       "      <td>1126.000000</td>\n",
       "    </tr>\n",
       "    <tr>\n",
       "      <th>50%</th>\n",
       "      <td>6.000000</td>\n",
       "      <td>1260.000000</td>\n",
       "    </tr>\n",
       "    <tr>\n",
       "      <th>75%</th>\n",
       "      <td>10.700000</td>\n",
       "      <td>1379.000000</td>\n",
       "    </tr>\n",
       "    <tr>\n",
       "      <th>max</th>\n",
       "      <td>38.000000</td>\n",
       "      <td>1499.000000</td>\n",
       "    </tr>\n",
       "  </tbody>\n",
       "</table>\n",
       "</div>"
      ],
      "text/plain": [
       "            duration        user_id\n",
       "count  202607.000000  202607.000000\n",
       "mean        6.755887    1253.940619\n",
       "std         5.843365     144.722751\n",
       "min         0.000000    1000.000000\n",
       "25%         1.300000    1126.000000\n",
       "50%         6.000000    1260.000000\n",
       "75%        10.700000    1379.000000\n",
       "max        38.000000    1499.000000"
      ]
     },
     "metadata": {},
     "output_type": "display_data"
    },
    {
     "data": {
      "text/html": [
       "<div>\n",
       "<style scoped>\n",
       "    .dataframe tbody tr th:only-of-type {\n",
       "        vertical-align: middle;\n",
       "    }\n",
       "\n",
       "    .dataframe tbody tr th {\n",
       "        vertical-align: top;\n",
       "    }\n",
       "\n",
       "    .dataframe thead th {\n",
       "        text-align: right;\n",
       "    }\n",
       "</style>\n",
       "<table border=\"1\" class=\"dataframe\">\n",
       "  <thead>\n",
       "    <tr style=\"text-align: right;\">\n",
       "      <th></th>\n",
       "      <th>Unnamed: 0</th>\n",
       "      <th>mb_used</th>\n",
       "      <th>user_id</th>\n",
       "    </tr>\n",
       "  </thead>\n",
       "  <tbody>\n",
       "    <tr>\n",
       "      <th>count</th>\n",
       "      <td>149396.000000</td>\n",
       "      <td>149396.000000</td>\n",
       "      <td>149396.000000</td>\n",
       "    </tr>\n",
       "    <tr>\n",
       "      <th>mean</th>\n",
       "      <td>74697.500000</td>\n",
       "      <td>370.192426</td>\n",
       "      <td>1252.099842</td>\n",
       "    </tr>\n",
       "    <tr>\n",
       "      <th>std</th>\n",
       "      <td>43127.054745</td>\n",
       "      <td>278.300951</td>\n",
       "      <td>144.050823</td>\n",
       "    </tr>\n",
       "    <tr>\n",
       "      <th>min</th>\n",
       "      <td>0.000000</td>\n",
       "      <td>0.000000</td>\n",
       "      <td>1000.000000</td>\n",
       "    </tr>\n",
       "    <tr>\n",
       "      <th>25%</th>\n",
       "      <td>37348.750000</td>\n",
       "      <td>138.187500</td>\n",
       "      <td>1130.000000</td>\n",
       "    </tr>\n",
       "    <tr>\n",
       "      <th>50%</th>\n",
       "      <td>74697.500000</td>\n",
       "      <td>348.015000</td>\n",
       "      <td>1251.000000</td>\n",
       "    </tr>\n",
       "    <tr>\n",
       "      <th>75%</th>\n",
       "      <td>112046.250000</td>\n",
       "      <td>559.552500</td>\n",
       "      <td>1380.000000</td>\n",
       "    </tr>\n",
       "    <tr>\n",
       "      <th>max</th>\n",
       "      <td>149395.000000</td>\n",
       "      <td>1724.830000</td>\n",
       "      <td>1499.000000</td>\n",
       "    </tr>\n",
       "  </tbody>\n",
       "</table>\n",
       "</div>"
      ],
      "text/plain": [
       "          Unnamed: 0        mb_used        user_id\n",
       "count  149396.000000  149396.000000  149396.000000\n",
       "mean    74697.500000     370.192426    1252.099842\n",
       "std     43127.054745     278.300951     144.050823\n",
       "min         0.000000       0.000000    1000.000000\n",
       "25%     37348.750000     138.187500    1130.000000\n",
       "50%     74697.500000     348.015000    1251.000000\n",
       "75%    112046.250000     559.552500    1380.000000\n",
       "max    149395.000000    1724.830000    1499.000000"
      ]
     },
     "metadata": {},
     "output_type": "display_data"
    },
    {
     "data": {
      "text/html": [
       "<div>\n",
       "<style scoped>\n",
       "    .dataframe tbody tr th:only-of-type {\n",
       "        vertical-align: middle;\n",
       "    }\n",
       "\n",
       "    .dataframe tbody tr th {\n",
       "        vertical-align: top;\n",
       "    }\n",
       "\n",
       "    .dataframe thead th {\n",
       "        text-align: right;\n",
       "    }\n",
       "</style>\n",
       "<table border=\"1\" class=\"dataframe\">\n",
       "  <thead>\n",
       "    <tr style=\"text-align: right;\">\n",
       "      <th></th>\n",
       "      <th>user_id</th>\n",
       "    </tr>\n",
       "  </thead>\n",
       "  <tbody>\n",
       "    <tr>\n",
       "      <th>count</th>\n",
       "      <td>123036.000000</td>\n",
       "    </tr>\n",
       "    <tr>\n",
       "      <th>mean</th>\n",
       "      <td>1256.989410</td>\n",
       "    </tr>\n",
       "    <tr>\n",
       "      <th>std</th>\n",
       "      <td>143.523967</td>\n",
       "    </tr>\n",
       "    <tr>\n",
       "      <th>min</th>\n",
       "      <td>1000.000000</td>\n",
       "    </tr>\n",
       "    <tr>\n",
       "      <th>25%</th>\n",
       "      <td>1134.000000</td>\n",
       "    </tr>\n",
       "    <tr>\n",
       "      <th>50%</th>\n",
       "      <td>1271.000000</td>\n",
       "    </tr>\n",
       "    <tr>\n",
       "      <th>75%</th>\n",
       "      <td>1381.000000</td>\n",
       "    </tr>\n",
       "    <tr>\n",
       "      <th>max</th>\n",
       "      <td>1499.000000</td>\n",
       "    </tr>\n",
       "  </tbody>\n",
       "</table>\n",
       "</div>"
      ],
      "text/plain": [
       "             user_id\n",
       "count  123036.000000\n",
       "mean     1256.989410\n",
       "std       143.523967\n",
       "min      1000.000000\n",
       "25%      1134.000000\n",
       "50%      1271.000000\n",
       "75%      1381.000000\n",
       "max      1499.000000"
      ]
     },
     "metadata": {},
     "output_type": "display_data"
    },
    {
     "data": {
      "text/html": [
       "<div>\n",
       "<style scoped>\n",
       "    .dataframe tbody tr th:only-of-type {\n",
       "        vertical-align: middle;\n",
       "    }\n",
       "\n",
       "    .dataframe tbody tr th {\n",
       "        vertical-align: top;\n",
       "    }\n",
       "\n",
       "    .dataframe thead th {\n",
       "        text-align: right;\n",
       "    }\n",
       "</style>\n",
       "<table border=\"1\" class=\"dataframe\">\n",
       "  <thead>\n",
       "    <tr style=\"text-align: right;\">\n",
       "      <th></th>\n",
       "      <th>messages_included</th>\n",
       "      <th>mb_per_month_included</th>\n",
       "      <th>minutes_included</th>\n",
       "      <th>rub_monthly_fee</th>\n",
       "      <th>rub_per_gb</th>\n",
       "      <th>rub_per_message</th>\n",
       "      <th>rub_per_minute</th>\n",
       "    </tr>\n",
       "  </thead>\n",
       "  <tbody>\n",
       "    <tr>\n",
       "      <th>count</th>\n",
       "      <td>2.000000</td>\n",
       "      <td>2.000000</td>\n",
       "      <td>2.000000</td>\n",
       "      <td>2.000000</td>\n",
       "      <td>2.000000</td>\n",
       "      <td>2.000000</td>\n",
       "      <td>2.000000</td>\n",
       "    </tr>\n",
       "    <tr>\n",
       "      <th>mean</th>\n",
       "      <td>525.000000</td>\n",
       "      <td>23040.000000</td>\n",
       "      <td>1750.000000</td>\n",
       "      <td>1250.000000</td>\n",
       "      <td>175.000000</td>\n",
       "      <td>2.000000</td>\n",
       "      <td>2.000000</td>\n",
       "    </tr>\n",
       "    <tr>\n",
       "      <th>std</th>\n",
       "      <td>671.751442</td>\n",
       "      <td>10861.160159</td>\n",
       "      <td>1767.766953</td>\n",
       "      <td>989.949494</td>\n",
       "      <td>35.355339</td>\n",
       "      <td>1.414214</td>\n",
       "      <td>1.414214</td>\n",
       "    </tr>\n",
       "    <tr>\n",
       "      <th>min</th>\n",
       "      <td>50.000000</td>\n",
       "      <td>15360.000000</td>\n",
       "      <td>500.000000</td>\n",
       "      <td>550.000000</td>\n",
       "      <td>150.000000</td>\n",
       "      <td>1.000000</td>\n",
       "      <td>1.000000</td>\n",
       "    </tr>\n",
       "    <tr>\n",
       "      <th>25%</th>\n",
       "      <td>287.500000</td>\n",
       "      <td>19200.000000</td>\n",
       "      <td>1125.000000</td>\n",
       "      <td>900.000000</td>\n",
       "      <td>162.500000</td>\n",
       "      <td>1.500000</td>\n",
       "      <td>1.500000</td>\n",
       "    </tr>\n",
       "    <tr>\n",
       "      <th>50%</th>\n",
       "      <td>525.000000</td>\n",
       "      <td>23040.000000</td>\n",
       "      <td>1750.000000</td>\n",
       "      <td>1250.000000</td>\n",
       "      <td>175.000000</td>\n",
       "      <td>2.000000</td>\n",
       "      <td>2.000000</td>\n",
       "    </tr>\n",
       "    <tr>\n",
       "      <th>75%</th>\n",
       "      <td>762.500000</td>\n",
       "      <td>26880.000000</td>\n",
       "      <td>2375.000000</td>\n",
       "      <td>1600.000000</td>\n",
       "      <td>187.500000</td>\n",
       "      <td>2.500000</td>\n",
       "      <td>2.500000</td>\n",
       "    </tr>\n",
       "    <tr>\n",
       "      <th>max</th>\n",
       "      <td>1000.000000</td>\n",
       "      <td>30720.000000</td>\n",
       "      <td>3000.000000</td>\n",
       "      <td>1950.000000</td>\n",
       "      <td>200.000000</td>\n",
       "      <td>3.000000</td>\n",
       "      <td>3.000000</td>\n",
       "    </tr>\n",
       "  </tbody>\n",
       "</table>\n",
       "</div>"
      ],
      "text/plain": [
       "       messages_included  mb_per_month_included  minutes_included  \\\n",
       "count           2.000000               2.000000          2.000000   \n",
       "mean          525.000000           23040.000000       1750.000000   \n",
       "std           671.751442           10861.160159       1767.766953   \n",
       "min            50.000000           15360.000000        500.000000   \n",
       "25%           287.500000           19200.000000       1125.000000   \n",
       "50%           525.000000           23040.000000       1750.000000   \n",
       "75%           762.500000           26880.000000       2375.000000   \n",
       "max          1000.000000           30720.000000       3000.000000   \n",
       "\n",
       "       rub_monthly_fee  rub_per_gb  rub_per_message  rub_per_minute  \n",
       "count         2.000000    2.000000         2.000000        2.000000  \n",
       "mean       1250.000000  175.000000         2.000000        2.000000  \n",
       "std         989.949494   35.355339         1.414214        1.414214  \n",
       "min         550.000000  150.000000         1.000000        1.000000  \n",
       "25%         900.000000  162.500000         1.500000        1.500000  \n",
       "50%        1250.000000  175.000000         2.000000        2.000000  \n",
       "75%        1600.000000  187.500000         2.500000        2.500000  \n",
       "max        1950.000000  200.000000         3.000000        3.000000  "
      ]
     },
     "metadata": {},
     "output_type": "display_data"
    }
   ],
   "source": [
    "for i in names:\n",
    "    display(i.describe())"
   ]
  },
  {
   "cell_type": "code",
   "execution_count": 10,
   "metadata": {
    "scrolled": false
   },
   "outputs": [
    {
     "data": {
      "text/html": [
       "<div>\n",
       "<style scoped>\n",
       "    .dataframe tbody tr th:only-of-type {\n",
       "        vertical-align: middle;\n",
       "    }\n",
       "\n",
       "    .dataframe tbody tr th {\n",
       "        vertical-align: top;\n",
       "    }\n",
       "\n",
       "    .dataframe thead th {\n",
       "        text-align: right;\n",
       "    }\n",
       "</style>\n",
       "<table border=\"1\" class=\"dataframe\">\n",
       "  <thead>\n",
       "    <tr style=\"text-align: right;\">\n",
       "      <th></th>\n",
       "      <th>user_id</th>\n",
       "      <th>age</th>\n",
       "      <th>churn_date</th>\n",
       "      <th>city</th>\n",
       "      <th>first_name</th>\n",
       "      <th>last_name</th>\n",
       "      <th>reg_date</th>\n",
       "      <th>tariff</th>\n",
       "    </tr>\n",
       "  </thead>\n",
       "  <tbody>\n",
       "    <tr>\n",
       "      <th>19</th>\n",
       "      <td>1019</td>\n",
       "      <td>63</td>\n",
       "      <td>2018-10-05</td>\n",
       "      <td>Томск</td>\n",
       "      <td>Игнатий</td>\n",
       "      <td>Круглов</td>\n",
       "      <td>2018-05-16</td>\n",
       "      <td>ultra</td>\n",
       "    </tr>\n",
       "    <tr>\n",
       "      <th>20</th>\n",
       "      <td>1020</td>\n",
       "      <td>59</td>\n",
       "      <td>2018-12-18</td>\n",
       "      <td>Чита</td>\n",
       "      <td>Тала</td>\n",
       "      <td>Костина</td>\n",
       "      <td>2018-10-22</td>\n",
       "      <td>smart</td>\n",
       "    </tr>\n",
       "    <tr>\n",
       "      <th>34</th>\n",
       "      <td>1034</td>\n",
       "      <td>66</td>\n",
       "      <td>2018-11-21</td>\n",
       "      <td>Вологда</td>\n",
       "      <td>Святослав</td>\n",
       "      <td>Бондарев</td>\n",
       "      <td>2018-08-26</td>\n",
       "      <td>smart</td>\n",
       "    </tr>\n",
       "    <tr>\n",
       "      <th>50</th>\n",
       "      <td>1050</td>\n",
       "      <td>44</td>\n",
       "      <td>2018-10-03</td>\n",
       "      <td>Тюмень</td>\n",
       "      <td>Рузана</td>\n",
       "      <td>Аничкина</td>\n",
       "      <td>2018-06-16</td>\n",
       "      <td>ultra</td>\n",
       "    </tr>\n",
       "    <tr>\n",
       "      <th>51</th>\n",
       "      <td>1051</td>\n",
       "      <td>37</td>\n",
       "      <td>2018-10-14</td>\n",
       "      <td>Москва</td>\n",
       "      <td>Кристина</td>\n",
       "      <td>Сомова</td>\n",
       "      <td>2018-05-28</td>\n",
       "      <td>smart</td>\n",
       "    </tr>\n",
       "    <tr>\n",
       "      <th>56</th>\n",
       "      <td>1056</td>\n",
       "      <td>73</td>\n",
       "      <td>2018-10-14</td>\n",
       "      <td>Иркутск</td>\n",
       "      <td>Радислав</td>\n",
       "      <td>Артемьев</td>\n",
       "      <td>2018-04-13</td>\n",
       "      <td>smart</td>\n",
       "    </tr>\n",
       "    <tr>\n",
       "      <th>62</th>\n",
       "      <td>1062</td>\n",
       "      <td>24</td>\n",
       "      <td>2018-12-09</td>\n",
       "      <td>Москва</td>\n",
       "      <td>Александр</td>\n",
       "      <td>Коршунов</td>\n",
       "      <td>2018-11-16</td>\n",
       "      <td>smart</td>\n",
       "    </tr>\n",
       "    <tr>\n",
       "      <th>63</th>\n",
       "      <td>1063</td>\n",
       "      <td>45</td>\n",
       "      <td>2018-12-11</td>\n",
       "      <td>Тула</td>\n",
       "      <td>Таира</td>\n",
       "      <td>Климова</td>\n",
       "      <td>2018-04-12</td>\n",
       "      <td>ultra</td>\n",
       "    </tr>\n",
       "    <tr>\n",
       "      <th>64</th>\n",
       "      <td>1064</td>\n",
       "      <td>55</td>\n",
       "      <td>2018-12-26</td>\n",
       "      <td>Якутск</td>\n",
       "      <td>Динара</td>\n",
       "      <td>Алфеева</td>\n",
       "      <td>2018-03-17</td>\n",
       "      <td>smart</td>\n",
       "    </tr>\n",
       "    <tr>\n",
       "      <th>65</th>\n",
       "      <td>1065</td>\n",
       "      <td>53</td>\n",
       "      <td>2018-12-09</td>\n",
       "      <td>Москва</td>\n",
       "      <td>Роза</td>\n",
       "      <td>Игнатова</td>\n",
       "      <td>2018-03-08</td>\n",
       "      <td>smart</td>\n",
       "    </tr>\n",
       "    <tr>\n",
       "      <th>71</th>\n",
       "      <td>1071</td>\n",
       "      <td>20</td>\n",
       "      <td>2018-08-31</td>\n",
       "      <td>Омск</td>\n",
       "      <td>Гектор</td>\n",
       "      <td>Чумаков</td>\n",
       "      <td>2018-01-09</td>\n",
       "      <td>smart</td>\n",
       "    </tr>\n",
       "    <tr>\n",
       "      <th>90</th>\n",
       "      <td>1090</td>\n",
       "      <td>54</td>\n",
       "      <td>2018-12-03</td>\n",
       "      <td>Череповец</td>\n",
       "      <td>Екатерина</td>\n",
       "      <td>Астафьева</td>\n",
       "      <td>2018-10-11</td>\n",
       "      <td>ultra</td>\n",
       "    </tr>\n",
       "    <tr>\n",
       "      <th>128</th>\n",
       "      <td>1128</td>\n",
       "      <td>51</td>\n",
       "      <td>2018-12-23</td>\n",
       "      <td>Волжский</td>\n",
       "      <td>Ксения</td>\n",
       "      <td>Агаева</td>\n",
       "      <td>2018-12-15</td>\n",
       "      <td>ultra</td>\n",
       "    </tr>\n",
       "    <tr>\n",
       "      <th>161</th>\n",
       "      <td>1161</td>\n",
       "      <td>65</td>\n",
       "      <td>2018-11-07</td>\n",
       "      <td>Набережные Челны</td>\n",
       "      <td>Татьяна</td>\n",
       "      <td>Голованова</td>\n",
       "      <td>2018-07-03</td>\n",
       "      <td>smart</td>\n",
       "    </tr>\n",
       "    <tr>\n",
       "      <th>163</th>\n",
       "      <td>1163</td>\n",
       "      <td>21</td>\n",
       "      <td>2018-12-16</td>\n",
       "      <td>Москва</td>\n",
       "      <td>Лев</td>\n",
       "      <td>Вишневский</td>\n",
       "      <td>2018-11-03</td>\n",
       "      <td>smart</td>\n",
       "    </tr>\n",
       "    <tr>\n",
       "      <th>191</th>\n",
       "      <td>1191</td>\n",
       "      <td>64</td>\n",
       "      <td>2018-10-03</td>\n",
       "      <td>Набережные Челны</td>\n",
       "      <td>Александр</td>\n",
       "      <td>Акиндинов</td>\n",
       "      <td>2018-06-30</td>\n",
       "      <td>smart</td>\n",
       "    </tr>\n",
       "    <tr>\n",
       "      <th>201</th>\n",
       "      <td>1201</td>\n",
       "      <td>32</td>\n",
       "      <td>2018-12-03</td>\n",
       "      <td>Москва</td>\n",
       "      <td>Геннадий</td>\n",
       "      <td>Веселов</td>\n",
       "      <td>2018-08-06</td>\n",
       "      <td>ultra</td>\n",
       "    </tr>\n",
       "    <tr>\n",
       "      <th>206</th>\n",
       "      <td>1206</td>\n",
       "      <td>35</td>\n",
       "      <td>2018-12-20</td>\n",
       "      <td>Москва</td>\n",
       "      <td>Елена</td>\n",
       "      <td>Шарапова</td>\n",
       "      <td>2018-11-03</td>\n",
       "      <td>smart</td>\n",
       "    </tr>\n",
       "    <tr>\n",
       "      <th>232</th>\n",
       "      <td>1232</td>\n",
       "      <td>60</td>\n",
       "      <td>2018-11-30</td>\n",
       "      <td>Томск</td>\n",
       "      <td>Виктория</td>\n",
       "      <td>Ларина</td>\n",
       "      <td>2018-10-07</td>\n",
       "      <td>smart</td>\n",
       "    </tr>\n",
       "    <tr>\n",
       "      <th>242</th>\n",
       "      <td>1242</td>\n",
       "      <td>39</td>\n",
       "      <td>2018-12-21</td>\n",
       "      <td>Хабаровск</td>\n",
       "      <td>Радим</td>\n",
       "      <td>Федосеев</td>\n",
       "      <td>2018-11-18</td>\n",
       "      <td>smart</td>\n",
       "    </tr>\n",
       "    <tr>\n",
       "      <th>254</th>\n",
       "      <td>1254</td>\n",
       "      <td>75</td>\n",
       "      <td>2018-08-17</td>\n",
       "      <td>Москва</td>\n",
       "      <td>Александра</td>\n",
       "      <td>Сухарева</td>\n",
       "      <td>2018-01-04</td>\n",
       "      <td>ultra</td>\n",
       "    </tr>\n",
       "    <tr>\n",
       "      <th>255</th>\n",
       "      <td>1255</td>\n",
       "      <td>40</td>\n",
       "      <td>2018-09-02</td>\n",
       "      <td>Саранск</td>\n",
       "      <td>Серафима</td>\n",
       "      <td>Пономарева</td>\n",
       "      <td>2018-02-19</td>\n",
       "      <td>ultra</td>\n",
       "    </tr>\n",
       "    <tr>\n",
       "      <th>265</th>\n",
       "      <td>1265</td>\n",
       "      <td>24</td>\n",
       "      <td>2018-10-04</td>\n",
       "      <td>Омск</td>\n",
       "      <td>Радим</td>\n",
       "      <td>Адамов</td>\n",
       "      <td>2018-06-24</td>\n",
       "      <td>ultra</td>\n",
       "    </tr>\n",
       "    <tr>\n",
       "      <th>271</th>\n",
       "      <td>1271</td>\n",
       "      <td>69</td>\n",
       "      <td>2018-11-13</td>\n",
       "      <td>Челябинск</td>\n",
       "      <td>Аурелия</td>\n",
       "      <td>Чижова</td>\n",
       "      <td>2018-07-14</td>\n",
       "      <td>ultra</td>\n",
       "    </tr>\n",
       "    <tr>\n",
       "      <th>293</th>\n",
       "      <td>1293</td>\n",
       "      <td>39</td>\n",
       "      <td>2018-11-22</td>\n",
       "      <td>Санкт-Петербург</td>\n",
       "      <td>Эдита</td>\n",
       "      <td>Дубинина</td>\n",
       "      <td>2018-09-05</td>\n",
       "      <td>smart</td>\n",
       "    </tr>\n",
       "    <tr>\n",
       "      <th>343</th>\n",
       "      <td>1343</td>\n",
       "      <td>30</td>\n",
       "      <td>2018-10-28</td>\n",
       "      <td>Кострома</td>\n",
       "      <td>Анита</td>\n",
       "      <td>Верещагина</td>\n",
       "      <td>2018-08-15</td>\n",
       "      <td>ultra</td>\n",
       "    </tr>\n",
       "    <tr>\n",
       "      <th>353</th>\n",
       "      <td>1353</td>\n",
       "      <td>57</td>\n",
       "      <td>2018-11-26</td>\n",
       "      <td>Санкт-Петербург</td>\n",
       "      <td>Доминика</td>\n",
       "      <td>Анищенко</td>\n",
       "      <td>2018-04-22</td>\n",
       "      <td>smart</td>\n",
       "    </tr>\n",
       "    <tr>\n",
       "      <th>355</th>\n",
       "      <td>1355</td>\n",
       "      <td>33</td>\n",
       "      <td>2018-11-27</td>\n",
       "      <td>Киров</td>\n",
       "      <td>Сара</td>\n",
       "      <td>Абрикосова</td>\n",
       "      <td>2018-07-21</td>\n",
       "      <td>smart</td>\n",
       "    </tr>\n",
       "    <tr>\n",
       "      <th>367</th>\n",
       "      <td>1367</td>\n",
       "      <td>43</td>\n",
       "      <td>2018-11-16</td>\n",
       "      <td>Москва</td>\n",
       "      <td>Всеволод</td>\n",
       "      <td>Антоненко</td>\n",
       "      <td>2018-09-14</td>\n",
       "      <td>ultra</td>\n",
       "    </tr>\n",
       "    <tr>\n",
       "      <th>370</th>\n",
       "      <td>1370</td>\n",
       "      <td>48</td>\n",
       "      <td>2018-10-27</td>\n",
       "      <td>Новороссийск</td>\n",
       "      <td>Гектор</td>\n",
       "      <td>Сысоев</td>\n",
       "      <td>2018-02-06</td>\n",
       "      <td>smart</td>\n",
       "    </tr>\n",
       "    <tr>\n",
       "      <th>371</th>\n",
       "      <td>1371</td>\n",
       "      <td>50</td>\n",
       "      <td>2018-12-30</td>\n",
       "      <td>Омск</td>\n",
       "      <td>Ириней</td>\n",
       "      <td>Трофимов</td>\n",
       "      <td>2018-12-25</td>\n",
       "      <td>smart</td>\n",
       "    </tr>\n",
       "    <tr>\n",
       "      <th>392</th>\n",
       "      <td>1392</td>\n",
       "      <td>54</td>\n",
       "      <td>2018-09-27</td>\n",
       "      <td>Челябинск</td>\n",
       "      <td>Алла</td>\n",
       "      <td>Беликова</td>\n",
       "      <td>2018-02-27</td>\n",
       "      <td>ultra</td>\n",
       "    </tr>\n",
       "    <tr>\n",
       "      <th>399</th>\n",
       "      <td>1399</td>\n",
       "      <td>31</td>\n",
       "      <td>2018-12-25</td>\n",
       "      <td>Уфа</td>\n",
       "      <td>Алиса</td>\n",
       "      <td>Абрашина</td>\n",
       "      <td>2018-11-06</td>\n",
       "      <td>ultra</td>\n",
       "    </tr>\n",
       "    <tr>\n",
       "      <th>416</th>\n",
       "      <td>1416</td>\n",
       "      <td>50</td>\n",
       "      <td>2018-12-14</td>\n",
       "      <td>Санкт-Петербург</td>\n",
       "      <td>Валерия</td>\n",
       "      <td>Ёлчина</td>\n",
       "      <td>2018-07-16</td>\n",
       "      <td>ultra</td>\n",
       "    </tr>\n",
       "    <tr>\n",
       "      <th>422</th>\n",
       "      <td>1422</td>\n",
       "      <td>60</td>\n",
       "      <td>2018-12-21</td>\n",
       "      <td>Москва</td>\n",
       "      <td>Клара</td>\n",
       "      <td>Устинова</td>\n",
       "      <td>2018-10-12</td>\n",
       "      <td>smart</td>\n",
       "    </tr>\n",
       "    <tr>\n",
       "      <th>438</th>\n",
       "      <td>1438</td>\n",
       "      <td>24</td>\n",
       "      <td>2018-12-24</td>\n",
       "      <td>Екатеринбург</td>\n",
       "      <td>Нателла</td>\n",
       "      <td>Бородина</td>\n",
       "      <td>2018-10-05</td>\n",
       "      <td>smart</td>\n",
       "    </tr>\n",
       "    <tr>\n",
       "      <th>480</th>\n",
       "      <td>1480</td>\n",
       "      <td>29</td>\n",
       "      <td>2018-09-26</td>\n",
       "      <td>Новокузнецк</td>\n",
       "      <td>Гелена</td>\n",
       "      <td>Емельянова</td>\n",
       "      <td>2018-02-14</td>\n",
       "      <td>smart</td>\n",
       "    </tr>\n",
       "    <tr>\n",
       "      <th>498</th>\n",
       "      <td>1498</td>\n",
       "      <td>68</td>\n",
       "      <td>2018-10-25</td>\n",
       "      <td>Владикавказ</td>\n",
       "      <td>Всеволод</td>\n",
       "      <td>Акимчин</td>\n",
       "      <td>2018-07-19</td>\n",
       "      <td>smart</td>\n",
       "    </tr>\n",
       "  </tbody>\n",
       "</table>\n",
       "</div>"
      ],
      "text/plain": [
       "     user_id  age  churn_date              city  first_name   last_name  \\\n",
       "19      1019   63  2018-10-05             Томск     Игнатий     Круглов   \n",
       "20      1020   59  2018-12-18              Чита        Тала     Костина   \n",
       "34      1034   66  2018-11-21           Вологда   Святослав    Бондарев   \n",
       "50      1050   44  2018-10-03            Тюмень      Рузана    Аничкина   \n",
       "51      1051   37  2018-10-14            Москва    Кристина      Сомова   \n",
       "56      1056   73  2018-10-14           Иркутск    Радислав    Артемьев   \n",
       "62      1062   24  2018-12-09            Москва   Александр    Коршунов   \n",
       "63      1063   45  2018-12-11              Тула       Таира     Климова   \n",
       "64      1064   55  2018-12-26            Якутск      Динара     Алфеева   \n",
       "65      1065   53  2018-12-09            Москва        Роза    Игнатова   \n",
       "71      1071   20  2018-08-31              Омск      Гектор     Чумаков   \n",
       "90      1090   54  2018-12-03         Череповец   Екатерина   Астафьева   \n",
       "128     1128   51  2018-12-23          Волжский      Ксения      Агаева   \n",
       "161     1161   65  2018-11-07  Набережные Челны     Татьяна  Голованова   \n",
       "163     1163   21  2018-12-16            Москва         Лев  Вишневский   \n",
       "191     1191   64  2018-10-03  Набережные Челны   Александр   Акиндинов   \n",
       "201     1201   32  2018-12-03            Москва    Геннадий     Веселов   \n",
       "206     1206   35  2018-12-20            Москва       Елена    Шарапова   \n",
       "232     1232   60  2018-11-30             Томск    Виктория      Ларина   \n",
       "242     1242   39  2018-12-21         Хабаровск       Радим    Федосеев   \n",
       "254     1254   75  2018-08-17            Москва  Александра    Сухарева   \n",
       "255     1255   40  2018-09-02           Саранск    Серафима  Пономарева   \n",
       "265     1265   24  2018-10-04              Омск       Радим      Адамов   \n",
       "271     1271   69  2018-11-13         Челябинск     Аурелия      Чижова   \n",
       "293     1293   39  2018-11-22   Санкт-Петербург       Эдита    Дубинина   \n",
       "343     1343   30  2018-10-28          Кострома       Анита  Верещагина   \n",
       "353     1353   57  2018-11-26   Санкт-Петербург    Доминика    Анищенко   \n",
       "355     1355   33  2018-11-27             Киров        Сара  Абрикосова   \n",
       "367     1367   43  2018-11-16            Москва    Всеволод   Антоненко   \n",
       "370     1370   48  2018-10-27      Новороссийск      Гектор      Сысоев   \n",
       "371     1371   50  2018-12-30              Омск      Ириней    Трофимов   \n",
       "392     1392   54  2018-09-27         Челябинск        Алла    Беликова   \n",
       "399     1399   31  2018-12-25               Уфа       Алиса    Абрашина   \n",
       "416     1416   50  2018-12-14   Санкт-Петербург     Валерия      Ёлчина   \n",
       "422     1422   60  2018-12-21            Москва       Клара    Устинова   \n",
       "438     1438   24  2018-12-24      Екатеринбург     Нателла    Бородина   \n",
       "480     1480   29  2018-09-26       Новокузнецк      Гелена  Емельянова   \n",
       "498     1498   68  2018-10-25       Владикавказ    Всеволод     Акимчин   \n",
       "\n",
       "       reg_date tariff  \n",
       "19   2018-05-16  ultra  \n",
       "20   2018-10-22  smart  \n",
       "34   2018-08-26  smart  \n",
       "50   2018-06-16  ultra  \n",
       "51   2018-05-28  smart  \n",
       "56   2018-04-13  smart  \n",
       "62   2018-11-16  smart  \n",
       "63   2018-04-12  ultra  \n",
       "64   2018-03-17  smart  \n",
       "65   2018-03-08  smart  \n",
       "71   2018-01-09  smart  \n",
       "90   2018-10-11  ultra  \n",
       "128  2018-12-15  ultra  \n",
       "161  2018-07-03  smart  \n",
       "163  2018-11-03  smart  \n",
       "191  2018-06-30  smart  \n",
       "201  2018-08-06  ultra  \n",
       "206  2018-11-03  smart  \n",
       "232  2018-10-07  smart  \n",
       "242  2018-11-18  smart  \n",
       "254  2018-01-04  ultra  \n",
       "255  2018-02-19  ultra  \n",
       "265  2018-06-24  ultra  \n",
       "271  2018-07-14  ultra  \n",
       "293  2018-09-05  smart  \n",
       "343  2018-08-15  ultra  \n",
       "353  2018-04-22  smart  \n",
       "355  2018-07-21  smart  \n",
       "367  2018-09-14  ultra  \n",
       "370  2018-02-06  smart  \n",
       "371  2018-12-25  smart  \n",
       "392  2018-02-27  ultra  \n",
       "399  2018-11-06  ultra  \n",
       "416  2018-07-16  ultra  \n",
       "422  2018-10-12  smart  \n",
       "438  2018-10-05  smart  \n",
       "480  2018-02-14  smart  \n",
       "498  2018-07-19  smart  "
      ]
     },
     "execution_count": 10,
     "metadata": {},
     "output_type": "execute_result"
    }
   ],
   "source": [
    "data[data['churn_date'].notna()]"
   ]
  },
  {
   "cell_type": "markdown",
   "metadata": {},
   "source": [
    "### Вывод"
   ]
  },
  {
   "cell_type": "markdown",
   "metadata": {},
   "source": [
    "Пропусков в столбцах не обнаружено, за исключением столбца \"churn_date\", но эти пропуски означают, что абонент использует все еще тариф на момент выгрузки данных. Один столбец \"Unnamed: 0\" выглядит странно, он дублирует подсчет индексов таблицы, поэтому считаю ,что его можно удалить. Столбец \"churn_date\" имеет пропуски, но для нашего рассмотрения, он не потребуется."
   ]
  },
  {
   "cell_type": "markdown",
   "metadata": {},
   "source": [
    "## Подготовка данных"
   ]
  },
  {
   "cell_type": "code",
   "execution_count": 11,
   "metadata": {},
   "outputs": [],
   "source": [
    "#Удаление выбивающегося столбца\n",
    "internet = internet.drop('Unnamed: 0', axis=1)"
   ]
  },
  {
   "cell_type": "code",
   "execution_count": 12,
   "metadata": {
    "scrolled": true
   },
   "outputs": [],
   "source": [
    "#Округление использованного трафика и переименование столбцов\n",
    "traffic['mb_per_month_included'] /=1024\n",
    "traffic = traffic.rename(columns={'mb_per_month_included':'gb_per_month_included', 'tariff_name':'tariff'})"
   ]
  },
  {
   "cell_type": "code",
   "execution_count": 13,
   "metadata": {},
   "outputs": [],
   "source": [
    "#Приводим к правильному типу формат даты\n",
    "data['reg_date'] = pd.to_datetime(data['reg_date'], format='%Y-%m-%d')\n",
    "calls['call_date'] = pd.to_datetime(calls['call_date'], format='%Y-%m-%d')\n",
    "messages['message_date'] = pd.to_datetime(messages['message_date'], format='%Y-%m-%d')\n",
    "internet['session_date'] = pd.to_datetime(internet['session_date'], format='%Y-%m-%d')"
   ]
  },
  {
   "cell_type": "code",
   "execution_count": 14,
   "metadata": {},
   "outputs": [],
   "source": [
    "#Создание столбцов с месяцами\n",
    "calls['month'] = calls['call_date'].dt.month\n",
    "messages['month'] = messages['message_date'].dt.month\n",
    "internet['month'] = internet['session_date'].dt.month"
   ]
  },
  {
   "cell_type": "code",
   "execution_count": 15,
   "metadata": {},
   "outputs": [],
   "source": [
    "#Округляем звонки\n",
    "calls['duration'] = np.ceil(calls['duration'])"
   ]
  },
  {
   "cell_type": "code",
   "execution_count": 16,
   "metadata": {},
   "outputs": [],
   "source": [
    "#Производим группировку данных по клиенту и месяцу\n",
    "messages_month = messages.groupby(['user_id','month']).agg({'id':'count'}).reset_index()\n",
    "calls_month = calls.groupby(['user_id','month']).agg({'duration' : ['sum', 'count']}).reset_index()\n",
    "internet_month =internet.groupby(['user_id','month']).agg({'mb_used':'sum'}).reset_index()\n",
    "internet_month['mb_used'] = np.ceil(internet_month['mb_used']/1024)\n",
    "internet_month.columns = ['user_id','month','gb_used']\n",
    "messages_month.columns = ['user_id','month','count_mess']\n",
    "calls_month.columns = ['user_id','month','call_sum', 'call_count']"
   ]
  },
  {
   "cell_type": "code",
   "execution_count": 17,
   "metadata": {},
   "outputs": [],
   "source": [
    "#Соединяем нужные таблицы воедино\n",
    "calls_month = (calls_month\n",
    "               .merge(messages_month, on=['user_id', 'month'], how='outer')\n",
    "               .merge(internet_month, on=['user_id', 'month'], how='outer')\n",
    "              )\n",
    "data = data.merge(calls_month, on='user_id', how='left').merge(traffic, on='tariff')"
   ]
  },
  {
   "cell_type": "code",
   "execution_count": 18,
   "metadata": {
    "scrolled": false
   },
   "outputs": [
    {
     "data": {
      "text/html": [
       "<div>\n",
       "<style scoped>\n",
       "    .dataframe tbody tr th:only-of-type {\n",
       "        vertical-align: middle;\n",
       "    }\n",
       "\n",
       "    .dataframe tbody tr th {\n",
       "        vertical-align: top;\n",
       "    }\n",
       "\n",
       "    .dataframe thead th {\n",
       "        text-align: right;\n",
       "    }\n",
       "</style>\n",
       "<table border=\"1\" class=\"dataframe\">\n",
       "  <thead>\n",
       "    <tr style=\"text-align: right;\">\n",
       "      <th></th>\n",
       "      <th>user_id</th>\n",
       "      <th>age</th>\n",
       "      <th>churn_date</th>\n",
       "      <th>city</th>\n",
       "      <th>first_name</th>\n",
       "      <th>last_name</th>\n",
       "      <th>reg_date</th>\n",
       "      <th>tariff</th>\n",
       "      <th>month</th>\n",
       "      <th>call_sum</th>\n",
       "      <th>call_count</th>\n",
       "      <th>count_mess</th>\n",
       "      <th>gb_used</th>\n",
       "      <th>messages_included</th>\n",
       "      <th>gb_per_month_included</th>\n",
       "      <th>minutes_included</th>\n",
       "      <th>rub_monthly_fee</th>\n",
       "      <th>rub_per_gb</th>\n",
       "      <th>rub_per_message</th>\n",
       "      <th>rub_per_minute</th>\n",
       "    </tr>\n",
       "  </thead>\n",
       "  <tbody>\n",
       "    <tr>\n",
       "      <th>0</th>\n",
       "      <td>1000</td>\n",
       "      <td>52</td>\n",
       "      <td>NaN</td>\n",
       "      <td>Краснодар</td>\n",
       "      <td>Рафаил</td>\n",
       "      <td>Верещагин</td>\n",
       "      <td>2018-05-25</td>\n",
       "      <td>ultra</td>\n",
       "      <td>5.0</td>\n",
       "      <td>159.0</td>\n",
       "      <td>22.0</td>\n",
       "      <td>22.0</td>\n",
       "      <td>3.0</td>\n",
       "      <td>1000</td>\n",
       "      <td>30.0</td>\n",
       "      <td>3000</td>\n",
       "      <td>1950</td>\n",
       "      <td>150</td>\n",
       "      <td>1</td>\n",
       "      <td>1</td>\n",
       "    </tr>\n",
       "    <tr>\n",
       "      <th>1</th>\n",
       "      <td>1000</td>\n",
       "      <td>52</td>\n",
       "      <td>NaN</td>\n",
       "      <td>Краснодар</td>\n",
       "      <td>Рафаил</td>\n",
       "      <td>Верещагин</td>\n",
       "      <td>2018-05-25</td>\n",
       "      <td>ultra</td>\n",
       "      <td>6.0</td>\n",
       "      <td>172.0</td>\n",
       "      <td>43.0</td>\n",
       "      <td>60.0</td>\n",
       "      <td>23.0</td>\n",
       "      <td>1000</td>\n",
       "      <td>30.0</td>\n",
       "      <td>3000</td>\n",
       "      <td>1950</td>\n",
       "      <td>150</td>\n",
       "      <td>1</td>\n",
       "      <td>1</td>\n",
       "    </tr>\n",
       "    <tr>\n",
       "      <th>2</th>\n",
       "      <td>1000</td>\n",
       "      <td>52</td>\n",
       "      <td>NaN</td>\n",
       "      <td>Краснодар</td>\n",
       "      <td>Рафаил</td>\n",
       "      <td>Верещагин</td>\n",
       "      <td>2018-05-25</td>\n",
       "      <td>ultra</td>\n",
       "      <td>7.0</td>\n",
       "      <td>340.0</td>\n",
       "      <td>47.0</td>\n",
       "      <td>75.0</td>\n",
       "      <td>14.0</td>\n",
       "      <td>1000</td>\n",
       "      <td>30.0</td>\n",
       "      <td>3000</td>\n",
       "      <td>1950</td>\n",
       "      <td>150</td>\n",
       "      <td>1</td>\n",
       "      <td>1</td>\n",
       "    </tr>\n",
       "    <tr>\n",
       "      <th>3</th>\n",
       "      <td>1000</td>\n",
       "      <td>52</td>\n",
       "      <td>NaN</td>\n",
       "      <td>Краснодар</td>\n",
       "      <td>Рафаил</td>\n",
       "      <td>Верещагин</td>\n",
       "      <td>2018-05-25</td>\n",
       "      <td>ultra</td>\n",
       "      <td>8.0</td>\n",
       "      <td>408.0</td>\n",
       "      <td>52.0</td>\n",
       "      <td>81.0</td>\n",
       "      <td>14.0</td>\n",
       "      <td>1000</td>\n",
       "      <td>30.0</td>\n",
       "      <td>3000</td>\n",
       "      <td>1950</td>\n",
       "      <td>150</td>\n",
       "      <td>1</td>\n",
       "      <td>1</td>\n",
       "    </tr>\n",
       "    <tr>\n",
       "      <th>4</th>\n",
       "      <td>1000</td>\n",
       "      <td>52</td>\n",
       "      <td>NaN</td>\n",
       "      <td>Краснодар</td>\n",
       "      <td>Рафаил</td>\n",
       "      <td>Верещагин</td>\n",
       "      <td>2018-05-25</td>\n",
       "      <td>ultra</td>\n",
       "      <td>9.0</td>\n",
       "      <td>466.0</td>\n",
       "      <td>58.0</td>\n",
       "      <td>57.0</td>\n",
       "      <td>15.0</td>\n",
       "      <td>1000</td>\n",
       "      <td>30.0</td>\n",
       "      <td>3000</td>\n",
       "      <td>1950</td>\n",
       "      <td>150</td>\n",
       "      <td>1</td>\n",
       "      <td>1</td>\n",
       "    </tr>\n",
       "    <tr>\n",
       "      <th>...</th>\n",
       "      <td>...</td>\n",
       "      <td>...</td>\n",
       "      <td>...</td>\n",
       "      <td>...</td>\n",
       "      <td>...</td>\n",
       "      <td>...</td>\n",
       "      <td>...</td>\n",
       "      <td>...</td>\n",
       "      <td>...</td>\n",
       "      <td>...</td>\n",
       "      <td>...</td>\n",
       "      <td>...</td>\n",
       "      <td>...</td>\n",
       "      <td>...</td>\n",
       "      <td>...</td>\n",
       "      <td>...</td>\n",
       "      <td>...</td>\n",
       "      <td>...</td>\n",
       "      <td>...</td>\n",
       "      <td>...</td>\n",
       "    </tr>\n",
       "    <tr>\n",
       "      <th>3211</th>\n",
       "      <td>1498</td>\n",
       "      <td>68</td>\n",
       "      <td>2018-10-25</td>\n",
       "      <td>Владикавказ</td>\n",
       "      <td>Всеволод</td>\n",
       "      <td>Акимчин</td>\n",
       "      <td>2018-07-19</td>\n",
       "      <td>smart</td>\n",
       "      <td>10.0</td>\n",
       "      <td>247.0</td>\n",
       "      <td>41.0</td>\n",
       "      <td>42.0</td>\n",
       "      <td>21.0</td>\n",
       "      <td>50</td>\n",
       "      <td>15.0</td>\n",
       "      <td>500</td>\n",
       "      <td>550</td>\n",
       "      <td>200</td>\n",
       "      <td>3</td>\n",
       "      <td>3</td>\n",
       "    </tr>\n",
       "    <tr>\n",
       "      <th>3212</th>\n",
       "      <td>1499</td>\n",
       "      <td>35</td>\n",
       "      <td>NaN</td>\n",
       "      <td>Пермь</td>\n",
       "      <td>Гектор</td>\n",
       "      <td>Корнилов</td>\n",
       "      <td>2018-09-27</td>\n",
       "      <td>smart</td>\n",
       "      <td>9.0</td>\n",
       "      <td>70.0</td>\n",
       "      <td>9.0</td>\n",
       "      <td>11.0</td>\n",
       "      <td>2.0</td>\n",
       "      <td>50</td>\n",
       "      <td>15.0</td>\n",
       "      <td>500</td>\n",
       "      <td>550</td>\n",
       "      <td>200</td>\n",
       "      <td>3</td>\n",
       "      <td>3</td>\n",
       "    </tr>\n",
       "    <tr>\n",
       "      <th>3213</th>\n",
       "      <td>1499</td>\n",
       "      <td>35</td>\n",
       "      <td>NaN</td>\n",
       "      <td>Пермь</td>\n",
       "      <td>Гектор</td>\n",
       "      <td>Корнилов</td>\n",
       "      <td>2018-09-27</td>\n",
       "      <td>smart</td>\n",
       "      <td>10.0</td>\n",
       "      <td>449.0</td>\n",
       "      <td>68.0</td>\n",
       "      <td>48.0</td>\n",
       "      <td>18.0</td>\n",
       "      <td>50</td>\n",
       "      <td>15.0</td>\n",
       "      <td>500</td>\n",
       "      <td>550</td>\n",
       "      <td>200</td>\n",
       "      <td>3</td>\n",
       "      <td>3</td>\n",
       "    </tr>\n",
       "    <tr>\n",
       "      <th>3214</th>\n",
       "      <td>1499</td>\n",
       "      <td>35</td>\n",
       "      <td>NaN</td>\n",
       "      <td>Пермь</td>\n",
       "      <td>Гектор</td>\n",
       "      <td>Корнилов</td>\n",
       "      <td>2018-09-27</td>\n",
       "      <td>smart</td>\n",
       "      <td>11.0</td>\n",
       "      <td>612.0</td>\n",
       "      <td>74.0</td>\n",
       "      <td>59.0</td>\n",
       "      <td>18.0</td>\n",
       "      <td>50</td>\n",
       "      <td>15.0</td>\n",
       "      <td>500</td>\n",
       "      <td>550</td>\n",
       "      <td>200</td>\n",
       "      <td>3</td>\n",
       "      <td>3</td>\n",
       "    </tr>\n",
       "    <tr>\n",
       "      <th>3215</th>\n",
       "      <td>1499</td>\n",
       "      <td>35</td>\n",
       "      <td>NaN</td>\n",
       "      <td>Пермь</td>\n",
       "      <td>Гектор</td>\n",
       "      <td>Корнилов</td>\n",
       "      <td>2018-09-27</td>\n",
       "      <td>smart</td>\n",
       "      <td>12.0</td>\n",
       "      <td>492.0</td>\n",
       "      <td>69.0</td>\n",
       "      <td>66.0</td>\n",
       "      <td>13.0</td>\n",
       "      <td>50</td>\n",
       "      <td>15.0</td>\n",
       "      <td>500</td>\n",
       "      <td>550</td>\n",
       "      <td>200</td>\n",
       "      <td>3</td>\n",
       "      <td>3</td>\n",
       "    </tr>\n",
       "  </tbody>\n",
       "</table>\n",
       "<p>3216 rows × 20 columns</p>\n",
       "</div>"
      ],
      "text/plain": [
       "      user_id  age  churn_date         city first_name  last_name   reg_date  \\\n",
       "0        1000   52         NaN    Краснодар     Рафаил  Верещагин 2018-05-25   \n",
       "1        1000   52         NaN    Краснодар     Рафаил  Верещагин 2018-05-25   \n",
       "2        1000   52         NaN    Краснодар     Рафаил  Верещагин 2018-05-25   \n",
       "3        1000   52         NaN    Краснодар     Рафаил  Верещагин 2018-05-25   \n",
       "4        1000   52         NaN    Краснодар     Рафаил  Верещагин 2018-05-25   \n",
       "...       ...  ...         ...          ...        ...        ...        ...   \n",
       "3211     1498   68  2018-10-25  Владикавказ   Всеволод    Акимчин 2018-07-19   \n",
       "3212     1499   35         NaN        Пермь     Гектор   Корнилов 2018-09-27   \n",
       "3213     1499   35         NaN        Пермь     Гектор   Корнилов 2018-09-27   \n",
       "3214     1499   35         NaN        Пермь     Гектор   Корнилов 2018-09-27   \n",
       "3215     1499   35         NaN        Пермь     Гектор   Корнилов 2018-09-27   \n",
       "\n",
       "     tariff  month  call_sum  call_count  count_mess  gb_used  \\\n",
       "0     ultra    5.0     159.0        22.0        22.0      3.0   \n",
       "1     ultra    6.0     172.0        43.0        60.0     23.0   \n",
       "2     ultra    7.0     340.0        47.0        75.0     14.0   \n",
       "3     ultra    8.0     408.0        52.0        81.0     14.0   \n",
       "4     ultra    9.0     466.0        58.0        57.0     15.0   \n",
       "...     ...    ...       ...         ...         ...      ...   \n",
       "3211  smart   10.0     247.0        41.0        42.0     21.0   \n",
       "3212  smart    9.0      70.0         9.0        11.0      2.0   \n",
       "3213  smart   10.0     449.0        68.0        48.0     18.0   \n",
       "3214  smart   11.0     612.0        74.0        59.0     18.0   \n",
       "3215  smart   12.0     492.0        69.0        66.0     13.0   \n",
       "\n",
       "      messages_included  gb_per_month_included  minutes_included  \\\n",
       "0                  1000                   30.0              3000   \n",
       "1                  1000                   30.0              3000   \n",
       "2                  1000                   30.0              3000   \n",
       "3                  1000                   30.0              3000   \n",
       "4                  1000                   30.0              3000   \n",
       "...                 ...                    ...               ...   \n",
       "3211                 50                   15.0               500   \n",
       "3212                 50                   15.0               500   \n",
       "3213                 50                   15.0               500   \n",
       "3214                 50                   15.0               500   \n",
       "3215                 50                   15.0               500   \n",
       "\n",
       "      rub_monthly_fee  rub_per_gb  rub_per_message  rub_per_minute  \n",
       "0                1950         150                1               1  \n",
       "1                1950         150                1               1  \n",
       "2                1950         150                1               1  \n",
       "3                1950         150                1               1  \n",
       "4                1950         150                1               1  \n",
       "...               ...         ...              ...             ...  \n",
       "3211              550         200                3               3  \n",
       "3212              550         200                3               3  \n",
       "3213              550         200                3               3  \n",
       "3214              550         200                3               3  \n",
       "3215              550         200                3               3  \n",
       "\n",
       "[3216 rows x 20 columns]"
      ]
     },
     "execution_count": 18,
     "metadata": {},
     "output_type": "execute_result"
    }
   ],
   "source": [
    "data"
   ]
  },
  {
   "cell_type": "code",
   "execution_count": 19,
   "metadata": {},
   "outputs": [],
   "source": [
    "#напишем функцию для расчета выручки\n",
    "def gain(row):\n",
    "    money = 0\n",
    "    if row['call_sum'] > row['minutes_included']:\n",
    "        money+=(row['call_sum']-row['minutes_included'])*row['rub_per_minute']\n",
    "    elif row['count_mess'] > row['messages_included']:\n",
    "        money+=(row['count_mess']-row['messages_included'])*row['rub_per_message']\n",
    "    elif row['gb_used'] > row['gb_per_month_included']:\n",
    "        money+=(row['gb_used']-row['gb_per_month_included'])*row['rub_per_gb']\n",
    "    return(money+row['rub_monthly_fee'])"
   ]
  },
  {
   "cell_type": "code",
   "execution_count": 20,
   "metadata": {},
   "outputs": [],
   "source": [
    "data['gain'] = data.apply(gain, axis=1)"
   ]
  },
  {
   "cell_type": "code",
   "execution_count": 21,
   "metadata": {},
   "outputs": [
    {
     "data": {
      "text/plain": [
       "array([1950., 3900., 2850., 2700., 4800., 3300., 2400., 2550., 2250.,\n",
       "       3150., 3750., 3000., 2100., 3450., 3600., 4650., 4200., 4050.,\n",
       "       1150.,  550., 1550.,  950., 1350.,  868., 1186.,  835.,  886.,\n",
       "        757.,  907.,  556., 1219.,  691.,  826.,  750.,  685.,  781.,\n",
       "       1750., 1015.,  790.,  568., 2350.,  595.,  940.,  553., 2150.,\n",
       "       2750., 3350.,  559.,  619.,  640.,  718.,  604.,  583.,  622.,\n",
       "       1072.,  586.,  721.,  706.,  694.,  592., 1009.,  739.,  655.,\n",
       "        643.,  919.,  598.,  877., 1087., 1723.,  703.,  679.,  673.,\n",
       "        676., 1045.,  736.,  613.,  571.,  631.,  616., 1240.,  697.,\n",
       "        874.,  589.,  562.,  712., 1057., 1633., 1234., 2950.,  661.,\n",
       "        574.,  565.,  715., 1336., 1516.,  601., 1168., 1498., 1768.,\n",
       "       1096., 1627.,  742., 1261.,  931.,  865., 1066., 1174., 1012.,\n",
       "        724.,  841., 1210., 1153., 1063., 1165., 1213., 1222.,  748.,\n",
       "        808., 1228.,  967.,  814., 1354.,  733.,  610.,  607.,  769.,\n",
       "        667., 1195.,  811., 1069., 1105.,  949.,  634.,  916.,  775.,\n",
       "        901.,  853., 3550.,  649.,  646.,  658.,  637.,  844.,  751.,\n",
       "       1108., 1402.,  871.,  859.,  730.,  784.,  880.,  577.,  580.,\n",
       "        850., 1618., 1525., 1417., 1579., 1840.,  670.,  961.,  709.,\n",
       "        682.,  664.,  754., 1405.,  934., 1126.,  964., 1180., 1006.,\n",
       "       1306.,  796., 1093., 1567., 1291., 1348.,  793.,  928.,  802.,\n",
       "        805.,  688., 1162.,  823., 1342.,  625.,  994.,  799., 1120.,\n",
       "        838.,  628.,  766.,  763.,  952.,  922., 1252., 1159., 1132.,\n",
       "        988.,  970., 1018., 3950., 1315., 2050., 1573., 1483.,  847.,\n",
       "        985., 1048.,  862.,  760.,  883.,  787.,  943.,  817.,  889.,\n",
       "       1054., 1027.,  700., 1201.,  976.,  895.,  937., 1303., 1138.,\n",
       "       1075., 1720., 1090.,  856.,  913., 1135., 3355.,  727., 1003.,\n",
       "        820., 1243.,  910., 1144.,  778., 2116., 1033., 1039.,  772.,\n",
       "        982., 1675., 1270., 1051., 1231.,  958., 1474.,  652., 1036.,\n",
       "       1267., 1198., 1669., 1666., 1264., 2272., 1081., 1246., 1183.,\n",
       "       1366., 1411., 1177., 1387., 1225., 1294., 1558., 1759.,  979.,\n",
       "        745., 1192., 4550., 1024., 1609., 1942., 1363., 1084.,  973.,\n",
       "       1237., 2065., 1654., 1321., 1207., 1396., 1564., 1312., 1765.,\n",
       "        892., 1030., 1273.,  904., 1171., 1021., 1300., 1309.,  955.,\n",
       "       1588., 1249., 1429.,  997., 1216., 1510., 1000., 1945., 1333.,\n",
       "       2482., 1318., 1717., 1912., 1849., 1684.,  898., 1258.,  925.,\n",
       "       1441., 1447., 1645., 1123., 2071., 1393.,  832.])"
      ]
     },
     "execution_count": 21,
     "metadata": {},
     "output_type": "execute_result"
    }
   ],
   "source": [
    "data['gain'].unique()"
   ]
  },
  {
   "cell_type": "markdown",
   "metadata": {},
   "source": [
    "### Вывод"
   ]
  },
  {
   "cell_type": "markdown",
   "metadata": {},
   "source": [
    "Столбец \"churn_date\" нас не будет интересовать, поэтому его оставим без изменений. Привел столбцы с датами к удобному для работы формату. Удалил столбец-дубликат индексации. Создал идентифицирующие столбцы с месяцами в каждом наборе данных, кроме основного с клиентами. Округлил необходимые столбцы и переименовал, тк в некоторых произвел изменения. Посчитал средние показатели за месяц у каждого абонента. Соединил таблицы в единую, добавив сведения о тарифе каждому пользователю. Произвел рассчет выручки."
   ]
  },
  {
   "cell_type": "markdown",
   "metadata": {},
   "source": [
    "## Обработка данных"
   ]
  },
  {
   "cell_type": "code",
   "execution_count": 22,
   "metadata": {},
   "outputs": [],
   "source": [
    "data_smart = data.query('tariff ==\"smart\"')\n",
    "data_ultra = data.query('tariff ==\"ultra\"')"
   ]
  },
  {
   "cell_type": "code",
   "execution_count": 23,
   "metadata": {
    "scrolled": false
   },
   "outputs": [
    {
     "data": {
      "text/plain": [
       "array([[<AxesSubplot:title={'center':'call_sum'}>]], dtype=object)"
      ]
     },
     "execution_count": 23,
     "metadata": {},
     "output_type": "execute_result"
    },
    {
     "data": {
      "image/png": "[encoded data removed]",
      "text/plain": [
       "<Figure size 432x288 with 1 Axes>"
      ]
     },
     "metadata": {
      "needs_background": "light"
     },
     "output_type": "display_data"
    },
    {
     "data": {
      "image/png": "[encoded data removed]",
      "text/plain": [
       "<Figure size 432x288 with 1 Axes>"
      ]
     },
     "metadata": {
      "needs_background": "light"
     },
     "output_type": "display_data"
    }
   ],
   "source": [
    "data_smart.hist('call_sum', bins=20)\n",
    "data_ultra.hist('call_sum', bins=20)"
   ]
  },
  {
   "cell_type": "markdown",
   "metadata": {},
   "source": [
    "Наблюдаются два нормальных распределения, скошенных влево."
   ]
  },
  {
   "cell_type": "code",
   "execution_count": 24,
   "metadata": {
    "scrolled": false
   },
   "outputs": [
    {
     "data": {
      "text/plain": [
       "array([[<AxesSubplot:title={'center':'gb_used'}>]], dtype=object)"
      ]
     },
     "execution_count": 24,
     "metadata": {},
     "output_type": "execute_result"
    },
    {
     "data": {
      "image/png": "[encoded data removed]",
      "text/plain": [
       "<Figure size 432x288 with 1 Axes>"
      ]
     },
     "metadata": {
      "needs_background": "light"
     },
     "output_type": "display_data"
    },
    {
     "data": {
      "image/png": "[encoded data removed]",
      "text/plain": [
       "<Figure size 432x288 with 1 Axes>"
      ]
     },
     "metadata": {
      "needs_background": "light"
     },
     "output_type": "display_data"
    }
   ],
   "source": [
    "data_smart.hist('gb_used', bins=10)\n",
    "data_ultra.hist('gb_used', bins=10)"
   ]
  },
  {
   "cell_type": "markdown",
   "metadata": {},
   "source": [
    "Два нормальных распределения, у тарифа \"Ультра\" есть малое смещение влево"
   ]
  },
  {
   "cell_type": "code",
   "execution_count": 25,
   "metadata": {},
   "outputs": [
    {
     "data": {
      "text/plain": [
       "array([[<AxesSubplot:title={'center':'count_mess'}>]], dtype=object)"
      ]
     },
     "execution_count": 25,
     "metadata": {},
     "output_type": "execute_result"
    },
    {
     "data": {
      "image/png": "[encoded data removed]",
      "text/plain": [
       "<Figure size 432x288 with 1 Axes>"
      ]
     },
     "metadata": {
      "needs_background": "light"
     },
     "output_type": "display_data"
    },
    {
     "data": {
      "image/png": "[encoded data removed]",
      "text/plain": [
       "<Figure size 432x288 with 1 Axes>"
      ]
     },
     "metadata": {
      "needs_background": "light"
     },
     "output_type": "display_data"
    }
   ],
   "source": [
    "data_smart.hist('count_mess', bins=20)\n",
    "data_ultra.hist('count_mess', bins=20)"
   ]
  },
  {
   "cell_type": "markdown",
   "metadata": {},
   "source": [
    "Среднее количество сообщений имеет вид распределения Пуассона"
   ]
  },
  {
   "cell_type": "code",
   "execution_count": 26,
   "metadata": {},
   "outputs": [
    {
     "data": {
      "text/plain": [
       "array([[<AxesSubplot:title={'center':'gain'}>]], dtype=object)"
      ]
     },
     "execution_count": 26,
     "metadata": {},
     "output_type": "execute_result"
    },
    {
     "data": {
      "image/png": "[encoded data removed]",
      "text/plain": [
       "<Figure size 432x288 with 1 Axes>"
      ]
     },
     "metadata": {
      "needs_background": "light"
     },
     "output_type": "display_data"
    },
    {
     "data": {
      "image/png": "[encoded data removed]",
      "text/plain": [
       "<Figure size 432x288 with 1 Axes>"
      ]
     },
     "metadata": {
      "needs_background": "light"
     },
     "output_type": "display_data"
    }
   ],
   "source": [
    "data_smart.hist('gain', bins=30)\n",
    "data_ultra.hist('gain', bins=20)"
   ]
  },
  {
   "cell_type": "code",
   "execution_count": 27,
   "metadata": {},
   "outputs": [
    {
     "data": {
      "text/html": [
       "<div>\n",
       "<style scoped>\n",
       "    .dataframe tbody tr th:only-of-type {\n",
       "        vertical-align: middle;\n",
       "    }\n",
       "\n",
       "    .dataframe tbody tr th {\n",
       "        vertical-align: top;\n",
       "    }\n",
       "\n",
       "    .dataframe thead tr th {\n",
       "        text-align: left;\n",
       "    }\n",
       "</style>\n",
       "<table border=\"1\" class=\"dataframe\">\n",
       "  <thead>\n",
       "    <tr>\n",
       "      <th></th>\n",
       "      <th>tariff</th>\n",
       "      <th>mean</th>\n",
       "      <th>var</th>\n",
       "      <th>std</th>\n",
       "    </tr>\n",
       "    <tr>\n",
       "      <th></th>\n",
       "      <th></th>\n",
       "      <th>gain</th>\n",
       "      <th>gain</th>\n",
       "      <th>gain</th>\n",
       "    </tr>\n",
       "  </thead>\n",
       "  <tbody>\n",
       "    <tr>\n",
       "      <th>0</th>\n",
       "      <td>smart</td>\n",
       "      <td>952.668610</td>\n",
       "      <td>304420.200136</td>\n",
       "      <td>551.742875</td>\n",
       "    </tr>\n",
       "    <tr>\n",
       "      <th>1</th>\n",
       "      <td>ultra</td>\n",
       "      <td>2070.030426</td>\n",
       "      <td>141387.714809</td>\n",
       "      <td>376.015578</td>\n",
       "    </tr>\n",
       "  </tbody>\n",
       "</table>\n",
       "</div>"
      ],
      "text/plain": [
       "  tariff         mean            var         std\n",
       "                 gain           gain        gain\n",
       "0  smart   952.668610  304420.200136  551.742875\n",
       "1  ultra  2070.030426  141387.714809  376.015578"
      ]
     },
     "execution_count": 27,
     "metadata": {},
     "output_type": "execute_result"
    }
   ],
   "source": [
    "data.pivot_table(index='tariff', values='gain', aggfunc= ['mean', 'var','std']).reset_index()"
   ]
  },
  {
   "cell_type": "markdown",
   "metadata": {},
   "source": [
    "Как можно заметить, пользователи тарифа смарт тратят в среднем больше своей месячной платы,"
   ]
  },
  {
   "cell_type": "code",
   "execution_count": 28,
   "metadata": {},
   "outputs": [
    {
     "data": {
      "text/html": [
       "<div>\n",
       "<style scoped>\n",
       "    .dataframe tbody tr th:only-of-type {\n",
       "        vertical-align: middle;\n",
       "    }\n",
       "\n",
       "    .dataframe tbody tr th {\n",
       "        vertical-align: top;\n",
       "    }\n",
       "\n",
       "    .dataframe thead th {\n",
       "        text-align: right;\n",
       "    }\n",
       "</style>\n",
       "<table border=\"1\" class=\"dataframe\">\n",
       "  <thead>\n",
       "    <tr style=\"text-align: right;\">\n",
       "      <th></th>\n",
       "      <th>user_id</th>\n",
       "      <th>age</th>\n",
       "      <th>month</th>\n",
       "      <th>call_sum</th>\n",
       "      <th>call_count</th>\n",
       "      <th>count_mess</th>\n",
       "      <th>gb_used</th>\n",
       "      <th>messages_included</th>\n",
       "      <th>gb_per_month_included</th>\n",
       "      <th>minutes_included</th>\n",
       "      <th>rub_monthly_fee</th>\n",
       "      <th>rub_per_gb</th>\n",
       "      <th>rub_per_message</th>\n",
       "      <th>rub_per_minute</th>\n",
       "      <th>gain</th>\n",
       "    </tr>\n",
       "  </thead>\n",
       "  <tbody>\n",
       "    <tr>\n",
       "      <th>count</th>\n",
       "      <td>2230.000000</td>\n",
       "      <td>2230.000000</td>\n",
       "      <td>2229.000000</td>\n",
       "      <td>2223.000000</td>\n",
       "      <td>2223.000000</td>\n",
       "      <td>1922.000000</td>\n",
       "      <td>2228.000000</td>\n",
       "      <td>2230.0</td>\n",
       "      <td>2230.0</td>\n",
       "      <td>2230.0</td>\n",
       "      <td>2230.0</td>\n",
       "      <td>2230.0</td>\n",
       "      <td>2230.0</td>\n",
       "      <td>2230.0</td>\n",
       "      <td>2230.000000</td>\n",
       "    </tr>\n",
       "    <tr>\n",
       "      <th>mean</th>\n",
       "      <td>1246.562332</td>\n",
       "      <td>46.557848</td>\n",
       "      <td>8.346792</td>\n",
       "      <td>419.062978</td>\n",
       "      <td>58.621233</td>\n",
       "      <td>38.716441</td>\n",
       "      <td>16.336176</td>\n",
       "      <td>50.0</td>\n",
       "      <td>15.0</td>\n",
       "      <td>500.0</td>\n",
       "      <td>550.0</td>\n",
       "      <td>200.0</td>\n",
       "      <td>3.0</td>\n",
       "      <td>3.0</td>\n",
       "      <td>952.668610</td>\n",
       "    </tr>\n",
       "    <tr>\n",
       "      <th>std</th>\n",
       "      <td>146.110501</td>\n",
       "      <td>16.349865</td>\n",
       "      <td>2.920316</td>\n",
       "      <td>189.325618</td>\n",
       "      <td>25.796101</td>\n",
       "      <td>26.787949</td>\n",
       "      <td>5.737923</td>\n",
       "      <td>0.0</td>\n",
       "      <td>0.0</td>\n",
       "      <td>0.0</td>\n",
       "      <td>0.0</td>\n",
       "      <td>0.0</td>\n",
       "      <td>0.0</td>\n",
       "      <td>0.0</td>\n",
       "      <td>551.742875</td>\n",
       "    </tr>\n",
       "    <tr>\n",
       "      <th>min</th>\n",
       "      <td>1001.000000</td>\n",
       "      <td>18.000000</td>\n",
       "      <td>1.000000</td>\n",
       "      <td>0.000000</td>\n",
       "      <td>1.000000</td>\n",
       "      <td>1.000000</td>\n",
       "      <td>0.000000</td>\n",
       "      <td>50.0</td>\n",
       "      <td>15.0</td>\n",
       "      <td>500.0</td>\n",
       "      <td>550.0</td>\n",
       "      <td>200.0</td>\n",
       "      <td>3.0</td>\n",
       "      <td>3.0</td>\n",
       "      <td>550.000000</td>\n",
       "    </tr>\n",
       "    <tr>\n",
       "      <th>25%</th>\n",
       "      <td>1121.000000</td>\n",
       "      <td>32.000000</td>\n",
       "      <td>6.000000</td>\n",
       "      <td>285.000000</td>\n",
       "      <td>40.000000</td>\n",
       "      <td>17.000000</td>\n",
       "      <td>13.000000</td>\n",
       "      <td>50.0</td>\n",
       "      <td>15.0</td>\n",
       "      <td>500.0</td>\n",
       "      <td>550.0</td>\n",
       "      <td>200.0</td>\n",
       "      <td>3.0</td>\n",
       "      <td>3.0</td>\n",
       "      <td>550.000000</td>\n",
       "    </tr>\n",
       "    <tr>\n",
       "      <th>50%</th>\n",
       "      <td>1240.000000</td>\n",
       "      <td>47.000000</td>\n",
       "      <td>9.000000</td>\n",
       "      <td>423.000000</td>\n",
       "      <td>60.000000</td>\n",
       "      <td>34.000000</td>\n",
       "      <td>17.000000</td>\n",
       "      <td>50.0</td>\n",
       "      <td>15.0</td>\n",
       "      <td>500.0</td>\n",
       "      <td>550.0</td>\n",
       "      <td>200.0</td>\n",
       "      <td>3.0</td>\n",
       "      <td>3.0</td>\n",
       "      <td>722.500000</td>\n",
       "    </tr>\n",
       "    <tr>\n",
       "      <th>75%</th>\n",
       "      <td>1376.000000</td>\n",
       "      <td>62.000000</td>\n",
       "      <td>11.000000</td>\n",
       "      <td>545.500000</td>\n",
       "      <td>76.000000</td>\n",
       "      <td>55.000000</td>\n",
       "      <td>20.000000</td>\n",
       "      <td>50.0</td>\n",
       "      <td>15.0</td>\n",
       "      <td>500.0</td>\n",
       "      <td>550.0</td>\n",
       "      <td>200.0</td>\n",
       "      <td>3.0</td>\n",
       "      <td>3.0</td>\n",
       "      <td>1150.000000</td>\n",
       "    </tr>\n",
       "    <tr>\n",
       "      <th>max</th>\n",
       "      <td>1499.000000</td>\n",
       "      <td>75.000000</td>\n",
       "      <td>12.000000</td>\n",
       "      <td>1435.000000</td>\n",
       "      <td>198.000000</td>\n",
       "      <td>143.000000</td>\n",
       "      <td>38.000000</td>\n",
       "      <td>50.0</td>\n",
       "      <td>15.0</td>\n",
       "      <td>500.0</td>\n",
       "      <td>550.0</td>\n",
       "      <td>200.0</td>\n",
       "      <td>3.0</td>\n",
       "      <td>3.0</td>\n",
       "      <td>4550.000000</td>\n",
       "    </tr>\n",
       "  </tbody>\n",
       "</table>\n",
       "</div>"
      ],
      "text/plain": [
       "           user_id          age        month     call_sum   call_count  \\\n",
       "count  2230.000000  2230.000000  2229.000000  2223.000000  2223.000000   \n",
       "mean   1246.562332    46.557848     8.346792   419.062978    58.621233   \n",
       "std     146.110501    16.349865     2.920316   189.325618    25.796101   \n",
       "min    1001.000000    18.000000     1.000000     0.000000     1.000000   \n",
       "25%    1121.000000    32.000000     6.000000   285.000000    40.000000   \n",
       "50%    1240.000000    47.000000     9.000000   423.000000    60.000000   \n",
       "75%    1376.000000    62.000000    11.000000   545.500000    76.000000   \n",
       "max    1499.000000    75.000000    12.000000  1435.000000   198.000000   \n",
       "\n",
       "        count_mess      gb_used  messages_included  gb_per_month_included  \\\n",
       "count  1922.000000  2228.000000             2230.0                 2230.0   \n",
       "mean     38.716441    16.336176               50.0                   15.0   \n",
       "std      26.787949     5.737923                0.0                    0.0   \n",
       "min       1.000000     0.000000               50.0                   15.0   \n",
       "25%      17.000000    13.000000               50.0                   15.0   \n",
       "50%      34.000000    17.000000               50.0                   15.0   \n",
       "75%      55.000000    20.000000               50.0                   15.0   \n",
       "max     143.000000    38.000000               50.0                   15.0   \n",
       "\n",
       "       minutes_included  rub_monthly_fee  rub_per_gb  rub_per_message  \\\n",
       "count            2230.0           2230.0      2230.0           2230.0   \n",
       "mean              500.0            550.0       200.0              3.0   \n",
       "std                 0.0              0.0         0.0              0.0   \n",
       "min               500.0            550.0       200.0              3.0   \n",
       "25%               500.0            550.0       200.0              3.0   \n",
       "50%               500.0            550.0       200.0              3.0   \n",
       "75%               500.0            550.0       200.0              3.0   \n",
       "max               500.0            550.0       200.0              3.0   \n",
       "\n",
       "       rub_per_minute         gain  \n",
       "count          2230.0  2230.000000  \n",
       "mean              3.0   952.668610  \n",
       "std               0.0   551.742875  \n",
       "min               3.0   550.000000  \n",
       "25%               3.0   550.000000  \n",
       "50%               3.0   722.500000  \n",
       "75%               3.0  1150.000000  \n",
       "max               3.0  4550.000000  "
      ]
     },
     "metadata": {},
     "output_type": "display_data"
    },
    {
     "data": {
      "text/html": [
       "<div>\n",
       "<style scoped>\n",
       "    .dataframe tbody tr th:only-of-type {\n",
       "        vertical-align: middle;\n",
       "    }\n",
       "\n",
       "    .dataframe tbody tr th {\n",
       "        vertical-align: top;\n",
       "    }\n",
       "\n",
       "    .dataframe thead th {\n",
       "        text-align: right;\n",
       "    }\n",
       "</style>\n",
       "<table border=\"1\" class=\"dataframe\">\n",
       "  <thead>\n",
       "    <tr style=\"text-align: right;\">\n",
       "      <th></th>\n",
       "      <th>user_id</th>\n",
       "      <th>age</th>\n",
       "      <th>month</th>\n",
       "      <th>call_sum</th>\n",
       "      <th>call_count</th>\n",
       "      <th>count_mess</th>\n",
       "      <th>gb_used</th>\n",
       "      <th>messages_included</th>\n",
       "      <th>gb_per_month_included</th>\n",
       "      <th>minutes_included</th>\n",
       "      <th>rub_monthly_fee</th>\n",
       "      <th>rub_per_gb</th>\n",
       "      <th>rub_per_message</th>\n",
       "      <th>rub_per_minute</th>\n",
       "      <th>gain</th>\n",
       "    </tr>\n",
       "  </thead>\n",
       "  <tbody>\n",
       "    <tr>\n",
       "      <th>count</th>\n",
       "      <td>986.000000</td>\n",
       "      <td>986.000000</td>\n",
       "      <td>985.000000</td>\n",
       "      <td>951.000000</td>\n",
       "      <td>951.000000</td>\n",
       "      <td>795.000000</td>\n",
       "      <td>975.000000</td>\n",
       "      <td>986.0</td>\n",
       "      <td>986.0</td>\n",
       "      <td>986.0</td>\n",
       "      <td>986.0</td>\n",
       "      <td>986.0</td>\n",
       "      <td>986.0</td>\n",
       "      <td>986.0</td>\n",
       "      <td>986.000000</td>\n",
       "    </tr>\n",
       "    <tr>\n",
       "      <th>mean</th>\n",
       "      <td>1262.957404</td>\n",
       "      <td>46.838742</td>\n",
       "      <td>8.250761</td>\n",
       "      <td>545.451104</td>\n",
       "      <td>76.016824</td>\n",
       "      <td>61.161006</td>\n",
       "      <td>19.694359</td>\n",
       "      <td>1000.0</td>\n",
       "      <td>30.0</td>\n",
       "      <td>3000.0</td>\n",
       "      <td>1950.0</td>\n",
       "      <td>150.0</td>\n",
       "      <td>1.0</td>\n",
       "      <td>1.0</td>\n",
       "      <td>2070.030426</td>\n",
       "    </tr>\n",
       "    <tr>\n",
       "      <th>std</th>\n",
       "      <td>140.689268</td>\n",
       "      <td>17.099807</td>\n",
       "      <td>2.871762</td>\n",
       "      <td>306.925754</td>\n",
       "      <td>42.403348</td>\n",
       "      <td>45.931026</td>\n",
       "      <td>9.702924</td>\n",
       "      <td>0.0</td>\n",
       "      <td>0.0</td>\n",
       "      <td>0.0</td>\n",
       "      <td>0.0</td>\n",
       "      <td>0.0</td>\n",
       "      <td>0.0</td>\n",
       "      <td>0.0</td>\n",
       "      <td>376.015578</td>\n",
       "    </tr>\n",
       "    <tr>\n",
       "      <th>min</th>\n",
       "      <td>1000.000000</td>\n",
       "      <td>18.000000</td>\n",
       "      <td>1.000000</td>\n",
       "      <td>0.000000</td>\n",
       "      <td>1.000000</td>\n",
       "      <td>1.000000</td>\n",
       "      <td>0.000000</td>\n",
       "      <td>1000.0</td>\n",
       "      <td>30.0</td>\n",
       "      <td>3000.0</td>\n",
       "      <td>1950.0</td>\n",
       "      <td>150.0</td>\n",
       "      <td>1.0</td>\n",
       "      <td>1.0</td>\n",
       "      <td>1950.000000</td>\n",
       "    </tr>\n",
       "    <tr>\n",
       "      <th>25%</th>\n",
       "      <td>1143.000000</td>\n",
       "      <td>30.000000</td>\n",
       "      <td>6.000000</td>\n",
       "      <td>310.000000</td>\n",
       "      <td>43.000000</td>\n",
       "      <td>24.000000</td>\n",
       "      <td>12.000000</td>\n",
       "      <td>1000.0</td>\n",
       "      <td>30.0</td>\n",
       "      <td>3000.0</td>\n",
       "      <td>1950.0</td>\n",
       "      <td>150.0</td>\n",
       "      <td>1.0</td>\n",
       "      <td>1.0</td>\n",
       "      <td>1950.000000</td>\n",
       "    </tr>\n",
       "    <tr>\n",
       "      <th>50%</th>\n",
       "      <td>1277.000000</td>\n",
       "      <td>45.000000</td>\n",
       "      <td>9.000000</td>\n",
       "      <td>528.000000</td>\n",
       "      <td>75.000000</td>\n",
       "      <td>51.000000</td>\n",
       "      <td>19.000000</td>\n",
       "      <td>1000.0</td>\n",
       "      <td>30.0</td>\n",
       "      <td>3000.0</td>\n",
       "      <td>1950.0</td>\n",
       "      <td>150.0</td>\n",
       "      <td>1.0</td>\n",
       "      <td>1.0</td>\n",
       "      <td>1950.000000</td>\n",
       "    </tr>\n",
       "    <tr>\n",
       "      <th>75%</th>\n",
       "      <td>1381.000000</td>\n",
       "      <td>63.000000</td>\n",
       "      <td>11.000000</td>\n",
       "      <td>756.500000</td>\n",
       "      <td>105.000000</td>\n",
       "      <td>87.500000</td>\n",
       "      <td>27.000000</td>\n",
       "      <td>1000.0</td>\n",
       "      <td>30.0</td>\n",
       "      <td>3000.0</td>\n",
       "      <td>1950.0</td>\n",
       "      <td>150.0</td>\n",
       "      <td>1.0</td>\n",
       "      <td>1.0</td>\n",
       "      <td>1950.000000</td>\n",
       "    </tr>\n",
       "    <tr>\n",
       "      <th>max</th>\n",
       "      <td>1495.000000</td>\n",
       "      <td>75.000000</td>\n",
       "      <td>12.000000</td>\n",
       "      <td>1673.000000</td>\n",
       "      <td>244.000000</td>\n",
       "      <td>224.000000</td>\n",
       "      <td>49.000000</td>\n",
       "      <td>1000.0</td>\n",
       "      <td>30.0</td>\n",
       "      <td>3000.0</td>\n",
       "      <td>1950.0</td>\n",
       "      <td>150.0</td>\n",
       "      <td>1.0</td>\n",
       "      <td>1.0</td>\n",
       "      <td>4800.000000</td>\n",
       "    </tr>\n",
       "  </tbody>\n",
       "</table>\n",
       "</div>"
      ],
      "text/plain": [
       "           user_id         age       month     call_sum  call_count  \\\n",
       "count   986.000000  986.000000  985.000000   951.000000  951.000000   \n",
       "mean   1262.957404   46.838742    8.250761   545.451104   76.016824   \n",
       "std     140.689268   17.099807    2.871762   306.925754   42.403348   \n",
       "min    1000.000000   18.000000    1.000000     0.000000    1.000000   \n",
       "25%    1143.000000   30.000000    6.000000   310.000000   43.000000   \n",
       "50%    1277.000000   45.000000    9.000000   528.000000   75.000000   \n",
       "75%    1381.000000   63.000000   11.000000   756.500000  105.000000   \n",
       "max    1495.000000   75.000000   12.000000  1673.000000  244.000000   \n",
       "\n",
       "       count_mess     gb_used  messages_included  gb_per_month_included  \\\n",
       "count  795.000000  975.000000              986.0                  986.0   \n",
       "mean    61.161006   19.694359             1000.0                   30.0   \n",
       "std     45.931026    9.702924                0.0                    0.0   \n",
       "min      1.000000    0.000000             1000.0                   30.0   \n",
       "25%     24.000000   12.000000             1000.0                   30.0   \n",
       "50%     51.000000   19.000000             1000.0                   30.0   \n",
       "75%     87.500000   27.000000             1000.0                   30.0   \n",
       "max    224.000000   49.000000             1000.0                   30.0   \n",
       "\n",
       "       minutes_included  rub_monthly_fee  rub_per_gb  rub_per_message  \\\n",
       "count             986.0            986.0       986.0            986.0   \n",
       "mean             3000.0           1950.0       150.0              1.0   \n",
       "std                 0.0              0.0         0.0              0.0   \n",
       "min              3000.0           1950.0       150.0              1.0   \n",
       "25%              3000.0           1950.0       150.0              1.0   \n",
       "50%              3000.0           1950.0       150.0              1.0   \n",
       "75%              3000.0           1950.0       150.0              1.0   \n",
       "max              3000.0           1950.0       150.0              1.0   \n",
       "\n",
       "       rub_per_minute         gain  \n",
       "count           986.0   986.000000  \n",
       "mean              1.0  2070.030426  \n",
       "std               0.0   376.015578  \n",
       "min               1.0  1950.000000  \n",
       "25%               1.0  1950.000000  \n",
       "50%               1.0  1950.000000  \n",
       "75%               1.0  1950.000000  \n",
       "max               1.0  4800.000000  "
      ]
     },
     "execution_count": 28,
     "metadata": {},
     "output_type": "execute_result"
    }
   ],
   "source": [
    "display(data_smart.describe())\n",
    "data_ultra.describe()"
   ]
  },
  {
   "cell_type": "markdown",
   "metadata": {},
   "source": [
    "### Вывод"
   ]
  },
  {
   "cell_type": "markdown",
   "metadata": {},
   "source": [
    "Пользователи тарифа смарт чаще выходят за свои тарифные лимиты и переплачивают за услуги. В среднем пользователям нехватает лишних 10% тарифа, кроме интернета, который превышает 30% от тарифа. По значениям 3 процентиля можно сделать вывод о большинстве пользователей, пользующихся услугами компании. Минут должно быть 545, СМС 55, а ГБ интернета 20\n",
    "\n",
    "Пользователи тарифа ультра редко используют полностью лимиты своего тарифа, а значит приносят больше выручки, потому что переплачивают. Для тарифа ультра в среднем должно быть: минут 756, СМС 87, ГБ интернета 27."
   ]
  },
  {
   "cell_type": "markdown",
   "metadata": {},
   "source": [
    "## Проверка гипотез\n",
    "* средняя выручка пользователей тарифов «Ультра» и «Смарт» различаются;\n",
    "* средняя выручка пользователей из Москвы отличается от выручки пользователей из других регионов."
   ]
  },
  {
   "cell_type": "markdown",
   "metadata": {},
   "source": [
    "Нулевая гипотеза: Средняя выручка пользователей тарифов \"Ультра\" и \"Смарт\" равны\n",
    "\n",
    "Альтернативная гипотеза: Средняя выручка пользователей тарифов \"Ультра\" и \"Смарт\" различается\n",
    "\n",
    "Критический уровень статистической значимости 0.01"
   ]
  },
  {
   "cell_type": "code",
   "execution_count": 29,
   "metadata": {},
   "outputs": [
    {
     "data": {
      "text/plain": [
       "Ttest_indResult(statistic=-66.78628651430601, pvalue=0.0)"
      ]
     },
     "execution_count": 29,
     "metadata": {},
     "output_type": "execute_result"
    }
   ],
   "source": [
    "# Дисперсии не равны и размер выборки различный, поэтому equal_var=False\n",
    "st.ttest_ind(data_smart['gain'], data_ultra['gain'], equal_var=False)"
   ]
  },
  {
   "cell_type": "markdown",
   "metadata": {},
   "source": [
    "Нулевая гипотеза о равенстве средних отклоняется, потому что pvalue =0, в силу вступает альтернативная гипотеза. Что выручка пользователей двух тарифов различается."
   ]
  },
  {
   "cell_type": "code",
   "execution_count": 30,
   "metadata": {},
   "outputs": [
    {
     "name": "stdout",
     "output_type": "stream",
     "text": [
      "Средняя выручка тарифа смарт = 952.6686098654709\n",
      "Средняя выручка тарифа ультра = 2070.030425963489\n",
      "Суммарная выручка тарифа смарт = 2124451.0\n",
      "Суммарная выручка тарифа ультра = 2041050.0\n",
      "69 % пользователей имеют тариф смарт\n",
      "31 % пользователей имеют тариф ультра\n"
     ]
    }
   ],
   "source": [
    "print('Средняя выручка тарифа смарт =', data_smart['gain'].mean())\n",
    "print('Средняя выручка тарифа ультра =', data_ultra['gain'].mean())\n",
    "print('Суммарная выручка тарифа смарт =', data_smart['gain'].sum())\n",
    "print('Суммарная выручка тарифа ультра =', data_ultra['gain'].sum())\n",
    "print(round(len(data_smart['gain'])/len(data['gain'])*100),\"% пользователей имеют тариф смарт\")\n",
    "print(round(len(data_ultra['gain'])/len(data['gain'])*100),\"% пользователей имеют тариф ультра\")"
   ]
  },
  {
   "cell_type": "markdown",
   "metadata": {},
   "source": [
    "Нулевая гипотеза: средняя выручка пользователей из Москвы равна выручке пользователей из других регионов.\n",
    "\n",
    "Альтернативная гипотеза: средняя выручка пользователей из Москвы отличается от выручки пользователей из других регионов.\n",
    "\n",
    "Критический уровень статистической значимости 0.01"
   ]
  },
  {
   "cell_type": "code",
   "execution_count": 31,
   "metadata": {},
   "outputs": [],
   "source": [
    "moscow = data.query('city == \"Москва\"')\n",
    "others = data.query('city !=\"Москва\"')"
   ]
  },
  {
   "cell_type": "code",
   "execution_count": 32,
   "metadata": {
    "scrolled": true
   },
   "outputs": [
    {
     "data": {
      "text/plain": [
       "Ttest_indResult(statistic=2.923188951082392, pvalue=0.0035482551256135865)"
      ]
     },
     "execution_count": 32,
     "metadata": {},
     "output_type": "execute_result"
    }
   ],
   "source": [
    "# Дисперсии не равны и размер выборки различный, поэтому equal_var=False\n",
    "st.ttest_ind(moscow['gain'], others['gain'], equal_var=False)"
   ]
  },
  {
   "cell_type": "markdown",
   "metadata": {},
   "source": [
    "Нулевая гипотеза о равенстве средних отклоняется, потому что pvalue =0.003, в силу вступает альтернативная гипотеза. Что выручка от пользователей в Москве отличается от выручки других регионов."
   ]
  },
  {
   "cell_type": "code",
   "execution_count": 33,
   "metadata": {},
   "outputs": [
    {
     "name": "stdout",
     "output_type": "stream",
     "text": [
      "Средняя выручка по Москве = 1370.7414075286415\n",
      "Средняя выручка по другим городам = 1277.5347408829175\n",
      "Суммарная выручка по Москве = 837523.0\n",
      "Суммарная выручка по другим городам = 3327978.0\n",
      "19 % пользователей из Москвы\n",
      "81 % пользователей других регионов\n"
     ]
    }
   ],
   "source": [
    "print('Средняя выручка по Москве =', moscow['gain'].mean())\n",
    "print('Средняя выручка по другим городам =', others['gain'].mean())\n",
    "print('Суммарная выручка по Москве =', moscow['gain'].sum())\n",
    "print('Суммарная выручка по другим городам =', others['gain'].sum())\n",
    "print(round(len(moscow['gain'])/len(data['gain'])*100),\"% пользователей из Москвы\")\n",
    "print(round(len(others['gain'])/len(data['gain'])*100),\"% пользователей других регионов\")"
   ]
  },
  {
   "cell_type": "markdown",
   "metadata": {},
   "source": [
    "## Общий вывод"
   ]
  },
  {
   "cell_type": "markdown",
   "metadata": {},
   "source": [
    "В ходе исследования были произведены обработка и анализ данных:\n",
    "* Изучил данные из разных таблиц, обработал некорректные столбцы\n",
    "* Произвел подсчеты месячных статистик по пользователям (смс, интернет трафик, звонки, выручку)\n",
    "* Были выявлены характерные числа пакетов для каждого тарифа\n",
    "* Посчитана дисперсия и стандартное отклонение для выручки\n",
    "* Графически изучены распределения пакетов тарифов\n",
    "* Проверены гипотез\n",
    "\n",
    "Подводя итоги, можно сосредоточиться на рекламе тарифа Ультра, потому что процент пользователей с этим тарифом ниже другого, но приносят суммарной прибыли они почти одинаково, а значит тариф Ультра более выгодный для компании. Также пользователи тарифа Ультра в среднем не расходуют полностью свой пакет, а значит меньше затрачивается ресурс компании и выручка больше.\n",
    "\n",
    "Поставленные гипотезы были подтверждены как статистически, так и логически и вычислительно.\n",
    "\n",
    "Также были выявлены показатели для большинства пользователей тарифов. Пользователям тарифа Смарт нехватает своих лимитов чаще, чем пользователям тарифа Ультра"
   ]
  },
  {
   "cell_type": "code",
   "execution_count": null,
   "metadata": {},
   "outputs": [],
   "source": []
  }
 ],
 "metadata": {
  "ExecuteTimeLog": [
   {
    "duration": 907,
    "start_time": "2022-03-13T19:51:10.610Z"
   },
   {
    "duration": 385,
    "start_time": "2022-03-13T19:57:24.106Z"
   },
   {
    "duration": 15,
    "start_time": "2022-03-13T19:57:51.796Z"
   },
   {
    "duration": 13,
    "start_time": "2022-03-13T19:57:57.232Z"
   },
   {
    "duration": 10,
    "start_time": "2022-03-13T19:58:04.712Z"
   },
   {
    "duration": 8,
    "start_time": "2022-03-13T19:58:10.875Z"
   },
   {
    "duration": 9,
    "start_time": "2022-03-13T19:58:16.813Z"
   },
   {
    "duration": 11,
    "start_time": "2022-03-13T20:00:15.881Z"
   },
   {
    "duration": 9,
    "start_time": "2022-03-13T20:00:25.622Z"
   },
   {
    "duration": 9,
    "start_time": "2022-03-13T20:00:30.769Z"
   },
   {
    "duration": 8,
    "start_time": "2022-03-13T20:00:45.806Z"
   },
   {
    "duration": 12,
    "start_time": "2022-03-13T20:01:16.498Z"
   },
   {
    "duration": 8,
    "start_time": "2022-03-13T20:02:04.649Z"
   },
   {
    "duration": 412,
    "start_time": "2022-03-14T10:28:19.771Z"
   },
   {
    "duration": 1229,
    "start_time": "2022-03-14T10:28:25.143Z"
   },
   {
    "duration": 544,
    "start_time": "2022-03-14T10:28:26.374Z"
   },
   {
    "duration": 89,
    "start_time": "2022-03-14T10:28:54.017Z"
   },
   {
    "duration": 68,
    "start_time": "2022-03-14T10:29:01.247Z"
   },
   {
    "duration": 97,
    "start_time": "2022-03-14T10:29:33.036Z"
   },
   {
    "duration": 68,
    "start_time": "2022-03-14T10:31:58.690Z"
   },
   {
    "duration": 351,
    "start_time": "2022-03-14T10:34:49.434Z"
   },
   {
    "duration": 72,
    "start_time": "2022-03-14T10:35:21.312Z"
   },
   {
    "duration": 81,
    "start_time": "2022-03-14T10:35:30.417Z"
   },
   {
    "duration": 110,
    "start_time": "2022-03-14T10:35:47.745Z"
   },
   {
    "duration": 178,
    "start_time": "2022-03-14T10:35:59.428Z"
   },
   {
    "duration": 155,
    "start_time": "2022-03-14T10:36:09.167Z"
   },
   {
    "duration": 13,
    "start_time": "2022-03-14T10:42:06.665Z"
   },
   {
    "duration": 33,
    "start_time": "2022-03-14T11:27:03.387Z"
   },
   {
    "duration": 27,
    "start_time": "2022-03-14T11:27:26.170Z"
   },
   {
    "duration": 36,
    "start_time": "2022-03-14T11:39:02.869Z"
   },
   {
    "duration": 15,
    "start_time": "2022-03-14T11:39:11.129Z"
   },
   {
    "duration": 26,
    "start_time": "2022-03-14T11:39:16.260Z"
   },
   {
    "duration": 3278,
    "start_time": "2022-03-14T11:52:32.412Z"
   },
   {
    "duration": 65,
    "start_time": "2022-03-14T11:52:59.333Z"
   },
   {
    "duration": 17,
    "start_time": "2022-03-14T11:53:07.553Z"
   },
   {
    "duration": 25,
    "start_time": "2022-03-14T11:53:13.826Z"
   },
   {
    "duration": 72,
    "start_time": "2022-03-14T11:54:33.761Z"
   },
   {
    "duration": 27,
    "start_time": "2022-03-14T11:55:30.991Z"
   },
   {
    "duration": 11,
    "start_time": "2022-03-14T11:55:40.120Z"
   },
   {
    "duration": 400,
    "start_time": "2022-03-14T13:59:01.612Z"
   },
   {
    "duration": 1464,
    "start_time": "2022-03-14T13:59:07.872Z"
   },
   {
    "duration": 772,
    "start_time": "2022-03-14T13:59:09.339Z"
   },
   {
    "duration": 36,
    "start_time": "2022-03-14T13:59:10.114Z"
   },
   {
    "duration": 16,
    "start_time": "2022-03-14T13:59:10.153Z"
   },
   {
    "duration": 18,
    "start_time": "2022-03-14T13:59:10.172Z"
   },
   {
    "duration": 15,
    "start_time": "2022-03-14T13:59:10.192Z"
   },
   {
    "duration": 39,
    "start_time": "2022-03-14T13:59:10.210Z"
   },
   {
    "duration": 71,
    "start_time": "2022-03-14T13:59:10.253Z"
   },
   {
    "duration": 167,
    "start_time": "2022-03-14T13:59:10.343Z"
   },
   {
    "duration": 41,
    "start_time": "2022-03-14T13:59:10.513Z"
   },
   {
    "duration": 12,
    "start_time": "2022-03-14T13:59:10.557Z"
   },
   {
    "duration": 140,
    "start_time": "2022-03-14T13:59:10.572Z"
   },
   {
    "duration": 438,
    "start_time": "2022-03-14T13:59:10.714Z"
   },
   {
    "duration": 34,
    "start_time": "2022-03-14T14:00:56.049Z"
   },
   {
    "duration": 23,
    "start_time": "2022-03-14T14:01:00.407Z"
   },
   {
    "duration": 75,
    "start_time": "2022-03-14T14:02:35.616Z"
   },
   {
    "duration": 319,
    "start_time": "2022-03-14T14:03:33.356Z"
   },
   {
    "duration": 13,
    "start_time": "2022-03-14T14:04:11.468Z"
   },
   {
    "duration": 46,
    "start_time": "2022-03-14T14:04:42.871Z"
   },
   {
    "duration": 12,
    "start_time": "2022-03-14T14:05:31.607Z"
   },
   {
    "duration": 8,
    "start_time": "2022-03-14T14:08:11.590Z"
   },
   {
    "duration": 6,
    "start_time": "2022-03-14T14:08:17.884Z"
   },
   {
    "duration": 325,
    "start_time": "2022-03-14T14:09:21.650Z"
   },
   {
    "duration": 6,
    "start_time": "2022-03-14T14:09:33.861Z"
   },
   {
    "duration": 17,
    "start_time": "2022-03-14T14:09:42.195Z"
   },
   {
    "duration": 331,
    "start_time": "2022-03-14T14:11:18.299Z"
   },
   {
    "duration": 5,
    "start_time": "2022-03-14T14:18:10.262Z"
   },
   {
    "duration": 17,
    "start_time": "2022-03-14T14:18:12.369Z"
   },
   {
    "duration": 445,
    "start_time": "2022-03-14T14:25:59.444Z"
   },
   {
    "duration": 1358,
    "start_time": "2022-03-14T14:26:08.633Z"
   },
   {
    "duration": 1943,
    "start_time": "2022-03-14T14:26:09.995Z"
   },
   {
    "duration": 34,
    "start_time": "2022-03-14T14:26:11.941Z"
   },
   {
    "duration": 13,
    "start_time": "2022-03-14T14:26:11.979Z"
   },
   {
    "duration": 14,
    "start_time": "2022-03-14T14:26:11.995Z"
   },
   {
    "duration": 13,
    "start_time": "2022-03-14T14:26:12.050Z"
   },
   {
    "duration": 12,
    "start_time": "2022-03-14T14:26:12.065Z"
   },
   {
    "duration": 106,
    "start_time": "2022-03-14T14:26:12.080Z"
   },
   {
    "duration": 177,
    "start_time": "2022-03-14T14:26:12.189Z"
   },
   {
    "duration": 24,
    "start_time": "2022-03-14T14:26:12.369Z"
   },
   {
    "duration": 14,
    "start_time": "2022-03-14T14:26:12.396Z"
   },
   {
    "duration": 170,
    "start_time": "2022-03-14T14:26:12.412Z"
   },
   {
    "duration": 99,
    "start_time": "2022-03-14T14:26:12.585Z"
   },
   {
    "duration": 6,
    "start_time": "2022-03-14T14:26:12.687Z"
   },
   {
    "duration": 518,
    "start_time": "2022-03-14T14:26:12.695Z"
   },
   {
    "duration": 1291,
    "start_time": "2022-03-14T14:26:11.925Z"
   },
   {
    "duration": 395,
    "start_time": "2022-03-14T14:28:20.026Z"
   },
   {
    "duration": 372,
    "start_time": "2022-03-14T14:28:49.752Z"
   },
   {
    "duration": 27,
    "start_time": "2022-03-14T14:29:04.402Z"
   },
   {
    "duration": 142,
    "start_time": "2022-03-14T14:30:23.270Z"
   },
   {
    "duration": 2133,
    "start_time": "2022-03-14T14:30:33.170Z"
   },
   {
    "duration": 29,
    "start_time": "2022-03-14T14:30:38.003Z"
   },
   {
    "duration": 1853,
    "start_time": "2022-03-14T14:30:58.229Z"
   },
   {
    "duration": 31,
    "start_time": "2022-03-14T14:31:02.024Z"
   },
   {
    "duration": 2423,
    "start_time": "2022-03-14T14:35:54.642Z"
   },
   {
    "duration": 1481,
    "start_time": "2022-03-14T14:36:06.055Z"
   },
   {
    "duration": 2183,
    "start_time": "2022-03-14T14:36:07.539Z"
   },
   {
    "duration": 29,
    "start_time": "2022-03-14T14:36:09.725Z"
   },
   {
    "duration": 13,
    "start_time": "2022-03-14T14:36:09.757Z"
   },
   {
    "duration": 20,
    "start_time": "2022-03-14T14:36:09.773Z"
   },
   {
    "duration": 21,
    "start_time": "2022-03-14T14:36:09.795Z"
   },
   {
    "duration": 21,
    "start_time": "2022-03-14T14:36:09.843Z"
   },
   {
    "duration": 92,
    "start_time": "2022-03-14T14:36:09.867Z"
   },
   {
    "duration": 195,
    "start_time": "2022-03-14T14:36:09.962Z"
   },
   {
    "duration": 37,
    "start_time": "2022-03-14T14:36:10.160Z"
   },
   {
    "duration": 13,
    "start_time": "2022-03-14T14:36:10.201Z"
   },
   {
    "duration": 171,
    "start_time": "2022-03-14T14:36:10.217Z"
   },
   {
    "duration": 103,
    "start_time": "2022-03-14T14:36:10.392Z"
   },
   {
    "duration": 7,
    "start_time": "2022-03-14T14:36:10.499Z"
   },
   {
    "duration": 448,
    "start_time": "2022-03-14T14:36:42.507Z"
   },
   {
    "duration": 1318,
    "start_time": "2022-03-14T14:37:13.742Z"
   },
   {
    "duration": 3834,
    "start_time": "2022-03-14T14:37:15.063Z"
   },
   {
    "duration": 26,
    "start_time": "2022-03-14T14:37:18.900Z"
   },
   {
    "duration": 25,
    "start_time": "2022-03-14T14:37:18.929Z"
   },
   {
    "duration": 23,
    "start_time": "2022-03-14T14:37:18.957Z"
   },
   {
    "duration": 17,
    "start_time": "2022-03-14T14:37:18.983Z"
   },
   {
    "duration": 14,
    "start_time": "2022-03-14T14:37:19.003Z"
   },
   {
    "duration": 99,
    "start_time": "2022-03-14T14:37:19.019Z"
   },
   {
    "duration": 182,
    "start_time": "2022-03-14T14:37:19.123Z"
   },
   {
    "duration": 58,
    "start_time": "2022-03-14T14:37:19.309Z"
   },
   {
    "duration": 13,
    "start_time": "2022-03-14T14:37:19.370Z"
   },
   {
    "duration": 126,
    "start_time": "2022-03-14T14:37:19.386Z"
   },
   {
    "duration": 97,
    "start_time": "2022-03-14T14:37:19.515Z"
   },
   {
    "duration": 7,
    "start_time": "2022-03-14T14:37:19.615Z"
   },
   {
    "duration": 2238,
    "start_time": "2022-03-14T14:37:19.626Z"
   },
   {
    "duration": 1399,
    "start_time": "2022-03-14T14:41:57.438Z"
   },
   {
    "duration": 2210,
    "start_time": "2022-03-14T14:41:58.840Z"
   },
   {
    "duration": 30,
    "start_time": "2022-03-14T14:42:01.054Z"
   },
   {
    "duration": 14,
    "start_time": "2022-03-14T14:42:01.087Z"
   },
   {
    "duration": 41,
    "start_time": "2022-03-14T14:42:01.104Z"
   },
   {
    "duration": 27,
    "start_time": "2022-03-14T14:42:01.147Z"
   },
   {
    "duration": 25,
    "start_time": "2022-03-14T14:42:01.177Z"
   },
   {
    "duration": 91,
    "start_time": "2022-03-14T14:42:01.205Z"
   },
   {
    "duration": 220,
    "start_time": "2022-03-14T14:42:01.301Z"
   },
   {
    "duration": 36,
    "start_time": "2022-03-14T14:42:01.544Z"
   },
   {
    "duration": 11,
    "start_time": "2022-03-14T14:42:01.582Z"
   },
   {
    "duration": 152,
    "start_time": "2022-03-14T14:42:01.595Z"
   },
   {
    "duration": 75,
    "start_time": "2022-03-14T14:42:01.750Z"
   },
   {
    "duration": 15,
    "start_time": "2022-03-14T14:42:01.828Z"
   },
   {
    "duration": 493,
    "start_time": "2022-03-14T14:42:01.846Z"
   },
   {
    "duration": 1295,
    "start_time": "2022-03-14T14:42:01.047Z"
   },
   {
    "duration": 1293,
    "start_time": "2022-03-14T14:42:01.051Z"
   },
   {
    "duration": 1290,
    "start_time": "2022-03-14T14:42:01.056Z"
   },
   {
    "duration": 329,
    "start_time": "2022-03-14T14:50:41.003Z"
   },
   {
    "duration": 356,
    "start_time": "2022-03-14T14:51:05.812Z"
   },
   {
    "duration": 3,
    "start_time": "2022-03-14T14:53:17.581Z"
   },
   {
    "duration": 19,
    "start_time": "2022-03-14T14:53:22.887Z"
   },
   {
    "duration": 15,
    "start_time": "2022-03-14T14:53:53.097Z"
   },
   {
    "duration": 43,
    "start_time": "2022-03-14T14:54:15.779Z"
   },
   {
    "duration": 35,
    "start_time": "2022-03-14T15:04:45.350Z"
   },
   {
    "duration": 1351,
    "start_time": "2022-03-14T15:05:03.622Z"
   },
   {
    "duration": 643,
    "start_time": "2022-03-14T15:05:04.976Z"
   },
   {
    "duration": 26,
    "start_time": "2022-03-14T15:05:05.626Z"
   },
   {
    "duration": 15,
    "start_time": "2022-03-14T15:05:05.655Z"
   },
   {
    "duration": 19,
    "start_time": "2022-03-14T15:05:05.672Z"
   },
   {
    "duration": 20,
    "start_time": "2022-03-14T15:05:05.694Z"
   },
   {
    "duration": 12,
    "start_time": "2022-03-14T15:05:05.743Z"
   },
   {
    "duration": 95,
    "start_time": "2022-03-14T15:05:05.758Z"
   },
   {
    "duration": 219,
    "start_time": "2022-03-14T15:05:05.856Z"
   },
   {
    "duration": 35,
    "start_time": "2022-03-14T15:05:06.078Z"
   },
   {
    "duration": 33,
    "start_time": "2022-03-14T15:05:06.115Z"
   },
   {
    "duration": 117,
    "start_time": "2022-03-14T15:05:06.151Z"
   },
   {
    "duration": 81,
    "start_time": "2022-03-14T15:05:06.270Z"
   },
   {
    "duration": 6,
    "start_time": "2022-03-14T15:05:06.353Z"
   },
   {
    "duration": 10,
    "start_time": "2022-03-14T15:05:06.361Z"
   },
   {
    "duration": 45,
    "start_time": "2022-03-14T15:05:06.374Z"
   },
   {
    "duration": 596,
    "start_time": "2022-03-14T15:05:06.442Z"
   },
   {
    "duration": 26,
    "start_time": "2022-03-14T15:05:45.672Z"
   },
   {
    "duration": 34,
    "start_time": "2022-03-14T15:06:18.872Z"
   },
   {
    "duration": 17,
    "start_time": "2022-03-14T15:14:01.894Z"
   },
   {
    "duration": 13,
    "start_time": "2022-03-14T15:14:05.617Z"
   },
   {
    "duration": 15,
    "start_time": "2022-03-14T15:14:14.204Z"
   },
   {
    "duration": 13,
    "start_time": "2022-03-14T15:14:22.275Z"
   },
   {
    "duration": 29,
    "start_time": "2022-03-14T15:14:29.090Z"
   },
   {
    "duration": 29,
    "start_time": "2022-03-14T15:24:03.402Z"
   },
   {
    "duration": 34,
    "start_time": "2022-03-14T15:24:48.059Z"
   },
   {
    "duration": 26,
    "start_time": "2022-03-14T15:25:47.523Z"
   },
   {
    "duration": 50,
    "start_time": "2022-03-14T15:27:08.565Z"
   },
   {
    "duration": 57,
    "start_time": "2022-03-14T15:27:15.437Z"
   },
   {
    "duration": 104,
    "start_time": "2022-03-14T15:29:19.941Z"
   },
   {
    "duration": 363,
    "start_time": "2022-03-14T15:29:53.351Z"
   },
   {
    "duration": 55,
    "start_time": "2022-03-14T15:29:59.350Z"
   },
   {
    "duration": 53,
    "start_time": "2022-03-14T15:30:17.229Z"
   },
   {
    "duration": 59,
    "start_time": "2022-03-14T15:30:28.038Z"
   },
   {
    "duration": 88,
    "start_time": "2022-03-14T15:33:51.860Z"
   },
   {
    "duration": 562,
    "start_time": "2022-03-14T15:35:32.623Z"
   },
   {
    "duration": 67,
    "start_time": "2022-03-14T15:35:40.262Z"
   },
   {
    "duration": 69,
    "start_time": "2022-03-14T15:36:45.213Z"
   },
   {
    "duration": 63,
    "start_time": "2022-03-14T15:36:56.511Z"
   },
   {
    "duration": 68,
    "start_time": "2022-03-14T15:37:07.048Z"
   },
   {
    "duration": 59,
    "start_time": "2022-03-14T15:37:16.291Z"
   },
   {
    "duration": 1632,
    "start_time": "2022-03-14T15:40:36.435Z"
   },
   {
    "duration": 106,
    "start_time": "2022-03-14T15:42:37.707Z"
   },
   {
    "duration": 81,
    "start_time": "2022-03-14T15:43:06.959Z"
   },
   {
    "duration": 84,
    "start_time": "2022-03-14T15:44:04.255Z"
   },
   {
    "duration": 73,
    "start_time": "2022-03-14T15:44:37.651Z"
   },
   {
    "duration": 108,
    "start_time": "2022-03-14T15:45:43.237Z"
   },
   {
    "duration": 101,
    "start_time": "2022-03-14T15:45:53.015Z"
   },
   {
    "duration": 98,
    "start_time": "2022-03-14T15:46:59.882Z"
   },
   {
    "duration": 68,
    "start_time": "2022-03-14T15:47:13.902Z"
   },
   {
    "duration": 79,
    "start_time": "2022-03-14T15:48:05.024Z"
   },
   {
    "duration": 73,
    "start_time": "2022-03-14T15:48:14.862Z"
   },
   {
    "duration": 66,
    "start_time": "2022-03-14T15:48:41.530Z"
   },
   {
    "duration": 377,
    "start_time": "2022-03-14T15:56:15.085Z"
   },
   {
    "duration": 368,
    "start_time": "2022-03-14T15:56:44.657Z"
   },
   {
    "duration": 25,
    "start_time": "2022-03-14T16:00:54.505Z"
   },
   {
    "duration": 37,
    "start_time": "2022-03-14T16:01:01.167Z"
   },
   {
    "duration": 23,
    "start_time": "2022-03-14T16:01:40.749Z"
   },
   {
    "duration": 31,
    "start_time": "2022-03-14T16:02:11.960Z"
   },
   {
    "duration": 23,
    "start_time": "2022-03-14T16:06:24.134Z"
   },
   {
    "duration": 14,
    "start_time": "2022-03-14T16:06:28.684Z"
   },
   {
    "duration": 16,
    "start_time": "2022-03-14T16:06:32.768Z"
   },
   {
    "duration": 42,
    "start_time": "2022-03-14T16:06:39.142Z"
   },
   {
    "duration": 56,
    "start_time": "2022-03-14T16:07:23.220Z"
   },
   {
    "duration": 38,
    "start_time": "2022-03-14T16:07:25.535Z"
   },
   {
    "duration": 58,
    "start_time": "2022-03-14T16:07:37.381Z"
   },
   {
    "duration": 32,
    "start_time": "2022-03-14T16:09:24.860Z"
   },
   {
    "duration": 35,
    "start_time": "2022-03-14T16:09:25.274Z"
   },
   {
    "duration": 88,
    "start_time": "2022-03-14T16:19:54.917Z"
   },
   {
    "duration": 38,
    "start_time": "2022-03-14T16:19:58.741Z"
   },
   {
    "duration": 75,
    "start_time": "2022-03-14T16:20:15.065Z"
   },
   {
    "duration": 46,
    "start_time": "2022-03-14T16:23:42.254Z"
   },
   {
    "duration": 41,
    "start_time": "2022-03-14T16:23:44.575Z"
   },
   {
    "duration": 40,
    "start_time": "2022-03-14T16:24:13.149Z"
   },
   {
    "duration": 36,
    "start_time": "2022-03-14T16:24:13.807Z"
   },
   {
    "duration": 95,
    "start_time": "2022-03-14T16:24:25.972Z"
   },
   {
    "duration": 40,
    "start_time": "2022-03-14T16:24:26.939Z"
   },
   {
    "duration": 118,
    "start_time": "2022-03-14T16:24:47.001Z"
   },
   {
    "duration": 100,
    "start_time": "2022-03-14T16:25:01.021Z"
   },
   {
    "duration": 72,
    "start_time": "2022-03-14T16:25:17.994Z"
   },
   {
    "duration": 41,
    "start_time": "2022-03-14T16:25:26.365Z"
   },
   {
    "duration": 39,
    "start_time": "2022-03-14T16:25:30.968Z"
   },
   {
    "duration": 4,
    "start_time": "2022-03-14T16:25:33.871Z"
   },
   {
    "duration": 602,
    "start_time": "2022-03-14T16:25:33.879Z"
   },
   {
    "duration": 16,
    "start_time": "2022-03-14T16:25:34.484Z"
   },
   {
    "duration": 13,
    "start_time": "2022-03-14T16:25:34.503Z"
   },
   {
    "duration": 43,
    "start_time": "2022-03-14T16:25:34.519Z"
   },
   {
    "duration": 22,
    "start_time": "2022-03-14T16:25:34.565Z"
   },
   {
    "duration": 14,
    "start_time": "2022-03-14T16:25:34.590Z"
   },
   {
    "duration": 89,
    "start_time": "2022-03-14T16:25:34.606Z"
   },
   {
    "duration": 187,
    "start_time": "2022-03-14T16:25:34.699Z"
   },
   {
    "duration": 24,
    "start_time": "2022-03-14T16:25:34.889Z"
   },
   {
    "duration": 31,
    "start_time": "2022-03-14T16:25:34.916Z"
   },
   {
    "duration": 134,
    "start_time": "2022-03-14T16:25:34.950Z"
   },
   {
    "duration": 87,
    "start_time": "2022-03-14T16:25:35.087Z"
   },
   {
    "duration": 7,
    "start_time": "2022-03-14T16:25:35.179Z"
   },
   {
    "duration": 7,
    "start_time": "2022-03-14T16:25:35.189Z"
   },
   {
    "duration": 121,
    "start_time": "2022-03-14T16:25:35.199Z"
   },
   {
    "duration": 46,
    "start_time": "2022-03-14T16:25:35.323Z"
   },
   {
    "duration": 44,
    "start_time": "2022-03-14T16:25:35.373Z"
   },
   {
    "duration": 68,
    "start_time": "2022-03-14T16:25:35.420Z"
   },
   {
    "duration": 331,
    "start_time": "2022-03-14T16:32:54.005Z"
   },
   {
    "duration": 78,
    "start_time": "2022-03-14T16:34:32.020Z"
   },
   {
    "duration": 18,
    "start_time": "2022-03-14T16:34:49.569Z"
   },
   {
    "duration": 38,
    "start_time": "2022-03-14T16:34:56.654Z"
   },
   {
    "duration": 3,
    "start_time": "2022-03-14T16:36:07.734Z"
   },
   {
    "duration": 537,
    "start_time": "2022-03-14T16:36:07.740Z"
   },
   {
    "duration": 18,
    "start_time": "2022-03-14T16:36:08.280Z"
   },
   {
    "duration": 14,
    "start_time": "2022-03-14T16:36:08.301Z"
   },
   {
    "duration": 28,
    "start_time": "2022-03-14T16:36:08.318Z"
   },
   {
    "duration": 12,
    "start_time": "2022-03-14T16:36:08.348Z"
   },
   {
    "duration": 16,
    "start_time": "2022-03-14T16:36:08.362Z"
   },
   {
    "duration": 105,
    "start_time": "2022-03-14T16:36:08.381Z"
   },
   {
    "duration": 174,
    "start_time": "2022-03-14T16:36:08.489Z"
   },
   {
    "duration": 26,
    "start_time": "2022-03-14T16:36:08.666Z"
   },
   {
    "duration": 15,
    "start_time": "2022-03-14T16:36:08.694Z"
   },
   {
    "duration": 161,
    "start_time": "2022-03-14T16:36:08.712Z"
   },
   {
    "duration": 99,
    "start_time": "2022-03-14T16:36:08.876Z"
   },
   {
    "duration": 6,
    "start_time": "2022-03-14T16:36:08.978Z"
   },
   {
    "duration": 13,
    "start_time": "2022-03-14T16:36:08.987Z"
   },
   {
    "duration": 99,
    "start_time": "2022-03-14T16:36:09.003Z"
   },
   {
    "duration": 20,
    "start_time": "2022-03-14T16:36:15.813Z"
   },
   {
    "duration": 12,
    "start_time": "2022-03-14T16:36:19.600Z"
   },
   {
    "duration": 37,
    "start_time": "2022-03-14T16:36:23.845Z"
   },
   {
    "duration": 4,
    "start_time": "2022-03-14T16:37:29.060Z"
   },
   {
    "duration": 515,
    "start_time": "2022-03-14T16:37:29.067Z"
   },
   {
    "duration": 16,
    "start_time": "2022-03-14T16:37:29.585Z"
   },
   {
    "duration": 16,
    "start_time": "2022-03-14T16:37:29.603Z"
   },
   {
    "duration": 22,
    "start_time": "2022-03-14T16:37:29.622Z"
   },
   {
    "duration": 10,
    "start_time": "2022-03-14T16:37:29.646Z"
   },
   {
    "duration": 13,
    "start_time": "2022-03-14T16:37:29.659Z"
   },
   {
    "duration": 109,
    "start_time": "2022-03-14T16:37:29.674Z"
   },
   {
    "duration": 210,
    "start_time": "2022-03-14T16:37:29.785Z"
   },
   {
    "duration": 57,
    "start_time": "2022-03-14T16:37:29.998Z"
   },
   {
    "duration": 10,
    "start_time": "2022-03-14T16:37:30.058Z"
   },
   {
    "duration": 108,
    "start_time": "2022-03-14T16:37:30.071Z"
   },
   {
    "duration": 82,
    "start_time": "2022-03-14T16:37:30.182Z"
   },
   {
    "duration": 7,
    "start_time": "2022-03-14T16:37:30.268Z"
   },
   {
    "duration": 6,
    "start_time": "2022-03-14T16:37:30.278Z"
   },
   {
    "duration": 117,
    "start_time": "2022-03-14T16:37:30.286Z"
   },
   {
    "duration": 22,
    "start_time": "2022-03-14T16:37:34.498Z"
   },
   {
    "duration": 11,
    "start_time": "2022-03-14T16:37:49.370Z"
   },
   {
    "duration": 33,
    "start_time": "2022-03-14T16:37:50.825Z"
   },
   {
    "duration": 323,
    "start_time": "2022-03-14T16:38:39.807Z"
   },
   {
    "duration": 39,
    "start_time": "2022-03-14T16:39:36.144Z"
   },
   {
    "duration": 55,
    "start_time": "2022-03-14T16:39:38.981Z"
   },
   {
    "duration": 123,
    "start_time": "2022-03-14T16:40:45.735Z"
   },
   {
    "duration": 353,
    "start_time": "2022-03-14T16:40:46.791Z"
   },
   {
    "duration": 4,
    "start_time": "2022-03-14T16:41:02.703Z"
   },
   {
    "duration": 555,
    "start_time": "2022-03-14T16:41:02.710Z"
   },
   {
    "duration": 23,
    "start_time": "2022-03-14T16:41:03.269Z"
   },
   {
    "duration": 27,
    "start_time": "2022-03-14T16:41:03.295Z"
   },
   {
    "duration": 31,
    "start_time": "2022-03-14T16:41:03.325Z"
   },
   {
    "duration": 22,
    "start_time": "2022-03-14T16:41:03.359Z"
   },
   {
    "duration": 34,
    "start_time": "2022-03-14T16:41:03.383Z"
   },
   {
    "duration": 85,
    "start_time": "2022-03-14T16:41:03.421Z"
   },
   {
    "duration": 222,
    "start_time": "2022-03-14T16:41:03.509Z"
   },
   {
    "duration": 33,
    "start_time": "2022-03-14T16:41:03.733Z"
   },
   {
    "duration": 12,
    "start_time": "2022-03-14T16:41:03.769Z"
   },
   {
    "duration": 125,
    "start_time": "2022-03-14T16:41:03.784Z"
   },
   {
    "duration": 80,
    "start_time": "2022-03-14T16:41:03.912Z"
   },
   {
    "duration": 5,
    "start_time": "2022-03-14T16:41:03.994Z"
   },
   {
    "duration": 12,
    "start_time": "2022-03-14T16:41:04.002Z"
   },
   {
    "duration": 84,
    "start_time": "2022-03-14T16:41:04.017Z"
   },
   {
    "duration": 29,
    "start_time": "2022-03-14T16:41:06.643Z"
   },
   {
    "duration": 35,
    "start_time": "2022-03-14T16:41:07.399Z"
   },
   {
    "duration": 56,
    "start_time": "2022-03-14T16:41:28.412Z"
   },
   {
    "duration": 44,
    "start_time": "2022-03-14T16:41:51.577Z"
   },
   {
    "duration": 456,
    "start_time": "2022-03-14T16:48:09.729Z"
   },
   {
    "duration": 296,
    "start_time": "2022-03-14T16:48:12.201Z"
   },
   {
    "duration": 297,
    "start_time": "2022-03-14T16:48:26.384Z"
   },
   {
    "duration": 309,
    "start_time": "2022-03-14T16:48:30.861Z"
   },
   {
    "duration": 11,
    "start_time": "2022-03-14T16:48:33.180Z"
   },
   {
    "duration": 5,
    "start_time": "2022-03-14T17:30:26.627Z"
   },
   {
    "duration": 12,
    "start_time": "2022-03-14T17:30:34.910Z"
   },
   {
    "duration": 4,
    "start_time": "2022-03-14T17:46:10.119Z"
   },
   {
    "duration": 553,
    "start_time": "2022-03-14T17:46:10.126Z"
   },
   {
    "duration": 17,
    "start_time": "2022-03-14T17:46:10.683Z"
   },
   {
    "duration": 14,
    "start_time": "2022-03-14T17:46:10.703Z"
   },
   {
    "duration": 26,
    "start_time": "2022-03-14T17:46:10.720Z"
   },
   {
    "duration": 16,
    "start_time": "2022-03-14T17:46:10.749Z"
   },
   {
    "duration": 11,
    "start_time": "2022-03-14T17:46:10.768Z"
   },
   {
    "duration": 107,
    "start_time": "2022-03-14T17:46:10.782Z"
   },
   {
    "duration": 174,
    "start_time": "2022-03-14T17:46:10.892Z"
   },
   {
    "duration": 36,
    "start_time": "2022-03-14T17:46:11.069Z"
   },
   {
    "duration": 35,
    "start_time": "2022-03-14T17:46:11.108Z"
   },
   {
    "duration": 22,
    "start_time": "2022-03-14T17:46:11.146Z"
   },
   {
    "duration": 107,
    "start_time": "2022-03-14T17:46:11.171Z"
   },
   {
    "duration": 83,
    "start_time": "2022-03-14T17:46:11.280Z"
   },
   {
    "duration": 5,
    "start_time": "2022-03-14T17:46:11.365Z"
   },
   {
    "duration": 5,
    "start_time": "2022-03-14T17:46:11.373Z"
   },
   {
    "duration": 80,
    "start_time": "2022-03-14T17:46:11.380Z"
   },
   {
    "duration": 29,
    "start_time": "2022-03-14T17:46:11.463Z"
   },
   {
    "duration": 48,
    "start_time": "2022-03-14T17:46:11.495Z"
   },
   {
    "duration": 12,
    "start_time": "2022-03-14T17:46:40.410Z"
   },
   {
    "duration": 4,
    "start_time": "2022-03-14T17:47:08.940Z"
   },
   {
    "duration": 717,
    "start_time": "2022-03-14T17:47:08.947Z"
   },
   {
    "duration": 21,
    "start_time": "2022-03-14T17:47:09.668Z"
   },
   {
    "duration": 19,
    "start_time": "2022-03-14T17:47:09.693Z"
   },
   {
    "duration": 32,
    "start_time": "2022-03-14T17:47:09.715Z"
   },
   {
    "duration": 14,
    "start_time": "2022-03-14T17:47:09.750Z"
   },
   {
    "duration": 16,
    "start_time": "2022-03-14T17:47:09.767Z"
   },
   {
    "duration": 138,
    "start_time": "2022-03-14T17:47:09.788Z"
   },
   {
    "duration": 225,
    "start_time": "2022-03-14T17:47:09.930Z"
   },
   {
    "duration": 35,
    "start_time": "2022-03-14T17:47:10.157Z"
   },
   {
    "duration": 11,
    "start_time": "2022-03-14T17:47:10.195Z"
   },
   {
    "duration": 7,
    "start_time": "2022-03-14T17:47:10.209Z"
   },
   {
    "duration": 128,
    "start_time": "2022-03-14T17:47:13.909Z"
   },
   {
    "duration": 86,
    "start_time": "2022-03-14T17:47:14.446Z"
   },
   {
    "duration": 6,
    "start_time": "2022-03-14T17:47:14.978Z"
   },
   {
    "duration": 4,
    "start_time": "2022-03-14T17:47:15.474Z"
   },
   {
    "duration": 66,
    "start_time": "2022-03-14T17:47:15.942Z"
   },
   {
    "duration": 56,
    "start_time": "2022-03-14T17:47:25.964Z"
   },
   {
    "duration": 27,
    "start_time": "2022-03-14T17:47:27.594Z"
   },
   {
    "duration": 31,
    "start_time": "2022-03-14T17:47:29.164Z"
   },
   {
    "duration": 12,
    "start_time": "2022-03-14T17:47:32.072Z"
   },
   {
    "duration": 642,
    "start_time": "2022-03-14T17:56:31.725Z"
   },
   {
    "duration": 644,
    "start_time": "2022-03-14T17:56:52.524Z"
   },
   {
    "duration": 853,
    "start_time": "2022-03-14T17:57:20.679Z"
   },
   {
    "duration": 32,
    "start_time": "2022-03-14T17:59:01.097Z"
   },
   {
    "duration": 10,
    "start_time": "2022-03-14T18:00:24.639Z"
   },
   {
    "duration": 1025,
    "start_time": "2022-03-14T18:00:29.410Z"
   },
   {
    "duration": 7,
    "start_time": "2022-03-14T18:01:54.731Z"
   },
   {
    "duration": 666,
    "start_time": "2022-03-14T18:01:56.891Z"
   },
   {
    "duration": 20,
    "start_time": "2022-03-14T18:02:58.836Z"
   },
   {
    "duration": 6,
    "start_time": "2022-03-14T18:09:54.878Z"
   },
   {
    "duration": 657,
    "start_time": "2022-03-14T18:09:58.000Z"
   },
   {
    "duration": 9831,
    "start_time": "2022-03-14T18:10:37.068Z"
   },
   {
    "duration": 10,
    "start_time": "2022-03-14T18:16:55.915Z"
   },
   {
    "duration": 643,
    "start_time": "2022-03-14T18:17:02.036Z"
   },
   {
    "duration": 6,
    "start_time": "2022-03-14T18:17:31.456Z"
   },
   {
    "duration": 633,
    "start_time": "2022-03-14T18:17:33.688Z"
   },
   {
    "duration": 301,
    "start_time": "2022-03-14T18:21:33.430Z"
   },
   {
    "duration": 10,
    "start_time": "2022-03-14T18:23:10.269Z"
   },
   {
    "duration": 633,
    "start_time": "2022-03-14T18:23:15.056Z"
   },
   {
    "duration": 313,
    "start_time": "2022-03-14T18:24:22.212Z"
   },
   {
    "duration": 316,
    "start_time": "2022-03-14T18:24:37.766Z"
   },
   {
    "duration": 349,
    "start_time": "2022-03-14T18:25:30.907Z"
   },
   {
    "duration": 7696,
    "start_time": "2022-03-14T18:25:59.111Z"
   },
   {
    "duration": 4,
    "start_time": "2022-03-14T18:26:19.414Z"
   },
   {
    "duration": 516,
    "start_time": "2022-03-14T18:26:19.420Z"
   },
   {
    "duration": 18,
    "start_time": "2022-03-14T18:26:19.939Z"
   },
   {
    "duration": 13,
    "start_time": "2022-03-14T18:26:19.960Z"
   },
   {
    "duration": 17,
    "start_time": "2022-03-14T18:26:19.975Z"
   },
   {
    "duration": 11,
    "start_time": "2022-03-14T18:26:19.995Z"
   },
   {
    "duration": 39,
    "start_time": "2022-03-14T18:26:20.008Z"
   },
   {
    "duration": 72,
    "start_time": "2022-03-14T18:26:20.049Z"
   },
   {
    "duration": 155,
    "start_time": "2022-03-14T18:26:20.145Z"
   },
   {
    "duration": 41,
    "start_time": "2022-03-14T18:26:20.302Z"
   },
   {
    "duration": 9,
    "start_time": "2022-03-14T18:26:20.345Z"
   },
   {
    "duration": 9,
    "start_time": "2022-03-14T18:26:20.356Z"
   },
   {
    "duration": 165,
    "start_time": "2022-03-14T18:26:20.367Z"
   },
   {
    "duration": 93,
    "start_time": "2022-03-14T18:26:20.535Z"
   },
   {
    "duration": 15,
    "start_time": "2022-03-14T18:26:20.632Z"
   },
   {
    "duration": 118,
    "start_time": "2022-03-14T18:26:20.650Z"
   },
   {
    "duration": 28,
    "start_time": "2022-03-14T18:26:27.492Z"
   },
   {
    "duration": 32,
    "start_time": "2022-03-14T18:26:28.704Z"
   },
   {
    "duration": 49,
    "start_time": "2022-03-14T18:26:34.602Z"
   },
   {
    "duration": 6,
    "start_time": "2022-03-14T18:29:55.651Z"
   },
   {
    "duration": 9661,
    "start_time": "2022-03-14T18:29:56.939Z"
   },
   {
    "duration": 14,
    "start_time": "2022-03-14T18:31:15.959Z"
   },
   {
    "duration": 30,
    "start_time": "2022-03-14T18:31:46.489Z"
   },
   {
    "duration": 44,
    "start_time": "2022-03-14T18:32:14.773Z"
   },
   {
    "duration": 260,
    "start_time": "2022-03-14T18:32:22.817Z"
   },
   {
    "duration": 204,
    "start_time": "2022-03-14T18:32:24.607Z"
   },
   {
    "duration": 6302,
    "start_time": "2022-03-14T18:32:52.985Z"
   },
   {
    "duration": 2487,
    "start_time": "2022-03-14T18:33:00.900Z"
   },
   {
    "duration": 3,
    "start_time": "2022-03-14T18:33:08.538Z"
   },
   {
    "duration": 510,
    "start_time": "2022-03-14T18:33:08.545Z"
   },
   {
    "duration": 18,
    "start_time": "2022-03-14T18:33:09.058Z"
   },
   {
    "duration": 14,
    "start_time": "2022-03-14T18:33:09.080Z"
   },
   {
    "duration": 13,
    "start_time": "2022-03-14T18:33:09.097Z"
   },
   {
    "duration": 40,
    "start_time": "2022-03-14T18:33:09.113Z"
   },
   {
    "duration": 24,
    "start_time": "2022-03-14T18:33:09.156Z"
   },
   {
    "duration": 93,
    "start_time": "2022-03-14T18:33:09.183Z"
   },
   {
    "duration": 167,
    "start_time": "2022-03-14T18:33:09.282Z"
   },
   {
    "duration": 25,
    "start_time": "2022-03-14T18:33:09.452Z"
   },
   {
    "duration": 12,
    "start_time": "2022-03-14T18:33:09.479Z"
   },
   {
    "duration": 7,
    "start_time": "2022-03-14T18:33:09.493Z"
   },
   {
    "duration": 121,
    "start_time": "2022-03-14T18:33:09.503Z"
   },
   {
    "duration": 80,
    "start_time": "2022-03-14T18:33:09.627Z"
   },
   {
    "duration": 4,
    "start_time": "2022-03-14T18:33:09.710Z"
   },
   {
    "duration": 81,
    "start_time": "2022-03-14T18:33:09.717Z"
   },
   {
    "duration": 47,
    "start_time": "2022-03-14T18:33:09.800Z"
   },
   {
    "duration": 41,
    "start_time": "2022-03-14T18:33:09.849Z"
   },
   {
    "duration": 12,
    "start_time": "2022-03-14T18:33:09.892Z"
   },
   {
    "duration": 6,
    "start_time": "2022-03-14T18:33:09.906Z"
   },
   {
    "duration": 392,
    "start_time": "2022-03-14T18:33:09.943Z"
   },
   {
    "duration": 55,
    "start_time": "2022-03-14T18:33:10.337Z"
   },
   {
    "duration": 3,
    "start_time": "2022-03-14T18:33:27.407Z"
   },
   {
    "duration": 541,
    "start_time": "2022-03-14T18:33:27.413Z"
   },
   {
    "duration": 16,
    "start_time": "2022-03-14T18:33:27.958Z"
   },
   {
    "duration": 11,
    "start_time": "2022-03-14T18:33:27.977Z"
   },
   {
    "duration": 13,
    "start_time": "2022-03-14T18:33:27.991Z"
   },
   {
    "duration": 48,
    "start_time": "2022-03-14T18:33:28.006Z"
   },
   {
    "duration": 15,
    "start_time": "2022-03-14T18:33:28.057Z"
   },
   {
    "duration": 112,
    "start_time": "2022-03-14T18:33:28.075Z"
   },
   {
    "duration": 179,
    "start_time": "2022-03-14T18:33:28.190Z"
   },
   {
    "duration": 39,
    "start_time": "2022-03-14T18:33:28.373Z"
   },
   {
    "duration": 35,
    "start_time": "2022-03-14T18:33:28.415Z"
   },
   {
    "duration": 8,
    "start_time": "2022-03-14T18:33:28.453Z"
   },
   {
    "duration": 143,
    "start_time": "2022-03-14T18:33:28.464Z"
   },
   {
    "duration": 82,
    "start_time": "2022-03-14T18:33:28.610Z"
   },
   {
    "duration": 5,
    "start_time": "2022-03-14T18:33:28.695Z"
   },
   {
    "duration": 95,
    "start_time": "2022-03-14T18:33:28.705Z"
   },
   {
    "duration": 34,
    "start_time": "2022-03-14T18:33:28.802Z"
   },
   {
    "duration": 58,
    "start_time": "2022-03-14T18:33:28.839Z"
   },
   {
    "duration": 14,
    "start_time": "2022-03-14T18:33:28.899Z"
   },
   {
    "duration": 31,
    "start_time": "2022-03-14T18:33:28.916Z"
   },
   {
    "duration": 314,
    "start_time": "2022-03-14T18:33:28.949Z"
   },
   {
    "duration": 51,
    "start_time": "2022-03-14T18:33:29.266Z"
   },
   {
    "duration": 1633,
    "start_time": "2022-03-14T18:36:11.110Z"
   },
   {
    "duration": 550,
    "start_time": "2022-03-14T18:36:12.746Z"
   },
   {
    "duration": 26,
    "start_time": "2022-03-14T18:36:13.299Z"
   },
   {
    "duration": 15,
    "start_time": "2022-03-14T18:36:13.327Z"
   },
   {
    "duration": 17,
    "start_time": "2022-03-14T18:36:13.344Z"
   },
   {
    "duration": 12,
    "start_time": "2022-03-14T18:36:13.363Z"
   },
   {
    "duration": 13,
    "start_time": "2022-03-14T18:36:13.377Z"
   },
   {
    "duration": 94,
    "start_time": "2022-03-14T18:36:13.392Z"
   },
   {
    "duration": 187,
    "start_time": "2022-03-14T18:36:13.490Z"
   },
   {
    "duration": 36,
    "start_time": "2022-03-14T18:36:13.680Z"
   },
   {
    "duration": 10,
    "start_time": "2022-03-14T18:36:13.742Z"
   },
   {
    "duration": 10,
    "start_time": "2022-03-14T18:36:13.755Z"
   },
   {
    "duration": 113,
    "start_time": "2022-03-14T18:36:13.767Z"
   },
   {
    "duration": 80,
    "start_time": "2022-03-14T18:36:13.882Z"
   },
   {
    "duration": 6,
    "start_time": "2022-03-14T18:36:13.965Z"
   },
   {
    "duration": 90,
    "start_time": "2022-03-14T18:36:13.973Z"
   },
   {
    "duration": 32,
    "start_time": "2022-03-14T18:36:14.065Z"
   },
   {
    "duration": 71,
    "start_time": "2022-03-14T18:36:14.100Z"
   },
   {
    "duration": 8,
    "start_time": "2022-03-14T18:36:14.173Z"
   },
   {
    "duration": 426,
    "start_time": "2022-03-14T18:36:14.183Z"
   },
   {
    "duration": 506,
    "start_time": "2022-03-14T18:59:29.286Z"
   },
   {
    "duration": 576,
    "start_time": "2022-03-14T18:59:41.463Z"
   },
   {
    "duration": 364,
    "start_time": "2022-03-14T18:59:45.381Z"
   },
   {
    "duration": 9,
    "start_time": "2022-03-14T19:30:06.121Z"
   },
   {
    "duration": 362,
    "start_time": "2022-03-14T19:30:10.674Z"
   },
   {
    "duration": 56,
    "start_time": "2022-03-14T19:30:29.707Z"
   },
   {
    "duration": 13,
    "start_time": "2022-03-14T19:31:09.177Z"
   },
   {
    "duration": 336,
    "start_time": "2022-03-14T19:31:59.480Z"
   },
   {
    "duration": 373,
    "start_time": "2022-03-14T19:32:09.974Z"
   },
   {
    "duration": 354,
    "start_time": "2022-03-14T19:32:14.057Z"
   },
   {
    "duration": 411,
    "start_time": "2022-03-14T19:32:19.637Z"
   },
   {
    "duration": 363,
    "start_time": "2022-03-14T19:33:10.505Z"
   },
   {
    "duration": 388,
    "start_time": "2022-03-14T19:33:37.125Z"
   },
   {
    "duration": 430,
    "start_time": "2022-03-14T19:39:38.386Z"
   },
   {
    "duration": 324,
    "start_time": "2022-03-14T19:39:51.603Z"
   },
   {
    "duration": 307,
    "start_time": "2022-03-14T19:40:03.870Z"
   },
   {
    "duration": 315,
    "start_time": "2022-03-14T19:53:46.328Z"
   },
   {
    "duration": 126,
    "start_time": "2022-03-14T19:54:40.735Z"
   },
   {
    "duration": 642,
    "start_time": "2022-03-14T19:54:55.524Z"
   },
   {
    "duration": 75,
    "start_time": "2022-03-14T19:55:29.485Z"
   },
   {
    "duration": 672,
    "start_time": "2022-03-14T19:58:42.113Z"
   },
   {
    "duration": 554,
    "start_time": "2022-03-14T19:58:57.989Z"
   },
   {
    "duration": 4,
    "start_time": "2022-03-14T19:59:41.991Z"
   },
   {
    "duration": 539,
    "start_time": "2022-03-14T19:59:48.965Z"
   },
   {
    "duration": 926,
    "start_time": "2022-03-14T20:01:25.708Z"
   },
   {
    "duration": 975,
    "start_time": "2022-03-14T20:01:46.620Z"
   },
   {
    "duration": 656,
    "start_time": "2022-03-14T20:01:57.575Z"
   },
   {
    "duration": 744,
    "start_time": "2022-03-14T20:02:04.528Z"
   },
   {
    "duration": 695,
    "start_time": "2022-03-14T20:02:26.258Z"
   },
   {
    "duration": 963,
    "start_time": "2022-03-14T20:02:30.302Z"
   },
   {
    "duration": 1115,
    "start_time": "2022-03-14T20:02:42.720Z"
   },
   {
    "duration": 747,
    "start_time": "2022-03-14T20:03:22.799Z"
   },
   {
    "duration": 643,
    "start_time": "2022-03-14T20:03:28.056Z"
   },
   {
    "duration": 757,
    "start_time": "2022-03-14T20:03:45.512Z"
   },
   {
    "duration": 615,
    "start_time": "2022-03-14T20:04:13.701Z"
   },
   {
    "duration": 672,
    "start_time": "2022-03-14T20:04:28.871Z"
   },
   {
    "duration": 637,
    "start_time": "2022-03-14T20:04:47.260Z"
   },
   {
    "duration": 691,
    "start_time": "2022-03-14T20:04:56.237Z"
   },
   {
    "duration": 52,
    "start_time": "2022-03-14T20:07:26.708Z"
   },
   {
    "duration": 60,
    "start_time": "2022-03-14T20:07:49.432Z"
   },
   {
    "duration": 531,
    "start_time": "2022-03-14T20:10:26.529Z"
   },
   {
    "duration": 542,
    "start_time": "2022-03-14T20:10:51.381Z"
   },
   {
    "duration": 477,
    "start_time": "2022-03-14T20:11:02.096Z"
   },
   {
    "duration": 700,
    "start_time": "2022-03-14T20:12:01.473Z"
   },
   {
    "duration": 739,
    "start_time": "2022-03-14T20:12:26.490Z"
   },
   {
    "duration": 1495,
    "start_time": "2022-03-14T20:12:46.475Z"
   },
   {
    "duration": 1410,
    "start_time": "2022-03-14T20:13:21.105Z"
   },
   {
    "duration": 303,
    "start_time": "2022-03-15T09:46:40.385Z"
   },
   {
    "duration": 1373,
    "start_time": "2022-03-15T09:46:52.401Z"
   },
   {
    "duration": 500,
    "start_time": "2022-03-15T09:46:53.776Z"
   },
   {
    "duration": 20,
    "start_time": "2022-03-15T09:46:54.279Z"
   },
   {
    "duration": 13,
    "start_time": "2022-03-15T09:46:54.302Z"
   },
   {
    "duration": 24,
    "start_time": "2022-03-15T09:46:54.317Z"
   },
   {
    "duration": 10,
    "start_time": "2022-03-15T09:46:54.343Z"
   },
   {
    "duration": 39,
    "start_time": "2022-03-15T09:46:54.356Z"
   },
   {
    "duration": 67,
    "start_time": "2022-03-15T09:46:54.400Z"
   },
   {
    "duration": 161,
    "start_time": "2022-03-15T09:46:54.487Z"
   },
   {
    "duration": 38,
    "start_time": "2022-03-15T09:46:54.651Z"
   },
   {
    "duration": 17,
    "start_time": "2022-03-15T09:46:54.692Z"
   },
   {
    "duration": 13,
    "start_time": "2022-03-15T09:46:54.711Z"
   },
   {
    "duration": 124,
    "start_time": "2022-03-15T09:46:54.726Z"
   },
   {
    "duration": 80,
    "start_time": "2022-03-15T09:46:54.852Z"
   },
   {
    "duration": 5,
    "start_time": "2022-03-15T09:46:54.935Z"
   },
   {
    "duration": 91,
    "start_time": "2022-03-15T09:46:54.942Z"
   },
   {
    "duration": 33,
    "start_time": "2022-03-15T09:46:55.035Z"
   },
   {
    "duration": 52,
    "start_time": "2022-03-15T09:46:55.071Z"
   },
   {
    "duration": 6,
    "start_time": "2022-03-15T09:46:55.126Z"
   },
   {
    "duration": 313,
    "start_time": "2022-03-15T09:46:55.134Z"
   },
   {
    "duration": 14,
    "start_time": "2022-03-15T09:46:55.449Z"
   },
   {
    "duration": 771,
    "start_time": "2022-03-15T09:46:55.465Z"
   },
   {
    "duration": 782,
    "start_time": "2022-03-15T09:46:56.240Z"
   },
   {
    "duration": 730,
    "start_time": "2022-03-15T09:46:57.025Z"
   },
   {
    "duration": 53,
    "start_time": "2022-03-15T09:46:57.757Z"
   },
   {
    "duration": 1389,
    "start_time": "2022-03-15T09:46:57.812Z"
   },
   {
    "duration": 793,
    "start_time": "2022-03-15T09:47:08.503Z"
   },
   {
    "duration": 711,
    "start_time": "2022-03-15T09:49:21.649Z"
   },
   {
    "duration": 607,
    "start_time": "2022-03-15T09:49:39.226Z"
   },
   {
    "duration": 721,
    "start_time": "2022-03-15T09:50:06.561Z"
   },
   {
    "duration": 686,
    "start_time": "2022-03-15T09:52:54.953Z"
   },
   {
    "duration": 701,
    "start_time": "2022-03-15T09:53:05.538Z"
   },
   {
    "duration": 757,
    "start_time": "2022-03-15T09:53:10.924Z"
   },
   {
    "duration": 245,
    "start_time": "2022-03-15T10:06:32.083Z"
   },
   {
    "duration": 221,
    "start_time": "2022-03-15T10:06:54.307Z"
   },
   {
    "duration": 255,
    "start_time": "2022-03-15T10:07:36.207Z"
   },
   {
    "duration": 212,
    "start_time": "2022-03-15T10:07:47.012Z"
   },
   {
    "duration": 219,
    "start_time": "2022-03-15T10:08:32.420Z"
   },
   {
    "duration": 684,
    "start_time": "2022-03-15T10:15:44.351Z"
   },
   {
    "duration": 698,
    "start_time": "2022-03-15T10:15:55.484Z"
   },
   {
    "duration": 822,
    "start_time": "2022-03-15T10:17:12.684Z"
   },
   {
    "duration": 651,
    "start_time": "2022-03-15T10:17:19.906Z"
   },
   {
    "duration": 999,
    "start_time": "2022-03-16T09:47:58.326Z"
   },
   {
    "duration": 406,
    "start_time": "2022-03-16T09:47:59.327Z"
   },
   {
    "duration": 12,
    "start_time": "2022-03-16T09:47:59.735Z"
   },
   {
    "duration": 8,
    "start_time": "2022-03-16T09:47:59.748Z"
   },
   {
    "duration": 8,
    "start_time": "2022-03-16T09:47:59.757Z"
   },
   {
    "duration": 7,
    "start_time": "2022-03-16T09:47:59.767Z"
   },
   {
    "duration": 9,
    "start_time": "2022-03-16T09:47:59.775Z"
   },
   {
    "duration": 57,
    "start_time": "2022-03-16T09:47:59.785Z"
   },
   {
    "duration": 100,
    "start_time": "2022-03-16T09:47:59.845Z"
   },
   {
    "duration": 15,
    "start_time": "2022-03-16T09:47:59.947Z"
   },
   {
    "duration": 7,
    "start_time": "2022-03-16T09:47:59.964Z"
   },
   {
    "duration": 35,
    "start_time": "2022-03-16T09:47:59.972Z"
   },
   {
    "duration": 67,
    "start_time": "2022-03-16T09:48:00.008Z"
   },
   {
    "duration": 55,
    "start_time": "2022-03-16T09:48:00.077Z"
   },
   {
    "duration": 4,
    "start_time": "2022-03-16T09:48:00.134Z"
   },
   {
    "duration": 61,
    "start_time": "2022-03-16T09:48:00.140Z"
   },
   {
    "duration": 19,
    "start_time": "2022-03-16T09:48:00.202Z"
   },
   {
    "duration": 22,
    "start_time": "2022-03-16T09:48:00.223Z"
   },
   {
    "duration": 4,
    "start_time": "2022-03-16T09:48:00.246Z"
   },
   {
    "duration": 175,
    "start_time": "2022-03-16T09:48:00.251Z"
   },
   {
    "duration": 9,
    "start_time": "2022-03-16T09:48:00.427Z"
   },
   {
    "duration": 473,
    "start_time": "2022-03-16T09:48:00.437Z"
   },
   {
    "duration": 339,
    "start_time": "2022-03-16T09:48:00.912Z"
   },
   {
    "duration": 372,
    "start_time": "2022-03-16T09:48:01.253Z"
   },
   {
    "duration": 389,
    "start_time": "2022-03-16T09:48:01.626Z"
   },
   {
    "duration": 26,
    "start_time": "2022-03-16T09:48:02.016Z"
   },
   {
    "duration": 888,
    "start_time": "2022-03-16T09:48:02.044Z"
   },
   {
    "duration": 113,
    "start_time": "2022-03-16T09:48:02.933Z"
   },
   {
    "duration": 183,
    "start_time": "2022-03-16T09:50:08.216Z"
   },
   {
    "duration": 304,
    "start_time": "2022-03-16T09:50:25.600Z"
   },
   {
    "duration": 233,
    "start_time": "2022-03-16T09:50:32.453Z"
   },
   {
    "duration": 197,
    "start_time": "2022-03-16T09:50:35.499Z"
   },
   {
    "duration": 213,
    "start_time": "2022-03-16T09:50:40.683Z"
   },
   {
    "duration": 29,
    "start_time": "2022-03-16T09:53:05.746Z"
   },
   {
    "duration": 21,
    "start_time": "2022-03-16T09:53:20.458Z"
   },
   {
    "duration": 25,
    "start_time": "2022-03-16T09:53:45.110Z"
   },
   {
    "duration": 5,
    "start_time": "2022-03-16T10:04:50.970Z"
   },
   {
    "duration": 7,
    "start_time": "2022-03-16T10:05:22.502Z"
   },
   {
    "duration": 4,
    "start_time": "2022-03-16T10:06:45.951Z"
   },
   {
    "duration": 6,
    "start_time": "2022-03-16T10:22:09.648Z"
   },
   {
    "duration": 4,
    "start_time": "2022-03-16T10:25:13.650Z"
   },
   {
    "duration": 4,
    "start_time": "2022-03-16T10:25:22.667Z"
   },
   {
    "duration": 406,
    "start_time": "2022-03-16T10:32:53.566Z"
   },
   {
    "duration": 4,
    "start_time": "2022-03-16T10:34:06.988Z"
   },
   {
    "duration": 5,
    "start_time": "2022-03-16T10:35:34.899Z"
   },
   {
    "duration": 5,
    "start_time": "2022-03-16T10:35:41.949Z"
   },
   {
    "duration": 5,
    "start_time": "2022-03-16T10:35:54.299Z"
   },
   {
    "duration": 6,
    "start_time": "2022-03-16T10:36:03.247Z"
   },
   {
    "duration": 5,
    "start_time": "2022-03-16T10:36:15.168Z"
   },
   {
    "duration": 339,
    "start_time": "2022-03-16T10:36:37.058Z"
   },
   {
    "duration": 321,
    "start_time": "2022-03-16T10:36:45.460Z"
   },
   {
    "duration": 318,
    "start_time": "2022-03-16T10:37:01.446Z"
   },
   {
    "duration": 6,
    "start_time": "2022-03-16T10:37:11.731Z"
   },
   {
    "duration": 5,
    "start_time": "2022-03-16T10:37:21.570Z"
   },
   {
    "duration": 5,
    "start_time": "2022-03-16T10:45:41.586Z"
   },
   {
    "duration": 5,
    "start_time": "2022-03-16T10:45:54.141Z"
   },
   {
    "duration": 5,
    "start_time": "2022-03-16T10:47:19.443Z"
   },
   {
    "duration": 4,
    "start_time": "2022-03-16T10:47:26.110Z"
   },
   {
    "duration": 3,
    "start_time": "2022-03-16T10:47:59.947Z"
   },
   {
    "duration": 3,
    "start_time": "2022-03-16T10:48:03.242Z"
   },
   {
    "duration": 6,
    "start_time": "2022-03-16T10:48:28.313Z"
   },
   {
    "duration": 6,
    "start_time": "2022-03-16T10:48:45.904Z"
   },
   {
    "duration": 6,
    "start_time": "2022-03-16T10:48:57.734Z"
   },
   {
    "duration": 5,
    "start_time": "2022-03-16T10:49:26.780Z"
   },
   {
    "duration": 975,
    "start_time": "2022-03-16T13:07:02.953Z"
   },
   {
    "duration": 359,
    "start_time": "2022-03-16T13:07:03.929Z"
   },
   {
    "duration": 12,
    "start_time": "2022-03-16T13:07:04.290Z"
   },
   {
    "duration": 9,
    "start_time": "2022-03-16T13:07:04.304Z"
   },
   {
    "duration": 8,
    "start_time": "2022-03-16T13:07:04.314Z"
   },
   {
    "duration": 7,
    "start_time": "2022-03-16T13:07:04.323Z"
   },
   {
    "duration": 8,
    "start_time": "2022-03-16T13:07:04.331Z"
   },
   {
    "duration": 78,
    "start_time": "2022-03-16T13:07:04.341Z"
   },
   {
    "duration": 104,
    "start_time": "2022-03-16T13:07:04.421Z"
   },
   {
    "duration": 13,
    "start_time": "2022-03-16T13:07:04.527Z"
   },
   {
    "duration": 9,
    "start_time": "2022-03-16T13:07:04.542Z"
   },
   {
    "duration": 8,
    "start_time": "2022-03-16T13:07:04.553Z"
   },
   {
    "duration": 85,
    "start_time": "2022-03-16T13:07:04.562Z"
   },
   {
    "duration": 53,
    "start_time": "2022-03-16T13:07:04.648Z"
   },
   {
    "duration": 5,
    "start_time": "2022-03-16T13:07:04.702Z"
   },
   {
    "duration": 51,
    "start_time": "2022-03-16T13:07:04.708Z"
   },
   {
    "duration": 19,
    "start_time": "2022-03-16T13:07:04.760Z"
   },
   {
    "duration": 40,
    "start_time": "2022-03-16T13:07:04.781Z"
   },
   {
    "duration": 4,
    "start_time": "2022-03-16T13:07:04.822Z"
   },
   {
    "duration": 167,
    "start_time": "2022-03-16T13:07:04.828Z"
   },
   {
    "duration": 9,
    "start_time": "2022-03-16T13:07:04.996Z"
   },
   {
    "duration": 576,
    "start_time": "2022-03-16T13:07:05.007Z"
   },
   {
    "duration": 343,
    "start_time": "2022-03-16T13:07:05.586Z"
   },
   {
    "duration": 403,
    "start_time": "2022-03-16T13:07:05.931Z"
   },
   {
    "duration": 415,
    "start_time": "2022-03-16T13:07:06.336Z"
   },
   {
    "duration": 27,
    "start_time": "2022-03-16T13:07:06.753Z"
   },
   {
    "duration": 1185,
    "start_time": "2022-03-16T13:07:06.782Z"
   },
   {
    "duration": 6,
    "start_time": "2022-03-16T13:07:07.969Z"
   },
   {
    "duration": 24,
    "start_time": "2022-03-16T13:07:07.977Z"
   },
   {
    "duration": 5,
    "start_time": "2022-03-16T13:07:08.003Z"
   },
   {
    "duration": 4,
    "start_time": "2022-03-16T13:17:54.824Z"
   },
   {
    "duration": 4,
    "start_time": "2022-03-16T13:18:00.298Z"
   },
   {
    "duration": 157,
    "start_time": "2022-03-16T13:24:05.519Z"
   },
   {
    "duration": 8240,
    "start_time": "2022-03-16T13:29:22.051Z"
   },
   {
    "duration": 8203,
    "start_time": "2022-03-16T13:29:50.772Z"
   },
   {
    "duration": 31,
    "start_time": "2022-03-16T13:30:33.872Z"
   },
   {
    "duration": 6,
    "start_time": "2022-03-16T13:30:42.001Z"
   },
   {
    "duration": 5,
    "start_time": "2022-03-16T13:30:49.317Z"
   },
   {
    "duration": 5,
    "start_time": "2022-03-16T13:31:07.709Z"
   },
   {
    "duration": 6,
    "start_time": "2022-03-16T13:31:31.987Z"
   },
   {
    "duration": 3,
    "start_time": "2022-03-16T13:49:35.410Z"
   },
   {
    "duration": 4,
    "start_time": "2022-03-16T13:49:42.591Z"
   },
   {
    "duration": 4,
    "start_time": "2022-03-16T13:50:59.232Z"
   },
   {
    "duration": 5,
    "start_time": "2022-03-16T13:53:16.369Z"
   },
   {
    "duration": 4,
    "start_time": "2022-03-16T13:53:33.880Z"
   },
   {
    "duration": 5,
    "start_time": "2022-03-16T13:53:44.637Z"
   },
   {
    "duration": 5,
    "start_time": "2022-03-16T13:54:16.918Z"
   },
   {
    "duration": 321,
    "start_time": "2022-03-16T13:55:46.421Z"
   },
   {
    "duration": 303,
    "start_time": "2022-03-16T13:55:50.199Z"
   },
   {
    "duration": 6,
    "start_time": "2022-03-16T13:56:04.613Z"
   },
   {
    "duration": 5,
    "start_time": "2022-03-16T13:59:16.616Z"
   },
   {
    "duration": 109,
    "start_time": "2022-03-16T14:08:51.366Z"
   },
   {
    "duration": 102,
    "start_time": "2022-03-16T14:08:58.060Z"
   },
   {
    "duration": 101,
    "start_time": "2022-03-16T14:10:31.290Z"
   },
   {
    "duration": 6,
    "start_time": "2022-03-16T14:10:34.702Z"
   },
   {
    "duration": 4,
    "start_time": "2022-03-16T14:10:42.130Z"
   },
   {
    "duration": 5,
    "start_time": "2022-03-16T14:10:50.717Z"
   },
   {
    "duration": 4,
    "start_time": "2022-03-16T14:10:56.354Z"
   },
   {
    "duration": 6,
    "start_time": "2022-03-16T14:11:42.110Z"
   },
   {
    "duration": 5,
    "start_time": "2022-03-16T14:12:00.455Z"
   },
   {
    "duration": 5,
    "start_time": "2022-03-16T14:12:31.193Z"
   },
   {
    "duration": 149,
    "start_time": "2022-03-16T14:13:37.993Z"
   },
   {
    "duration": 16,
    "start_time": "2022-03-16T14:13:46.789Z"
   },
   {
    "duration": 322,
    "start_time": "2022-03-16T14:14:24.309Z"
   },
   {
    "duration": 155,
    "start_time": "2022-03-16T14:14:37.110Z"
   },
   {
    "duration": 14,
    "start_time": "2022-03-16T14:17:01.542Z"
   },
   {
    "duration": 29,
    "start_time": "2022-03-16T14:26:03.041Z"
   },
   {
    "duration": 16,
    "start_time": "2022-03-16T14:32:46.851Z"
   },
   {
    "duration": 5,
    "start_time": "2022-03-16T15:12:08.049Z"
   },
   {
    "duration": 6,
    "start_time": "2022-03-16T15:15:32.777Z"
   },
   {
    "duration": 345,
    "start_time": "2022-03-16T15:26:36.517Z"
   },
   {
    "duration": 318,
    "start_time": "2022-03-16T15:26:46.261Z"
   },
   {
    "duration": 314,
    "start_time": "2022-03-16T15:27:18.069Z"
   },
   {
    "duration": 373,
    "start_time": "2022-03-16T15:27:28.557Z"
   },
   {
    "duration": 324,
    "start_time": "2022-03-16T15:27:35.641Z"
   },
   {
    "duration": 341,
    "start_time": "2022-03-16T15:27:55.420Z"
   },
   {
    "duration": 313,
    "start_time": "2022-03-16T15:27:59.544Z"
   },
   {
    "duration": 418,
    "start_time": "2022-03-16T15:28:03.506Z"
   },
   {
    "duration": 327,
    "start_time": "2022-03-16T15:28:07.846Z"
   },
   {
    "duration": 406,
    "start_time": "2022-03-16T15:28:13.119Z"
   },
   {
    "duration": 45,
    "start_time": "2022-03-16T15:29:48.117Z"
   },
   {
    "duration": 43,
    "start_time": "2022-03-16T15:31:41.112Z"
   },
   {
    "duration": 67,
    "start_time": "2022-03-16T15:31:54.558Z"
   },
   {
    "duration": 79,
    "start_time": "2022-03-16T15:32:06.851Z"
   },
   {
    "duration": 124,
    "start_time": "2022-03-16T15:40:49.510Z"
   },
   {
    "duration": 117,
    "start_time": "2022-03-16T15:40:58.617Z"
   },
   {
    "duration": 108,
    "start_time": "2022-03-16T15:41:38.382Z"
   },
   {
    "duration": 1078,
    "start_time": "2022-03-16T15:58:28.949Z"
   },
   {
    "duration": 389,
    "start_time": "2022-03-16T15:58:30.029Z"
   },
   {
    "duration": 13,
    "start_time": "2022-03-16T15:58:30.420Z"
   },
   {
    "duration": 13,
    "start_time": "2022-03-16T15:58:30.435Z"
   },
   {
    "duration": 11,
    "start_time": "2022-03-16T15:58:30.450Z"
   },
   {
    "duration": 8,
    "start_time": "2022-03-16T15:58:30.463Z"
   },
   {
    "duration": 16,
    "start_time": "2022-03-16T15:58:30.472Z"
   },
   {
    "duration": 55,
    "start_time": "2022-03-16T15:58:30.492Z"
   },
   {
    "duration": 98,
    "start_time": "2022-03-16T15:58:30.549Z"
   },
   {
    "duration": 14,
    "start_time": "2022-03-16T15:58:30.649Z"
   },
   {
    "duration": 15,
    "start_time": "2022-03-16T15:58:30.665Z"
   },
   {
    "duration": 25,
    "start_time": "2022-03-16T15:58:30.682Z"
   },
   {
    "duration": 64,
    "start_time": "2022-03-16T15:58:30.709Z"
   },
   {
    "duration": 66,
    "start_time": "2022-03-16T15:58:30.775Z"
   },
   {
    "duration": 5,
    "start_time": "2022-03-16T15:58:30.843Z"
   },
   {
    "duration": 68,
    "start_time": "2022-03-16T15:58:30.850Z"
   },
   {
    "duration": 20,
    "start_time": "2022-03-16T15:58:30.920Z"
   },
   {
    "duration": 22,
    "start_time": "2022-03-16T15:58:30.942Z"
   },
   {
    "duration": 4,
    "start_time": "2022-03-16T15:58:30.966Z"
   },
   {
    "duration": 186,
    "start_time": "2022-03-16T15:58:30.971Z"
   },
   {
    "duration": 8,
    "start_time": "2022-03-16T15:58:31.159Z"
   },
   {
    "duration": 365,
    "start_time": "2022-03-16T15:58:31.169Z"
   },
   {
    "duration": 393,
    "start_time": "2022-03-16T15:58:31.537Z"
   },
   {
    "duration": 409,
    "start_time": "2022-03-16T15:58:31.933Z"
   },
   {
    "duration": 483,
    "start_time": "2022-03-16T15:58:32.344Z"
   },
   {
    "duration": 28,
    "start_time": "2022-03-16T15:58:32.829Z"
   },
   {
    "duration": 218,
    "start_time": "2022-03-16T15:58:32.859Z"
   },
   {
    "duration": 4,
    "start_time": "2022-03-16T15:58:33.079Z"
   },
   {
    "duration": 19,
    "start_time": "2022-03-16T15:58:33.084Z"
   },
   {
    "duration": 10,
    "start_time": "2022-03-16T15:58:33.105Z"
   },
   {
    "duration": 7,
    "start_time": "2022-03-16T15:58:33.117Z"
   },
   {
    "duration": 6,
    "start_time": "2022-03-16T15:58:33.125Z"
   },
   {
    "duration": 1408,
    "start_time": "2022-03-27T09:57:37.236Z"
   },
   {
    "duration": 651,
    "start_time": "2022-03-27T09:57:38.647Z"
   },
   {
    "duration": 31,
    "start_time": "2022-03-27T09:57:39.301Z"
   },
   {
    "duration": 19,
    "start_time": "2022-03-27T09:57:39.337Z"
   },
   {
    "duration": 42,
    "start_time": "2022-03-27T09:57:39.359Z"
   },
   {
    "duration": 13,
    "start_time": "2022-03-27T09:57:39.404Z"
   },
   {
    "duration": 15,
    "start_time": "2022-03-27T09:57:39.420Z"
   },
   {
    "duration": 121,
    "start_time": "2022-03-27T09:57:39.437Z"
   },
   {
    "duration": 191,
    "start_time": "2022-03-27T09:57:39.561Z"
   },
   {
    "duration": 50,
    "start_time": "2022-03-27T09:57:39.758Z"
   },
   {
    "duration": 13,
    "start_time": "2022-03-27T09:57:39.810Z"
   },
   {
    "duration": 11,
    "start_time": "2022-03-27T09:57:39.826Z"
   },
   {
    "duration": 144,
    "start_time": "2022-03-27T09:57:39.839Z"
   },
   {
    "duration": 69,
    "start_time": "2022-03-27T09:57:39.985Z"
   },
   {
    "duration": 26,
    "start_time": "2022-03-27T09:57:40.056Z"
   },
   {
    "duration": 80,
    "start_time": "2022-03-27T09:57:40.085Z"
   },
   {
    "duration": 41,
    "start_time": "2022-03-27T09:57:40.167Z"
   },
   {
    "duration": 45,
    "start_time": "2022-03-27T09:57:40.211Z"
   },
   {
    "duration": 27,
    "start_time": "2022-03-27T09:57:40.258Z"
   },
   {
    "duration": 239,
    "start_time": "2022-03-27T09:57:40.288Z"
   },
   {
    "duration": 14,
    "start_time": "2022-03-27T09:57:40.529Z"
   },
   {
    "duration": 607,
    "start_time": "2022-03-27T09:57:40.545Z"
   },
   {
    "duration": 477,
    "start_time": "2022-03-27T09:57:41.155Z"
   },
   {
    "duration": 640,
    "start_time": "2022-03-27T09:57:41.635Z"
   },
   {
    "duration": 491,
    "start_time": "2022-03-27T09:57:42.277Z"
   },
   {
    "duration": 43,
    "start_time": "2022-03-27T09:57:42.771Z"
   },
   {
    "duration": 151,
    "start_time": "2022-03-27T09:57:42.816Z"
   },
   {
    "duration": 6,
    "start_time": "2022-03-27T09:57:42.981Z"
   },
   {
    "duration": 25,
    "start_time": "2022-03-27T09:57:42.989Z"
   },
   {
    "duration": 22,
    "start_time": "2022-03-27T09:57:43.016Z"
   },
   {
    "duration": 18,
    "start_time": "2022-03-27T09:57:43.040Z"
   },
   {
    "duration": 33,
    "start_time": "2022-03-27T09:57:43.060Z"
   },
   {
    "duration": 1430,
    "start_time": "2022-03-27T10:04:34.734Z"
   },
   {
    "duration": 509,
    "start_time": "2022-03-27T10:04:36.167Z"
   },
   {
    "duration": 20,
    "start_time": "2022-03-27T10:04:36.679Z"
   },
   {
    "duration": 13,
    "start_time": "2022-03-27T10:04:36.701Z"
   },
   {
    "duration": 14,
    "start_time": "2022-03-27T10:04:36.717Z"
   },
   {
    "duration": 49,
    "start_time": "2022-03-27T10:04:36.733Z"
   },
   {
    "duration": 13,
    "start_time": "2022-03-27T10:04:36.784Z"
   },
   {
    "duration": 115,
    "start_time": "2022-03-27T10:04:36.800Z"
   },
   {
    "duration": 136,
    "start_time": "2022-03-27T10:04:36.918Z"
   },
   {
    "duration": 40,
    "start_time": "2022-03-27T10:04:37.056Z"
   },
   {
    "duration": 17,
    "start_time": "2022-03-27T10:04:37.098Z"
   },
   {
    "duration": 10,
    "start_time": "2022-03-27T10:04:37.117Z"
   },
   {
    "duration": 127,
    "start_time": "2022-03-27T10:04:37.129Z"
   },
   {
    "duration": 76,
    "start_time": "2022-03-27T10:04:37.261Z"
   },
   {
    "duration": 6,
    "start_time": "2022-03-27T10:04:37.339Z"
   },
   {
    "duration": 84,
    "start_time": "2022-03-27T10:04:37.347Z"
   },
   {
    "duration": 30,
    "start_time": "2022-03-27T10:04:37.433Z"
   },
   {
    "duration": 51,
    "start_time": "2022-03-27T10:04:37.465Z"
   },
   {
    "duration": 6,
    "start_time": "2022-03-27T10:04:37.519Z"
   },
   {
    "duration": 160,
    "start_time": "2022-03-27T10:04:37.527Z"
   },
   {
    "duration": 15,
    "start_time": "2022-03-27T10:04:37.689Z"
   },
   {
    "duration": 499,
    "start_time": "2022-03-27T10:04:37.706Z"
   },
   {
    "duration": 433,
    "start_time": "2022-03-27T10:04:38.207Z"
   },
   {
    "duration": 480,
    "start_time": "2022-03-27T10:04:38.642Z"
   },
   {
    "duration": 508,
    "start_time": "2022-03-27T10:04:39.125Z"
   },
   {
    "duration": 51,
    "start_time": "2022-03-27T10:04:39.635Z"
   },
   {
    "duration": 198,
    "start_time": "2022-03-27T10:04:39.689Z"
   },
   {
    "duration": 9,
    "start_time": "2022-03-27T10:04:39.890Z"
   },
   {
    "duration": 11,
    "start_time": "2022-03-27T10:04:39.902Z"
   },
   {
    "duration": 15,
    "start_time": "2022-03-27T10:04:39.915Z"
   },
   {
    "duration": 7,
    "start_time": "2022-03-27T10:04:39.932Z"
   },
   {
    "duration": 43,
    "start_time": "2022-03-27T10:04:39.941Z"
   },
   {
    "duration": 1291,
    "start_time": "2022-03-27T10:08:26.107Z"
   },
   {
    "duration": 518,
    "start_time": "2022-03-27T10:08:27.401Z"
   },
   {
    "duration": 23,
    "start_time": "2022-03-27T10:08:27.921Z"
   },
   {
    "duration": 14,
    "start_time": "2022-03-27T10:08:27.947Z"
   },
   {
    "duration": 12,
    "start_time": "2022-03-27T10:08:27.983Z"
   },
   {
    "duration": 13,
    "start_time": "2022-03-27T10:08:27.997Z"
   },
   {
    "duration": 17,
    "start_time": "2022-03-27T10:08:28.012Z"
   },
   {
    "duration": 116,
    "start_time": "2022-03-27T10:08:28.032Z"
   },
   {
    "duration": 153,
    "start_time": "2022-03-27T10:08:28.150Z"
   },
   {
    "duration": 24,
    "start_time": "2022-03-27T10:08:28.305Z"
   },
   {
    "duration": 12,
    "start_time": "2022-03-27T10:08:28.332Z"
   },
   {
    "duration": 41,
    "start_time": "2022-03-27T10:08:28.347Z"
   },
   {
    "duration": 119,
    "start_time": "2022-03-27T10:08:28.391Z"
   },
   {
    "duration": 78,
    "start_time": "2022-03-27T10:08:28.514Z"
   },
   {
    "duration": 6,
    "start_time": "2022-03-27T10:08:28.594Z"
   },
   {
    "duration": 89,
    "start_time": "2022-03-27T10:08:28.602Z"
   },
   {
    "duration": 28,
    "start_time": "2022-03-27T10:08:28.694Z"
   },
   {
    "duration": 61,
    "start_time": "2022-03-27T10:08:28.724Z"
   },
   {
    "duration": 6,
    "start_time": "2022-03-27T10:08:28.788Z"
   },
   {
    "duration": 162,
    "start_time": "2022-03-27T10:08:28.796Z"
   },
   {
    "duration": 22,
    "start_time": "2022-03-27T10:08:28.960Z"
   },
   {
    "duration": 491,
    "start_time": "2022-03-27T10:08:28.984Z"
   },
   {
    "duration": 542,
    "start_time": "2022-03-27T10:08:29.477Z"
   },
   {
    "duration": 507,
    "start_time": "2022-03-27T10:08:30.022Z"
   },
   {
    "duration": 526,
    "start_time": "2022-03-27T10:08:30.533Z"
   },
   {
    "duration": 52,
    "start_time": "2022-03-27T10:08:31.061Z"
   },
   {
    "duration": 158,
    "start_time": "2022-03-27T10:08:31.115Z"
   },
   {
    "duration": 6,
    "start_time": "2022-03-27T10:08:31.282Z"
   },
   {
    "duration": 40,
    "start_time": "2022-03-27T10:08:31.290Z"
   },
   {
    "duration": 51,
    "start_time": "2022-03-27T10:08:31.332Z"
   },
   {
    "duration": 42,
    "start_time": "2022-03-27T10:08:31.385Z"
   },
   {
    "duration": 24,
    "start_time": "2022-03-27T10:08:31.430Z"
   },
   {
    "duration": 1421,
    "start_time": "2022-03-27T10:12:55.700Z"
   },
   {
    "duration": 508,
    "start_time": "2022-03-27T10:12:57.124Z"
   },
   {
    "duration": 24,
    "start_time": "2022-03-27T10:12:57.634Z"
   },
   {
    "duration": 32,
    "start_time": "2022-03-27T10:12:57.660Z"
   },
   {
    "duration": 21,
    "start_time": "2022-03-27T10:12:57.696Z"
   },
   {
    "duration": 22,
    "start_time": "2022-03-27T10:12:57.720Z"
   },
   {
    "duration": 25,
    "start_time": "2022-03-27T10:12:57.745Z"
   },
   {
    "duration": 110,
    "start_time": "2022-03-27T10:12:57.773Z"
   },
   {
    "duration": 154,
    "start_time": "2022-03-27T10:12:57.886Z"
   },
   {
    "duration": 40,
    "start_time": "2022-03-27T10:12:58.042Z"
   },
   {
    "duration": 18,
    "start_time": "2022-03-27T10:12:58.085Z"
   },
   {
    "duration": 20,
    "start_time": "2022-03-27T10:12:58.105Z"
   },
   {
    "duration": 116,
    "start_time": "2022-03-27T10:12:58.127Z"
   },
   {
    "duration": 75,
    "start_time": "2022-03-27T10:12:58.247Z"
   },
   {
    "duration": 5,
    "start_time": "2022-03-27T10:12:58.325Z"
   },
   {
    "duration": 84,
    "start_time": "2022-03-27T10:12:58.332Z"
   },
   {
    "duration": 29,
    "start_time": "2022-03-27T10:12:58.418Z"
   },
   {
    "duration": 57,
    "start_time": "2022-03-27T10:12:58.449Z"
   },
   {
    "duration": 6,
    "start_time": "2022-03-27T10:12:58.508Z"
   },
   {
    "duration": 158,
    "start_time": "2022-03-27T10:12:58.516Z"
   },
   {
    "duration": 13,
    "start_time": "2022-03-27T10:12:58.676Z"
   },
   {
    "duration": 494,
    "start_time": "2022-03-27T10:12:58.691Z"
   },
   {
    "duration": 445,
    "start_time": "2022-03-27T10:12:59.187Z"
   },
   {
    "duration": 627,
    "start_time": "2022-03-27T10:12:59.634Z"
   },
   {
    "duration": 675,
    "start_time": "2022-03-27T10:13:00.264Z"
   },
   {
    "duration": 64,
    "start_time": "2022-03-27T10:13:00.942Z"
   },
   {
    "duration": 205,
    "start_time": "2022-03-27T10:13:01.008Z"
   },
   {
    "duration": 8,
    "start_time": "2022-03-27T10:13:01.216Z"
   },
   {
    "duration": 26,
    "start_time": "2022-03-27T10:13:01.227Z"
   },
   {
    "duration": 50,
    "start_time": "2022-03-27T10:13:01.255Z"
   },
   {
    "duration": 27,
    "start_time": "2022-03-27T10:13:01.308Z"
   },
   {
    "duration": 40,
    "start_time": "2022-03-27T10:13:01.339Z"
   },
   {
    "duration": 52,
    "start_time": "2022-03-29T09:19:49.019Z"
   },
   {
    "duration": 1097,
    "start_time": "2022-03-29T09:19:55.470Z"
   },
   {
    "duration": 435,
    "start_time": "2022-03-29T09:19:56.569Z"
   },
   {
    "duration": 19,
    "start_time": "2022-03-29T09:19:57.005Z"
   },
   {
    "duration": 11,
    "start_time": "2022-03-29T09:19:57.026Z"
   },
   {
    "duration": 12,
    "start_time": "2022-03-29T09:19:57.039Z"
   },
   {
    "duration": 9,
    "start_time": "2022-03-29T09:19:57.053Z"
   },
   {
    "duration": 11,
    "start_time": "2022-03-29T09:19:57.064Z"
   },
   {
    "duration": 112,
    "start_time": "2022-03-29T09:19:57.077Z"
   },
   {
    "duration": 128,
    "start_time": "2022-03-29T09:19:57.191Z"
   },
   {
    "duration": 14,
    "start_time": "2022-03-29T09:19:57.321Z"
   },
   {
    "duration": 8,
    "start_time": "2022-03-29T09:19:57.337Z"
   },
   {
    "duration": 6,
    "start_time": "2022-03-29T09:19:57.347Z"
   },
   {
    "duration": 109,
    "start_time": "2022-03-29T09:19:57.354Z"
   },
   {
    "duration": 65,
    "start_time": "2022-03-29T09:19:57.465Z"
   },
   {
    "duration": 5,
    "start_time": "2022-03-29T09:19:57.532Z"
   },
   {
    "duration": 50,
    "start_time": "2022-03-29T09:19:57.539Z"
   },
   {
    "duration": 36,
    "start_time": "2022-03-29T09:19:57.590Z"
   },
   {
    "duration": 26,
    "start_time": "2022-03-29T09:19:57.628Z"
   },
   {
    "duration": 3,
    "start_time": "2022-03-29T09:19:57.656Z"
   },
   {
    "duration": 112,
    "start_time": "2022-03-29T09:19:57.661Z"
   },
   {
    "duration": 68,
    "start_time": "2022-03-29T09:19:57.774Z"
   },
   {
    "duration": 0,
    "start_time": "2022-03-29T09:19:57.843Z"
   },
   {
    "duration": 0,
    "start_time": "2022-03-29T09:19:57.845Z"
   },
   {
    "duration": 0,
    "start_time": "2022-03-29T09:19:57.846Z"
   },
   {
    "duration": 0,
    "start_time": "2022-03-29T09:19:57.847Z"
   },
   {
    "duration": 0,
    "start_time": "2022-03-29T09:19:57.848Z"
   },
   {
    "duration": 0,
    "start_time": "2022-03-29T09:19:57.849Z"
   },
   {
    "duration": 0,
    "start_time": "2022-03-29T09:19:57.850Z"
   },
   {
    "duration": 0,
    "start_time": "2022-03-29T09:19:57.851Z"
   },
   {
    "duration": 0,
    "start_time": "2022-03-29T09:19:57.852Z"
   },
   {
    "duration": 0,
    "start_time": "2022-03-29T09:19:57.853Z"
   },
   {
    "duration": 0,
    "start_time": "2022-03-29T09:19:57.854Z"
   },
   {
    "duration": 0,
    "start_time": "2022-03-29T09:19:57.855Z"
   },
   {
    "duration": 7,
    "start_time": "2022-03-29T09:20:44.883Z"
   },
   {
    "duration": 3,
    "start_time": "2022-03-29T09:21:46.553Z"
   },
   {
    "duration": 3,
    "start_time": "2022-03-29T09:21:59.642Z"
   },
   {
    "duration": 6,
    "start_time": "2022-03-29T09:22:10.240Z"
   },
   {
    "duration": 8,
    "start_time": "2022-03-29T09:26:44.176Z"
   },
   {
    "duration": 3,
    "start_time": "2022-03-29T09:26:57.625Z"
   },
   {
    "duration": 375,
    "start_time": "2022-03-29T09:26:57.630Z"
   },
   {
    "duration": 10,
    "start_time": "2022-03-29T09:26:58.007Z"
   },
   {
    "duration": 10,
    "start_time": "2022-03-29T09:26:58.018Z"
   },
   {
    "duration": 9,
    "start_time": "2022-03-29T09:26:58.030Z"
   },
   {
    "duration": 9,
    "start_time": "2022-03-29T09:26:58.041Z"
   },
   {
    "duration": 8,
    "start_time": "2022-03-29T09:26:58.051Z"
   },
   {
    "duration": 87,
    "start_time": "2022-03-29T09:26:58.061Z"
   },
   {
    "duration": 104,
    "start_time": "2022-03-29T09:26:58.150Z"
   },
   {
    "duration": 14,
    "start_time": "2022-03-29T09:26:58.255Z"
   },
   {
    "duration": 6,
    "start_time": "2022-03-29T09:26:58.272Z"
   },
   {
    "duration": 4,
    "start_time": "2022-03-29T09:26:58.280Z"
   },
   {
    "duration": 84,
    "start_time": "2022-03-29T09:26:58.285Z"
   },
   {
    "duration": 55,
    "start_time": "2022-03-29T09:26:58.370Z"
   },
   {
    "duration": 5,
    "start_time": "2022-03-29T09:26:58.426Z"
   },
   {
    "duration": 51,
    "start_time": "2022-03-29T09:26:58.433Z"
   },
   {
    "duration": 35,
    "start_time": "2022-03-29T09:26:58.486Z"
   },
   {
    "duration": 25,
    "start_time": "2022-03-29T09:26:58.522Z"
   },
   {
    "duration": 4,
    "start_time": "2022-03-29T09:26:58.548Z"
   },
   {
    "duration": 100,
    "start_time": "2022-03-29T09:26:58.553Z"
   },
   {
    "duration": 5,
    "start_time": "2022-03-29T09:26:58.655Z"
   },
   {
    "duration": 12,
    "start_time": "2022-03-29T09:26:58.662Z"
   },
   {
    "duration": 318,
    "start_time": "2022-03-29T09:26:58.675Z"
   },
   {
    "duration": 269,
    "start_time": "2022-03-29T09:26:58.994Z"
   },
   {
    "duration": 284,
    "start_time": "2022-03-29T09:26:59.265Z"
   },
   {
    "duration": 311,
    "start_time": "2022-03-29T09:26:59.551Z"
   },
   {
    "duration": 27,
    "start_time": "2022-03-29T09:26:59.863Z"
   },
   {
    "duration": 100,
    "start_time": "2022-03-29T09:26:59.891Z"
   },
   {
    "duration": 15,
    "start_time": "2022-03-29T09:26:59.994Z"
   },
   {
    "duration": 10,
    "start_time": "2022-03-29T09:27:00.011Z"
   },
   {
    "duration": 8,
    "start_time": "2022-03-29T09:27:00.022Z"
   },
   {
    "duration": 24,
    "start_time": "2022-03-29T09:27:00.031Z"
   },
   {
    "duration": 17,
    "start_time": "2022-03-29T09:27:00.057Z"
   },
   {
    "duration": 14,
    "start_time": "2022-03-29T09:27:00.076Z"
   },
   {
    "duration": 4,
    "start_time": "2022-03-29T09:27:46.328Z"
   },
   {
    "duration": 4,
    "start_time": "2022-03-29T09:29:55.597Z"
   },
   {
    "duration": 7,
    "start_time": "2022-03-29T09:30:14.244Z"
   },
   {
    "duration": 6,
    "start_time": "2022-03-29T09:32:42.347Z"
   },
   {
    "duration": 8,
    "start_time": "2022-03-29T09:33:30.709Z"
   },
   {
    "duration": 5,
    "start_time": "2022-03-29T09:33:53.745Z"
   },
   {
    "duration": 7,
    "start_time": "2022-03-29T09:33:58.716Z"
   },
   {
    "duration": 1259,
    "start_time": "2022-03-30T06:54:01.335Z"
   },
   {
    "duration": 430,
    "start_time": "2022-03-30T06:54:02.596Z"
   },
   {
    "duration": 16,
    "start_time": "2022-03-30T06:54:03.027Z"
   },
   {
    "duration": 9,
    "start_time": "2022-03-30T06:54:03.045Z"
   },
   {
    "duration": 12,
    "start_time": "2022-03-30T06:54:03.056Z"
   },
   {
    "duration": 9,
    "start_time": "2022-03-30T06:54:03.070Z"
   },
   {
    "duration": 10,
    "start_time": "2022-03-30T06:54:03.080Z"
   },
   {
    "duration": 102,
    "start_time": "2022-03-30T06:54:03.092Z"
   },
   {
    "duration": 109,
    "start_time": "2022-03-30T06:54:03.195Z"
   },
   {
    "duration": 28,
    "start_time": "2022-03-30T06:54:03.307Z"
   },
   {
    "duration": 12,
    "start_time": "2022-03-30T06:54:03.336Z"
   },
   {
    "duration": 5,
    "start_time": "2022-03-30T06:54:03.349Z"
   },
   {
    "duration": 92,
    "start_time": "2022-03-30T06:54:03.356Z"
   },
   {
    "duration": 49,
    "start_time": "2022-03-30T06:54:03.450Z"
   },
   {
    "duration": 5,
    "start_time": "2022-03-30T06:54:03.501Z"
   },
   {
    "duration": 67,
    "start_time": "2022-03-30T06:54:03.508Z"
   },
   {
    "duration": 20,
    "start_time": "2022-03-30T06:54:03.577Z"
   },
   {
    "duration": 47,
    "start_time": "2022-03-30T06:54:03.598Z"
   },
   {
    "duration": 4,
    "start_time": "2022-03-30T06:54:03.647Z"
   },
   {
    "duration": 97,
    "start_time": "2022-03-30T06:54:03.653Z"
   },
   {
    "duration": 8,
    "start_time": "2022-03-30T06:54:03.752Z"
   },
   {
    "duration": 12,
    "start_time": "2022-03-30T06:54:03.761Z"
   },
   {
    "duration": 305,
    "start_time": "2022-03-30T06:54:03.774Z"
   },
   {
    "duration": 260,
    "start_time": "2022-03-30T06:54:04.081Z"
   },
   {
    "duration": 271,
    "start_time": "2022-03-30T06:54:04.343Z"
   },
   {
    "duration": 303,
    "start_time": "2022-03-30T06:54:04.615Z"
   },
   {
    "duration": 30,
    "start_time": "2022-03-30T06:54:04.919Z"
   },
   {
    "duration": 102,
    "start_time": "2022-03-30T06:54:04.952Z"
   },
   {
    "duration": 5,
    "start_time": "2022-03-30T06:54:05.055Z"
   },
   {
    "duration": 9,
    "start_time": "2022-03-30T06:54:05.062Z"
   },
   {
    "duration": 17,
    "start_time": "2022-03-30T06:54:05.072Z"
   },
   {
    "duration": 15,
    "start_time": "2022-03-30T06:54:05.090Z"
   },
   {
    "duration": 13,
    "start_time": "2022-03-30T06:54:05.106Z"
   },
   {
    "duration": 1084,
    "start_time": "2022-03-30T06:55:51.035Z"
   },
   {
    "duration": 417,
    "start_time": "2022-03-30T06:55:52.121Z"
   },
   {
    "duration": 14,
    "start_time": "2022-03-30T06:55:52.540Z"
   },
   {
    "duration": 17,
    "start_time": "2022-03-30T06:55:52.556Z"
   },
   {
    "duration": 19,
    "start_time": "2022-03-30T06:55:52.575Z"
   },
   {
    "duration": 15,
    "start_time": "2022-03-30T06:55:52.595Z"
   },
   {
    "duration": 15,
    "start_time": "2022-03-30T06:55:52.612Z"
   },
   {
    "duration": 74,
    "start_time": "2022-03-30T06:55:52.628Z"
   },
   {
    "duration": 103,
    "start_time": "2022-03-30T06:55:52.704Z"
   },
   {
    "duration": 29,
    "start_time": "2022-03-30T06:55:52.810Z"
   },
   {
    "duration": 9,
    "start_time": "2022-03-30T06:55:52.841Z"
   },
   {
    "duration": 6,
    "start_time": "2022-03-30T06:55:52.851Z"
   },
   {
    "duration": 95,
    "start_time": "2022-03-30T06:55:52.859Z"
   },
   {
    "duration": 48,
    "start_time": "2022-03-30T06:55:52.956Z"
   },
   {
    "duration": 5,
    "start_time": "2022-03-30T06:55:53.006Z"
   },
   {
    "duration": 66,
    "start_time": "2022-03-30T06:55:53.013Z"
   },
   {
    "duration": 19,
    "start_time": "2022-03-30T06:55:53.081Z"
   },
   {
    "duration": 46,
    "start_time": "2022-03-30T06:55:53.102Z"
   },
   {
    "duration": 4,
    "start_time": "2022-03-30T06:55:53.150Z"
   },
   {
    "duration": 97,
    "start_time": "2022-03-30T06:55:53.155Z"
   },
   {
    "duration": 7,
    "start_time": "2022-03-30T06:55:53.254Z"
   },
   {
    "duration": 12,
    "start_time": "2022-03-30T06:55:53.262Z"
   },
   {
    "duration": 296,
    "start_time": "2022-03-30T06:55:53.276Z"
   },
   {
    "duration": 268,
    "start_time": "2022-03-30T06:55:53.573Z"
   },
   {
    "duration": 275,
    "start_time": "2022-03-30T06:55:53.843Z"
   },
   {
    "duration": 304,
    "start_time": "2022-03-30T06:55:54.120Z"
   },
   {
    "duration": 30,
    "start_time": "2022-03-30T06:55:54.425Z"
   },
   {
    "duration": 103,
    "start_time": "2022-03-30T06:55:54.458Z"
   },
   {
    "duration": 4,
    "start_time": "2022-03-30T06:55:54.563Z"
   },
   {
    "duration": 11,
    "start_time": "2022-03-30T06:55:54.569Z"
   },
   {
    "duration": 13,
    "start_time": "2022-03-30T06:55:54.581Z"
   },
   {
    "duration": 10,
    "start_time": "2022-03-30T06:55:54.596Z"
   },
   {
    "duration": 26,
    "start_time": "2022-03-30T06:55:54.608Z"
   }
  ],
  "kernelspec": {
   "display_name": "Python 3 (ipykernel)",
   "language": "python",
   "name": "python3"
  },
  "language_info": {
   "codemirror_mode": {
    "name": "ipython",
    "version": 3
   },
   "file_extension": ".py",
   "mimetype": "text/x-python",
   "name": "python",
   "nbconvert_exporter": "python",
   "pygments_lexer": "ipython3",
   "version": "3.9.12"
  },
  "toc": {
   "base_numbering": 1,
   "nav_menu": {
    "height": "210px",
    "width": "284px"
   },
   "number_sections": true,
   "sideBar": true,
   "skip_h1_title": true,
   "title_cell": "Table of Contents",
   "title_sidebar": "Contents",
   "toc_cell": false,
   "toc_position": {},
   "toc_section_display": true,
   "toc_window_display": false
  }
 },
 "nbformat": 4,
 "nbformat_minor": 2
}
