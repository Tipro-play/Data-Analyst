{
 "cells": [
  {
   "cell_type": "markdown",
   "metadata": {},
   "source": [
    "<b>Вы — аналитик крупного интернет-магазина. Вместе с отделом маркетинга вы подготовили список гипотез для увеличения выручки.\n",
    "Приоритизируйте гипотезы, запустите A/B-тест и проанализируйте результаты."
   ]
  },
  {
   "cell_type": "markdown",
   "metadata": {},
   "source": [
    "# <b>Часть первая </b>\n",
    "Приоритизация гипотез"
   ]
  },
  {
   "cell_type": "code",
   "execution_count": 2,
   "metadata": {},
   "outputs": [],
   "source": [
    "import pandas as pd\n",
    "import scipy.stats as stats\n",
    "import datetime as dt\n",
    "import numpy as np\n",
    "import matplotlib.pyplot as plt"
   ]
  },
  {
   "cell_type": "code",
   "execution_count": 3,
   "metadata": {},
   "outputs": [],
   "source": [
    "data = pd.read_csv('/datasets/hypothesis.csv')"
   ]
  },
  {
   "cell_type": "code",
   "execution_count": 4,
   "metadata": {},
   "outputs": [
    {
     "data": {
      "text/html": [
       "<div>\n",
       "<style scoped>\n",
       "    .dataframe tbody tr th:only-of-type {\n",
       "        vertical-align: middle;\n",
       "    }\n",
       "\n",
       "    .dataframe tbody tr th {\n",
       "        vertical-align: top;\n",
       "    }\n",
       "\n",
       "    .dataframe thead th {\n",
       "        text-align: right;\n",
       "    }\n",
       "</style>\n",
       "<table border=\"1\" class=\"dataframe\">\n",
       "  <thead>\n",
       "    <tr style=\"text-align: right;\">\n",
       "      <th></th>\n",
       "      <th>Hypothesis</th>\n",
       "      <th>Reach</th>\n",
       "      <th>Impact</th>\n",
       "      <th>Confidence</th>\n",
       "      <th>Efforts</th>\n",
       "    </tr>\n",
       "  </thead>\n",
       "  <tbody>\n",
       "    <tr>\n",
       "      <th>0</th>\n",
       "      <td>Добавить два новых канала привлечения трафика,...</td>\n",
       "      <td>3</td>\n",
       "      <td>10</td>\n",
       "      <td>8</td>\n",
       "      <td>6</td>\n",
       "    </tr>\n",
       "    <tr>\n",
       "      <th>1</th>\n",
       "      <td>Запустить собственную службу доставки, что сок...</td>\n",
       "      <td>2</td>\n",
       "      <td>5</td>\n",
       "      <td>4</td>\n",
       "      <td>10</td>\n",
       "    </tr>\n",
       "    <tr>\n",
       "      <th>2</th>\n",
       "      <td>Добавить блоки рекомендаций товаров на сайт ин...</td>\n",
       "      <td>8</td>\n",
       "      <td>3</td>\n",
       "      <td>7</td>\n",
       "      <td>3</td>\n",
       "    </tr>\n",
       "    <tr>\n",
       "      <th>3</th>\n",
       "      <td>Изменить структура категорий, что увеличит кон...</td>\n",
       "      <td>8</td>\n",
       "      <td>3</td>\n",
       "      <td>3</td>\n",
       "      <td>8</td>\n",
       "    </tr>\n",
       "    <tr>\n",
       "      <th>4</th>\n",
       "      <td>Изменить цвет фона главной страницы, чтобы уве...</td>\n",
       "      <td>3</td>\n",
       "      <td>1</td>\n",
       "      <td>1</td>\n",
       "      <td>1</td>\n",
       "    </tr>\n",
       "    <tr>\n",
       "      <th>5</th>\n",
       "      <td>Добавить страницу отзывов клиентов о магазине,...</td>\n",
       "      <td>3</td>\n",
       "      <td>2</td>\n",
       "      <td>2</td>\n",
       "      <td>3</td>\n",
       "    </tr>\n",
       "    <tr>\n",
       "      <th>6</th>\n",
       "      <td>Показать на главной странице баннеры с актуаль...</td>\n",
       "      <td>5</td>\n",
       "      <td>3</td>\n",
       "      <td>8</td>\n",
       "      <td>3</td>\n",
       "    </tr>\n",
       "    <tr>\n",
       "      <th>7</th>\n",
       "      <td>Добавить форму подписки на все основные страни...</td>\n",
       "      <td>10</td>\n",
       "      <td>7</td>\n",
       "      <td>8</td>\n",
       "      <td>5</td>\n",
       "    </tr>\n",
       "    <tr>\n",
       "      <th>8</th>\n",
       "      <td>Запустить акцию, дающую скидку на товар в день...</td>\n",
       "      <td>1</td>\n",
       "      <td>9</td>\n",
       "      <td>9</td>\n",
       "      <td>5</td>\n",
       "    </tr>\n",
       "  </tbody>\n",
       "</table>\n",
       "</div>"
      ],
      "text/plain": [
       "                                          Hypothesis  Reach  Impact  \\\n",
       "0  Добавить два новых канала привлечения трафика,...      3      10   \n",
       "1  Запустить собственную службу доставки, что сок...      2       5   \n",
       "2  Добавить блоки рекомендаций товаров на сайт ин...      8       3   \n",
       "3  Изменить структура категорий, что увеличит кон...      8       3   \n",
       "4  Изменить цвет фона главной страницы, чтобы уве...      3       1   \n",
       "5  Добавить страницу отзывов клиентов о магазине,...      3       2   \n",
       "6  Показать на главной странице баннеры с актуаль...      5       3   \n",
       "7  Добавить форму подписки на все основные страни...     10       7   \n",
       "8  Запустить акцию, дающую скидку на товар в день...      1       9   \n",
       "\n",
       "   Confidence  Efforts  \n",
       "0           8        6  \n",
       "1           4       10  \n",
       "2           7        3  \n",
       "3           3        8  \n",
       "4           1        1  \n",
       "5           2        3  \n",
       "6           8        3  \n",
       "7           8        5  \n",
       "8           9        5  "
      ]
     },
     "execution_count": 4,
     "metadata": {},
     "output_type": "execute_result"
    }
   ],
   "source": [
    "data"
   ]
  },
  {
   "cell_type": "code",
   "execution_count": 5,
   "metadata": {},
   "outputs": [
    {
     "name": "stdout",
     "output_type": "stream",
     "text": [
      "                                          Hypothesis        ICE\n",
      "8  Запустить акцию, дающую скидку на товар в день...  16.200000\n",
      "0  Добавить два новых канала привлечения трафика,...  13.333333\n",
      "7  Добавить форму подписки на все основные страни...  11.200000\n",
      "6  Показать на главной странице баннеры с актуаль...   8.000000\n",
      "2  Добавить блоки рекомендаций товаров на сайт ин...   7.000000\n",
      "1  Запустить собственную службу доставки, что сок...   2.000000\n",
      "5  Добавить страницу отзывов клиентов о магазине,...   1.333333\n",
      "3  Изменить структура категорий, что увеличит кон...   1.125000\n",
      "4  Изменить цвет фона главной страницы, чтобы уве...   1.000000\n"
     ]
    }
   ],
   "source": [
    "data['ICE'] = (data['Impact']*data['Confidence'])/data['Efforts']\n",
    "print(data[['Hypothesis','ICE']].sort_values('ICE',ascending=False))"
   ]
  },
  {
   "cell_type": "code",
   "execution_count": 6,
   "metadata": {},
   "outputs": [
    {
     "name": "stdout",
     "output_type": "stream",
     "text": [
      "                                          Hypothesis   RICE\n",
      "7  Добавить форму подписки на все основные страни...  112.0\n",
      "2  Добавить блоки рекомендаций товаров на сайт ин...   56.0\n",
      "0  Добавить два новых канала привлечения трафика,...   40.0\n",
      "6  Показать на главной странице баннеры с актуаль...   40.0\n",
      "8  Запустить акцию, дающую скидку на товар в день...   16.2\n",
      "3  Изменить структура категорий, что увеличит кон...    9.0\n",
      "1  Запустить собственную службу доставки, что сок...    4.0\n",
      "5  Добавить страницу отзывов клиентов о магазине,...    4.0\n",
      "4  Изменить цвет фона главной страницы, чтобы уве...    3.0\n"
     ]
    }
   ],
   "source": [
    "data['RICE'] = (data['Reach']*data['Impact']*data['Confidence'])/data['Efforts']\n",
    "print(data[['Hypothesis','RICE']].sort_values('RICE',ascending=False))"
   ]
  },
  {
   "cell_type": "markdown",
   "metadata": {},
   "source": [
    "Как можно заметить фреймворк RICE вынес на первое место гипотезу с индексом 7, превышая предыдущую гипотезу в два раза. Такой приоритет появился из-за параметра охвата, гипотеза с индексом 7 имеет наивысший охват и хорошие другие показатели, поэтому она должна быть выполнена первой, а после нее следует гипотеза с индексом 2, у которой охват оценивается в 8 баллов и тоже хорошие другие показатели. По фреймворку ICE лидирует гипотеза с индексом 8, но фреймворк не учитывает охват, который очень низко оценен у данной гипотезы. Гипотеза с индексом 8 вносит огромное влияние на пользователей и их удовлетворенность, но стоит дорого и затронет очень маленькое количество пользователей, поэтому она не эффективна. Фреймворк RICE более качественно оценивает гипотезы."
   ]
  },
  {
   "cell_type": "markdown",
   "metadata": {},
   "source": [
    "# <b>Часть вторая</b>\n",
    "Анализ A/B теста"
   ]
  },
  {
   "cell_type": "code",
   "execution_count": 7,
   "metadata": {},
   "outputs": [],
   "source": [
    "orders = pd.read_csv('/datasets/orders.csv')\n",
    "visitors = pd.read_csv('/datasets/visitors.csv')"
   ]
  },
  {
   "cell_type": "code",
   "execution_count": 8,
   "metadata": {
    "scrolled": true
   },
   "outputs": [
    {
     "data": {
      "text/html": [
       "<div>\n",
       "<style scoped>\n",
       "    .dataframe tbody tr th:only-of-type {\n",
       "        vertical-align: middle;\n",
       "    }\n",
       "\n",
       "    .dataframe tbody tr th {\n",
       "        vertical-align: top;\n",
       "    }\n",
       "\n",
       "    .dataframe thead th {\n",
       "        text-align: right;\n",
       "    }\n",
       "</style>\n",
       "<table border=\"1\" class=\"dataframe\">\n",
       "  <thead>\n",
       "    <tr style=\"text-align: right;\">\n",
       "      <th></th>\n",
       "      <th>transactionId</th>\n",
       "      <th>visitorId</th>\n",
       "      <th>date</th>\n",
       "      <th>revenue</th>\n",
       "      <th>group</th>\n",
       "    </tr>\n",
       "  </thead>\n",
       "  <tbody>\n",
       "    <tr>\n",
       "      <th>0</th>\n",
       "      <td>3667963787</td>\n",
       "      <td>3312258926</td>\n",
       "      <td>2019-08-15</td>\n",
       "      <td>1650</td>\n",
       "      <td>B</td>\n",
       "    </tr>\n",
       "    <tr>\n",
       "      <th>1</th>\n",
       "      <td>2804400009</td>\n",
       "      <td>3642806036</td>\n",
       "      <td>2019-08-15</td>\n",
       "      <td>730</td>\n",
       "      <td>B</td>\n",
       "    </tr>\n",
       "    <tr>\n",
       "      <th>2</th>\n",
       "      <td>2961555356</td>\n",
       "      <td>4069496402</td>\n",
       "      <td>2019-08-15</td>\n",
       "      <td>400</td>\n",
       "      <td>A</td>\n",
       "    </tr>\n",
       "    <tr>\n",
       "      <th>3</th>\n",
       "      <td>3797467345</td>\n",
       "      <td>1196621759</td>\n",
       "      <td>2019-08-15</td>\n",
       "      <td>9759</td>\n",
       "      <td>B</td>\n",
       "    </tr>\n",
       "    <tr>\n",
       "      <th>4</th>\n",
       "      <td>2282983706</td>\n",
       "      <td>2322279887</td>\n",
       "      <td>2019-08-15</td>\n",
       "      <td>2308</td>\n",
       "      <td>B</td>\n",
       "    </tr>\n",
       "  </tbody>\n",
       "</table>\n",
       "</div>"
      ],
      "text/plain": [
       "   transactionId   visitorId        date  revenue group\n",
       "0     3667963787  3312258926  2019-08-15     1650     B\n",
       "1     2804400009  3642806036  2019-08-15      730     B\n",
       "2     2961555356  4069496402  2019-08-15      400     A\n",
       "3     3797467345  1196621759  2019-08-15     9759     B\n",
       "4     2282983706  2322279887  2019-08-15     2308     B"
      ]
     },
     "metadata": {},
     "output_type": "display_data"
    },
    {
     "data": {
      "text/html": [
       "<div>\n",
       "<style scoped>\n",
       "    .dataframe tbody tr th:only-of-type {\n",
       "        vertical-align: middle;\n",
       "    }\n",
       "\n",
       "    .dataframe tbody tr th {\n",
       "        vertical-align: top;\n",
       "    }\n",
       "\n",
       "    .dataframe thead th {\n",
       "        text-align: right;\n",
       "    }\n",
       "</style>\n",
       "<table border=\"1\" class=\"dataframe\">\n",
       "  <thead>\n",
       "    <tr style=\"text-align: right;\">\n",
       "      <th></th>\n",
       "      <th>date</th>\n",
       "      <th>group</th>\n",
       "      <th>visitors</th>\n",
       "    </tr>\n",
       "  </thead>\n",
       "  <tbody>\n",
       "    <tr>\n",
       "      <th>0</th>\n",
       "      <td>2019-08-01</td>\n",
       "      <td>A</td>\n",
       "      <td>719</td>\n",
       "    </tr>\n",
       "    <tr>\n",
       "      <th>1</th>\n",
       "      <td>2019-08-02</td>\n",
       "      <td>A</td>\n",
       "      <td>619</td>\n",
       "    </tr>\n",
       "    <tr>\n",
       "      <th>2</th>\n",
       "      <td>2019-08-03</td>\n",
       "      <td>A</td>\n",
       "      <td>507</td>\n",
       "    </tr>\n",
       "    <tr>\n",
       "      <th>3</th>\n",
       "      <td>2019-08-04</td>\n",
       "      <td>A</td>\n",
       "      <td>717</td>\n",
       "    </tr>\n",
       "    <tr>\n",
       "      <th>4</th>\n",
       "      <td>2019-08-05</td>\n",
       "      <td>A</td>\n",
       "      <td>756</td>\n",
       "    </tr>\n",
       "  </tbody>\n",
       "</table>\n",
       "</div>"
      ],
      "text/plain": [
       "         date group  visitors\n",
       "0  2019-08-01     A       719\n",
       "1  2019-08-02     A       619\n",
       "2  2019-08-03     A       507\n",
       "3  2019-08-04     A       717\n",
       "4  2019-08-05     A       756"
      ]
     },
     "metadata": {},
     "output_type": "display_data"
    }
   ],
   "source": [
    "display(orders.head(), visitors.head())"
   ]
  },
  {
   "cell_type": "markdown",
   "metadata": {},
   "source": [
    "Для удобства переименуем некоторые колонки"
   ]
  },
  {
   "cell_type": "code",
   "execution_count": 9,
   "metadata": {},
   "outputs": [],
   "source": [
    "orders = orders.rename(columns={'transactionId':'orderId','visitorId':'userId'})"
   ]
  },
  {
   "cell_type": "code",
   "execution_count": 10,
   "metadata": {},
   "outputs": [
    {
     "name": "stdout",
     "output_type": "stream",
     "text": [
      "<class 'pandas.core.frame.DataFrame'>\n",
      "RangeIndex: 1197 entries, 0 to 1196\n",
      "Data columns (total 5 columns):\n",
      " #   Column   Non-Null Count  Dtype \n",
      "---  ------   --------------  ----- \n",
      " 0   orderId  1197 non-null   int64 \n",
      " 1   userId   1197 non-null   int64 \n",
      " 2   date     1197 non-null   object\n",
      " 3   revenue  1197 non-null   int64 \n",
      " 4   group    1197 non-null   object\n",
      "dtypes: int64(3), object(2)\n",
      "memory usage: 46.9+ KB\n",
      "<class 'pandas.core.frame.DataFrame'>\n",
      "RangeIndex: 62 entries, 0 to 61\n",
      "Data columns (total 3 columns):\n",
      " #   Column    Non-Null Count  Dtype \n",
      "---  ------    --------------  ----- \n",
      " 0   date      62 non-null     object\n",
      " 1   group     62 non-null     object\n",
      " 2   visitors  62 non-null     int64 \n",
      "dtypes: int64(1), object(2)\n",
      "memory usage: 1.6+ KB\n",
      "None None\n"
     ]
    }
   ],
   "source": [
    "print(orders.info(), visitors.info())"
   ]
  },
  {
   "cell_type": "code",
   "execution_count": 11,
   "metadata": {
    "scrolled": false
   },
   "outputs": [
    {
     "name": "stdout",
     "output_type": "stream",
     "text": [
      "B    640\n",
      "A    557\n",
      "Name: group, dtype: int64 A    31\n",
      "B    31\n",
      "Name: group, dtype: int64\n"
     ]
    }
   ],
   "source": [
    "print(orders['group'].value_counts(),visitors['group'].value_counts())"
   ]
  },
  {
   "cell_type": "markdown",
   "metadata": {},
   "source": [
    "Никаких проблем в группах не обнаружено, группы поделены равно"
   ]
  },
  {
   "cell_type": "code",
   "execution_count": 12,
   "metadata": {},
   "outputs": [],
   "source": [
    "orders['date'] = orders['date'].map(\n",
    "    lambda x: dt.datetime.strptime(x, '%Y-%m-%d')\n",
    ")\n",
    "visitors['date'] = visitors['date'].map(\n",
    "    lambda x: dt.datetime.strptime(x, '%Y-%m-%d')\n",
    ")"
   ]
  },
  {
   "cell_type": "markdown",
   "metadata": {},
   "source": [
    "Переведем дату к удобному формату"
   ]
  },
  {
   "cell_type": "markdown",
   "metadata": {},
   "source": [
    "Переходим к агрегации требуемых данных"
   ]
  },
  {
   "cell_type": "code",
   "execution_count": 13,
   "metadata": {},
   "outputs": [],
   "source": [
    "# массив уникальных пар значений дат и групп теста методом\n",
    "datesGroups = orders[['date', 'group']].drop_duplicates()"
   ]
  },
  {
   "cell_type": "code",
   "execution_count": 14,
   "metadata": {},
   "outputs": [],
   "source": [
    "# агрегированные кумулятивные по дням данные о заказах\n",
    "ordersAggregated = datesGroups.apply(\n",
    "    lambda x: orders[\n",
    "        np.logical_and(\n",
    "            orders['date'] <= x['date'], orders['group'] == x['group']\n",
    "        )\n",
    "    ].agg(\n",
    "        {\n",
    "            'date': 'max',\n",
    "            'group': 'max',\n",
    "            'orderId': 'nunique',\n",
    "            'userId': 'nunique',\n",
    "            'revenue': 'sum',\n",
    "        }\n",
    "    ),\n",
    "    axis=1,\n",
    ").sort_values(by=['date', 'group'])\n",
    "# агрегированные кумулятивные по дням данные о посетителях\n",
    "visitorsAggregated = datesGroups.apply(\n",
    "    lambda x: visitors[\n",
    "        np.logical_and(\n",
    "            visitors['date'] <= x['date'], visitors['group'] == x['group']\n",
    "        )\n",
    "    ].agg({'date': 'max', 'group': 'max', 'visitors': 'sum'}),\n",
    "    axis=1,\n",
    ").sort_values(by=['date', 'group'])\n",
    "# объединяем кумулятивные данные в одной таблице\n",
    "cumulativeData = ordersAggregated.merge(\n",
    "    visitorsAggregated, left_on=['date', 'group'], right_on=['date', 'group']\n",
    ")\n",
    "cumulativeData.columns = [\n",
    "    'date',\n",
    "    'group',\n",
    "    'orders',\n",
    "    'buyers',\n",
    "    'revenue',\n",
    "    'visitors',\n",
    "]"
   ]
  },
  {
   "cell_type": "markdown",
   "metadata": {},
   "source": [
    "### График кумулятивной выручки по группам"
   ]
  },
  {
   "cell_type": "code",
   "execution_count": 16,
   "metadata": {
    "scrolled": true
   },
   "outputs": [
    {
     "data": {
      "image/png": "[encoded data removed]",
      "text/plain": [
       "<Figure size 720x360 with 1 Axes>"
      ]
     },
     "metadata": {
      "needs_background": "light"
     },
     "output_type": "display_data"
    }
   ],
   "source": [
    "cumulativeRevenueA = cumulativeData[cumulativeData['group']=='A'][['date','revenue','orders']]\n",
    "cumulativeRevenueB = cumulativeData[cumulativeData['group']=='B'][['date','revenue','orders']]\n",
    "plt.figure(figsize=(10,5))\n",
    "plt.plot(cumulativeRevenueA['date'], cumulativeRevenueA['revenue'],label='A')\n",
    "plt.plot(cumulativeRevenueB['date'], cumulativeRevenueB['revenue'],label='B')\n",
    "plt.title('Кумулятивная выручка по группам')\n",
    "plt.xlabel('Дата')\n",
    "plt.ylabel('Выручка')\n",
    "plt.legend()\n",
    "plt.show()"
   ]
  },
  {
   "cell_type": "markdown",
   "metadata": {},
   "source": [
    "Группа B показывает себя очень хорошо на протяжении всего теста, но имеется резкий всплеск выручки в середине теста, возможно аномально дорогие заказы повлияли на это. Тенденция лидерства группы B прослеживается на протяжении всего теста."
   ]
  },
  {
   "cell_type": "markdown",
   "metadata": {},
   "source": [
    "### График кумулятивного среднего чека по группам"
   ]
  },
  {
   "cell_type": "code",
   "execution_count": 17,
   "metadata": {
    "scrolled": true
   },
   "outputs": [
    {
     "data": {
      "image/png": "[encoded data removed]",
      "text/plain": [
       "<Figure size 720x360 with 1 Axes>"
      ]
     },
     "metadata": {
      "needs_background": "light"
     },
     "output_type": "display_data"
    }
   ],
   "source": [
    "plt.figure(figsize=(10,5))\n",
    "plt.plot(cumulativeRevenueA['date'], cumulativeRevenueA['revenue']/cumulativeRevenueA['orders'], label='A')\n",
    "plt.plot(cumulativeRevenueB['date'], cumulativeRevenueB['revenue']/cumulativeRevenueB['orders'], label='B')\n",
    "plt.title('Кумулятивный средний чек по группам')\n",
    "plt.xlabel('Дата')\n",
    "plt.ylabel('Выручка')\n",
    "plt.legend() \n",
    "plt.show()"
   ]
  },
  {
   "cell_type": "markdown",
   "metadata": {},
   "source": [
    "Заметны колебания значений и резкий всплеск в одной из групп, потребуется рассмотреть аномалии, возможно, заметное влияние на средний чек."
   ]
  },
  {
   "cell_type": "markdown",
   "metadata": {},
   "source": [
    "### График относительного изменения кумулятивного среднего чека группы B к группе A"
   ]
  },
  {
   "cell_type": "code",
   "execution_count": 21,
   "metadata": {
    "scrolled": true
   },
   "outputs": [
    {
     "data": {
      "image/png": "[encoded data removed]",
      "text/plain": [
       "<Figure size 720x360 with 1 Axes>"
      ]
     },
     "metadata": {
      "needs_background": "light"
     },
     "output_type": "display_data"
    }
   ],
   "source": [
    "mergedCumulativeRevenue = cumulativeRevenueA.merge(cumulativeRevenueB, left_on='date', right_on='date', suffixes=['A','B'])\n",
    "plt.figure(figsize=(10,5))\n",
    "plt.plot(mergedCumulativeRevenue['date'],(mergedCumulativeRevenue['revenueB']/mergedCumulativeRevenue['ordersB'])/(mergedCumulativeRevenue['revenueA']/mergedCumulativeRevenue['ordersA'])-1)\n",
    "plt.axhline(y=0,color='black',linestyle='--')\n",
    "plt.title('Изменение среднего чека группы B относительно группы A')\n",
    "plt.xlabel('Дата')\n",
    "plt.ylabel('Доля выручки')\n",
    "plt.show()"
   ]
  },
  {
   "cell_type": "markdown",
   "metadata": {},
   "source": [
    "Имеются резкие скачки, что говорит о аномальных заказах в некоторые даты."
   ]
  },
  {
   "cell_type": "markdown",
   "metadata": {},
   "source": [
    "### График кумулятивной конверсии по группам"
   ]
  },
  {
   "cell_type": "code",
   "execution_count": 23,
   "metadata": {
    "scrolled": true
   },
   "outputs": [
    {
     "data": {
      "image/png": "[encoded data removed]",
      "text/plain": [
       "<Figure size 720x360 with 1 Axes>"
      ]
     },
     "metadata": {
      "needs_background": "light"
     },
     "output_type": "display_data"
    }
   ],
   "source": [
    "cumulativeData['conversion'] = cumulativeData['orders']/cumulativeData['visitors']\n",
    "cumulativeDataA = cumulativeData[cumulativeData['group']=='A']\n",
    "cumulativeDataB = cumulativeData[cumulativeData['group']=='B']\n",
    "plt.figure(figsize=(10,5))\n",
    "plt.plot(cumulativeDataA['date'],cumulativeDataA['conversion'],label='A')\n",
    "plt.plot(cumulativeDataB['date'],cumulativeDataB['conversion'],label='B')\n",
    "plt.legend()\n",
    "plt.title('Кумулятивная конверсия по группам')\n",
    "plt.xlabel('Дата')\n",
    "plt.ylabel('Процент выручки')\n",
    "plt.axis([dt.datetime(2019, 8, 1), dt.datetime(2019, 8, 31), 0, 0.05])\n",
    "plt.show()"
   ]
  },
  {
   "cell_type": "markdown",
   "metadata": {},
   "source": [
    "Конверсия группы B после 5 дня начала возрастать и превысила конверсию группы A, после чего зафиксировалась примерно около одного значения выше конверсии группы A"
   ]
  },
  {
   "cell_type": "markdown",
   "metadata": {},
   "source": [
    "### График относительного изменения кумулятивной конверсии группы B к группе A"
   ]
  },
  {
   "cell_type": "code",
   "execution_count": 28,
   "metadata": {
    "scrolled": true
   },
   "outputs": [
    {
     "data": {
      "image/png": "[encoded data removed]",
      "text/plain": [
       "<Figure size 720x360 with 1 Axes>"
      ]
     },
     "metadata": {
      "needs_background": "light"
     },
     "output_type": "display_data"
    }
   ],
   "source": [
    "mergedCumulativeConversions = cumulativeDataA[['date','conversion']].merge(cumulativeDataB[['date','conversion']], left_on='date', right_on='date', how='left', suffixes=['A','B'] )\n",
    "plt.figure(figsize=(10,5))\n",
    "plt.plot(mergedCumulativeConversions['date'], mergedCumulativeConversions['conversionB']/mergedCumulativeConversions['conversionA']-1)\n",
    "plt.axhline(y=0, color='black', linestyle='--')\n",
    "plt.axhline(y=0.2, color='grey', linestyle='--')\n",
    "plt.axhline(y=0.1, color='grey', linestyle='--')\n",
    "plt.title('Относительное изменения кумулятивной конверсии группы B к группе A')\n",
    "plt.xlabel('Дата')\n",
    "plt.ylabel('Доля выручки')\n",
    "plt.grid()\n",
    "plt.axis([dt.datetime(2019, 8, 1), dt.datetime(2019, 8, 31), -0.5, 0.5])\n",
    "plt.show()"
   ]
  },
  {
   "cell_type": "markdown",
   "metadata": {},
   "source": [
    "Почти с самого начала теста группа B лидирует по конверсии: становится лучше и лучше, либо зафиксировалась около прироста в 15% относительно группы A."
   ]
  },
  {
   "cell_type": "markdown",
   "metadata": {},
   "source": [
    "### Точечный график количества заказов по пользователям"
   ]
  },
  {
   "cell_type": "code",
   "execution_count": 31,
   "metadata": {
    "scrolled": true
   },
   "outputs": [
    {
     "data": {
      "image/png": "[encoded data removed]",
      "text/plain": [
       "<Figure size 432x288 with 1 Axes>"
      ]
     },
     "metadata": {
      "needs_background": "light"
     },
     "output_type": "display_data"
    }
   ],
   "source": [
    "ordersByUsers = (\n",
    "    orders.groupby('userId', as_index=False)\n",
    "    .agg({'orderId': 'nunique'})\n",
    ")\n",
    "ordersByUsers.columns = ['userId', 'orders']\n",
    "x_values = pd.Series(range(0, len(ordersByUsers)))\n",
    "plt.scatter(x=x_values, y=ordersByUsers['orders'], alpha=0.5)\n",
    "plt.title('Количество заказов по пользователям')\n",
    "plt.xlabel('Пользователи')\n",
    "plt.ylabel('Заказы');"
   ]
  },
  {
   "cell_type": "markdown",
   "metadata": {},
   "source": [
    "Имеются некоторое количество аномальных заказов, но в освновном 3 заказа для пользователя это предел, очень малый процент пользователей заказывают больше"
   ]
  },
  {
   "cell_type": "markdown",
   "metadata": {},
   "source": [
    "### 95-й и 99-й перцентили количества заказов на пользователя"
   ]
  },
  {
   "cell_type": "code",
   "execution_count": 34,
   "metadata": {},
   "outputs": [
    {
     "name": "stdout",
     "output_type": "stream",
     "text": [
      "[2. 4.]\n"
     ]
    }
   ],
   "source": [
    "print(np.percentile(ordersByUsers['orders'],[95,99]))\n",
    "# запомним число для фильтрациии\n",
    "orderfilter=np.percentile(ordersByUsers['orders'],99)"
   ]
  },
  {
   "cell_type": "markdown",
   "metadata": {},
   "source": [
    "Подтверждение графика заказов, лишь 5% пользователей делают 3 и больше заказа, и только 1% 4 и больше, будем считать что аномально большое количество заказов больше 3"
   ]
  },
  {
   "cell_type": "markdown",
   "metadata": {},
   "source": [
    "### Точечный график стоимостей заказов"
   ]
  },
  {
   "cell_type": "code",
   "execution_count": 36,
   "metadata": {
    "scrolled": true
   },
   "outputs": [
    {
     "data": {
      "image/png": "[encoded data removed]",
      "text/plain": [
       "<Figure size 432x288 with 1 Axes>"
      ]
     },
     "metadata": {
      "needs_background": "light"
     },
     "output_type": "display_data"
    }
   ],
   "source": [
    "x_values = pd.Series(range(0, len(orders['revenue'])))\n",
    "plt.scatter(x=x_values, y=orders['revenue'], alpha=0.5)\n",
    "plt.title('Стоимость заказов')\n",
    "plt.xlabel('Количество')\n",
    "plt.ylabel('Стоимость');"
   ]
  },
  {
   "cell_type": "markdown",
   "metadata": {},
   "source": [
    "По такому графику тяжело сказать сколько в среднем стоит заказ, но зато заметны некоторые аномально дорогие заказы, которые точно нужно будет отсечь"
   ]
  },
  {
   "cell_type": "markdown",
   "metadata": {},
   "source": [
    "### 95-й и 99-й перцентили стоимости заказов"
   ]
  },
  {
   "cell_type": "code",
   "execution_count": 38,
   "metadata": {},
   "outputs": [
    {
     "name": "stdout",
     "output_type": "stream",
     "text": [
      "[28000.  58233.2]\n"
     ]
    }
   ],
   "source": [
    "print(np.percentile(orders['revenue'],[95,99]))\n",
    "pricefilter = np.percentile(orders['revenue'],99)"
   ]
  },
  {
   "cell_type": "markdown",
   "metadata": {},
   "source": [
    "За аномальные можно будет считать заказы дороже 58233.2, чтобы быть отсечь приблизительно 1% пользователей c аномально большими заказами"
   ]
  },
  {
   "cell_type": "markdown",
   "metadata": {},
   "source": [
    "# <b>Гипотезы</b>\n",
    "\n",
    "<b>Гипотеза о равенстве конверсии между группами</b>\n",
    "\n",
    "Нулевая гипотеза: различий в конверсии между группами нет.\n",
    "\n",
    "Альтернативная гипотеза: различия в конверсии между группами есть.\n",
    "\n",
    "Уровень статистической значимости: <b>0.05</b>\n",
    "\n",
    "<b>Гипотеза об отсутствии различий в среднем чеке между сегментами</b>\n",
    "\n",
    "Нулевая гипотеза: различий в среднем чеке между группами нет. \n",
    "\n",
    "Альтернативная гипотеза: различия в среднем чеке между группами есть.\n",
    "\n",
    "Уровень статистической значимости: <b>0.05</b>"
   ]
  },
  {
   "cell_type": "markdown",
   "metadata": {},
   "source": [
    "### Статистическая значимость различий в конверсии между группами по «сырым» данным"
   ]
  },
  {
   "cell_type": "code",
   "execution_count": 39,
   "metadata": {},
   "outputs": [
    {
     "name": "stdout",
     "output_type": "stream",
     "text": [
      "P-value = 0.01679\n",
      "Коверсия группы B к группе А 13.8%\n"
     ]
    }
   ],
   "source": [
    "visitorsADaily = visitors[visitors['group'] == 'A'][['date', 'visitors']]\n",
    "visitorsADaily.columns = ['date', 'visitorsPerDateA']\n",
    "visitorsBDaily = visitors[visitors['group'] == 'B'][['date', 'visitors']]\n",
    "visitorsBDaily.columns = ['date', 'visitorsPerDateB']\n",
    "# Число заказов пользователей группы А, совершивших хотя бы 1 заказ\n",
    "ordersByUsersA = (\n",
    "    orders[orders['group'] == 'A']\n",
    "    .groupby('userId', as_index=False)\n",
    "    .agg({'orderId': pd.Series.nunique})\n",
    ")\n",
    "ordersByUsersA.columns = ['userId', 'orders']\n",
    "# Число заказов пользователей группы В, совершивших хотя бы 1 заказ\n",
    "ordersByUsersB = (\n",
    "    orders[orders['group'] == 'B']\n",
    "    .groupby('userId', as_index=False)\n",
    "    .agg({'orderId': pd.Series.nunique})\n",
    ")\n",
    "ordersByUsersB.columns = ['userId', 'orders']\n",
    "# Выборки из групп, где пользователю соответствует его число заказов\n",
    "sampleA = pd.concat(\n",
    "    [\n",
    "        ordersByUsersA['orders'],\n",
    "        pd.Series(\n",
    "            0,\n",
    "            index=np.arange(\n",
    "                visitorsADaily['visitorsPerDateA'].sum() - len(ordersByUsersA['orders'])\n",
    "            ),\n",
    "            name='orders',\n",
    "        ),\n",
    "    ],\n",
    "    axis=0,\n",
    ")\n",
    "sampleB = pd.concat(\n",
    "    [\n",
    "        ordersByUsersB['orders'],\n",
    "        pd.Series(\n",
    "            0,\n",
    "            index=np.arange(\n",
    "                visitorsBDaily['visitorsPerDateB'].sum() - len(ordersByUsersB['orders'])\n",
    "            ),\n",
    "            name='orders',\n",
    "        ),\n",
    "    ],\n",
    "    axis=0,\n",
    ")\n",
    "print('P-value =',round(stats.mannwhitneyu(sampleA,sampleB)[1],5))\n",
    "print('Коверсия группы B к группе А','{0:.1%}'.format(sampleB.mean()/sampleA.mean()-1))"
   ]
  },
  {
   "cell_type": "markdown",
   "metadata": {},
   "source": [
    "P-value значительно меньше 0.05, потому нулевую гипотезу отвергаем. Анализ «сырых данных» сообщает, что в конверсии между группами есть статистически значимые различия. Относительный прирост конверсии группы B к конверсии группы A равен 13.8%."
   ]
  },
  {
   "cell_type": "markdown",
   "metadata": {},
   "source": [
    "### Статистическая значимость различий в среднем чеке заказа между группами по «сырым» данным"
   ]
  },
  {
   "cell_type": "code",
   "execution_count": 40,
   "metadata": {
    "scrolled": true
   },
   "outputs": [
    {
     "name": "stdout",
     "output_type": "stream",
     "text": [
      "P-value = 0.729\n",
      "Средн.чек B к А 25.9%\n"
     ]
    }
   ],
   "source": [
    "print('P-value =','{0:.3f}'.format(stats.mannwhitneyu(orders[orders['group']=='A']['revenue'],orders[orders['group']=='B']['revenue'])[1]))\n",
    "print('Средн.чек B к А','{0:.1%}'.format(orders[orders['group']=='B']['revenue'].mean()/orders[orders['group']=='A']['revenue'].mean()-1))"
   ]
  },
  {
   "cell_type": "markdown",
   "metadata": {},
   "source": [
    "P-value больше 0.05 — статистически значимых отличий в среднем чеке между группами нет. А вот относительное различие среднего чека между сегментами составляет 25.9%, что вероятнее всего говорит о наличии аномалий"
   ]
  },
  {
   "cell_type": "markdown",
   "metadata": {},
   "source": [
    "### Статистическая значимость различий в конверсии между группами по «очищенным» данным"
   ]
  },
  {
   "cell_type": "markdown",
   "metadata": {},
   "source": [
    "Аномальными значениями будут считаться пользователи либо с числом заказов больше 3, либо со стоимостью заказа больше 40000"
   ]
  },
  {
   "cell_type": "code",
   "execution_count": 41,
   "metadata": {},
   "outputs": [
    {
     "name": "stdout",
     "output_type": "stream",
     "text": [
      "0.01390\n",
      "15.10%\n"
     ]
    }
   ],
   "source": [
    "# Срез с пользователями с большим количеством заказов\n",
    "usersWithManyOrders = pd.concat([\n",
    "    ordersByUsersA[ordersByUsersA['orders'] >= orderfilter]['userId'], ordersByUsersB[ordersByUsersB['orders'] >= orderfilter]['userId']\n",
    "], axis=0)\n",
    "# Срез с пользователями с очень дорогими заказами\n",
    "usersWithExpensiveOrders = orders[orders['revenue'] > pricefilter]['userId']\n",
    "# Соеденим срезы, что фильтровать по ним данные\n",
    "abnormalUsers = pd.concat([usersWithManyOrders,usersWithExpensiveOrders],axis=0).drop_duplicates().sort_values()\n",
    "sampleAFiltered = pd.concat(\n",
    "    [\n",
    "        ordersByUsersA[\n",
    "            np.logical_not(ordersByUsersA['userId'].isin(abnormalUsers))\n",
    "        ]['orders'],\n",
    "        pd.Series(\n",
    "            0,\n",
    "            index=np.arange(\n",
    "                visitorsADaily['visitorsPerDateA'].sum() - len(ordersByUsersA['orders'])\n",
    "            ),\n",
    "            name='orders',\n",
    "        ),\n",
    "    ],\n",
    "    axis=0,\n",
    ")\n",
    "sampleBFiltered = pd.concat(\n",
    "    [\n",
    "        ordersByUsersB[\n",
    "            np.logical_not(ordersByUsersB['userId'].isin(abnormalUsers))\n",
    "        ]['orders'],\n",
    "        pd.Series(\n",
    "            0,\n",
    "            index=np.arange(\n",
    "                visitorsBDaily['visitorsPerDateB'].sum() - len(ordersByUsersB['orders'])\n",
    "            ),\n",
    "            name='orders',\n",
    "        ),\n",
    "    ],\n",
    "    axis=0,\n",
    ") \n",
    "print('{0:.5f}'.format(stats.mannwhitneyu(sampleAFiltered,sampleBFiltered)[1]))\n",
    "print('{0:.2%}'.format(sampleBFiltered.mean()/sampleAFiltered.mean()-1))"
   ]
  },
  {
   "cell_type": "markdown",
   "metadata": {},
   "source": [
    "Как и в случае с сырыми данными, статистическая значимость достигнута. Сегмент B значительно лучше сегмента A."
   ]
  },
  {
   "cell_type": "markdown",
   "metadata": {},
   "source": [
    "### Cтатистическая значимость различий в среднем чеке заказа между группами по «очищенным» данным"
   ]
  },
  {
   "cell_type": "code",
   "execution_count": 42,
   "metadata": {},
   "outputs": [
    {
     "name": "stdout",
     "output_type": "stream",
     "text": [
      "0.959\n",
      "-1.39%\n"
     ]
    }
   ],
   "source": [
    "print(\n",
    "    '{0:.3f}'.format(\n",
    "        stats.mannwhitneyu(\n",
    "            orders[\n",
    "                np.logical_and(\n",
    "                    orders['group'] == 'A',\n",
    "                    np.logical_not(orders['userId'].isin(abnormalUsers)),\n",
    "                )\n",
    "            ]['revenue'],\n",
    "            orders[\n",
    "                np.logical_and(\n",
    "                    orders['group'] == 'B',\n",
    "                    np.logical_not(orders['userId'].isin(abnormalUsers)),\n",
    "                )\n",
    "            ]['revenue'],\n",
    "        )[1]\n",
    "    )\n",
    ")\n",
    "\n",
    "print(\n",
    "    \"{0:.2%}\".format(\n",
    "        orders[\n",
    "            np.logical_and(\n",
    "                orders['group'] == 'B',\n",
    "                np.logical_not(orders['userId'].isin(abnormalUsers)),\n",
    "            )\n",
    "        ]['revenue'].mean()\n",
    "        / orders[\n",
    "            np.logical_and(\n",
    "                orders['group'] == 'A',\n",
    "                np.logical_not(orders['userId'].isin(abnormalUsers)),\n",
    "            )\n",
    "        ]['revenue'].mean()\n",
    "        - 1\n",
    "    )\n",
    ") "
   ]
  },
  {
   "cell_type": "markdown",
   "metadata": {},
   "source": [
    "Статистической значимости не появилось, зато различие в среднем чеке после удаления шума стало отрицательным. Различие в -1% выручки не является значимым, возможо что-то еще влияет на выручку, либо она может колебаться в силу какого-то фактора."
   ]
  },
  {
   "cell_type": "markdown",
   "metadata": {},
   "source": [
    "### Решение по результатам теста"
   ]
  },
  {
   "cell_type": "markdown",
   "metadata": {},
   "source": [
    "<b>Подведем итоги: </b>\n",
    "* Есть статистически значимое различие по конверсии между группами как по сырым данным, так и после фильтрации аномалий.\n",
    "* Как по сырым данным, так и после удаления аномалий статистически значимого различия по среднему чеку между группами не появилось. Но относительное различие среднего чека между сегментами составило -1%, средний чек группы B проигрывает среднему чеку группы A, но средний чек может быть различным в каждый период времени.\n",
    "* График различия конверсии между группами сообщает, что результаты группы B лучше группы A: имеют тенденцию к росту, либо зафиксировались около среднего значения.\n",
    "* График различия среднего чека колеблется, что говорит о наличии аномалий.\n",
    "\n",
    "Исходя из всего вышеперечисленного, можно с уверенностью сказать,что тест удался и группа B лучше группы A, можно останавливать тест."
   ]
  }
 ],
 "metadata": {
  "ExecuteTimeLog": [
   {
    "duration": 751,
    "start_time": "2022-06-04T21:42:11.209Z"
   },
   {
    "duration": 62,
    "start_time": "2022-06-04T21:42:41.012Z"
   },
   {
    "duration": 14,
    "start_time": "2022-06-04T21:42:44.330Z"
   },
   {
    "duration": 400,
    "start_time": "2022-06-04T22:10:55.162Z"
   },
   {
    "duration": 24,
    "start_time": "2022-06-04T22:11:08.047Z"
   },
   {
    "duration": 13,
    "start_time": "2022-06-04T22:11:28.316Z"
   },
   {
    "duration": 8,
    "start_time": "2022-06-04T22:11:59.633Z"
   },
   {
    "duration": 8,
    "start_time": "2022-06-04T22:12:35.792Z"
   },
   {
    "duration": 149,
    "start_time": "2022-06-04T22:30:52.106Z"
   },
   {
    "duration": 7,
    "start_time": "2022-06-04T22:31:17.759Z"
   },
   {
    "duration": 13,
    "start_time": "2022-06-04T22:31:24.496Z"
   },
   {
    "duration": 15,
    "start_time": "2022-06-04T22:31:32.410Z"
   },
   {
    "duration": 11,
    "start_time": "2022-06-04T22:31:38.047Z"
   },
   {
    "duration": 21,
    "start_time": "2022-06-04T22:32:50.235Z"
   },
   {
    "duration": 28,
    "start_time": "2022-06-04T22:33:06.952Z"
   },
   {
    "duration": 20,
    "start_time": "2022-06-04T22:33:14.354Z"
   },
   {
    "duration": 18,
    "start_time": "2022-06-04T22:33:23.186Z"
   },
   {
    "duration": 23,
    "start_time": "2022-06-04T22:33:29.187Z"
   },
   {
    "duration": 18,
    "start_time": "2022-06-04T22:35:50.147Z"
   },
   {
    "duration": 8,
    "start_time": "2022-06-04T22:36:34.018Z"
   },
   {
    "duration": 5,
    "start_time": "2022-06-04T22:37:03.761Z"
   },
   {
    "duration": 100,
    "start_time": "2022-06-04T22:41:32.306Z"
   },
   {
    "duration": 95,
    "start_time": "2022-06-04T22:41:55.561Z"
   },
   {
    "duration": 14,
    "start_time": "2022-06-04T22:43:17.586Z"
   },
   {
    "duration": 16,
    "start_time": "2022-06-04T22:43:26.506Z"
   },
   {
    "duration": 6,
    "start_time": "2022-06-04T22:44:56.384Z"
   },
   {
    "duration": 24,
    "start_time": "2022-06-04T22:46:18.002Z"
   },
   {
    "duration": 31,
    "start_time": "2022-06-04T22:46:35.714Z"
   },
   {
    "duration": 286,
    "start_time": "2022-06-04T22:47:10.052Z"
   },
   {
    "duration": 5,
    "start_time": "2022-06-04T22:47:32.084Z"
   },
   {
    "duration": 13,
    "start_time": "2022-06-04T22:48:50.021Z"
   },
   {
    "duration": 512,
    "start_time": "2022-06-04T22:49:20.704Z"
   },
   {
    "duration": 288,
    "start_time": "2022-06-04T22:49:24.884Z"
   },
   {
    "duration": 245,
    "start_time": "2022-06-04T22:54:57.584Z"
   },
   {
    "duration": 5,
    "start_time": "2022-06-04T22:56:06.116Z"
   },
   {
    "duration": 210,
    "start_time": "2022-06-04T22:56:37.834Z"
   },
   {
    "duration": 165,
    "start_time": "2022-06-04T22:57:07.706Z"
   },
   {
    "duration": 171,
    "start_time": "2022-06-04T22:57:41.714Z"
   },
   {
    "duration": 291,
    "start_time": "2022-06-04T22:59:01.201Z"
   },
   {
    "duration": 183,
    "start_time": "2022-06-04T23:03:02.655Z"
   },
   {
    "duration": 208,
    "start_time": "2022-06-04T23:03:14.883Z"
   },
   {
    "duration": 172,
    "start_time": "2022-06-04T23:03:22.522Z"
   },
   {
    "duration": 208,
    "start_time": "2022-06-04T23:03:40.287Z"
   },
   {
    "duration": 180,
    "start_time": "2022-06-04T23:03:45.309Z"
   },
   {
    "duration": 337,
    "start_time": "2022-06-04T23:14:28.888Z"
   },
   {
    "duration": 284,
    "start_time": "2022-06-04T23:14:50.133Z"
   },
   {
    "duration": 14,
    "start_time": "2022-06-04T23:28:50.416Z"
   },
   {
    "duration": 12,
    "start_time": "2022-06-04T23:29:29.228Z"
   },
   {
    "duration": 17,
    "start_time": "2022-06-04T23:29:52.635Z"
   },
   {
    "duration": 205,
    "start_time": "2022-06-04T23:30:27.132Z"
   },
   {
    "duration": 149,
    "start_time": "2022-06-04T23:30:38.940Z"
   },
   {
    "duration": 6,
    "start_time": "2022-06-04T23:34:00.590Z"
   },
   {
    "duration": 140,
    "start_time": "2022-06-04T23:39:19.594Z"
   },
   {
    "duration": 4,
    "start_time": "2022-06-04T23:40:21.993Z"
   },
   {
    "duration": 1261,
    "start_time": "2022-06-05T10:56:52.839Z"
   },
   {
    "duration": 68,
    "start_time": "2022-06-05T10:56:54.102Z"
   },
   {
    "duration": 11,
    "start_time": "2022-06-05T10:56:54.172Z"
   },
   {
    "duration": 12,
    "start_time": "2022-06-05T10:56:54.185Z"
   },
   {
    "duration": 7,
    "start_time": "2022-06-05T10:56:54.198Z"
   },
   {
    "duration": 120,
    "start_time": "2022-06-05T10:56:54.207Z"
   },
   {
    "duration": 12,
    "start_time": "2022-06-05T10:56:54.329Z"
   },
   {
    "duration": 18,
    "start_time": "2022-06-05T10:56:54.342Z"
   },
   {
    "duration": 9,
    "start_time": "2022-06-05T10:56:54.362Z"
   },
   {
    "duration": 16,
    "start_time": "2022-06-05T10:56:54.373Z"
   },
   {
    "duration": 7,
    "start_time": "2022-06-05T10:56:54.391Z"
   },
   {
    "duration": 313,
    "start_time": "2022-06-05T10:56:54.400Z"
   },
   {
    "duration": 326,
    "start_time": "2022-06-05T10:56:54.715Z"
   },
   {
    "duration": 254,
    "start_time": "2022-06-05T10:56:55.042Z"
   },
   {
    "duration": 355,
    "start_time": "2022-06-05T10:56:55.297Z"
   },
   {
    "duration": 171,
    "start_time": "2022-06-05T10:56:55.654Z"
   },
   {
    "duration": 304,
    "start_time": "2022-06-05T10:56:55.826Z"
   },
   {
    "duration": 126,
    "start_time": "2022-06-05T10:56:56.144Z"
   },
   {
    "duration": 5,
    "start_time": "2022-06-05T10:56:56.271Z"
   },
   {
    "duration": 152,
    "start_time": "2022-06-05T10:56:56.277Z"
   },
   {
    "duration": 12,
    "start_time": "2022-06-05T10:56:56.431Z"
   },
   {
    "duration": 343,
    "start_time": "2022-06-05T11:14:16.182Z"
   },
   {
    "duration": 297,
    "start_time": "2022-06-05T11:14:31.891Z"
   },
   {
    "duration": 285,
    "start_time": "2022-06-05T11:14:44.847Z"
   },
   {
    "duration": 295,
    "start_time": "2022-06-05T11:14:51.036Z"
   },
   {
    "duration": 199,
    "start_time": "2022-06-05T11:15:17.647Z"
   },
   {
    "duration": 191,
    "start_time": "2022-06-05T11:15:30.940Z"
   },
   {
    "duration": 175,
    "start_time": "2022-06-05T11:15:37.059Z"
   },
   {
    "duration": 259,
    "start_time": "2022-06-05T11:15:41.664Z"
   },
   {
    "duration": 216,
    "start_time": "2022-06-05T11:15:50.196Z"
   },
   {
    "duration": 294,
    "start_time": "2022-06-05T11:16:09.353Z"
   },
   {
    "duration": 224,
    "start_time": "2022-06-05T11:16:26.381Z"
   },
   {
    "duration": 186,
    "start_time": "2022-06-05T11:16:38.398Z"
   },
   {
    "duration": 290,
    "start_time": "2022-06-05T11:16:58.231Z"
   },
   {
    "duration": 247,
    "start_time": "2022-06-05T11:17:01.287Z"
   },
   {
    "duration": 4,
    "start_time": "2022-06-05T11:36:06.788Z"
   },
   {
    "duration": 116,
    "start_time": "2022-06-05T11:38:19.562Z"
   },
   {
    "duration": 1039,
    "start_time": "2022-06-05T11:38:40.657Z"
   },
   {
    "duration": 27,
    "start_time": "2022-06-05T11:38:41.698Z"
   },
   {
    "duration": 12,
    "start_time": "2022-06-05T11:38:41.726Z"
   },
   {
    "duration": 9,
    "start_time": "2022-06-05T11:38:41.740Z"
   },
   {
    "duration": 8,
    "start_time": "2022-06-05T11:38:41.750Z"
   },
   {
    "duration": 49,
    "start_time": "2022-06-05T11:38:41.760Z"
   },
   {
    "duration": 11,
    "start_time": "2022-06-05T11:38:41.811Z"
   },
   {
    "duration": 4,
    "start_time": "2022-06-05T11:38:41.823Z"
   },
   {
    "duration": 19,
    "start_time": "2022-06-05T11:38:41.829Z"
   },
   {
    "duration": 5,
    "start_time": "2022-06-05T11:38:41.851Z"
   },
   {
    "duration": 19,
    "start_time": "2022-06-05T11:38:41.858Z"
   },
   {
    "duration": 10,
    "start_time": "2022-06-05T11:38:41.879Z"
   },
   {
    "duration": 131,
    "start_time": "2022-06-05T11:38:41.890Z"
   },
   {
    "duration": 0,
    "start_time": "2022-06-05T11:38:42.023Z"
   },
   {
    "duration": 0,
    "start_time": "2022-06-05T11:38:42.024Z"
   },
   {
    "duration": 0,
    "start_time": "2022-06-05T11:38:42.025Z"
   },
   {
    "duration": 0,
    "start_time": "2022-06-05T11:38:42.026Z"
   },
   {
    "duration": 0,
    "start_time": "2022-06-05T11:38:42.027Z"
   },
   {
    "duration": 0,
    "start_time": "2022-06-05T11:38:42.041Z"
   },
   {
    "duration": 0,
    "start_time": "2022-06-05T11:38:42.043Z"
   },
   {
    "duration": 0,
    "start_time": "2022-06-05T11:38:42.043Z"
   },
   {
    "duration": 0,
    "start_time": "2022-06-05T11:38:42.045Z"
   },
   {
    "duration": 0,
    "start_time": "2022-06-05T11:38:42.046Z"
   },
   {
    "duration": 1081,
    "start_time": "2022-06-05T11:39:32.504Z"
   },
   {
    "duration": 27,
    "start_time": "2022-06-05T11:39:33.587Z"
   },
   {
    "duration": 11,
    "start_time": "2022-06-05T11:39:33.615Z"
   },
   {
    "duration": 12,
    "start_time": "2022-06-05T11:39:33.628Z"
   },
   {
    "duration": 7,
    "start_time": "2022-06-05T11:39:33.642Z"
   },
   {
    "duration": 50,
    "start_time": "2022-06-05T11:39:33.651Z"
   },
   {
    "duration": 13,
    "start_time": "2022-06-05T11:39:33.702Z"
   },
   {
    "duration": 3,
    "start_time": "2022-06-05T11:39:33.717Z"
   },
   {
    "duration": 19,
    "start_time": "2022-06-05T11:39:33.721Z"
   },
   {
    "duration": 5,
    "start_time": "2022-06-05T11:39:33.742Z"
   },
   {
    "duration": 17,
    "start_time": "2022-06-05T11:39:33.748Z"
   },
   {
    "duration": 10,
    "start_time": "2022-06-05T11:39:33.766Z"
   },
   {
    "duration": 293,
    "start_time": "2022-06-05T11:39:33.778Z"
   },
   {
    "duration": 301,
    "start_time": "2022-06-05T11:39:34.072Z"
   },
   {
    "duration": 245,
    "start_time": "2022-06-05T11:39:34.375Z"
   },
   {
    "duration": 300,
    "start_time": "2022-06-05T11:39:34.622Z"
   },
   {
    "duration": 195,
    "start_time": "2022-06-05T11:39:34.924Z"
   },
   {
    "duration": 288,
    "start_time": "2022-06-05T11:39:35.121Z"
   },
   {
    "duration": 131,
    "start_time": "2022-06-05T11:39:35.411Z"
   },
   {
    "duration": 5,
    "start_time": "2022-06-05T11:39:35.544Z"
   },
   {
    "duration": 146,
    "start_time": "2022-06-05T11:39:35.550Z"
   },
   {
    "duration": 4,
    "start_time": "2022-06-05T11:39:35.698Z"
   },
   {
    "duration": 170,
    "start_time": "2022-06-05T11:39:35.704Z"
   },
   {
    "duration": 159,
    "start_time": "2022-06-05T11:40:41.062Z"
   },
   {
    "duration": 161,
    "start_time": "2022-06-05T11:41:21.900Z"
   },
   {
    "duration": 161,
    "start_time": "2022-06-05T11:43:03.213Z"
   },
   {
    "duration": 165,
    "start_time": "2022-06-05T11:44:31.404Z"
   },
   {
    "duration": 177,
    "start_time": "2022-06-05T11:44:38.351Z"
   },
   {
    "duration": 190,
    "start_time": "2022-06-05T11:44:58.257Z"
   },
   {
    "duration": 10,
    "start_time": "2022-06-05T11:47:03.202Z"
   },
   {
    "duration": 11,
    "start_time": "2022-06-05T11:47:11.298Z"
   },
   {
    "duration": 11,
    "start_time": "2022-06-05T11:47:20.646Z"
   },
   {
    "duration": 12,
    "start_time": "2022-06-05T11:47:23.896Z"
   },
   {
    "duration": 11,
    "start_time": "2022-06-05T11:47:59.008Z"
   },
   {
    "duration": 11,
    "start_time": "2022-06-05T11:48:08.401Z"
   },
   {
    "duration": 14,
    "start_time": "2022-06-05T11:49:30.797Z"
   },
   {
    "duration": 9,
    "start_time": "2022-06-05T11:54:09.708Z"
   },
   {
    "duration": 626,
    "start_time": "2022-06-05T11:56:07.564Z"
   },
   {
    "duration": 38,
    "start_time": "2022-06-05T11:56:46.755Z"
   },
   {
    "duration": 14,
    "start_time": "2022-06-05T11:59:45.508Z"
   },
   {
    "duration": 34,
    "start_time": "2022-06-05T13:46:09.977Z"
   },
   {
    "duration": 411,
    "start_time": "2022-06-05T13:46:48.019Z"
   },
   {
    "duration": 310,
    "start_time": "2022-06-05T13:47:02.101Z"
   },
   {
    "duration": 38,
    "start_time": "2022-06-05T13:53:33.187Z"
   },
   {
    "duration": 120,
    "start_time": "2022-06-05T13:53:35.726Z"
   },
   {
    "duration": 120,
    "start_time": "2022-06-05T13:53:45.191Z"
   },
   {
    "duration": 123,
    "start_time": "2022-06-05T13:53:48.201Z"
   },
   {
    "duration": 139,
    "start_time": "2022-06-05T14:05:53.106Z"
   },
   {
    "duration": 39,
    "start_time": "2022-06-05T14:24:36.197Z"
   },
   {
    "duration": 16,
    "start_time": "2022-06-05T14:24:39.013Z"
   },
   {
    "duration": 37,
    "start_time": "2022-06-05T14:25:00.099Z"
   },
   {
    "duration": 13,
    "start_time": "2022-06-05T14:25:03.018Z"
   },
   {
    "duration": 82,
    "start_time": "2022-06-06T11:26:35.334Z"
   },
   {
    "duration": 1488,
    "start_time": "2022-06-06T11:26:41.687Z"
   },
   {
    "duration": 68,
    "start_time": "2022-06-06T11:26:43.179Z"
   },
   {
    "duration": 21,
    "start_time": "2022-06-06T11:26:43.250Z"
   },
   {
    "duration": 25,
    "start_time": "2022-06-06T11:26:43.278Z"
   },
   {
    "duration": 10,
    "start_time": "2022-06-06T11:26:43.305Z"
   },
   {
    "duration": 158,
    "start_time": "2022-06-06T11:26:43.317Z"
   },
   {
    "duration": 19,
    "start_time": "2022-06-06T11:26:43.479Z"
   },
   {
    "duration": 13,
    "start_time": "2022-06-06T11:26:43.499Z"
   },
   {
    "duration": 35,
    "start_time": "2022-06-06T11:26:43.514Z"
   },
   {
    "duration": 19,
    "start_time": "2022-06-06T11:26:43.553Z"
   },
   {
    "duration": 32,
    "start_time": "2022-06-06T11:26:43.573Z"
   },
   {
    "duration": 12,
    "start_time": "2022-06-06T11:26:43.607Z"
   },
   {
    "duration": 304,
    "start_time": "2022-06-06T11:26:43.621Z"
   },
   {
    "duration": 418,
    "start_time": "2022-06-06T11:26:43.927Z"
   },
   {
    "duration": 0,
    "start_time": "2022-06-06T11:26:44.353Z"
   },
   {
    "duration": 0,
    "start_time": "2022-06-06T11:26:44.354Z"
   },
   {
    "duration": 0,
    "start_time": "2022-06-06T11:26:44.361Z"
   },
   {
    "duration": 0,
    "start_time": "2022-06-06T11:26:44.365Z"
   },
   {
    "duration": 0,
    "start_time": "2022-06-06T11:26:44.366Z"
   },
   {
    "duration": 0,
    "start_time": "2022-06-06T11:26:44.368Z"
   },
   {
    "duration": 0,
    "start_time": "2022-06-06T11:26:44.370Z"
   },
   {
    "duration": 0,
    "start_time": "2022-06-06T11:26:44.371Z"
   },
   {
    "duration": 0,
    "start_time": "2022-06-06T11:26:44.373Z"
   },
   {
    "duration": 0,
    "start_time": "2022-06-06T11:26:44.375Z"
   },
   {
    "duration": 0,
    "start_time": "2022-06-06T11:26:44.376Z"
   },
   {
    "duration": 0,
    "start_time": "2022-06-06T11:26:44.378Z"
   },
   {
    "duration": 285,
    "start_time": "2022-06-06T11:27:16.608Z"
   },
   {
    "duration": 209,
    "start_time": "2022-06-06T11:28:52.884Z"
   },
   {
    "duration": 377,
    "start_time": "2022-06-06T11:29:30.936Z"
   },
   {
    "duration": 293,
    "start_time": "2022-06-06T11:30:03.790Z"
   },
   {
    "duration": 272,
    "start_time": "2022-06-06T11:30:43.190Z"
   },
   {
    "duration": 315,
    "start_time": "2022-06-06T11:31:35.441Z"
   },
   {
    "duration": 191,
    "start_time": "2022-06-06T11:32:01.172Z"
   },
   {
    "duration": 194,
    "start_time": "2022-06-06T11:32:51.138Z"
   },
   {
    "duration": 274,
    "start_time": "2022-06-06T11:33:03.350Z"
   },
   {
    "duration": 33,
    "start_time": "2022-06-06T11:33:27.437Z"
   },
   {
    "duration": 183,
    "start_time": "2022-06-06T11:33:45.612Z"
   },
   {
    "duration": 246,
    "start_time": "2022-06-06T11:33:54.093Z"
   },
   {
    "duration": 320,
    "start_time": "2022-06-06T11:36:00.235Z"
   },
   {
    "duration": 232,
    "start_time": "2022-06-06T11:36:42.523Z"
   },
   {
    "duration": 134,
    "start_time": "2022-06-06T11:37:38.517Z"
   },
   {
    "duration": 120,
    "start_time": "2022-06-06T11:38:09.474Z"
   },
   {
    "duration": 5,
    "start_time": "2022-06-06T11:38:24.611Z"
   },
   {
    "duration": 5,
    "start_time": "2022-06-06T11:40:00.191Z"
   },
   {
    "duration": 5,
    "start_time": "2022-06-06T11:40:24.337Z"
   },
   {
    "duration": 140,
    "start_time": "2022-06-06T11:43:00.763Z"
   },
   {
    "duration": 129,
    "start_time": "2022-06-06T11:44:04.809Z"
   },
   {
    "duration": 4,
    "start_time": "2022-06-06T11:44:22.592Z"
   },
   {
    "duration": 7,
    "start_time": "2022-06-06T11:44:54.912Z"
   },
   {
    "duration": 185,
    "start_time": "2022-06-06T11:46:12.571Z"
   },
   {
    "duration": 10,
    "start_time": "2022-06-06T11:46:16.789Z"
   },
   {
    "duration": 33,
    "start_time": "2022-06-06T11:46:55.759Z"
   },
   {
    "duration": 13,
    "start_time": "2022-06-06T11:47:17.450Z"
   }
  ],
  "kernelspec": {
   "display_name": "Python 3 (ipykernel)",
   "language": "python",
   "name": "python3"
  },
  "language_info": {
   "codemirror_mode": {
    "name": "ipython",
    "version": 3
   },
   "file_extension": ".py",
   "mimetype": "text/x-python",
   "name": "python",
   "nbconvert_exporter": "python",
   "pygments_lexer": "ipython3",
   "version": "3.9.12"
  },
  "toc": {
   "base_numbering": 1,
   "nav_menu": {},
   "number_sections": true,
   "sideBar": true,
   "skip_h1_title": true,
   "title_cell": "Table of Contents",
   "title_sidebar": "Contents",
   "toc_cell": false,
   "toc_position": {},
   "toc_section_display": true,
   "toc_window_display": false
  }
 },
 "nbformat": 4,
 "nbformat_minor": 2
}
