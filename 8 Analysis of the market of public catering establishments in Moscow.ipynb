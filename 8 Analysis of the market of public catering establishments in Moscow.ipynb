{
 "cells": [
  {
   "cell_type": "markdown",
   "metadata": {},
   "source": [
    "# Рынок заведений общественного питания Москвы\n",
    "\n",
    "Требуется оценить рынок заведений общественного питания, а также предложить свои комментарии по типу заведения, расположению, наличию сети заведений для открытия заведения с обслуживанием при помощи роботов."
   ]
  },
  {
   "cell_type": "markdown",
   "metadata": {},
   "source": [
    "## Предобработка данных"
   ]
  },
  {
   "cell_type": "code",
   "execution_count": 1,
   "metadata": {},
   "outputs": [],
   "source": [
    "import pandas as pd\n",
    "import numpy as np\n",
    "import matplotlib.pyplot as plt\n",
    "import seaborn as sns"
   ]
  },
  {
   "cell_type": "code",
   "execution_count": 2,
   "metadata": {},
   "outputs": [],
   "source": [
    "data = pd.read_csv('/datasets/rest_data.csv')"
   ]
  },
  {
   "cell_type": "code",
   "execution_count": 3,
   "metadata": {
    "scrolled": false
   },
   "outputs": [
    {
     "data": {
      "text/html": [
       "<div>\n",
       "<style scoped>\n",
       "    .dataframe tbody tr th:only-of-type {\n",
       "        vertical-align: middle;\n",
       "    }\n",
       "\n",
       "    .dataframe tbody tr th {\n",
       "        vertical-align: top;\n",
       "    }\n",
       "\n",
       "    .dataframe thead th {\n",
       "        text-align: right;\n",
       "    }\n",
       "</style>\n",
       "<table border=\"1\" class=\"dataframe\">\n",
       "  <thead>\n",
       "    <tr style=\"text-align: right;\">\n",
       "      <th></th>\n",
       "      <th>id</th>\n",
       "      <th>object_name</th>\n",
       "      <th>chain</th>\n",
       "      <th>object_type</th>\n",
       "      <th>address</th>\n",
       "      <th>number</th>\n",
       "    </tr>\n",
       "  </thead>\n",
       "  <tbody>\n",
       "    <tr>\n",
       "      <th>0</th>\n",
       "      <td>151635</td>\n",
       "      <td>СМЕТАНА</td>\n",
       "      <td>нет</td>\n",
       "      <td>кафе</td>\n",
       "      <td>город Москва, улица Егора Абакумова, дом 9</td>\n",
       "      <td>48</td>\n",
       "    </tr>\n",
       "    <tr>\n",
       "      <th>1</th>\n",
       "      <td>77874</td>\n",
       "      <td>Родник</td>\n",
       "      <td>нет</td>\n",
       "      <td>кафе</td>\n",
       "      <td>город Москва, улица Талалихина, дом 2/1, корпус 1</td>\n",
       "      <td>35</td>\n",
       "    </tr>\n",
       "    <tr>\n",
       "      <th>2</th>\n",
       "      <td>24309</td>\n",
       "      <td>Кафе «Академия»</td>\n",
       "      <td>нет</td>\n",
       "      <td>кафе</td>\n",
       "      <td>город Москва, Абельмановская улица, дом 6</td>\n",
       "      <td>95</td>\n",
       "    </tr>\n",
       "    <tr>\n",
       "      <th>3</th>\n",
       "      <td>21894</td>\n",
       "      <td>ПИЦЦЕТОРИЯ</td>\n",
       "      <td>да</td>\n",
       "      <td>кафе</td>\n",
       "      <td>город Москва, Абрамцевская улица, дом 1</td>\n",
       "      <td>40</td>\n",
       "    </tr>\n",
       "    <tr>\n",
       "      <th>4</th>\n",
       "      <td>119365</td>\n",
       "      <td>Кафе «Вишневая метель»</td>\n",
       "      <td>нет</td>\n",
       "      <td>кафе</td>\n",
       "      <td>город Москва, Абрамцевская улица, дом 9, корпус 1</td>\n",
       "      <td>50</td>\n",
       "    </tr>\n",
       "  </tbody>\n",
       "</table>\n",
       "</div>"
      ],
      "text/plain": [
       "       id             object_name chain object_type  \\\n",
       "0  151635                 СМЕТАНА   нет        кафе   \n",
       "1   77874                  Родник   нет        кафе   \n",
       "2   24309         Кафе «Академия»   нет        кафе   \n",
       "3   21894              ПИЦЦЕТОРИЯ    да        кафе   \n",
       "4  119365  Кафе «Вишневая метель»   нет        кафе   \n",
       "\n",
       "                                             address  number  \n",
       "0         город Москва, улица Егора Абакумова, дом 9      48  \n",
       "1  город Москва, улица Талалихина, дом 2/1, корпус 1      35  \n",
       "2          город Москва, Абельмановская улица, дом 6      95  \n",
       "3            город Москва, Абрамцевская улица, дом 1      40  \n",
       "4  город Москва, Абрамцевская улица, дом 9, корпус 1      50  "
      ]
     },
     "metadata": {},
     "output_type": "display_data"
    },
    {
     "name": "stdout",
     "output_type": "stream",
     "text": [
      "<class 'pandas.core.frame.DataFrame'>\n",
      "RangeIndex: 15366 entries, 0 to 15365\n",
      "Data columns (total 6 columns):\n",
      " #   Column       Non-Null Count  Dtype \n",
      "---  ------       --------------  ----- \n",
      " 0   id           15366 non-null  int64 \n",
      " 1   object_name  15366 non-null  object\n",
      " 2   chain        15366 non-null  object\n",
      " 3   object_type  15366 non-null  object\n",
      " 4   address      15366 non-null  object\n",
      " 5   number       15366 non-null  int64 \n",
      "dtypes: int64(2), object(4)\n",
      "memory usage: 720.4+ KB\n",
      "None\n"
     ]
    }
   ],
   "source": [
    "display(data.head())\n",
    "print(data.info())"
   ]
  },
  {
   "cell_type": "code",
   "execution_count": 4,
   "metadata": {
    "scrolled": true
   },
   "outputs": [
    {
     "data": {
      "text/plain": [
       "number\n",
       "0       1621\n",
       "40       835\n",
       "20       727\n",
       "30       685\n",
       "10       644\n",
       "        ... \n",
       "255        1\n",
       "248        1\n",
       "243        1\n",
       "242        1\n",
       "1700       1\n",
       "Length: 315, dtype: int64"
      ]
     },
     "execution_count": 4,
     "metadata": {},
     "output_type": "execute_result"
    }
   ],
   "source": [
    "# Посчитаем самое часто встречающееся количество мест\n",
    "data.value_counts('number')"
   ]
  },
  {
   "cell_type": "code",
   "execution_count": 5,
   "metadata": {},
   "outputs": [
    {
     "data": {
      "text/html": [
       "<div>\n",
       "<style scoped>\n",
       "    .dataframe tbody tr th:only-of-type {\n",
       "        vertical-align: middle;\n",
       "    }\n",
       "\n",
       "    .dataframe tbody tr th {\n",
       "        vertical-align: top;\n",
       "    }\n",
       "\n",
       "    .dataframe thead th {\n",
       "        text-align: right;\n",
       "    }\n",
       "</style>\n",
       "<table border=\"1\" class=\"dataframe\">\n",
       "  <thead>\n",
       "    <tr style=\"text-align: right;\">\n",
       "      <th></th>\n",
       "      <th>id</th>\n",
       "      <th>object_name</th>\n",
       "      <th>chain</th>\n",
       "      <th>object_type</th>\n",
       "      <th>address</th>\n",
       "      <th>number</th>\n",
       "    </tr>\n",
       "  </thead>\n",
       "  <tbody>\n",
       "    <tr>\n",
       "      <th>12723</th>\n",
       "      <td>199696</td>\n",
       "      <td>Arena by Soho Family</td>\n",
       "      <td>нет</td>\n",
       "      <td>бар</td>\n",
       "      <td>город Москва, Кутузовский проспект, дом 36, ст...</td>\n",
       "      <td>1700</td>\n",
       "    </tr>\n",
       "  </tbody>\n",
       "</table>\n",
       "</div>"
      ],
      "text/plain": [
       "           id           object_name chain object_type  \\\n",
       "12723  199696  Arena by Soho Family   нет         бар   \n",
       "\n",
       "                                                 address  number  \n",
       "12723  город Москва, Кутузовский проспект, дом 36, ст...    1700  "
      ]
     },
     "execution_count": 5,
     "metadata": {},
     "output_type": "execute_result"
    }
   ],
   "source": [
    "data.query('number==1700')"
   ]
  },
  {
   "cell_type": "code",
   "execution_count": 6,
   "metadata": {},
   "outputs": [
    {
     "data": {
      "text/plain": [
       "id             0\n",
       "object_name    0\n",
       "chain          0\n",
       "object_type    0\n",
       "address        0\n",
       "number         0\n",
       "dtype: int64"
      ]
     },
     "execution_count": 6,
     "metadata": {},
     "output_type": "execute_result"
    }
   ],
   "source": [
    "# Проверим имеются ли пропуски\n",
    "data.isna().sum()"
   ]
  },
  {
   "cell_type": "code",
   "execution_count": 7,
   "metadata": {},
   "outputs": [
    {
     "data": {
      "text/plain": [
       "0"
      ]
     },
     "execution_count": 7,
     "metadata": {},
     "output_type": "execute_result"
    }
   ],
   "source": [
    "# Выясним имеются ли полные дубликаты строк\n",
    "data.duplicated().sum()"
   ]
  },
  {
   "cell_type": "code",
   "execution_count": 8,
   "metadata": {
    "scrolled": false
   },
   "outputs": [
    {
     "name": "stdout",
     "output_type": "stream",
     "text": [
      "id 0\n",
      "object_name 4973\n",
      "chain 15364\n",
      "object_type 15357\n",
      "address 6258\n",
      "number 15051\n"
     ]
    }
   ],
   "source": [
    "# Проверим нет ли дубликатов в отдельных колонках\n",
    "for i in data.columns:\n",
    "    print(i,data[i].duplicated().sum())"
   ]
  },
  {
   "cell_type": "code",
   "execution_count": 9,
   "metadata": {},
   "outputs": [],
   "source": [
    "# Переведем тип сетевых ресторанов в логический тип для удобства работы с ними\n",
    "data['chain'] = data['chain']=='да'"
   ]
  },
  {
   "cell_type": "code",
   "execution_count": 10,
   "metadata": {},
   "outputs": [
    {
     "name": "stdout",
     "output_type": "stream",
     "text": [
      "<class 'pandas.core.frame.DataFrame'>\n",
      "RangeIndex: 15366 entries, 0 to 15365\n",
      "Data columns (total 6 columns):\n",
      " #   Column       Non-Null Count  Dtype \n",
      "---  ------       --------------  ----- \n",
      " 0   id           15366 non-null  int64 \n",
      " 1   object_name  15366 non-null  object\n",
      " 2   chain        15366 non-null  bool  \n",
      " 3   object_type  15366 non-null  object\n",
      " 4   address      15366 non-null  object\n",
      " 5   number       15366 non-null  int64 \n",
      "dtypes: bool(1), int64(2), object(3)\n",
      "memory usage: 615.4+ KB\n"
     ]
    }
   ],
   "source": [
    "data.info()"
   ]
  },
  {
   "cell_type": "markdown",
   "metadata": {},
   "source": [
    "### Вывод\n",
    "Привели к нужному типу столбец сетевых ресторанов. Проверили на пропуски и дубликаты, также заметили аномальное значение, позже рассмотрим подробнее их присутствие"
   ]
  },
  {
   "cell_type": "code",
   "execution_count": 11,
   "metadata": {
    "scrolled": true
   },
   "outputs": [],
   "source": [
    "#Проверка на неявные дубликаты\n",
    "data = data.drop_duplicates(subset=['object_name', 'chain', 'object_type', 'address', 'number'])"
   ]
  },
  {
   "cell_type": "markdown",
   "metadata": {},
   "source": [
    "## Анализ данных"
   ]
  },
  {
   "cell_type": "code",
   "execution_count": 12,
   "metadata": {},
   "outputs": [],
   "source": [
    "plt.style.use('ggplot')"
   ]
  },
  {
   "cell_type": "code",
   "execution_count": 13,
   "metadata": {
    "scrolled": false
   },
   "outputs": [
    {
     "data": {
      "image/png": "[encoded data removed]",
      "text/plain": [
       "<Figure size 720x432 with 1 Axes>"
      ]
     },
     "metadata": {},
     "output_type": "display_data"
    }
   ],
   "source": [
    "plt.figure(figsize=(10,6))\n",
    "data.value_counts('object_type').plot(kind='bar')\n",
    "plt.xlabel('Виды заведений')\n",
    "plt.ylabel('Количество заведений')\n",
    "plt.title('Распределние видов заведений');"
   ]
  },
  {
   "cell_type": "markdown",
   "metadata": {},
   "source": [
    "Наибольшее количество заведений находится в классе \"кафе, после идет \"столовая\", которых в два раза меньше и замыкает тройку \"ресторан\" немного проигрывая по количеству \"столовой\""
   ]
  },
  {
   "cell_type": "code",
   "execution_count": 14,
   "metadata": {},
   "outputs": [
    {
     "data": {
      "image/png": "[encoded data removed]",
      "text/plain": [
       "<Figure size 432x288 with 1 Axes>"
      ]
     },
     "metadata": {},
     "output_type": "display_data"
    }
   ],
   "source": [
    "data.value_counts('chain').plot(kind='bar')\n",
    "plt.xlabel('Сетевые заведения')\n",
    "plt.ylabel('Количество заведений')\n",
    "plt.title('Распределние сетевых заведений');"
   ]
  },
  {
   "cell_type": "markdown",
   "metadata": {},
   "source": [
    "Сетевых заведений в 4 раза меньше, чем несетевых"
   ]
  },
  {
   "cell_type": "code",
   "execution_count": 15,
   "metadata": {
    "scrolled": false
   },
   "outputs": [
    {
     "data": {
      "image/png": "[encoded data removed]",
      "text/plain": [
       "<Figure size 432x288 with 1 Axes>"
      ]
     },
     "metadata": {},
     "output_type": "display_data"
    },
    {
     "data": {
      "image/png": "[encoded data removed]",
      "text/plain": [
       "<Figure size 432x288 with 1 Axes>"
      ]
     },
     "metadata": {},
     "output_type": "display_data"
    }
   ],
   "source": [
    "data.query('chain==True').value_counts('object_type').plot(kind='bar')\n",
    "plt.xlabel('Виды заведений')\n",
    "plt.ylabel('Количество заведений')\n",
    "plt.title('Распределние видов сетевых заведений по количеству')\n",
    "plt.show()\n",
    "data_chain=data.pivot_table(index='object_type',values='chain',aggfunc=['sum','count']).reset_index().droplevel(1,axis=1)\n",
    "data_chain['percent'] = round(data_chain['sum']/data_chain['count']*100)\n",
    "data_chain.sort_values('percent',ascending=False).plot(y='percent',x='object_type', kind='bar')\n",
    "plt.xlabel('Виды заведений')\n",
    "plt.ylabel('Процент от общего числа заведений')\n",
    "plt.title('Распределние по долям видов сетевых заведений')\n",
    "plt.show()"
   ]
  },
  {
   "cell_type": "markdown",
   "metadata": {},
   "source": [
    "В сетевых предприятиях по количеству все так же превалирует класс \"кафе\", но зато после идет класс \"фастфуд\" и тройку замыкает \"ресторан\". Сетевые заведения, в большей мере распределены между этими 3 классами.\n",
    "\n",
    "Но если судить по долям распределения картина совершенно иная, класс \"фастфуд\" имеет наибольший процент сетевого распространения и за ним идет класс \"отделы кулинарии\" и замыкает \"рестран\". Поэтому вероятнее всего сетевым заведением все таки лучше делать предприятие быстрого обслуживания"
   ]
  },
  {
   "cell_type": "code",
   "execution_count": 16,
   "metadata": {
    "scrolled": false
   },
   "outputs": [
    {
     "data": {
      "image/png": "[encoded data removed]",
      "text/plain": [
       "<Figure size 432x288 with 1 Axes>"
      ]
     },
     "metadata": {},
     "output_type": "display_data"
    }
   ],
   "source": [
    "data_chain = data.query('chain==True')\n",
    "sns.scatterplot(x='object_type', y='number', data=data_chain, alpha=0.15)\n",
    "plt.xlabel('Виды заведений')\n",
    "plt.ylabel('Количество мест')\n",
    "plt.title('Распределние мест в зависимости от вида сетевого заведения')\n",
    "plt.xticks(rotation = 90);"
   ]
  },
  {
   "cell_type": "code",
   "execution_count": 17,
   "metadata": {},
   "outputs": [
    {
     "data": {
      "image/png": "[encoded data removed]",
      "text/plain": [
       "<Figure size 432x288 with 1 Axes>"
      ]
     },
     "metadata": {},
     "output_type": "display_data"
    }
   ],
   "source": [
    "data_scatter=data[data['chain']==True].groupby('object_name').agg({'object_name':'count', 'number':'median'})\n",
    "plt.scatter(data_scatter['number'],data_scatter['object_name'])\n",
    "plt.xlabel('Медианное количество посадочных мест')\n",
    "plt.ylabel('Кол-во объектов в сети')\n",
    "plt.title('Распределение мест в сетевых заведениях');"
   ]
  },
  {
   "cell_type": "markdown",
   "metadata": {},
   "source": [
    "Для основной массы сетевых заведений характерно распределение вида много заведений с небольшим количеством мест"
   ]
  },
  {
   "cell_type": "code",
   "execution_count": 18,
   "metadata": {},
   "outputs": [
    {
     "data": {
      "image/png": "[encoded data removed]",
      "text/plain": [
       "<Figure size 432x288 with 1 Axes>"
      ]
     },
     "metadata": {},
     "output_type": "display_data"
    }
   ],
   "source": [
    "sns.barplot(x='object_type',y='number', data=round(data.pivot_table(index='object_type', values='number', aggfunc='median').sort_values(by='number',ascending=False).reset_index()))\n",
    "plt.xlabel('Виды заведений')\n",
    "plt.ylabel('Среднее количество мест')\n",
    "plt.title('Среднее количество мест в видах заведений')\n",
    "plt.xticks(rotation=90);"
   ]
  },
  {
   "cell_type": "markdown",
   "metadata": {},
   "source": [
    "Наибольшее среднее количество мест предоставляет класс \"столовая\", а после него идет с небольшим проигрышем \"ресторан\", среднее количество мест 103 и 80 соответственно."
   ]
  },
  {
   "cell_type": "code",
   "execution_count": 19,
   "metadata": {},
   "outputs": [],
   "source": [
    "# Запишем ключевые слова в отдельный список, чтобы корректно определять улицы\n",
    "str_list = ['улица','ул','переулок','шоссе','проспект','площадь','проезд',\n",
    "         'село','аллея','бульвар','набережная','тупик','линия', 'квартал', 'поселение', 'микрорайон', 'километр', 'зеленоград',\n",
    "           'территория','просек']\n",
    "# Функция разделения адреса на части и получения улицы\n",
    "def street_split(row):\n",
    "    for part in row.split(', '):\n",
    "        for street_part in str_list:\n",
    "            if street_part in part.lower():\n",
    "                return part\n",
    "#Применение фукции к новому столбцу \n",
    "data['street'] = data['address'].apply(street_split)"
   ]
  },
  {
   "cell_type": "markdown",
   "metadata": {},
   "source": [
    "Возможно не стоит включать в анализ не самые явные названия улиц, такие как территория, просек, километр...."
   ]
  },
  {
   "cell_type": "code",
   "execution_count": 20,
   "metadata": {},
   "outputs": [
    {
     "data": {
      "text/plain": [
       "0"
      ]
     },
     "execution_count": 20,
     "metadata": {},
     "output_type": "execute_result"
    }
   ],
   "source": [
    "data['street'].isna().sum()"
   ]
  },
  {
   "cell_type": "code",
   "execution_count": 21,
   "metadata": {
    "scrolled": true
   },
   "outputs": [
    {
     "data": {
      "text/html": [
       "<div>\n",
       "<style scoped>\n",
       "    .dataframe tbody tr th:only-of-type {\n",
       "        vertical-align: middle;\n",
       "    }\n",
       "\n",
       "    .dataframe tbody tr th {\n",
       "        vertical-align: top;\n",
       "    }\n",
       "\n",
       "    .dataframe thead th {\n",
       "        text-align: right;\n",
       "    }\n",
       "</style>\n",
       "<table border=\"1\" class=\"dataframe\">\n",
       "  <thead>\n",
       "    <tr style=\"text-align: right;\">\n",
       "      <th></th>\n",
       "      <th>id</th>\n",
       "      <th>object_name</th>\n",
       "      <th>chain</th>\n",
       "      <th>object_type</th>\n",
       "      <th>address</th>\n",
       "      <th>number</th>\n",
       "      <th>street</th>\n",
       "    </tr>\n",
       "  </thead>\n",
       "  <tbody>\n",
       "    <tr>\n",
       "      <th>0</th>\n",
       "      <td>151635</td>\n",
       "      <td>СМЕТАНА</td>\n",
       "      <td>False</td>\n",
       "      <td>кафе</td>\n",
       "      <td>город Москва, улица Егора Абакумова, дом 9</td>\n",
       "      <td>48</td>\n",
       "      <td>улица Егора Абакумова</td>\n",
       "    </tr>\n",
       "    <tr>\n",
       "      <th>1</th>\n",
       "      <td>77874</td>\n",
       "      <td>Родник</td>\n",
       "      <td>False</td>\n",
       "      <td>кафе</td>\n",
       "      <td>город Москва, улица Талалихина, дом 2/1, корпус 1</td>\n",
       "      <td>35</td>\n",
       "      <td>улица Талалихина</td>\n",
       "    </tr>\n",
       "    <tr>\n",
       "      <th>2</th>\n",
       "      <td>24309</td>\n",
       "      <td>Кафе «Академия»</td>\n",
       "      <td>False</td>\n",
       "      <td>кафе</td>\n",
       "      <td>город Москва, Абельмановская улица, дом 6</td>\n",
       "      <td>95</td>\n",
       "      <td>Абельмановская улица</td>\n",
       "    </tr>\n",
       "    <tr>\n",
       "      <th>3</th>\n",
       "      <td>21894</td>\n",
       "      <td>ПИЦЦЕТОРИЯ</td>\n",
       "      <td>True</td>\n",
       "      <td>кафе</td>\n",
       "      <td>город Москва, Абрамцевская улица, дом 1</td>\n",
       "      <td>40</td>\n",
       "      <td>Абрамцевская улица</td>\n",
       "    </tr>\n",
       "    <tr>\n",
       "      <th>4</th>\n",
       "      <td>119365</td>\n",
       "      <td>Кафе «Вишневая метель»</td>\n",
       "      <td>False</td>\n",
       "      <td>кафе</td>\n",
       "      <td>город Москва, Абрамцевская улица, дом 9, корпус 1</td>\n",
       "      <td>50</td>\n",
       "      <td>Абрамцевская улица</td>\n",
       "    </tr>\n",
       "  </tbody>\n",
       "</table>\n",
       "</div>"
      ],
      "text/plain": [
       "       id             object_name  chain object_type  \\\n",
       "0  151635                 СМЕТАНА  False        кафе   \n",
       "1   77874                  Родник  False        кафе   \n",
       "2   24309         Кафе «Академия»  False        кафе   \n",
       "3   21894              ПИЦЦЕТОРИЯ   True        кафе   \n",
       "4  119365  Кафе «Вишневая метель»  False        кафе   \n",
       "\n",
       "                                             address  number  \\\n",
       "0         город Москва, улица Егора Абакумова, дом 9      48   \n",
       "1  город Москва, улица Талалихина, дом 2/1, корпус 1      35   \n",
       "2          город Москва, Абельмановская улица, дом 6      95   \n",
       "3            город Москва, Абрамцевская улица, дом 1      40   \n",
       "4  город Москва, Абрамцевская улица, дом 9, корпус 1      50   \n",
       "\n",
       "                  street  \n",
       "0  улица Егора Абакумова  \n",
       "1       улица Талалихина  \n",
       "2   Абельмановская улица  \n",
       "3     Абрамцевская улица  \n",
       "4     Абрамцевская улица  "
      ]
     },
     "execution_count": 21,
     "metadata": {},
     "output_type": "execute_result"
    }
   ],
   "source": [
    "data.head()"
   ]
  },
  {
   "cell_type": "markdown",
   "metadata": {},
   "source": [
    "Улицы были добавлены корректно"
   ]
  },
  {
   "cell_type": "code",
   "execution_count": 22,
   "metadata": {},
   "outputs": [
    {
     "data": {
      "image/png": "[encoded data removed]",
      "text/plain": [
       "<Figure size 432x288 with 1 Axes>"
      ]
     },
     "metadata": {},
     "output_type": "display_data"
    }
   ],
   "source": [
    "data_street = data.pivot_table(index='street',values='object_type',aggfunc='count').sort_values('object_type', ascending=False).reset_index()\n",
    "sns.barplot( x='street', y='object_type', data = data_street.head(10))\n",
    "plt.xlabel('Улицы с объектами питания')\n",
    "plt.ylabel('Количество заведений на улице')\n",
    "plt.title('Распределние объектов питания по главным улицам')\n",
    "plt.xticks(rotation=90);"
   ]
  },
  {
   "cell_type": "markdown",
   "metadata": {},
   "source": [
    "Данные улицы являютя очень длинными, чаще всего это шоссе или проспекты, протяженностью в несколько километров, поэтому на этих улицах много объектов, стоит задуматься как интерпретировать город Зеленоград, ведь в нем улицы не предусмотрены, воможно его придется убрать из анализа"
   ]
  },
  {
   "cell_type": "code",
   "execution_count": 23,
   "metadata": {
    "scrolled": false
   },
   "outputs": [
    {
     "data": {
      "text/html": [
       "<div>\n",
       "<style scoped>\n",
       "    .dataframe tbody tr th:only-of-type {\n",
       "        vertical-align: middle;\n",
       "    }\n",
       "\n",
       "    .dataframe tbody tr th {\n",
       "        vertical-align: top;\n",
       "    }\n",
       "\n",
       "    .dataframe thead th {\n",
       "        text-align: right;\n",
       "    }\n",
       "</style>\n",
       "<table border=\"1\" class=\"dataframe\">\n",
       "  <thead>\n",
       "    <tr style=\"text-align: right;\">\n",
       "      <th></th>\n",
       "      <th>street</th>\n",
       "      <th>area</th>\n",
       "    </tr>\n",
       "  </thead>\n",
       "  <tbody>\n",
       "    <tr>\n",
       "      <th>0</th>\n",
       "      <td>город Зеленоград</td>\n",
       "      <td>Район Крюково</td>\n",
       "    </tr>\n",
       "    <tr>\n",
       "      <th>2</th>\n",
       "      <td>город Зеленоград</td>\n",
       "      <td>Панфиловский район</td>\n",
       "    </tr>\n",
       "    <tr>\n",
       "      <th>1</th>\n",
       "      <td>город Зеленоград</td>\n",
       "      <td>Район Матушкино-Савелки</td>\n",
       "    </tr>\n",
       "    <tr>\n",
       "      <th>3</th>\n",
       "      <td>проспект Мира</td>\n",
       "      <td>Алексеевский район</td>\n",
       "    </tr>\n",
       "    <tr>\n",
       "      <th>4</th>\n",
       "      <td>проспект Мира</td>\n",
       "      <td>Ярославский Район</td>\n",
       "    </tr>\n",
       "    <tr>\n",
       "      <th>5</th>\n",
       "      <td>проспект Мира</td>\n",
       "      <td>Район Марьина роща</td>\n",
       "    </tr>\n",
       "    <tr>\n",
       "      <th>6</th>\n",
       "      <td>проспект Мира</td>\n",
       "      <td>Останкинский район</td>\n",
       "    </tr>\n",
       "    <tr>\n",
       "      <th>7</th>\n",
       "      <td>проспект Мира</td>\n",
       "      <td>Район Ростокино</td>\n",
       "    </tr>\n",
       "    <tr>\n",
       "      <th>8</th>\n",
       "      <td>проспект Мира</td>\n",
       "      <td>Район Свиблово</td>\n",
       "    </tr>\n",
       "    <tr>\n",
       "      <th>9</th>\n",
       "      <td>проспект Мира</td>\n",
       "      <td>Мещанский район</td>\n",
       "    </tr>\n",
       "    <tr>\n",
       "      <th>13</th>\n",
       "      <td>Профсоюзная улица</td>\n",
       "      <td>Район Коньково</td>\n",
       "    </tr>\n",
       "    <tr>\n",
       "      <th>15</th>\n",
       "      <td>Профсоюзная улица</td>\n",
       "      <td>Район Теплый Стан</td>\n",
       "    </tr>\n",
       "    <tr>\n",
       "      <th>14</th>\n",
       "      <td>Профсоюзная улица</td>\n",
       "      <td>Обручевский район</td>\n",
       "    </tr>\n",
       "    <tr>\n",
       "      <th>12</th>\n",
       "      <td>Профсоюзная улица</td>\n",
       "      <td>Район Ясенево</td>\n",
       "    </tr>\n",
       "    <tr>\n",
       "      <th>11</th>\n",
       "      <td>Профсоюзная улица</td>\n",
       "      <td>Район Черемушки</td>\n",
       "    </tr>\n",
       "    <tr>\n",
       "      <th>10</th>\n",
       "      <td>Профсоюзная улица</td>\n",
       "      <td>Академический район</td>\n",
       "    </tr>\n",
       "    <tr>\n",
       "      <th>16</th>\n",
       "      <td>Ленинградский проспект</td>\n",
       "      <td>Район Аэропорт</td>\n",
       "    </tr>\n",
       "    <tr>\n",
       "      <th>17</th>\n",
       "      <td>Ленинградский проспект</td>\n",
       "      <td>Район Беговой</td>\n",
       "    </tr>\n",
       "    <tr>\n",
       "      <th>18</th>\n",
       "      <td>Ленинградский проспект</td>\n",
       "      <td>Хорошевский район</td>\n",
       "    </tr>\n",
       "    <tr>\n",
       "      <th>19</th>\n",
       "      <td>Ленинградский проспект</td>\n",
       "      <td>Район Сокол</td>\n",
       "    </tr>\n",
       "    <tr>\n",
       "      <th>20</th>\n",
       "      <td>Пресненская набережная</td>\n",
       "      <td>Пресненский район</td>\n",
       "    </tr>\n",
       "    <tr>\n",
       "      <th>25</th>\n",
       "      <td>Варшавское шоссе</td>\n",
       "      <td>Район Нагатино-Садовники</td>\n",
       "    </tr>\n",
       "    <tr>\n",
       "      <th>28</th>\n",
       "      <td>Варшавское шоссе</td>\n",
       "      <td>Район Южное Бутово</td>\n",
       "    </tr>\n",
       "    <tr>\n",
       "      <th>27</th>\n",
       "      <td>Варшавское шоссе</td>\n",
       "      <td>Район Северное Бутово</td>\n",
       "    </tr>\n",
       "    <tr>\n",
       "      <th>26</th>\n",
       "      <td>Варшавское шоссе</td>\n",
       "      <td>Нагорный район</td>\n",
       "    </tr>\n",
       "    <tr>\n",
       "      <th>22</th>\n",
       "      <td>Варшавское шоссе</td>\n",
       "      <td>Район Чертаново Северное</td>\n",
       "    </tr>\n",
       "    <tr>\n",
       "      <th>24</th>\n",
       "      <td>Варшавское шоссе</td>\n",
       "      <td>Донской район</td>\n",
       "    </tr>\n",
       "    <tr>\n",
       "      <th>21</th>\n",
       "      <td>Варшавское шоссе</td>\n",
       "      <td>Район Чертаново Центральное</td>\n",
       "    </tr>\n",
       "    <tr>\n",
       "      <th>23</th>\n",
       "      <td>Варшавское шоссе</td>\n",
       "      <td>Район Чертаново Южное</td>\n",
       "    </tr>\n",
       "    <tr>\n",
       "      <th>33</th>\n",
       "      <td>Ленинский проспект</td>\n",
       "      <td>Ломоносовский район</td>\n",
       "    </tr>\n",
       "    <tr>\n",
       "      <th>36</th>\n",
       "      <td>Ленинский проспект</td>\n",
       "      <td>Район Якиманка</td>\n",
       "    </tr>\n",
       "    <tr>\n",
       "      <th>34</th>\n",
       "      <td>Ленинский проспект</td>\n",
       "      <td>Обручевский район</td>\n",
       "    </tr>\n",
       "    <tr>\n",
       "      <th>35</th>\n",
       "      <td>Ленинский проспект</td>\n",
       "      <td>Район Теплый Стан</td>\n",
       "    </tr>\n",
       "    <tr>\n",
       "      <th>32</th>\n",
       "      <td>Ленинский проспект</td>\n",
       "      <td>Район Гагаринский</td>\n",
       "    </tr>\n",
       "    <tr>\n",
       "      <th>31</th>\n",
       "      <td>Ленинский проспект</td>\n",
       "      <td>Донской район</td>\n",
       "    </tr>\n",
       "    <tr>\n",
       "      <th>30</th>\n",
       "      <td>Ленинский проспект</td>\n",
       "      <td>Район Тропарево-Никулино</td>\n",
       "    </tr>\n",
       "    <tr>\n",
       "      <th>29</th>\n",
       "      <td>Ленинский проспект</td>\n",
       "      <td>Район Проспект Вернадского</td>\n",
       "    </tr>\n",
       "    <tr>\n",
       "      <th>37</th>\n",
       "      <td>проспект Вернадского</td>\n",
       "      <td>Район Проспект Вернадского</td>\n",
       "    </tr>\n",
       "    <tr>\n",
       "      <th>38</th>\n",
       "      <td>проспект Вернадского</td>\n",
       "      <td>Район Раменки</td>\n",
       "    </tr>\n",
       "    <tr>\n",
       "      <th>39</th>\n",
       "      <td>проспект Вернадского</td>\n",
       "      <td>Район Тропарево-Никулино</td>\n",
       "    </tr>\n",
       "    <tr>\n",
       "      <th>40</th>\n",
       "      <td>проспект Вернадского</td>\n",
       "      <td>Район Гагаринский</td>\n",
       "    </tr>\n",
       "    <tr>\n",
       "      <th>41</th>\n",
       "      <td>проспект Вернадского</td>\n",
       "      <td>Ломоносовский район</td>\n",
       "    </tr>\n",
       "    <tr>\n",
       "      <th>42</th>\n",
       "      <td>Кутузовский проспект</td>\n",
       "      <td>Район Дорогомилово</td>\n",
       "    </tr>\n",
       "    <tr>\n",
       "      <th>43</th>\n",
       "      <td>Кутузовский проспект</td>\n",
       "      <td>Район Фили-Давыдково</td>\n",
       "    </tr>\n",
       "  </tbody>\n",
       "</table>\n",
       "</div>"
      ],
      "text/plain": [
       "                    street                         area\n",
       "0         город Зеленоград                Район Крюково\n",
       "2         город Зеленоград           Панфиловский район\n",
       "1         город Зеленоград      Район Матушкино-Савелки\n",
       "3            проспект Мира           Алексеевский район\n",
       "4            проспект Мира            Ярославский Район\n",
       "5            проспект Мира           Район Марьина роща\n",
       "6            проспект Мира           Останкинский район\n",
       "7            проспект Мира              Район Ростокино\n",
       "8            проспект Мира               Район Свиблово\n",
       "9            проспект Мира              Мещанский район\n",
       "13       Профсоюзная улица               Район Коньково\n",
       "15       Профсоюзная улица            Район Теплый Стан\n",
       "14       Профсоюзная улица            Обручевский район\n",
       "12       Профсоюзная улица                Район Ясенево\n",
       "11       Профсоюзная улица              Район Черемушки\n",
       "10       Профсоюзная улица          Академический район\n",
       "16  Ленинградский проспект               Район Аэропорт\n",
       "17  Ленинградский проспект                Район Беговой\n",
       "18  Ленинградский проспект            Хорошевский район\n",
       "19  Ленинградский проспект                  Район Сокол\n",
       "20  Пресненская набережная            Пресненский район\n",
       "25        Варшавское шоссе     Район Нагатино-Садовники\n",
       "28        Варшавское шоссе           Район Южное Бутово\n",
       "27        Варшавское шоссе        Район Северное Бутово\n",
       "26        Варшавское шоссе               Нагорный район\n",
       "22        Варшавское шоссе     Район Чертаново Северное\n",
       "24        Варшавское шоссе                Донской район\n",
       "21        Варшавское шоссе  Район Чертаново Центральное\n",
       "23        Варшавское шоссе        Район Чертаново Южное\n",
       "33      Ленинский проспект          Ломоносовский район\n",
       "36      Ленинский проспект               Район Якиманка\n",
       "34      Ленинский проспект            Обручевский район\n",
       "35      Ленинский проспект            Район Теплый Стан\n",
       "32      Ленинский проспект            Район Гагаринский\n",
       "31      Ленинский проспект                Донской район\n",
       "30      Ленинский проспект     Район Тропарево-Никулино\n",
       "29      Ленинский проспект   Район Проспект Вернадского\n",
       "37    проспект Вернадского   Район Проспект Вернадского\n",
       "38    проспект Вернадского                Район Раменки\n",
       "39    проспект Вернадского     Район Тропарево-Никулино\n",
       "40    проспект Вернадского            Район Гагаринский\n",
       "41    проспект Вернадского          Ломоносовский район\n",
       "42    Кутузовский проспект           Район Дорогомилово\n",
       "43    Кутузовский проспект         Район Фили-Давыдково"
      ]
     },
     "execution_count": 23,
     "metadata": {},
     "output_type": "execute_result"
    }
   ],
   "source": [
    "raion= pd.read_csv('https://frs.noosphere.ru/xmlui/bitstream/handle/20.500.11925/714058/mosgaz-streets.csv?sequence=1&isAllowed=y')\n",
    "top10 = data_street.head(10).merge(raion[['streetname', 'area']], left_on='street', right_on='streetname').sort_values('object_type',ascending=False)\n",
    "top10[['street','area']]"
   ]
  },
  {
   "cell_type": "code",
   "execution_count": 24,
   "metadata": {},
   "outputs": [
    {
     "data": {
      "text/html": [
       "<div>\n",
       "<style scoped>\n",
       "    .dataframe tbody tr th:only-of-type {\n",
       "        vertical-align: middle;\n",
       "    }\n",
       "\n",
       "    .dataframe tbody tr th {\n",
       "        vertical-align: top;\n",
       "    }\n",
       "\n",
       "    .dataframe thead th {\n",
       "        text-align: right;\n",
       "    }\n",
       "</style>\n",
       "<table border=\"1\" class=\"dataframe\">\n",
       "  <thead>\n",
       "    <tr style=\"text-align: right;\">\n",
       "      <th></th>\n",
       "      <th></th>\n",
       "      <th>Объектов</th>\n",
       "      <th>Районов</th>\n",
       "    </tr>\n",
       "  </thead>\n",
       "  <tbody>\n",
       "    <tr>\n",
       "      <th>6</th>\n",
       "      <td>город Зеленоград</td>\n",
       "      <td>232</td>\n",
       "      <td>3</td>\n",
       "    </tr>\n",
       "    <tr>\n",
       "      <th>8</th>\n",
       "      <td>проспект Мира</td>\n",
       "      <td>204</td>\n",
       "      <td>7</td>\n",
       "    </tr>\n",
       "    <tr>\n",
       "      <th>5</th>\n",
       "      <td>Профсоюзная улица</td>\n",
       "      <td>182</td>\n",
       "      <td>6</td>\n",
       "    </tr>\n",
       "    <tr>\n",
       "      <th>2</th>\n",
       "      <td>Ленинградский проспект</td>\n",
       "      <td>172</td>\n",
       "      <td>4</td>\n",
       "    </tr>\n",
       "    <tr>\n",
       "      <th>4</th>\n",
       "      <td>Пресненская набережная</td>\n",
       "      <td>167</td>\n",
       "      <td>1</td>\n",
       "    </tr>\n",
       "    <tr>\n",
       "      <th>0</th>\n",
       "      <td>Варшавское шоссе</td>\n",
       "      <td>164</td>\n",
       "      <td>8</td>\n",
       "    </tr>\n",
       "    <tr>\n",
       "      <th>3</th>\n",
       "      <td>Ленинский проспект</td>\n",
       "      <td>148</td>\n",
       "      <td>8</td>\n",
       "    </tr>\n",
       "    <tr>\n",
       "      <th>7</th>\n",
       "      <td>проспект Вернадского</td>\n",
       "      <td>128</td>\n",
       "      <td>5</td>\n",
       "    </tr>\n",
       "    <tr>\n",
       "      <th>1</th>\n",
       "      <td>Кутузовский проспект</td>\n",
       "      <td>114</td>\n",
       "      <td>2</td>\n",
       "    </tr>\n",
       "  </tbody>\n",
       "</table>\n",
       "</div>"
      ],
      "text/plain": [
       "                           Объектов  Районов\n",
       "6        город Зеленоград       232        3\n",
       "8           проспект Мира       204        7\n",
       "5       Профсоюзная улица       182        6\n",
       "2  Ленинградский проспект       172        4\n",
       "4  Пресненская набережная       167        1\n",
       "0        Варшавское шоссе       164        8\n",
       "3      Ленинский проспект       148        8\n",
       "7    проспект Вернадского       128        5\n",
       "1    Кутузовский проспект       114        2"
      ]
     },
     "execution_count": 24,
     "metadata": {},
     "output_type": "execute_result"
    }
   ],
   "source": [
    "top10 = top10.groupby('street', as_index=False).agg({'object_type':'mean',  'area':'nunique'}).sort_values('object_type',ascending=False)\n",
    "top10.columns = ['', 'Объектов', 'Районов']\n",
    "top10"
   ]
  },
  {
   "cell_type": "markdown",
   "metadata": {},
   "source": [
    "Улицы захватывают не маленькое количество районов"
   ]
  },
  {
   "cell_type": "code",
   "execution_count": 25,
   "metadata": {
    "scrolled": false
   },
   "outputs": [
    {
     "name": "stdout",
     "output_type": "stream",
     "text": [
      "Всего улиц с 1 объектом общественного питания: 548, что составляет 29.1% от всего кол-ва улиц с объектами общественного питания\n",
      "Районы в которых расположены улицы с 1 объектом:\n",
      "Алексеевский район\n",
      "Алтуфьевский район\n",
      "Бабушкинский район\n",
      "Басманный район\n",
      "Бескудниковский Район\n",
      "Бутырский район\n",
      "Войковский Район\n",
      "Головинский район\n",
      "Даниловский район\n",
      "Дмитровский район\n",
      "Донской район\n",
      "Красносельский район\n",
      "Лосиноостровский район\n",
      "Мещанский район\n",
      "Можайский Район\n",
      "Молжаниновский район\n",
      "Нагорный район\n",
      "Нижегородский район\n",
      "Обручевский район\n",
      "Останкинский район\n",
      "Пресненский район\n",
      "Район Арбат\n",
      "Район Аэропорт\n",
      "Район Беговой\n",
      "Район Бирюлево Восточное\n",
      "Район Богородское\n",
      "Район Внуково\n",
      "Район Восточное Измайлово\n",
      "Район Восточный\n",
      "Район Выхино-Жулебино\n",
      "Район Гагаринский\n",
      "Район Гольяново\n",
      "Район Дорогомилово\n",
      "Район Замоскворечье\n",
      "Район Западное Дегунино\n",
      "Район Зюзино\n",
      "Район Ивановское\n",
      "Район Измайлово\n",
      "Район Коньково\n",
      "Район Коптево\n",
      "Район Косино-Ухтомский\n",
      "Район Котловка\n",
      "Район Крюково\n",
      "Район Кузьминки\n",
      "Район Кунцево\n",
      "Район Куркино\n",
      "Район Левобережный\n",
      "Район Лефортово\n",
      "Район Лианозово\n",
      "Район Люблино\n",
      "Район Марфино\n",
      "Район Марьина роща\n",
      "Район Марьино\n",
      "Район Матушкино-Савелки\n",
      "Район Метрогородок\n",
      "Район Митино\n",
      "Район Москворечье-Сабурово\n",
      "Район Нагатино-Садовники\n",
      "Район Ново-Переделкино\n",
      "Район Новогиреево\n",
      "Район Отрадное\n",
      "Район Очаково-Матвеевское\n",
      "Район Перово\n",
      "Район Печатники\n",
      "Район Покровское-Стрешнево\n",
      "Район Преображенское\n",
      "Район Раменки\n",
      "Район Ростокино\n",
      "Район Свиблово\n",
      "Район Северное Бутово\n",
      "Район Северное Измайлово\n",
      "Район Северное Медведково\n",
      "Район Северный\n",
      "Район Сокол\n",
      "Район Соколиная Гора\n",
      "Район Сокольники\n",
      "Район Солнцево\n",
      "Район Строгино\n",
      "Район Текстильщики\n",
      "Район Филевский Парк\n",
      "Район Фили-Давыдково\n",
      "Район Хамовники\n",
      "Район Хорошево-Мневники\n",
      "Район Царицыно\n",
      "Район Черемушки\n",
      "Район Чертаново Северное\n",
      "Район Чертаново Южное\n",
      "Район Щукино\n",
      "Район Южное Бутово\n",
      "Район Южное Медведково\n",
      "Район Южное Тушино\n",
      "Район Якиманка\n",
      "Район Ясенево\n",
      "Рязанский район\n",
      "Савеловский район\n",
      "Таганский район\n",
      "Тверской район\n",
      "Тимирязевский Район\n",
      "Хорошевский район\n",
      "Южнопортовый Район\n",
      "Ярославский Район\n"
     ]
    }
   ],
   "source": [
    "data_street.query('object_type==1')\n",
    "print('Всего улиц с 1 объектом общественного питания: {}, что составляет {:.1%} от всего кол-ва улиц с объектами общественного питания'\n",
    "      .format(len(data_street.query('object_type==1')), (len(data_street.query('object_type==1'))/len(data_street))))\n",
    "print('Районы в которых расположены улицы с 1 объектом:')\n",
    "for i in data_street.query('object_type==1').merge(raion[['streetname', 'area']], left_on='street', right_on='streetname').sort_values('area')['area'].unique():\n",
    "    print(i)"
   ]
  },
  {
   "cell_type": "markdown",
   "metadata": {},
   "source": [
    "Улиц с 1 объектом общественного питания достаточно много в каждом районе Москвы. Даже в центре Москвы имеются много улиц с 1 объектом, вероятнее всего это может быть вызвано застройкой улицы в промышленных предприятиях или же офисах или магазинов другого назначения. А также это связано с тем, что эти улицы обычно очень маленькие по типу переулков и могут состоять всего лишь из нескокльких строений."
   ]
  },
  {
   "cell_type": "markdown",
   "metadata": {},
   "source": [
    "## Вывод\n",
    "Опираясь на полученные данные, можно сделать вывод, что кафе является наиболее распространненым типом предприятия общественного питания, в котором чаще всего небольшое количество мест около 40 в среднем. Наиболее распространенный вариант расположения это длинные улицы, шоссе и проспекты. Таковыми являются проспект Мира, Профсоюзная улица, Ленинградский проспект. Для сетевого вида лучше было было выбрать ресторан быстрого питания, т.к. для него характерно сетевое распространение.\n",
    "\n",
    "Предположить наилучшее расположение и тип предприятия общественного питания в Москве без данных об их доходах и расходах будет тяжело, но отправную точку для последующих оценок можно сделать. Наиболее хорошим вариантом было бы сделать сеть кафе, с обслуживанием при помощи роботов, недалеко от центра и не сильно удаленное от метро. Для такого кафе требуется хорошая проходимость, а так же наличие туристических объектов, поэтому подошли бы Кутузовский проспект, проспект Мира или же проспект Вернадского. Важно заметить, что такому кафе не будут сильно мешать конкуренты, это вероятнее всего будет даже преимуществом, т.к. конкуренция развивает интерес."
   ]
  },
  {
   "cell_type": "markdown",
   "metadata": {},
   "source": [
    "<b> Презентация: </b> https://disk.yandex.ru/i/mZ3H2EDEgtWHnA"
   ]
  }
 ],
 "metadata": {
  "ExecuteTimeLog": [
   {
    "duration": 739,
    "start_time": "2022-06-08T16:05:34.351Z"
   },
   {
    "duration": 68,
    "start_time": "2022-06-08T16:05:51.941Z"
   },
   {
    "duration": 248,
    "start_time": "2022-06-08T16:05:59.196Z"
   },
   {
    "duration": 46,
    "start_time": "2022-06-08T19:06:48.406Z"
   },
   {
    "duration": 700,
    "start_time": "2022-06-08T19:06:51.677Z"
   },
   {
    "duration": 221,
    "start_time": "2022-06-08T19:06:52.381Z"
   },
   {
    "duration": 29,
    "start_time": "2022-06-08T19:06:52.604Z"
   },
   {
    "duration": 3,
    "start_time": "2022-06-08T19:09:46.100Z"
   },
   {
    "duration": 65,
    "start_time": "2022-06-08T19:09:46.361Z"
   },
   {
    "duration": 23,
    "start_time": "2022-06-08T19:09:46.633Z"
   },
   {
    "duration": 18,
    "start_time": "2022-06-08T19:10:07.881Z"
   },
   {
    "duration": 7,
    "start_time": "2022-06-08T19:11:00.920Z"
   },
   {
    "duration": 7,
    "start_time": "2022-06-08T19:11:18.605Z"
   },
   {
    "duration": 6,
    "start_time": "2022-06-08T19:13:32.916Z"
   },
   {
    "duration": 794,
    "start_time": "2022-06-12T10:15:25.432Z"
   },
   {
    "duration": 237,
    "start_time": "2022-06-12T10:15:26.228Z"
   },
   {
    "duration": 23,
    "start_time": "2022-06-12T10:15:26.467Z"
   },
   {
    "duration": 6,
    "start_time": "2022-06-12T10:15:28.361Z"
   },
   {
    "duration": 15,
    "start_time": "2022-06-12T10:15:35.457Z"
   },
   {
    "duration": 9,
    "start_time": "2022-06-12T10:15:43.198Z"
   },
   {
    "duration": 76,
    "start_time": "2022-06-12T10:16:20.495Z"
   },
   {
    "duration": 19,
    "start_time": "2022-06-12T10:16:25.979Z"
   },
   {
    "duration": 15,
    "start_time": "2022-06-12T10:16:30.392Z"
   },
   {
    "duration": 6,
    "start_time": "2022-06-12T10:20:12.515Z"
   },
   {
    "duration": 6,
    "start_time": "2022-06-12T10:21:05.454Z"
   },
   {
    "duration": 4,
    "start_time": "2022-06-12T10:21:08.899Z"
   },
   {
    "duration": 8,
    "start_time": "2022-06-12T10:21:35.524Z"
   },
   {
    "duration": 9,
    "start_time": "2022-06-12T10:21:52.254Z"
   },
   {
    "duration": 16,
    "start_time": "2022-06-12T10:24:05.852Z"
   },
   {
    "duration": 20,
    "start_time": "2022-06-12T10:27:58.582Z"
   },
   {
    "duration": 22,
    "start_time": "2022-06-12T10:30:19.036Z"
   },
   {
    "duration": 7,
    "start_time": "2022-06-12T10:31:49.268Z"
   },
   {
    "duration": 6,
    "start_time": "2022-06-12T10:32:12.694Z"
   },
   {
    "duration": 5,
    "start_time": "2022-06-12T10:32:30.871Z"
   },
   {
    "duration": 5,
    "start_time": "2022-06-12T10:32:43.373Z"
   },
   {
    "duration": 11,
    "start_time": "2022-06-12T11:18:43.450Z"
   },
   {
    "duration": 12,
    "start_time": "2022-06-12T11:18:49.359Z"
   },
   {
    "duration": 9,
    "start_time": "2022-06-12T11:19:10.650Z"
   },
   {
    "duration": 1141,
    "start_time": "2022-06-12T11:19:42.377Z"
   },
   {
    "duration": 68,
    "start_time": "2022-06-12T11:19:43.520Z"
   },
   {
    "duration": 25,
    "start_time": "2022-06-12T11:19:43.589Z"
   },
   {
    "duration": 7,
    "start_time": "2022-06-12T11:19:43.616Z"
   },
   {
    "duration": 8,
    "start_time": "2022-06-12T11:19:43.626Z"
   },
   {
    "duration": 21,
    "start_time": "2022-06-12T11:19:43.635Z"
   },
   {
    "duration": 10,
    "start_time": "2022-06-12T11:19:43.657Z"
   },
   {
    "duration": 6,
    "start_time": "2022-06-12T11:19:43.668Z"
   },
   {
    "duration": 16,
    "start_time": "2022-06-12T11:19:43.676Z"
   },
   {
    "duration": 1061,
    "start_time": "2022-06-12T11:20:09.178Z"
   },
   {
    "duration": 68,
    "start_time": "2022-06-12T11:20:10.242Z"
   },
   {
    "duration": 22,
    "start_time": "2022-06-12T11:20:10.312Z"
   },
   {
    "duration": 6,
    "start_time": "2022-06-12T11:20:10.336Z"
   },
   {
    "duration": 8,
    "start_time": "2022-06-12T11:20:10.344Z"
   },
   {
    "duration": 28,
    "start_time": "2022-06-12T11:20:10.353Z"
   },
   {
    "duration": 9,
    "start_time": "2022-06-12T11:20:10.383Z"
   },
   {
    "duration": 2,
    "start_time": "2022-06-12T11:20:10.394Z"
   },
   {
    "duration": 33,
    "start_time": "2022-06-12T11:20:10.398Z"
   },
   {
    "duration": 8,
    "start_time": "2022-06-12T11:20:30.379Z"
   },
   {
    "duration": 7,
    "start_time": "2022-06-12T11:20:46.807Z"
   },
   {
    "duration": 5,
    "start_time": "2022-06-12T11:21:06.878Z"
   },
   {
    "duration": 6,
    "start_time": "2022-06-12T11:21:09.149Z"
   },
   {
    "duration": 14,
    "start_time": "2022-06-12T11:21:28.301Z"
   },
   {
    "duration": 4,
    "start_time": "2022-06-12T11:22:36.908Z"
   },
   {
    "duration": 16,
    "start_time": "2022-06-12T11:23:38.954Z"
   },
   {
    "duration": 10,
    "start_time": "2022-06-12T11:24:13.985Z"
   },
   {
    "duration": 37,
    "start_time": "2022-06-12T11:27:00.481Z"
   },
   {
    "duration": 99,
    "start_time": "2022-06-12T11:33:15.843Z"
   },
   {
    "duration": 20,
    "start_time": "2022-06-12T11:33:30.132Z"
   },
   {
    "duration": 10,
    "start_time": "2022-06-12T11:34:11.007Z"
   },
   {
    "duration": 152,
    "start_time": "2022-06-12T11:34:21.820Z"
   },
   {
    "duration": 256,
    "start_time": "2022-06-12T11:34:39.883Z"
   },
   {
    "duration": 112,
    "start_time": "2022-06-12T11:34:52.789Z"
   },
   {
    "duration": 15,
    "start_time": "2022-06-12T11:35:10.903Z"
   },
   {
    "duration": 148,
    "start_time": "2022-06-12T11:36:04.340Z"
   },
   {
    "duration": 163,
    "start_time": "2022-06-12T11:36:39.389Z"
   },
   {
    "duration": 20,
    "start_time": "2022-06-12T11:38:12.357Z"
   },
   {
    "duration": 177,
    "start_time": "2022-06-12T11:38:17.575Z"
   },
   {
    "duration": 8,
    "start_time": "2022-06-12T11:38:47.017Z"
   },
   {
    "duration": 192,
    "start_time": "2022-06-12T11:40:17.189Z"
   },
   {
    "duration": 218,
    "start_time": "2022-06-12T11:40:46.385Z"
   },
   {
    "duration": 203,
    "start_time": "2022-06-12T11:40:50.979Z"
   },
   {
    "duration": 285,
    "start_time": "2022-06-12T11:41:03.992Z"
   },
   {
    "duration": 180,
    "start_time": "2022-06-12T11:41:15.587Z"
   },
   {
    "duration": 189,
    "start_time": "2022-06-12T11:41:20.656Z"
   },
   {
    "duration": 139,
    "start_time": "2022-06-12T11:44:39.305Z"
   },
   {
    "duration": 7,
    "start_time": "2022-06-12T11:44:52.439Z"
   },
   {
    "duration": 1128,
    "start_time": "2022-06-12T11:45:09.898Z"
   },
   {
    "duration": 74,
    "start_time": "2022-06-12T11:45:11.027Z"
   },
   {
    "duration": 29,
    "start_time": "2022-06-12T11:45:11.103Z"
   },
   {
    "duration": 7,
    "start_time": "2022-06-12T11:45:11.138Z"
   },
   {
    "duration": 11,
    "start_time": "2022-06-12T11:45:11.149Z"
   },
   {
    "duration": 11,
    "start_time": "2022-06-12T11:45:11.162Z"
   },
   {
    "duration": 20,
    "start_time": "2022-06-12T11:45:11.175Z"
   },
   {
    "duration": 29,
    "start_time": "2022-06-12T11:45:11.196Z"
   },
   {
    "duration": 12,
    "start_time": "2022-06-12T11:45:11.234Z"
   },
   {
    "duration": 28,
    "start_time": "2022-06-12T11:45:11.248Z"
   },
   {
    "duration": 233,
    "start_time": "2022-06-12T11:45:11.278Z"
   },
   {
    "duration": 142,
    "start_time": "2022-06-12T11:45:11.513Z"
   },
   {
    "duration": 7,
    "start_time": "2022-06-12T11:45:11.656Z"
   },
   {
    "duration": 151,
    "start_time": "2022-06-12T11:46:11.688Z"
   },
   {
    "duration": 190,
    "start_time": "2022-06-12T11:46:42.568Z"
   },
   {
    "duration": 207,
    "start_time": "2022-06-12T11:46:52.867Z"
   },
   {
    "duration": 220,
    "start_time": "2022-06-12T11:47:57.512Z"
   },
   {
    "duration": 203,
    "start_time": "2022-06-12T11:48:22.172Z"
   },
   {
    "duration": 175,
    "start_time": "2022-06-12T11:48:39.897Z"
   },
   {
    "duration": 280,
    "start_time": "2022-06-12T11:48:44.268Z"
   },
   {
    "duration": 115,
    "start_time": "2022-06-12T11:50:33.093Z"
   },
   {
    "duration": 167,
    "start_time": "2022-06-12T11:51:02.182Z"
   },
   {
    "duration": 193,
    "start_time": "2022-06-12T11:51:12.718Z"
   },
   {
    "duration": 1129,
    "start_time": "2022-06-12T18:31:21.475Z"
   },
   {
    "duration": 109,
    "start_time": "2022-06-12T18:31:22.606Z"
   },
   {
    "duration": 19,
    "start_time": "2022-06-12T18:31:22.718Z"
   },
   {
    "duration": 7,
    "start_time": "2022-06-12T18:31:22.740Z"
   },
   {
    "duration": 14,
    "start_time": "2022-06-12T18:31:22.749Z"
   },
   {
    "duration": 10,
    "start_time": "2022-06-12T18:31:22.765Z"
   },
   {
    "duration": 27,
    "start_time": "2022-06-12T18:31:22.777Z"
   },
   {
    "duration": 10,
    "start_time": "2022-06-12T18:31:22.826Z"
   },
   {
    "duration": 5,
    "start_time": "2022-06-12T18:31:22.838Z"
   },
   {
    "duration": 18,
    "start_time": "2022-06-12T18:31:22.845Z"
   },
   {
    "duration": 181,
    "start_time": "2022-06-12T18:31:22.864Z"
   },
   {
    "duration": 105,
    "start_time": "2022-06-12T18:31:23.046Z"
   },
   {
    "duration": 157,
    "start_time": "2022-06-12T18:31:23.153Z"
   },
   {
    "duration": 137,
    "start_time": "2022-06-12T18:31:23.312Z"
   },
   {
    "duration": 91,
    "start_time": "2022-06-12T18:34:09.302Z"
   },
   {
    "duration": 132,
    "start_time": "2022-06-12T18:34:16.784Z"
   },
   {
    "duration": 221,
    "start_time": "2022-06-12T18:35:31.491Z"
   },
   {
    "duration": 3,
    "start_time": "2022-06-12T18:44:34.490Z"
   },
   {
    "duration": 129,
    "start_time": "2022-06-12T18:44:37.017Z"
   },
   {
    "duration": 152,
    "start_time": "2022-06-12T18:45:42.446Z"
   },
   {
    "duration": 209,
    "start_time": "2022-06-12T18:46:06.943Z"
   },
   {
    "duration": 144,
    "start_time": "2022-06-12T18:46:14.893Z"
   },
   {
    "duration": 136,
    "start_time": "2022-06-12T18:46:26.189Z"
   },
   {
    "duration": 149,
    "start_time": "2022-06-12T18:46:33.718Z"
   },
   {
    "duration": 167,
    "start_time": "2022-06-12T18:46:39.884Z"
   },
   {
    "duration": 143,
    "start_time": "2022-06-12T18:46:48.876Z"
   },
   {
    "duration": 3,
    "start_time": "2022-06-12T18:48:18.610Z"
   },
   {
    "duration": 150,
    "start_time": "2022-06-12T18:48:20.585Z"
   },
   {
    "duration": 234,
    "start_time": "2022-06-12T18:49:31.216Z"
   },
   {
    "duration": 255,
    "start_time": "2022-06-12T18:49:38.910Z"
   },
   {
    "duration": 230,
    "start_time": "2022-06-12T18:49:45.395Z"
   },
   {
    "duration": 230,
    "start_time": "2022-06-12T18:49:51.083Z"
   },
   {
    "duration": 155,
    "start_time": "2022-06-12T18:52:37.137Z"
   },
   {
    "duration": 235,
    "start_time": "2022-06-12T18:52:49.584Z"
   },
   {
    "duration": 165,
    "start_time": "2022-06-12T18:52:56.019Z"
   },
   {
    "duration": 151,
    "start_time": "2022-06-12T18:53:02.056Z"
   },
   {
    "duration": 164,
    "start_time": "2022-06-12T18:53:06.939Z"
   },
   {
    "duration": 155,
    "start_time": "2022-06-12T18:53:14.997Z"
   },
   {
    "duration": 107,
    "start_time": "2022-06-12T18:54:48.408Z"
   },
   {
    "duration": 158,
    "start_time": "2022-06-12T18:55:20.537Z"
   },
   {
    "duration": 157,
    "start_time": "2022-06-12T18:57:46.210Z"
   },
   {
    "duration": 220,
    "start_time": "2022-06-12T18:58:18.982Z"
   },
   {
    "duration": 9,
    "start_time": "2022-06-12T20:06:48.415Z"
   },
   {
    "duration": 10,
    "start_time": "2022-06-12T20:07:10.407Z"
   },
   {
    "duration": 411,
    "start_time": "2022-06-12T20:07:34.021Z"
   },
   {
    "duration": 1229,
    "start_time": "2022-06-12T20:07:49.520Z"
   },
   {
    "duration": 121,
    "start_time": "2022-06-12T20:11:59.023Z"
   },
   {
    "duration": 1027,
    "start_time": "2022-06-12T20:12:07.648Z"
   },
   {
    "duration": 1066,
    "start_time": "2022-06-12T20:13:35.419Z"
   },
   {
    "duration": 103,
    "start_time": "2022-06-12T20:14:09.742Z"
   },
   {
    "duration": 943,
    "start_time": "2022-06-12T20:14:29.139Z"
   },
   {
    "duration": 863,
    "start_time": "2022-06-12T20:14:40.720Z"
   },
   {
    "duration": 314,
    "start_time": "2022-06-12T20:17:18.823Z"
   },
   {
    "duration": 361,
    "start_time": "2022-06-12T20:18:01.539Z"
   },
   {
    "duration": 358,
    "start_time": "2022-06-12T20:29:22.011Z"
   },
   {
    "duration": 317,
    "start_time": "2022-06-12T20:29:48.598Z"
   },
   {
    "duration": 1162,
    "start_time": "2022-06-13T09:59:29.025Z"
   },
   {
    "duration": 116,
    "start_time": "2022-06-13T09:59:30.189Z"
   },
   {
    "duration": 26,
    "start_time": "2022-06-13T09:59:30.306Z"
   },
   {
    "duration": 7,
    "start_time": "2022-06-13T09:59:30.334Z"
   },
   {
    "duration": 22,
    "start_time": "2022-06-13T09:59:30.343Z"
   },
   {
    "duration": 7,
    "start_time": "2022-06-13T09:59:30.367Z"
   },
   {
    "duration": 26,
    "start_time": "2022-06-13T09:59:30.376Z"
   },
   {
    "duration": 26,
    "start_time": "2022-06-13T09:59:30.403Z"
   },
   {
    "duration": 4,
    "start_time": "2022-06-13T09:59:30.431Z"
   },
   {
    "duration": 30,
    "start_time": "2022-06-13T09:59:30.438Z"
   },
   {
    "duration": 24,
    "start_time": "2022-06-13T09:59:30.470Z"
   },
   {
    "duration": 206,
    "start_time": "2022-06-13T09:59:30.497Z"
   },
   {
    "duration": 128,
    "start_time": "2022-06-13T09:59:30.705Z"
   },
   {
    "duration": 164,
    "start_time": "2022-06-13T09:59:30.835Z"
   },
   {
    "duration": 178,
    "start_time": "2022-06-13T09:59:31.001Z"
   },
   {
    "duration": 228,
    "start_time": "2022-06-13T09:59:31.180Z"
   },
   {
    "duration": 939,
    "start_time": "2022-06-13T09:59:31.410Z"
   },
   {
    "duration": 310,
    "start_time": "2022-06-13T09:59:32.350Z"
   },
   {
    "duration": 4,
    "start_time": "2022-06-13T10:02:38.297Z"
   },
   {
    "duration": 851,
    "start_time": "2022-06-13T10:03:38.393Z"
   },
   {
    "duration": 292,
    "start_time": "2022-06-13T10:04:17.915Z"
   },
   {
    "duration": 145,
    "start_time": "2022-06-13T10:04:45.897Z"
   },
   {
    "duration": 88,
    "start_time": "2022-06-13T10:13:20.298Z"
   },
   {
    "duration": 8,
    "start_time": "2022-06-13T10:15:47.419Z"
   },
   {
    "duration": 8,
    "start_time": "2022-06-13T10:17:18.013Z"
   },
   {
    "duration": 113,
    "start_time": "2022-06-13T10:19:02.948Z"
   },
   {
    "duration": 143,
    "start_time": "2022-06-13T10:20:55.764Z"
   },
   {
    "duration": 138,
    "start_time": "2022-06-13T10:21:40.196Z"
   },
   {
    "duration": 139,
    "start_time": "2022-06-13T10:21:46.494Z"
   },
   {
    "duration": 8,
    "start_time": "2022-06-13T10:23:32.295Z"
   },
   {
    "duration": 5,
    "start_time": "2022-06-13T10:27:25.003Z"
   },
   {
    "duration": 11,
    "start_time": "2022-06-13T10:27:27.489Z"
   },
   {
    "duration": 8,
    "start_time": "2022-06-13T10:28:27.154Z"
   },
   {
    "duration": 13,
    "start_time": "2022-06-13T10:28:56.200Z"
   },
   {
    "duration": 12,
    "start_time": "2022-06-13T10:29:19.716Z"
   },
   {
    "duration": 12,
    "start_time": "2022-06-13T10:29:23.577Z"
   },
   {
    "duration": 1932,
    "start_time": "2022-06-13T10:29:35.632Z"
   },
   {
    "duration": 107,
    "start_time": "2022-06-13T10:39:52.006Z"
   },
   {
    "duration": 420,
    "start_time": "2022-06-13T10:40:28.006Z"
   },
   {
    "duration": 133,
    "start_time": "2022-06-13T10:41:13.368Z"
   },
   {
    "duration": 80,
    "start_time": "2022-06-13T10:42:35.680Z"
   },
   {
    "duration": 84,
    "start_time": "2022-06-13T10:42:40.401Z"
   },
   {
    "duration": 141,
    "start_time": "2022-06-13T10:47:05.050Z"
   },
   {
    "duration": 231,
    "start_time": "2022-06-13T10:50:00.487Z"
   },
   {
    "duration": 588,
    "start_time": "2022-06-13T10:51:46.113Z"
   },
   {
    "duration": 217,
    "start_time": "2022-06-13T10:52:21.465Z"
   },
   {
    "duration": 223,
    "start_time": "2022-06-13T10:52:32.949Z"
   },
   {
    "duration": 94,
    "start_time": "2022-06-13T10:53:08.887Z"
   },
   {
    "duration": 23,
    "start_time": "2022-06-13T10:53:50.787Z"
   },
   {
    "duration": 187,
    "start_time": "2022-06-13T10:55:07.285Z"
   },
   {
    "duration": 74,
    "start_time": "2022-06-13T10:55:19.825Z"
   },
   {
    "duration": 77,
    "start_time": "2022-06-13T10:55:30.214Z"
   },
   {
    "duration": 75,
    "start_time": "2022-06-13T10:55:34.899Z"
   },
   {
    "duration": 70,
    "start_time": "2022-06-13T10:55:40.325Z"
   },
   {
    "duration": 226,
    "start_time": "2022-06-13T10:55:47.831Z"
   },
   {
    "duration": 32,
    "start_time": "2022-06-13T10:59:26.788Z"
   },
   {
    "duration": 9,
    "start_time": "2022-06-13T10:59:33.336Z"
   },
   {
    "duration": 222,
    "start_time": "2022-06-13T10:59:41.883Z"
   },
   {
    "duration": 127,
    "start_time": "2022-06-13T10:59:46.408Z"
   },
   {
    "duration": 118,
    "start_time": "2022-06-13T11:00:33.549Z"
   },
   {
    "duration": 140,
    "start_time": "2022-06-13T11:00:45.308Z"
   },
   {
    "duration": 117,
    "start_time": "2022-06-13T11:00:54.447Z"
   },
   {
    "duration": 61,
    "start_time": "2022-06-13T11:07:52.821Z"
   },
   {
    "duration": 17,
    "start_time": "2022-06-13T11:10:09.349Z"
   },
   {
    "duration": 6,
    "start_time": "2022-06-13T11:10:23.000Z"
   },
   {
    "duration": 10,
    "start_time": "2022-06-13T11:10:48.585Z"
   },
   {
    "duration": 227,
    "start_time": "2022-06-13T11:12:26.558Z"
   },
   {
    "duration": 109,
    "start_time": "2022-06-13T11:12:34.671Z"
   },
   {
    "duration": 19,
    "start_time": "2022-06-13T11:13:03.842Z"
   },
   {
    "duration": 8,
    "start_time": "2022-06-13T11:13:42.061Z"
   },
   {
    "duration": 192,
    "start_time": "2022-06-13T11:13:49.537Z"
   },
   {
    "duration": 206,
    "start_time": "2022-06-13T11:14:33.700Z"
   },
   {
    "duration": 207,
    "start_time": "2022-06-13T11:14:38.758Z"
   },
   {
    "duration": 195,
    "start_time": "2022-06-13T11:14:42.205Z"
   },
   {
    "duration": 424,
    "start_time": "2022-06-13T11:14:47.342Z"
   },
   {
    "duration": 153,
    "start_time": "2022-06-13T11:14:51.288Z"
   },
   {
    "duration": 186,
    "start_time": "2022-06-13T11:14:54.322Z"
   },
   {
    "duration": 163,
    "start_time": "2022-06-13T11:15:00.206Z"
   },
   {
    "duration": 194,
    "start_time": "2022-06-13T11:15:04.629Z"
   },
   {
    "duration": 324,
    "start_time": "2022-06-13T11:27:29.008Z"
   },
   {
    "duration": 17,
    "start_time": "2022-06-13T11:28:21.951Z"
   },
   {
    "duration": 18,
    "start_time": "2022-06-13T11:32:19.875Z"
   },
   {
    "duration": 252,
    "start_time": "2022-06-13T11:32:24.824Z"
   },
   {
    "duration": 17,
    "start_time": "2022-06-13T11:36:01.171Z"
   },
   {
    "duration": 255,
    "start_time": "2022-06-13T11:37:18.604Z"
   },
   {
    "duration": 1227,
    "start_time": "2022-06-13T11:40:07.914Z"
   },
   {
    "duration": 139,
    "start_time": "2022-06-13T11:43:41.074Z"
   },
   {
    "duration": 187,
    "start_time": "2022-06-13T11:48:29.589Z"
   },
   {
    "duration": 266,
    "start_time": "2022-06-13T11:49:36.914Z"
   },
   {
    "duration": 221,
    "start_time": "2022-06-13T11:55:04.886Z"
   },
   {
    "duration": 2018,
    "start_time": "2022-06-13T16:52:46.670Z"
   },
   {
    "duration": 966,
    "start_time": "2022-06-13T16:52:48.690Z"
   },
   {
    "duration": 58,
    "start_time": "2022-06-13T16:52:49.659Z"
   },
   {
    "duration": 23,
    "start_time": "2022-06-13T16:52:49.727Z"
   },
   {
    "duration": 59,
    "start_time": "2022-06-13T16:52:49.753Z"
   },
   {
    "duration": 51,
    "start_time": "2022-06-13T16:52:49.824Z"
   },
   {
    "duration": 57,
    "start_time": "2022-06-13T16:52:49.882Z"
   },
   {
    "duration": 24,
    "start_time": "2022-06-13T16:52:49.942Z"
   },
   {
    "duration": 57,
    "start_time": "2022-06-13T16:52:49.978Z"
   },
   {
    "duration": 77,
    "start_time": "2022-06-13T16:52:50.044Z"
   },
   {
    "duration": 45,
    "start_time": "2022-06-13T16:52:50.125Z"
   },
   {
    "duration": 407,
    "start_time": "2022-06-13T16:52:50.174Z"
   },
   {
    "duration": 206,
    "start_time": "2022-06-13T16:52:50.587Z"
   },
   {
    "duration": 265,
    "start_time": "2022-06-13T16:52:50.795Z"
   },
   {
    "duration": 303,
    "start_time": "2022-06-13T16:52:51.062Z"
   },
   {
    "duration": 405,
    "start_time": "2022-06-13T16:52:51.368Z"
   },
   {
    "duration": 5,
    "start_time": "2022-06-13T16:52:51.776Z"
   },
   {
    "duration": 1706,
    "start_time": "2022-06-13T16:52:51.783Z"
   },
   {
    "duration": 161,
    "start_time": "2022-06-13T16:52:53.494Z"
   },
   {
    "duration": 0,
    "start_time": "2022-06-13T16:52:53.657Z"
   },
   {
    "duration": 47,
    "start_time": "2022-06-13T17:27:17.485Z"
   },
   {
    "duration": 19,
    "start_time": "2022-06-13T17:27:24.966Z"
   },
   {
    "duration": 12,
    "start_time": "2022-06-13T17:28:40.718Z"
   },
   {
    "duration": 21,
    "start_time": "2022-06-13T17:29:35.921Z"
   },
   {
    "duration": 11,
    "start_time": "2022-06-13T17:34:59.704Z"
   },
   {
    "duration": 14,
    "start_time": "2022-06-13T17:35:10.428Z"
   },
   {
    "duration": 27,
    "start_time": "2022-06-13T17:35:20.645Z"
   },
   {
    "duration": 26,
    "start_time": "2022-06-13T17:38:17.442Z"
   },
   {
    "duration": 121,
    "start_time": "2022-06-13T17:40:13.944Z"
   },
   {
    "duration": 9,
    "start_time": "2022-06-13T17:40:15.942Z"
   },
   {
    "duration": 21,
    "start_time": "2022-06-13T17:40:17.433Z"
   },
   {
    "duration": 32,
    "start_time": "2022-06-13T17:40:21.148Z"
   },
   {
    "duration": 179,
    "start_time": "2022-06-13T17:41:19.652Z"
   },
   {
    "duration": 12,
    "start_time": "2022-06-13T17:41:22.620Z"
   },
   {
    "duration": 11,
    "start_time": "2022-06-13T17:41:24.145Z"
   },
   {
    "duration": 38,
    "start_time": "2022-06-13T17:41:25.812Z"
   },
   {
    "duration": 162,
    "start_time": "2022-06-13T17:43:23.343Z"
   },
   {
    "duration": 10,
    "start_time": "2022-06-13T17:43:24.016Z"
   },
   {
    "duration": 11,
    "start_time": "2022-06-13T17:43:25.146Z"
   },
   {
    "duration": 25,
    "start_time": "2022-06-13T17:43:25.817Z"
   },
   {
    "duration": 170,
    "start_time": "2022-06-13T17:44:16.889Z"
   },
   {
    "duration": 12,
    "start_time": "2022-06-13T17:44:18.416Z"
   },
   {
    "duration": 19,
    "start_time": "2022-06-13T17:44:19.825Z"
   },
   {
    "duration": 31,
    "start_time": "2022-06-13T17:44:21.024Z"
   },
   {
    "duration": 121,
    "start_time": "2022-06-13T17:45:17.722Z"
   },
   {
    "duration": 17,
    "start_time": "2022-06-13T17:45:19.320Z"
   },
   {
    "duration": 21,
    "start_time": "2022-06-13T17:45:20.652Z"
   },
   {
    "duration": 43,
    "start_time": "2022-06-13T17:45:21.189Z"
   },
   {
    "duration": 183,
    "start_time": "2022-06-13T17:45:58.440Z"
   },
   {
    "duration": 15,
    "start_time": "2022-06-13T17:45:58.812Z"
   },
   {
    "duration": 35,
    "start_time": "2022-06-13T17:45:59.304Z"
   },
   {
    "duration": 22,
    "start_time": "2022-06-13T18:10:55.494Z"
   },
   {
    "duration": 19,
    "start_time": "2022-06-13T18:11:27.422Z"
   },
   {
    "duration": 18,
    "start_time": "2022-06-13T18:11:39.935Z"
   },
   {
    "duration": 19,
    "start_time": "2022-06-13T18:11:46.755Z"
   },
   {
    "duration": 16,
    "start_time": "2022-06-13T18:13:33.946Z"
   },
   {
    "duration": 18,
    "start_time": "2022-06-13T18:14:01.353Z"
   },
   {
    "duration": 21,
    "start_time": "2022-06-13T18:14:39.527Z"
   },
   {
    "duration": 191,
    "start_time": "2022-06-13T18:16:24.855Z"
   },
   {
    "duration": 180,
    "start_time": "2022-06-13T18:17:35.149Z"
   },
   {
    "duration": 33,
    "start_time": "2022-06-13T18:30:51.993Z"
   },
   {
    "duration": 5,
    "start_time": "2022-06-13T18:31:06.876Z"
   },
   {
    "duration": 18,
    "start_time": "2022-06-13T18:31:14.971Z"
   },
   {
    "duration": 32,
    "start_time": "2022-06-13T18:32:09.870Z"
   },
   {
    "duration": 1254,
    "start_time": "2022-06-15T08:37:58.887Z"
   },
   {
    "duration": 245,
    "start_time": "2022-06-15T08:38:00.143Z"
   },
   {
    "duration": 23,
    "start_time": "2022-06-15T08:38:00.389Z"
   },
   {
    "duration": 6,
    "start_time": "2022-06-15T08:38:00.414Z"
   },
   {
    "duration": 22,
    "start_time": "2022-06-15T08:38:00.422Z"
   },
   {
    "duration": 16,
    "start_time": "2022-06-15T08:38:00.446Z"
   },
   {
    "duration": 23,
    "start_time": "2022-06-15T08:38:00.464Z"
   },
   {
    "duration": 14,
    "start_time": "2022-06-15T08:38:00.489Z"
   },
   {
    "duration": 6,
    "start_time": "2022-06-15T08:38:00.524Z"
   },
   {
    "duration": 23,
    "start_time": "2022-06-15T08:38:00.534Z"
   },
   {
    "duration": 6,
    "start_time": "2022-06-15T08:38:00.559Z"
   },
   {
    "duration": 215,
    "start_time": "2022-06-15T08:38:00.567Z"
   },
   {
    "duration": 157,
    "start_time": "2022-06-15T08:38:00.784Z"
   },
   {
    "duration": 244,
    "start_time": "2022-06-15T08:38:00.944Z"
   },
   {
    "duration": 200,
    "start_time": "2022-06-15T08:38:01.190Z"
   },
   {
    "duration": 316,
    "start_time": "2022-06-15T08:38:01.393Z"
   },
   {
    "duration": 13,
    "start_time": "2022-06-15T08:38:01.711Z"
   },
   {
    "duration": 1263,
    "start_time": "2022-06-15T08:38:01.727Z"
   },
   {
    "duration": 168,
    "start_time": "2022-06-15T08:38:02.992Z"
   },
   {
    "duration": 6,
    "start_time": "2022-06-15T08:38:03.162Z"
   },
   {
    "duration": 16,
    "start_time": "2022-06-15T08:38:03.170Z"
   },
   {
    "duration": 208,
    "start_time": "2022-06-15T08:38:03.188Z"
   },
   {
    "duration": 29,
    "start_time": "2022-06-15T08:38:03.398Z"
   },
   {
    "duration": 242,
    "start_time": "2022-06-15T08:40:48.930Z"
   },
   {
    "duration": 188,
    "start_time": "2022-06-15T09:03:02.948Z"
   },
   {
    "duration": 194,
    "start_time": "2022-06-15T09:05:07.886Z"
   },
   {
    "duration": 172,
    "start_time": "2022-06-15T09:05:15.586Z"
   },
   {
    "duration": 191,
    "start_time": "2022-06-15T09:05:22.010Z"
   },
   {
    "duration": 267,
    "start_time": "2022-06-15T09:05:35.814Z"
   },
   {
    "duration": 102,
    "start_time": "2022-06-15T09:12:25.798Z"
   },
   {
    "duration": 9,
    "start_time": "2022-06-15T09:12:37.000Z"
   },
   {
    "duration": 137,
    "start_time": "2022-06-15T09:12:46.147Z"
   },
   {
    "duration": 138,
    "start_time": "2022-06-15T09:13:05.818Z"
   },
   {
    "duration": 133,
    "start_time": "2022-06-15T09:13:44.133Z"
   },
   {
    "duration": 138,
    "start_time": "2022-06-15T09:13:52.968Z"
   },
   {
    "duration": 170,
    "start_time": "2022-06-15T09:14:43.236Z"
   },
   {
    "duration": 166,
    "start_time": "2022-06-15T09:15:12.264Z"
   },
   {
    "duration": 11,
    "start_time": "2022-06-15T09:15:23.790Z"
   },
   {
    "duration": 228,
    "start_time": "2022-06-15T09:15:30.907Z"
   },
   {
    "duration": 226,
    "start_time": "2022-06-15T09:15:43.104Z"
   },
   {
    "duration": 261,
    "start_time": "2022-06-15T09:20:54.494Z"
   },
   {
    "duration": 1016,
    "start_time": "2022-06-15T09:21:28.023Z"
   },
   {
    "duration": 66,
    "start_time": "2022-06-15T10:43:33.398Z"
   },
   {
    "duration": 1284,
    "start_time": "2022-06-15T11:00:57.587Z"
   },
   {
    "duration": 225,
    "start_time": "2022-06-15T11:00:58.873Z"
   },
   {
    "duration": 23,
    "start_time": "2022-06-15T11:00:59.103Z"
   },
   {
    "duration": 6,
    "start_time": "2022-06-15T11:00:59.129Z"
   },
   {
    "duration": 11,
    "start_time": "2022-06-15T11:00:59.137Z"
   },
   {
    "duration": 9,
    "start_time": "2022-06-15T11:00:59.150Z"
   },
   {
    "duration": 18,
    "start_time": "2022-06-15T11:00:59.160Z"
   },
   {
    "duration": 11,
    "start_time": "2022-06-15T11:00:59.180Z"
   },
   {
    "duration": 33,
    "start_time": "2022-06-15T11:00:59.192Z"
   },
   {
    "duration": 21,
    "start_time": "2022-06-15T11:00:59.227Z"
   },
   {
    "duration": 5,
    "start_time": "2022-06-15T11:00:59.250Z"
   },
   {
    "duration": 224,
    "start_time": "2022-06-15T11:00:59.257Z"
   },
   {
    "duration": 141,
    "start_time": "2022-06-15T11:00:59.484Z"
   },
   {
    "duration": 175,
    "start_time": "2022-06-15T11:00:59.627Z"
   },
   {
    "duration": 207,
    "start_time": "2022-06-15T11:00:59.805Z"
   },
   {
    "duration": 262,
    "start_time": "2022-06-15T11:01:00.014Z"
   },
   {
    "duration": 5,
    "start_time": "2022-06-15T11:01:00.278Z"
   },
   {
    "duration": 298,
    "start_time": "2022-06-15T11:01:00.285Z"
   },
   {
    "duration": 1075,
    "start_time": "2022-06-15T11:01:00.586Z"
   },
   {
    "duration": 103,
    "start_time": "2022-06-15T11:01:01.663Z"
   },
   {
    "duration": 7,
    "start_time": "2022-06-15T11:01:01.768Z"
   },
   {
    "duration": 34,
    "start_time": "2022-06-15T11:01:01.777Z"
   },
   {
    "duration": 264,
    "start_time": "2022-06-15T11:01:01.814Z"
   },
   {
    "duration": 23,
    "start_time": "2022-06-15T11:01:02.080Z"
   },
   {
    "duration": 103,
    "start_time": "2022-06-15T11:07:20.367Z"
   },
   {
    "duration": 21,
    "start_time": "2022-06-15T11:07:32.615Z"
   },
   {
    "duration": 41,
    "start_time": "2022-06-15T11:08:09.400Z"
   },
   {
    "duration": 14,
    "start_time": "2022-06-15T11:08:41.892Z"
   },
   {
    "duration": 11,
    "start_time": "2022-06-15T11:09:37.367Z"
   },
   {
    "duration": 12,
    "start_time": "2022-06-15T11:10:19.010Z"
   },
   {
    "duration": 11,
    "start_time": "2022-06-15T11:12:52.889Z"
   },
   {
    "duration": 15,
    "start_time": "2022-06-15T11:17:35.612Z"
   },
   {
    "duration": 13,
    "start_time": "2022-06-15T11:18:01.443Z"
   },
   {
    "duration": 11,
    "start_time": "2022-06-15T11:18:19.594Z"
   },
   {
    "duration": 135,
    "start_time": "2022-06-15T11:18:29.349Z"
   },
   {
    "duration": 166,
    "start_time": "2022-06-15T11:18:39.199Z"
   },
   {
    "duration": 173,
    "start_time": "2022-06-15T11:20:37.497Z"
   },
   {
    "duration": 243,
    "start_time": "2022-06-15T11:20:42.154Z"
   },
   {
    "duration": 24,
    "start_time": "2022-06-15T11:32:34.127Z"
   },
   {
    "duration": 22,
    "start_time": "2022-06-15T11:33:23.255Z"
   },
   {
    "duration": 21,
    "start_time": "2022-06-15T11:35:14.392Z"
   },
   {
    "duration": 20,
    "start_time": "2022-06-15T11:36:47.998Z"
   },
   {
    "duration": 18,
    "start_time": "2022-06-15T11:36:57.925Z"
   },
   {
    "duration": 20,
    "start_time": "2022-06-15T11:37:24.747Z"
   },
   {
    "duration": 21,
    "start_time": "2022-06-15T11:37:31.690Z"
   },
   {
    "duration": 18,
    "start_time": "2022-06-15T11:37:58.185Z"
   },
   {
    "duration": 16,
    "start_time": "2022-06-15T11:38:08.895Z"
   },
   {
    "duration": 185,
    "start_time": "2022-06-15T11:39:08.356Z"
   },
   {
    "duration": 190,
    "start_time": "2022-06-15T11:39:51.568Z"
   },
   {
    "duration": 72,
    "start_time": "2022-06-15T16:57:28.153Z"
   },
   {
    "duration": 1367,
    "start_time": "2022-06-15T16:57:35.051Z"
   },
   {
    "duration": 214,
    "start_time": "2022-06-15T16:57:36.420Z"
   },
   {
    "duration": 34,
    "start_time": "2022-06-15T16:57:36.636Z"
   },
   {
    "duration": 7,
    "start_time": "2022-06-15T16:57:36.672Z"
   },
   {
    "duration": 21,
    "start_time": "2022-06-15T16:57:36.682Z"
   },
   {
    "duration": 11,
    "start_time": "2022-06-15T16:57:36.705Z"
   },
   {
    "duration": 27,
    "start_time": "2022-06-15T16:57:36.718Z"
   },
   {
    "duration": 11,
    "start_time": "2022-06-15T16:57:36.747Z"
   },
   {
    "duration": 6,
    "start_time": "2022-06-15T16:57:36.760Z"
   },
   {
    "duration": 36,
    "start_time": "2022-06-15T16:57:36.767Z"
   },
   {
    "duration": 5,
    "start_time": "2022-06-15T16:57:36.804Z"
   },
   {
    "duration": 198,
    "start_time": "2022-06-15T16:57:36.810Z"
   },
   {
    "duration": 128,
    "start_time": "2022-06-15T16:57:37.011Z"
   },
   {
    "duration": 202,
    "start_time": "2022-06-15T16:57:37.143Z"
   },
   {
    "duration": 207,
    "start_time": "2022-06-15T16:57:37.348Z"
   },
   {
    "duration": 4,
    "start_time": "2022-06-15T16:57:37.557Z"
   },
   {
    "duration": 274,
    "start_time": "2022-06-15T16:57:37.563Z"
   },
   {
    "duration": 1063,
    "start_time": "2022-06-15T16:57:37.838Z"
   },
   {
    "duration": 280,
    "start_time": "2022-06-15T16:57:38.903Z"
   },
   {
    "duration": 97,
    "start_time": "2022-06-15T16:57:39.184Z"
   },
   {
    "duration": 14,
    "start_time": "2022-06-15T16:57:39.283Z"
   },
   {
    "duration": 42,
    "start_time": "2022-06-15T16:57:39.300Z"
   },
   {
    "duration": 240,
    "start_time": "2022-06-15T16:57:39.344Z"
   },
   {
    "duration": 28,
    "start_time": "2022-06-15T16:57:39.586Z"
   },
   {
    "duration": 109,
    "start_time": "2022-06-15T16:58:18.191Z"
   },
   {
    "duration": 4,
    "start_time": "2022-06-15T16:58:52.713Z"
   },
   {
    "duration": 177,
    "start_time": "2022-06-15T16:58:54.606Z"
   },
   {
    "duration": 1138,
    "start_time": "2022-06-15T16:59:07.299Z"
   },
   {
    "duration": 71,
    "start_time": "2022-06-15T16:59:08.439Z"
   },
   {
    "duration": 24,
    "start_time": "2022-06-15T16:59:08.512Z"
   },
   {
    "duration": 6,
    "start_time": "2022-06-15T16:59:08.538Z"
   },
   {
    "duration": 18,
    "start_time": "2022-06-15T16:59:08.545Z"
   },
   {
    "duration": 36,
    "start_time": "2022-06-15T16:59:08.564Z"
   },
   {
    "duration": 23,
    "start_time": "2022-06-15T16:59:08.602Z"
   },
   {
    "duration": 11,
    "start_time": "2022-06-15T16:59:08.627Z"
   },
   {
    "duration": 12,
    "start_time": "2022-06-15T16:59:08.640Z"
   },
   {
    "duration": 39,
    "start_time": "2022-06-15T16:59:08.656Z"
   },
   {
    "duration": 4,
    "start_time": "2022-06-15T16:59:08.697Z"
   },
   {
    "duration": 236,
    "start_time": "2022-06-15T16:59:08.704Z"
   },
   {
    "duration": 165,
    "start_time": "2022-06-15T16:59:08.943Z"
   },
   {
    "duration": 206,
    "start_time": "2022-06-15T16:59:09.110Z"
   },
   {
    "duration": 213,
    "start_time": "2022-06-15T16:59:09.317Z"
   },
   {
    "duration": 5,
    "start_time": "2022-06-15T16:59:09.531Z"
   },
   {
    "duration": 327,
    "start_time": "2022-06-15T16:59:09.538Z"
   },
   {
    "duration": 1026,
    "start_time": "2022-06-15T16:59:09.868Z"
   },
   {
    "duration": 201,
    "start_time": "2022-06-15T16:59:10.895Z"
   },
   {
    "duration": 97,
    "start_time": "2022-06-15T16:59:11.098Z"
   },
   {
    "duration": 5,
    "start_time": "2022-06-15T16:59:11.197Z"
   },
   {
    "duration": 12,
    "start_time": "2022-06-15T16:59:11.204Z"
   },
   {
    "duration": 214,
    "start_time": "2022-06-15T16:59:11.217Z"
   },
   {
    "duration": 21,
    "start_time": "2022-06-15T16:59:11.433Z"
   },
   {
    "duration": 216,
    "start_time": "2022-06-15T17:13:21.908Z"
   },
   {
    "duration": 173,
    "start_time": "2022-06-15T17:13:34.356Z"
   },
   {
    "duration": 202,
    "start_time": "2022-06-15T17:13:39.902Z"
   },
   {
    "duration": 44,
    "start_time": "2022-06-15T21:03:59.173Z"
   },
   {
    "duration": 1198,
    "start_time": "2022-06-15T21:04:05.171Z"
   },
   {
    "duration": 249,
    "start_time": "2022-06-15T21:04:06.371Z"
   },
   {
    "duration": 23,
    "start_time": "2022-06-15T21:04:06.626Z"
   },
   {
    "duration": 6,
    "start_time": "2022-06-15T21:04:06.651Z"
   },
   {
    "duration": 11,
    "start_time": "2022-06-15T21:04:06.658Z"
   },
   {
    "duration": 8,
    "start_time": "2022-06-15T21:04:06.670Z"
   },
   {
    "duration": 18,
    "start_time": "2022-06-15T21:04:06.680Z"
   },
   {
    "duration": 11,
    "start_time": "2022-06-15T21:04:06.727Z"
   },
   {
    "duration": 5,
    "start_time": "2022-06-15T21:04:06.740Z"
   },
   {
    "duration": 15,
    "start_time": "2022-06-15T21:04:06.746Z"
   },
   {
    "duration": 3,
    "start_time": "2022-06-15T21:04:06.762Z"
   },
   {
    "duration": 204,
    "start_time": "2022-06-15T21:04:06.766Z"
   },
   {
    "duration": 6,
    "start_time": "2022-06-15T21:04:06.972Z"
   },
   {
    "duration": 182,
    "start_time": "2022-06-15T21:04:06.979Z"
   },
   {
    "duration": 206,
    "start_time": "2022-06-15T21:04:07.162Z"
   },
   {
    "duration": 3,
    "start_time": "2022-06-15T21:04:07.370Z"
   },
   {
    "duration": 259,
    "start_time": "2022-06-15T21:04:07.375Z"
   },
   {
    "duration": 878,
    "start_time": "2022-06-15T21:04:07.636Z"
   },
   {
    "duration": 175,
    "start_time": "2022-06-15T21:04:08.515Z"
   },
   {
    "duration": 80,
    "start_time": "2022-06-15T21:04:08.691Z"
   },
   {
    "duration": 5,
    "start_time": "2022-06-15T21:04:08.773Z"
   },
   {
    "duration": 11,
    "start_time": "2022-06-15T21:04:08.780Z"
   },
   {
    "duration": 194,
    "start_time": "2022-06-15T21:04:08.793Z"
   },
   {
    "duration": 20,
    "start_time": "2022-06-15T21:04:08.988Z"
   },
   {
    "duration": 106,
    "start_time": "2022-06-15T21:04:15.694Z"
   },
   {
    "duration": 7,
    "start_time": "2022-06-15T21:05:28.783Z"
   },
   {
    "duration": 104,
    "start_time": "2022-06-15T21:05:34.896Z"
   },
   {
    "duration": 267,
    "start_time": "2022-06-15T21:21:26.276Z"
   },
   {
    "duration": 262,
    "start_time": "2022-06-15T21:23:04.711Z"
   },
   {
    "duration": 51,
    "start_time": "2022-06-18T09:25:53.834Z"
   },
   {
    "duration": 1356,
    "start_time": "2022-06-18T09:26:02.476Z"
   },
   {
    "duration": 251,
    "start_time": "2022-06-18T09:26:03.835Z"
   },
   {
    "duration": 36,
    "start_time": "2022-06-18T09:26:04.088Z"
   },
   {
    "duration": 5,
    "start_time": "2022-06-18T09:26:04.126Z"
   },
   {
    "duration": 12,
    "start_time": "2022-06-18T09:26:04.133Z"
   },
   {
    "duration": 9,
    "start_time": "2022-06-18T09:26:04.146Z"
   },
   {
    "duration": 47,
    "start_time": "2022-06-18T09:26:04.160Z"
   },
   {
    "duration": 12,
    "start_time": "2022-06-18T09:26:04.209Z"
   },
   {
    "duration": 5,
    "start_time": "2022-06-18T09:26:04.222Z"
   },
   {
    "duration": 15,
    "start_time": "2022-06-18T09:26:04.229Z"
   },
   {
    "duration": 15,
    "start_time": "2022-06-18T09:26:04.246Z"
   },
   {
    "duration": 2,
    "start_time": "2022-06-18T09:26:04.263Z"
   },
   {
    "duration": 236,
    "start_time": "2022-06-18T09:26:04.303Z"
   },
   {
    "duration": 139,
    "start_time": "2022-06-18T09:26:04.542Z"
   },
   {
    "duration": 199,
    "start_time": "2022-06-18T09:26:04.683Z"
   },
   {
    "duration": 229,
    "start_time": "2022-06-18T09:26:04.884Z"
   },
   {
    "duration": 5,
    "start_time": "2022-06-18T09:26:05.115Z"
   },
   {
    "duration": 319,
    "start_time": "2022-06-18T09:26:05.122Z"
   },
   {
    "duration": 1080,
    "start_time": "2022-06-18T09:26:05.442Z"
   },
   {
    "duration": 210,
    "start_time": "2022-06-18T09:26:06.524Z"
   },
   {
    "duration": 95,
    "start_time": "2022-06-18T09:26:06.735Z"
   },
   {
    "duration": 6,
    "start_time": "2022-06-18T09:26:06.831Z"
   },
   {
    "duration": 12,
    "start_time": "2022-06-18T09:26:06.839Z"
   },
   {
    "duration": 229,
    "start_time": "2022-06-18T09:26:06.853Z"
   },
   {
    "duration": 33,
    "start_time": "2022-06-18T09:26:07.083Z"
   },
   {
    "duration": 15,
    "start_time": "2022-06-18T09:26:16.810Z"
   },
   {
    "duration": 38,
    "start_time": "2022-06-18T09:26:34.787Z"
   },
   {
    "duration": 27,
    "start_time": "2022-06-18T09:27:20.570Z"
   },
   {
    "duration": 29,
    "start_time": "2022-06-18T09:28:10.701Z"
   },
   {
    "duration": 125,
    "start_time": "2022-06-18T09:35:49.356Z"
   },
   {
    "duration": 26,
    "start_time": "2022-06-18T09:44:39.628Z"
   },
   {
    "duration": 19,
    "start_time": "2022-06-18T09:45:39.918Z"
   },
   {
    "duration": 15,
    "start_time": "2022-06-18T09:46:08.209Z"
   },
   {
    "duration": 31,
    "start_time": "2022-06-18T09:57:30.332Z"
   },
   {
    "duration": 23,
    "start_time": "2022-06-18T09:57:58.024Z"
   },
   {
    "duration": 195,
    "start_time": "2022-06-18T09:58:09.099Z"
   },
   {
    "duration": 190,
    "start_time": "2022-06-18T09:58:19.261Z"
   },
   {
    "duration": 187,
    "start_time": "2022-06-18T10:02:48.672Z"
   },
   {
    "duration": 292,
    "start_time": "2022-06-18T10:02:56.026Z"
   },
   {
    "duration": 185,
    "start_time": "2022-06-18T10:03:44.624Z"
   },
   {
    "duration": 207,
    "start_time": "2022-06-18T10:03:57.949Z"
   },
   {
    "duration": 230,
    "start_time": "2022-06-18T10:04:08.836Z"
   },
   {
    "duration": 225,
    "start_time": "2022-06-18T10:05:50.775Z"
   },
   {
    "duration": 199,
    "start_time": "2022-06-18T10:05:55.764Z"
   },
   {
    "duration": 200,
    "start_time": "2022-06-18T10:06:34.426Z"
   },
   {
    "duration": 198,
    "start_time": "2022-06-18T10:08:24.206Z"
   },
   {
    "duration": 264,
    "start_time": "2022-06-18T10:08:33.836Z"
   },
   {
    "duration": 486,
    "start_time": "2022-06-18T10:08:59.973Z"
   },
   {
    "duration": 311,
    "start_time": "2022-06-18T10:09:20.684Z"
   },
   {
    "duration": 154,
    "start_time": "2022-06-18T10:10:00.717Z"
   },
   {
    "duration": 338,
    "start_time": "2022-06-18T10:10:37.829Z"
   },
   {
    "duration": 336,
    "start_time": "2022-06-18T10:10:41.741Z"
   },
   {
    "duration": 345,
    "start_time": "2022-06-18T10:11:08.507Z"
   },
   {
    "duration": 443,
    "start_time": "2022-06-18T10:11:41.899Z"
   },
   {
    "duration": 356,
    "start_time": "2022-06-18T10:11:56.040Z"
   },
   {
    "duration": 373,
    "start_time": "2022-06-18T10:13:10.513Z"
   },
   {
    "duration": 356,
    "start_time": "2022-06-18T10:13:19.818Z"
   },
   {
    "duration": 411,
    "start_time": "2022-06-18T10:14:41.054Z"
   },
   {
    "duration": 17,
    "start_time": "2022-06-18T10:24:08.374Z"
   },
   {
    "duration": 19,
    "start_time": "2022-06-18T10:24:57.316Z"
   },
   {
    "duration": 17,
    "start_time": "2022-06-18T10:25:38.665Z"
   },
   {
    "duration": 16,
    "start_time": "2022-06-18T10:27:23.761Z"
   },
   {
    "duration": 133,
    "start_time": "2022-06-18T10:28:05.240Z"
   },
   {
    "duration": 242,
    "start_time": "2022-06-18T10:28:22.476Z"
   },
   {
    "duration": 134,
    "start_time": "2022-06-18T10:29:18.303Z"
   },
   {
    "duration": 146,
    "start_time": "2022-06-18T10:31:38.338Z"
   },
   {
    "duration": 156,
    "start_time": "2022-06-18T10:37:10.073Z"
   },
   {
    "duration": 189,
    "start_time": "2022-06-18T10:37:44.920Z"
   },
   {
    "duration": 181,
    "start_time": "2022-06-18T10:38:16.810Z"
   },
   {
    "duration": 166,
    "start_time": "2022-06-18T10:38:42.071Z"
   },
   {
    "duration": 190,
    "start_time": "2022-06-18T10:44:26.741Z"
   },
   {
    "duration": 163,
    "start_time": "2022-06-18T10:44:35.014Z"
   },
   {
    "duration": 27,
    "start_time": "2022-06-18T10:46:44.942Z"
   },
   {
    "duration": 204,
    "start_time": "2022-06-18T10:46:59.027Z"
   },
   {
    "duration": 238,
    "start_time": "2022-06-18T10:47:10.191Z"
   },
   {
    "duration": 1172,
    "start_time": "2022-06-18T10:48:51.018Z"
   },
   {
    "duration": 74,
    "start_time": "2022-06-18T10:48:52.193Z"
   },
   {
    "duration": 24,
    "start_time": "2022-06-18T10:48:52.269Z"
   },
   {
    "duration": 9,
    "start_time": "2022-06-18T10:48:52.297Z"
   },
   {
    "duration": 18,
    "start_time": "2022-06-18T10:48:52.309Z"
   },
   {
    "duration": 8,
    "start_time": "2022-06-18T10:48:52.329Z"
   },
   {
    "duration": 19,
    "start_time": "2022-06-18T10:48:52.339Z"
   },
   {
    "duration": 35,
    "start_time": "2022-06-18T10:48:52.360Z"
   },
   {
    "duration": 9,
    "start_time": "2022-06-18T10:48:52.399Z"
   },
   {
    "duration": 17,
    "start_time": "2022-06-18T10:48:52.412Z"
   },
   {
    "duration": 14,
    "start_time": "2022-06-18T10:48:52.431Z"
   },
   {
    "duration": 7,
    "start_time": "2022-06-18T10:48:52.447Z"
   },
   {
    "duration": 254,
    "start_time": "2022-06-18T10:48:52.456Z"
   },
   {
    "duration": 128,
    "start_time": "2022-06-18T10:48:52.712Z"
   },
   {
    "duration": 415,
    "start_time": "2022-06-18T10:48:52.842Z"
   },
   {
    "duration": 203,
    "start_time": "2022-06-18T10:48:53.259Z"
   },
   {
    "duration": 177,
    "start_time": "2022-06-18T10:48:53.464Z"
   },
   {
    "duration": 201,
    "start_time": "2022-06-18T10:48:53.642Z"
   },
   {
    "duration": 101,
    "start_time": "2022-06-18T10:48:53.845Z"
   },
   {
    "duration": 6,
    "start_time": "2022-06-18T10:48:53.948Z"
   },
   {
    "duration": 12,
    "start_time": "2022-06-18T10:48:53.956Z"
   },
   {
    "duration": 232,
    "start_time": "2022-06-18T10:48:53.970Z"
   },
   {
    "duration": 213,
    "start_time": "2022-06-18T10:48:54.204Z"
   },
   {
    "duration": 21,
    "start_time": "2022-06-18T10:48:54.419Z"
   },
   {
    "duration": 191,
    "start_time": "2022-06-18T10:49:46.372Z"
   },
   {
    "duration": 203,
    "start_time": "2022-06-18T10:51:41.952Z"
   },
   {
    "duration": 212,
    "start_time": "2022-06-18T10:52:44.427Z"
   },
   {
    "duration": 205,
    "start_time": "2022-06-18T10:52:55.373Z"
   },
   {
    "duration": 216,
    "start_time": "2022-06-18T10:53:05.228Z"
   },
   {
    "duration": 292,
    "start_time": "2022-06-18T10:54:39.043Z"
   },
   {
    "duration": 195,
    "start_time": "2022-06-18T10:54:59.167Z"
   },
   {
    "duration": 646,
    "start_time": "2022-06-18T10:55:48.536Z"
   },
   {
    "duration": 218,
    "start_time": "2022-06-18T10:55:55.736Z"
   },
   {
    "duration": 214,
    "start_time": "2022-06-18T10:56:19.164Z"
   },
   {
    "duration": 208,
    "start_time": "2022-06-18T10:56:49.174Z"
   },
   {
    "duration": 177,
    "start_time": "2022-06-18T10:57:00.147Z"
   },
   {
    "duration": 413,
    "start_time": "2022-06-18T10:58:31.584Z"
   },
   {
    "duration": 178,
    "start_time": "2022-06-18T10:58:48.159Z"
   },
   {
    "duration": 936,
    "start_time": "2022-06-18T11:05:58.993Z"
   },
   {
    "duration": 953,
    "start_time": "2022-06-18T11:10:55.763Z"
   },
   {
    "duration": 978,
    "start_time": "2022-06-18T11:12:42.124Z"
   },
   {
    "duration": 233,
    "start_time": "2022-06-18T11:12:56.993Z"
   },
   {
    "duration": 10,
    "start_time": "2022-06-18T11:14:26.527Z"
   },
   {
    "duration": 13,
    "start_time": "2022-06-18T11:14:42.771Z"
   },
   {
    "duration": 35,
    "start_time": "2022-06-18T11:16:04.437Z"
   },
   {
    "duration": 27,
    "start_time": "2022-06-18T11:16:26.049Z"
   },
   {
    "duration": 35,
    "start_time": "2022-06-18T11:17:09.589Z"
   },
   {
    "duration": 10,
    "start_time": "2022-06-18T11:18:05.706Z"
   },
   {
    "duration": 9,
    "start_time": "2022-06-18T11:18:17.832Z"
   },
   {
    "duration": 24,
    "start_time": "2022-06-18T11:19:46.715Z"
   },
   {
    "duration": 26,
    "start_time": "2022-06-18T11:20:25.402Z"
   },
   {
    "duration": 27,
    "start_time": "2022-06-18T11:20:34.590Z"
   },
   {
    "duration": 21,
    "start_time": "2022-06-18T11:20:50.247Z"
   },
   {
    "duration": 23,
    "start_time": "2022-06-18T11:21:12.411Z"
   },
   {
    "duration": 27,
    "start_time": "2022-06-18T11:21:24.678Z"
   },
   {
    "duration": 18,
    "start_time": "2022-06-18T11:21:33.472Z"
   },
   {
    "duration": 24,
    "start_time": "2022-06-18T11:24:09.956Z"
   },
   {
    "duration": 21,
    "start_time": "2022-06-18T11:24:14.268Z"
   },
   {
    "duration": 23,
    "start_time": "2022-06-18T11:24:25.611Z"
   },
   {
    "duration": 25,
    "start_time": "2022-06-18T11:25:02.715Z"
   },
   {
    "duration": 23,
    "start_time": "2022-06-18T11:26:03.901Z"
   },
   {
    "duration": 25,
    "start_time": "2022-06-18T11:26:17.028Z"
   },
   {
    "duration": 16,
    "start_time": "2022-06-18T11:37:55.999Z"
   },
   {
    "duration": 12,
    "start_time": "2022-06-18T11:38:48.983Z"
   },
   {
    "duration": 12,
    "start_time": "2022-06-18T11:39:28.803Z"
   },
   {
    "duration": 16,
    "start_time": "2022-06-18T11:39:34.618Z"
   },
   {
    "duration": 217,
    "start_time": "2022-06-18T11:41:33.411Z"
   },
   {
    "duration": 15,
    "start_time": "2022-06-18T11:41:58.795Z"
   },
   {
    "duration": 211,
    "start_time": "2022-06-18T11:42:11.500Z"
   },
   {
    "duration": 14,
    "start_time": "2022-06-18T11:43:25.851Z"
   },
   {
    "duration": 182,
    "start_time": "2022-06-18T11:43:43.559Z"
   },
   {
    "duration": 42,
    "start_time": "2022-06-18T11:46:46.260Z"
   },
   {
    "duration": 44,
    "start_time": "2022-06-18T11:48:21.816Z"
   },
   {
    "duration": 42,
    "start_time": "2022-06-18T11:49:39.155Z"
   },
   {
    "duration": 24,
    "start_time": "2022-06-18T11:50:13.123Z"
   },
   {
    "duration": 1114,
    "start_time": "2022-06-18T12:27:47.813Z"
   },
   {
    "duration": 76,
    "start_time": "2022-06-18T12:27:48.930Z"
   },
   {
    "duration": 33,
    "start_time": "2022-06-18T12:27:49.008Z"
   },
   {
    "duration": 7,
    "start_time": "2022-06-18T12:27:49.043Z"
   },
   {
    "duration": 11,
    "start_time": "2022-06-18T12:27:49.051Z"
   },
   {
    "duration": 35,
    "start_time": "2022-06-18T12:27:49.064Z"
   },
   {
    "duration": 21,
    "start_time": "2022-06-18T12:27:49.100Z"
   },
   {
    "duration": 10,
    "start_time": "2022-06-18T12:27:49.122Z"
   },
   {
    "duration": 7,
    "start_time": "2022-06-18T12:27:49.134Z"
   },
   {
    "duration": 18,
    "start_time": "2022-06-18T12:27:49.144Z"
   },
   {
    "duration": 47,
    "start_time": "2022-06-18T12:27:49.164Z"
   },
   {
    "duration": 4,
    "start_time": "2022-06-18T12:27:49.214Z"
   },
   {
    "duration": 218,
    "start_time": "2022-06-18T12:27:49.220Z"
   },
   {
    "duration": 139,
    "start_time": "2022-06-18T12:27:49.440Z"
   },
   {
    "duration": 397,
    "start_time": "2022-06-18T12:27:49.581Z"
   },
   {
    "duration": 205,
    "start_time": "2022-06-18T12:27:49.979Z"
   },
   {
    "duration": 169,
    "start_time": "2022-06-18T12:27:50.186Z"
   },
   {
    "duration": 180,
    "start_time": "2022-06-18T12:27:50.357Z"
   },
   {
    "duration": 90,
    "start_time": "2022-06-18T12:27:50.539Z"
   },
   {
    "duration": 5,
    "start_time": "2022-06-18T12:27:50.631Z"
   },
   {
    "duration": 16,
    "start_time": "2022-06-18T12:27:50.638Z"
   },
   {
    "duration": 208,
    "start_time": "2022-06-18T12:27:50.656Z"
   },
   {
    "duration": 220,
    "start_time": "2022-06-18T12:27:50.866Z"
   },
   {
    "duration": 12,
    "start_time": "2022-06-18T12:27:51.088Z"
   },
   {
    "duration": 113,
    "start_time": "2022-06-18T12:27:51.101Z"
   },
   {
    "duration": 1157,
    "start_time": "2022-06-18T12:32:54.611Z"
   },
   {
    "duration": 77,
    "start_time": "2022-06-18T12:32:55.770Z"
   },
   {
    "duration": 23,
    "start_time": "2022-06-18T12:32:55.848Z"
   },
   {
    "duration": 7,
    "start_time": "2022-06-18T12:32:55.873Z"
   },
   {
    "duration": 17,
    "start_time": "2022-06-18T12:32:55.894Z"
   },
   {
    "duration": 8,
    "start_time": "2022-06-18T12:32:55.913Z"
   },
   {
    "duration": 24,
    "start_time": "2022-06-18T12:32:55.922Z"
   },
   {
    "duration": 9,
    "start_time": "2022-06-18T12:32:55.948Z"
   },
   {
    "duration": 4,
    "start_time": "2022-06-18T12:32:55.959Z"
   },
   {
    "duration": 45,
    "start_time": "2022-06-18T12:32:55.965Z"
   },
   {
    "duration": 13,
    "start_time": "2022-06-18T12:32:56.012Z"
   },
   {
    "duration": 3,
    "start_time": "2022-06-18T12:32:56.027Z"
   },
   {
    "duration": 239,
    "start_time": "2022-06-18T12:32:56.032Z"
   },
   {
    "duration": 142,
    "start_time": "2022-06-18T12:32:56.274Z"
   },
   {
    "duration": 418,
    "start_time": "2022-06-18T12:32:56.418Z"
   },
   {
    "duration": 204,
    "start_time": "2022-06-18T12:32:56.839Z"
   },
   {
    "duration": 172,
    "start_time": "2022-06-18T12:32:57.045Z"
   },
   {
    "duration": 203,
    "start_time": "2022-06-18T12:32:57.218Z"
   },
   {
    "duration": 96,
    "start_time": "2022-06-18T12:32:57.423Z"
   },
   {
    "duration": 5,
    "start_time": "2022-06-18T12:32:57.521Z"
   },
   {
    "duration": 11,
    "start_time": "2022-06-18T12:32:57.528Z"
   },
   {
    "duration": 223,
    "start_time": "2022-06-18T12:32:57.541Z"
   },
   {
    "duration": 212,
    "start_time": "2022-06-18T12:32:57.766Z"
   },
   {
    "duration": 12,
    "start_time": "2022-06-18T12:32:57.979Z"
   },
   {
    "duration": 141,
    "start_time": "2022-06-18T12:32:57.993Z"
   }
  ],
  "kernelspec": {
   "display_name": "Python 3 (ipykernel)",
   "language": "python",
   "name": "python3"
  },
  "language_info": {
   "codemirror_mode": {
    "name": "ipython",
    "version": 3
   },
   "file_extension": ".py",
   "mimetype": "text/x-python",
   "name": "python",
   "nbconvert_exporter": "python",
   "pygments_lexer": "ipython3",
   "version": "3.9.12"
  },
  "toc": {
   "base_numbering": 1,
   "nav_menu": {},
   "number_sections": true,
   "sideBar": true,
   "skip_h1_title": true,
   "title_cell": "Table of Contents",
   "title_sidebar": "Contents",
   "toc_cell": false,
   "toc_position": {},
   "toc_section_display": true,
   "toc_window_display": false
  }
 },
 "nbformat": 4,
 "nbformat_minor": 2
}
