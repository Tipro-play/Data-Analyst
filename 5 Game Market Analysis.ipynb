{
 "cells": [
  {
   "cell_type": "markdown",
   "metadata": {
    "id": "zp6UOw99_msd"
   },
   "source": [
    "<b>Краткое описание. </b>\n",
    "\n",
    "Из открытых источников доступны исторические данные о продажах игр, оценки пользователей и экспертов, жанры и платформы. Вам нужно выявить определяющие успешность игры закономерности и проверить некоторые гипотезы. Это позволит сделать ставку на потенциально популярный продукт и спланировать рекламные кампании. Данные до 2016 года. Представим, что сейчас декабрь 2016 г., и вы планируете кампанию на 2017-й. Нужно отработать принцип работы с данными."
   ]
  },
  {
   "cell_type": "code",
   "execution_count": 1,
   "metadata": {},
   "outputs": [],
   "source": [
    "import pandas as pd\n",
    "import numpy as np\n",
    "import seaborn as sns\n",
    "import matplotlib.pyplot as plt\n",
    "from scipy import stats as st"
   ]
  },
  {
   "cell_type": "markdown",
   "metadata": {},
   "source": [
    "## Чтение файла"
   ]
  },
  {
   "cell_type": "code",
   "execution_count": 2,
   "metadata": {
    "id": "O2HSsOJSAGjU"
   },
   "outputs": [],
   "source": [
    "data = pd.read_csv('https://code.s3.yandex.net/datasets/games.csv')"
   ]
  },
  {
   "cell_type": "code",
   "execution_count": 3,
   "metadata": {
    "colab": {
     "base_uri": "https://localhost:8080/",
     "height": 502
    },
    "id": "IA82w6poANwG",
    "outputId": "22dfaf14-f089-4b9e-def5-0adf1e0fd410",
    "scrolled": true
   },
   "outputs": [
    {
     "data": {
      "text/html": [
       "<div>\n",
       "<style scoped>\n",
       "    .dataframe tbody tr th:only-of-type {\n",
       "        vertical-align: middle;\n",
       "    }\n",
       "\n",
       "    .dataframe tbody tr th {\n",
       "        vertical-align: top;\n",
       "    }\n",
       "\n",
       "    .dataframe thead th {\n",
       "        text-align: right;\n",
       "    }\n",
       "</style>\n",
       "<table border=\"1\" class=\"dataframe\">\n",
       "  <thead>\n",
       "    <tr style=\"text-align: right;\">\n",
       "      <th></th>\n",
       "      <th>Name</th>\n",
       "      <th>Platform</th>\n",
       "      <th>Year_of_Release</th>\n",
       "      <th>Genre</th>\n",
       "      <th>NA_sales</th>\n",
       "      <th>EU_sales</th>\n",
       "      <th>JP_sales</th>\n",
       "      <th>Other_sales</th>\n",
       "      <th>Critic_Score</th>\n",
       "      <th>User_Score</th>\n",
       "      <th>Rating</th>\n",
       "    </tr>\n",
       "  </thead>\n",
       "  <tbody>\n",
       "    <tr>\n",
       "      <th>0</th>\n",
       "      <td>Wii Sports</td>\n",
       "      <td>Wii</td>\n",
       "      <td>2006.0</td>\n",
       "      <td>Sports</td>\n",
       "      <td>41.36</td>\n",
       "      <td>28.96</td>\n",
       "      <td>3.77</td>\n",
       "      <td>8.45</td>\n",
       "      <td>76.0</td>\n",
       "      <td>8</td>\n",
       "      <td>E</td>\n",
       "    </tr>\n",
       "    <tr>\n",
       "      <th>1</th>\n",
       "      <td>Super Mario Bros.</td>\n",
       "      <td>NES</td>\n",
       "      <td>1985.0</td>\n",
       "      <td>Platform</td>\n",
       "      <td>29.08</td>\n",
       "      <td>3.58</td>\n",
       "      <td>6.81</td>\n",
       "      <td>0.77</td>\n",
       "      <td>NaN</td>\n",
       "      <td>NaN</td>\n",
       "      <td>NaN</td>\n",
       "    </tr>\n",
       "    <tr>\n",
       "      <th>2</th>\n",
       "      <td>Mario Kart Wii</td>\n",
       "      <td>Wii</td>\n",
       "      <td>2008.0</td>\n",
       "      <td>Racing</td>\n",
       "      <td>15.68</td>\n",
       "      <td>12.76</td>\n",
       "      <td>3.79</td>\n",
       "      <td>3.29</td>\n",
       "      <td>82.0</td>\n",
       "      <td>8.3</td>\n",
       "      <td>E</td>\n",
       "    </tr>\n",
       "    <tr>\n",
       "      <th>3</th>\n",
       "      <td>Wii Sports Resort</td>\n",
       "      <td>Wii</td>\n",
       "      <td>2009.0</td>\n",
       "      <td>Sports</td>\n",
       "      <td>15.61</td>\n",
       "      <td>10.93</td>\n",
       "      <td>3.28</td>\n",
       "      <td>2.95</td>\n",
       "      <td>80.0</td>\n",
       "      <td>8</td>\n",
       "      <td>E</td>\n",
       "    </tr>\n",
       "    <tr>\n",
       "      <th>4</th>\n",
       "      <td>Pokemon Red/Pokemon Blue</td>\n",
       "      <td>GB</td>\n",
       "      <td>1996.0</td>\n",
       "      <td>Role-Playing</td>\n",
       "      <td>11.27</td>\n",
       "      <td>8.89</td>\n",
       "      <td>10.22</td>\n",
       "      <td>1.00</td>\n",
       "      <td>NaN</td>\n",
       "      <td>NaN</td>\n",
       "      <td>NaN</td>\n",
       "    </tr>\n",
       "    <tr>\n",
       "      <th>...</th>\n",
       "      <td>...</td>\n",
       "      <td>...</td>\n",
       "      <td>...</td>\n",
       "      <td>...</td>\n",
       "      <td>...</td>\n",
       "      <td>...</td>\n",
       "      <td>...</td>\n",
       "      <td>...</td>\n",
       "      <td>...</td>\n",
       "      <td>...</td>\n",
       "      <td>...</td>\n",
       "    </tr>\n",
       "    <tr>\n",
       "      <th>16710</th>\n",
       "      <td>Samurai Warriors: Sanada Maru</td>\n",
       "      <td>PS3</td>\n",
       "      <td>2016.0</td>\n",
       "      <td>Action</td>\n",
       "      <td>0.00</td>\n",
       "      <td>0.00</td>\n",
       "      <td>0.01</td>\n",
       "      <td>0.00</td>\n",
       "      <td>NaN</td>\n",
       "      <td>NaN</td>\n",
       "      <td>NaN</td>\n",
       "    </tr>\n",
       "    <tr>\n",
       "      <th>16711</th>\n",
       "      <td>LMA Manager 2007</td>\n",
       "      <td>X360</td>\n",
       "      <td>2006.0</td>\n",
       "      <td>Sports</td>\n",
       "      <td>0.00</td>\n",
       "      <td>0.01</td>\n",
       "      <td>0.00</td>\n",
       "      <td>0.00</td>\n",
       "      <td>NaN</td>\n",
       "      <td>NaN</td>\n",
       "      <td>NaN</td>\n",
       "    </tr>\n",
       "    <tr>\n",
       "      <th>16712</th>\n",
       "      <td>Haitaka no Psychedelica</td>\n",
       "      <td>PSV</td>\n",
       "      <td>2016.0</td>\n",
       "      <td>Adventure</td>\n",
       "      <td>0.00</td>\n",
       "      <td>0.00</td>\n",
       "      <td>0.01</td>\n",
       "      <td>0.00</td>\n",
       "      <td>NaN</td>\n",
       "      <td>NaN</td>\n",
       "      <td>NaN</td>\n",
       "    </tr>\n",
       "    <tr>\n",
       "      <th>16713</th>\n",
       "      <td>Spirits &amp; Spells</td>\n",
       "      <td>GBA</td>\n",
       "      <td>2003.0</td>\n",
       "      <td>Platform</td>\n",
       "      <td>0.01</td>\n",
       "      <td>0.00</td>\n",
       "      <td>0.00</td>\n",
       "      <td>0.00</td>\n",
       "      <td>NaN</td>\n",
       "      <td>NaN</td>\n",
       "      <td>NaN</td>\n",
       "    </tr>\n",
       "    <tr>\n",
       "      <th>16714</th>\n",
       "      <td>Winning Post 8 2016</td>\n",
       "      <td>PSV</td>\n",
       "      <td>2016.0</td>\n",
       "      <td>Simulation</td>\n",
       "      <td>0.00</td>\n",
       "      <td>0.00</td>\n",
       "      <td>0.01</td>\n",
       "      <td>0.00</td>\n",
       "      <td>NaN</td>\n",
       "      <td>NaN</td>\n",
       "      <td>NaN</td>\n",
       "    </tr>\n",
       "  </tbody>\n",
       "</table>\n",
       "<p>16715 rows × 11 columns</p>\n",
       "</div>"
      ],
      "text/plain": [
       "                                Name Platform  Year_of_Release         Genre  \\\n",
       "0                         Wii Sports      Wii           2006.0        Sports   \n",
       "1                  Super Mario Bros.      NES           1985.0      Platform   \n",
       "2                     Mario Kart Wii      Wii           2008.0        Racing   \n",
       "3                  Wii Sports Resort      Wii           2009.0        Sports   \n",
       "4           Pokemon Red/Pokemon Blue       GB           1996.0  Role-Playing   \n",
       "...                              ...      ...              ...           ...   \n",
       "16710  Samurai Warriors: Sanada Maru      PS3           2016.0        Action   \n",
       "16711               LMA Manager 2007     X360           2006.0        Sports   \n",
       "16712        Haitaka no Psychedelica      PSV           2016.0     Adventure   \n",
       "16713               Spirits & Spells      GBA           2003.0      Platform   \n",
       "16714            Winning Post 8 2016      PSV           2016.0    Simulation   \n",
       "\n",
       "       NA_sales  EU_sales  JP_sales  Other_sales  Critic_Score User_Score  \\\n",
       "0         41.36     28.96      3.77         8.45          76.0          8   \n",
       "1         29.08      3.58      6.81         0.77           NaN        NaN   \n",
       "2         15.68     12.76      3.79         3.29          82.0        8.3   \n",
       "3         15.61     10.93      3.28         2.95          80.0          8   \n",
       "4         11.27      8.89     10.22         1.00           NaN        NaN   \n",
       "...         ...       ...       ...          ...           ...        ...   \n",
       "16710      0.00      0.00      0.01         0.00           NaN        NaN   \n",
       "16711      0.00      0.01      0.00         0.00           NaN        NaN   \n",
       "16712      0.00      0.00      0.01         0.00           NaN        NaN   \n",
       "16713      0.01      0.00      0.00         0.00           NaN        NaN   \n",
       "16714      0.00      0.00      0.01         0.00           NaN        NaN   \n",
       "\n",
       "      Rating  \n",
       "0          E  \n",
       "1        NaN  \n",
       "2          E  \n",
       "3          E  \n",
       "4        NaN  \n",
       "...      ...  \n",
       "16710    NaN  \n",
       "16711    NaN  \n",
       "16712    NaN  \n",
       "16713    NaN  \n",
       "16714    NaN  \n",
       "\n",
       "[16715 rows x 11 columns]"
      ]
     },
     "execution_count": 3,
     "metadata": {},
     "output_type": "execute_result"
    }
   ],
   "source": [
    "data"
   ]
  },
  {
   "cell_type": "markdown",
   "metadata": {},
   "source": [
    "## Подготовка данных"
   ]
  },
  {
   "cell_type": "markdown",
   "metadata": {
    "id": "6t1pO0fm_TPT"
   },
   "source": [
    "Пропуски в столбцах опишем после переименования столбцов"
   ]
  },
  {
   "cell_type": "code",
   "execution_count": 4,
   "metadata": {
    "colab": {
     "base_uri": "https://localhost:8080/"
    },
    "id": "MqPFw5VO_yAG",
    "outputId": "55de0c14-d0fa-4d47-907c-66826f13d38a"
   },
   "outputs": [
    {
     "data": {
      "text/plain": [
       "Index(['Name', 'Platform', 'Year_of_Release', 'Genre', 'NA_sales', 'EU_sales',\n",
       "       'JP_sales', 'Other_sales', 'Critic_Score', 'User_Score', 'Rating'],\n",
       "      dtype='object')"
      ]
     },
     "execution_count": 4,
     "metadata": {},
     "output_type": "execute_result"
    }
   ],
   "source": [
    "data.columns"
   ]
  },
  {
   "cell_type": "code",
   "execution_count": 5,
   "metadata": {
    "id": "1x8Qj9RY_796"
   },
   "outputs": [],
   "source": [
    "data = data.rename(columns={'Name':'name', 'Platform':'platform', 'Year_of_Release':'year_of_release', 'Genre':'genre', 'Other_sales':'other_sales', 'Critic_Score':'critic_score', 'User_Score':'user_score', 'Rating':'rating'})"
   ]
  },
  {
   "cell_type": "code",
   "execution_count": 6,
   "metadata": {
    "colab": {
     "base_uri": "https://localhost:8080/"
    },
    "id": "5iqDcMx6APUL",
    "outputId": "f6d50eaa-7d33-4b68-d6d2-38dc228ca230"
   },
   "outputs": [
    {
     "name": "stdout",
     "output_type": "stream",
     "text": [
      "<class 'pandas.core.frame.DataFrame'>\n",
      "RangeIndex: 16715 entries, 0 to 16714\n",
      "Data columns (total 11 columns):\n",
      " #   Column           Non-Null Count  Dtype  \n",
      "---  ------           --------------  -----  \n",
      " 0   name             16713 non-null  object \n",
      " 1   platform         16715 non-null  object \n",
      " 2   year_of_release  16446 non-null  float64\n",
      " 3   genre            16713 non-null  object \n",
      " 4   NA_sales         16715 non-null  float64\n",
      " 5   EU_sales         16715 non-null  float64\n",
      " 6   JP_sales         16715 non-null  float64\n",
      " 7   other_sales      16715 non-null  float64\n",
      " 8   critic_score     8137 non-null   float64\n",
      " 9   user_score       10014 non-null  object \n",
      " 10  rating           9949 non-null   object \n",
      "dtypes: float64(6), object(5)\n",
      "memory usage: 1.4+ MB\n"
     ]
    }
   ],
   "source": [
    "data.info()"
   ]
  },
  {
   "cell_type": "markdown",
   "metadata": {
    "id": "kLbsq1a3DIgy"
   },
   "source": [
    "Более детально рассмотрим пропуски в столбцах и предположим природу их происхождения"
   ]
  },
  {
   "cell_type": "code",
   "execution_count": 7,
   "metadata": {
    "colab": {
     "base_uri": "https://localhost:8080/",
     "height": 112
    },
    "id": "LoT4zWK8-Lp7",
    "outputId": "dea99779-5a2c-4f03-ea98-3d3c4d5af74e"
   },
   "outputs": [
    {
     "data": {
      "text/html": [
       "<div>\n",
       "<style scoped>\n",
       "    .dataframe tbody tr th:only-of-type {\n",
       "        vertical-align: middle;\n",
       "    }\n",
       "\n",
       "    .dataframe tbody tr th {\n",
       "        vertical-align: top;\n",
       "    }\n",
       "\n",
       "    .dataframe thead th {\n",
       "        text-align: right;\n",
       "    }\n",
       "</style>\n",
       "<table border=\"1\" class=\"dataframe\">\n",
       "  <thead>\n",
       "    <tr style=\"text-align: right;\">\n",
       "      <th></th>\n",
       "      <th>name</th>\n",
       "      <th>platform</th>\n",
       "      <th>year_of_release</th>\n",
       "      <th>genre</th>\n",
       "      <th>NA_sales</th>\n",
       "      <th>EU_sales</th>\n",
       "      <th>JP_sales</th>\n",
       "      <th>other_sales</th>\n",
       "      <th>critic_score</th>\n",
       "      <th>user_score</th>\n",
       "      <th>rating</th>\n",
       "    </tr>\n",
       "  </thead>\n",
       "  <tbody>\n",
       "    <tr>\n",
       "      <th>659</th>\n",
       "      <td>NaN</td>\n",
       "      <td>GEN</td>\n",
       "      <td>1993.0</td>\n",
       "      <td>NaN</td>\n",
       "      <td>1.78</td>\n",
       "      <td>0.53</td>\n",
       "      <td>0.00</td>\n",
       "      <td>0.08</td>\n",
       "      <td>NaN</td>\n",
       "      <td>NaN</td>\n",
       "      <td>NaN</td>\n",
       "    </tr>\n",
       "    <tr>\n",
       "      <th>14244</th>\n",
       "      <td>NaN</td>\n",
       "      <td>GEN</td>\n",
       "      <td>1993.0</td>\n",
       "      <td>NaN</td>\n",
       "      <td>0.00</td>\n",
       "      <td>0.00</td>\n",
       "      <td>0.03</td>\n",
       "      <td>0.00</td>\n",
       "      <td>NaN</td>\n",
       "      <td>NaN</td>\n",
       "      <td>NaN</td>\n",
       "    </tr>\n",
       "  </tbody>\n",
       "</table>\n",
       "</div>"
      ],
      "text/plain": [
       "      name platform  year_of_release genre  NA_sales  EU_sales  JP_sales  \\\n",
       "659    NaN      GEN           1993.0   NaN      1.78      0.53      0.00   \n",
       "14244  NaN      GEN           1993.0   NaN      0.00      0.00      0.03   \n",
       "\n",
       "       other_sales  critic_score user_score rating  \n",
       "659           0.08           NaN        NaN    NaN  \n",
       "14244         0.00           NaN        NaN    NaN  "
      ]
     },
     "execution_count": 7,
     "metadata": {},
     "output_type": "execute_result"
    }
   ],
   "source": [
    "data[data['name'].isna()]"
   ]
  },
  {
   "cell_type": "code",
   "execution_count": 8,
   "metadata": {
    "colab": {
     "base_uri": "https://localhost:8080/",
     "height": 555
    },
    "id": "ydDuYPD2_Ijd",
    "outputId": "44cae4a9-628c-402e-96cb-6a7f66f212a5"
   },
   "outputs": [
    {
     "data": {
      "text/html": [
       "<div>\n",
       "<style scoped>\n",
       "    .dataframe tbody tr th:only-of-type {\n",
       "        vertical-align: middle;\n",
       "    }\n",
       "\n",
       "    .dataframe tbody tr th {\n",
       "        vertical-align: top;\n",
       "    }\n",
       "\n",
       "    .dataframe thead th {\n",
       "        text-align: right;\n",
       "    }\n",
       "</style>\n",
       "<table border=\"1\" class=\"dataframe\">\n",
       "  <thead>\n",
       "    <tr style=\"text-align: right;\">\n",
       "      <th></th>\n",
       "      <th>name</th>\n",
       "      <th>platform</th>\n",
       "      <th>year_of_release</th>\n",
       "      <th>genre</th>\n",
       "      <th>NA_sales</th>\n",
       "      <th>EU_sales</th>\n",
       "      <th>JP_sales</th>\n",
       "      <th>other_sales</th>\n",
       "      <th>critic_score</th>\n",
       "      <th>user_score</th>\n",
       "      <th>rating</th>\n",
       "    </tr>\n",
       "  </thead>\n",
       "  <tbody>\n",
       "    <tr>\n",
       "      <th>183</th>\n",
       "      <td>Madden NFL 2004</td>\n",
       "      <td>PS2</td>\n",
       "      <td>NaN</td>\n",
       "      <td>Sports</td>\n",
       "      <td>4.26</td>\n",
       "      <td>0.26</td>\n",
       "      <td>0.01</td>\n",
       "      <td>0.71</td>\n",
       "      <td>94.0</td>\n",
       "      <td>8.5</td>\n",
       "      <td>E</td>\n",
       "    </tr>\n",
       "    <tr>\n",
       "      <th>377</th>\n",
       "      <td>FIFA Soccer 2004</td>\n",
       "      <td>PS2</td>\n",
       "      <td>NaN</td>\n",
       "      <td>Sports</td>\n",
       "      <td>0.59</td>\n",
       "      <td>2.36</td>\n",
       "      <td>0.04</td>\n",
       "      <td>0.51</td>\n",
       "      <td>84.0</td>\n",
       "      <td>6.4</td>\n",
       "      <td>E</td>\n",
       "    </tr>\n",
       "    <tr>\n",
       "      <th>456</th>\n",
       "      <td>LEGO Batman: The Videogame</td>\n",
       "      <td>Wii</td>\n",
       "      <td>NaN</td>\n",
       "      <td>Action</td>\n",
       "      <td>1.80</td>\n",
       "      <td>0.97</td>\n",
       "      <td>0.00</td>\n",
       "      <td>0.29</td>\n",
       "      <td>74.0</td>\n",
       "      <td>7.9</td>\n",
       "      <td>E10+</td>\n",
       "    </tr>\n",
       "    <tr>\n",
       "      <th>475</th>\n",
       "      <td>wwe Smackdown vs. Raw 2006</td>\n",
       "      <td>PS2</td>\n",
       "      <td>NaN</td>\n",
       "      <td>Fighting</td>\n",
       "      <td>1.57</td>\n",
       "      <td>1.02</td>\n",
       "      <td>0.00</td>\n",
       "      <td>0.41</td>\n",
       "      <td>NaN</td>\n",
       "      <td>NaN</td>\n",
       "      <td>NaN</td>\n",
       "    </tr>\n",
       "    <tr>\n",
       "      <th>609</th>\n",
       "      <td>Space Invaders</td>\n",
       "      <td>2600</td>\n",
       "      <td>NaN</td>\n",
       "      <td>Shooter</td>\n",
       "      <td>2.36</td>\n",
       "      <td>0.14</td>\n",
       "      <td>0.00</td>\n",
       "      <td>0.03</td>\n",
       "      <td>NaN</td>\n",
       "      <td>NaN</td>\n",
       "      <td>NaN</td>\n",
       "    </tr>\n",
       "    <tr>\n",
       "      <th>...</th>\n",
       "      <td>...</td>\n",
       "      <td>...</td>\n",
       "      <td>...</td>\n",
       "      <td>...</td>\n",
       "      <td>...</td>\n",
       "      <td>...</td>\n",
       "      <td>...</td>\n",
       "      <td>...</td>\n",
       "      <td>...</td>\n",
       "      <td>...</td>\n",
       "      <td>...</td>\n",
       "    </tr>\n",
       "    <tr>\n",
       "      <th>16373</th>\n",
       "      <td>PDC World Championship Darts 2008</td>\n",
       "      <td>PSP</td>\n",
       "      <td>NaN</td>\n",
       "      <td>Sports</td>\n",
       "      <td>0.01</td>\n",
       "      <td>0.00</td>\n",
       "      <td>0.00</td>\n",
       "      <td>0.00</td>\n",
       "      <td>43.0</td>\n",
       "      <td>tbd</td>\n",
       "      <td>E10+</td>\n",
       "    </tr>\n",
       "    <tr>\n",
       "      <th>16405</th>\n",
       "      <td>Freaky Flyers</td>\n",
       "      <td>GC</td>\n",
       "      <td>NaN</td>\n",
       "      <td>Racing</td>\n",
       "      <td>0.01</td>\n",
       "      <td>0.00</td>\n",
       "      <td>0.00</td>\n",
       "      <td>0.00</td>\n",
       "      <td>69.0</td>\n",
       "      <td>6.5</td>\n",
       "      <td>T</td>\n",
       "    </tr>\n",
       "    <tr>\n",
       "      <th>16448</th>\n",
       "      <td>Inversion</td>\n",
       "      <td>PC</td>\n",
       "      <td>NaN</td>\n",
       "      <td>Shooter</td>\n",
       "      <td>0.01</td>\n",
       "      <td>0.00</td>\n",
       "      <td>0.00</td>\n",
       "      <td>0.00</td>\n",
       "      <td>59.0</td>\n",
       "      <td>6.7</td>\n",
       "      <td>M</td>\n",
       "    </tr>\n",
       "    <tr>\n",
       "      <th>16458</th>\n",
       "      <td>Hakuouki: Shinsengumi Kitan</td>\n",
       "      <td>PS3</td>\n",
       "      <td>NaN</td>\n",
       "      <td>Adventure</td>\n",
       "      <td>0.01</td>\n",
       "      <td>0.00</td>\n",
       "      <td>0.00</td>\n",
       "      <td>0.00</td>\n",
       "      <td>NaN</td>\n",
       "      <td>NaN</td>\n",
       "      <td>NaN</td>\n",
       "    </tr>\n",
       "    <tr>\n",
       "      <th>16522</th>\n",
       "      <td>Virtua Quest</td>\n",
       "      <td>GC</td>\n",
       "      <td>NaN</td>\n",
       "      <td>Role-Playing</td>\n",
       "      <td>0.01</td>\n",
       "      <td>0.00</td>\n",
       "      <td>0.00</td>\n",
       "      <td>0.00</td>\n",
       "      <td>55.0</td>\n",
       "      <td>5.5</td>\n",
       "      <td>T</td>\n",
       "    </tr>\n",
       "  </tbody>\n",
       "</table>\n",
       "<p>269 rows × 11 columns</p>\n",
       "</div>"
      ],
      "text/plain": [
       "                                    name platform  year_of_release  \\\n",
       "183                      Madden NFL 2004      PS2              NaN   \n",
       "377                     FIFA Soccer 2004      PS2              NaN   \n",
       "456           LEGO Batman: The Videogame      Wii              NaN   \n",
       "475           wwe Smackdown vs. Raw 2006      PS2              NaN   \n",
       "609                       Space Invaders     2600              NaN   \n",
       "...                                  ...      ...              ...   \n",
       "16373  PDC World Championship Darts 2008      PSP              NaN   \n",
       "16405                      Freaky Flyers       GC              NaN   \n",
       "16448                          Inversion       PC              NaN   \n",
       "16458        Hakuouki: Shinsengumi Kitan      PS3              NaN   \n",
       "16522                       Virtua Quest       GC              NaN   \n",
       "\n",
       "              genre  NA_sales  EU_sales  JP_sales  other_sales  critic_score  \\\n",
       "183          Sports      4.26      0.26      0.01         0.71          94.0   \n",
       "377          Sports      0.59      2.36      0.04         0.51          84.0   \n",
       "456          Action      1.80      0.97      0.00         0.29          74.0   \n",
       "475        Fighting      1.57      1.02      0.00         0.41           NaN   \n",
       "609         Shooter      2.36      0.14      0.00         0.03           NaN   \n",
       "...             ...       ...       ...       ...          ...           ...   \n",
       "16373        Sports      0.01      0.00      0.00         0.00          43.0   \n",
       "16405        Racing      0.01      0.00      0.00         0.00          69.0   \n",
       "16448       Shooter      0.01      0.00      0.00         0.00          59.0   \n",
       "16458     Adventure      0.01      0.00      0.00         0.00           NaN   \n",
       "16522  Role-Playing      0.01      0.00      0.00         0.00          55.0   \n",
       "\n",
       "      user_score rating  \n",
       "183          8.5      E  \n",
       "377          6.4      E  \n",
       "456          7.9   E10+  \n",
       "475          NaN    NaN  \n",
       "609          NaN    NaN  \n",
       "...          ...    ...  \n",
       "16373        tbd   E10+  \n",
       "16405        6.5      T  \n",
       "16448        6.7      M  \n",
       "16458        NaN    NaN  \n",
       "16522        5.5      T  \n",
       "\n",
       "[269 rows x 11 columns]"
      ]
     },
     "execution_count": 8,
     "metadata": {},
     "output_type": "execute_result"
    }
   ],
   "source": [
    "data[data['year_of_release'].isna()]"
   ]
  },
  {
   "cell_type": "markdown",
   "metadata": {
    "id": "k1eb1FCNhkC4"
   },
   "source": [
    "Пропуски в столбцах \"name\", \"genre\" и \"year_of_release\" можно будет отбросить, т.к. их доля мала. Пропуски могли появиться из-за отсутствия информации на платформах, т.к. выгрузку делали из истории и данные могли потеряться. Относительно пропусков в столбцах оценок предположения схожие, но доля пропусков в них большая"
   ]
  },
  {
   "cell_type": "code",
   "execution_count": 9,
   "metadata": {
    "colab": {
     "base_uri": "https://localhost:8080/"
    },
    "id": "HLuBUCjnJWeS",
    "outputId": "ce2e4074-0cbc-4efd-fe5e-8ccf42041593"
   },
   "outputs": [
    {
     "data": {
      "text/plain": [
       "70.0    256\n",
       "71.0    254\n",
       "75.0    245\n",
       "78.0    240\n",
       "73.0    238\n",
       "       ... \n",
       "29.0      3\n",
       "13.0      1\n",
       "22.0      1\n",
       "17.0      1\n",
       "21.0      1\n",
       "Name: critic_score, Length: 82, dtype: int64"
      ]
     },
     "execution_count": 9,
     "metadata": {},
     "output_type": "execute_result"
    }
   ],
   "source": [
    "data['critic_score'].value_counts()"
   ]
  },
  {
   "cell_type": "code",
   "execution_count": 10,
   "metadata": {
    "colab": {
     "base_uri": "https://localhost:8080/"
    },
    "id": "R8de75mrLFZI",
    "outputId": "f0a84b1c-998f-4fd2-acce-82b66902f44c"
   },
   "outputs": [
    {
     "data": {
      "text/plain": [
       "E       3990\n",
       "T       2961\n",
       "M       1563\n",
       "E10+    1420\n",
       "EC         8\n",
       "RP         3\n",
       "K-A        3\n",
       "AO         1\n",
       "Name: rating, dtype: int64"
      ]
     },
     "execution_count": 10,
     "metadata": {},
     "output_type": "execute_result"
    }
   ],
   "source": [
    "data['rating'].value_counts()"
   ]
  },
  {
   "cell_type": "code",
   "execution_count": 11,
   "metadata": {
    "colab": {
     "base_uri": "https://localhost:8080/"
    },
    "id": "VrPSQMSDReC1",
    "outputId": "c87f9ab1-7f7e-4c90-be5e-797ee6203cf7"
   },
   "outputs": [
    {
     "data": {
      "text/plain": [
       "tbd    2424\n",
       "7.8     324\n",
       "8       290\n",
       "8.2     282\n",
       "8.3     254\n",
       "       ... \n",
       "0.3       2\n",
       "9.6       2\n",
       "1         2\n",
       "9.7       1\n",
       "0         1\n",
       "Name: user_score, Length: 96, dtype: int64"
      ]
     },
     "execution_count": 11,
     "metadata": {},
     "output_type": "execute_result"
    }
   ],
   "source": [
    "data['user_score'].value_counts()"
   ]
  },
  {
   "cell_type": "code",
   "execution_count": 12,
   "metadata": {
    "colab": {
     "base_uri": "https://localhost:8080/",
     "height": 502
    },
    "id": "brBoc1f6Yc8Y",
    "outputId": "2a753085-d7dc-448d-8783-6ac7bc1729e3",
    "scrolled": true
   },
   "outputs": [
    {
     "data": {
      "text/html": [
       "<div>\n",
       "<style scoped>\n",
       "    .dataframe tbody tr th:only-of-type {\n",
       "        vertical-align: middle;\n",
       "    }\n",
       "\n",
       "    .dataframe tbody tr th {\n",
       "        vertical-align: top;\n",
       "    }\n",
       "\n",
       "    .dataframe thead th {\n",
       "        text-align: right;\n",
       "    }\n",
       "</style>\n",
       "<table border=\"1\" class=\"dataframe\">\n",
       "  <thead>\n",
       "    <tr style=\"text-align: right;\">\n",
       "      <th></th>\n",
       "      <th>name</th>\n",
       "      <th>platform</th>\n",
       "      <th>year_of_release</th>\n",
       "      <th>genre</th>\n",
       "      <th>NA_sales</th>\n",
       "      <th>EU_sales</th>\n",
       "      <th>JP_sales</th>\n",
       "      <th>other_sales</th>\n",
       "      <th>critic_score</th>\n",
       "      <th>user_score</th>\n",
       "      <th>rating</th>\n",
       "    </tr>\n",
       "  </thead>\n",
       "  <tbody>\n",
       "    <tr>\n",
       "      <th>119</th>\n",
       "      <td>Zumba Fitness</td>\n",
       "      <td>Wii</td>\n",
       "      <td>2010.0</td>\n",
       "      <td>Sports</td>\n",
       "      <td>3.45</td>\n",
       "      <td>2.59</td>\n",
       "      <td>0.0</td>\n",
       "      <td>0.66</td>\n",
       "      <td>NaN</td>\n",
       "      <td>tbd</td>\n",
       "      <td>E</td>\n",
       "    </tr>\n",
       "    <tr>\n",
       "      <th>301</th>\n",
       "      <td>Namco Museum: 50th Anniversary</td>\n",
       "      <td>PS2</td>\n",
       "      <td>2005.0</td>\n",
       "      <td>Misc</td>\n",
       "      <td>2.08</td>\n",
       "      <td>1.35</td>\n",
       "      <td>0.0</td>\n",
       "      <td>0.54</td>\n",
       "      <td>61.0</td>\n",
       "      <td>tbd</td>\n",
       "      <td>E10+</td>\n",
       "    </tr>\n",
       "    <tr>\n",
       "      <th>520</th>\n",
       "      <td>Zumba Fitness 2</td>\n",
       "      <td>Wii</td>\n",
       "      <td>2011.0</td>\n",
       "      <td>Sports</td>\n",
       "      <td>1.51</td>\n",
       "      <td>1.03</td>\n",
       "      <td>0.0</td>\n",
       "      <td>0.27</td>\n",
       "      <td>NaN</td>\n",
       "      <td>tbd</td>\n",
       "      <td>T</td>\n",
       "    </tr>\n",
       "    <tr>\n",
       "      <th>645</th>\n",
       "      <td>uDraw Studio</td>\n",
       "      <td>Wii</td>\n",
       "      <td>2010.0</td>\n",
       "      <td>Misc</td>\n",
       "      <td>1.65</td>\n",
       "      <td>0.57</td>\n",
       "      <td>0.0</td>\n",
       "      <td>0.20</td>\n",
       "      <td>71.0</td>\n",
       "      <td>tbd</td>\n",
       "      <td>E</td>\n",
       "    </tr>\n",
       "    <tr>\n",
       "      <th>657</th>\n",
       "      <td>Frogger's Adventures: Temple of the Frog</td>\n",
       "      <td>GBA</td>\n",
       "      <td>NaN</td>\n",
       "      <td>Adventure</td>\n",
       "      <td>2.15</td>\n",
       "      <td>0.18</td>\n",
       "      <td>0.0</td>\n",
       "      <td>0.07</td>\n",
       "      <td>73.0</td>\n",
       "      <td>tbd</td>\n",
       "      <td>E</td>\n",
       "    </tr>\n",
       "    <tr>\n",
       "      <th>...</th>\n",
       "      <td>...</td>\n",
       "      <td>...</td>\n",
       "      <td>...</td>\n",
       "      <td>...</td>\n",
       "      <td>...</td>\n",
       "      <td>...</td>\n",
       "      <td>...</td>\n",
       "      <td>...</td>\n",
       "      <td>...</td>\n",
       "      <td>...</td>\n",
       "      <td>...</td>\n",
       "    </tr>\n",
       "    <tr>\n",
       "      <th>16695</th>\n",
       "      <td>Planet Monsters</td>\n",
       "      <td>GBA</td>\n",
       "      <td>2001.0</td>\n",
       "      <td>Action</td>\n",
       "      <td>0.01</td>\n",
       "      <td>0.00</td>\n",
       "      <td>0.0</td>\n",
       "      <td>0.00</td>\n",
       "      <td>67.0</td>\n",
       "      <td>tbd</td>\n",
       "      <td>E</td>\n",
       "    </tr>\n",
       "    <tr>\n",
       "      <th>16697</th>\n",
       "      <td>Bust-A-Move 3000</td>\n",
       "      <td>GC</td>\n",
       "      <td>2003.0</td>\n",
       "      <td>Puzzle</td>\n",
       "      <td>0.01</td>\n",
       "      <td>0.00</td>\n",
       "      <td>0.0</td>\n",
       "      <td>0.00</td>\n",
       "      <td>53.0</td>\n",
       "      <td>tbd</td>\n",
       "      <td>E</td>\n",
       "    </tr>\n",
       "    <tr>\n",
       "      <th>16698</th>\n",
       "      <td>Mega Brain Boost</td>\n",
       "      <td>DS</td>\n",
       "      <td>2008.0</td>\n",
       "      <td>Puzzle</td>\n",
       "      <td>0.01</td>\n",
       "      <td>0.00</td>\n",
       "      <td>0.0</td>\n",
       "      <td>0.00</td>\n",
       "      <td>48.0</td>\n",
       "      <td>tbd</td>\n",
       "      <td>E</td>\n",
       "    </tr>\n",
       "    <tr>\n",
       "      <th>16704</th>\n",
       "      <td>Plushees</td>\n",
       "      <td>DS</td>\n",
       "      <td>2008.0</td>\n",
       "      <td>Simulation</td>\n",
       "      <td>0.01</td>\n",
       "      <td>0.00</td>\n",
       "      <td>0.0</td>\n",
       "      <td>0.00</td>\n",
       "      <td>NaN</td>\n",
       "      <td>tbd</td>\n",
       "      <td>E</td>\n",
       "    </tr>\n",
       "    <tr>\n",
       "      <th>16706</th>\n",
       "      <td>Men in Black II: Alien Escape</td>\n",
       "      <td>GC</td>\n",
       "      <td>2003.0</td>\n",
       "      <td>Shooter</td>\n",
       "      <td>0.01</td>\n",
       "      <td>0.00</td>\n",
       "      <td>0.0</td>\n",
       "      <td>0.00</td>\n",
       "      <td>NaN</td>\n",
       "      <td>tbd</td>\n",
       "      <td>T</td>\n",
       "    </tr>\n",
       "  </tbody>\n",
       "</table>\n",
       "<p>2424 rows × 11 columns</p>\n",
       "</div>"
      ],
      "text/plain": [
       "                                           name platform  year_of_release  \\\n",
       "119                               Zumba Fitness      Wii           2010.0   \n",
       "301              Namco Museum: 50th Anniversary      PS2           2005.0   \n",
       "520                             Zumba Fitness 2      Wii           2011.0   \n",
       "645                                uDraw Studio      Wii           2010.0   \n",
       "657    Frogger's Adventures: Temple of the Frog      GBA              NaN   \n",
       "...                                         ...      ...              ...   \n",
       "16695                           Planet Monsters      GBA           2001.0   \n",
       "16697                          Bust-A-Move 3000       GC           2003.0   \n",
       "16698                          Mega Brain Boost       DS           2008.0   \n",
       "16704                                  Plushees       DS           2008.0   \n",
       "16706             Men in Black II: Alien Escape       GC           2003.0   \n",
       "\n",
       "            genre  NA_sales  EU_sales  JP_sales  other_sales  critic_score  \\\n",
       "119        Sports      3.45      2.59       0.0         0.66           NaN   \n",
       "301          Misc      2.08      1.35       0.0         0.54          61.0   \n",
       "520        Sports      1.51      1.03       0.0         0.27           NaN   \n",
       "645          Misc      1.65      0.57       0.0         0.20          71.0   \n",
       "657     Adventure      2.15      0.18       0.0         0.07          73.0   \n",
       "...           ...       ...       ...       ...          ...           ...   \n",
       "16695      Action      0.01      0.00       0.0         0.00          67.0   \n",
       "16697      Puzzle      0.01      0.00       0.0         0.00          53.0   \n",
       "16698      Puzzle      0.01      0.00       0.0         0.00          48.0   \n",
       "16704  Simulation      0.01      0.00       0.0         0.00           NaN   \n",
       "16706     Shooter      0.01      0.00       0.0         0.00           NaN   \n",
       "\n",
       "      user_score rating  \n",
       "119          tbd      E  \n",
       "301          tbd   E10+  \n",
       "520          tbd      T  \n",
       "645          tbd      E  \n",
       "657          tbd      E  \n",
       "...          ...    ...  \n",
       "16695        tbd      E  \n",
       "16697        tbd      E  \n",
       "16698        tbd      E  \n",
       "16704        tbd      E  \n",
       "16706        tbd      T  \n",
       "\n",
       "[2424 rows x 11 columns]"
      ]
     },
     "execution_count": 12,
     "metadata": {},
     "output_type": "execute_result"
    }
   ],
   "source": [
    "data.query('user_score==\"tbd\"')"
   ]
  },
  {
   "cell_type": "markdown",
   "metadata": {
    "id": "jnFTxkcbjVMb"
   },
   "source": [
    "Аббревиатуру 'tbd' использовали для игр, у которых еще не набралось определенное количество оценок пользователями, как непризнанная оценка, которую скоро определят. Предполагаю, что для нашего исследования их можно оставить нетронутыми. Потому что процент полезных записей для предсказания высокий."
   ]
  },
  {
   "cell_type": "markdown",
   "metadata": {},
   "source": [
    "Заменим tdb на Nan"
   ]
  },
  {
   "cell_type": "code",
   "execution_count": 13,
   "metadata": {
    "id": "jriD6KHYrAuX"
   },
   "outputs": [],
   "source": [
    "data = data.replace(to_replace='tbd', value=np.nan)"
   ]
  },
  {
   "cell_type": "code",
   "execution_count": 14,
   "metadata": {
    "id": "nZ5rIdJ1t2yO"
   },
   "outputs": [],
   "source": [
    "data['user_score'] = data['user_score'].astype('float')"
   ]
  },
  {
   "cell_type": "code",
   "execution_count": 16,
   "metadata": {
    "id": "h89PcRXWbWRj"
   },
   "outputs": [],
   "source": [
    "data = data.dropna(subset=['year_of_release', 'name']) "
   ]
  },
  {
   "cell_type": "code",
   "execution_count": 18,
   "metadata": {},
   "outputs": [],
   "source": [
    "data['rating']=data['rating'].fillna('no rating')"
   ]
  },
  {
   "cell_type": "code",
   "execution_count": 19,
   "metadata": {
    "id": "QwMQUH6qOhf8"
   },
   "outputs": [],
   "source": [
    "# Преобразование даты в удобный формат\n",
    "data['year_of_release'] = pd.to_datetime(data['year_of_release'],format='%Y').dt.year"
   ]
  },
  {
   "cell_type": "code",
   "execution_count": 20,
   "metadata": {
    "colab": {
     "base_uri": "https://localhost:8080/"
    },
    "id": "DTTqV-2GfZ1j",
    "outputId": "41ba9e46-1a68-466a-b18c-a6836535c0c3"
   },
   "outputs": [
    {
     "name": "stdout",
     "output_type": "stream",
     "text": [
      "<class 'pandas.core.frame.DataFrame'>\n",
      "Int64Index: 16444 entries, 0 to 16714\n",
      "Data columns (total 11 columns):\n",
      " #   Column           Non-Null Count  Dtype  \n",
      "---  ------           --------------  -----  \n",
      " 0   name             16444 non-null  object \n",
      " 1   platform         16444 non-null  object \n",
      " 2   year_of_release  16444 non-null  int64  \n",
      " 3   genre            16444 non-null  object \n",
      " 4   NA_sales         16444 non-null  float64\n",
      " 5   EU_sales         16444 non-null  float64\n",
      " 6   JP_sales         16444 non-null  float64\n",
      " 7   other_sales      16444 non-null  float64\n",
      " 8   critic_score     7983 non-null   float64\n",
      " 9   user_score       7463 non-null   float64\n",
      " 10  rating           16444 non-null  object \n",
      "dtypes: float64(6), int64(1), object(4)\n",
      "memory usage: 1.5+ MB\n"
     ]
    }
   ],
   "source": [
    "data.info()"
   ]
  },
  {
   "cell_type": "code",
   "execution_count": 21,
   "metadata": {
    "id": "Uu1OPPuuf13-"
   },
   "outputs": [],
   "source": [
    "# Добавление столбца с суммой продаж всех регионов\n",
    "data['sum_sales'] = data['NA_sales'] + data['EU_sales'] + data['JP_sales'] + data['other_sales']"
   ]
  },
  {
   "cell_type": "code",
   "execution_count": 22,
   "metadata": {
    "colab": {
     "base_uri": "https://localhost:8080/",
     "height": 555
    },
    "id": "WI9PF0s-MzcI",
    "outputId": "d012e6dc-e72f-4205-8e0d-22670e451102"
   },
   "outputs": [
    {
     "data": {
      "text/html": [
       "<div>\n",
       "<style scoped>\n",
       "    .dataframe tbody tr th:only-of-type {\n",
       "        vertical-align: middle;\n",
       "    }\n",
       "\n",
       "    .dataframe tbody tr th {\n",
       "        vertical-align: top;\n",
       "    }\n",
       "\n",
       "    .dataframe thead th {\n",
       "        text-align: right;\n",
       "    }\n",
       "</style>\n",
       "<table border=\"1\" class=\"dataframe\">\n",
       "  <thead>\n",
       "    <tr style=\"text-align: right;\">\n",
       "      <th></th>\n",
       "      <th>name</th>\n",
       "      <th>platform</th>\n",
       "      <th>year_of_release</th>\n",
       "      <th>genre</th>\n",
       "      <th>NA_sales</th>\n",
       "      <th>EU_sales</th>\n",
       "      <th>JP_sales</th>\n",
       "      <th>other_sales</th>\n",
       "      <th>critic_score</th>\n",
       "      <th>user_score</th>\n",
       "      <th>rating</th>\n",
       "      <th>sum_sales</th>\n",
       "    </tr>\n",
       "  </thead>\n",
       "  <tbody>\n",
       "    <tr>\n",
       "      <th>0</th>\n",
       "      <td>Wii Sports</td>\n",
       "      <td>Wii</td>\n",
       "      <td>2006</td>\n",
       "      <td>Sports</td>\n",
       "      <td>41.36</td>\n",
       "      <td>28.96</td>\n",
       "      <td>3.77</td>\n",
       "      <td>8.45</td>\n",
       "      <td>76.0</td>\n",
       "      <td>8.0</td>\n",
       "      <td>E</td>\n",
       "      <td>82.54</td>\n",
       "    </tr>\n",
       "    <tr>\n",
       "      <th>1</th>\n",
       "      <td>Super Mario Bros.</td>\n",
       "      <td>NES</td>\n",
       "      <td>1985</td>\n",
       "      <td>Platform</td>\n",
       "      <td>29.08</td>\n",
       "      <td>3.58</td>\n",
       "      <td>6.81</td>\n",
       "      <td>0.77</td>\n",
       "      <td>NaN</td>\n",
       "      <td>NaN</td>\n",
       "      <td>no rating</td>\n",
       "      <td>40.24</td>\n",
       "    </tr>\n",
       "    <tr>\n",
       "      <th>2</th>\n",
       "      <td>Mario Kart Wii</td>\n",
       "      <td>Wii</td>\n",
       "      <td>2008</td>\n",
       "      <td>Racing</td>\n",
       "      <td>15.68</td>\n",
       "      <td>12.76</td>\n",
       "      <td>3.79</td>\n",
       "      <td>3.29</td>\n",
       "      <td>82.0</td>\n",
       "      <td>8.3</td>\n",
       "      <td>E</td>\n",
       "      <td>35.52</td>\n",
       "    </tr>\n",
       "    <tr>\n",
       "      <th>3</th>\n",
       "      <td>Wii Sports Resort</td>\n",
       "      <td>Wii</td>\n",
       "      <td>2009</td>\n",
       "      <td>Sports</td>\n",
       "      <td>15.61</td>\n",
       "      <td>10.93</td>\n",
       "      <td>3.28</td>\n",
       "      <td>2.95</td>\n",
       "      <td>80.0</td>\n",
       "      <td>8.0</td>\n",
       "      <td>E</td>\n",
       "      <td>32.77</td>\n",
       "    </tr>\n",
       "    <tr>\n",
       "      <th>4</th>\n",
       "      <td>Pokemon Red/Pokemon Blue</td>\n",
       "      <td>GB</td>\n",
       "      <td>1996</td>\n",
       "      <td>Role-Playing</td>\n",
       "      <td>11.27</td>\n",
       "      <td>8.89</td>\n",
       "      <td>10.22</td>\n",
       "      <td>1.00</td>\n",
       "      <td>NaN</td>\n",
       "      <td>NaN</td>\n",
       "      <td>no rating</td>\n",
       "      <td>31.38</td>\n",
       "    </tr>\n",
       "    <tr>\n",
       "      <th>...</th>\n",
       "      <td>...</td>\n",
       "      <td>...</td>\n",
       "      <td>...</td>\n",
       "      <td>...</td>\n",
       "      <td>...</td>\n",
       "      <td>...</td>\n",
       "      <td>...</td>\n",
       "      <td>...</td>\n",
       "      <td>...</td>\n",
       "      <td>...</td>\n",
       "      <td>...</td>\n",
       "      <td>...</td>\n",
       "    </tr>\n",
       "    <tr>\n",
       "      <th>16710</th>\n",
       "      <td>Samurai Warriors: Sanada Maru</td>\n",
       "      <td>PS3</td>\n",
       "      <td>2016</td>\n",
       "      <td>Action</td>\n",
       "      <td>0.00</td>\n",
       "      <td>0.00</td>\n",
       "      <td>0.01</td>\n",
       "      <td>0.00</td>\n",
       "      <td>NaN</td>\n",
       "      <td>NaN</td>\n",
       "      <td>no rating</td>\n",
       "      <td>0.01</td>\n",
       "    </tr>\n",
       "    <tr>\n",
       "      <th>16711</th>\n",
       "      <td>LMA Manager 2007</td>\n",
       "      <td>X360</td>\n",
       "      <td>2006</td>\n",
       "      <td>Sports</td>\n",
       "      <td>0.00</td>\n",
       "      <td>0.01</td>\n",
       "      <td>0.00</td>\n",
       "      <td>0.00</td>\n",
       "      <td>NaN</td>\n",
       "      <td>NaN</td>\n",
       "      <td>no rating</td>\n",
       "      <td>0.01</td>\n",
       "    </tr>\n",
       "    <tr>\n",
       "      <th>16712</th>\n",
       "      <td>Haitaka no Psychedelica</td>\n",
       "      <td>PSV</td>\n",
       "      <td>2016</td>\n",
       "      <td>Adventure</td>\n",
       "      <td>0.00</td>\n",
       "      <td>0.00</td>\n",
       "      <td>0.01</td>\n",
       "      <td>0.00</td>\n",
       "      <td>NaN</td>\n",
       "      <td>NaN</td>\n",
       "      <td>no rating</td>\n",
       "      <td>0.01</td>\n",
       "    </tr>\n",
       "    <tr>\n",
       "      <th>16713</th>\n",
       "      <td>Spirits &amp; Spells</td>\n",
       "      <td>GBA</td>\n",
       "      <td>2003</td>\n",
       "      <td>Platform</td>\n",
       "      <td>0.01</td>\n",
       "      <td>0.00</td>\n",
       "      <td>0.00</td>\n",
       "      <td>0.00</td>\n",
       "      <td>NaN</td>\n",
       "      <td>NaN</td>\n",
       "      <td>no rating</td>\n",
       "      <td>0.01</td>\n",
       "    </tr>\n",
       "    <tr>\n",
       "      <th>16714</th>\n",
       "      <td>Winning Post 8 2016</td>\n",
       "      <td>PSV</td>\n",
       "      <td>2016</td>\n",
       "      <td>Simulation</td>\n",
       "      <td>0.00</td>\n",
       "      <td>0.00</td>\n",
       "      <td>0.01</td>\n",
       "      <td>0.00</td>\n",
       "      <td>NaN</td>\n",
       "      <td>NaN</td>\n",
       "      <td>no rating</td>\n",
       "      <td>0.01</td>\n",
       "    </tr>\n",
       "  </tbody>\n",
       "</table>\n",
       "<p>16444 rows × 12 columns</p>\n",
       "</div>"
      ],
      "text/plain": [
       "                                name platform  year_of_release         genre  \\\n",
       "0                         Wii Sports      Wii             2006        Sports   \n",
       "1                  Super Mario Bros.      NES             1985      Platform   \n",
       "2                     Mario Kart Wii      Wii             2008        Racing   \n",
       "3                  Wii Sports Resort      Wii             2009        Sports   \n",
       "4           Pokemon Red/Pokemon Blue       GB             1996  Role-Playing   \n",
       "...                              ...      ...              ...           ...   \n",
       "16710  Samurai Warriors: Sanada Maru      PS3             2016        Action   \n",
       "16711               LMA Manager 2007     X360             2006        Sports   \n",
       "16712        Haitaka no Psychedelica      PSV             2016     Adventure   \n",
       "16713               Spirits & Spells      GBA             2003      Platform   \n",
       "16714            Winning Post 8 2016      PSV             2016    Simulation   \n",
       "\n",
       "       NA_sales  EU_sales  JP_sales  other_sales  critic_score  user_score  \\\n",
       "0         41.36     28.96      3.77         8.45          76.0         8.0   \n",
       "1         29.08      3.58      6.81         0.77           NaN         NaN   \n",
       "2         15.68     12.76      3.79         3.29          82.0         8.3   \n",
       "3         15.61     10.93      3.28         2.95          80.0         8.0   \n",
       "4         11.27      8.89     10.22         1.00           NaN         NaN   \n",
       "...         ...       ...       ...          ...           ...         ...   \n",
       "16710      0.00      0.00      0.01         0.00           NaN         NaN   \n",
       "16711      0.00      0.01      0.00         0.00           NaN         NaN   \n",
       "16712      0.00      0.00      0.01         0.00           NaN         NaN   \n",
       "16713      0.01      0.00      0.00         0.00           NaN         NaN   \n",
       "16714      0.00      0.00      0.01         0.00           NaN         NaN   \n",
       "\n",
       "          rating  sum_sales  \n",
       "0              E      82.54  \n",
       "1      no rating      40.24  \n",
       "2              E      35.52  \n",
       "3              E      32.77  \n",
       "4      no rating      31.38  \n",
       "...          ...        ...  \n",
       "16710  no rating       0.01  \n",
       "16711  no rating       0.01  \n",
       "16712  no rating       0.01  \n",
       "16713  no rating       0.01  \n",
       "16714  no rating       0.01  \n",
       "\n",
       "[16444 rows x 12 columns]"
      ]
     },
     "execution_count": 22,
     "metadata": {},
     "output_type": "execute_result"
    }
   ],
   "source": [
    "data"
   ]
  },
  {
   "cell_type": "markdown",
   "metadata": {
    "id": "tMNOhKngSvxW"
   },
   "source": [
    "### Вывод\n",
    "Данные были приведены к общему нормальному виду: удалены пропуски, столбцы приведены к общему регистру и синтаксису, в некоторых столбцах заменил тип данных. Создан столбец с суммарными продажами во всех регионах. Значение \"tbd\" было заменено на пропуск. Решение удалять пропущенные значения будет отложено до момента проверки гипотез, тк до этого момента они нам не помешают, а даже наоборот помогут для предсказаний и анализа тенденций ближайших лет."
   ]
  },
  {
   "cell_type": "markdown",
   "metadata": {
    "id": "AhKagMuuID5c"
   },
   "source": [
    "## Исследовательский анализ"
   ]
  },
  {
   "cell_type": "code",
   "execution_count": 23,
   "metadata": {
    "colab": {
     "base_uri": "https://localhost:8080/",
     "height": 298
    },
    "id": "W3q0Q_OANpB2",
    "outputId": "d57b59a6-9c5b-4fc3-ec16-a06720d099cb"
   },
   "outputs": [
    {
     "data": {
      "text/plain": [
       "<AxesSubplot:xlabel='year_of_release'>"
      ]
     },
     "execution_count": 23,
     "metadata": {},
     "output_type": "execute_result"
    },
    {
     "data": {
      "image/png": "[encoded data removed]",
      "text/plain": [
       "<Figure size 432x288 with 1 Axes>"
      ]
     },
     "metadata": {
      "needs_background": "light"
     },
     "output_type": "display_data"
    }
   ],
   "source": [
    "data.pivot_table(index='year_of_release', values='sum_sales', aggfunc='count').plot()"
   ]
  },
  {
   "cell_type": "markdown",
   "metadata": {
    "id": "LRRuZWlFH4c6"
   },
   "source": [
    "Нам могут быть важны данные с 2000 года, т.к. до этого количество игр было мало и они только набирали свою популярность"
   ]
  },
  {
   "cell_type": "code",
   "execution_count": 24,
   "metadata": {
    "colab": {
     "base_uri": "https://localhost:8080/",
     "height": 394
    },
    "id": "jvJEkgrhQO0P",
    "outputId": "1d31f5fc-f048-44d5-81cb-ad6b94dfb51a",
    "scrolled": true
   },
   "outputs": [
    {
     "data": {
      "text/html": [
       "<div>\n",
       "<style scoped>\n",
       "    .dataframe tbody tr th:only-of-type {\n",
       "        vertical-align: middle;\n",
       "    }\n",
       "\n",
       "    .dataframe tbody tr th {\n",
       "        vertical-align: top;\n",
       "    }\n",
       "\n",
       "    .dataframe thead th {\n",
       "        text-align: right;\n",
       "    }\n",
       "</style>\n",
       "<table border=\"1\" class=\"dataframe\">\n",
       "  <thead>\n",
       "    <tr style=\"text-align: right;\">\n",
       "      <th></th>\n",
       "      <th></th>\n",
       "      <th>sum_sales</th>\n",
       "    </tr>\n",
       "    <tr>\n",
       "      <th>platform</th>\n",
       "      <th>year_of_release</th>\n",
       "      <th></th>\n",
       "    </tr>\n",
       "  </thead>\n",
       "  <tbody>\n",
       "    <tr>\n",
       "      <th>PS2</th>\n",
       "      <th>2004</th>\n",
       "      <td>211.81</td>\n",
       "    </tr>\n",
       "    <tr>\n",
       "      <th>Wii</th>\n",
       "      <th>2009</th>\n",
       "      <td>206.97</td>\n",
       "    </tr>\n",
       "    <tr>\n",
       "      <th rowspan=\"2\" valign=\"top\">PS2</th>\n",
       "      <th>2002</th>\n",
       "      <td>205.38</td>\n",
       "    </tr>\n",
       "    <tr>\n",
       "      <th>2003</th>\n",
       "      <td>184.31</td>\n",
       "    </tr>\n",
       "    <tr>\n",
       "      <th>Wii</th>\n",
       "      <th>2008</th>\n",
       "      <td>171.32</td>\n",
       "    </tr>\n",
       "    <tr>\n",
       "      <th>X360</th>\n",
       "      <th>2010</th>\n",
       "      <td>170.03</td>\n",
       "    </tr>\n",
       "    <tr>\n",
       "      <th>PS</th>\n",
       "      <th>1998</th>\n",
       "      <td>169.49</td>\n",
       "    </tr>\n",
       "    <tr>\n",
       "      <th rowspan=\"2\" valign=\"top\">PS2</th>\n",
       "      <th>2001</th>\n",
       "      <td>166.43</td>\n",
       "    </tr>\n",
       "    <tr>\n",
       "      <th>2005</th>\n",
       "      <td>160.66</td>\n",
       "    </tr>\n",
       "    <tr>\n",
       "      <th>PS3</th>\n",
       "      <th>2011</th>\n",
       "      <td>156.78</td>\n",
       "    </tr>\n",
       "  </tbody>\n",
       "</table>\n",
       "</div>"
      ],
      "text/plain": [
       "                          sum_sales\n",
       "platform year_of_release           \n",
       "PS2      2004                211.81\n",
       "Wii      2009                206.97\n",
       "PS2      2002                205.38\n",
       "         2003                184.31\n",
       "Wii      2008                171.32\n",
       "X360     2010                170.03\n",
       "PS       1998                169.49\n",
       "PS2      2001                166.43\n",
       "         2005                160.66\n",
       "PS3      2011                156.78"
      ]
     },
     "execution_count": 24,
     "metadata": {},
     "output_type": "execute_result"
    }
   ],
   "source": [
    "data.pivot_table(index=['platform','year_of_release'],values='sum_sales',aggfunc='sum').sort_values('sum_sales',ascending=False).head(10)"
   ]
  },
  {
   "cell_type": "code",
   "execution_count": 25,
   "metadata": {
    "colab": {
     "base_uri": "https://localhost:8080/",
     "height": 625
    },
    "id": "W8G67JvGMHD5",
    "outputId": "4dcbe360-dc38-483d-dc64-a890295df8c7"
   },
   "outputs": [
    {
     "data": {
      "text/plain": [
       "<AxesSubplot:xlabel='year_of_release'>"
      ]
     },
     "execution_count": 25,
     "metadata": {},
     "output_type": "execute_result"
    },
    {
     "data": {
      "image/png": "[encoded data removed]",
      "text/plain": [
       "<Figure size 720x720 with 1 Axes>"
      ]
     },
     "metadata": {
      "needs_background": "light"
     },
     "output_type": "display_data"
    }
   ],
   "source": [
    "data.query('year_of_release>2000').pivot_table(index='year_of_release', columns='platform',values='sum_sales',aggfunc='sum').plot(figsize=(10,10))"
   ]
  },
  {
   "cell_type": "code",
   "execution_count": 26,
   "metadata": {
    "colab": {
     "base_uri": "https://localhost:8080/",
     "height": 298
    },
    "id": "uMKvuRiXK1O0",
    "outputId": "b266b3f5-ffd1-4d61-8313-dd7deff8efb4"
   },
   "outputs": [
    {
     "data": {
      "text/plain": [
       "<AxesSubplot:xlabel='year_of_release'>"
      ]
     },
     "execution_count": 26,
     "metadata": {},
     "output_type": "execute_result"
    },
    {
     "data": {
      "image/png": "[encoded data removed]",
      "text/plain": [
       "<Figure size 432x288 with 1 Axes>"
      ]
     },
     "metadata": {
      "needs_background": "light"
     },
     "output_type": "display_data"
    }
   ],
   "source": [
    "data.query('platform in [\"PS2\",\"Wii\",\"X360\",\"PS\",\"PS3\"]').pivot_table(index='year_of_release', columns='platform',values='sum_sales',aggfunc='sum').plot()"
   ]
  },
  {
   "cell_type": "markdown",
   "metadata": {
    "id": "Ok121-NXLyh3"
   },
   "source": [
    "После 2000 года, количество платформ возрастало чуть ли не каждый год, а средний срок жизни платформ около 8-9 лет.\n",
    "Думаю, что актуальный период для предсказнания будет 2-3 года перед годом предсказания, поэтому рассматривать дальше будем данные от 2014 года"
   ]
  },
  {
   "cell_type": "code",
   "execution_count": 27,
   "metadata": {
    "id": "hF2LzUS0JYPP"
   },
   "outputs": [],
   "source": [
    "data = data.query('year_of_release>=2014')"
   ]
  },
  {
   "cell_type": "code",
   "execution_count": 28,
   "metadata": {
    "colab": {
     "base_uri": "https://localhost:8080/",
     "height": 625
    },
    "id": "zpsXzkRPQtrx",
    "outputId": "18e5d85b-ec7d-47a8-9c8f-2cef663dba50"
   },
   "outputs": [
    {
     "data": {
      "text/plain": [
       "<AxesSubplot:xlabel='year_of_release'>"
      ]
     },
     "execution_count": 28,
     "metadata": {},
     "output_type": "execute_result"
    },
    {
     "data": {
      "image/png": "[encoded data removed]",
      "text/plain": [
       "<Figure size 720x720 with 1 Axes>"
      ]
     },
     "metadata": {
      "needs_background": "light"
     },
     "output_type": "display_data"
    }
   ],
   "source": [
    "data.pivot_table(index='year_of_release',columns='platform',values='sum_sales',aggfunc='sum').plot(figsize=(10,10))"
   ]
  },
  {
   "cell_type": "markdown",
   "metadata": {
    "id": "5Wlh1X2LkloM"
   },
   "source": [
    "Для всех платформ 2016 год был неудачным, все продажи снизились и лишь у некоторых он остался на своем уровне, но эти платформы не входят в 5 лучших.\n",
    "Пятерка самых прибыльных платформ PS4 XOne 3DS PC WiiU"
   ]
  },
  {
   "cell_type": "code",
   "execution_count": 29,
   "metadata": {
    "colab": {
     "base_uri": "https://localhost:8080/",
     "height": 297
    },
    "id": "oiSmovBjjqhX",
    "outputId": "0d424dfe-f9b4-4ad7-fb7b-29faf0380731",
    "scrolled": false
   },
   "outputs": [
    {
     "data": {
      "text/plain": [
       "<AxesSubplot:xlabel='platform', ylabel='sum_sales'>"
      ]
     },
     "execution_count": 29,
     "metadata": {},
     "output_type": "execute_result"
    },
    {
     "data": {
      "image/png": "[encoded data removed]",
      "text/plain": [
       "<Figure size 432x288 with 1 Axes>"
      ]
     },
     "metadata": {
      "needs_background": "light"
     },
     "output_type": "display_data"
    }
   ],
   "source": [
    "sns.boxplot(data=data, y='sum_sales', x='platform')"
   ]
  },
  {
   "cell_type": "code",
   "execution_count": 30,
   "metadata": {},
   "outputs": [
    {
     "data": {
      "text/plain": [
       "(0.0, 3.0)"
      ]
     },
     "execution_count": 30,
     "metadata": {},
     "output_type": "execute_result"
    },
    {
     "data": {
      "image/png": "[encoded data removed]",
      "text/plain": [
       "<Figure size 432x288 with 1 Axes>"
      ]
     },
     "metadata": {
      "needs_background": "light"
     },
     "output_type": "display_data"
    }
   ],
   "source": [
    "ax=sns.boxplot(data=data, y='sum_sales', x='platform')\n",
    "ax.set_ylim([0,3])"
   ]
  },
  {
   "cell_type": "markdown",
   "metadata": {
    "id": "urLQUMrs31ww"
   },
   "source": [
    "Как видно из нашей пятерки самые большие продажи приходятся на 3 гигантов это PS4 XOne и WiiU. У остальных продажи не столь большие, 3DS и PC показывают результат ниже платформ PS3 и X360."
   ]
  },
  {
   "cell_type": "code",
   "execution_count": 31,
   "metadata": {
    "id": "Px_xboM6oZke"
   },
   "outputs": [],
   "source": [
    "data_ps4 = data.query('platform == \"PS4\"')"
   ]
  },
  {
   "cell_type": "code",
   "execution_count": 32,
   "metadata": {
    "colab": {
     "base_uri": "https://localhost:8080/",
     "height": 297
    },
    "id": "Zz1X5LljqFW-",
    "outputId": "b20e7fac-bcf9-40a5-dd6b-6e7ac3475753"
   },
   "outputs": [
    {
     "data": {
      "text/plain": [
       "<AxesSubplot:xlabel='user_score', ylabel='sum_sales'>"
      ]
     },
     "execution_count": 32,
     "metadata": {},
     "output_type": "execute_result"
    },
    {
     "data": {
      "image/png": "[encoded data removed]",
      "text/plain": [
       "<Figure size 432x288 with 1 Axes>"
      ]
     },
     "metadata": {
      "needs_background": "light"
     },
     "output_type": "display_data"
    }
   ],
   "source": [
    "data_ps4.plot('user_score','sum_sales', kind='scatter', alpha=0.3)"
   ]
  },
  {
   "cell_type": "markdown",
   "metadata": {
    "id": "VeFrV6Y8rq7b"
   },
   "source": [
    "Как видно оценка пользователей может играть какую-то роль, но отсутсвует явная связь, вероятнее всего взаимозависимая с другими показателем"
   ]
  },
  {
   "cell_type": "code",
   "execution_count": 33,
   "metadata": {
    "colab": {
     "base_uri": "https://localhost:8080/",
     "height": 298
    },
    "id": "OiVIVIDlq7LX",
    "outputId": "cf1e4912-3106-468e-9d5b-45ebb7c14bf1"
   },
   "outputs": [
    {
     "data": {
      "text/plain": [
       "<AxesSubplot:xlabel='critic_score', ylabel='sum_sales'>"
      ]
     },
     "execution_count": 33,
     "metadata": {},
     "output_type": "execute_result"
    },
    {
     "data": {
      "image/png": "[encoded data removed]",
      "text/plain": [
       "<Figure size 432x288 with 1 Axes>"
      ]
     },
     "metadata": {
      "needs_background": "light"
     },
     "output_type": "display_data"
    }
   ],
   "source": [
    "data_ps4.plot('critic_score','sum_sales', kind='scatter', alpha=0.3)"
   ]
  },
  {
   "cell_type": "markdown",
   "metadata": {
    "id": "HMZ8BnhIr0xo"
   },
   "source": [
    "Чем выше оценка критиков, тем больше будет продаж игры"
   ]
  },
  {
   "cell_type": "code",
   "execution_count": 34,
   "metadata": {
    "colab": {
     "base_uri": "https://localhost:8080/"
    },
    "id": "sZUw_na5vMf1",
    "outputId": "fcc0ec75-8248-473d-8e98-9735e667c0f3"
   },
   "outputs": [
    {
     "name": "stdout",
     "output_type": "stream",
     "text": [
      "-0.040131589472697356\n",
      "0.40266141068104083\n"
     ]
    }
   ],
   "source": [
    "print(data_ps4['user_score'].corr(data['sum_sales']))\n",
    "print(data_ps4['critic_score'].corr(data['sum_sales']))"
   ]
  },
  {
   "cell_type": "markdown",
   "metadata": {
    "id": "gbs40eAnYWsa"
   },
   "source": [
    "Корреляция показывет отсутствие взаимосвязи пользовательских оценок на суммарные продажи. Корреляция доказывет среднее влияние оценок критиков на суммарные продажи."
   ]
  },
  {
   "cell_type": "code",
   "execution_count": 35,
   "metadata": {
    "colab": {
     "base_uri": "https://localhost:8080/",
     "height": 1000
    },
    "id": "td8fUfnjrjbH",
    "outputId": "e9f8852f-c8ba-42f5-c6c6-beb328083da7"
   },
   "outputs": [
    {
     "data": {
      "image/png": "[encoded data removed]",
      "text/plain": [
       "<Figure size 432x288 with 1 Axes>"
      ]
     },
     "metadata": {
      "needs_background": "light"
     },
     "output_type": "display_data"
    },
    {
     "data": {
      "image/png": "[encoded data removed]",
      "text/plain": [
       "<Figure size 432x288 with 1 Axes>"
      ]
     },
     "metadata": {
      "needs_background": "light"
     },
     "output_type": "display_data"
    },
    {
     "data": {
      "image/png": "[encoded data removed]",
      "text/plain": [
       "<Figure size 432x288 with 1 Axes>"
      ]
     },
     "metadata": {
      "needs_background": "light"
     },
     "output_type": "display_data"
    },
    {
     "data": {
      "image/png": "[encoded data removed]",
      "text/plain": [
       "<Figure size 432x288 with 1 Axes>"
      ]
     },
     "metadata": {
      "needs_background": "light"
     },
     "output_type": "display_data"
    },
    {
     "data": {
      "image/png": "[encoded data removed]",
      "text/plain": [
       "<Figure size 432x288 with 1 Axes>"
      ]
     },
     "metadata": {
      "needs_background": "light"
     },
     "output_type": "display_data"
    },
    {
     "data": {
      "image/png": "[encoded data removed]",
      "text/plain": [
       "<Figure size 432x288 with 1 Axes>"
      ]
     },
     "metadata": {
      "needs_background": "light"
     },
     "output_type": "display_data"
    },
    {
     "data": {
      "image/png": "[encoded data removed]",
      "text/plain": [
       "<Figure size 432x288 with 1 Axes>"
      ]
     },
     "metadata": {
      "needs_background": "light"
     },
     "output_type": "display_data"
    },
    {
     "data": {
      "image/png": "[encoded data removed]",
      "text/plain": [
       "<Figure size 432x288 with 1 Axes>"
      ]
     },
     "metadata": {
      "needs_background": "light"
     },
     "output_type": "display_data"
    },
    {
     "data": {
      "image/png": "[encoded data removed]",
      "text/plain": [
       "<Figure size 432x288 with 1 Axes>"
      ]
     },
     "metadata": {
      "needs_background": "light"
     },
     "output_type": "display_data"
    },
    {
     "data": {
      "image/png": "[encoded data removed]",
      "text/plain": [
       "<Figure size 432x288 with 1 Axes>"
      ]
     },
     "metadata": {
      "needs_background": "light"
     },
     "output_type": "display_data"
    }
   ],
   "source": [
    "for i in data['platform'].unique():\n",
    "  plt.scatter(data[data['platform']==i]['user_score'],data[data['platform']==i]['sum_sales'], alpha=0.4)\n",
    "  plt.title(i)\n",
    "  plt.show()"
   ]
  },
  {
   "cell_type": "markdown",
   "metadata": {
    "id": "U40j6I59Y429"
   },
   "source": [
    "На графиках видно, что тенденции схожие с PS4 имеются у некоторых платформ: PC, 3DS, WiiU, XOne. Для них так же характерны некоторые увеличения продаж при высоких пользовательских оценках, но в основном пользовательские оценки не влияют."
   ]
  },
  {
   "cell_type": "code",
   "execution_count": 36,
   "metadata": {
    "colab": {
     "base_uri": "https://localhost:8080/",
     "height": 1000
    },
    "id": "BrbLDlFEsDiE",
    "outputId": "dfdef5be-c6bb-4cc7-c04a-a6f6fc115c35"
   },
   "outputs": [
    {
     "data": {
      "image/png": "[encoded data removed]",
      "text/plain": [
       "<Figure size 432x288 with 1 Axes>"
      ]
     },
     "metadata": {
      "needs_background": "light"
     },
     "output_type": "display_data"
    },
    {
     "data": {
      "image/png": "[encoded data removed]",
      "text/plain": [
       "<Figure size 432x288 with 1 Axes>"
      ]
     },
     "metadata": {
      "needs_background": "light"
     },
     "output_type": "display_data"
    },
    {
     "data": {
      "image/png": "[encoded data removed]",
      "text/plain": [
       "<Figure size 432x288 with 1 Axes>"
      ]
     },
     "metadata": {
      "needs_background": "light"
     },
     "output_type": "display_data"
    },
    {
     "data": {
      "image/png": "[encoded data removed]",
      "text/plain": [
       "<Figure size 432x288 with 1 Axes>"
      ]
     },
     "metadata": {
      "needs_background": "light"
     },
     "output_type": "display_data"
    },
    {
     "data": {
      "image/png": "[encoded data removed]",
      "text/plain": [
       "<Figure size 432x288 with 1 Axes>"
      ]
     },
     "metadata": {
      "needs_background": "light"
     },
     "output_type": "display_data"
    },
    {
     "data": {
      "image/png": "[encoded data removed]",
      "text/plain": [
       "<Figure size 432x288 with 1 Axes>"
      ]
     },
     "metadata": {
      "needs_background": "light"
     },
     "output_type": "display_data"
    },
    {
     "data": {
      "image/png": "[encoded data removed]",
      "text/plain": [
       "<Figure size 432x288 with 1 Axes>"
      ]
     },
     "metadata": {
      "needs_background": "light"
     },
     "output_type": "display_data"
    },
    {
     "data": {
      "image/png": "[encoded data removed]",
      "text/plain": [
       "<Figure size 432x288 with 1 Axes>"
      ]
     },
     "metadata": {
      "needs_background": "light"
     },
     "output_type": "display_data"
    },
    {
     "data": {
      "image/png": "[encoded data removed]",
      "text/plain": [
       "<Figure size 432x288 with 1 Axes>"
      ]
     },
     "metadata": {
      "needs_background": "light"
     },
     "output_type": "display_data"
    },
    {
     "data": {
      "image/png": "[encoded data removed]",
      "text/plain": [
       "<Figure size 432x288 with 1 Axes>"
      ]
     },
     "metadata": {
      "needs_background": "light"
     },
     "output_type": "display_data"
    }
   ],
   "source": [
    "for i in data['platform'].unique():\n",
    "  plt.scatter(data[data['platform']==i]['critic_score'],data[data['platform']==i]['sum_sales'], alpha=0.4)\n",
    "  plt.title(i)\n",
    "  plt.show()"
   ]
  },
  {
   "cell_type": "markdown",
   "metadata": {
    "id": "lC3e-JomZ7ZC"
   },
   "source": [
    "Графики подтверждают положительную связь оценок критиков и суммарных продаж. Только на платформе PSV не была замечена связь. На остальных платформах суммарные продажи игры растут от оценки критиков. Чем выше, тем больше продаж."
   ]
  },
  {
   "cell_type": "code",
   "execution_count": 37,
   "metadata": {
    "colab": {
     "base_uri": "https://localhost:8080/",
     "height": 284
    },
    "id": "_n3aL0YJtNre",
    "outputId": "5e2a6771-8379-4b89-de92-c2b3d13a9c06",
    "scrolled": true
   },
   "outputs": [
    {
     "data": {
      "text/plain": [
       "<matplotlib.collections.PathCollection at 0x7f46254e9e80>"
      ]
     },
     "execution_count": 37,
     "metadata": {},
     "output_type": "execute_result"
    },
    {
     "data": {
      "image/png": "[encoded data removed]",
      "text/plain": [
       "<Figure size 432x288 with 1 Axes>"
      ]
     },
     "metadata": {
      "needs_background": "light"
     },
     "output_type": "display_data"
    }
   ],
   "source": [
    "plt.scatter(data['sum_sales'],data['genre'], alpha=0.4)"
   ]
  },
  {
   "cell_type": "code",
   "execution_count": 38,
   "metadata": {},
   "outputs": [
    {
     "data": {
      "text/html": [
       "<div>\n",
       "<style scoped>\n",
       "    .dataframe tbody tr th:only-of-type {\n",
       "        vertical-align: middle;\n",
       "    }\n",
       "\n",
       "    .dataframe tbody tr th {\n",
       "        vertical-align: top;\n",
       "    }\n",
       "\n",
       "    .dataframe thead th {\n",
       "        text-align: right;\n",
       "    }\n",
       "</style>\n",
       "<table border=\"1\" class=\"dataframe\">\n",
       "  <thead>\n",
       "    <tr style=\"text-align: right;\">\n",
       "      <th></th>\n",
       "      <th>sum_sales</th>\n",
       "    </tr>\n",
       "    <tr>\n",
       "      <th>genre</th>\n",
       "      <th></th>\n",
       "    </tr>\n",
       "  </thead>\n",
       "  <tbody>\n",
       "    <tr>\n",
       "      <th>Shooter</th>\n",
       "      <td>1.335469</td>\n",
       "    </tr>\n",
       "    <tr>\n",
       "      <th>Sports</th>\n",
       "      <td>0.680000</td>\n",
       "    </tr>\n",
       "    <tr>\n",
       "      <th>Platform</th>\n",
       "      <td>0.476053</td>\n",
       "    </tr>\n",
       "    <tr>\n",
       "      <th>Fighting</th>\n",
       "      <td>0.470333</td>\n",
       "    </tr>\n",
       "    <tr>\n",
       "      <th>Role-Playing</th>\n",
       "      <td>0.459005</td>\n",
       "    </tr>\n",
       "    <tr>\n",
       "      <th>Racing</th>\n",
       "      <td>0.398841</td>\n",
       "    </tr>\n",
       "    <tr>\n",
       "      <th>Misc</th>\n",
       "      <td>0.332301</td>\n",
       "    </tr>\n",
       "    <tr>\n",
       "      <th>Action</th>\n",
       "      <td>0.322068</td>\n",
       "    </tr>\n",
       "    <tr>\n",
       "      <th>Simulation</th>\n",
       "      <td>0.298409</td>\n",
       "    </tr>\n",
       "    <tr>\n",
       "      <th>Puzzle</th>\n",
       "      <td>0.157857</td>\n",
       "    </tr>\n",
       "    <tr>\n",
       "      <th>Strategy</th>\n",
       "      <td>0.107027</td>\n",
       "    </tr>\n",
       "    <tr>\n",
       "      <th>Adventure</th>\n",
       "      <td>0.094865</td>\n",
       "    </tr>\n",
       "  </tbody>\n",
       "</table>\n",
       "</div>"
      ],
      "text/plain": [
       "              sum_sales\n",
       "genre                  \n",
       "Shooter        1.335469\n",
       "Sports         0.680000\n",
       "Platform       0.476053\n",
       "Fighting       0.470333\n",
       "Role-Playing   0.459005\n",
       "Racing         0.398841\n",
       "Misc           0.332301\n",
       "Action         0.322068\n",
       "Simulation     0.298409\n",
       "Puzzle         0.157857\n",
       "Strategy       0.107027\n",
       "Adventure      0.094865"
      ]
     },
     "execution_count": 38,
     "metadata": {},
     "output_type": "execute_result"
    }
   ],
   "source": [
    "data.pivot_table(index='genre',values='sum_sales').sort_values('sum_sales',ascending=False)"
   ]
  },
  {
   "cell_type": "markdown",
   "metadata": {
    "id": "-ekSTfOICZRT"
   },
   "source": [
    "Жанры Shooter, Sports, Platform, Fighting и Role-Playing имеют наибольшее количество продаж, а жанры Puzzle, Strategy и Adventure совсем не популярны и количество продаж в них очень мало. Самые продаваемые жанры имеют общие черты: они очень динамичные и могут быть многопользовательскими."
   ]
  },
  {
   "cell_type": "markdown",
   "metadata": {
    "id": "BWQjoELgJvzC"
   },
   "source": [
    "### Вывод\n",
    "Рассмотрев данные за весь период, выяснили, что для анализа нам могут потребоваться данные не позже 2000 годов. Благодаря данным за все время, выяснили средний срок жизни платформ, около 8 лет.Для прогнозирования данных на следующий год оставили данные только за актуальный период с 2014 года. Рассмотрели наиболее прибыльные платформы, проверили связь между продажами и оценками критиков, продажами и пользовательскими оценками. Выяснили наиболее продаваемые жанры."
   ]
  },
  {
   "cell_type": "markdown",
   "metadata": {
    "id": "V4j0P9BAE8ZT"
   },
   "source": [
    "## Составление портрета пользователя разных регионов"
   ]
  },
  {
   "cell_type": "code",
   "execution_count": 39,
   "metadata": {
    "colab": {
     "base_uri": "https://localhost:8080/",
     "height": 584
    },
    "id": "gZwDRH8EPdp7",
    "outputId": "0323b173-6d64-4455-f974-0faf92664191",
    "scrolled": true
   },
   "outputs": [
    {
     "data": {
      "text/html": [
       "<div>\n",
       "<style scoped>\n",
       "    .dataframe tbody tr th:only-of-type {\n",
       "        vertical-align: middle;\n",
       "    }\n",
       "\n",
       "    .dataframe tbody tr th {\n",
       "        vertical-align: top;\n",
       "    }\n",
       "\n",
       "    .dataframe thead th {\n",
       "        text-align: right;\n",
       "    }\n",
       "</style>\n",
       "<table border=\"1\" class=\"dataframe\">\n",
       "  <thead>\n",
       "    <tr style=\"text-align: right;\">\n",
       "      <th></th>\n",
       "      <th>platform</th>\n",
       "      <th>NA_sales</th>\n",
       "    </tr>\n",
       "  </thead>\n",
       "  <tbody>\n",
       "    <tr>\n",
       "      <th>0</th>\n",
       "      <td>PS4</td>\n",
       "      <td>34.71</td>\n",
       "    </tr>\n",
       "    <tr>\n",
       "      <th>1</th>\n",
       "      <td>XOne</td>\n",
       "      <td>28.61</td>\n",
       "    </tr>\n",
       "    <tr>\n",
       "      <th>2</th>\n",
       "      <td>X360</td>\n",
       "      <td>9.96</td>\n",
       "    </tr>\n",
       "    <tr>\n",
       "      <th>3</th>\n",
       "      <td>3DS</td>\n",
       "      <td>7.97</td>\n",
       "    </tr>\n",
       "    <tr>\n",
       "      <th>4</th>\n",
       "      <td>PS3</td>\n",
       "      <td>7.76</td>\n",
       "    </tr>\n",
       "  </tbody>\n",
       "</table>\n",
       "</div>"
      ],
      "text/plain": [
       "  platform  NA_sales\n",
       "0      PS4     34.71\n",
       "1     XOne     28.61\n",
       "2     X360      9.96\n",
       "3      3DS      7.97\n",
       "4      PS3      7.76"
      ]
     },
     "metadata": {},
     "output_type": "display_data"
    },
    {
     "data": {
      "text/html": [
       "<div>\n",
       "<style scoped>\n",
       "    .dataframe tbody tr th:only-of-type {\n",
       "        vertical-align: middle;\n",
       "    }\n",
       "\n",
       "    .dataframe tbody tr th {\n",
       "        vertical-align: top;\n",
       "    }\n",
       "\n",
       "    .dataframe thead th {\n",
       "        text-align: right;\n",
       "    }\n",
       "</style>\n",
       "<table border=\"1\" class=\"dataframe\">\n",
       "  <thead>\n",
       "    <tr style=\"text-align: right;\">\n",
       "      <th></th>\n",
       "      <th>platform</th>\n",
       "      <th>EU_sales</th>\n",
       "    </tr>\n",
       "  </thead>\n",
       "  <tbody>\n",
       "    <tr>\n",
       "      <th>0</th>\n",
       "      <td>PS4</td>\n",
       "      <td>48.04</td>\n",
       "    </tr>\n",
       "    <tr>\n",
       "      <th>1</th>\n",
       "      <td>XOne</td>\n",
       "      <td>17.09</td>\n",
       "    </tr>\n",
       "    <tr>\n",
       "      <th>2</th>\n",
       "      <td>PS3</td>\n",
       "      <td>9.44</td>\n",
       "    </tr>\n",
       "    <tr>\n",
       "      <th>3</th>\n",
       "      <td>PC</td>\n",
       "      <td>6.64</td>\n",
       "    </tr>\n",
       "    <tr>\n",
       "      <th>4</th>\n",
       "      <td>3DS</td>\n",
       "      <td>5.96</td>\n",
       "    </tr>\n",
       "  </tbody>\n",
       "</table>\n",
       "</div>"
      ],
      "text/plain": [
       "  platform  EU_sales\n",
       "0      PS4     48.04\n",
       "1     XOne     17.09\n",
       "2      PS3      9.44\n",
       "3       PC      6.64\n",
       "4      3DS      5.96"
      ]
     },
     "metadata": {},
     "output_type": "display_data"
    },
    {
     "data": {
      "text/html": [
       "<div>\n",
       "<style scoped>\n",
       "    .dataframe tbody tr th:only-of-type {\n",
       "        vertical-align: middle;\n",
       "    }\n",
       "\n",
       "    .dataframe tbody tr th {\n",
       "        vertical-align: top;\n",
       "    }\n",
       "\n",
       "    .dataframe thead th {\n",
       "        text-align: right;\n",
       "    }\n",
       "</style>\n",
       "<table border=\"1\" class=\"dataframe\">\n",
       "  <thead>\n",
       "    <tr style=\"text-align: right;\">\n",
       "      <th></th>\n",
       "      <th>platform</th>\n",
       "      <th>JP_sales</th>\n",
       "    </tr>\n",
       "  </thead>\n",
       "  <tbody>\n",
       "    <tr>\n",
       "      <th>0</th>\n",
       "      <td>3DS</td>\n",
       "      <td>47.52</td>\n",
       "    </tr>\n",
       "    <tr>\n",
       "      <th>1</th>\n",
       "      <td>PS4</td>\n",
       "      <td>16.13</td>\n",
       "    </tr>\n",
       "    <tr>\n",
       "      <th>2</th>\n",
       "      <td>PSV</td>\n",
       "      <td>15.62</td>\n",
       "    </tr>\n",
       "    <tr>\n",
       "      <th>3</th>\n",
       "      <td>PS3</td>\n",
       "      <td>12.05</td>\n",
       "    </tr>\n",
       "    <tr>\n",
       "      <th>4</th>\n",
       "      <td>WiiU</td>\n",
       "      <td>7.85</td>\n",
       "    </tr>\n",
       "  </tbody>\n",
       "</table>\n",
       "</div>"
      ],
      "text/plain": [
       "  platform  JP_sales\n",
       "0      3DS     47.52\n",
       "1      PS4     16.13\n",
       "2      PSV     15.62\n",
       "3      PS3     12.05\n",
       "4     WiiU      7.85"
      ]
     },
     "metadata": {},
     "output_type": "display_data"
    }
   ],
   "source": [
    "for region in ['NA_sales','EU_sales','JP_sales']:\n",
    "  platforms=data.pivot_table(index='platform', values=region, aggfunc='sum').reset_index()\n",
    "  platforms[region] = round(platforms[region]/platforms[region].sum()*100, 2)\n",
    "  display(platforms.sort_values(region, ascending=False).reset_index(drop=True).head())"
   ]
  },
  {
   "cell_type": "code",
   "execution_count": 40,
   "metadata": {},
   "outputs": [
    {
     "data": {
      "text/plain": [
       "<AxesSubplot:ylabel='NA_sales'>"
      ]
     },
     "metadata": {},
     "output_type": "display_data"
    },
    {
     "data": {
      "text/plain": [
       "<AxesSubplot:ylabel='EU_sales'>"
      ]
     },
     "metadata": {},
     "output_type": "display_data"
    },
    {
     "data": {
      "text/plain": [
       "<AxesSubplot:ylabel='JP_sales'>"
      ]
     },
     "metadata": {},
     "output_type": "display_data"
    },
    {
     "data": {
      "image/png": "[encoded data removed]",
      "text/plain": [
       "<Figure size 360x360 with 1 Axes>"
      ]
     },
     "metadata": {},
     "output_type": "display_data"
    },
    {
     "data": {
      "image/png": "[encoded data removed]",
      "text/plain": [
       "<Figure size 360x360 with 1 Axes>"
      ]
     },
     "metadata": {},
     "output_type": "display_data"
    },
    {
     "data": {
      "image/png": "[encoded data removed]",
      "text/plain": [
       "<Figure size 360x360 with 1 Axes>"
      ]
     },
     "metadata": {},
     "output_type": "display_data"
    }
   ],
   "source": [
    "for region in ['NA_sales','EU_sales','JP_sales']:\n",
    "    display(data.pivot_table(index='platform', values=region, aggfunc='sum').sort_values(region, ascending=False).head().plot.pie(y=region,figsize=(5,5),))"
   ]
  },
  {
   "cell_type": "markdown",
   "metadata": {},
   "source": [
    "Предпочтения пользователей по игровым платформам в NA и EU схожи, но некоторые различия имеются. В EU появился жанр PC и пропал X360. Пользователи в JP отдают свои предпочтения другой платформе это 3DS. В JP 3DS вытеснило на второй план PS4, популярную в EU и NA. А так же в JP не предпочитают PC."
   ]
  },
  {
   "cell_type": "code",
   "execution_count": 41,
   "metadata": {
    "colab": {
     "base_uri": "https://localhost:8080/",
     "height": 639
    },
    "id": "11LM6Z8KAepV",
    "outputId": "cdb002e4-64b6-41b7-c054-b040a5e40953",
    "scrolled": true
   },
   "outputs": [
    {
     "data": {
      "text/html": [
       "<div>\n",
       "<style scoped>\n",
       "    .dataframe tbody tr th:only-of-type {\n",
       "        vertical-align: middle;\n",
       "    }\n",
       "\n",
       "    .dataframe tbody tr th {\n",
       "        vertical-align: top;\n",
       "    }\n",
       "\n",
       "    .dataframe thead th {\n",
       "        text-align: right;\n",
       "    }\n",
       "</style>\n",
       "<table border=\"1\" class=\"dataframe\">\n",
       "  <thead>\n",
       "    <tr style=\"text-align: right;\">\n",
       "      <th></th>\n",
       "      <th>genre</th>\n",
       "      <th>NA_sales</th>\n",
       "    </tr>\n",
       "  </thead>\n",
       "  <tbody>\n",
       "    <tr>\n",
       "      <th>0</th>\n",
       "      <td>Shooter</td>\n",
       "      <td>27.82</td>\n",
       "    </tr>\n",
       "    <tr>\n",
       "      <th>1</th>\n",
       "      <td>Action</td>\n",
       "      <td>25.53</td>\n",
       "    </tr>\n",
       "    <tr>\n",
       "      <th>2</th>\n",
       "      <td>Sports</td>\n",
       "      <td>16.24</td>\n",
       "    </tr>\n",
       "    <tr>\n",
       "      <th>3</th>\n",
       "      <td>Role-Playing</td>\n",
       "      <td>11.78</td>\n",
       "    </tr>\n",
       "    <tr>\n",
       "      <th>4</th>\n",
       "      <td>Misc</td>\n",
       "      <td>5.30</td>\n",
       "    </tr>\n",
       "  </tbody>\n",
       "</table>\n",
       "</div>"
      ],
      "text/plain": [
       "          genre  NA_sales\n",
       "0       Shooter     27.82\n",
       "1        Action     25.53\n",
       "2        Sports     16.24\n",
       "3  Role-Playing     11.78\n",
       "4          Misc      5.30"
      ]
     },
     "metadata": {},
     "output_type": "display_data"
    },
    {
     "data": {
      "text/html": [
       "<div>\n",
       "<style scoped>\n",
       "    .dataframe tbody tr th:only-of-type {\n",
       "        vertical-align: middle;\n",
       "    }\n",
       "\n",
       "    .dataframe tbody tr th {\n",
       "        vertical-align: top;\n",
       "    }\n",
       "\n",
       "    .dataframe thead th {\n",
       "        text-align: right;\n",
       "    }\n",
       "</style>\n",
       "<table border=\"1\" class=\"dataframe\">\n",
       "  <thead>\n",
       "    <tr style=\"text-align: right;\">\n",
       "      <th></th>\n",
       "      <th>genre</th>\n",
       "      <th>EU_sales</th>\n",
       "    </tr>\n",
       "  </thead>\n",
       "  <tbody>\n",
       "    <tr>\n",
       "      <th>0</th>\n",
       "      <td>Action</td>\n",
       "      <td>27.59</td>\n",
       "    </tr>\n",
       "    <tr>\n",
       "      <th>1</th>\n",
       "      <td>Shooter</td>\n",
       "      <td>24.21</td>\n",
       "    </tr>\n",
       "    <tr>\n",
       "      <th>2</th>\n",
       "      <td>Sports</td>\n",
       "      <td>16.89</td>\n",
       "    </tr>\n",
       "    <tr>\n",
       "      <th>3</th>\n",
       "      <td>Role-Playing</td>\n",
       "      <td>10.41</td>\n",
       "    </tr>\n",
       "    <tr>\n",
       "      <th>4</th>\n",
       "      <td>Racing</td>\n",
       "      <td>5.22</td>\n",
       "    </tr>\n",
       "  </tbody>\n",
       "</table>\n",
       "</div>"
      ],
      "text/plain": [
       "          genre  EU_sales\n",
       "0        Action     27.59\n",
       "1       Shooter     24.21\n",
       "2        Sports     16.89\n",
       "3  Role-Playing     10.41\n",
       "4        Racing      5.22"
      ]
     },
     "metadata": {},
     "output_type": "display_data"
    },
    {
     "data": {
      "text/html": [
       "<div>\n",
       "<style scoped>\n",
       "    .dataframe tbody tr th:only-of-type {\n",
       "        vertical-align: middle;\n",
       "    }\n",
       "\n",
       "    .dataframe tbody tr th {\n",
       "        vertical-align: top;\n",
       "    }\n",
       "\n",
       "    .dataframe thead th {\n",
       "        text-align: right;\n",
       "    }\n",
       "</style>\n",
       "<table border=\"1\" class=\"dataframe\">\n",
       "  <thead>\n",
       "    <tr style=\"text-align: right;\">\n",
       "      <th></th>\n",
       "      <th>genre</th>\n",
       "      <th>JP_sales</th>\n",
       "    </tr>\n",
       "  </thead>\n",
       "  <tbody>\n",
       "    <tr>\n",
       "      <th>0</th>\n",
       "      <td>Role-Playing</td>\n",
       "      <td>33.47</td>\n",
       "    </tr>\n",
       "    <tr>\n",
       "      <th>1</th>\n",
       "      <td>Action</td>\n",
       "      <td>31.78</td>\n",
       "    </tr>\n",
       "    <tr>\n",
       "      <th>2</th>\n",
       "      <td>Fighting</td>\n",
       "      <td>6.84</td>\n",
       "    </tr>\n",
       "    <tr>\n",
       "      <th>3</th>\n",
       "      <td>Misc</td>\n",
       "      <td>6.03</td>\n",
       "    </tr>\n",
       "    <tr>\n",
       "      <th>4</th>\n",
       "      <td>Shooter</td>\n",
       "      <td>5.23</td>\n",
       "    </tr>\n",
       "  </tbody>\n",
       "</table>\n",
       "</div>"
      ],
      "text/plain": [
       "          genre  JP_sales\n",
       "0  Role-Playing     33.47\n",
       "1        Action     31.78\n",
       "2      Fighting      6.84\n",
       "3          Misc      6.03\n",
       "4       Shooter      5.23"
      ]
     },
     "metadata": {},
     "output_type": "display_data"
    }
   ],
   "source": [
    "for region in ['NA_sales','EU_sales','JP_sales']:\n",
    "  genres=data.pivot_table(index='genre', values=region, aggfunc='sum').reset_index()\n",
    "  genres[region] = round(genres[region]/genres[region].sum()*100, 2)\n",
    "  display(genres.sort_values(region, ascending=False).reset_index(drop=True).head())"
   ]
  },
  {
   "cell_type": "code",
   "execution_count": 42,
   "metadata": {
    "scrolled": false
   },
   "outputs": [
    {
     "data": {
      "text/plain": [
       "<AxesSubplot:ylabel='NA_sales'>"
      ]
     },
     "metadata": {},
     "output_type": "display_data"
    },
    {
     "data": {
      "text/plain": [
       "<AxesSubplot:ylabel='EU_sales'>"
      ]
     },
     "metadata": {},
     "output_type": "display_data"
    },
    {
     "data": {
      "text/plain": [
       "<AxesSubplot:ylabel='JP_sales'>"
      ]
     },
     "metadata": {},
     "output_type": "display_data"
    },
    {
     "data": {
      "image/png": "[encoded data removed]",
      "text/plain": [
       "<Figure size 360x360 with 1 Axes>"
      ]
     },
     "metadata": {},
     "output_type": "display_data"
    },
    {
     "data": {
      "image/png": "[encoded data removed]",
      "text/plain": [
       "<Figure size 360x360 with 1 Axes>"
      ]
     },
     "metadata": {},
     "output_type": "display_data"
    },
    {
     "data": {
      "image/png": "[encoded data removed]",
      "text/plain": [
       "<Figure size 360x360 with 1 Axes>"
      ]
     },
     "metadata": {},
     "output_type": "display_data"
    }
   ],
   "source": [
    "for region in ['NA_sales','EU_sales','JP_sales']:\n",
    "    display(data.pivot_table(index='genre', values=region, aggfunc='sum').sort_values(region, ascending=False).head().plot.pie(y=region,figsize=(5,5)))"
   ]
  },
  {
   "cell_type": "markdown",
   "metadata": {},
   "source": [
    "Как и с платформами, у пользователей в NA и EU предпочтения в жанрах сходятся, за исключением смены лидирующих жанров местами и сменили жанр Misc на Racing в EU. А пользователи из JP любят намного больше Role_playing жанр, сместив всеобщих лидеров Action и Shooter и так же популярность набрали жанры Fighting и Misc."
   ]
  },
  {
   "cell_type": "code",
   "execution_count": 43,
   "metadata": {
    "colab": {
     "base_uri": "https://localhost:8080/",
     "height": 363
    },
    "id": "FUN_cM62GaGF",
    "outputId": "0efcfed7-ebc2-4c78-c0c7-ac50a489f608",
    "scrolled": false
   },
   "outputs": [
    {
     "data": {
      "text/html": [
       "<div>\n",
       "<style scoped>\n",
       "    .dataframe tbody tr th:only-of-type {\n",
       "        vertical-align: middle;\n",
       "    }\n",
       "\n",
       "    .dataframe tbody tr th {\n",
       "        vertical-align: top;\n",
       "    }\n",
       "\n",
       "    .dataframe thead tr th {\n",
       "        text-align: left;\n",
       "    }\n",
       "\n",
       "    .dataframe thead tr:last-of-type th {\n",
       "        text-align: right;\n",
       "    }\n",
       "</style>\n",
       "<table border=\"1\" class=\"dataframe\">\n",
       "  <thead>\n",
       "    <tr>\n",
       "      <th></th>\n",
       "      <th colspan=\"5\" halign=\"left\">EU_sales</th>\n",
       "      <th colspan=\"5\" halign=\"left\">JP_sales</th>\n",
       "      <th colspan=\"5\" halign=\"left\">NA_sales</th>\n",
       "    </tr>\n",
       "    <tr>\n",
       "      <th>rating</th>\n",
       "      <th>E</th>\n",
       "      <th>E10+</th>\n",
       "      <th>M</th>\n",
       "      <th>T</th>\n",
       "      <th>no rating</th>\n",
       "      <th>E</th>\n",
       "      <th>E10+</th>\n",
       "      <th>M</th>\n",
       "      <th>T</th>\n",
       "      <th>no rating</th>\n",
       "      <th>E</th>\n",
       "      <th>E10+</th>\n",
       "      <th>M</th>\n",
       "      <th>T</th>\n",
       "      <th>no rating</th>\n",
       "    </tr>\n",
       "    <tr>\n",
       "      <th>platform</th>\n",
       "      <th></th>\n",
       "      <th></th>\n",
       "      <th></th>\n",
       "      <th></th>\n",
       "      <th></th>\n",
       "      <th></th>\n",
       "      <th></th>\n",
       "      <th></th>\n",
       "      <th></th>\n",
       "      <th></th>\n",
       "      <th></th>\n",
       "      <th></th>\n",
       "      <th></th>\n",
       "      <th></th>\n",
       "      <th></th>\n",
       "    </tr>\n",
       "  </thead>\n",
       "  <tbody>\n",
       "    <tr>\n",
       "      <th>3DS</th>\n",
       "      <td>3.84</td>\n",
       "      <td>2.43</td>\n",
       "      <td>0.09</td>\n",
       "      <td>0.80</td>\n",
       "      <td>8.96</td>\n",
       "      <td>4.07</td>\n",
       "      <td>1.99</td>\n",
       "      <td>0.37</td>\n",
       "      <td>4.57</td>\n",
       "      <td>33.24</td>\n",
       "      <td>4.09</td>\n",
       "      <td>3.26</td>\n",
       "      <td>0.49</td>\n",
       "      <td>1.48</td>\n",
       "      <td>13.32</td>\n",
       "    </tr>\n",
       "    <tr>\n",
       "      <th>PC</th>\n",
       "      <td>2.19</td>\n",
       "      <td>0.91</td>\n",
       "      <td>7.48</td>\n",
       "      <td>4.19</td>\n",
       "      <td>3.20</td>\n",
       "      <td>0.00</td>\n",
       "      <td>0.00</td>\n",
       "      <td>0.00</td>\n",
       "      <td>0.00</td>\n",
       "      <td>0.00</td>\n",
       "      <td>0.13</td>\n",
       "      <td>0.27</td>\n",
       "      <td>4.38</td>\n",
       "      <td>2.14</td>\n",
       "      <td>0.31</td>\n",
       "    </tr>\n",
       "    <tr>\n",
       "      <th>PS3</th>\n",
       "      <td>7.62</td>\n",
       "      <td>2.92</td>\n",
       "      <td>6.66</td>\n",
       "      <td>2.49</td>\n",
       "      <td>5.85</td>\n",
       "      <td>0.65</td>\n",
       "      <td>0.14</td>\n",
       "      <td>1.55</td>\n",
       "      <td>2.78</td>\n",
       "      <td>6.10</td>\n",
       "      <td>5.66</td>\n",
       "      <td>2.69</td>\n",
       "      <td>5.57</td>\n",
       "      <td>3.01</td>\n",
       "      <td>5.12</td>\n",
       "    </tr>\n",
       "    <tr>\n",
       "      <th>PS4</th>\n",
       "      <td>25.14</td>\n",
       "      <td>6.09</td>\n",
       "      <td>52.81</td>\n",
       "      <td>18.31</td>\n",
       "      <td>27.69</td>\n",
       "      <td>0.72</td>\n",
       "      <td>0.21</td>\n",
       "      <td>4.87</td>\n",
       "      <td>2.97</td>\n",
       "      <td>6.25</td>\n",
       "      <td>14.38</td>\n",
       "      <td>6.82</td>\n",
       "      <td>37.72</td>\n",
       "      <td>16.38</td>\n",
       "      <td>23.31</td>\n",
       "    </tr>\n",
       "    <tr>\n",
       "      <th>PSP</th>\n",
       "      <td>NaN</td>\n",
       "      <td>NaN</td>\n",
       "      <td>NaN</td>\n",
       "      <td>NaN</td>\n",
       "      <td>0.00</td>\n",
       "      <td>NaN</td>\n",
       "      <td>NaN</td>\n",
       "      <td>NaN</td>\n",
       "      <td>NaN</td>\n",
       "      <td>0.36</td>\n",
       "      <td>NaN</td>\n",
       "      <td>NaN</td>\n",
       "      <td>NaN</td>\n",
       "      <td>NaN</td>\n",
       "      <td>0.00</td>\n",
       "    </tr>\n",
       "    <tr>\n",
       "      <th>PSV</th>\n",
       "      <td>0.40</td>\n",
       "      <td>1.02</td>\n",
       "      <td>0.56</td>\n",
       "      <td>0.67</td>\n",
       "      <td>0.88</td>\n",
       "      <td>0.05</td>\n",
       "      <td>0.28</td>\n",
       "      <td>0.80</td>\n",
       "      <td>4.05</td>\n",
       "      <td>9.36</td>\n",
       "      <td>0.18</td>\n",
       "      <td>0.25</td>\n",
       "      <td>0.79</td>\n",
       "      <td>0.76</td>\n",
       "      <td>0.54</td>\n",
       "    </tr>\n",
       "    <tr>\n",
       "      <th>Wii</th>\n",
       "      <td>0.42</td>\n",
       "      <td>2.01</td>\n",
       "      <td>NaN</td>\n",
       "      <td>NaN</td>\n",
       "      <td>0.16</td>\n",
       "      <td>0.00</td>\n",
       "      <td>0.00</td>\n",
       "      <td>NaN</td>\n",
       "      <td>NaN</td>\n",
       "      <td>0.00</td>\n",
       "      <td>0.15</td>\n",
       "      <td>1.91</td>\n",
       "      <td>NaN</td>\n",
       "      <td>NaN</td>\n",
       "      <td>0.02</td>\n",
       "    </tr>\n",
       "    <tr>\n",
       "      <th>WiiU</th>\n",
       "      <td>5.59</td>\n",
       "      <td>4.10</td>\n",
       "      <td>0.38</td>\n",
       "      <td>1.13</td>\n",
       "      <td>1.95</td>\n",
       "      <td>3.42</td>\n",
       "      <td>1.81</td>\n",
       "      <td>0.18</td>\n",
       "      <td>0.37</td>\n",
       "      <td>1.53</td>\n",
       "      <td>7.90</td>\n",
       "      <td>5.52</td>\n",
       "      <td>0.43</td>\n",
       "      <td>1.64</td>\n",
       "      <td>3.87</td>\n",
       "    </tr>\n",
       "    <tr>\n",
       "      <th>X360</th>\n",
       "      <td>4.12</td>\n",
       "      <td>3.34</td>\n",
       "      <td>4.40</td>\n",
       "      <td>1.49</td>\n",
       "      <td>2.14</td>\n",
       "      <td>0.00</td>\n",
       "      <td>0.00</td>\n",
       "      <td>0.06</td>\n",
       "      <td>0.01</td>\n",
       "      <td>0.01</td>\n",
       "      <td>7.28</td>\n",
       "      <td>5.10</td>\n",
       "      <td>8.62</td>\n",
       "      <td>3.48</td>\n",
       "      <td>3.82</td>\n",
       "    </tr>\n",
       "    <tr>\n",
       "      <th>XOne</th>\n",
       "      <td>8.74</td>\n",
       "      <td>3.34</td>\n",
       "      <td>21.06</td>\n",
       "      <td>4.99</td>\n",
       "      <td>8.12</td>\n",
       "      <td>0.03</td>\n",
       "      <td>0.03</td>\n",
       "      <td>0.18</td>\n",
       "      <td>0.03</td>\n",
       "      <td>0.05</td>\n",
       "      <td>10.97</td>\n",
       "      <td>7.41</td>\n",
       "      <td>38.42</td>\n",
       "      <td>10.06</td>\n",
       "      <td>14.41</td>\n",
       "    </tr>\n",
       "  </tbody>\n",
       "</table>\n",
       "</div>"
      ],
      "text/plain": [
       "         EU_sales                               JP_sales                    \\\n",
       "rating          E  E10+      M      T no rating        E  E10+     M     T   \n",
       "platform                                                                     \n",
       "3DS          3.84  2.43   0.09   0.80      8.96     4.07  1.99  0.37  4.57   \n",
       "PC           2.19  0.91   7.48   4.19      3.20     0.00  0.00  0.00  0.00   \n",
       "PS3          7.62  2.92   6.66   2.49      5.85     0.65  0.14  1.55  2.78   \n",
       "PS4         25.14  6.09  52.81  18.31     27.69     0.72  0.21  4.87  2.97   \n",
       "PSP           NaN   NaN    NaN    NaN      0.00      NaN   NaN   NaN   NaN   \n",
       "PSV          0.40  1.02   0.56   0.67      0.88     0.05  0.28  0.80  4.05   \n",
       "Wii          0.42  2.01    NaN    NaN      0.16     0.00  0.00   NaN   NaN   \n",
       "WiiU         5.59  4.10   0.38   1.13      1.95     3.42  1.81  0.18  0.37   \n",
       "X360         4.12  3.34   4.40   1.49      2.14     0.00  0.00  0.06  0.01   \n",
       "XOne         8.74  3.34  21.06   4.99      8.12     0.03  0.03  0.18  0.03   \n",
       "\n",
       "                   NA_sales                                \n",
       "rating   no rating        E  E10+      M      T no rating  \n",
       "platform                                                   \n",
       "3DS          33.24     4.09  3.26   0.49   1.48     13.32  \n",
       "PC            0.00     0.13  0.27   4.38   2.14      0.31  \n",
       "PS3           6.10     5.66  2.69   5.57   3.01      5.12  \n",
       "PS4           6.25    14.38  6.82  37.72  16.38     23.31  \n",
       "PSP           0.36      NaN   NaN    NaN    NaN      0.00  \n",
       "PSV           9.36     0.18  0.25   0.79   0.76      0.54  \n",
       "Wii           0.00     0.15  1.91    NaN    NaN      0.02  \n",
       "WiiU          1.53     7.90  5.52   0.43   1.64      3.87  \n",
       "X360          0.01     7.28  5.10   8.62   3.48      3.82  \n",
       "XOne          0.05    10.97  7.41  38.42  10.06     14.41  "
      ]
     },
     "execution_count": 43,
     "metadata": {},
     "output_type": "execute_result"
    }
   ],
   "source": [
    "data.pivot_table(index='platform',columns='rating',values=['NA_sales','EU_sales','JP_sales'],aggfunc='sum')"
   ]
  },
  {
   "cell_type": "code",
   "execution_count": 44,
   "metadata": {},
   "outputs": [
    {
     "data": {
      "text/plain": [
       "<AxesSubplot:xlabel='None-rating', ylabel='platform'>"
      ]
     },
     "execution_count": 44,
     "metadata": {},
     "output_type": "execute_result"
    },
    {
     "data": {
      "image/png": "[encoded data removed]",
      "text/plain": [
       "<Figure size 432x288 with 2 Axes>"
      ]
     },
     "metadata": {
      "needs_background": "light"
     },
     "output_type": "display_data"
    }
   ],
   "source": [
    "sns.heatmap(data=data.pivot_table(index='platform',columns='rating',values=['NA_sales','EU_sales','JP_sales'],aggfunc='sum'))"
   ]
  },
  {
   "cell_type": "markdown",
   "metadata": {},
   "source": [
    "Рейтинг ESRB оказывает влияние на продажи игр в отдельных регионах. Наиболее продаваемые игры имели рейтинг E и M в регионах EU и NA. А в регионе JP рейтинг влияет иначе: чаще продаются  игры рейтинга E и E10+, за исключением одной платформы, где рейтинг M очень уж популярен. Плюс некоторые платформы в EU и NA хорошо продавали игры без рейтинга."
   ]
  },
  {
   "cell_type": "markdown",
   "metadata": {},
   "source": [
    "### Вывод\n",
    "Портрет пользователей позволяет нам определиться с какой целевой аудиторией предстоит работать и какой жанр и на какой платформе могут быть удачные продажи. Пользователи EU и NA имеют схожие черты, в то время как игроки из JP любят другие жанры и платформы. Также требуется учитывать рейтинг ESRB, ведь в каждом регионе есть свой предпочтения."
   ]
  },
  {
   "cell_type": "markdown",
   "metadata": {
    "id": "_aXvabsqA7C2"
   },
   "source": [
    "## Проверка гипотез\n",
    "В обоих гипотезах будем проверять связь при помощи ttest_ind, для двух независимых выборок, с параметром equal_var=False, т.к. неизвестно равны ли дисперсии и размер выборок различный\n",
    "\n",
    "<b>Нулевая гипотеза:</b> средние пользовательские рейтинги платформ Xbox One и PC одинаковые\n",
    "\n",
    "<b>Альтернативная гипотеза:</b> средние пользовательские рейтинги платформ разные\n",
    "\n",
    "<b>Критический уровень статистической значимости 0.05</b>\n",
    "\n",
    "Для подтверждения гипотез удалим все пустые значения в user_score"
   ]
  },
  {
   "cell_type": "code",
   "execution_count": 45,
   "metadata": {},
   "outputs": [],
   "source": [
    "data = data.dropna(subset=['user_score'])"
   ]
  },
  {
   "cell_type": "code",
   "execution_count": 46,
   "metadata": {
    "colab": {
     "base_uri": "https://localhost:8080/"
    },
    "id": "oUP51BMvJAZx",
    "outputId": "42c7b801-30e6-4587-da6c-830512ecabba",
    "scrolled": true
   },
   "outputs": [
    {
     "data": {
      "text/plain": [
       "0.11601398086668827"
      ]
     },
     "execution_count": 46,
     "metadata": {},
     "output_type": "execute_result"
    }
   ],
   "source": [
    "st.ttest_ind(data[data['platform']=='XOne']['user_score'], data[data['platform']=='PC']['user_score'], equal_var=False).pvalue"
   ]
  },
  {
   "cell_type": "markdown",
   "metadata": {},
   "source": [
    "Полученное P-value не позволяет отклонить нулевую гипотезу ($0.05<0.11$). Следовательно, рейтинги Xbox One и PC одинаковые. Сравним средние значения выборки."
   ]
  },
  {
   "cell_type": "code",
   "execution_count": 47,
   "metadata": {},
   "outputs": [
    {
     "name": "stdout",
     "output_type": "stream",
     "text": [
      "Среднее значение пользовательских оценок Xbox One = 6.595\n",
      "Среднее значение пользовательских оценок PC = 6.298\n"
     ]
    }
   ],
   "source": [
    "print('Среднее значение пользовательских оценок Xbox One =', round(data[data['platform']=='XOne']['user_score'].mean(),3))\n",
    "print('Среднее значение пользовательских оценок PC =', round(data[data['platform']=='PC']['user_score'].mean(),3))"
   ]
  },
  {
   "cell_type": "markdown",
   "metadata": {
    "id": "rMQ3cFs4BgiB"
   },
   "source": [
    "<b>Нулевая гипотеза:</b> средние пользовательские рейтинги жанров Action и Sports одинаковые\n",
    "\n",
    "<b>Альтернативная гипотеза:</b> средние пользовательские рейтинги жанров Action и Sports различные\n",
    "\n",
    "<b>Критический уровень статистической значимости 0.05"
   ]
  },
  {
   "cell_type": "code",
   "execution_count": 48,
   "metadata": {
    "colab": {
     "base_uri": "https://localhost:8080/"
    },
    "id": "IlspW07e5GE4",
    "outputId": "2b0e7bfd-4c29-430c-9e19-38fbe903a07f"
   },
   "outputs": [
    {
     "data": {
      "text/plain": [
       "1.1825550382644557e-14"
      ]
     },
     "execution_count": 48,
     "metadata": {},
     "output_type": "execute_result"
    }
   ],
   "source": [
    "st.ttest_ind(data[data['genre']=='Action']['user_score'], data[data['genre']=='Sports']['user_score'], equal_var=False).pvalue"
   ]
  },
  {
   "cell_type": "markdown",
   "metadata": {
    "id": "e0yDhCZzB8R3"
   },
   "source": [
    "Значение P-value крайне мало($1*10^-14$), что даёт нам право отклонить нулевую гипотезу и принять альтернативную. Для полного подтверждения предположений алтернативной гипотезы сверим средние значения выборки."
   ]
  },
  {
   "cell_type": "code",
   "execution_count": 49,
   "metadata": {
    "id": "Ml9SqaijCCH1"
   },
   "outputs": [
    {
     "name": "stdout",
     "output_type": "stream",
     "text": [
      "Среднее значение оценок пользователей жанра Action = 6.761\n",
      "Среднее значение оценок пользователей жанра Sports = 5.225\n"
     ]
    }
   ],
   "source": [
    "print('Среднее значение оценок пользователей жанра Action =', round(data[data['genre']=='Action']['user_score'].mean(),3))\n",
    "print('Среднее значение оценок пользователей жанра Sports =', round(data[data['genre']=='Sports']['user_score'].mean(),3))"
   ]
  },
  {
   "cell_type": "markdown",
   "metadata": {},
   "source": [
    "## Общий вывод\n",
    "Подводя итоги, были произведены:\n",
    "* Обработка данных, чистка, приведение к нужным типам и синтаксису столбцов, разобрано и заменено значение \"tbd\"\n",
    "* Добавлены необходимый столбец с суммарными продажами\n",
    "* Проведен исследовательский анализ, из которого выяснили актуальный период и средний срок жизни платформ\n",
    "* Рассмотрели лидирующие на рынке платформы и самые популярные жанры\n",
    "* Выяснили какие платформы и жанры нравятся пользователям разных регионов\n",
    "* Проверили взаимосвязи оценок пользователей и критиков с продажами\n",
    "* Выяснили, что средние оценки пользователей у Xbox One и PC одинаковые\n",
    "* Опровергли равенство пользовательских оценок жанров Action и Sports\n",
    "\n",
    "Из всего выше сказанного, можно предположить, что в следующем году игры в жанре Action или Shooter в регионе EU и NA и на платформе PS4 или Xbox One будут иметь наиболее удачные продажи, нежели у остальных. А для региона JP будет лучшим решением  жанр Role-playing на платформе 3DS или та же PS4."
   ]
  },
  {
   "cell_type": "code",
   "execution_count": null,
   "metadata": {},
   "outputs": [],
   "source": []
  }
 ],
 "metadata": {
  "ExecuteTimeLog": [
   {
    "duration": 1332,
    "start_time": "2022-03-30T13:03:31.821Z"
   },
   {
    "duration": 154,
    "start_time": "2022-03-30T13:03:33.155Z"
   },
   {
    "duration": 23,
    "start_time": "2022-03-30T13:03:33.310Z"
   },
   {
    "duration": 4,
    "start_time": "2022-03-30T13:03:33.335Z"
   },
   {
    "duration": 7,
    "start_time": "2022-03-30T13:03:33.340Z"
   },
   {
    "duration": 15,
    "start_time": "2022-03-30T13:03:33.349Z"
   },
   {
    "duration": 13,
    "start_time": "2022-03-30T13:03:33.366Z"
   },
   {
    "duration": 24,
    "start_time": "2022-03-30T13:03:33.380Z"
   },
   {
    "duration": 31,
    "start_time": "2022-03-30T13:03:33.406Z"
   },
   {
    "duration": 6,
    "start_time": "2022-03-30T13:03:33.440Z"
   },
   {
    "duration": 13,
    "start_time": "2022-03-30T13:03:33.448Z"
   },
   {
    "duration": 23,
    "start_time": "2022-03-30T13:03:33.463Z"
   },
   {
    "duration": 8,
    "start_time": "2022-03-30T13:03:33.487Z"
   },
   {
    "duration": 37,
    "start_time": "2022-03-30T13:03:33.497Z"
   },
   {
    "duration": 11,
    "start_time": "2022-03-30T13:03:33.535Z"
   },
   {
    "duration": 6,
    "start_time": "2022-03-30T13:03:33.548Z"
   },
   {
    "duration": 15,
    "start_time": "2022-03-30T13:03:33.556Z"
   },
   {
    "duration": 5,
    "start_time": "2022-03-30T13:03:33.573Z"
   },
   {
    "duration": 21,
    "start_time": "2022-03-30T13:03:33.579Z"
   },
   {
    "duration": 172,
    "start_time": "2022-03-30T13:03:33.601Z"
   },
   {
    "duration": 15,
    "start_time": "2022-03-30T13:03:33.774Z"
   },
   {
    "duration": 330,
    "start_time": "2022-03-30T13:03:33.791Z"
   },
   {
    "duration": 165,
    "start_time": "2022-03-30T13:03:34.123Z"
   },
   {
    "duration": 5,
    "start_time": "2022-03-30T13:03:34.290Z"
   },
   {
    "duration": 240,
    "start_time": "2022-03-30T13:03:34.296Z"
   },
   {
    "duration": 181,
    "start_time": "2022-03-30T13:03:34.537Z"
   },
   {
    "duration": 5,
    "start_time": "2022-03-30T13:03:34.719Z"
   },
   {
    "duration": 129,
    "start_time": "2022-03-30T13:03:34.734Z"
   },
   {
    "duration": 149,
    "start_time": "2022-03-30T13:03:34.864Z"
   },
   {
    "duration": 5,
    "start_time": "2022-03-30T13:03:35.015Z"
   },
   {
    "duration": 962,
    "start_time": "2022-03-30T13:03:35.022Z"
   },
   {
    "duration": 964,
    "start_time": "2022-03-30T13:03:35.986Z"
   },
   {
    "duration": 137,
    "start_time": "2022-03-30T13:03:36.952Z"
   },
   {
    "duration": 48,
    "start_time": "2022-03-30T13:03:37.090Z"
   },
   {
    "duration": 36,
    "start_time": "2022-03-30T13:03:37.140Z"
   },
   {
    "duration": 26,
    "start_time": "2022-03-30T13:03:37.177Z"
   },
   {
    "duration": 33,
    "start_time": "2022-03-30T13:03:37.204Z"
   },
   {
    "duration": 10,
    "start_time": "2022-03-30T13:03:37.239Z"
   },
   {
    "duration": 387,
    "start_time": "2022-03-30T13:10:04.976Z"
   },
   {
    "duration": 112,
    "start_time": "2022-03-30T13:10:19.918Z"
   },
   {
    "duration": 101,
    "start_time": "2022-03-30T13:10:22.503Z"
   },
   {
    "duration": 34,
    "start_time": "2022-03-30T13:10:27.134Z"
   },
   {
    "duration": 156,
    "start_time": "2022-03-30T13:12:27.525Z"
   },
   {
    "duration": 92,
    "start_time": "2022-03-30T13:12:55.402Z"
   },
   {
    "duration": 162,
    "start_time": "2022-03-30T13:13:16.528Z"
   },
   {
    "duration": 146,
    "start_time": "2022-03-30T13:14:53.149Z"
   },
   {
    "duration": 168,
    "start_time": "2022-03-30T13:16:31.395Z"
   },
   {
    "duration": 153,
    "start_time": "2022-03-30T13:16:51.906Z"
   },
   {
    "duration": 99,
    "start_time": "2022-03-30T13:18:06.868Z"
   },
   {
    "duration": 156,
    "start_time": "2022-03-30T13:18:15.812Z"
   },
   {
    "duration": 37,
    "start_time": "2022-03-30T13:19:28.614Z"
   },
   {
    "duration": 46,
    "start_time": "2022-03-30T13:54:05.893Z"
   },
   {
    "duration": 1310,
    "start_time": "2022-03-30T13:54:10.730Z"
   },
   {
    "duration": 230,
    "start_time": "2022-03-30T13:54:12.042Z"
   },
   {
    "duration": 22,
    "start_time": "2022-03-30T13:54:12.274Z"
   },
   {
    "duration": 4,
    "start_time": "2022-03-30T13:54:12.298Z"
   },
   {
    "duration": 6,
    "start_time": "2022-03-30T13:54:12.303Z"
   },
   {
    "duration": 19,
    "start_time": "2022-03-30T13:54:12.311Z"
   },
   {
    "duration": 17,
    "start_time": "2022-03-30T13:54:12.332Z"
   },
   {
    "duration": 52,
    "start_time": "2022-03-30T13:54:12.351Z"
   },
   {
    "duration": 8,
    "start_time": "2022-03-30T13:54:12.405Z"
   },
   {
    "duration": 8,
    "start_time": "2022-03-30T13:54:12.416Z"
   },
   {
    "duration": 8,
    "start_time": "2022-03-30T13:54:12.426Z"
   },
   {
    "duration": 55,
    "start_time": "2022-03-30T13:54:12.436Z"
   },
   {
    "duration": 9,
    "start_time": "2022-03-30T13:54:12.493Z"
   },
   {
    "duration": 8,
    "start_time": "2022-03-30T13:54:12.504Z"
   },
   {
    "duration": 14,
    "start_time": "2022-03-30T13:54:12.513Z"
   },
   {
    "duration": 7,
    "start_time": "2022-03-30T13:54:12.529Z"
   },
   {
    "duration": 14,
    "start_time": "2022-03-30T13:54:12.538Z"
   },
   {
    "duration": 5,
    "start_time": "2022-03-30T13:54:12.580Z"
   },
   {
    "duration": 22,
    "start_time": "2022-03-30T13:54:12.586Z"
   },
   {
    "duration": 154,
    "start_time": "2022-03-30T13:54:12.610Z"
   },
   {
    "duration": 25,
    "start_time": "2022-03-30T13:54:12.766Z"
   },
   {
    "duration": 445,
    "start_time": "2022-03-30T13:54:12.793Z"
   },
   {
    "duration": 187,
    "start_time": "2022-03-30T13:54:13.239Z"
   },
   {
    "duration": 6,
    "start_time": "2022-03-30T13:54:13.428Z"
   },
   {
    "duration": 242,
    "start_time": "2022-03-30T13:54:13.435Z"
   },
   {
    "duration": 177,
    "start_time": "2022-03-30T13:54:13.679Z"
   },
   {
    "duration": 5,
    "start_time": "2022-03-30T13:54:13.858Z"
   },
   {
    "duration": 153,
    "start_time": "2022-03-30T13:54:13.866Z"
   },
   {
    "duration": 137,
    "start_time": "2022-03-30T13:54:14.021Z"
   },
   {
    "duration": 6,
    "start_time": "2022-03-30T13:54:14.159Z"
   },
   {
    "duration": 1377,
    "start_time": "2022-03-30T13:54:14.166Z"
   },
   {
    "duration": 1139,
    "start_time": "2022-03-30T13:54:15.544Z"
   },
   {
    "duration": 136,
    "start_time": "2022-03-30T13:54:16.687Z"
   },
   {
    "duration": 31,
    "start_time": "2022-03-30T13:54:16.824Z"
   },
   {
    "duration": 52,
    "start_time": "2022-03-30T13:54:16.856Z"
   },
   {
    "duration": 23,
    "start_time": "2022-03-30T13:54:16.909Z"
   },
   {
    "duration": 5,
    "start_time": "2022-03-30T13:54:16.934Z"
   },
   {
    "duration": 6,
    "start_time": "2022-03-30T13:54:16.940Z"
   },
   {
    "duration": 38,
    "start_time": "2022-03-30T13:54:16.948Z"
   },
   {
    "duration": 6,
    "start_time": "2022-03-30T13:55:15.408Z"
   },
   {
    "duration": 6,
    "start_time": "2022-03-30T13:55:23.395Z"
   },
   {
    "duration": 6,
    "start_time": "2022-03-30T13:56:21.077Z"
   },
   {
    "duration": 6,
    "start_time": "2022-03-30T13:57:27.792Z"
   },
   {
    "duration": 1275,
    "start_time": "2022-03-30T14:50:54.299Z"
   },
   {
    "duration": 282,
    "start_time": "2022-03-30T14:50:55.576Z"
   },
   {
    "duration": 24,
    "start_time": "2022-03-30T14:50:55.864Z"
   },
   {
    "duration": 5,
    "start_time": "2022-03-30T14:50:55.891Z"
   },
   {
    "duration": 10,
    "start_time": "2022-03-30T14:50:55.897Z"
   },
   {
    "duration": 33,
    "start_time": "2022-03-30T14:50:55.908Z"
   },
   {
    "duration": 15,
    "start_time": "2022-03-30T14:50:55.943Z"
   },
   {
    "duration": 26,
    "start_time": "2022-03-30T14:50:55.960Z"
   },
   {
    "duration": 8,
    "start_time": "2022-03-30T14:50:55.990Z"
   },
   {
    "duration": 14,
    "start_time": "2022-03-30T14:50:56.000Z"
   },
   {
    "duration": 17,
    "start_time": "2022-03-30T14:50:56.018Z"
   },
   {
    "duration": 28,
    "start_time": "2022-03-30T14:50:56.038Z"
   },
   {
    "duration": 19,
    "start_time": "2022-03-30T14:50:56.068Z"
   },
   {
    "duration": 15,
    "start_time": "2022-03-30T14:50:56.088Z"
   },
   {
    "duration": 15,
    "start_time": "2022-03-30T14:50:56.106Z"
   },
   {
    "duration": 6,
    "start_time": "2022-03-30T14:50:56.122Z"
   },
   {
    "duration": 14,
    "start_time": "2022-03-30T14:50:56.129Z"
   },
   {
    "duration": 7,
    "start_time": "2022-03-30T14:50:56.145Z"
   },
   {
    "duration": 40,
    "start_time": "2022-03-30T14:50:56.154Z"
   },
   {
    "duration": 215,
    "start_time": "2022-03-30T14:50:56.197Z"
   },
   {
    "duration": 17,
    "start_time": "2022-03-30T14:50:56.414Z"
   },
   {
    "duration": 345,
    "start_time": "2022-03-30T14:50:56.432Z"
   },
   {
    "duration": 166,
    "start_time": "2022-03-30T14:50:56.779Z"
   },
   {
    "duration": 6,
    "start_time": "2022-03-30T14:50:56.947Z"
   },
   {
    "duration": 251,
    "start_time": "2022-03-30T14:50:56.954Z"
   },
   {
    "duration": 265,
    "start_time": "2022-03-30T14:50:57.207Z"
   },
   {
    "duration": 5,
    "start_time": "2022-03-30T14:50:57.480Z"
   },
   {
    "duration": 198,
    "start_time": "2022-03-30T14:50:57.488Z"
   },
   {
    "duration": 213,
    "start_time": "2022-03-30T14:50:57.688Z"
   },
   {
    "duration": 8,
    "start_time": "2022-03-30T14:50:57.903Z"
   },
   {
    "duration": 1254,
    "start_time": "2022-03-30T14:50:57.912Z"
   },
   {
    "duration": 926,
    "start_time": "2022-03-30T14:50:59.168Z"
   },
   {
    "duration": 137,
    "start_time": "2022-03-30T14:51:00.096Z"
   },
   {
    "duration": 48,
    "start_time": "2022-03-30T14:51:00.235Z"
   },
   {
    "duration": 34,
    "start_time": "2022-03-30T14:51:00.285Z"
   },
   {
    "duration": 27,
    "start_time": "2022-03-30T14:51:00.321Z"
   },
   {
    "duration": 35,
    "start_time": "2022-03-30T14:51:00.350Z"
   },
   {
    "duration": 17,
    "start_time": "2022-03-30T14:51:00.386Z"
   },
   {
    "duration": 28,
    "start_time": "2022-03-30T14:51:00.404Z"
   },
   {
    "duration": 14,
    "start_time": "2022-03-30T14:51:00.434Z"
   },
   {
    "duration": 1361,
    "start_time": "2022-04-10T16:10:15.691Z"
   },
   {
    "duration": 159,
    "start_time": "2022-04-10T16:10:17.055Z"
   },
   {
    "duration": 33,
    "start_time": "2022-04-10T16:10:17.217Z"
   },
   {
    "duration": 16,
    "start_time": "2022-04-10T16:10:17.252Z"
   },
   {
    "duration": 5,
    "start_time": "2022-04-10T16:10:17.270Z"
   },
   {
    "duration": 24,
    "start_time": "2022-04-10T16:10:17.277Z"
   },
   {
    "duration": 18,
    "start_time": "2022-04-10T16:10:17.303Z"
   },
   {
    "duration": 56,
    "start_time": "2022-04-10T16:10:17.323Z"
   },
   {
    "duration": 9,
    "start_time": "2022-04-10T16:10:17.381Z"
   },
   {
    "duration": 9,
    "start_time": "2022-04-10T16:10:17.393Z"
   },
   {
    "duration": 10,
    "start_time": "2022-04-10T16:10:17.404Z"
   },
   {
    "duration": 66,
    "start_time": "2022-04-10T16:10:17.416Z"
   },
   {
    "duration": 9,
    "start_time": "2022-04-10T16:10:17.484Z"
   },
   {
    "duration": 8,
    "start_time": "2022-04-10T16:10:17.495Z"
   },
   {
    "duration": 16,
    "start_time": "2022-04-10T16:10:17.505Z"
   },
   {
    "duration": 7,
    "start_time": "2022-04-10T16:10:17.524Z"
   },
   {
    "duration": 46,
    "start_time": "2022-04-10T16:10:17.533Z"
   },
   {
    "duration": 5,
    "start_time": "2022-04-10T16:10:17.581Z"
   },
   {
    "duration": 32,
    "start_time": "2022-04-10T16:10:17.588Z"
   },
   {
    "duration": 256,
    "start_time": "2022-04-10T16:10:17.622Z"
   },
   {
    "duration": 24,
    "start_time": "2022-04-10T16:10:17.880Z"
   },
   {
    "duration": 621,
    "start_time": "2022-04-10T16:10:17.906Z"
   },
   {
    "duration": 288,
    "start_time": "2022-04-10T16:10:18.529Z"
   },
   {
    "duration": 7,
    "start_time": "2022-04-10T16:10:18.820Z"
   },
   {
    "duration": 400,
    "start_time": "2022-04-10T16:10:18.829Z"
   },
   {
    "duration": 295,
    "start_time": "2022-04-10T16:10:19.231Z"
   },
   {
    "duration": 8,
    "start_time": "2022-04-10T16:10:19.528Z"
   },
   {
    "duration": 220,
    "start_time": "2022-04-10T16:10:19.540Z"
   },
   {
    "duration": 219,
    "start_time": "2022-04-10T16:10:19.762Z"
   },
   {
    "duration": 8,
    "start_time": "2022-04-10T16:10:19.983Z"
   },
   {
    "duration": 1534,
    "start_time": "2022-04-10T16:10:19.993Z"
   },
   {
    "duration": 1590,
    "start_time": "2022-04-10T16:10:21.530Z"
   },
   {
    "duration": 247,
    "start_time": "2022-04-10T16:10:23.123Z"
   },
   {
    "duration": 60,
    "start_time": "2022-04-10T16:10:23.372Z"
   },
   {
    "duration": 84,
    "start_time": "2022-04-10T16:10:23.435Z"
   },
   {
    "duration": 77,
    "start_time": "2022-04-10T16:10:23.521Z"
   },
   {
    "duration": 10,
    "start_time": "2022-04-10T16:10:23.601Z"
   },
   {
    "duration": 10,
    "start_time": "2022-04-10T16:10:23.614Z"
   },
   {
    "duration": 52,
    "start_time": "2022-04-10T16:10:23.626Z"
   },
   {
    "duration": 9,
    "start_time": "2022-04-10T16:10:23.680Z"
   },
   {
    "duration": 1231,
    "start_time": "2022-04-10T22:04:45.953Z"
   },
   {
    "duration": 137,
    "start_time": "2022-04-10T22:04:47.186Z"
   },
   {
    "duration": 21,
    "start_time": "2022-04-10T22:04:47.325Z"
   },
   {
    "duration": 3,
    "start_time": "2022-04-10T22:04:47.348Z"
   },
   {
    "duration": 4,
    "start_time": "2022-04-10T22:04:47.354Z"
   },
   {
    "duration": 13,
    "start_time": "2022-04-10T22:04:47.359Z"
   },
   {
    "duration": 10,
    "start_time": "2022-04-10T22:04:47.373Z"
   },
   {
    "duration": 16,
    "start_time": "2022-04-10T22:04:47.385Z"
   },
   {
    "duration": 5,
    "start_time": "2022-04-10T22:04:47.402Z"
   },
   {
    "duration": 5,
    "start_time": "2022-04-10T22:04:47.408Z"
   },
   {
    "duration": 7,
    "start_time": "2022-04-10T22:04:47.415Z"
   },
   {
    "duration": 48,
    "start_time": "2022-04-10T22:04:47.424Z"
   },
   {
    "duration": 7,
    "start_time": "2022-04-10T22:04:47.473Z"
   },
   {
    "duration": 4,
    "start_time": "2022-04-10T22:04:47.484Z"
   },
   {
    "duration": 12,
    "start_time": "2022-04-10T22:04:47.490Z"
   },
   {
    "duration": 7,
    "start_time": "2022-04-10T22:04:47.503Z"
   },
   {
    "duration": 10,
    "start_time": "2022-04-10T22:04:47.511Z"
   },
   {
    "duration": 4,
    "start_time": "2022-04-10T22:04:47.523Z"
   },
   {
    "duration": 47,
    "start_time": "2022-04-10T22:04:47.529Z"
   },
   {
    "duration": 135,
    "start_time": "2022-04-10T22:04:47.578Z"
   },
   {
    "duration": 16,
    "start_time": "2022-04-10T22:04:47.715Z"
   },
   {
    "duration": 323,
    "start_time": "2022-04-10T22:04:47.732Z"
   },
   {
    "duration": 146,
    "start_time": "2022-04-10T22:04:48.057Z"
   },
   {
    "duration": 5,
    "start_time": "2022-04-10T22:04:48.205Z"
   },
   {
    "duration": 216,
    "start_time": "2022-04-10T22:04:48.211Z"
   },
   {
    "duration": 170,
    "start_time": "2022-04-10T22:04:48.428Z"
   },
   {
    "duration": 5,
    "start_time": "2022-04-10T22:04:48.599Z"
   },
   {
    "duration": 128,
    "start_time": "2022-04-10T22:04:48.605Z"
   },
   {
    "duration": 125,
    "start_time": "2022-04-10T22:04:48.735Z"
   },
   {
    "duration": 10,
    "start_time": "2022-04-10T22:04:48.861Z"
   },
   {
    "duration": 846,
    "start_time": "2022-04-10T22:04:48.873Z"
   },
   {
    "duration": 901,
    "start_time": "2022-04-10T22:04:49.721Z"
   },
   {
    "duration": 124,
    "start_time": "2022-04-10T22:04:50.623Z"
   },
   {
    "duration": 38,
    "start_time": "2022-04-10T22:04:50.749Z"
   },
   {
    "duration": 36,
    "start_time": "2022-04-10T22:04:50.788Z"
   },
   {
    "duration": 53,
    "start_time": "2022-04-10T22:04:50.826Z"
   },
   {
    "duration": 6,
    "start_time": "2022-04-10T22:04:50.881Z"
   },
   {
    "duration": 7,
    "start_time": "2022-04-10T22:04:50.889Z"
   },
   {
    "duration": 6,
    "start_time": "2022-04-10T22:04:50.897Z"
   },
   {
    "duration": 6,
    "start_time": "2022-04-10T22:04:50.905Z"
   },
   {
    "duration": 3,
    "start_time": "2022-04-10T22:05:57.705Z"
   },
   {
    "duration": 159,
    "start_time": "2022-04-10T22:05:57.710Z"
   },
   {
    "duration": 17,
    "start_time": "2022-04-10T22:05:57.871Z"
   },
   {
    "duration": 7,
    "start_time": "2022-04-10T22:05:57.890Z"
   },
   {
    "duration": 7,
    "start_time": "2022-04-10T22:05:57.898Z"
   },
   {
    "duration": 13,
    "start_time": "2022-04-10T22:05:57.906Z"
   },
   {
    "duration": 12,
    "start_time": "2022-04-10T22:05:57.920Z"
   },
   {
    "duration": 42,
    "start_time": "2022-04-10T22:05:57.934Z"
   },
   {
    "duration": 5,
    "start_time": "2022-04-10T22:05:57.978Z"
   },
   {
    "duration": 7,
    "start_time": "2022-04-10T22:05:57.985Z"
   },
   {
    "duration": 49,
    "start_time": "2022-04-10T22:05:57.994Z"
   },
   {
    "duration": 20,
    "start_time": "2022-04-10T22:06:20.921Z"
   },
   {
    "duration": 2530,
    "start_time": "2022-04-11T09:16:13.013Z"
   },
   {
    "duration": 264,
    "start_time": "2022-04-11T09:16:15.547Z"
   },
   {
    "duration": 49,
    "start_time": "2022-04-11T09:16:15.814Z"
   },
   {
    "duration": 6,
    "start_time": "2022-04-11T09:16:15.866Z"
   },
   {
    "duration": 10,
    "start_time": "2022-04-11T09:16:15.875Z"
   },
   {
    "duration": 22,
    "start_time": "2022-04-11T09:16:15.887Z"
   },
   {
    "duration": 61,
    "start_time": "2022-04-11T09:16:15.912Z"
   },
   {
    "duration": 33,
    "start_time": "2022-04-11T09:16:15.975Z"
   },
   {
    "duration": 9,
    "start_time": "2022-04-11T09:16:16.013Z"
   },
   {
    "duration": 11,
    "start_time": "2022-04-11T09:16:16.053Z"
   },
   {
    "duration": 12,
    "start_time": "2022-04-11T09:16:16.067Z"
   },
   {
    "duration": 37,
    "start_time": "2022-04-11T09:16:16.081Z"
   },
   {
    "duration": 10,
    "start_time": "2022-04-11T09:18:41.370Z"
   },
   {
    "duration": 7,
    "start_time": "2022-04-11T09:18:45.804Z"
   },
   {
    "duration": 7,
    "start_time": "2022-04-11T09:18:58.928Z"
   },
   {
    "duration": 5,
    "start_time": "2022-04-11T09:20:26.040Z"
   },
   {
    "duration": 5,
    "start_time": "2022-04-11T09:20:28.988Z"
   },
   {
    "duration": 48,
    "start_time": "2022-04-11T09:20:31.833Z"
   },
   {
    "duration": 171,
    "start_time": "2022-04-11T09:26:57.539Z"
   },
   {
    "duration": 9,
    "start_time": "2022-04-11T09:27:11.430Z"
   },
   {
    "duration": 10,
    "start_time": "2022-04-11T09:27:13.861Z"
   },
   {
    "duration": 24,
    "start_time": "2022-04-11T09:27:23.905Z"
   },
   {
    "duration": 24,
    "start_time": "2022-04-11T09:27:52.432Z"
   },
   {
    "duration": 10,
    "start_time": "2022-04-11T09:28:03.172Z"
   },
   {
    "duration": 7,
    "start_time": "2022-04-11T09:29:45.277Z"
   },
   {
    "duration": 8,
    "start_time": "2022-04-11T09:29:52.024Z"
   },
   {
    "duration": 14,
    "start_time": "2022-04-11T09:30:25.632Z"
   },
   {
    "duration": 6,
    "start_time": "2022-04-11T09:30:35.066Z"
   },
   {
    "duration": 6,
    "start_time": "2022-04-11T09:30:38.399Z"
   },
   {
    "duration": 7,
    "start_time": "2022-04-11T09:31:03.281Z"
   },
   {
    "duration": 5,
    "start_time": "2022-04-11T09:33:49.263Z"
   },
   {
    "duration": 236,
    "start_time": "2022-04-11T09:33:49.270Z"
   },
   {
    "duration": 30,
    "start_time": "2022-04-11T09:33:49.508Z"
   },
   {
    "duration": 6,
    "start_time": "2022-04-11T09:33:49.541Z"
   },
   {
    "duration": 6,
    "start_time": "2022-04-11T09:33:49.549Z"
   },
   {
    "duration": 19,
    "start_time": "2022-04-11T09:33:49.557Z"
   },
   {
    "duration": 19,
    "start_time": "2022-04-11T09:33:49.578Z"
   },
   {
    "duration": 65,
    "start_time": "2022-04-11T09:33:49.599Z"
   },
   {
    "duration": 10,
    "start_time": "2022-04-11T09:33:49.668Z"
   },
   {
    "duration": 11,
    "start_time": "2022-04-11T09:33:49.681Z"
   },
   {
    "duration": 10,
    "start_time": "2022-04-11T09:33:49.694Z"
   },
   {
    "duration": 66,
    "start_time": "2022-04-11T09:33:49.706Z"
   },
   {
    "duration": 10,
    "start_time": "2022-04-11T09:33:49.774Z"
   },
   {
    "duration": 6,
    "start_time": "2022-04-11T09:33:49.786Z"
   },
   {
    "duration": 7,
    "start_time": "2022-04-11T09:33:49.794Z"
   },
   {
    "duration": 48,
    "start_time": "2022-04-11T09:33:49.803Z"
   },
   {
    "duration": 9,
    "start_time": "2022-04-11T09:33:49.853Z"
   },
   {
    "duration": 21,
    "start_time": "2022-04-11T09:33:49.863Z"
   },
   {
    "duration": 6,
    "start_time": "2022-04-11T09:33:49.886Z"
   },
   {
    "duration": 31,
    "start_time": "2022-04-11T09:33:59.052Z"
   },
   {
    "duration": 574,
    "start_time": "2022-04-11T09:35:29.993Z"
   },
   {
    "duration": 7,
    "start_time": "2022-04-11T09:35:42.783Z"
   },
   {
    "duration": 19,
    "start_time": "2022-04-11T09:35:52.649Z"
   },
   {
    "duration": 5,
    "start_time": "2022-04-11T09:36:01.802Z"
   },
   {
    "duration": 31,
    "start_time": "2022-04-11T09:36:02.686Z"
   },
   {
    "duration": 6,
    "start_time": "2022-04-11T09:36:24.144Z"
   },
   {
    "duration": 8,
    "start_time": "2022-04-11T09:36:30.743Z"
   },
   {
    "duration": 7,
    "start_time": "2022-04-11T09:36:33.870Z"
   },
   {
    "duration": 5,
    "start_time": "2022-04-11T09:38:17.667Z"
   },
   {
    "duration": 7,
    "start_time": "2022-04-11T09:38:20.793Z"
   },
   {
    "duration": 10,
    "start_time": "2022-04-11T09:38:22.278Z"
   },
   {
    "duration": 5,
    "start_time": "2022-04-11T09:38:22.826Z"
   },
   {
    "duration": 8,
    "start_time": "2022-04-11T09:38:23.502Z"
   },
   {
    "duration": 17,
    "start_time": "2022-04-11T09:38:24.540Z"
   },
   {
    "duration": 5,
    "start_time": "2022-04-11T09:38:34.470Z"
   },
   {
    "duration": 32,
    "start_time": "2022-04-11T09:38:35.821Z"
   },
   {
    "duration": 6,
    "start_time": "2022-04-11T09:39:52.696Z"
   },
   {
    "duration": 33,
    "start_time": "2022-04-11T09:40:00.074Z"
   },
   {
    "duration": 4,
    "start_time": "2022-04-11T09:41:09.058Z"
   },
   {
    "duration": 155,
    "start_time": "2022-04-11T09:41:09.066Z"
   },
   {
    "duration": 31,
    "start_time": "2022-04-11T09:41:09.223Z"
   },
   {
    "duration": 10,
    "start_time": "2022-04-11T09:41:09.256Z"
   },
   {
    "duration": 11,
    "start_time": "2022-04-11T09:41:09.268Z"
   },
   {
    "duration": 26,
    "start_time": "2022-04-11T09:41:09.281Z"
   },
   {
    "duration": 41,
    "start_time": "2022-04-11T09:41:09.309Z"
   },
   {
    "duration": 34,
    "start_time": "2022-04-11T09:41:09.352Z"
   },
   {
    "duration": 9,
    "start_time": "2022-04-11T09:41:09.389Z"
   },
   {
    "duration": 9,
    "start_time": "2022-04-11T09:41:09.400Z"
   },
   {
    "duration": 38,
    "start_time": "2022-04-11T09:41:09.410Z"
   },
   {
    "duration": 45,
    "start_time": "2022-04-11T09:41:09.449Z"
   },
   {
    "duration": 9,
    "start_time": "2022-04-11T09:41:09.496Z"
   },
   {
    "duration": 8,
    "start_time": "2022-04-11T09:41:09.507Z"
   },
   {
    "duration": 26,
    "start_time": "2022-04-11T09:41:09.517Z"
   },
   {
    "duration": 16,
    "start_time": "2022-04-11T09:41:09.545Z"
   },
   {
    "duration": 5,
    "start_time": "2022-04-11T09:41:09.562Z"
   },
   {
    "duration": 10,
    "start_time": "2022-04-11T09:41:09.569Z"
   },
   {
    "duration": 18,
    "start_time": "2022-04-11T09:41:09.581Z"
   },
   {
    "duration": 6,
    "start_time": "2022-04-11T09:41:09.601Z"
   },
   {
    "duration": 34,
    "start_time": "2022-04-11T09:41:09.644Z"
   },
   {
    "duration": 231,
    "start_time": "2022-04-11T09:49:02.132Z"
   },
   {
    "duration": 5,
    "start_time": "2022-04-11T09:49:35.794Z"
   },
   {
    "duration": 322,
    "start_time": "2022-04-11T09:49:35.801Z"
   },
   {
    "duration": 31,
    "start_time": "2022-04-11T09:49:36.125Z"
   },
   {
    "duration": 5,
    "start_time": "2022-04-11T09:49:36.159Z"
   },
   {
    "duration": 7,
    "start_time": "2022-04-11T09:49:36.166Z"
   },
   {
    "duration": 19,
    "start_time": "2022-04-11T09:49:36.175Z"
   },
   {
    "duration": 51,
    "start_time": "2022-04-11T09:49:36.196Z"
   },
   {
    "duration": 33,
    "start_time": "2022-04-11T09:49:36.249Z"
   },
   {
    "duration": 12,
    "start_time": "2022-04-11T09:49:36.285Z"
   },
   {
    "duration": 8,
    "start_time": "2022-04-11T09:49:36.300Z"
   },
   {
    "duration": 42,
    "start_time": "2022-04-11T09:49:36.310Z"
   },
   {
    "duration": 34,
    "start_time": "2022-04-11T09:49:36.354Z"
   },
   {
    "duration": 31,
    "start_time": "2022-04-11T09:49:58.729Z"
   },
   {
    "duration": 33,
    "start_time": "2022-04-11T09:50:21.915Z"
   },
   {
    "duration": 35,
    "start_time": "2022-04-11T09:52:01.773Z"
   },
   {
    "duration": 73,
    "start_time": "2022-04-11T09:52:56.467Z"
   },
   {
    "duration": 4,
    "start_time": "2022-04-11T09:54:20.041Z"
   },
   {
    "duration": 163,
    "start_time": "2022-04-11T09:54:20.048Z"
   },
   {
    "duration": 31,
    "start_time": "2022-04-11T09:54:20.213Z"
   },
   {
    "duration": 13,
    "start_time": "2022-04-11T09:54:20.246Z"
   },
   {
    "duration": 6,
    "start_time": "2022-04-11T09:54:20.262Z"
   },
   {
    "duration": 18,
    "start_time": "2022-04-11T09:54:20.270Z"
   },
   {
    "duration": 19,
    "start_time": "2022-04-11T09:54:20.290Z"
   },
   {
    "duration": 55,
    "start_time": "2022-04-11T09:54:20.311Z"
   },
   {
    "duration": 8,
    "start_time": "2022-04-11T09:54:20.368Z"
   },
   {
    "duration": 32,
    "start_time": "2022-04-11T09:54:20.379Z"
   },
   {
    "duration": 11,
    "start_time": "2022-04-11T09:54:20.413Z"
   },
   {
    "duration": 44,
    "start_time": "2022-04-11T09:54:20.426Z"
   },
   {
    "duration": 10,
    "start_time": "2022-04-11T09:54:20.472Z"
   },
   {
    "duration": 12,
    "start_time": "2022-04-11T09:54:20.486Z"
   },
   {
    "duration": 11,
    "start_time": "2022-04-11T09:54:20.500Z"
   },
   {
    "duration": 36,
    "start_time": "2022-04-11T09:54:20.513Z"
   },
   {
    "duration": 5,
    "start_time": "2022-04-11T09:54:20.551Z"
   },
   {
    "duration": 10,
    "start_time": "2022-04-11T09:54:20.558Z"
   },
   {
    "duration": 17,
    "start_time": "2022-04-11T09:54:20.570Z"
   },
   {
    "duration": 6,
    "start_time": "2022-04-11T09:54:20.589Z"
   },
   {
    "duration": 63,
    "start_time": "2022-04-11T09:54:20.597Z"
   },
   {
    "duration": 225,
    "start_time": "2022-04-11T09:54:20.662Z"
   },
   {
    "duration": 24,
    "start_time": "2022-04-11T09:54:20.890Z"
   },
   {
    "duration": 690,
    "start_time": "2022-04-11T09:54:20.917Z"
   },
   {
    "duration": 279,
    "start_time": "2022-04-11T09:54:21.610Z"
   },
   {
    "duration": 8,
    "start_time": "2022-04-11T09:54:21.892Z"
   },
   {
    "duration": 409,
    "start_time": "2022-04-11T09:54:21.903Z"
   },
   {
    "duration": 332,
    "start_time": "2022-04-11T09:54:22.315Z"
   },
   {
    "duration": 9,
    "start_time": "2022-04-11T09:54:22.649Z"
   },
   {
    "duration": 227,
    "start_time": "2022-04-11T09:54:22.661Z"
   },
   {
    "duration": 312,
    "start_time": "2022-04-11T09:54:22.891Z"
   },
   {
    "duration": 8,
    "start_time": "2022-04-11T09:54:23.206Z"
   },
   {
    "duration": 1655,
    "start_time": "2022-04-11T09:54:23.217Z"
   },
   {
    "duration": 1806,
    "start_time": "2022-04-11T09:54:24.875Z"
   },
   {
    "duration": 244,
    "start_time": "2022-04-11T09:54:26.683Z"
   },
   {
    "duration": 67,
    "start_time": "2022-04-11T09:54:26.930Z"
   },
   {
    "duration": 86,
    "start_time": "2022-04-11T09:54:26.999Z"
   },
   {
    "duration": 84,
    "start_time": "2022-04-11T09:54:27.088Z"
   },
   {
    "duration": 10,
    "start_time": "2022-04-11T09:54:27.174Z"
   },
   {
    "duration": 11,
    "start_time": "2022-04-11T09:54:27.187Z"
   },
   {
    "duration": 43,
    "start_time": "2022-04-11T09:54:27.206Z"
   },
   {
    "duration": 11,
    "start_time": "2022-04-11T09:54:27.252Z"
   },
   {
    "duration": 192,
    "start_time": "2022-04-11T09:57:53.629Z"
   },
   {
    "duration": 11,
    "start_time": "2022-04-11T10:03:01.231Z"
   },
   {
    "duration": 293,
    "start_time": "2022-04-11T10:03:38.759Z"
   },
   {
    "duration": 11,
    "start_time": "2022-04-11T10:04:29.835Z"
   },
   {
    "duration": 303,
    "start_time": "2022-04-11T10:04:47.190Z"
   },
   {
    "duration": 7,
    "start_time": "2022-04-11T10:07:46.091Z"
   },
   {
    "duration": 205,
    "start_time": "2022-04-11T10:07:46.753Z"
   },
   {
    "duration": 219,
    "start_time": "2022-04-11T10:08:15.802Z"
   },
   {
    "duration": 9,
    "start_time": "2022-04-11T10:08:22.063Z"
   },
   {
    "duration": 1679,
    "start_time": "2022-04-11T10:08:38.605Z"
   },
   {
    "duration": 1881,
    "start_time": "2022-04-11T10:10:30.041Z"
   },
   {
    "duration": 214,
    "start_time": "2022-04-11T10:20:24.624Z"
   },
   {
    "duration": 19,
    "start_time": "2022-04-11T10:23:40.871Z"
   },
   {
    "duration": 31,
    "start_time": "2022-04-11T10:24:14.365Z"
   },
   {
    "duration": 32,
    "start_time": "2022-04-11T10:24:40.718Z"
   },
   {
    "duration": 346,
    "start_time": "2022-04-11T10:24:47.567Z"
   },
   {
    "duration": 243,
    "start_time": "2022-04-11T10:25:00.861Z"
   },
   {
    "duration": 32,
    "start_time": "2022-04-11T10:25:07.695Z"
   },
   {
    "duration": 34,
    "start_time": "2022-04-11T10:25:15.177Z"
   },
   {
    "duration": 50,
    "start_time": "2022-04-11T10:25:43.510Z"
   },
   {
    "duration": 30,
    "start_time": "2022-04-11T10:25:50.376Z"
   },
   {
    "duration": 374,
    "start_time": "2022-04-11T10:25:54.199Z"
   },
   {
    "duration": 30,
    "start_time": "2022-04-11T10:26:06.250Z"
   },
   {
    "duration": 31,
    "start_time": "2022-04-11T10:26:18.654Z"
   },
   {
    "duration": 31,
    "start_time": "2022-04-11T10:26:21.159Z"
   },
   {
    "duration": 32,
    "start_time": "2022-04-11T10:26:25.360Z"
   },
   {
    "duration": 207,
    "start_time": "2022-04-11T10:27:06.810Z"
   },
   {
    "duration": 212,
    "start_time": "2022-04-11T10:27:11.629Z"
   },
   {
    "duration": 31,
    "start_time": "2022-04-11T10:27:16.923Z"
   },
   {
    "duration": 29,
    "start_time": "2022-04-11T10:27:26.683Z"
   },
   {
    "duration": 34,
    "start_time": "2022-04-11T10:27:34.020Z"
   },
   {
    "duration": 31,
    "start_time": "2022-04-11T10:27:54.349Z"
   },
   {
    "duration": 28,
    "start_time": "2022-04-11T10:28:15.715Z"
   },
   {
    "duration": 30,
    "start_time": "2022-04-11T10:28:21.419Z"
   },
   {
    "duration": 30,
    "start_time": "2022-04-11T10:28:28.338Z"
   },
   {
    "duration": 31,
    "start_time": "2022-04-11T10:30:07.686Z"
   },
   {
    "duration": 19,
    "start_time": "2022-04-11T10:30:18.567Z"
   },
   {
    "duration": 24,
    "start_time": "2022-04-11T10:33:11.551Z"
   },
   {
    "duration": 361,
    "start_time": "2022-04-11T10:33:16.658Z"
   },
   {
    "duration": 237,
    "start_time": "2022-04-11T10:34:16.677Z"
   },
   {
    "duration": 252,
    "start_time": "2022-04-11T10:34:55.046Z"
   },
   {
    "duration": 56,
    "start_time": "2022-04-11T10:35:12.761Z"
   },
   {
    "duration": 277,
    "start_time": "2022-04-11T10:35:32.546Z"
   },
   {
    "duration": 328,
    "start_time": "2022-04-11T10:36:08.272Z"
   },
   {
    "duration": 348,
    "start_time": "2022-04-11T10:37:56.344Z"
   },
   {
    "duration": 213,
    "start_time": "2022-04-11T10:39:20.019Z"
   },
   {
    "duration": 252,
    "start_time": "2022-04-11T10:39:33.302Z"
   },
   {
    "duration": 246,
    "start_time": "2022-04-11T10:40:54.353Z"
   },
   {
    "duration": 235,
    "start_time": "2022-04-11T10:41:04.121Z"
   },
   {
    "duration": 224,
    "start_time": "2022-04-11T10:41:14.089Z"
   },
   {
    "duration": 302,
    "start_time": "2022-04-11T10:41:41.325Z"
   },
   {
    "duration": 44,
    "start_time": "2022-04-11T10:42:16.520Z"
   },
   {
    "duration": 28,
    "start_time": "2022-04-11T10:42:28.232Z"
   },
   {
    "duration": 46,
    "start_time": "2022-04-11T10:42:36.455Z"
   },
   {
    "duration": 666,
    "start_time": "2022-04-11T10:43:17.279Z"
   },
   {
    "duration": 8,
    "start_time": "2022-04-11T10:49:15.406Z"
   },
   {
    "duration": 14,
    "start_time": "2022-04-11T10:49:26.142Z"
   },
   {
    "duration": 9,
    "start_time": "2022-04-11T10:49:32.717Z"
   },
   {
    "duration": 15,
    "start_time": "2022-04-11T10:51:11.480Z"
   },
   {
    "duration": 15,
    "start_time": "2022-04-11T10:53:17.890Z"
   },
   {
    "duration": 9,
    "start_time": "2022-04-11T10:53:26.405Z"
   },
   {
    "duration": 15,
    "start_time": "2022-04-11T10:53:43.241Z"
   },
   {
    "duration": 9,
    "start_time": "2022-04-11T10:53:47.230Z"
   },
   {
    "duration": 10,
    "start_time": "2022-04-11T10:54:15.268Z"
   },
   {
    "duration": 10,
    "start_time": "2022-04-11T10:55:14.329Z"
   },
   {
    "duration": 10,
    "start_time": "2022-04-11T10:55:33.341Z"
   },
   {
    "duration": 9,
    "start_time": "2022-04-11T10:55:42.002Z"
   },
   {
    "duration": 9,
    "start_time": "2022-04-11T10:59:20.410Z"
   },
   {
    "duration": 11,
    "start_time": "2022-04-11T10:59:47.464Z"
   },
   {
    "duration": 10,
    "start_time": "2022-04-11T11:00:09.442Z"
   },
   {
    "duration": 1480,
    "start_time": "2022-04-11T11:19:45.044Z"
   },
   {
    "duration": 663,
    "start_time": "2022-04-11T11:19:46.527Z"
   },
   {
    "duration": 37,
    "start_time": "2022-04-11T11:19:47.193Z"
   },
   {
    "duration": 13,
    "start_time": "2022-04-11T11:19:47.233Z"
   },
   {
    "duration": 15,
    "start_time": "2022-04-11T11:19:47.248Z"
   },
   {
    "duration": 24,
    "start_time": "2022-04-11T11:19:47.265Z"
   },
   {
    "duration": 19,
    "start_time": "2022-04-11T11:19:47.291Z"
   },
   {
    "duration": 54,
    "start_time": "2022-04-11T11:19:47.311Z"
   },
   {
    "duration": 10,
    "start_time": "2022-04-11T11:19:47.367Z"
   },
   {
    "duration": 9,
    "start_time": "2022-04-11T11:19:47.381Z"
   },
   {
    "duration": 11,
    "start_time": "2022-04-11T11:19:47.393Z"
   },
   {
    "duration": 73,
    "start_time": "2022-04-11T11:19:47.406Z"
   },
   {
    "duration": 11,
    "start_time": "2022-04-11T11:19:47.482Z"
   },
   {
    "duration": 8,
    "start_time": "2022-04-11T11:19:47.496Z"
   },
   {
    "duration": 41,
    "start_time": "2022-04-11T11:19:47.507Z"
   },
   {
    "duration": 16,
    "start_time": "2022-04-11T11:19:47.550Z"
   },
   {
    "duration": 6,
    "start_time": "2022-04-11T11:19:47.569Z"
   },
   {
    "duration": 17,
    "start_time": "2022-04-11T11:19:47.578Z"
   },
   {
    "duration": 57,
    "start_time": "2022-04-11T11:19:47.598Z"
   },
   {
    "duration": 7,
    "start_time": "2022-04-11T11:19:47.658Z"
   },
   {
    "duration": 41,
    "start_time": "2022-04-11T11:19:47.668Z"
   },
   {
    "duration": 256,
    "start_time": "2022-04-11T11:19:47.712Z"
   },
   {
    "duration": 24,
    "start_time": "2022-04-11T11:19:47.970Z"
   },
   {
    "duration": 550,
    "start_time": "2022-04-11T11:19:47.997Z"
   },
   {
    "duration": 294,
    "start_time": "2022-04-11T11:19:48.549Z"
   },
   {
    "duration": 7,
    "start_time": "2022-04-11T11:19:48.845Z"
   },
   {
    "duration": 474,
    "start_time": "2022-04-11T11:19:48.854Z"
   },
   {
    "duration": 328,
    "start_time": "2022-04-11T11:19:49.333Z"
   },
   {
    "duration": 324,
    "start_time": "2022-04-11T11:19:49.664Z"
   },
   {
    "duration": 8,
    "start_time": "2022-04-11T11:19:49.990Z"
   },
   {
    "duration": 300,
    "start_time": "2022-04-11T11:19:50.000Z"
   },
   {
    "duration": 241,
    "start_time": "2022-04-11T11:19:50.302Z"
   },
   {
    "duration": 9,
    "start_time": "2022-04-11T11:19:50.545Z"
   },
   {
    "duration": 1931,
    "start_time": "2022-04-11T11:19:50.557Z"
   },
   {
    "duration": 1902,
    "start_time": "2022-04-11T11:19:52.490Z"
   },
   {
    "duration": 307,
    "start_time": "2022-04-11T11:19:54.396Z"
   },
   {
    "duration": 44,
    "start_time": "2022-04-11T11:19:54.707Z"
   },
   {
    "duration": 99,
    "start_time": "2022-04-11T11:19:54.754Z"
   },
   {
    "duration": 267,
    "start_time": "2022-04-11T11:19:54.856Z"
   },
   {
    "duration": 65,
    "start_time": "2022-04-11T11:19:55.125Z"
   },
   {
    "duration": 267,
    "start_time": "2022-04-11T11:19:55.192Z"
   },
   {
    "duration": 42,
    "start_time": "2022-04-11T11:19:55.462Z"
   },
   {
    "duration": 501,
    "start_time": "2022-04-11T11:19:55.506Z"
   },
   {
    "duration": 9,
    "start_time": "2022-04-11T11:19:56.009Z"
   },
   {
    "duration": 25,
    "start_time": "2022-04-11T11:19:56.021Z"
   },
   {
    "duration": 14,
    "start_time": "2022-04-11T11:19:56.048Z"
   },
   {
    "duration": 15,
    "start_time": "2022-04-11T11:19:56.064Z"
   },
   {
    "duration": 1746,
    "start_time": "2022-04-13T13:35:22.088Z"
   },
   {
    "duration": 219,
    "start_time": "2022-04-13T13:35:23.837Z"
   },
   {
    "duration": 35,
    "start_time": "2022-04-13T13:35:24.058Z"
   },
   {
    "duration": 5,
    "start_time": "2022-04-13T13:35:24.096Z"
   },
   {
    "duration": 10,
    "start_time": "2022-04-13T13:35:24.103Z"
   },
   {
    "duration": 22,
    "start_time": "2022-04-13T13:35:24.115Z"
   },
   {
    "duration": 19,
    "start_time": "2022-04-13T13:35:24.139Z"
   },
   {
    "duration": 29,
    "start_time": "2022-04-13T13:35:24.160Z"
   },
   {
    "duration": 8,
    "start_time": "2022-04-13T13:35:24.192Z"
   },
   {
    "duration": 15,
    "start_time": "2022-04-13T13:35:24.204Z"
   },
   {
    "duration": 13,
    "start_time": "2022-04-13T13:35:24.221Z"
   },
   {
    "duration": 38,
    "start_time": "2022-04-13T13:35:24.235Z"
   },
   {
    "duration": 9,
    "start_time": "2022-04-13T13:35:24.275Z"
   },
   {
    "duration": 8,
    "start_time": "2022-04-13T13:35:24.286Z"
   },
   {
    "duration": 7,
    "start_time": "2022-04-13T13:35:24.296Z"
   },
   {
    "duration": 16,
    "start_time": "2022-04-13T13:35:24.305Z"
   },
   {
    "duration": 158,
    "start_time": "2022-04-13T13:35:24.323Z"
   },
   {
    "duration": 0,
    "start_time": "2022-04-13T13:35:24.485Z"
   },
   {
    "duration": 0,
    "start_time": "2022-04-13T13:35:24.486Z"
   },
   {
    "duration": 0,
    "start_time": "2022-04-13T13:35:24.488Z"
   },
   {
    "duration": 0,
    "start_time": "2022-04-13T13:35:24.490Z"
   },
   {
    "duration": 0,
    "start_time": "2022-04-13T13:35:24.491Z"
   },
   {
    "duration": 0,
    "start_time": "2022-04-13T13:35:24.492Z"
   },
   {
    "duration": 1,
    "start_time": "2022-04-13T13:35:24.493Z"
   },
   {
    "duration": 0,
    "start_time": "2022-04-13T13:35:24.495Z"
   },
   {
    "duration": 0,
    "start_time": "2022-04-13T13:35:24.497Z"
   },
   {
    "duration": 0,
    "start_time": "2022-04-13T13:35:24.498Z"
   },
   {
    "duration": 0,
    "start_time": "2022-04-13T13:35:24.500Z"
   },
   {
    "duration": 0,
    "start_time": "2022-04-13T13:35:24.501Z"
   },
   {
    "duration": 0,
    "start_time": "2022-04-13T13:35:24.503Z"
   },
   {
    "duration": 0,
    "start_time": "2022-04-13T13:35:24.504Z"
   },
   {
    "duration": 0,
    "start_time": "2022-04-13T13:35:24.506Z"
   },
   {
    "duration": 0,
    "start_time": "2022-04-13T13:35:24.508Z"
   },
   {
    "duration": 0,
    "start_time": "2022-04-13T13:35:24.510Z"
   },
   {
    "duration": 0,
    "start_time": "2022-04-13T13:35:24.511Z"
   },
   {
    "duration": 0,
    "start_time": "2022-04-13T13:35:24.512Z"
   },
   {
    "duration": 0,
    "start_time": "2022-04-13T13:35:24.514Z"
   },
   {
    "duration": 0,
    "start_time": "2022-04-13T13:35:24.516Z"
   },
   {
    "duration": 0,
    "start_time": "2022-04-13T13:35:24.517Z"
   },
   {
    "duration": 0,
    "start_time": "2022-04-13T13:35:24.519Z"
   },
   {
    "duration": 0,
    "start_time": "2022-04-13T13:35:24.521Z"
   },
   {
    "duration": 0,
    "start_time": "2022-04-13T13:35:24.522Z"
   },
   {
    "duration": 0,
    "start_time": "2022-04-13T13:35:24.552Z"
   },
   {
    "duration": 0,
    "start_time": "2022-04-13T13:35:24.553Z"
   },
   {
    "duration": 0,
    "start_time": "2022-04-13T13:35:24.554Z"
   },
   {
    "duration": 0,
    "start_time": "2022-04-13T13:35:24.556Z"
   },
   {
    "duration": 3,
    "start_time": "2022-04-13T13:36:05.988Z"
   },
   {
    "duration": 156,
    "start_time": "2022-04-13T13:36:05.994Z"
   },
   {
    "duration": 31,
    "start_time": "2022-04-13T13:36:06.153Z"
   },
   {
    "duration": 10,
    "start_time": "2022-04-13T13:36:06.187Z"
   },
   {
    "duration": 9,
    "start_time": "2022-04-13T13:36:06.199Z"
   },
   {
    "duration": 44,
    "start_time": "2022-04-13T13:36:06.210Z"
   },
   {
    "duration": 20,
    "start_time": "2022-04-13T13:36:06.256Z"
   },
   {
    "duration": 31,
    "start_time": "2022-04-13T13:36:06.278Z"
   },
   {
    "duration": 41,
    "start_time": "2022-04-13T13:36:06.313Z"
   },
   {
    "duration": 11,
    "start_time": "2022-04-13T13:36:06.356Z"
   },
   {
    "duration": 12,
    "start_time": "2022-04-13T13:36:06.369Z"
   },
   {
    "duration": 40,
    "start_time": "2022-04-13T13:36:06.383Z"
   },
   {
    "duration": 11,
    "start_time": "2022-04-13T13:36:06.452Z"
   },
   {
    "duration": 11,
    "start_time": "2022-04-13T13:36:06.465Z"
   },
   {
    "duration": 7,
    "start_time": "2022-04-13T13:36:06.478Z"
   },
   {
    "duration": 18,
    "start_time": "2022-04-13T13:36:06.487Z"
   },
   {
    "duration": 3,
    "start_time": "2022-04-13T13:36:06.507Z"
   },
   {
    "duration": 40,
    "start_time": "2022-04-13T13:36:06.512Z"
   },
   {
    "duration": 7,
    "start_time": "2022-04-13T13:36:06.554Z"
   },
   {
    "duration": 34,
    "start_time": "2022-04-13T13:36:06.563Z"
   },
   {
    "duration": 291,
    "start_time": "2022-04-13T13:36:06.600Z"
   },
   {
    "duration": 24,
    "start_time": "2022-04-13T13:36:06.893Z"
   },
   {
    "duration": 634,
    "start_time": "2022-04-13T13:36:06.918Z"
   },
   {
    "duration": 267,
    "start_time": "2022-04-13T13:36:07.557Z"
   },
   {
    "duration": 8,
    "start_time": "2022-04-13T13:36:07.826Z"
   },
   {
    "duration": 429,
    "start_time": "2022-04-13T13:36:07.852Z"
   },
   {
    "duration": 349,
    "start_time": "2022-04-13T13:36:08.283Z"
   },
   {
    "duration": 337,
    "start_time": "2022-04-13T13:36:08.634Z"
   },
   {
    "duration": 7,
    "start_time": "2022-04-13T13:36:08.973Z"
   },
   {
    "duration": 294,
    "start_time": "2022-04-13T13:36:08.983Z"
   },
   {
    "duration": 236,
    "start_time": "2022-04-13T13:36:09.279Z"
   },
   {
    "duration": 7,
    "start_time": "2022-04-13T13:36:09.517Z"
   },
   {
    "duration": 1860,
    "start_time": "2022-04-13T13:36:09.526Z"
   },
   {
    "duration": 1937,
    "start_time": "2022-04-13T13:36:11.388Z"
   },
   {
    "duration": 245,
    "start_time": "2022-04-13T13:36:13.327Z"
   },
   {
    "duration": 19,
    "start_time": "2022-04-13T13:36:13.574Z"
   },
   {
    "duration": 80,
    "start_time": "2022-04-13T13:36:13.595Z"
   },
   {
    "duration": 244,
    "start_time": "2022-04-13T13:36:13.677Z"
   },
   {
    "duration": 70,
    "start_time": "2022-04-13T13:36:13.923Z"
   },
   {
    "duration": 273,
    "start_time": "2022-04-13T13:36:13.995Z"
   },
   {
    "duration": 47,
    "start_time": "2022-04-13T13:36:14.270Z"
   },
   {
    "duration": 550,
    "start_time": "2022-04-13T13:36:14.319Z"
   },
   {
    "duration": 10,
    "start_time": "2022-04-13T13:36:14.871Z"
   },
   {
    "duration": 8,
    "start_time": "2022-04-13T13:36:14.884Z"
   },
   {
    "duration": 12,
    "start_time": "2022-04-13T13:36:14.894Z"
   },
   {
    "duration": 45,
    "start_time": "2022-04-13T13:36:14.908Z"
   },
   {
    "duration": 24,
    "start_time": "2022-04-13T13:38:10.815Z"
   },
   {
    "duration": 23,
    "start_time": "2022-04-13T13:38:23.216Z"
   },
   {
    "duration": 379,
    "start_time": "2022-04-13T13:39:43.401Z"
   },
   {
    "duration": 132,
    "start_time": "2022-04-13T13:39:56.857Z"
   },
   {
    "duration": 451,
    "start_time": "2022-04-13T13:40:04.048Z"
   },
   {
    "duration": 307,
    "start_time": "2022-04-13T13:40:18.779Z"
   },
   {
    "duration": 448,
    "start_time": "2022-04-13T13:41:27.057Z"
   },
   {
    "duration": 266,
    "start_time": "2022-04-13T13:41:32.981Z"
   },
   {
    "duration": 812,
    "start_time": "2022-04-13T13:42:33.955Z"
   },
   {
    "duration": 54,
    "start_time": "2022-04-13T13:43:48.383Z"
   },
   {
    "duration": 781,
    "start_time": "2022-04-13T13:43:55.765Z"
   },
   {
    "duration": 828,
    "start_time": "2022-04-13T13:51:46.053Z"
   },
   {
    "duration": 274,
    "start_time": "2022-04-13T13:53:58.220Z"
   },
   {
    "duration": 20,
    "start_time": "2022-04-13T13:54:27.113Z"
   },
   {
    "duration": 59,
    "start_time": "2022-04-13T13:54:38.081Z"
   },
   {
    "duration": 19,
    "start_time": "2022-04-13T13:54:55.108Z"
   },
   {
    "duration": 58,
    "start_time": "2022-04-13T13:55:18.185Z"
   },
   {
    "duration": 19,
    "start_time": "2022-04-13T13:55:26.775Z"
   },
   {
    "duration": 56,
    "start_time": "2022-04-13T13:55:56.073Z"
   },
   {
    "duration": 803,
    "start_time": "2022-04-13T13:56:03.139Z"
   },
   {
    "duration": 53,
    "start_time": "2022-04-13T13:56:12.290Z"
   },
   {
    "duration": 55,
    "start_time": "2022-04-13T13:56:34.061Z"
   },
   {
    "duration": 926,
    "start_time": "2022-04-13T13:56:37.179Z"
   },
   {
    "duration": 791,
    "start_time": "2022-04-13T13:57:30.161Z"
   },
   {
    "duration": 54,
    "start_time": "2022-04-13T13:58:18.934Z"
   },
   {
    "duration": 817,
    "start_time": "2022-04-13T13:58:30.916Z"
   },
   {
    "duration": 19,
    "start_time": "2022-04-13T13:59:21.182Z"
   },
   {
    "duration": 770,
    "start_time": "2022-04-13T13:59:52.600Z"
   },
   {
    "duration": 55,
    "start_time": "2022-04-13T14:00:30.183Z"
   },
   {
    "duration": 770,
    "start_time": "2022-04-13T14:00:39.726Z"
   },
   {
    "duration": 46,
    "start_time": "2022-04-13T14:12:20.310Z"
   },
   {
    "duration": 467,
    "start_time": "2022-04-13T14:12:24.029Z"
   },
   {
    "duration": 16,
    "start_time": "2022-04-13T14:25:13.422Z"
   },
   {
    "duration": 8,
    "start_time": "2022-04-13T14:29:32.210Z"
   },
   {
    "duration": 10,
    "start_time": "2022-04-13T14:29:35.926Z"
   },
   {
    "duration": 9,
    "start_time": "2022-04-13T14:29:42.893Z"
   },
   {
    "duration": 9,
    "start_time": "2022-04-13T14:29:50.510Z"
   },
   {
    "duration": 10,
    "start_time": "2022-04-13T14:29:59.692Z"
   },
   {
    "duration": 9,
    "start_time": "2022-04-13T14:30:04.823Z"
   },
   {
    "duration": 1508,
    "start_time": "2022-04-13T14:34:51.744Z"
   },
   {
    "duration": 135,
    "start_time": "2022-04-13T14:34:53.254Z"
   },
   {
    "duration": 36,
    "start_time": "2022-04-13T14:34:53.391Z"
   },
   {
    "duration": 24,
    "start_time": "2022-04-13T14:34:53.428Z"
   },
   {
    "duration": 7,
    "start_time": "2022-04-13T14:34:53.455Z"
   },
   {
    "duration": 21,
    "start_time": "2022-04-13T14:34:53.464Z"
   },
   {
    "duration": 19,
    "start_time": "2022-04-13T14:34:53.487Z"
   },
   {
    "duration": 69,
    "start_time": "2022-04-13T14:34:53.508Z"
   },
   {
    "duration": 12,
    "start_time": "2022-04-13T14:34:53.579Z"
   },
   {
    "duration": 16,
    "start_time": "2022-04-13T14:34:53.594Z"
   },
   {
    "duration": 13,
    "start_time": "2022-04-13T14:34:53.613Z"
   },
   {
    "duration": 35,
    "start_time": "2022-04-13T14:34:53.653Z"
   },
   {
    "duration": 9,
    "start_time": "2022-04-13T14:34:53.690Z"
   },
   {
    "duration": 19,
    "start_time": "2022-04-13T14:34:53.703Z"
   },
   {
    "duration": 22,
    "start_time": "2022-04-13T14:34:53.724Z"
   },
   {
    "duration": 14,
    "start_time": "2022-04-13T14:34:53.752Z"
   },
   {
    "duration": 3,
    "start_time": "2022-04-13T14:34:53.768Z"
   },
   {
    "duration": 11,
    "start_time": "2022-04-13T14:34:53.773Z"
   },
   {
    "duration": 20,
    "start_time": "2022-04-13T14:34:53.787Z"
   },
   {
    "duration": 5,
    "start_time": "2022-04-13T14:34:53.809Z"
   },
   {
    "duration": 64,
    "start_time": "2022-04-13T14:34:53.816Z"
   },
   {
    "duration": 263,
    "start_time": "2022-04-13T14:34:53.882Z"
   },
   {
    "duration": 24,
    "start_time": "2022-04-13T14:34:54.151Z"
   },
   {
    "duration": 635,
    "start_time": "2022-04-13T14:34:54.177Z"
   },
   {
    "duration": 250,
    "start_time": "2022-04-13T14:34:54.815Z"
   },
   {
    "duration": 7,
    "start_time": "2022-04-13T14:34:55.068Z"
   },
   {
    "duration": 430,
    "start_time": "2022-04-13T14:34:55.077Z"
   },
   {
    "duration": 376,
    "start_time": "2022-04-13T14:34:55.510Z"
   },
   {
    "duration": 356,
    "start_time": "2022-04-13T14:34:55.888Z"
   },
   {
    "duration": 12,
    "start_time": "2022-04-13T14:34:56.247Z"
   },
   {
    "duration": 297,
    "start_time": "2022-04-13T14:34:56.261Z"
   },
   {
    "duration": 235,
    "start_time": "2022-04-13T14:34:56.561Z"
   },
   {
    "duration": 9,
    "start_time": "2022-04-13T14:34:56.798Z"
   },
   {
    "duration": 1883,
    "start_time": "2022-04-13T14:34:56.809Z"
   },
   {
    "duration": 2021,
    "start_time": "2022-04-13T14:34:58.695Z"
   },
   {
    "duration": 251,
    "start_time": "2022-04-13T14:35:00.719Z"
   },
   {
    "duration": 20,
    "start_time": "2022-04-13T14:35:00.973Z"
   },
   {
    "duration": 80,
    "start_time": "2022-04-13T14:35:00.996Z"
   },
   {
    "duration": 819,
    "start_time": "2022-04-13T14:35:01.079Z"
   },
   {
    "duration": 77,
    "start_time": "2022-04-13T14:35:01.901Z"
   },
   {
    "duration": 831,
    "start_time": "2022-04-13T14:35:01.985Z"
   },
   {
    "duration": 58,
    "start_time": "2022-04-13T14:35:02.819Z"
   },
   {
    "duration": 557,
    "start_time": "2022-04-13T14:35:02.880Z"
   },
   {
    "duration": 16,
    "start_time": "2022-04-13T14:35:03.439Z"
   },
   {
    "duration": 21,
    "start_time": "2022-04-13T14:35:03.458Z"
   },
   {
    "duration": 17,
    "start_time": "2022-04-13T14:35:03.482Z"
   },
   {
    "duration": 30,
    "start_time": "2022-04-13T14:35:03.502Z"
   },
   {
    "duration": 21,
    "start_time": "2022-04-13T14:35:03.534Z"
   },
   {
    "duration": 1548,
    "start_time": "2022-04-13T14:41:00.738Z"
   },
   {
    "duration": 339,
    "start_time": "2022-04-13T14:41:02.288Z"
   },
   {
    "duration": 35,
    "start_time": "2022-04-13T14:41:02.629Z"
   },
   {
    "duration": 12,
    "start_time": "2022-04-13T14:41:02.666Z"
   },
   {
    "duration": 16,
    "start_time": "2022-04-13T14:41:02.680Z"
   },
   {
    "duration": 25,
    "start_time": "2022-04-13T14:41:02.698Z"
   },
   {
    "duration": 34,
    "start_time": "2022-04-13T14:41:02.726Z"
   },
   {
    "duration": 31,
    "start_time": "2022-04-13T14:41:02.763Z"
   },
   {
    "duration": 15,
    "start_time": "2022-04-13T14:41:02.795Z"
   },
   {
    "duration": 39,
    "start_time": "2022-04-13T14:41:02.814Z"
   },
   {
    "duration": 13,
    "start_time": "2022-04-13T14:41:02.855Z"
   },
   {
    "duration": 36,
    "start_time": "2022-04-13T14:41:02.870Z"
   },
   {
    "duration": 10,
    "start_time": "2022-04-13T14:41:02.908Z"
   },
   {
    "duration": 33,
    "start_time": "2022-04-13T14:41:02.919Z"
   },
   {
    "duration": 6,
    "start_time": "2022-04-13T14:41:02.954Z"
   },
   {
    "duration": 18,
    "start_time": "2022-04-13T14:41:02.961Z"
   },
   {
    "duration": 3,
    "start_time": "2022-04-13T14:41:02.981Z"
   },
   {
    "duration": 10,
    "start_time": "2022-04-13T14:41:02.986Z"
   },
   {
    "duration": 20,
    "start_time": "2022-04-13T14:41:02.998Z"
   },
   {
    "duration": 6,
    "start_time": "2022-04-13T14:41:03.052Z"
   },
   {
    "duration": 32,
    "start_time": "2022-04-13T14:41:03.060Z"
   },
   {
    "duration": 283,
    "start_time": "2022-04-13T14:41:03.094Z"
   },
   {
    "duration": 26,
    "start_time": "2022-04-13T14:41:03.379Z"
   },
   {
    "duration": 653,
    "start_time": "2022-04-13T14:41:03.407Z"
   },
   {
    "duration": 263,
    "start_time": "2022-04-13T14:41:04.062Z"
   },
   {
    "duration": 8,
    "start_time": "2022-04-13T14:41:04.327Z"
   },
   {
    "duration": 463,
    "start_time": "2022-04-13T14:41:04.338Z"
   },
   {
    "duration": 347,
    "start_time": "2022-04-13T14:41:04.806Z"
   },
   {
    "duration": 343,
    "start_time": "2022-04-13T14:41:05.155Z"
   },
   {
    "duration": 8,
    "start_time": "2022-04-13T14:41:05.501Z"
   },
   {
    "duration": 307,
    "start_time": "2022-04-13T14:41:05.511Z"
   },
   {
    "duration": 235,
    "start_time": "2022-04-13T14:41:05.820Z"
   },
   {
    "duration": 9,
    "start_time": "2022-04-13T14:41:06.057Z"
   },
   {
    "duration": 1865,
    "start_time": "2022-04-13T14:41:06.069Z"
   },
   {
    "duration": 1956,
    "start_time": "2022-04-13T14:41:07.936Z"
   },
   {
    "duration": 252,
    "start_time": "2022-04-13T14:41:09.894Z"
   },
   {
    "duration": 20,
    "start_time": "2022-04-13T14:41:10.152Z"
   },
   {
    "duration": 87,
    "start_time": "2022-04-13T14:41:10.174Z"
   },
   {
    "duration": 798,
    "start_time": "2022-04-13T14:41:10.263Z"
   },
   {
    "duration": 53,
    "start_time": "2022-04-13T14:41:11.063Z"
   },
   {
    "duration": 837,
    "start_time": "2022-04-13T14:41:11.118Z"
   },
   {
    "duration": 48,
    "start_time": "2022-04-13T14:41:11.958Z"
   },
   {
    "duration": 618,
    "start_time": "2022-04-13T14:41:12.009Z"
   },
   {
    "duration": 8,
    "start_time": "2022-04-13T14:41:12.630Z"
   },
   {
    "duration": 11,
    "start_time": "2022-04-13T14:41:12.653Z"
   },
   {
    "duration": 23,
    "start_time": "2022-04-13T14:41:12.667Z"
   },
   {
    "duration": 30,
    "start_time": "2022-04-13T14:41:12.692Z"
   },
   {
    "duration": 16,
    "start_time": "2022-04-13T14:41:12.725Z"
   },
   {
    "duration": 1270,
    "start_time": "2022-04-14T14:23:23.209Z"
   },
   {
    "duration": 200,
    "start_time": "2022-04-14T14:23:24.481Z"
   },
   {
    "duration": 22,
    "start_time": "2022-04-14T14:23:24.683Z"
   },
   {
    "duration": 3,
    "start_time": "2022-04-14T14:23:24.707Z"
   },
   {
    "duration": 9,
    "start_time": "2022-04-14T14:23:24.712Z"
   },
   {
    "duration": 14,
    "start_time": "2022-04-14T14:23:24.723Z"
   },
   {
    "duration": 12,
    "start_time": "2022-04-14T14:23:24.739Z"
   },
   {
    "duration": 18,
    "start_time": "2022-04-14T14:23:24.752Z"
   },
   {
    "duration": 30,
    "start_time": "2022-04-14T14:23:24.771Z"
   },
   {
    "duration": 6,
    "start_time": "2022-04-14T14:23:24.803Z"
   },
   {
    "duration": 10,
    "start_time": "2022-04-14T14:23:24.810Z"
   },
   {
    "duration": 22,
    "start_time": "2022-04-14T14:23:24.821Z"
   },
   {
    "duration": 7,
    "start_time": "2022-04-14T14:23:24.844Z"
   },
   {
    "duration": 6,
    "start_time": "2022-04-14T14:23:24.853Z"
   },
   {
    "duration": 5,
    "start_time": "2022-04-14T14:23:24.860Z"
   },
   {
    "duration": 34,
    "start_time": "2022-04-14T14:23:24.866Z"
   },
   {
    "duration": 2,
    "start_time": "2022-04-14T14:23:24.901Z"
   },
   {
    "duration": 8,
    "start_time": "2022-04-14T14:23:24.905Z"
   },
   {
    "duration": 9,
    "start_time": "2022-04-14T14:23:24.914Z"
   },
   {
    "duration": 12,
    "start_time": "2022-04-14T14:23:24.924Z"
   },
   {
    "duration": 3,
    "start_time": "2022-04-14T14:23:24.938Z"
   },
   {
    "duration": 20,
    "start_time": "2022-04-14T14:23:24.943Z"
   },
   {
    "duration": 162,
    "start_time": "2022-04-14T14:23:24.965Z"
   },
   {
    "duration": 16,
    "start_time": "2022-04-14T14:23:25.129Z"
   },
   {
    "duration": 367,
    "start_time": "2022-04-14T14:23:25.146Z"
   },
   {
    "duration": 143,
    "start_time": "2022-04-14T14:23:25.514Z"
   },
   {
    "duration": 5,
    "start_time": "2022-04-14T14:23:25.658Z"
   },
   {
    "duration": 233,
    "start_time": "2022-04-14T14:23:25.667Z"
   },
   {
    "duration": 199,
    "start_time": "2022-04-14T14:23:25.901Z"
   },
   {
    "duration": 191,
    "start_time": "2022-04-14T14:23:26.101Z"
   },
   {
    "duration": 10,
    "start_time": "2022-04-14T14:23:26.293Z"
   },
   {
    "duration": 178,
    "start_time": "2022-04-14T14:23:26.304Z"
   },
   {
    "duration": 128,
    "start_time": "2022-04-14T14:23:26.484Z"
   },
   {
    "duration": 5,
    "start_time": "2022-04-14T14:23:26.614Z"
   },
   {
    "duration": 995,
    "start_time": "2022-04-14T14:23:26.621Z"
   },
   {
    "duration": 1092,
    "start_time": "2022-04-14T14:23:27.618Z"
   },
   {
    "duration": 142,
    "start_time": "2022-04-14T14:23:28.713Z"
   },
   {
    "duration": 13,
    "start_time": "2022-04-14T14:23:28.857Z"
   },
   {
    "duration": 48,
    "start_time": "2022-04-14T14:23:28.872Z"
   },
   {
    "duration": 445,
    "start_time": "2022-04-14T14:23:28.922Z"
   },
   {
    "duration": 53,
    "start_time": "2022-04-14T14:23:29.368Z"
   },
   {
    "duration": 427,
    "start_time": "2022-04-14T14:23:29.423Z"
   },
   {
    "duration": 30,
    "start_time": "2022-04-14T14:23:29.852Z"
   },
   {
    "duration": 426,
    "start_time": "2022-04-14T14:23:29.883Z"
   },
   {
    "duration": 5,
    "start_time": "2022-04-14T14:23:30.310Z"
   },
   {
    "duration": 11,
    "start_time": "2022-04-14T14:23:30.317Z"
   },
   {
    "duration": 11,
    "start_time": "2022-04-14T14:23:30.329Z"
   },
   {
    "duration": 10,
    "start_time": "2022-04-14T14:23:30.341Z"
   },
   {
    "duration": 15,
    "start_time": "2022-04-14T14:23:30.353Z"
   },
   {
    "duration": 3,
    "start_time": "2022-04-14T14:25:40.492Z"
   },
   {
    "duration": 203,
    "start_time": "2022-04-14T14:25:40.497Z"
   },
   {
    "duration": 18,
    "start_time": "2022-04-14T14:25:40.702Z"
   },
   {
    "duration": 6,
    "start_time": "2022-04-14T14:25:40.722Z"
   },
   {
    "duration": 5,
    "start_time": "2022-04-14T14:25:40.729Z"
   },
   {
    "duration": 12,
    "start_time": "2022-04-14T14:25:40.736Z"
   },
   {
    "duration": 11,
    "start_time": "2022-04-14T14:25:40.750Z"
   },
   {
    "duration": 38,
    "start_time": "2022-04-14T14:25:40.762Z"
   },
   {
    "duration": 102,
    "start_time": "2022-04-14T14:25:40.802Z"
   },
   {
    "duration": 8,
    "start_time": "2022-04-14T14:25:40.905Z"
   },
   {
    "duration": 8,
    "start_time": "2022-04-14T14:25:40.914Z"
   },
   {
    "duration": 21,
    "start_time": "2022-04-14T14:25:40.923Z"
   },
   {
    "duration": 6,
    "start_time": "2022-04-14T14:25:40.945Z"
   },
   {
    "duration": 4,
    "start_time": "2022-04-14T14:25:40.952Z"
   },
   {
    "duration": 4,
    "start_time": "2022-04-14T14:25:40.958Z"
   },
   {
    "duration": 12,
    "start_time": "2022-04-14T14:25:40.963Z"
   },
   {
    "duration": 3,
    "start_time": "2022-04-14T14:25:41.000Z"
   },
   {
    "duration": 8,
    "start_time": "2022-04-14T14:25:41.004Z"
   },
   {
    "duration": 8,
    "start_time": "2022-04-14T14:25:41.013Z"
   },
   {
    "duration": 12,
    "start_time": "2022-04-14T14:25:41.022Z"
   },
   {
    "duration": 4,
    "start_time": "2022-04-14T14:25:41.035Z"
   },
   {
    "duration": 19,
    "start_time": "2022-04-14T14:25:41.040Z"
   },
   {
    "duration": 153,
    "start_time": "2022-04-14T14:25:41.061Z"
   },
   {
    "duration": 16,
    "start_time": "2022-04-14T14:25:41.218Z"
   },
   {
    "duration": 334,
    "start_time": "2022-04-14T14:25:41.235Z"
   },
   {
    "duration": 159,
    "start_time": "2022-04-14T14:25:41.571Z"
   },
   {
    "duration": 5,
    "start_time": "2022-04-14T14:25:41.732Z"
   },
   {
    "duration": 232,
    "start_time": "2022-04-14T14:25:41.738Z"
   },
   {
    "duration": 191,
    "start_time": "2022-04-14T14:25:41.971Z"
   },
   {
    "duration": 190,
    "start_time": "2022-04-14T14:25:42.163Z"
   },
   {
    "duration": 5,
    "start_time": "2022-04-14T14:25:42.355Z"
   },
   {
    "duration": 126,
    "start_time": "2022-04-14T14:25:42.361Z"
   },
   {
    "duration": 132,
    "start_time": "2022-04-14T14:25:42.488Z"
   },
   {
    "duration": 6,
    "start_time": "2022-04-14T14:25:42.621Z"
   },
   {
    "duration": 1209,
    "start_time": "2022-04-14T14:25:42.628Z"
   },
   {
    "duration": 1045,
    "start_time": "2022-04-14T14:25:43.839Z"
   },
   {
    "duration": 219,
    "start_time": "2022-04-14T14:25:44.886Z"
   },
   {
    "duration": 16,
    "start_time": "2022-04-14T14:25:45.107Z"
   },
   {
    "duration": 59,
    "start_time": "2022-04-14T14:25:45.125Z"
   },
   {
    "duration": 584,
    "start_time": "2022-04-14T14:25:45.201Z"
   },
   {
    "duration": 41,
    "start_time": "2022-04-14T14:25:45.787Z"
   },
   {
    "duration": 520,
    "start_time": "2022-04-14T14:25:45.830Z"
   },
   {
    "duration": 35,
    "start_time": "2022-04-14T14:25:46.352Z"
   },
   {
    "duration": 368,
    "start_time": "2022-04-14T14:25:46.389Z"
   },
   {
    "duration": 5,
    "start_time": "2022-04-14T14:25:46.759Z"
   },
   {
    "duration": 9,
    "start_time": "2022-04-14T14:25:46.766Z"
   },
   {
    "duration": 9,
    "start_time": "2022-04-14T14:25:46.776Z"
   },
   {
    "duration": 22,
    "start_time": "2022-04-14T14:25:46.786Z"
   },
   {
    "duration": 5,
    "start_time": "2022-04-14T14:25:46.810Z"
   },
   {
    "duration": 1166,
    "start_time": "2022-04-14T14:30:28.511Z"
   },
   {
    "duration": 179,
    "start_time": "2022-04-14T14:30:29.678Z"
   },
   {
    "duration": 31,
    "start_time": "2022-04-14T14:30:29.859Z"
   },
   {
    "duration": 4,
    "start_time": "2022-04-14T14:30:29.892Z"
   },
   {
    "duration": 7,
    "start_time": "2022-04-14T14:30:29.897Z"
   },
   {
    "duration": 15,
    "start_time": "2022-04-14T14:30:29.906Z"
   },
   {
    "duration": 11,
    "start_time": "2022-04-14T14:30:29.923Z"
   },
   {
    "duration": 18,
    "start_time": "2022-04-14T14:30:29.936Z"
   },
   {
    "duration": 5,
    "start_time": "2022-04-14T14:30:29.955Z"
   },
   {
    "duration": 6,
    "start_time": "2022-04-14T14:30:29.963Z"
   },
   {
    "duration": 31,
    "start_time": "2022-04-14T14:30:29.970Z"
   },
   {
    "duration": 26,
    "start_time": "2022-04-14T14:30:30.003Z"
   },
   {
    "duration": 6,
    "start_time": "2022-04-14T14:30:30.031Z"
   },
   {
    "duration": 7,
    "start_time": "2022-04-14T14:30:30.039Z"
   },
   {
    "duration": 8,
    "start_time": "2022-04-14T14:30:30.047Z"
   },
   {
    "duration": 23,
    "start_time": "2022-04-14T14:30:30.057Z"
   },
   {
    "duration": 2,
    "start_time": "2022-04-14T14:30:30.081Z"
   },
   {
    "duration": 16,
    "start_time": "2022-04-14T14:30:30.085Z"
   },
   {
    "duration": 13,
    "start_time": "2022-04-14T14:30:30.102Z"
   },
   {
    "duration": 14,
    "start_time": "2022-04-14T14:30:30.116Z"
   },
   {
    "duration": 4,
    "start_time": "2022-04-14T14:30:30.131Z"
   },
   {
    "duration": 21,
    "start_time": "2022-04-14T14:30:30.136Z"
   },
   {
    "duration": 160,
    "start_time": "2022-04-14T14:30:30.159Z"
   },
   {
    "duration": 17,
    "start_time": "2022-04-14T14:30:30.321Z"
   },
   {
    "duration": 370,
    "start_time": "2022-04-14T14:30:30.339Z"
   },
   {
    "duration": 159,
    "start_time": "2022-04-14T14:30:30.711Z"
   },
   {
    "duration": 5,
    "start_time": "2022-04-14T14:30:30.872Z"
   },
   {
    "duration": 241,
    "start_time": "2022-04-14T14:30:30.881Z"
   },
   {
    "duration": 197,
    "start_time": "2022-04-14T14:30:31.124Z"
   },
   {
    "duration": 193,
    "start_time": "2022-04-14T14:30:31.322Z"
   },
   {
    "duration": 5,
    "start_time": "2022-04-14T14:30:31.516Z"
   },
   {
    "duration": 199,
    "start_time": "2022-04-14T14:30:31.523Z"
   },
   {
    "duration": 137,
    "start_time": "2022-04-14T14:30:31.724Z"
   },
   {
    "duration": 7,
    "start_time": "2022-04-14T14:30:31.862Z"
   },
   {
    "duration": 1052,
    "start_time": "2022-04-14T14:30:31.871Z"
   },
   {
    "duration": 1081,
    "start_time": "2022-04-14T14:30:32.924Z"
   },
   {
    "duration": 134,
    "start_time": "2022-04-14T14:30:34.006Z"
   },
   {
    "duration": 11,
    "start_time": "2022-04-14T14:30:34.142Z"
   },
   {
    "duration": 47,
    "start_time": "2022-04-14T14:30:34.155Z"
   },
   {
    "duration": 427,
    "start_time": "2022-04-14T14:30:34.203Z"
   },
   {
    "duration": 32,
    "start_time": "2022-04-14T14:30:34.631Z"
   },
   {
    "duration": 468,
    "start_time": "2022-04-14T14:30:34.665Z"
   },
   {
    "duration": 31,
    "start_time": "2022-04-14T14:30:35.134Z"
   },
   {
    "duration": 383,
    "start_time": "2022-04-14T14:30:35.166Z"
   },
   {
    "duration": 5,
    "start_time": "2022-04-14T14:30:35.551Z"
   },
   {
    "duration": 11,
    "start_time": "2022-04-14T14:30:35.557Z"
   },
   {
    "duration": 7,
    "start_time": "2022-04-14T14:30:35.570Z"
   },
   {
    "duration": 23,
    "start_time": "2022-04-14T14:30:35.578Z"
   },
   {
    "duration": 7,
    "start_time": "2022-04-14T14:30:35.603Z"
   }
  ],
  "kernelspec": {
   "display_name": "Python 3 (ipykernel)",
   "language": "python",
   "name": "python3"
  },
  "language_info": {
   "codemirror_mode": {
    "name": "ipython",
    "version": 3
   },
   "file_extension": ".py",
   "mimetype": "text/x-python",
   "name": "python",
   "nbconvert_exporter": "python",
   "pygments_lexer": "ipython3",
   "version": "3.9.12"
  },
  "toc": {
   "base_numbering": 1,
   "nav_menu": {},
   "number_sections": true,
   "sideBar": true,
   "skip_h1_title": true,
   "title_cell": "Table of Contents",
   "title_sidebar": "Contents",
   "toc_cell": false,
   "toc_position": {},
   "toc_section_display": true,
   "toc_window_display": false
  }
 },
 "nbformat": 4,
 "nbformat_minor": 2
}
